{
 "cells": [
  {
   "cell_type": "code",
   "execution_count": 1,
   "metadata": {},
   "outputs": [],
   "source": [
    "import numpy as np\n",
    "import pandas as pd\n",
    "\n",
    "import seaborn as sns\n",
    "import matplotlib.pyplot as plt\n",
    "\n",
    "import os,sys,inspect\n",
    "import gc\n",
    "from tqdm import tqdm\n",
    "import random\n",
    "\n",
    "import warnings\n",
    "warnings.filterwarnings('ignore')"
   ]
  },
  {
   "cell_type": "code",
   "execution_count": 2,
   "metadata": {},
   "outputs": [],
   "source": [
    "from tensorflow import keras\n",
    "import tensorflow as tf\n",
    "from tensorflow.keras import optimizers, callbacks, layers, losses\n",
    "from tensorflow.keras.layers import Dense, Concatenate, Activation, Add, BatchNormalization, Dropout, Input, Embedding, Flatten, Multiply\n",
    "from tensorflow.keras.models import Model, Sequential, load_model\n",
    "from tensorflow.keras.regularizers import l2\n",
    "from tensorflow.keras.utils import to_categorical\n",
    "\n",
    "SEED = 42\n",
    "np.random.seed(SEED)\n",
    "tf.random.set_seed(SEED)\n",
    "os.environ['PYTHONHASHSEED']=str(SEED)\n",
    "random.seed(SEED)\n",
    "gpus = tf.config.experimental.list_physical_devices('GPU')\n",
    "\n",
    "if gpus:\n",
    "    try:\n",
    "        tf.config.experimental.set_memory_growth(gpus[0], True)\n",
    "    except RuntimeError as e:\n",
    "        # 프로그램 시작시에 메모리 증가가 설정되어야만 합니다\n",
    "        print(e)\n",
    "        \n",
    "def mish(x):\n",
    "    return x*tf.math.tanh(tf.math.softplus(x))\n",
    "\n",
    "def leakyrelu(x, factor=0.2):\n",
    "    return tf.maximum(x, factor*x)"
   ]
  },
  {
   "cell_type": "code",
   "execution_count": 3,
   "metadata": {},
   "outputs": [
    {
     "data": {
      "text/html": [
       "<div>\n",
       "<style scoped>\n",
       "    .dataframe tbody tr th:only-of-type {\n",
       "        vertical-align: middle;\n",
       "    }\n",
       "\n",
       "    .dataframe tbody tr th {\n",
       "        vertical-align: top;\n",
       "    }\n",
       "\n",
       "    .dataframe thead th {\n",
       "        text-align: right;\n",
       "    }\n",
       "</style>\n",
       "<table border=\"1\" class=\"dataframe\">\n",
       "  <thead>\n",
       "    <tr style=\"text-align: right;\">\n",
       "      <th></th>\n",
       "      <th>userID</th>\n",
       "      <th>jobID</th>\n",
       "      <th>applied</th>\n",
       "    </tr>\n",
       "  </thead>\n",
       "  <tbody>\n",
       "    <tr>\n",
       "      <th>0</th>\n",
       "      <td>fe292163d06253b716e9a0099b42031d</td>\n",
       "      <td>15de21c670ae7c3f6f3f1f37029303c9</td>\n",
       "      <td>0</td>\n",
       "    </tr>\n",
       "    <tr>\n",
       "      <th>1</th>\n",
       "      <td>6377fa90618fae77571e8dc90d98d409</td>\n",
       "      <td>55b37c5c270e5d84c793e486d798c01d</td>\n",
       "      <td>0</td>\n",
       "    </tr>\n",
       "    <tr>\n",
       "      <th>2</th>\n",
       "      <td>8ec0888a5b04139be0dfe942c7eb4199</td>\n",
       "      <td>0fcbc61acd0479dc77e3cccc0f5ffca7</td>\n",
       "      <td>1</td>\n",
       "    </tr>\n",
       "    <tr>\n",
       "      <th>3</th>\n",
       "      <td>f862b39f767d3a1991bdeb2ea1401c9c</td>\n",
       "      <td>3b5dca501ee1e6d8cd7b905f4e1bf723</td>\n",
       "      <td>0</td>\n",
       "    </tr>\n",
       "    <tr>\n",
       "      <th>4</th>\n",
       "      <td>cac14930c65d72c16efac2c51a6b7f71</td>\n",
       "      <td>287e03db1d99e0ec2edb90d079e142f3</td>\n",
       "      <td>0</td>\n",
       "    </tr>\n",
       "    <tr>\n",
       "      <th>...</th>\n",
       "      <td>...</td>\n",
       "      <td>...</td>\n",
       "      <td>...</td>\n",
       "    </tr>\n",
       "    <tr>\n",
       "      <th>5995</th>\n",
       "      <td>68cb94b97d00979f4e8127915885b641</td>\n",
       "      <td>b9228e0962a78b84f3d5d92f4faa000b</td>\n",
       "      <td>0</td>\n",
       "    </tr>\n",
       "    <tr>\n",
       "      <th>5996</th>\n",
       "      <td>c0b199d73bdf390c2f4c3150b6ee1574</td>\n",
       "      <td>e3796ae838835da0b6f6ea37bcf8bcb7</td>\n",
       "      <td>0</td>\n",
       "    </tr>\n",
       "    <tr>\n",
       "      <th>5997</th>\n",
       "      <td>3ab88dd28f749fe4ec90c0b6f9896eb5</td>\n",
       "      <td>e2a2dcc36a08a345332c751b2f2e476c</td>\n",
       "      <td>0</td>\n",
       "    </tr>\n",
       "    <tr>\n",
       "      <th>5998</th>\n",
       "      <td>75b4af0dacbc119eadf4eeb096738405</td>\n",
       "      <td>3b712de48137572f3849aabd5666a4e3</td>\n",
       "      <td>0</td>\n",
       "    </tr>\n",
       "    <tr>\n",
       "      <th>5999</th>\n",
       "      <td>67adefb430df142b099bed89bd491524</td>\n",
       "      <td>65cc2c8205a05d7379fa3a6386f710e1</td>\n",
       "      <td>0</td>\n",
       "    </tr>\n",
       "  </tbody>\n",
       "</table>\n",
       "<p>6000 rows × 3 columns</p>\n",
       "</div>"
      ],
      "text/plain": [
       "                                userID                             jobID  \\\n",
       "0     fe292163d06253b716e9a0099b42031d  15de21c670ae7c3f6f3f1f37029303c9   \n",
       "1     6377fa90618fae77571e8dc90d98d409  55b37c5c270e5d84c793e486d798c01d   \n",
       "2     8ec0888a5b04139be0dfe942c7eb4199  0fcbc61acd0479dc77e3cccc0f5ffca7   \n",
       "3     f862b39f767d3a1991bdeb2ea1401c9c  3b5dca501ee1e6d8cd7b905f4e1bf723   \n",
       "4     cac14930c65d72c16efac2c51a6b7f71  287e03db1d99e0ec2edb90d079e142f3   \n",
       "...                                ...                               ...   \n",
       "5995  68cb94b97d00979f4e8127915885b641  b9228e0962a78b84f3d5d92f4faa000b   \n",
       "5996  c0b199d73bdf390c2f4c3150b6ee1574  e3796ae838835da0b6f6ea37bcf8bcb7   \n",
       "5997  3ab88dd28f749fe4ec90c0b6f9896eb5  e2a2dcc36a08a345332c751b2f2e476c   \n",
       "5998  75b4af0dacbc119eadf4eeb096738405  3b712de48137572f3849aabd5666a4e3   \n",
       "5999  67adefb430df142b099bed89bd491524  65cc2c8205a05d7379fa3a6386f710e1   \n",
       "\n",
       "      applied  \n",
       "0           0  \n",
       "1           0  \n",
       "2           1  \n",
       "3           0  \n",
       "4           0  \n",
       "...       ...  \n",
       "5995        0  \n",
       "5996        0  \n",
       "5997        0  \n",
       "5998        0  \n",
       "5999        0  \n",
       "\n",
       "[6000 rows x 3 columns]"
      ]
     },
     "execution_count": 3,
     "metadata": {},
     "output_type": "execute_result"
    }
   ],
   "source": [
    "train = pd.read_csv('./data/train.csv')\n",
    "test = pd.read_csv('./data/test_job.csv')\n",
    "sub = pd.read_csv('./data/sample_output_job.csv')\n",
    "train"
   ]
  },
  {
   "cell_type": "code",
   "execution_count": 4,
   "metadata": {},
   "outputs": [
    {
     "data": {
      "text/plain": [
       "LabelEncoder()"
      ]
     },
     "execution_count": 4,
     "metadata": {},
     "output_type": "execute_result"
    }
   ],
   "source": [
    "from sklearn.preprocessing import LabelEncoder\n",
    "\n",
    "user_lbe = LabelEncoder()\n",
    "\n",
    "user_lbe.fit(train['userID'])"
   ]
  },
  {
   "cell_type": "code",
   "execution_count": 5,
   "metadata": {},
   "outputs": [
    {
     "data": {
      "text/html": [
       "<div>\n",
       "<style scoped>\n",
       "    .dataframe tbody tr th:only-of-type {\n",
       "        vertical-align: middle;\n",
       "    }\n",
       "\n",
       "    .dataframe tbody tr th {\n",
       "        vertical-align: top;\n",
       "    }\n",
       "\n",
       "    .dataframe thead th {\n",
       "        text-align: right;\n",
       "    }\n",
       "</style>\n",
       "<table border=\"1\" class=\"dataframe\">\n",
       "  <thead>\n",
       "    <tr style=\"text-align: right;\">\n",
       "      <th></th>\n",
       "      <th>userID</th>\n",
       "      <th>jobID</th>\n",
       "      <th>applied</th>\n",
       "    </tr>\n",
       "  </thead>\n",
       "  <tbody>\n",
       "    <tr>\n",
       "      <th>0</th>\n",
       "      <td>195</td>\n",
       "      <td>52</td>\n",
       "      <td>0</td>\n",
       "    </tr>\n",
       "    <tr>\n",
       "      <th>1</th>\n",
       "      <td>64</td>\n",
       "      <td>245</td>\n",
       "      <td>0</td>\n",
       "    </tr>\n",
       "    <tr>\n",
       "      <th>2</th>\n",
       "      <td>111</td>\n",
       "      <td>35</td>\n",
       "      <td>1</td>\n",
       "    </tr>\n",
       "    <tr>\n",
       "      <th>3</th>\n",
       "      <td>190</td>\n",
       "      <td>177</td>\n",
       "      <td>0</td>\n",
       "    </tr>\n",
       "    <tr>\n",
       "      <th>4</th>\n",
       "      <td>159</td>\n",
       "      <td>117</td>\n",
       "      <td>0</td>\n",
       "    </tr>\n",
       "    <tr>\n",
       "      <th>...</th>\n",
       "      <td>...</td>\n",
       "      <td>...</td>\n",
       "      <td>...</td>\n",
       "    </tr>\n",
       "    <tr>\n",
       "      <th>5995</th>\n",
       "      <td>71</td>\n",
       "      <td>526</td>\n",
       "      <td>0</td>\n",
       "    </tr>\n",
       "    <tr>\n",
       "      <th>5996</th>\n",
       "      <td>154</td>\n",
       "      <td>650</td>\n",
       "      <td>0</td>\n",
       "    </tr>\n",
       "    <tr>\n",
       "      <th>5997</th>\n",
       "      <td>35</td>\n",
       "      <td>648</td>\n",
       "      <td>0</td>\n",
       "    </tr>\n",
       "    <tr>\n",
       "      <th>5998</th>\n",
       "      <td>83</td>\n",
       "      <td>178</td>\n",
       "      <td>0</td>\n",
       "    </tr>\n",
       "    <tr>\n",
       "      <th>5999</th>\n",
       "      <td>67</td>\n",
       "      <td>276</td>\n",
       "      <td>0</td>\n",
       "    </tr>\n",
       "  </tbody>\n",
       "</table>\n",
       "<p>6000 rows × 3 columns</p>\n",
       "</div>"
      ],
      "text/plain": [
       "      userID  jobID  applied\n",
       "0        195     52        0\n",
       "1         64    245        0\n",
       "2        111     35        1\n",
       "3        190    177        0\n",
       "4        159    117        0\n",
       "...      ...    ...      ...\n",
       "5995      71    526        0\n",
       "5996     154    650        0\n",
       "5997      35    648        0\n",
       "5998      83    178        0\n",
       "5999      67    276        0\n",
       "\n",
       "[6000 rows x 3 columns]"
      ]
     },
     "execution_count": 5,
     "metadata": {},
     "output_type": "execute_result"
    }
   ],
   "source": [
    "train['userID'] = user_lbe.transform(train['userID'])\n",
    "test['userID'] = user_lbe.transform(test['userID'])\n",
    "\n",
    "tag = pd.read_csv('./data/tags.csv')\n",
    "tag_lbe = LabelEncoder()\n",
    "tag['tagID'] = tag_lbe.fit_transform(tag['tagID'])\n",
    "\n",
    "job_tag = pd.read_csv('./data/job_tags.csv')\n",
    "job_lbe = LabelEncoder()\n",
    "\n",
    "job_tag['jobID'] = job_lbe.fit_transform(job_tag['jobID'])\n",
    "job_tag['tagID'] = tag_lbe.transform(job_tag['tagID'])\n",
    "train['jobID'] = job_lbe.transform(train['jobID'])\n",
    "test['jobID'] = job_lbe.transform(test['jobID'])\n",
    "\n",
    "user_tag = pd.read_csv('./data/user_tags.csv')\n",
    "user_tag['userID'] = user_lbe.transform(user_tag['userID'])\n",
    "user_tag['tagID'] = tag_lbe.transform(user_tag['tagID'])\n",
    "\n",
    "job_comp = pd.read_csv('./data/job_companies.csv')\n",
    "comp_lbe = LabelEncoder()\n",
    "comp_lbe.fit(job_comp['companyID'])\n",
    "job_comp['companyID'] = comp_lbe.transform(job_comp['companyID'])\n",
    "job_comp['jobID'] = job_lbe.transform(job_comp['jobID'])\n",
    "\n",
    "train"
   ]
  },
  {
   "cell_type": "code",
   "execution_count": null,
   "metadata": {},
   "outputs": [],
   "source": []
  },
  {
   "cell_type": "code",
   "execution_count": 6,
   "metadata": {},
   "outputs": [],
   "source": [
    "def jaccard(true, pred):\n",
    "    union = set(true).union(set(pred))\n",
    "    inter = set(true).intersection(set(pred))\n",
    "    return len(inter)/len(union)"
   ]
  },
  {
   "cell_type": "code",
   "execution_count": 7,
   "metadata": {},
   "outputs": [],
   "source": [
    "jac = []\n",
    "for i in range(len(train)):\n",
    "    u = train.values[i][0]\n",
    "    j = train.values[i][1]\n",
    "    score = jaccard(np.unique(user_tag[user_tag['userID']==u].values), job_tag[job_tag['jobID']==j]['tagID'].values)\n",
    "    jac.append(score)\n",
    "    \n",
    "train['jac'] = jac"
   ]
  },
  {
   "cell_type": "code",
   "execution_count": 8,
   "metadata": {},
   "outputs": [],
   "source": [
    "jac = []\n",
    "for i in range(len(test)):\n",
    "    u = test.values[i][0]\n",
    "    j = test.values[i][1]\n",
    "    score = jaccard(np.unique(user_tag[user_tag['userID']==u].values), job_tag[job_tag['jobID']==j]['tagID'].values)\n",
    "    jac.append(score)\n",
    "    \n",
    "test['jac'] = jac"
   ]
  },
  {
   "cell_type": "code",
   "execution_count": null,
   "metadata": {},
   "outputs": [],
   "source": []
  },
  {
   "cell_type": "code",
   "execution_count": null,
   "metadata": {},
   "outputs": [],
   "source": []
  },
  {
   "cell_type": "code",
   "execution_count": 9,
   "metadata": {},
   "outputs": [],
   "source": [
    "jobs = []\n",
    "tags = []\n",
    "\n",
    "jid= job_tag['jobID'].unique()\n",
    "\n",
    "for j in jid:\n",
    "    one_j = job_tag[job_tag['jobID']==j]\n",
    "    if len(one_j) > 1:\n",
    "        jobs.append(j)\n",
    "        tags.append(list(one_j['tagID'].values))\n",
    "#     break"
   ]
  },
  {
   "cell_type": "code",
   "execution_count": 10,
   "metadata": {},
   "outputs": [],
   "source": [
    "import gensim"
   ]
  },
  {
   "cell_type": "code",
   "execution_count": 11,
   "metadata": {},
   "outputs": [],
   "source": [
    "Word2Vec = gensim.models.Word2Vec"
   ]
  },
  {
   "cell_type": "code",
   "execution_count": 12,
   "metadata": {
    "scrolled": true
   },
   "outputs": [],
   "source": [
    "w2v = Word2Vec(\n",
    "      np.array(tags),\n",
    "      vector_size = 32,\n",
    "      window=10,\n",
    "      min_count=1,\n",
    "      sg=1,\n",
    "      negative=20)"
   ]
  },
  {
   "cell_type": "code",
   "execution_count": 13,
   "metadata": {},
   "outputs": [],
   "source": [
    "w2v.build_vocab(np.array(tags))"
   ]
  },
  {
   "cell_type": "code",
   "execution_count": 14,
   "metadata": {},
   "outputs": [
    {
     "data": {
      "text/plain": [
       "(141572, 344600)"
      ]
     },
     "execution_count": 14,
     "metadata": {},
     "output_type": "execute_result"
    }
   ],
   "source": [
    "w2v.train(np.array(tags),\n",
    "         total_examples = w2v.corpus_count,\n",
    "         epochs=100,\n",
    "         compute_loss=True)"
   ]
  },
  {
   "cell_type": "code",
   "execution_count": null,
   "metadata": {},
   "outputs": [],
   "source": []
  },
  {
   "cell_type": "code",
   "execution_count": 15,
   "metadata": {},
   "outputs": [
    {
     "data": {
      "text/plain": [
       "(240, 32)"
      ]
     },
     "execution_count": 15,
     "metadata": {},
     "output_type": "execute_result"
    }
   ],
   "source": [
    "embedding_matrix = w2v.wv[w2v.wv.key_to_index.keys()]\n",
    "embedding_matrix.shape"
   ]
  },
  {
   "cell_type": "code",
   "execution_count": 16,
   "metadata": {},
   "outputs": [
    {
     "data": {
      "text/plain": [
       "array([[-0.5029302 , -0.46807966,  0.36893418, ..., -0.4141846 ,\n",
       "        -1.0150032 ,  0.09512324],\n",
       "       [-0.33069316, -0.19277354,  0.36678764, ..., -0.2940389 ,\n",
       "        -0.55227745,  0.16863441],\n",
       "       [-0.33309913, -0.91207916, -0.03739739, ..., -0.05271877,\n",
       "        -1.0511299 ,  0.25219604],\n",
       "       ...,\n",
       "       [-0.13066268, -0.16798045,  0.26332527, ..., -0.0334536 ,\n",
       "        -0.68267393,  0.37820774],\n",
       "       [-0.32021567, -0.48293287,  1.0351163 , ..., -0.5029538 ,\n",
       "        -0.51693475, -0.45450923],\n",
       "       [-0.09783003, -0.23087727,  0.20971908, ..., -0.02187978,\n",
       "        -0.36080122,  0.23990817]], dtype=float32)"
      ]
     },
     "execution_count": 16,
     "metadata": {},
     "output_type": "execute_result"
    }
   ],
   "source": [
    "embedding_matrix"
   ]
  },
  {
   "cell_type": "code",
   "execution_count": 17,
   "metadata": {},
   "outputs": [],
   "source": [
    "uid = train['userID'].unique()\n",
    "tid = job_tag['tagID'].unique()\n",
    "\n",
    "tr_j_tag =  []\n",
    "for j in train['jobID'].values:\n",
    "    arr = [0]*887\n",
    "    tags = job_tag[job_tag['jobID']==j]['tagID'].values\n",
    "    for t in tags:\n",
    "        arr[t] = 1\n",
    "    tr_j_tag.append(arr)\n",
    "tr_j_tag = np.array(tr_j_tag)\n",
    "# tr_ohe = np.hstack([to_categorical(train['userID'], len(uid)), j_tag])\n",
    "\n",
    "te_j_tag =  []\n",
    "for j in test['jobID'].values:\n",
    "    arr = [0]*887\n",
    "    tags = job_tag[job_tag['jobID']==j]['tagID'].values\n",
    "    for t in tags:\n",
    "        arr[t] = 1\n",
    "    te_j_tag.append(arr)\n",
    "te_j_tag = np.array(te_j_tag)\n",
    "# te_ohe = np.hstack([to_categorical(test['userID'], len(uid)), j_tag])\n",
    "\n",
    "# tr_ohe = to_categorical(train['userID'], len(uid))\n",
    "# te_ohe = to_categorical(test['userID'], len(uid))"
   ]
  },
  {
   "cell_type": "code",
   "execution_count": 18,
   "metadata": {},
   "outputs": [],
   "source": [
    "tr_ohe = np.hstack([to_categorical(train['userID'], len(uid)), \n",
    "#                     to_categorical(pd.merge(train, job_comp, on='jobID', right_index=True).sort_index()['companyID'], 733),\n",
    "                    pd.get_dummies(pd.merge(train, job_comp, on='jobID', right_index=True).sort_index()['companySize']).values])\n",
    "\n",
    "te_ohe = np.hstack([to_categorical(test['userID'], len(uid)), \n",
    "#                     to_categorical(pd.merge(test, job_comp, on='jobID', right_index=True).sort_index()['companyID'], 733),\n",
    "                    pd.get_dummies(pd.merge(test, job_comp, on='jobID', right_index=True).sort_index()['companySize']).values])\n"
   ]
  },
  {
   "cell_type": "code",
   "execution_count": 19,
   "metadata": {},
   "outputs": [],
   "source": [
    "from sklearn.metrics.pairwise import cosine_similarity\n",
    "\n",
    "def average_emb(tags, emb=embedding_matrix, w2v=w2v):\n",
    "    avg_emb = np.zeros((32, ))\n",
    "    cnt = 0\n",
    "    for tag in tags:\n",
    "        if tag in w2v.wv.key_to_index.keys():\n",
    "            avg_emb += embedding_matrix[w2v.wv.key_to_index[tag]] \n",
    "            cnt += 1\n",
    "    return avg_emb"
   ]
  },
  {
   "cell_type": "code",
   "execution_count": 20,
   "metadata": {},
   "outputs": [],
   "source": [
    "user_tag_emb = []\n",
    "job_tag_emb = []\n",
    "for i in range(len(train)):\n",
    "    u = train.values[i][0]\n",
    "    j = train.values[i][1]\n",
    "    \n",
    "    u_tags = user_tag[user_tag['userID']==u]['tagID'].unique()\n",
    "    user_tag_emb.append(list(average_emb(u_tags)))\n",
    "    \n",
    "    j_tags = job_tag[job_tag['jobID']==j]['tagID'].unique()\n",
    "    job_tag_emb.append(list(average_emb(j_tags)))\n",
    "tr_dense = np.hstack([user_tag_emb, job_tag_emb, np.diag(cosine_similarity(user_tag_emb, job_tag_emb)).reshape(-1, 1), train['jac'].values.reshape(-1, 1)])\n"
   ]
  },
  {
   "cell_type": "code",
   "execution_count": 21,
   "metadata": {},
   "outputs": [],
   "source": [
    "user_tag_emb = []\n",
    "job_tag_emb = []\n",
    "for i in range(len(test)):\n",
    "    u = test.values[i][0]\n",
    "    j = test.values[i][1]\n",
    "    \n",
    "    u_tags = user_tag[user_tag['userID']==u]['tagID'].unique()\n",
    "    user_tag_emb.append(list(average_emb(u_tags)))\n",
    "    \n",
    "    j_tags = job_tag[job_tag['jobID']==j]['tagID'].unique()\n",
    "    job_tag_emb.append(list(average_emb(j_tags)))\n",
    "te_dense = np.hstack([user_tag_emb, job_tag_emb, np.diag(cosine_similarity(user_tag_emb, job_tag_emb)).reshape(-1, 1), test['jac'].values.reshape(-1, 1)])\n"
   ]
  },
  {
   "cell_type": "code",
   "execution_count": 22,
   "metadata": {},
   "outputs": [],
   "source": [
    "class FM_layer(keras.Model):\n",
    "    def __init__(self, latent_dim, w_reg=1e-4, v_reg=1e-4):\n",
    "        super(FM_layer, self).__init__()\n",
    "        self.latent_dim = latent_dim\n",
    "        \n",
    "        self.w_reg = w_reg\n",
    "        self.v_reg = v_reg\n",
    "\n",
    "    def build(self, input_shape):\n",
    "        self.w_0 = self.add_weight(shape=(1, ),\n",
    "                                  initializer=tf.zeros_initializer(),\n",
    "                                  trainable=True)\n",
    "        \n",
    "        self.w = self.add_weight(shape=(input_shape[-1], 1), \n",
    "                             initializer=tf.random_normal_initializer(),\n",
    "                                trainable=True,\n",
    "                                regularizer=l2(self.w_reg))\n",
    "        \n",
    "        self.V = self.add_weight(shape=(input_shape[-1], self.latent_dim), \n",
    "                             initializer=tf.random_normal_initializer(),\n",
    "                                trainable=True,\n",
    "                                regularizer=l2(self.v_reg))\n",
    "\n",
    "    def call(self, inputs):\n",
    "        linear_terms = tf.reduce_sum(tf.matmul(inputs, self.w), axis=1)\n",
    "\n",
    "        interactions = 0.5 * tf.reduce_sum(\n",
    "            tf.pow(tf.matmul(inputs, self.V), 2)\n",
    "            - tf.matmul(tf.pow(inputs, 2), tf.pow(self.V, 2)),\n",
    "            1,\n",
    "            keepdims=False\n",
    "        )\n",
    "\n",
    "        y_hat = (self.w_0 + linear_terms + interactions)\n",
    "\n",
    "        return y_hat"
   ]
  },
  {
   "cell_type": "code",
   "execution_count": 23,
   "metadata": {},
   "outputs": [],
   "source": [
    "class DeepFM(tf.keras.Model):\n",
    "    def __init__(self, sparse_dims, latent_dim, l2_emb=1e-4, w2v=w2v, embedding_matrix=embedding_matrix):\n",
    "        super().__init__()\n",
    "        \n",
    "        self.sparse_dims = sparse_dims\n",
    "        self.latent_dim = latent_dim\n",
    "        \n",
    "        self.w2v = w2v\n",
    "        self.embedding_matrix = embedding_matrix\n",
    "\n",
    "        self.embed_layers = {\n",
    "            'embed_' + str(i): Embedding(input_dim=2, # ohe\n",
    "                                         input_length=1,\n",
    "                                         output_dim=latent_dim,\n",
    "                                         embeddings_initializer='random_uniform',\n",
    "                                         embeddings_regularizer=l2(l2_emb))\n",
    "            for i, feat in enumerate(range(sparse_dims))\n",
    "        }\n",
    "        self.fm_layer = FM_layer(latent_dim)\n",
    "        self.dnn_layers = self.build_dnn()\n",
    "        self.flatten =  Flatten()\n",
    "        \n",
    "        self.linear = Dense(1)\n",
    "\n",
    "    def build_dnn(self):\n",
    "        model = Sequential()\n",
    "        model.add(Dense(128, activation='relu'))\n",
    "        model.add(Dense(64, activation='relu'))\n",
    "        model.add(Dense(1))\n",
    "        \n",
    "        return model\n",
    "        \n",
    "\n",
    "    def call(self, inputs):        \n",
    "        dense_inputs, sparse_inputs, job_inputs = inputs\n",
    "        wide_inputs = tf.concat([sparse_inputs, job_inputs], axis=1)\n",
    "        wide = self.linear(wide_inputs)\n",
    "        \n",
    "        sparse_embed = tf.concat([self.embed_layers[f'embed_{i}'](sparse_inputs[:, i]) for i in range(self.sparse_dims)], axis=-1)\n",
    "        \n",
    "        stack = tf.concat([dense_inputs, sparse_embed], axis=-1)\n",
    "\n",
    "        fm_out = self.fm_layer(stack)\n",
    "\n",
    "        deep_out = self.dnn_layers(stack)\n",
    "\n",
    "        outputs = fm_out + tf.squeeze(deep_out) + tf.squeeze(wide)\n",
    "        \n",
    "        return outputs"
   ]
  },
  {
   "cell_type": "code",
   "execution_count": 24,
   "metadata": {},
   "outputs": [],
   "source": [
    "dfm = DeepFM(tr_ohe.shape[1], 32)"
   ]
  },
  {
   "cell_type": "code",
   "execution_count": 25,
   "metadata": {
    "scrolled": true
   },
   "outputs": [
    {
     "name": "stdout",
     "output_type": "stream",
     "text": [
      "Epoch 1/20\n",
      "169/169 [==============================] - 23s 135ms/step - loss: 0.8175 - val_loss: 0.7197\n",
      "Epoch 2/20\n",
      "169/169 [==============================] - 18s 104ms/step - loss: 0.5871 - val_loss: 0.6310\n",
      "Epoch 3/20\n",
      "169/169 [==============================] - 14s 86ms/step - loss: 0.5318 - val_loss: 0.5854\n",
      "Epoch 4/20\n",
      "169/169 [==============================] - 16s 92ms/step - loss: 0.5124 - val_loss: 0.6092\n",
      "Epoch 5/20\n",
      "169/169 [==============================] - 15s 88ms/step - loss: 0.4966 - val_loss: 0.6420\n",
      "Epoch 6/20\n",
      "169/169 [==============================] - 15s 88ms/step - loss: 0.4763 - val_loss: 0.5150\n",
      "Epoch 7/20\n",
      "169/169 [==============================] - 14s 85ms/step - loss: 0.4602 - val_loss: 0.4895\n",
      "Epoch 8/20\n",
      "169/169 [==============================] - 15s 86ms/step - loss: 0.4479 - val_loss: 0.5052\n",
      "Epoch 9/20\n",
      "169/169 [==============================] - 15s 88ms/step - loss: 0.4421 - val_loss: 0.5179\n",
      "Epoch 10/20\n",
      "169/169 [==============================] - 14s 81ms/step - loss: 0.4358 - val_loss: 0.5271\n",
      "Epoch 11/20\n",
      "169/169 [==============================] - 14s 81ms/step - loss: 0.4394 - val_loss: 0.5191\n",
      "Epoch 12/20\n",
      "169/169 [==============================] - 13s 79ms/step - loss: 0.4188 - val_loss: 0.5138\n"
     ]
    },
    {
     "data": {
      "text/plain": [
       "<tensorflow.python.keras.callbacks.History at 0x2c5c5552708>"
      ]
     },
     "execution_count": 25,
     "metadata": {},
     "output_type": "execute_result"
    }
   ],
   "source": [
    "es = callbacks.EarlyStopping(patience=5, restore_best_weights=True)\n",
    "dfm.compile(loss=losses.BinaryCrossentropy(from_logits=True), \n",
    "            optimizer=optimizers.Adam(2e-4))\n",
    "\n",
    "dfm.fit([tr_dense, tr_ohe, tr_j_tag.astype(np.float32)], \n",
    "       train['applied'].values,\n",
    "      epochs=20,\n",
    "      shuffle=True,\n",
    "      validation_split=0.1,\n",
    "       callbacks=[es])"
   ]
  },
  {
   "cell_type": "code",
   "execution_count": 26,
   "metadata": {
    "scrolled": true
   },
   "outputs": [
    {
     "data": {
      "text/plain": [
       "0.8571666666666666"
      ]
     },
     "execution_count": 26,
     "metadata": {},
     "output_type": "execute_result"
    }
   ],
   "source": [
    "pred = dfm.predict([tr_dense, tr_ohe, tr_j_tag.astype(np.float32)])\n",
    "pred_ = np.where(pred>0, 1, 0) \n",
    "sum(pred_==train['applied'].values) / len(pred_)"
   ]
  },
  {
   "cell_type": "code",
   "execution_count": 27,
   "metadata": {},
   "outputs": [
    {
     "name": "stdout",
     "output_type": "stream",
     "text": [
      "0.8645 0.562\n"
     ]
    }
   ],
   "source": [
    "best_score = 0\n",
    "thres = 0\n",
    "for i in np.arange(-100, 1000)/1000:\n",
    "    pred_ = np.where(pred>i, 1, 0) \n",
    "    score = sum(pred_==train['applied'].values) / len(pred_)\n",
    "    if score > best_score:\n",
    "        thres = i\n",
    "        best_score = score\n",
    "        \n",
    "print(best_score, thres)"
   ]
  },
  {
   "cell_type": "code",
   "execution_count": 30,
   "metadata": {},
   "outputs": [],
   "source": [
    "pred = dfm.predict([te_dense, te_ohe, te_j_tag.astype(np.float32)], batch_size=1024)\n",
    "pred_ = np.where(pred>i, 1, 0)\n",
    "\n",
    "sub = pd.DataFrame(pred_, columns=['applied'])\n",
    "sub.to_csv('./sub/dfm_emb2.csv', index=False)"
   ]
  },
  {
   "cell_type": "code",
   "execution_count": null,
   "metadata": {},
   "outputs": [],
   "source": []
  },
  {
   "cell_type": "code",
   "execution_count": 34,
   "metadata": {
    "scrolled": true
   },
   "outputs": [
    {
     "data": {
      "text/html": [
       "<div>\n",
       "<style scoped>\n",
       "    .dataframe tbody tr th:only-of-type {\n",
       "        vertical-align: middle;\n",
       "    }\n",
       "\n",
       "    .dataframe tbody tr th {\n",
       "        vertical-align: top;\n",
       "    }\n",
       "\n",
       "    .dataframe thead th {\n",
       "        text-align: right;\n",
       "    }\n",
       "</style>\n",
       "<table border=\"1\" class=\"dataframe\">\n",
       "  <thead>\n",
       "    <tr style=\"text-align: right;\">\n",
       "      <th></th>\n",
       "      <th>tagID</th>\n",
       "      <th>keyword</th>\n",
       "    </tr>\n",
       "  </thead>\n",
       "  <tbody>\n",
       "    <tr>\n",
       "      <th>0</th>\n",
       "      <td>327</td>\n",
       "      <td>Amazon Web Services(AWS)</td>\n",
       "    </tr>\n",
       "    <tr>\n",
       "      <th>1</th>\n",
       "      <td>787</td>\n",
       "      <td>Tensorflow</td>\n",
       "    </tr>\n",
       "    <tr>\n",
       "      <th>2</th>\n",
       "      <td>558</td>\n",
       "      <td>Docker</td>\n",
       "    </tr>\n",
       "    <tr>\n",
       "      <th>3</th>\n",
       "      <td>462</td>\n",
       "      <td>Git</td>\n",
       "    </tr>\n",
       "    <tr>\n",
       "      <th>4</th>\n",
       "      <td>224</td>\n",
       "      <td>Python</td>\n",
       "    </tr>\n",
       "    <tr>\n",
       "      <th>5</th>\n",
       "      <td>377</td>\n",
       "      <td>Go</td>\n",
       "    </tr>\n",
       "    <tr>\n",
       "      <th>6</th>\n",
       "      <td>111</td>\n",
       "      <td>Deep Learning</td>\n",
       "    </tr>\n",
       "    <tr>\n",
       "      <th>7</th>\n",
       "      <td>878</td>\n",
       "      <td>Machine Learning</td>\n",
       "    </tr>\n",
       "    <tr>\n",
       "      <th>8</th>\n",
       "      <td>230</td>\n",
       "      <td>JSP</td>\n",
       "    </tr>\n",
       "    <tr>\n",
       "      <th>9</th>\n",
       "      <td>513</td>\n",
       "      <td>Framework7</td>\n",
       "    </tr>\n",
       "    <tr>\n",
       "      <th>10</th>\n",
       "      <td>42</td>\n",
       "      <td>JavaScript</td>\n",
       "    </tr>\n",
       "    <tr>\n",
       "      <th>11</th>\n",
       "      <td>379</td>\n",
       "      <td>CAD</td>\n",
       "    </tr>\n",
       "    <tr>\n",
       "      <th>12</th>\n",
       "      <td>371</td>\n",
       "      <td>Qt</td>\n",
       "    </tr>\n",
       "    <tr>\n",
       "      <th>13</th>\n",
       "      <td>649</td>\n",
       "      <td>C++</td>\n",
       "    </tr>\n",
       "    <tr>\n",
       "      <th>14</th>\n",
       "      <td>804</td>\n",
       "      <td>C</td>\n",
       "    </tr>\n",
       "    <tr>\n",
       "      <th>15</th>\n",
       "      <td>836</td>\n",
       "      <td>Java</td>\n",
       "    </tr>\n",
       "    <tr>\n",
       "      <th>16</th>\n",
       "      <td>51</td>\n",
       "      <td>D3.js</td>\n",
       "    </tr>\n",
       "    <tr>\n",
       "      <th>17</th>\n",
       "      <td>439</td>\n",
       "      <td>ReactJS</td>\n",
       "    </tr>\n",
       "    <tr>\n",
       "      <th>18</th>\n",
       "      <td>433</td>\n",
       "      <td>CSS</td>\n",
       "    </tr>\n",
       "    <tr>\n",
       "      <th>19</th>\n",
       "      <td>423</td>\n",
       "      <td>HTML</td>\n",
       "    </tr>\n",
       "  </tbody>\n",
       "</table>\n",
       "</div>"
      ],
      "text/plain": [
       "    tagID                   keyword\n",
       "0     327  Amazon Web Services(AWS)\n",
       "1     787                Tensorflow\n",
       "2     558                    Docker\n",
       "3     462                       Git\n",
       "4     224                    Python\n",
       "5     377                        Go\n",
       "6     111             Deep Learning\n",
       "7     878          Machine Learning\n",
       "8     230                       JSP\n",
       "9     513                Framework7\n",
       "10     42                JavaScript\n",
       "11    379                       CAD\n",
       "12    371                        Qt\n",
       "13    649                       C++\n",
       "14    804                         C\n",
       "15    836                      Java\n",
       "16     51                     D3.js\n",
       "17    439                   ReactJS\n",
       "18    433                       CSS\n",
       "19    423                      HTML"
      ]
     },
     "execution_count": 34,
     "metadata": {},
     "output_type": "execute_result"
    }
   ],
   "source": [
    "tag.head(20)"
   ]
  },
  {
   "cell_type": "code",
   "execution_count": 36,
   "metadata": {},
   "outputs": [
    {
     "data": {
      "text/plain": [
       "array([[0.57687306]], dtype=float32)"
      ]
     },
     "execution_count": 36,
     "metadata": {},
     "output_type": "execute_result"
    }
   ],
   "source": [
    "# tensorflow: 787\n",
    "# python: 224\n",
    "# go: 377\n",
    "# deeplearning: 111\n",
    "# ml: 878\n",
    "# c++: 649\n",
    "# c: 804\n",
    "# java: 836\n",
    "\n",
    "# tensorflow vs python\n",
    "cosine_similarity(\n",
    "    embedding_matrix[w2v.wv.key_to_index[787]].reshape(1, -1) ,\n",
    "    embedding_matrix[w2v.wv.key_to_index[224]].reshape(1, -1) \n",
    "               )"
   ]
  },
  {
   "cell_type": "code",
   "execution_count": 37,
   "metadata": {},
   "outputs": [
    {
     "data": {
      "text/plain": [
       "array([[0.7766644]], dtype=float32)"
      ]
     },
     "execution_count": 37,
     "metadata": {},
     "output_type": "execute_result"
    }
   ],
   "source": [
    "# tensorflow vs deeplearning\n",
    "cosine_similarity(\n",
    "    embedding_matrix[w2v.wv.key_to_index[787]].reshape(1, -1) ,\n",
    "    embedding_matrix[w2v.wv.key_to_index[111]].reshape(1, -1) \n",
    "               )"
   ]
  },
  {
   "cell_type": "code",
   "execution_count": 38,
   "metadata": {},
   "outputs": [
    {
     "data": {
      "text/plain": [
       "array([[0.8242682]], dtype=float32)"
      ]
     },
     "execution_count": 38,
     "metadata": {},
     "output_type": "execute_result"
    }
   ],
   "source": [
    "# c++ vs c\n",
    "cosine_similarity(\n",
    "    embedding_matrix[w2v.wv.key_to_index[649]].reshape(1, -1) ,\n",
    "    embedding_matrix[w2v.wv.key_to_index[804]].reshape(1, -1) \n",
    "               )"
   ]
  },
  {
   "cell_type": "code",
   "execution_count": 42,
   "metadata": {},
   "outputs": [
    {
     "data": {
      "text/plain": [
       "array([[0.43744987]], dtype=float32)"
      ]
     },
     "execution_count": 42,
     "metadata": {},
     "output_type": "execute_result"
    }
   ],
   "source": [
    "# c++ vs java\n",
    "cosine_similarity(\n",
    "    embedding_matrix[w2v.wv.key_to_index[649]].reshape(1, -1) ,\n",
    "    embedding_matrix[w2v.wv.key_to_index[836]].reshape(1, -1) \n",
    "               )"
   ]
  },
  {
   "cell_type": "code",
   "execution_count": 43,
   "metadata": {},
   "outputs": [
    {
     "data": {
      "text/plain": [
       "array([[0.47135445]], dtype=float32)"
      ]
     },
     "execution_count": 43,
     "metadata": {},
     "output_type": "execute_result"
    }
   ],
   "source": [
    "# c vs java\n",
    "cosine_similarity(\n",
    "    embedding_matrix[w2v.wv.key_to_index[804]].reshape(1, -1) ,\n",
    "    embedding_matrix[w2v.wv.key_to_index[836]].reshape(1, -1) \n",
    "               )"
   ]
  },
  {
   "cell_type": "code",
   "execution_count": 44,
   "metadata": {},
   "outputs": [
    {
     "data": {
      "text/plain": [
       "array([[0.5147978]], dtype=float32)"
      ]
     },
     "execution_count": 44,
     "metadata": {},
     "output_type": "execute_result"
    }
   ],
   "source": [
    "# python vs java\n",
    "cosine_similarity(\n",
    "    embedding_matrix[w2v.wv.key_to_index[224]].reshape(1, -1) ,\n",
    "    embedding_matrix[w2v.wv.key_to_index[836]].reshape(1, -1) \n",
    "               )"
   ]
  },
  {
   "cell_type": "code",
   "execution_count": null,
   "metadata": {},
   "outputs": [],
   "source": []
  }
 ],
 "metadata": {
  "kernelspec": {
   "display_name": "Python 3",
   "language": "python",
   "name": "python3"
  },
  "language_info": {
   "codemirror_mode": {
    "name": "ipython",
    "version": 3
   },
   "file_extension": ".py",
   "mimetype": "text/x-python",
   "name": "python",
   "nbconvert_exporter": "python",
   "pygments_lexer": "ipython3",
   "version": "3.7.7"
  },
  "toc": {
   "base_numbering": 1,
   "nav_menu": {},
   "number_sections": true,
   "sideBar": true,
   "skip_h1_title": false,
   "title_cell": "Table of Contents",
   "title_sidebar": "Contents",
   "toc_cell": false,
   "toc_position": {},
   "toc_section_display": true,
   "toc_window_display": false
  }
 },
 "nbformat": 4,
 "nbformat_minor": 4
}
