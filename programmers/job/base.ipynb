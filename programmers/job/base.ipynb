{
 "cells": [
  {
   "cell_type": "code",
   "execution_count": 3,
   "metadata": {},
   "outputs": [],
   "source": [
    "import numpy as np\n",
    "import pandas as pd\n",
    "\n",
    "import seaborn as sns\n",
    "import matplotlib.pyplot as plt\n",
    "\n",
    "import os,sys,inspect\n",
    "import gc\n",
    "from tqdm import tqdm\n",
    "import random\n",
    "\n",
    "import warnings\n",
    "warnings.filterwarnings('ignore')"
   ]
  },
  {
   "cell_type": "code",
   "execution_count": 4,
   "metadata": {},
   "outputs": [],
   "source": [
    "from tensorflow import keras\n",
    "import tensorflow as tf\n",
    "from tensorflow.keras import optimizers, callbacks, layers, losses\n",
    "from tensorflow.keras.layers import Dense, Concatenate, Activation, Add, BatchNormalization, Dropout, Input, Embedding, Flatten, Multiply\n",
    "from tensorflow.keras.models import Model, Sequential, load_model\n",
    "from tensorflow.keras.regularizers import l2\n",
    "from tensorflow.keras.utils import to_categorical\n",
    "\n",
    "SEED = 42\n",
    "np.random.seed(SEED)\n",
    "tf.random.set_seed(SEED)\n",
    "os.environ['PYTHONHASHSEED']=str(SEED)\n",
    "random.seed(SEED)\n",
    "gpus = tf.config.experimental.list_physical_devices('GPU')\n",
    "\n",
    "if gpus:\n",
    "    try:\n",
    "        tf.config.experimental.set_memory_growth(gpus[0], True)\n",
    "    except RuntimeError as e:\n",
    "        # 프로그램 시작시에 메모리 증가가 설정되어야만 합니다\n",
    "        print(e)\n",
    "        \n",
    "def mish(x):\n",
    "    return x*tf.math.tanh(tf.math.softplus(x))\n",
    "\n",
    "def leakyrelu(x, factor=0.2):\n",
    "    return tf.maximum(x, factor*x)"
   ]
  },
  {
   "cell_type": "code",
   "execution_count": 3,
   "metadata": {},
   "outputs": [
    {
     "data": {
      "text/html": [
       "<div>\n",
       "<style scoped>\n",
       "    .dataframe tbody tr th:only-of-type {\n",
       "        vertical-align: middle;\n",
       "    }\n",
       "\n",
       "    .dataframe tbody tr th {\n",
       "        vertical-align: top;\n",
       "    }\n",
       "\n",
       "    .dataframe thead th {\n",
       "        text-align: right;\n",
       "    }\n",
       "</style>\n",
       "<table border=\"1\" class=\"dataframe\">\n",
       "  <thead>\n",
       "    <tr style=\"text-align: right;\">\n",
       "      <th></th>\n",
       "      <th>userID</th>\n",
       "      <th>jobID</th>\n",
       "      <th>applied</th>\n",
       "    </tr>\n",
       "  </thead>\n",
       "  <tbody>\n",
       "    <tr>\n",
       "      <th>0</th>\n",
       "      <td>fe292163d06253b716e9a0099b42031d</td>\n",
       "      <td>15de21c670ae7c3f6f3f1f37029303c9</td>\n",
       "      <td>0</td>\n",
       "    </tr>\n",
       "    <tr>\n",
       "      <th>1</th>\n",
       "      <td>6377fa90618fae77571e8dc90d98d409</td>\n",
       "      <td>55b37c5c270e5d84c793e486d798c01d</td>\n",
       "      <td>0</td>\n",
       "    </tr>\n",
       "    <tr>\n",
       "      <th>2</th>\n",
       "      <td>8ec0888a5b04139be0dfe942c7eb4199</td>\n",
       "      <td>0fcbc61acd0479dc77e3cccc0f5ffca7</td>\n",
       "      <td>1</td>\n",
       "    </tr>\n",
       "    <tr>\n",
       "      <th>3</th>\n",
       "      <td>f862b39f767d3a1991bdeb2ea1401c9c</td>\n",
       "      <td>3b5dca501ee1e6d8cd7b905f4e1bf723</td>\n",
       "      <td>0</td>\n",
       "    </tr>\n",
       "    <tr>\n",
       "      <th>4</th>\n",
       "      <td>cac14930c65d72c16efac2c51a6b7f71</td>\n",
       "      <td>287e03db1d99e0ec2edb90d079e142f3</td>\n",
       "      <td>0</td>\n",
       "    </tr>\n",
       "    <tr>\n",
       "      <th>...</th>\n",
       "      <td>...</td>\n",
       "      <td>...</td>\n",
       "      <td>...</td>\n",
       "    </tr>\n",
       "    <tr>\n",
       "      <th>5995</th>\n",
       "      <td>68cb94b97d00979f4e8127915885b641</td>\n",
       "      <td>b9228e0962a78b84f3d5d92f4faa000b</td>\n",
       "      <td>0</td>\n",
       "    </tr>\n",
       "    <tr>\n",
       "      <th>5996</th>\n",
       "      <td>c0b199d73bdf390c2f4c3150b6ee1574</td>\n",
       "      <td>e3796ae838835da0b6f6ea37bcf8bcb7</td>\n",
       "      <td>0</td>\n",
       "    </tr>\n",
       "    <tr>\n",
       "      <th>5997</th>\n",
       "      <td>3ab88dd28f749fe4ec90c0b6f9896eb5</td>\n",
       "      <td>e2a2dcc36a08a345332c751b2f2e476c</td>\n",
       "      <td>0</td>\n",
       "    </tr>\n",
       "    <tr>\n",
       "      <th>5998</th>\n",
       "      <td>75b4af0dacbc119eadf4eeb096738405</td>\n",
       "      <td>3b712de48137572f3849aabd5666a4e3</td>\n",
       "      <td>0</td>\n",
       "    </tr>\n",
       "    <tr>\n",
       "      <th>5999</th>\n",
       "      <td>67adefb430df142b099bed89bd491524</td>\n",
       "      <td>65cc2c8205a05d7379fa3a6386f710e1</td>\n",
       "      <td>0</td>\n",
       "    </tr>\n",
       "  </tbody>\n",
       "</table>\n",
       "<p>6000 rows × 3 columns</p>\n",
       "</div>"
      ],
      "text/plain": [
       "                                userID                             jobID  \\\n",
       "0     fe292163d06253b716e9a0099b42031d  15de21c670ae7c3f6f3f1f37029303c9   \n",
       "1     6377fa90618fae77571e8dc90d98d409  55b37c5c270e5d84c793e486d798c01d   \n",
       "2     8ec0888a5b04139be0dfe942c7eb4199  0fcbc61acd0479dc77e3cccc0f5ffca7   \n",
       "3     f862b39f767d3a1991bdeb2ea1401c9c  3b5dca501ee1e6d8cd7b905f4e1bf723   \n",
       "4     cac14930c65d72c16efac2c51a6b7f71  287e03db1d99e0ec2edb90d079e142f3   \n",
       "...                                ...                               ...   \n",
       "5995  68cb94b97d00979f4e8127915885b641  b9228e0962a78b84f3d5d92f4faa000b   \n",
       "5996  c0b199d73bdf390c2f4c3150b6ee1574  e3796ae838835da0b6f6ea37bcf8bcb7   \n",
       "5997  3ab88dd28f749fe4ec90c0b6f9896eb5  e2a2dcc36a08a345332c751b2f2e476c   \n",
       "5998  75b4af0dacbc119eadf4eeb096738405  3b712de48137572f3849aabd5666a4e3   \n",
       "5999  67adefb430df142b099bed89bd491524  65cc2c8205a05d7379fa3a6386f710e1   \n",
       "\n",
       "      applied  \n",
       "0           0  \n",
       "1           0  \n",
       "2           1  \n",
       "3           0  \n",
       "4           0  \n",
       "...       ...  \n",
       "5995        0  \n",
       "5996        0  \n",
       "5997        0  \n",
       "5998        0  \n",
       "5999        0  \n",
       "\n",
       "[6000 rows x 3 columns]"
      ]
     },
     "execution_count": 3,
     "metadata": {},
     "output_type": "execute_result"
    }
   ],
   "source": [
    "train = pd.read_csv('./data/train.csv')\n",
    "test = pd.read_csv('./data/test_job.csv')\n",
    "sub = pd.read_csv('./data/sample_output_job.csv')\n",
    "train"
   ]
  },
  {
   "cell_type": "code",
   "execution_count": 4,
   "metadata": {},
   "outputs": [
    {
     "data": {
      "text/plain": [
       "count    6000.000000\n",
       "mean        0.142833\n",
       "std         0.349932\n",
       "min         0.000000\n",
       "25%         0.000000\n",
       "50%         0.000000\n",
       "75%         0.000000\n",
       "max         1.000000\n",
       "Name: applied, dtype: float64"
      ]
     },
     "execution_count": 4,
     "metadata": {},
     "output_type": "execute_result"
    },
    {
     "data": {
      "image/png": "[encoded data removed]",
      "text/plain": [
       "<Figure size 432x288 with 1 Axes>"
      ]
     },
     "metadata": {
      "needs_background": "light"
     },
     "output_type": "display_data"
    }
   ],
   "source": [
    "sns.distplot(train['applied'])\n",
    "train['applied'].describe()"
   ]
  },
  {
   "cell_type": "code",
   "execution_count": null,
   "metadata": {},
   "outputs": [],
   "source": []
  },
  {
   "cell_type": "code",
   "execution_count": 5,
   "metadata": {},
   "outputs": [
    {
     "data": {
      "text/plain": [
       "LabelEncoder()"
      ]
     },
     "execution_count": 5,
     "metadata": {},
     "output_type": "execute_result"
    }
   ],
   "source": [
    "from sklearn.preprocessing import LabelEncoder\n",
    "\n",
    "user_lbe = LabelEncoder()\n",
    "\n",
    "user_lbe.fit(train['userID'])"
   ]
  },
  {
   "cell_type": "code",
   "execution_count": 6,
   "metadata": {},
   "outputs": [
    {
     "data": {
      "text/html": [
       "<div>\n",
       "<style scoped>\n",
       "    .dataframe tbody tr th:only-of-type {\n",
       "        vertical-align: middle;\n",
       "    }\n",
       "\n",
       "    .dataframe tbody tr th {\n",
       "        vertical-align: top;\n",
       "    }\n",
       "\n",
       "    .dataframe thead th {\n",
       "        text-align: right;\n",
       "    }\n",
       "</style>\n",
       "<table border=\"1\" class=\"dataframe\">\n",
       "  <thead>\n",
       "    <tr style=\"text-align: right;\">\n",
       "      <th></th>\n",
       "      <th>userID</th>\n",
       "      <th>jobID</th>\n",
       "      <th>applied</th>\n",
       "    </tr>\n",
       "  </thead>\n",
       "  <tbody>\n",
       "    <tr>\n",
       "      <th>0</th>\n",
       "      <td>195</td>\n",
       "      <td>52</td>\n",
       "      <td>0</td>\n",
       "    </tr>\n",
       "    <tr>\n",
       "      <th>1</th>\n",
       "      <td>64</td>\n",
       "      <td>245</td>\n",
       "      <td>0</td>\n",
       "    </tr>\n",
       "    <tr>\n",
       "      <th>2</th>\n",
       "      <td>111</td>\n",
       "      <td>35</td>\n",
       "      <td>1</td>\n",
       "    </tr>\n",
       "    <tr>\n",
       "      <th>3</th>\n",
       "      <td>190</td>\n",
       "      <td>177</td>\n",
       "      <td>0</td>\n",
       "    </tr>\n",
       "    <tr>\n",
       "      <th>4</th>\n",
       "      <td>159</td>\n",
       "      <td>117</td>\n",
       "      <td>0</td>\n",
       "    </tr>\n",
       "    <tr>\n",
       "      <th>...</th>\n",
       "      <td>...</td>\n",
       "      <td>...</td>\n",
       "      <td>...</td>\n",
       "    </tr>\n",
       "    <tr>\n",
       "      <th>5995</th>\n",
       "      <td>71</td>\n",
       "      <td>526</td>\n",
       "      <td>0</td>\n",
       "    </tr>\n",
       "    <tr>\n",
       "      <th>5996</th>\n",
       "      <td>154</td>\n",
       "      <td>650</td>\n",
       "      <td>0</td>\n",
       "    </tr>\n",
       "    <tr>\n",
       "      <th>5997</th>\n",
       "      <td>35</td>\n",
       "      <td>648</td>\n",
       "      <td>0</td>\n",
       "    </tr>\n",
       "    <tr>\n",
       "      <th>5998</th>\n",
       "      <td>83</td>\n",
       "      <td>178</td>\n",
       "      <td>0</td>\n",
       "    </tr>\n",
       "    <tr>\n",
       "      <th>5999</th>\n",
       "      <td>67</td>\n",
       "      <td>276</td>\n",
       "      <td>0</td>\n",
       "    </tr>\n",
       "  </tbody>\n",
       "</table>\n",
       "<p>6000 rows × 3 columns</p>\n",
       "</div>"
      ],
      "text/plain": [
       "      userID  jobID  applied\n",
       "0        195     52        0\n",
       "1         64    245        0\n",
       "2        111     35        1\n",
       "3        190    177        0\n",
       "4        159    117        0\n",
       "...      ...    ...      ...\n",
       "5995      71    526        0\n",
       "5996     154    650        0\n",
       "5997      35    648        0\n",
       "5998      83    178        0\n",
       "5999      67    276        0\n",
       "\n",
       "[6000 rows x 3 columns]"
      ]
     },
     "execution_count": 6,
     "metadata": {},
     "output_type": "execute_result"
    }
   ],
   "source": [
    "train['userID'] = user_lbe.transform(train['userID'])\n",
    "test['userID'] = user_lbe.transform(test['userID'])\n",
    "\n",
    "tag = pd.read_csv('./data/tags.csv')\n",
    "tag_lbe = LabelEncoder()\n",
    "tag['tagID'] = tag_lbe.fit_transform(tag['tagID'])\n",
    "\n",
    "job_tag = pd.read_csv('./data/job_tags.csv')\n",
    "job_lbe = LabelEncoder()\n",
    "\n",
    "job_tag['jobID'] = job_lbe.fit_transform(job_tag['jobID'])\n",
    "job_tag['tagID'] = tag_lbe.transform(job_tag['tagID'])\n",
    "train['jobID'] = job_lbe.transform(train['jobID'])\n",
    "test['jobID'] = job_lbe.transform(test['jobID'])\n",
    "\n",
    "user_tag = pd.read_csv('./data/user_tags.csv')\n",
    "user_tag['userID'] = user_lbe.transform(user_tag['userID'])\n",
    "user_tag['tagID'] = tag_lbe.transform(user_tag['tagID'])\n",
    "\n",
    "train"
   ]
  },
  {
   "cell_type": "code",
   "execution_count": null,
   "metadata": {},
   "outputs": [],
   "source": []
  },
  {
   "cell_type": "code",
   "execution_count": 7,
   "metadata": {},
   "outputs": [],
   "source": [
    "def jaccard(true, pred):\n",
    "    union = set(true).union(set(pred))\n",
    "    inter = set(true).intersection(set(pred))\n",
    "    return len(inter)/len(union)"
   ]
  },
  {
   "cell_type": "code",
   "execution_count": 8,
   "metadata": {},
   "outputs": [
    {
     "data": {
      "text/html": [
       "<div>\n",
       "<style scoped>\n",
       "    .dataframe tbody tr th:only-of-type {\n",
       "        vertical-align: middle;\n",
       "    }\n",
       "\n",
       "    .dataframe tbody tr th {\n",
       "        vertical-align: top;\n",
       "    }\n",
       "\n",
       "    .dataframe thead th {\n",
       "        text-align: right;\n",
       "    }\n",
       "</style>\n",
       "<table border=\"1\" class=\"dataframe\">\n",
       "  <thead>\n",
       "    <tr style=\"text-align: right;\">\n",
       "      <th></th>\n",
       "      <th>userID</th>\n",
       "      <th>jobID</th>\n",
       "      <th>applied</th>\n",
       "      <th>jac</th>\n",
       "    </tr>\n",
       "  </thead>\n",
       "  <tbody>\n",
       "    <tr>\n",
       "      <th>0</th>\n",
       "      <td>195</td>\n",
       "      <td>52</td>\n",
       "      <td>0</td>\n",
       "      <td>0.000000</td>\n",
       "    </tr>\n",
       "    <tr>\n",
       "      <th>1</th>\n",
       "      <td>64</td>\n",
       "      <td>245</td>\n",
       "      <td>0</td>\n",
       "      <td>0.035714</td>\n",
       "    </tr>\n",
       "    <tr>\n",
       "      <th>2</th>\n",
       "      <td>111</td>\n",
       "      <td>35</td>\n",
       "      <td>1</td>\n",
       "      <td>0.100000</td>\n",
       "    </tr>\n",
       "    <tr>\n",
       "      <th>3</th>\n",
       "      <td>190</td>\n",
       "      <td>177</td>\n",
       "      <td>0</td>\n",
       "      <td>0.150000</td>\n",
       "    </tr>\n",
       "    <tr>\n",
       "      <th>4</th>\n",
       "      <td>159</td>\n",
       "      <td>117</td>\n",
       "      <td>0</td>\n",
       "      <td>0.041667</td>\n",
       "    </tr>\n",
       "    <tr>\n",
       "      <th>...</th>\n",
       "      <td>...</td>\n",
       "      <td>...</td>\n",
       "      <td>...</td>\n",
       "      <td>...</td>\n",
       "    </tr>\n",
       "    <tr>\n",
       "      <th>5995</th>\n",
       "      <td>71</td>\n",
       "      <td>526</td>\n",
       "      <td>0</td>\n",
       "      <td>0.066667</td>\n",
       "    </tr>\n",
       "    <tr>\n",
       "      <th>5996</th>\n",
       "      <td>154</td>\n",
       "      <td>650</td>\n",
       "      <td>0</td>\n",
       "      <td>0.103448</td>\n",
       "    </tr>\n",
       "    <tr>\n",
       "      <th>5997</th>\n",
       "      <td>35</td>\n",
       "      <td>648</td>\n",
       "      <td>0</td>\n",
       "      <td>0.080000</td>\n",
       "    </tr>\n",
       "    <tr>\n",
       "      <th>5998</th>\n",
       "      <td>83</td>\n",
       "      <td>178</td>\n",
       "      <td>0</td>\n",
       "      <td>0.090909</td>\n",
       "    </tr>\n",
       "    <tr>\n",
       "      <th>5999</th>\n",
       "      <td>67</td>\n",
       "      <td>276</td>\n",
       "      <td>0</td>\n",
       "      <td>0.032258</td>\n",
       "    </tr>\n",
       "  </tbody>\n",
       "</table>\n",
       "<p>6000 rows × 4 columns</p>\n",
       "</div>"
      ],
      "text/plain": [
       "      userID  jobID  applied       jac\n",
       "0        195     52        0  0.000000\n",
       "1         64    245        0  0.035714\n",
       "2        111     35        1  0.100000\n",
       "3        190    177        0  0.150000\n",
       "4        159    117        0  0.041667\n",
       "...      ...    ...      ...       ...\n",
       "5995      71    526        0  0.066667\n",
       "5996     154    650        0  0.103448\n",
       "5997      35    648        0  0.080000\n",
       "5998      83    178        0  0.090909\n",
       "5999      67    276        0  0.032258\n",
       "\n",
       "[6000 rows x 4 columns]"
      ]
     },
     "execution_count": 8,
     "metadata": {},
     "output_type": "execute_result"
    }
   ],
   "source": [
    "jac = []\n",
    "for i in range(len(train)):\n",
    "    u = train.values[i][0]\n",
    "    j = train.values[i][1]\n",
    "    score = jaccard(np.unique(user_tag[user_tag['userID']==u].values), job_tag[job_tag['jobID']==j]['tagID'].values)\n",
    "    jac.append(score)\n",
    "    \n",
    "train['jac'] = jac\n",
    "train"
   ]
  },
  {
   "cell_type": "code",
   "execution_count": 9,
   "metadata": {},
   "outputs": [
    {
     "data": {
      "text/html": [
       "<div>\n",
       "<style scoped>\n",
       "    .dataframe tbody tr th:only-of-type {\n",
       "        vertical-align: middle;\n",
       "    }\n",
       "\n",
       "    .dataframe tbody tr th {\n",
       "        vertical-align: top;\n",
       "    }\n",
       "\n",
       "    .dataframe thead th {\n",
       "        text-align: right;\n",
       "    }\n",
       "</style>\n",
       "<table border=\"1\" class=\"dataframe\">\n",
       "  <thead>\n",
       "    <tr style=\"text-align: right;\">\n",
       "      <th></th>\n",
       "      <th>userID</th>\n",
       "      <th>jobID</th>\n",
       "      <th>jac</th>\n",
       "    </tr>\n",
       "  </thead>\n",
       "  <tbody>\n",
       "    <tr>\n",
       "      <th>0</th>\n",
       "      <td>180</td>\n",
       "      <td>157</td>\n",
       "      <td>0.166667</td>\n",
       "    </tr>\n",
       "    <tr>\n",
       "      <th>1</th>\n",
       "      <td>121</td>\n",
       "      <td>420</td>\n",
       "      <td>0.052632</td>\n",
       "    </tr>\n",
       "    <tr>\n",
       "      <th>2</th>\n",
       "      <td>29</td>\n",
       "      <td>252</td>\n",
       "      <td>0.076923</td>\n",
       "    </tr>\n",
       "    <tr>\n",
       "      <th>3</th>\n",
       "      <td>138</td>\n",
       "      <td>578</td>\n",
       "      <td>0.000000</td>\n",
       "    </tr>\n",
       "    <tr>\n",
       "      <th>4</th>\n",
       "      <td>166</td>\n",
       "      <td>213</td>\n",
       "      <td>0.000000</td>\n",
       "    </tr>\n",
       "    <tr>\n",
       "      <th>...</th>\n",
       "      <td>...</td>\n",
       "      <td>...</td>\n",
       "      <td>...</td>\n",
       "    </tr>\n",
       "    <tr>\n",
       "      <th>2430</th>\n",
       "      <td>3</td>\n",
       "      <td>110</td>\n",
       "      <td>0.000000</td>\n",
       "    </tr>\n",
       "    <tr>\n",
       "      <th>2431</th>\n",
       "      <td>116</td>\n",
       "      <td>540</td>\n",
       "      <td>0.250000</td>\n",
       "    </tr>\n",
       "    <tr>\n",
       "      <th>2432</th>\n",
       "      <td>162</td>\n",
       "      <td>351</td>\n",
       "      <td>0.100000</td>\n",
       "    </tr>\n",
       "    <tr>\n",
       "      <th>2433</th>\n",
       "      <td>116</td>\n",
       "      <td>448</td>\n",
       "      <td>0.111111</td>\n",
       "    </tr>\n",
       "    <tr>\n",
       "      <th>2434</th>\n",
       "      <td>29</td>\n",
       "      <td>69</td>\n",
       "      <td>0.000000</td>\n",
       "    </tr>\n",
       "  </tbody>\n",
       "</table>\n",
       "<p>2435 rows × 3 columns</p>\n",
       "</div>"
      ],
      "text/plain": [
       "      userID  jobID       jac\n",
       "0        180    157  0.166667\n",
       "1        121    420  0.052632\n",
       "2         29    252  0.076923\n",
       "3        138    578  0.000000\n",
       "4        166    213  0.000000\n",
       "...      ...    ...       ...\n",
       "2430       3    110  0.000000\n",
       "2431     116    540  0.250000\n",
       "2432     162    351  0.100000\n",
       "2433     116    448  0.111111\n",
       "2434      29     69  0.000000\n",
       "\n",
       "[2435 rows x 3 columns]"
      ]
     },
     "execution_count": 9,
     "metadata": {},
     "output_type": "execute_result"
    }
   ],
   "source": [
    "jac = []\n",
    "for i in range(len(test)):\n",
    "    u = test.values[i][0]\n",
    "    j = test.values[i][1]\n",
    "    score = jaccard(np.unique(user_tag[user_tag['userID']==u].values), job_tag[job_tag['jobID']==j]['tagID'].values)\n",
    "    jac.append(score)\n",
    "    \n",
    "test['jac'] = jac\n",
    "test"
   ]
  },
  {
   "cell_type": "code",
   "execution_count": null,
   "metadata": {},
   "outputs": [],
   "source": []
  },
  {
   "cell_type": "code",
   "execution_count": 10,
   "metadata": {
    "scrolled": true
   },
   "outputs": [
    {
     "data": {
      "text/plain": [
       "LogisticRegression(class_weight='balanced')"
      ]
     },
     "execution_count": 10,
     "metadata": {},
     "output_type": "execute_result"
    }
   ],
   "source": [
    "from sklearn.linear_model import LogisticRegression\n",
    "\n",
    "lr = LogisticRegression(class_weight='balanced')\n",
    "lr.fit(train['jac'].values.reshape(-1, 1), train['applied'].values.reshape(-1, 1))"
   ]
  },
  {
   "cell_type": "code",
   "execution_count": 11,
   "metadata": {},
   "outputs": [
    {
     "data": {
      "text/plain": [
       "<matplotlib.axes._subplots.AxesSubplot at 0x204c571e6c8>"
      ]
     },
     "execution_count": 11,
     "metadata": {},
     "output_type": "execute_result"
    },
    {
     "data": {
      "image/png": "[encoded data removed]",
      "text/plain": [
       "<Figure size 432x288 with 1 Axes>"
      ]
     },
     "metadata": {
      "needs_background": "light"
     },
     "output_type": "display_data"
    }
   ],
   "source": [
    "sns.distplot(lr.predict(train['jac'].values.reshape(-1, 1)))"
   ]
  },
  {
   "cell_type": "code",
   "execution_count": 12,
   "metadata": {},
   "outputs": [
    {
     "data": {
      "text/plain": [
       "0.6121666666666666"
      ]
     },
     "execution_count": 12,
     "metadata": {},
     "output_type": "execute_result"
    }
   ],
   "source": [
    "np.sum(lr.predict(train['jac'].values.reshape(-1, 1)) == train['applied'].values) / len(lr.predict(train['jac'].values.reshape(-1, 1)) == train['applied'].values)"
   ]
  },
  {
   "cell_type": "code",
   "execution_count": 13,
   "metadata": {},
   "outputs": [
    {
     "data": {
      "text/plain": [
       "array([0.63866667, 0.61466667, 0.60733333, 0.62      ])"
      ]
     },
     "execution_count": 13,
     "metadata": {},
     "output_type": "execute_result"
    }
   ],
   "source": [
    "from sklearn.model_selection import cross_val_score, cross_val_predict\n",
    "\n",
    "cross_val_score(lr, train['jac'].values.reshape(-1, 1), train['applied'].values.reshape(-1, 1), cv=4)"
   ]
  },
  {
   "cell_type": "code",
   "execution_count": 14,
   "metadata": {
    "scrolled": true
   },
   "outputs": [
    {
     "data": {
      "text/plain": [
       "array([1, 0, 0, ..., 1, 1, 0], dtype=int64)"
      ]
     },
     "execution_count": 14,
     "metadata": {},
     "output_type": "execute_result"
    }
   ],
   "source": [
    "lr.predict(test['jac'].values.reshape(-1, 1))"
   ]
  },
  {
   "cell_type": "code",
   "execution_count": 15,
   "metadata": {
    "scrolled": true
   },
   "outputs": [],
   "source": [
    "sub = pd.DataFrame(lr.predict(test['jac'].values.reshape(-1, 1)), columns=['applied'])\n",
    "sub.to_csv('./sub/lr_jac.csv', index=False)"
   ]
  },
  {
   "cell_type": "code",
   "execution_count": null,
   "metadata": {},
   "outputs": [],
   "source": []
  },
  {
   "cell_type": "code",
   "execution_count": null,
   "metadata": {},
   "outputs": [],
   "source": []
  },
  {
   "cell_type": "code",
   "execution_count": 16,
   "metadata": {},
   "outputs": [],
   "source": [
    "from tensorflow.keras.utils import to_categorical\n",
    "\n",
    "uid = train['userID'].unique()\n",
    "tid = job_tag['tagID'].unique()\n",
    "\n"
   ]
  },
  {
   "cell_type": "code",
   "execution_count": null,
   "metadata": {},
   "outputs": [],
   "source": []
  },
  {
   "cell_type": "code",
   "execution_count": 17,
   "metadata": {},
   "outputs": [],
   "source": [
    "j_tag =  []\n",
    "for j in train['jobID'].values:\n",
    "    arr = [0]*887\n",
    "    tags = job_tag[job_tag['jobID']==j]['tagID'].values\n",
    "    for t in tags:\n",
    "        arr[t] = 1\n",
    "    j_tag.append(arr)\n",
    "j_tag = np.array(j_tag)\n",
    "tr_ohe = np.hstack([to_categorical(train['userID'], len(uid)), j_tag])"
   ]
  },
  {
   "cell_type": "code",
   "execution_count": 18,
   "metadata": {},
   "outputs": [],
   "source": [
    "j_tag =  []\n",
    "for j in test['jobID'].values:\n",
    "    arr = [0]*887\n",
    "    tags = job_tag[job_tag['jobID']==j]['tagID'].values\n",
    "    for t in tags:\n",
    "        arr[t] = 1\n",
    "    j_tag.append(arr)\n",
    "j_tag = np.array(j_tag)\n",
    "te_ohe = np.hstack([to_categorical(test['userID'], len(uid)), j_tag])"
   ]
  },
  {
   "cell_type": "code",
   "execution_count": 19,
   "metadata": {},
   "outputs": [
    {
     "data": {
      "text/plain": [
       "((2435, 1083), (6000, 1083))"
      ]
     },
     "execution_count": 19,
     "metadata": {},
     "output_type": "execute_result"
    }
   ],
   "source": [
    "te_ohe.shape, tr_ohe.shape"
   ]
  },
  {
   "cell_type": "code",
   "execution_count": null,
   "metadata": {},
   "outputs": [],
   "source": []
  },
  {
   "cell_type": "code",
   "execution_count": 20,
   "metadata": {},
   "outputs": [],
   "source": [
    "class FM_layer(keras.Model):\n",
    "    def __init__(self, latent_dim, w_reg=1e-4, v_reg=1e-4):\n",
    "        super(FM_layer, self).__init__()\n",
    "        self.latent_dim = latent_dim\n",
    "        \n",
    "        self.w_reg = w_reg\n",
    "        self.v_reg = v_reg\n",
    "\n",
    "    def build(self, input_shape):\n",
    "        self.w_0 = self.add_weight(shape=(1, ),\n",
    "                                  initializer=tf.zeros_initializer(),\n",
    "                                  trainable=True)\n",
    "        \n",
    "        self.w = self.add_weight(shape=(input_shape[-1], 1), \n",
    "                             initializer=tf.random_normal_initializer(),\n",
    "                                trainable=True,\n",
    "                                regularizer=l2(self.w_reg))\n",
    "        \n",
    "        self.V = self.add_weight(shape=(input_shape[-1], self.latent_dim), \n",
    "                             initializer=tf.random_normal_initializer(),\n",
    "                                trainable=True,\n",
    "                                regularizer=l2(self.v_reg))\n",
    "\n",
    "    def call(self, inputs):\n",
    "        linear_terms = tf.reduce_sum(tf.matmul(inputs, self.w), axis=1)\n",
    "\n",
    "        interactions = 0.5 * tf.reduce_sum(\n",
    "            tf.pow(tf.matmul(inputs, self.V), 2)\n",
    "            - tf.matmul(tf.pow(inputs, 2), tf.pow(self.V, 2)),\n",
    "            1,\n",
    "            keepdims=False\n",
    "        )\n",
    "\n",
    "        y_hat = (self.w_0 + linear_terms + interactions)\n",
    "\n",
    "        return y_hat"
   ]
  },
  {
   "cell_type": "code",
   "execution_count": 21,
   "metadata": {},
   "outputs": [],
   "source": [
    "class DeepFM(tf.keras.Model):\n",
    "    def __init__(self, x_dims, latent_dim, l2_emb=1e-4):\n",
    "        super(DeepFM, self).__init__()\n",
    "        \n",
    "        self.x_dims = x_dims\n",
    "        self.latent_dim = latent_dim\n",
    "\n",
    "        self.embed_layers = {\n",
    "            'embed_' + str(i): Embedding(input_dim=2,\n",
    "                                         input_length=1,\n",
    "                                         output_dim=latent_dim,\n",
    "                                         embeddings_initializer='random_uniform',\n",
    "                                         embeddings_regularizer=l2(l2_emb))\n",
    "            for i, feat in enumerate(range(x_dims))\n",
    "        }\n",
    "        self.fm_layer = FM_layer(latent_dim)\n",
    "        self.dnn_layers = self.build_dnn()\n",
    "        self.flatten =  Flatten()\n",
    "        self.linear = Dense(1)\n",
    "\n",
    "    def build_dnn(self):\n",
    "        model = Sequential()\n",
    "        model.add(Dense(128, activation='relu'))\n",
    "        model.add(Dense(64, activation='relu'))\n",
    "        model.add(Dense(1))\n",
    "        \n",
    "        return model\n",
    "        \n",
    "\n",
    "    def call(self, inputs):        \n",
    "        linear = self.linear(inputs)\n",
    "        sparse_embed = tf.concat([self.embed_layers[f'embed_{i}'](inputs[:, i]) for i in range(self.x_dims)], axis=-1)\n",
    "\n",
    "        fm_out = self.fm_layer(sparse_embed)\n",
    "\n",
    "        deep_out = self.dnn_layers(sparse_embed)\n",
    "\n",
    "        outputs = fm_out + tf.squeeze(deep_out) + linear\n",
    "        \n",
    "        return outputs"
   ]
  },
  {
   "cell_type": "code",
   "execution_count": 22,
   "metadata": {},
   "outputs": [],
   "source": [
    "dfm = DeepFM(tr_ohe.shape[1], 32)"
   ]
  },
  {
   "cell_type": "code",
   "execution_count": 23,
   "metadata": {
    "scrolled": false
   },
   "outputs": [
    {
     "name": "stdout",
     "output_type": "stream",
     "text": [
      "Epoch 1/10\n",
      "43/43 [==============================] - 28s 655ms/step - loss: 0.7279 - val_loss: 0.7243\n",
      "Epoch 2/10\n",
      "43/43 [==============================] - 14s 334ms/step - loss: 0.6987 - val_loss: 0.7290\n",
      "Epoch 3/10\n",
      "43/43 [==============================] - 14s 333ms/step - loss: 0.6887 - val_loss: 0.7240\n",
      "Epoch 4/10\n",
      "43/43 [==============================] - 16s 376ms/step - loss: 0.6796 - val_loss: 0.7037\n",
      "Epoch 5/10\n",
      "43/43 [==============================] - 18s 409ms/step - loss: 0.6732 - val_loss: 0.7157\n",
      "Epoch 6/10\n",
      "43/43 [==============================] - 17s 397ms/step - loss: 0.6671 - val_loss: 0.6930\n",
      "Epoch 7/10\n",
      "43/43 [==============================] - 18s 430ms/step - loss: 0.6619 - val_loss: 0.6883\n",
      "Epoch 8/10\n",
      "43/43 [==============================] - 19s 444ms/step - loss: 0.6552 - val_loss: 0.6795\n",
      "Epoch 9/10\n",
      "43/43 [==============================] - 16s 369ms/step - loss: 0.6439 - val_loss: 0.6712\n",
      "Epoch 10/10\n",
      "43/43 [==============================] - 15s 354ms/step - loss: 0.6448 - val_loss: 0.6805\n"
     ]
    },
    {
     "data": {
      "text/plain": [
       "<tensorflow.python.keras.callbacks.History at 0x204b5f60748>"
      ]
     },
     "execution_count": 23,
     "metadata": {},
     "output_type": "execute_result"
    }
   ],
   "source": [
    "dfm.compile(loss=losses.BinaryCrossentropy(from_logits=True), \n",
    "            optimizer=optimizers.Adam(2e-4))\n",
    "\n",
    "dfm.fit(tr_ohe, \n",
    "       train['applied'].values,\n",
    "      epochs=10,\n",
    "      shuffle=True,\n",
    "      validation_split=0.1,\n",
    "       batch_size=128)"
   ]
  },
  {
   "cell_type": "code",
   "execution_count": null,
   "metadata": {},
   "outputs": [],
   "source": []
  },
  {
   "cell_type": "code",
   "execution_count": 24,
   "metadata": {},
   "outputs": [
    {
     "data": {
      "text/plain": [
       "0.8571666666666666"
      ]
     },
     "execution_count": 24,
     "metadata": {},
     "output_type": "execute_result"
    }
   ],
   "source": [
    "pred = dfm.predict(tr_ohe, batch_size=1024)\n",
    "pred_ = np.where(pred>0, 1, 0)\n",
    "sum(pred_==train['applied'].values) / len(pred_)"
   ]
  },
  {
   "cell_type": "code",
   "execution_count": 25,
   "metadata": {},
   "outputs": [],
   "source": [
    "pred = dfm.predict(te_ohe, batch_size=1024)\n",
    "pred_ = np.where(pred>0, 1, 0)\n",
    "\n",
    "sub = pd.DataFrame(pred_, columns=['applied'])\n",
    "sub.to_csv('./sub/dfm_basic.csv', index=False)"
   ]
  },
  {
   "cell_type": "code",
   "execution_count": null,
   "metadata": {},
   "outputs": [],
   "source": []
  },
  {
   "cell_type": "code",
   "execution_count": 26,
   "metadata": {},
   "outputs": [],
   "source": [
    "class DeepFM_dense(tf.keras.Model):\n",
    "    def __init__(self, sparse_dims, latent_dim, l2_emb=1e-4):\n",
    "        super().__init__()\n",
    "        \n",
    "        self.sparse_dims = sparse_dims\n",
    "        self.latent_dim = latent_dim\n",
    "\n",
    "        self.embed_layers = {\n",
    "            'embed_' + str(i): Embedding(input_dim=2, # ohe\n",
    "                                         input_length=1,\n",
    "                                         output_dim=latent_dim,\n",
    "                                         embeddings_initializer='random_uniform',\n",
    "                                         embeddings_regularizer=l2(l2_emb))\n",
    "            for i, feat in enumerate(range(sparse_dims))\n",
    "        }\n",
    "        self.fm_layer = FM_layer(latent_dim)\n",
    "        self.dnn_layers = self.build_dnn()\n",
    "        self.flatten =  Flatten()\n",
    "        self.linear = Dense(1)\n",
    "\n",
    "    def build_dnn(self):\n",
    "        model = Sequential()\n",
    "        model.add(Dense(256, activation='relu'))\n",
    "        model.add(Dense(128, activation='relu'))\n",
    "        model.add(Dense(64, activation='relu'))\n",
    "        model.add(Dense(1))\n",
    "        \n",
    "        return model\n",
    "        \n",
    "\n",
    "    def call(self, inputs):        \n",
    "        dense_inputs, sparse_inputs = inputs\n",
    "        linear = self.linear(sparse_inputs)\n",
    "        \n",
    "        sparse_embed = tf.concat([self.embed_layers[f'embed_{i}'](sparse_inputs[:, i]) for i in range(self.sparse_dims)], axis=-1)\n",
    "        stack = tf.concat([dense_inputs, sparse_embed], axis=-1)\n",
    "        \n",
    "        fm_out = self.fm_layer(stack)\n",
    "\n",
    "        deep_out = self.dnn_layers(stack)\n",
    "\n",
    "        outputs = fm_out + tf.squeeze(deep_out) + linear\n",
    "        \n",
    "        return outputs"
   ]
  },
  {
   "cell_type": "code",
   "execution_count": 27,
   "metadata": {},
   "outputs": [],
   "source": [
    "tr_dense = train['jac'].values.reshape(-1, 1)\n",
    "te_dense = test['jac'].values.reshape(-1, 1)"
   ]
  },
  {
   "cell_type": "code",
   "execution_count": null,
   "metadata": {},
   "outputs": [],
   "source": []
  },
  {
   "cell_type": "code",
   "execution_count": 28,
   "metadata": {},
   "outputs": [],
   "source": [
    "dfm_dense = DeepFM_dense(tr_ohe.shape[1], 32)"
   ]
  },
  {
   "cell_type": "code",
   "execution_count": 29,
   "metadata": {
    "scrolled": true
   },
   "outputs": [
    {
     "name": "stdout",
     "output_type": "stream",
     "text": [
      "Epoch 1/10\n",
      "169/169 [==============================] - 69s 411ms/step - loss: 0.7124 - val_loss: 0.7104\n",
      "Epoch 2/10\n",
      "169/169 [==============================] - 57s 339ms/step - loss: 0.6846 - val_loss: 0.6992\n",
      "Epoch 3/10\n",
      "169/169 [==============================] - 59s 349ms/step - loss: 0.6712 - val_loss: 0.7084\n",
      "Epoch 4/10\n",
      "169/169 [==============================] - 59s 348ms/step - loss: 0.6573 - val_loss: 0.6664\n",
      "Epoch 5/10\n",
      "169/169 [==============================] - 58s 343ms/step - loss: 0.6466 - val_loss: 0.7046\n",
      "Epoch 6/10\n",
      "169/169 [==============================] - 57s 340ms/step - loss: 0.6266 - val_loss: 0.6441\n",
      "Epoch 7/10\n",
      "169/169 [==============================] - 58s 341ms/step - loss: 0.6180 - val_loss: 0.6417\n",
      "Epoch 8/10\n",
      "169/169 [==============================] - 58s 342ms/step - loss: 0.6080 - val_loss: 0.6282\n",
      "Epoch 9/10\n",
      "169/169 [==============================] - 58s 342ms/step - loss: 0.5942 - val_loss: 0.6287\n",
      "Epoch 10/10\n",
      "169/169 [==============================] - 59s 346ms/step - loss: 0.5799 - val_loss: 0.6053\n"
     ]
    },
    {
     "data": {
      "text/plain": [
       "<tensorflow.python.keras.callbacks.History at 0x2058b871588>"
      ]
     },
     "execution_count": 29,
     "metadata": {},
     "output_type": "execute_result"
    }
   ],
   "source": [
    "dfm_dense.compile(loss=losses.BinaryCrossentropy(from_logits=True), \n",
    "            optimizer=optimizers.Adam(2e-4))\n",
    "\n",
    "dfm_dense.fit([tr_dense, tr_ohe], \n",
    "       train['applied'].values,\n",
    "      epochs=10,\n",
    "      shuffle=True,\n",
    "      validation_split=0.1)"
   ]
  },
  {
   "cell_type": "code",
   "execution_count": null,
   "metadata": {},
   "outputs": [],
   "source": []
  },
  {
   "cell_type": "code",
   "execution_count": 30,
   "metadata": {},
   "outputs": [
    {
     "data": {
      "text/plain": [
       "0.8585"
      ]
     },
     "execution_count": 30,
     "metadata": {},
     "output_type": "execute_result"
    }
   ],
   "source": [
    "pred = dfm_dense.predict([tr_dense, tr_ohe], batch_size=1024)\n",
    "pred_ = np.where(pred>0, 1, 0)\n",
    "sum(pred_==train['applied'].values) / len(pred_)"
   ]
  },
  {
   "cell_type": "code",
   "execution_count": 33,
   "metadata": {},
   "outputs": [],
   "source": [
    "pred = dfm_dense.predict([te_dense, te_ohe], batch_size=1024)\n",
    "pred_ = np.where(pred>0, 1, 0)\n",
    "\n",
    "sub = pd.DataFrame(pred_, columns=['applied'])\n",
    "sub.to_csv('./sub/dfm_d_basic.csv', index=False)"
   ]
  },
  {
   "cell_type": "code",
   "execution_count": null,
   "metadata": {},
   "outputs": [],
   "source": []
  }
 ],
 "metadata": {
  "kernelspec": {
   "display_name": "Python 3",
   "language": "python",
   "name": "python3"
  },
  "language_info": {
   "codemirror_mode": {
    "name": "ipython",
    "version": 3
   },
   "file_extension": ".py",
   "mimetype": "text/x-python",
   "name": "python",
   "nbconvert_exporter": "python",
   "pygments_lexer": "ipython3",
   "version": "3.7.7"
  },
  "toc": {
   "base_numbering": 1,
   "nav_menu": {},
   "number_sections": true,
   "sideBar": true,
   "skip_h1_title": false,
   "title_cell": "Table of Contents",
   "title_sidebar": "Contents",
   "toc_cell": false,
   "toc_position": {},
   "toc_section_display": true,
   "toc_window_display": false
  }
 },
 "nbformat": 4,
 "nbformat_minor": 4
}
