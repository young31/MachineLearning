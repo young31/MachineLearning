{
 "cells": [
  {
   "cell_type": "code",
   "execution_count": 3,
   "metadata": {},
   "outputs": [],
   "source": [
    "import pandas as pd\n",
    "import numpy as np\n",
    "from tqdm import tqdm\n",
    "import gc\n",
    "\n",
    "import matplotlib.pyplot as plt\n",
    "import seaborn as sns\n",
    "\n",
    "import os\n",
    "import warnings\n",
    "warnings.filterwarnings('ignore')"
   ]
  },
  {
   "cell_type": "code",
   "execution_count": 15,
   "metadata": {},
   "outputs": [
    {
     "name": "stderr",
     "output_type": "stream",
     "text": [
      "Using TensorFlow backend.\n"
     ]
    }
   ],
   "source": [
    "import keras\n",
    "import tensorflow as tf\n",
    "import keras.backend as K\n",
    "from keras import optimizers, callbacks\n",
    "from keras.layers import Dense, Concatenate, Activation, Add, BatchNormalization, Dropout\n",
    "from keras.models import Input, Model, Sequential, load_model\n",
    "from sklearn.metrics import mean_absolute_error as mae\n",
    "from sklearn.metrics import mean_squared_error as mse\n",
    "from sklearn.preprocessing import StandardScaler, MinMaxScaler\n",
    "import random\n",
    "\n",
    "SEED = 42\n",
    "np.random.seed(SEED)\n",
    "tf.random.set_seed(SEED)\n",
    "os.environ['PYTHONHASHSEED']=str(SEED)\n",
    "random.seed(SEED)\n",
    "# tf.config.set_visible_devices(tf.config.list_physical_devices('CPU'))\n",
    "# logical_devices = tf.config.list_logical_devices('CPU')\n",
    "# os.environ[\"CUDA_DEVICE_ORDER\"] = \"PCI_BUS_ID\"\n",
    "# os.environ[\"CUDA_VISIBLE_DEVICES\"] = \"\"\n",
    "# tf.config.experimental.set_visible_devices([], 'GPU')\n",
    "gpus = tf.config.experimental.list_physical_devices('GPU')\n",
    "if gpus:\n",
    "    try:\n",
    "        tf.config.experimental.set_memory_growth(gpus[0], True)\n",
    "    except RuntimeError as e:\n",
    "        # 프로그램 시작시에 메모리 증가가 설정되어야만 합니다\n",
    "        print(e)\n",
    "\n",
    "def mape(y_true, y_pred):\n",
    "    return 100*np.mean((np.abs(y_true-y_pred)/y_true))\n",
    "\n",
    "def mish(x):\n",
    "    return x*K.tanh(K.softplus(x))\n",
    "\n",
    "def decay(epochs):\n",
    "    init = 1e-3\n",
    "    drop = 25\n",
    "    ratio = 0.9\n",
    "    return max(5e-5, (init * (ratio ** (epochs//drop))))    \n",
    "\n",
    "es = callbacks.EarlyStopping(patience=10, restore_best_weights=True)\n",
    "lrs = callbacks.LearningRateScheduler(decay, verbose=0)\n"
   ]
  },
  {
   "cell_type": "code",
   "execution_count": 2,
   "metadata": {},
   "outputs": [],
   "source": [
    "data = pd.read_csv('./data/data1.csv')\n",
    "df_w = pd.read_csv('./data/weather.csv')\n",
    "df_w['일교차'] = df_w['일최고기온'] - df_w['일최저기온']"
   ]
  },
  {
   "cell_type": "code",
   "execution_count": 3,
   "metadata": {},
   "outputs": [
    {
     "data": {
      "text/plain": [
       "Index(['3시간기온_9', '3시간기온_12', '3시간기온_15', '3시간기온_18', '3시간기온_21', '6시간강수량_9',\n",
       "       '6시간강수량_12', '6시간강수량_15', '6시간강수량_18', '6시간강수량_21', '강수형태_9', '강수형태_12',\n",
       "       '강수형태_15', '강수형태_18', '강수형태_21', '강수확률_9', '강수확률_12', '강수확률_15',\n",
       "       '강수확률_18', '강수확률_21', '습도_9', '습도_12', '습도_15', '습도_18', '습도_21',\n",
       "       '일최고기온', '일최저기온', '풍속_9', '풍속_12', '풍속_15', '풍속_18', '풍속_21', '풍향_9',\n",
       "       '풍향_12', '풍향_15', '풍향_18', '풍향_21', '하늘상태_9', '하늘상태_12', '하늘상태_15',\n",
       "       '하늘상태_18', '하늘상태_21', '일교차'],\n",
       "      dtype='object')"
      ]
     },
     "execution_count": 3,
     "metadata": {},
     "output_type": "execute_result"
    }
   ],
   "source": [
    "df_w.columns"
   ]
  },
  {
   "cell_type": "code",
   "execution_count": 4,
   "metadata": {
    "scrolled": true
   },
   "outputs": [],
   "source": [
    "due_cols = df_w.columns[df_w.columns.str.contains('습도')]\n",
    "rp_cols = df_w.columns[df_w.columns.str.contains('강수확률')]\n",
    "\n",
    "wd_cols = df_w.columns[df_w.columns.str.contains('풍향')]\n",
    "\n",
    "sky_cols = df_w.columns[df_w.columns.str.contains('하늘')]\n",
    "rt_cols = df_w.columns[df_w.columns.str.contains('강수형태')]\n",
    "\n",
    "pre_cols = list(due_cols) + list(rp_cols) + list(wd_cols) + list(sky_cols) + list(rt_cols)\n",
    "scale_cols = [c for c in df_w.columns if c not in pre_cols]\n",
    "\n",
    "# wp_cols = df_w.columns[df_w.columns.str.contains('풍속')]"
   ]
  },
  {
   "cell_type": "code",
   "execution_count": 5,
   "metadata": {},
   "outputs": [
    {
     "data": {
      "text/plain": [
       "(441, 43)"
      ]
     },
     "execution_count": 5,
     "metadata": {},
     "output_type": "execute_result"
    }
   ],
   "source": [
    "df_w.shape"
   ]
  },
  {
   "cell_type": "code",
   "execution_count": 6,
   "metadata": {},
   "outputs": [
    {
     "data": {
      "text/plain": [
       "array([0.000000e+00, 0.000000e+00, 0.000000e+00, 0.000000e+00,\n",
       "       0.000000e+00, 4.243131e-01, 3.052172e+00, 6.539460e+00,\n",
       "       1.514969e+01, 2.960223e+01, 4.734645e+01, 6.337880e+01,\n",
       "       6.210080e+01, 4.484939e+01, 4.704503e+01, 4.956060e+01,\n",
       "       2.854754e+01, 2.949115e+01, 1.192320e+01, 1.325924e+00,\n",
       "       1.000000e-02, 0.000000e+00, 0.000000e+00, 0.000000e+00])"
      ]
     },
     "execution_count": 6,
     "metadata": {},
     "output_type": "execute_result"
    }
   ],
   "source": [
    "data['time'] = np.repeat(range(10584), 4)\n",
    "data.groupby('time').sum()['energy'][:24].values"
   ]
  },
  {
   "cell_type": "code",
   "execution_count": 7,
   "metadata": {},
   "outputs": [
    {
     "data": {
      "text/plain": [
       "[<matplotlib.lines.Line2D at 0x1e84809e708>]"
      ]
     },
     "execution_count": 7,
     "metadata": {},
     "output_type": "execute_result"
    },
    {
     "data": {
      "image/png": "[encoded data removed]",
      "text/plain": [
       "<Figure size 432x288 with 1 Axes>"
      ]
     },
     "metadata": {
      "needs_background": "light"
     },
     "output_type": "display_data"
    }
   ],
   "source": [
    "plt.plot(data.groupby('time').sum()['energy'][:24])"
   ]
  },
  {
   "cell_type": "code",
   "execution_count": 8,
   "metadata": {},
   "outputs": [
    {
     "data": {
      "text/plain": [
       "(441, 24)"
      ]
     },
     "execution_count": 8,
     "metadata": {},
     "output_type": "execute_result"
    }
   ],
   "source": [
    "X = []\n",
    "for i in range(0, 10584, 24):\n",
    "    X.append(data.groupby('time').sum()['energy'][i:i+24].values)\n",
    "    \n",
    "X = np.array(X)\n",
    "X.shape"
   ]
  },
  {
   "cell_type": "code",
   "execution_count": 9,
   "metadata": {},
   "outputs": [],
   "source": [
    "target = X[1:]\n",
    "wX = df_w.iloc[:-1,:].values\n",
    "data = np.hstack([X[:-1], wX])"
   ]
  },
  {
   "cell_type": "code",
   "execution_count": 10,
   "metadata": {},
   "outputs": [
    {
     "data": {
      "text/plain": [
       "((440, 24), (440, 67))"
      ]
     },
     "execution_count": 10,
     "metadata": {},
     "output_type": "execute_result"
    }
   ],
   "source": [
    "target.shape, data.shape"
   ]
  },
  {
   "cell_type": "code",
   "execution_count": 11,
   "metadata": {},
   "outputs": [
    {
     "data": {
      "text/plain": [
       "array([[26., 22., 19., ...,  1.,  1., 14.],\n",
       "       [27., 22., 19., ...,  1.,  1., 14.],\n",
       "       [27., 24., 21., ...,  1.,  1., 14.],\n",
       "       ...,\n",
       "       [24., 20., 19., ...,  4.,  4., 10.],\n",
       "       [23., 19., 19., ...,  4.,  4., 11.],\n",
       "       [22., 19., 18., ...,  4.,  4., 11.]])"
      ]
     },
     "execution_count": 11,
     "metadata": {},
     "output_type": "execute_result"
    }
   ],
   "source": [
    "wX"
   ]
  },
  {
   "cell_type": "code",
   "execution_count": 12,
   "metadata": {},
   "outputs": [],
   "source": [
    "# data = data[:,10:18]\n",
    "# target = target[:,10:18]"
   ]
  },
  {
   "cell_type": "code",
   "execution_count": 16,
   "metadata": {},
   "outputs": [],
   "source": [
    "from sklearn.ensemble import RandomForestRegressor\n",
    "\n",
    "rf = RandomForestRegressor(random_state=SEED)"
   ]
  },
  {
   "cell_type": "code",
   "execution_count": 17,
   "metadata": {},
   "outputs": [],
   "source": [
    "from sklearn.model_selection import train_test_split\n",
    "\n",
    "tr_X, val_X, tr_y, val_y = train_test_split(data, target, test_size=0.15, random_state=SEED)"
   ]
  },
  {
   "cell_type": "code",
   "execution_count": 18,
   "metadata": {},
   "outputs": [
    {
     "data": {
      "text/plain": [
       "RandomForestRegressor(random_state=42)"
      ]
     },
     "execution_count": 18,
     "metadata": {},
     "output_type": "execute_result"
    }
   ],
   "source": [
    "rf.fit(tr_X, tr_y)"
   ]
  },
  {
   "cell_type": "code",
   "execution_count": 19,
   "metadata": {},
   "outputs": [
    {
     "data": {
      "text/plain": [
       "5.375720870024618"
      ]
     },
     "execution_count": 19,
     "metadata": {},
     "output_type": "execute_result"
    }
   ],
   "source": [
    "from sklearn.metrics import mean_absolute_error as mae\n",
    "\n",
    "mae(val_y, rf.predict(val_X))"
   ]
  },
  {
   "cell_type": "code",
   "execution_count": 20,
   "metadata": {},
   "outputs": [],
   "source": [
    "def custom_loss(true, pred):\n",
    "    ph = np.array([88.05, 88.18, 87.67, 84.45, 87.91, 88.99, 90.31, 92.77])\n",
    "    true = true[:,10:18]\n",
    "    pred = pred[:,10:18]\n",
    "    \n",
    "    prior = np.abs(true - pred)\n",
    "    perfect = np.zeros_like(prior)\n",
    "    prior = 0.08*113 - prior\n",
    "    prior = np.where(prior<0, 0, prior)\n",
    "    score = np.sum(prior * ph)\n",
    "    \n",
    "    perfect = 0.08*113 - perfect\n",
    "    perfect = np.where(perfect<0, 0, perfect)\n",
    "    perfect = np.sum(perfect * ph)\n",
    "#     return score\n",
    "    return -score/perfect+1\n",
    "\n",
    "\n",
    "def custom_loss_nn(true, pred):\n",
    "    ph = np.array([88.05, 88.18, 87.67, 84.45, 87.91, 88.99, 90.31, 92.77])\n",
    "    true = true[:,10:18]\n",
    "    pred = pred[:,10:18]\n",
    "    \n",
    "    prior = K.abs(true - pred)\n",
    "    perfect = K.zeros_like(prior)\n",
    "    prior = 0.08*113 - prior\n",
    "    prior = tf.where(prior<0, 0, prior)\n",
    "    score = K.sum(prior * ph)\n",
    "    \n",
    "    perfect = 0.08*113 - perfect\n",
    "    perfect = tf.where(perfect<0, 0, perfect)\n",
    "    perfect = K.sum(perfect * ph)\n",
    "#     return score\n",
    "    return -score/perfect+1"
   ]
  },
  {
   "cell_type": "code",
   "execution_count": 21,
   "metadata": {},
   "outputs": [
    {
     "data": {
      "text/plain": [
       "0.7538760010292102"
      ]
     },
     "execution_count": 21,
     "metadata": {},
     "output_type": "execute_result"
    }
   ],
   "source": [
    "custom_loss(val_y, rf.predict(val_X))"
   ]
  },
  {
   "cell_type": "code",
   "execution_count": 47,
   "metadata": {},
   "outputs": [
    {
     "data": {
      "text/plain": [
       "0.0"
      ]
     },
     "execution_count": 47,
     "metadata": {},
     "output_type": "execute_result"
    }
   ],
   "source": [
    "a = np.ones((2, 24))\n",
    "b = np.ones((2, 24))\n",
    "\n",
    "custom_loss(a, b)"
   ]
  },
  {
   "cell_type": "code",
   "execution_count": null,
   "metadata": {},
   "outputs": [],
   "source": [
    "plt.plot(val_y[1])\n",
    "plt.plot(rf.predict(val_X)[1])"
   ]
  },
  {
   "cell_type": "code",
   "execution_count": null,
   "metadata": {},
   "outputs": [],
   "source": []
  },
  {
   "cell_type": "code",
   "execution_count": null,
   "metadata": {},
   "outputs": [],
   "source": []
  },
  {
   "cell_type": "code",
   "execution_count": null,
   "metadata": {},
   "outputs": [],
   "source": []
  },
  {
   "cell_type": "code",
   "execution_count": 1,
   "metadata": {},
   "outputs": [],
   "source": [
    "def custom_loss(true, pred):\n",
    "    ph = np.array([88.05, 88.18, 87.67, 84.45, 87.91, 88.99, 90.31, 92.77])\n",
    "#     true = true[:,10:18]\n",
    "#     pred = pred[:,10:18]\n",
    "    \n",
    "    prior = np.abs(true - pred)\n",
    "    perfect = np.zeros_like(prior)\n",
    "    prior = 0.08*113 - prior\n",
    "    prior = np.where(prior<0, 0, prior)\n",
    "    score = np.sum(prior * ph)\n",
    "\n",
    "    return score"
   ]
  },
  {
   "cell_type": "code",
   "execution_count": 4,
   "metadata": {},
   "outputs": [],
   "source": [
    "a = np.array([49, 66.03, 76.71, 76.17, 73.5, 64.31, 44.15, 18.26])\n",
    "b = np.array([61.68, 80.93, 83.59, 81.32, 71.01, 54.83, 30.56, 7.47])\n",
    "c = np.array([7.49, 17.78, 37.87, 42.67, 33.62, 27.49, 21.39, 14.71])\n",
    "\n",
    "q = np.array([20.102, 42.666, 70.44, 68.267, 54.863, 47.898, 37.133, 12.915])"
   ]
  },
  {
   "cell_type": "code",
   "execution_count": 5,
   "metadata": {},
   "outputs": [
    {
     "data": {
      "text/plain": [
       "864.3478300000004"
      ]
     },
     "execution_count": 5,
     "metadata": {},
     "output_type": "execute_result"
    }
   ],
   "source": [
    "custom_loss(q, a)"
   ]
  },
  {
   "cell_type": "code",
   "execution_count": 6,
   "metadata": {},
   "outputs": [
    {
     "data": {
      "text/plain": [
       "743.8938400000004"
      ]
     },
     "execution_count": 6,
     "metadata": {},
     "output_type": "execute_result"
    }
   ],
   "source": [
    "custom_loss(q, b)"
   ]
  },
  {
   "cell_type": "code",
   "execution_count": 7,
   "metadata": {},
   "outputs": [
    {
     "data": {
      "text/plain": [
       "672.1186499999999"
      ]
     },
     "execution_count": 7,
     "metadata": {},
     "output_type": "execute_result"
    }
   ],
   "source": [
    "custom_loss(q, c)"
   ]
  },
  {
   "cell_type": "code",
   "execution_count": 21,
   "metadata": {},
   "outputs": [
    {
     "name": "stdout",
     "output_type": "stream",
     "text": [
      "0.0\n",
      "725.5009500000002\n",
      "0.0\n",
      "0.0\n",
      "742.0043549999996\n",
      "822.134114999999\n",
      "380.92757999999947\n",
      "1239.4535850000002\n"
     ]
    },
    {
     "data": {
      "text/plain": [
       "3910.0205849999984"
      ]
     },
     "execution_count": 21,
     "metadata": {},
     "output_type": "execute_result"
    }
   ],
   "source": [
    "res = 0\n",
    "ph = np.array([88.05, 88.18, 87.67, 84.45, 87.91, 88.99, 90.31, 92.77])\n",
    "# a = np.array([49, 66.03, 76.71, 76.17, 73.5, 64.31, 44.15, 18.26])\n",
    "const = 0.7\n",
    "for i in range(8):\n",
    "    res += max(0.08*113 - np.abs(a[i]*const-q[i]), 0) * ph[i] * 1.5\n",
    "    print(max(0.08*113 - np.abs(a[i]*const-q[i]), 0) * ph[i] * 1.5)\n",
    "    \n",
    "res"
   ]
  },
  {
   "cell_type": "code",
   "execution_count": 239,
   "metadata": {},
   "outputs": [
    {
     "name": "stdout",
     "output_type": "stream",
     "text": [
      "0.0\n",
      "0.0\n",
      "0.0\n",
      "0.0\n",
      "0.0\n",
      "281.38638000000077\n",
      "334.1921549999996\n",
      "500.26222500000017\n"
     ]
    },
    {
     "data": {
      "text/plain": [
       "1115.8407600000005"
      ]
     },
     "execution_count": 239,
     "metadata": {},
     "output_type": "execute_result"
    }
   ],
   "source": [
    "res = 0\n",
    "ph = np.array([88.05, 88.18, 87.67, 84.45, 87.91, 88.99, 90.31, 92.77])\n",
    "for i in range(8):\n",
    "    res += max(0.08*113 - np.abs(b[i]-q[i]), 0) * ph[i] * 1.5\n",
    "    print(max(0.08*113 - np.abs(b[i]-q[i]), 0) * ph[i] * 1.5)\n",
    "    \n",
    "res"
   ]
  },
  {
   "cell_type": "code",
   "execution_count": 241,
   "metadata": {},
   "outputs": [
    {
     "name": "stdout",
     "output_type": "stream",
     "text": [
      "0.0\n",
      "0.0\n",
      "0.0\n",
      "0.0\n",
      "0.0\n",
      "0.0\n",
      "0.0\n",
      "1008.1779749999998\n"
     ]
    },
    {
     "data": {
      "text/plain": [
       "1008.1779749999998"
      ]
     },
     "execution_count": 241,
     "metadata": {},
     "output_type": "execute_result"
    }
   ],
   "source": [
    "res = 0\n",
    "ph = np.array([88.05, 88.18, 87.67, 84.45, 87.91, 88.99, 90.31, 92.77])\n",
    "for i in range(8):\n",
    "    res += max(0.08*113 - np.abs(c[i]-q[i]), 0) * ph[i] * 1.5\n",
    "    print(max(0.08*113 - np.abs(c[i]-q[i]), 0) * ph[i] * 1.5)\n",
    "    \n",
    "res"
   ]
  },
  {
   "cell_type": "code",
   "execution_count": 104,
   "metadata": {},
   "outputs": [
    {
     "data": {
      "text/plain": [
       "9.449000000000005"
      ]
     },
     "execution_count": 104,
     "metadata": {},
     "output_type": "execute_result"
    }
   ],
   "source": [
    "64.31-54.861"
   ]
  },
  {
   "cell_type": "code",
   "execution_count": 105,
   "metadata": {},
   "outputs": [
    {
     "data": {
      "text/plain": [
       "9.040000000000001"
      ]
     },
     "execution_count": 105,
     "metadata": {},
     "output_type": "execute_result"
    }
   ],
   "source": [
    "0.08*113"
   ]
  }
 ],
 "metadata": {
  "kernelspec": {
   "display_name": "Python 3",
   "language": "python",
   "name": "python3"
  },
  "language_info": {
   "codemirror_mode": {
    "name": "ipython",
    "version": 3
   },
   "file_extension": ".py",
   "mimetype": "text/x-python",
   "name": "python",
   "nbconvert_exporter": "python",
   "pygments_lexer": "ipython3",
   "version": "3.7.7"
  }
 },
 "nbformat": 4,
 "nbformat_minor": 4
}
