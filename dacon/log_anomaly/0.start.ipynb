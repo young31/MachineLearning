{
 "cells": [
  {
   "cell_type": "code",
   "execution_count": 1,
   "metadata": {},
   "outputs": [],
   "source": [
    "import numpy as np\n",
    "import pandas as pd\n",
    "import re\n",
    "\n",
    "import seaborn as sns\n",
    "import matplotlib.pyplot as plt\n",
    "\n",
    "import os,sys,inspect\n",
    "import gc\n",
    "from tqdm import tqdm\n",
    "import random\n",
    "\n",
    "import warnings\n",
    "warnings.filterwarnings('ignore')"
   ]
  },
  {
   "cell_type": "code",
   "execution_count": 2,
   "metadata": {},
   "outputs": [],
   "source": [
    "import tensorflow as tf\n",
    "from sklearn.model_selection import train_test_split\n",
    "from tqdm import tqdm"
   ]
  },
  {
   "cell_type": "code",
   "execution_count": 3,
   "metadata": {},
   "outputs": [
    {
     "data": {
      "text/plain": [
       "((472972, 2), (1418916, 1))"
      ]
     },
     "execution_count": 3,
     "metadata": {},
     "output_type": "execute_result"
    }
   ],
   "source": [
    "train = pd.read_pickle('./data/train.pkl')\n",
    "test = pd.read_pickle('./data/test.pkl')\n",
    "\n",
    "train.shape, test.shape"
   ]
  },
  {
   "cell_type": "code",
   "execution_count": 4,
   "metadata": {},
   "outputs": [],
   "source": [
    "# expressions = {\n",
    "#     r'\\d+:\\d+:\\d+\\S': '<TIME>',\n",
    "#     r'\\d+:\\d+': '<RANGE>',\n",
    "#     r'\\d+-\\d+-\\d+\\S': '<DAY>',\n",
    "#     r'\\S\\S+[a-z] [\\s\\d]\\d': '<MON> <DATE>',\n",
    "#     r'\\d+': '<NUM>',\n",
    "#     'js:': 'js',\n",
    "#     r'\\\\n': ' ',\n",
    "#     '\\t': ' ',\n",
    "#     '\"': '',\n",
    "#     r':+\\s': ' ',\n",
    "#     ':': '=',\n",
    "#     '{': '',\n",
    "#     '}': '',\n",
    "#     '(': '',\n",
    "#     ')': '',\n",
    "#     ',': ' ',\n",
    "#     r'\\s+': ' '\n",
    "# }\n",
    "\n",
    "expressions = {\n",
    "    r'\\d+:\\d+:\\d+\\S': '<TIME>',\n",
    "    r'\\d+:\\d+': '<RANGE>',\n",
    "    r'\\d+-\\d+-\\d+\\S': '<DAY>',\n",
    "    r'\\S\\S+[a-z] [\\s\\d]\\d': '<MON> <DATE>',\n",
    "    r'\\d+': '<NUM>',\n",
    "#     'js:': 'js',\n",
    "#     r'\\\\n|\\s+|,|:+\\s': ' ',\n",
    "    r'\\\\n|,|[[]|[]]|[=]|[:]': ' ',\n",
    "    r'[{]|[}]|[(]|[)]|[\"]|[\\\\]+': '',\n",
    "#     ':': '=',\n",
    "}\n",
    "\n",
    "def strip_strs(x):\n",
    "    phrases = re.findall(r'\"+[\\S\\s]+?\"', x)\n",
    "    for ph in phrases:\n",
    "        x = x.replace(ph, ph.replace(' ', ''))\n",
    "    return x\n",
    "\n",
    "def convert(x):\n",
    "    for f, t in expressions.items():\n",
    "        x = re.sub(f, t, x)\n",
    "    return x\n",
    "\n",
    "def convert_df(df_, col='full_log'):\n",
    "    df = df_.copy()\n",
    "    df[col] = df[col].map(strip_strs)\n",
    "    for f, t in expressions.items():\n",
    "        df[col] = df[col].str.replace(f, t)\n",
    "        \n",
    "    return df"
   ]
  },
  {
   "cell_type": "code",
   "execution_count": 5,
   "metadata": {
    "scrolled": true
   },
   "outputs": [
    {
     "name": "stdout",
     "output_type": "stream",
     "text": [
      "Wall time: 33min 12s\n"
     ]
    },
    {
     "data": {
      "text/html": [
       "<div>\n",
       "<style scoped>\n",
       "    .dataframe tbody tr th:only-of-type {\n",
       "        vertical-align: middle;\n",
       "    }\n",
       "\n",
       "    .dataframe tbody tr th {\n",
       "        vertical-align: top;\n",
       "    }\n",
       "\n",
       "    .dataframe thead th {\n",
       "        text-align: right;\n",
       "    }\n",
       "</style>\n",
       "<table border=\"1\" class=\"dataframe\">\n",
       "  <thead>\n",
       "    <tr style=\"text-align: right;\">\n",
       "      <th></th>\n",
       "      <th>level</th>\n",
       "      <th>full_log</th>\n",
       "    </tr>\n",
       "    <tr>\n",
       "      <th>id</th>\n",
       "      <th></th>\n",
       "      <th></th>\n",
       "    </tr>\n",
       "  </thead>\n",
       "  <tbody>\n",
       "    <tr>\n",
       "      <th>0</th>\n",
       "      <td>0</td>\n",
       "      <td>&lt;MON&gt; &lt;DATE&gt; &lt;TIME&gt; localhost kibana  type err...</td>\n",
       "    </tr>\n",
       "    <tr>\n",
       "      <th>1</th>\n",
       "      <td>0</td>\n",
       "      <td>&lt;MON&gt; &lt;DATE&gt; &lt;TIME&gt; localhost logstash   &lt;DAY&gt;...</td>\n",
       "    </tr>\n",
       "    <tr>\n",
       "      <th>2</th>\n",
       "      <td>0</td>\n",
       "      <td>&lt;MON&gt; &lt;DATE&gt; &lt;TIME&gt; localhost kibana  type err...</td>\n",
       "    </tr>\n",
       "    <tr>\n",
       "      <th>3</th>\n",
       "      <td>0</td>\n",
       "      <td>&lt;MON&gt; &lt;DATE&gt; &lt;TIME&gt; localhost kibana  type err...</td>\n",
       "    </tr>\n",
       "    <tr>\n",
       "      <th>4</th>\n",
       "      <td>1</td>\n",
       "      <td>type SYSCALL msg audit&lt;NUM&gt;.&lt;RANGE&gt;  arch c&lt;NU...</td>\n",
       "    </tr>\n",
       "    <tr>\n",
       "      <th>...</th>\n",
       "      <td>...</td>\n",
       "      <td>...</td>\n",
       "    </tr>\n",
       "    <tr>\n",
       "      <th>472967</th>\n",
       "      <td>0</td>\n",
       "      <td>&lt;MON&gt; &lt;DATE&gt; &lt;TIME&gt; localhost logstash  &lt;NUM&gt; ...</td>\n",
       "    </tr>\n",
       "    <tr>\n",
       "      <th>472968</th>\n",
       "      <td>1</td>\n",
       "      <td>type SYSCALL msg audit&lt;NUM&gt;.&lt;RANGE&gt;  arch c&lt;NU...</td>\n",
       "    </tr>\n",
       "    <tr>\n",
       "      <th>472969</th>\n",
       "      <td>0</td>\n",
       "      <td>&lt;MON&gt; &lt;DATE&gt; &lt;TIME&gt; localhost kibana  type log...</td>\n",
       "    </tr>\n",
       "    <tr>\n",
       "      <th>472970</th>\n",
       "      <td>0</td>\n",
       "      <td>&lt;MON&gt; &lt;DATE&gt; &lt;TIME&gt; localhost kibana  type err...</td>\n",
       "    </tr>\n",
       "    <tr>\n",
       "      <th>472971</th>\n",
       "      <td>0</td>\n",
       "      <td>&lt;MON&gt; &lt;DATE&gt; &lt;TIME&gt; localhost kibana  type err...</td>\n",
       "    </tr>\n",
       "  </tbody>\n",
       "</table>\n",
       "<p>472972 rows × 2 columns</p>\n",
       "</div>"
      ],
      "text/plain": [
       "        level                                           full_log\n",
       "id                                                              \n",
       "0           0  <MON> <DATE> <TIME> localhost kibana  type err...\n",
       "1           0  <MON> <DATE> <TIME> localhost logstash   <DAY>...\n",
       "2           0  <MON> <DATE> <TIME> localhost kibana  type err...\n",
       "3           0  <MON> <DATE> <TIME> localhost kibana  type err...\n",
       "4           1  type SYSCALL msg audit<NUM>.<RANGE>  arch c<NU...\n",
       "...       ...                                                ...\n",
       "472967      0  <MON> <DATE> <TIME> localhost logstash  <NUM> ...\n",
       "472968      1  type SYSCALL msg audit<NUM>.<RANGE>  arch c<NU...\n",
       "472969      0  <MON> <DATE> <TIME> localhost kibana  type log...\n",
       "472970      0  <MON> <DATE> <TIME> localhost kibana  type err...\n",
       "472971      0  <MON> <DATE> <TIME> localhost kibana  type err...\n",
       "\n",
       "[472972 rows x 2 columns]"
      ]
     },
     "execution_count": 5,
     "metadata": {},
     "output_type": "execute_result"
    }
   ],
   "source": [
    "%%time\n",
    "df = convert_df(train, 'full_log')\n",
    "test_X = convert_df(test)\n",
    "df"
   ]
  },
  {
   "cell_type": "code",
   "execution_count": 6,
   "metadata": {},
   "outputs": [],
   "source": [
    "tr_sent = list(map(list, map(lambda x: filter(lambda y: len(y)>0, x.split(' ')), df['full_log'].values)))\n",
    "test_sent = list(map(list, map(lambda x: filter(lambda y: len(y)>0, x.split(' ')), test_X['full_log'].values)))"
   ]
  },
  {
   "cell_type": "code",
   "execution_count": 8,
   "metadata": {},
   "outputs": [],
   "source": [
    "import gensim\n",
    "\n",
    "emb_dim = 64\n",
    "w2v = gensim.models.Word2Vec(tr_sent, vector_size =emb_dim, sg=1, workers=4)"
   ]
  },
  {
   "cell_type": "code",
   "execution_count": 9,
   "metadata": {},
   "outputs": [],
   "source": [
    "w2v.build_vocab(np.array(tr_sent))"
   ]
  },
  {
   "cell_type": "code",
   "execution_count": 10,
   "metadata": {},
   "outputs": [
    {
     "data": {
      "text/plain": [
       "(1183564425, 2260737100)"
      ]
     },
     "execution_count": 10,
     "metadata": {},
     "output_type": "execute_result"
    }
   ],
   "source": [
    "w2v.train(np.array(tr_sent),\n",
    "         total_examples = w2v.corpus_count,\n",
    "         epochs=100,\n",
    "         compute_loss=True)"
   ]
  },
  {
   "cell_type": "code",
   "execution_count": 11,
   "metadata": {},
   "outputs": [
    {
     "data": {
      "text/plain": [
       "['<MON>',\n",
       " '<DATE>',\n",
       " '<TIME>',\n",
       " 'localhost',\n",
       " 'kibana',\n",
       " 'type',\n",
       " 'error',\n",
       " '@timestamp',\n",
       " '<DAY><TIME>',\n",
       " 'tags',\n",
       " 'warning',\n",
       " 'stats-collection',\n",
       " 'pid',\n",
       " '<NUM>',\n",
       " 'level',\n",
       " 'error',\n",
       " 'error',\n",
       " 'message',\n",
       " 'NoLivingconnections',\n",
       " 'name',\n",
       " 'Error',\n",
       " 'stack',\n",
       " 'Error',\n",
       " 'NoLivingconnections',\n",
       " 'atsendReqWithConnection/usr/share/kibana/node_modules/elasticsearch/src/lib/transport.js',\n",
       " '<RANGE>',\n",
       " 'atnext/usr/share/kibana/node_modules/elasticsearch/src/lib/connection_pool.js',\n",
       " '<RANGE>',\n",
       " 'atprocess._tickCallbackinternal/process/next_tick.js',\n",
       " '<RANGE>',\n",
       " 'message',\n",
       " 'NoLivingconnections']"
      ]
     },
     "execution_count": 11,
     "metadata": {},
     "output_type": "execute_result"
    }
   ],
   "source": [
    "tr_sent[0]"
   ]
  },
  {
   "cell_type": "code",
   "execution_count": 13,
   "metadata": {},
   "outputs": [],
   "source": [
    "def featureVecMethod(words, model, num_features):\n",
    "    # Pre-initialising empty numpy array for speed\n",
    "    featureVec = np.zeros(num_features,dtype=\"float32\")\n",
    "    nwords = 0\n",
    "    \n",
    "    #Converting Index2Word which is a list to a set for better speed in the execution.\n",
    "    index2word_set = set(model.wv.index_to_key)\n",
    "    \n",
    "    for word in  words:\n",
    "        if word in index2word_set:\n",
    "            nwords = nwords + 1\n",
    "            featureVec = np.add(featureVec,model.wv[word])\n",
    "    \n",
    "    # Dividing the result by number of words to get average\n",
    "    featureVec = np.divide(featureVec, nwords)\n",
    "    return featureVec\n",
    "\n",
    "def getAvgFeatureVecs(sents, model, num_features):\n",
    "    counter = 0\n",
    "    reviewFeatureVecs = np.zeros((len(sents),num_features),dtype=\"float32\")\n",
    "    for sent in tqdm(sents):\n",
    "        reviewFeatureVecs[counter] = featureVecMethod(sent, model, num_features)\n",
    "        counter += 1\n",
    "\n",
    "    return reviewFeatureVecs"
   ]
  },
  {
   "cell_type": "code",
   "execution_count": 14,
   "metadata": {
    "scrolled": true
   },
   "outputs": [
    {
     "name": "stderr",
     "output_type": "stream",
     "text": [
      "100%|██████████| 472972/472972 [05:30<00:00, 1431.17it/s]\n"
     ]
    }
   ],
   "source": [
    "emb_X = getAvgFeatureVecs(tr_sent, w2v, emb_dim)\n",
    "# emb_test_X = getAvgFeatureVecs(test_sent, w2v, emb_dim)\n"
   ]
  },
  {
   "cell_type": "code",
   "execution_count": 15,
   "metadata": {},
   "outputs": [],
   "source": [
    "TEST_SIZE=0.2\n",
    "RANDOM_SEED=42\n",
    "\n",
    "tr_X, val_X, tr_y, val_y=train_test_split(emb_X, df['level'], test_size=TEST_SIZE, random_state=RANDOM_SEED)"
   ]
  },
  {
   "cell_type": "code",
   "execution_count": 16,
   "metadata": {},
   "outputs": [
    {
     "data": {
      "text/plain": [
       "RandomForestClassifier(class_weight='balanced', n_jobs=-1)"
      ]
     },
     "execution_count": 16,
     "metadata": {},
     "output_type": "execute_result"
    }
   ],
   "source": [
    "from sklearn.ensemble import RandomForestClassifier\n",
    "from sklearn.metrics import f1_score\n",
    "\n",
    "forest=RandomForestClassifier(n_estimators=100, n_jobs=-1, class_weight='balanced')\n",
    "\n",
    "forest.fit(tr_X, tr_y)"
   ]
  },
  {
   "cell_type": "code",
   "execution_count": 17,
   "metadata": {},
   "outputs": [
    {
     "data": {
      "text/plain": [
       "0.8512914017380779"
      ]
     },
     "execution_count": 17,
     "metadata": {},
     "output_type": "execute_result"
    }
   ],
   "source": [
    "preds=forest.predict(val_X)\n",
    "probas=forest.predict_proba(val_X)\n",
    "\n",
    "f1_score(val_y, preds, average='macro')"
   ]
  },
  {
   "cell_type": "code",
   "execution_count": 18,
   "metadata": {},
   "outputs": [
    {
     "data": {
      "text/html": [
       "<div>\n",
       "<style scoped>\n",
       "    .dataframe tbody tr th:only-of-type {\n",
       "        vertical-align: middle;\n",
       "    }\n",
       "\n",
       "    .dataframe tbody tr th {\n",
       "        vertical-align: top;\n",
       "    }\n",
       "\n",
       "    .dataframe thead th {\n",
       "        text-align: right;\n",
       "    }\n",
       "</style>\n",
       "<table border=\"1\" class=\"dataframe\">\n",
       "  <thead>\n",
       "    <tr style=\"text-align: right;\">\n",
       "      <th>pred</th>\n",
       "      <th>0</th>\n",
       "      <th>1</th>\n",
       "      <th>2</th>\n",
       "      <th>3</th>\n",
       "      <th>4</th>\n",
       "      <th>5</th>\n",
       "      <th>7</th>\n",
       "    </tr>\n",
       "    <tr>\n",
       "      <th>real</th>\n",
       "      <th></th>\n",
       "      <th></th>\n",
       "      <th></th>\n",
       "      <th></th>\n",
       "      <th></th>\n",
       "      <th></th>\n",
       "      <th></th>\n",
       "    </tr>\n",
       "  </thead>\n",
       "  <tbody>\n",
       "    <tr>\n",
       "      <th>0</th>\n",
       "      <td>66579</td>\n",
       "      <td>25</td>\n",
       "      <td>0</td>\n",
       "      <td>0</td>\n",
       "      <td>0</td>\n",
       "      <td>1</td>\n",
       "      <td>181</td>\n",
       "    </tr>\n",
       "    <tr>\n",
       "      <th>1</th>\n",
       "      <td>51</td>\n",
       "      <td>26416</td>\n",
       "      <td>0</td>\n",
       "      <td>0</td>\n",
       "      <td>0</td>\n",
       "      <td>0</td>\n",
       "      <td>80</td>\n",
       "    </tr>\n",
       "    <tr>\n",
       "      <th>2</th>\n",
       "      <td>0</td>\n",
       "      <td>0</td>\n",
       "      <td>2</td>\n",
       "      <td>0</td>\n",
       "      <td>0</td>\n",
       "      <td>0</td>\n",
       "      <td>0</td>\n",
       "    </tr>\n",
       "    <tr>\n",
       "      <th>3</th>\n",
       "      <td>1</td>\n",
       "      <td>0</td>\n",
       "      <td>0</td>\n",
       "      <td>797</td>\n",
       "      <td>0</td>\n",
       "      <td>0</td>\n",
       "      <td>3</td>\n",
       "    </tr>\n",
       "    <tr>\n",
       "      <th>4</th>\n",
       "      <td>0</td>\n",
       "      <td>0</td>\n",
       "      <td>0</td>\n",
       "      <td>0</td>\n",
       "      <td>2</td>\n",
       "      <td>0</td>\n",
       "      <td>1</td>\n",
       "    </tr>\n",
       "    <tr>\n",
       "      <th>5</th>\n",
       "      <td>6</td>\n",
       "      <td>1</td>\n",
       "      <td>0</td>\n",
       "      <td>0</td>\n",
       "      <td>0</td>\n",
       "      <td>437</td>\n",
       "      <td>9</td>\n",
       "    </tr>\n",
       "    <tr>\n",
       "      <th>6</th>\n",
       "      <td>0</td>\n",
       "      <td>0</td>\n",
       "      <td>0</td>\n",
       "      <td>0</td>\n",
       "      <td>0</td>\n",
       "      <td>0</td>\n",
       "      <td>3</td>\n",
       "    </tr>\n",
       "  </tbody>\n",
       "</table>\n",
       "</div>"
      ],
      "text/plain": [
       "pred      0      1  2    3  4    5    7\n",
       "real                                   \n",
       "0     66579     25  0    0  0    1  181\n",
       "1        51  26416  0    0  0    0   80\n",
       "2         0      0  2    0  0    0    0\n",
       "3         1      0  0  797  0    0    3\n",
       "4         0      0  0    0  2    0    1\n",
       "5         6      1  0    0  0  437    9\n",
       "6         0      0  0    0  0    0    3"
      ]
     },
     "execution_count": 18,
     "metadata": {},
     "output_type": "execute_result"
    }
   ],
   "source": [
    "preds[np.where(np.max(probas, axis=1)<0.7)]=7\n",
    "new_crosstab = pd.crosstab(val_y, preds, rownames=['real'], colnames=['pred'])\n",
    "new_crosstab\n"
   ]
  },
  {
   "cell_type": "code",
   "execution_count": null,
   "metadata": {},
   "outputs": [],
   "source": []
  },
  {
   "cell_type": "code",
   "execution_count": 19,
   "metadata": {},
   "outputs": [],
   "source": [
    "import tensorflow as tf\n",
    "from tensorflow.keras.layers import Dense, Activation\n",
    "from tensorflow.keras.models import Sequential, Model\n",
    "from tensorflow.keras import optimizers, callbacks\n",
    "\n",
    "es = callbacks.EarlyStopping(patience=2, restore_best_weights=True)\n"
   ]
  },
  {
   "cell_type": "code",
   "execution_count": 20,
   "metadata": {},
   "outputs": [],
   "source": [
    "nn = Sequential([\n",
    "    Dense(emb_dim, activation='relu'),\n",
    "    Dense(emb_dim//2, activation='relu'),\n",
    "    Dense(7, activation='softmax')\n",
    "])"
   ]
  },
  {
   "cell_type": "code",
   "execution_count": 24,
   "metadata": {
    "scrolled": true
   },
   "outputs": [
    {
     "name": "stdout",
     "output_type": "stream",
     "text": [
      "Epoch 1/10\n",
      "11800/11825 [============================>.] - ETA: 0s - loss: 0.0044WARNING:tensorflow:Callbacks method `on_test_batch_end` is slow compared to the batch time (batch time: 0.0004s vs `on_test_batch_end` time: 0.0008s). Check your callbacks.\n",
      "11825/11825 [==============================] - 20s 2ms/step - loss: 0.0044 - val_loss: 0.0047\n",
      "Epoch 2/10\n",
      "11825/11825 [==============================] - 19s 2ms/step - loss: 0.0044 - val_loss: 0.0047\n",
      "Epoch 3/10\n",
      "11825/11825 [==============================] - 19s 2ms/step - loss: 0.0043 - val_loss: 0.0047\n",
      "Epoch 4/10\n",
      "11825/11825 [==============================] - 19s 2ms/step - loss: 0.0043 - val_loss: 0.0047\n",
      "Epoch 5/10\n",
      "11825/11825 [==============================] - 19s 2ms/step - loss: 0.0042 - val_loss: 0.0048\n"
     ]
    },
    {
     "data": {
      "text/plain": [
       "<tensorflow.python.keras.callbacks.History at 0x191100f0d08>"
      ]
     },
     "execution_count": 24,
     "metadata": {},
     "output_type": "execute_result"
    }
   ],
   "source": [
    "nn.compile(loss='sparse_categorical_crossentropy', optimizer=optimizers.Adam(2e-4))\n",
    "\n",
    "nn.fit(tr_X, tr_y,\n",
    "      epochs=10,\n",
    "      validation_data=(val_X, val_y),\n",
    "      callbacks=[es])"
   ]
  },
  {
   "cell_type": "code",
   "execution_count": 25,
   "metadata": {},
   "outputs": [
    {
     "data": {
      "text/plain": [
       "0.8508106311948229"
      ]
     },
     "execution_count": 25,
     "metadata": {},
     "output_type": "execute_result"
    }
   ],
   "source": [
    "preds=nn.predict(val_X)\n",
    "# probas=forest.predict_proba(val_X)\n",
    "\n",
    "f1_score(val_y, np.argmax(preds, 1), average='macro')"
   ]
  }
 ],
 "metadata": {
  "kernelspec": {
   "display_name": "Python 3",
   "language": "python",
   "name": "python3"
  },
  "language_info": {
   "codemirror_mode": {
    "name": "ipython",
    "version": 3
   },
   "file_extension": ".py",
   "mimetype": "text/x-python",
   "name": "python",
   "nbconvert_exporter": "python",
   "pygments_lexer": "ipython3",
   "version": "3.7.7"
  },
  "toc": {
   "base_numbering": 1,
   "nav_menu": {},
   "number_sections": true,
   "sideBar": true,
   "skip_h1_title": false,
   "title_cell": "Table of Contents",
   "title_sidebar": "Contents",
   "toc_cell": false,
   "toc_position": {},
   "toc_section_display": true,
   "toc_window_display": false
  }
 },
 "nbformat": 4,
 "nbformat_minor": 4
}
