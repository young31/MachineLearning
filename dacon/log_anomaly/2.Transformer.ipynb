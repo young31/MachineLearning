{
 "cells": [
  {
   "cell_type": "code",
   "execution_count": 1,
   "metadata": {},
   "outputs": [],
   "source": [
    "import numpy as np\n",
    "import pandas as pd\n",
    "import re\n",
    "\n",
    "import seaborn as sns\n",
    "import matplotlib.pyplot as plt\n",
    "\n",
    "import os,sys,inspect\n",
    "import gc\n",
    "from tqdm import tqdm\n",
    "import random\n",
    "\n",
    "import warnings\n",
    "warnings.filterwarnings('ignore')"
   ]
  },
  {
   "cell_type": "code",
   "execution_count": 2,
   "metadata": {},
   "outputs": [],
   "source": [
    "import tensorflow as tf\n",
    "from sklearn.model_selection import train_test_split\n",
    "from tqdm import tqdm"
   ]
  },
  {
   "cell_type": "code",
   "execution_count": 3,
   "metadata": {},
   "outputs": [],
   "source": [
    "SEED = 42\n",
    "np.random.seed(SEED)\n",
    "tf.random.set_seed(SEED)\n",
    "os.environ['PYTHONHASHSEED']=str(SEED)"
   ]
  },
  {
   "cell_type": "code",
   "execution_count": 4,
   "metadata": {},
   "outputs": [],
   "source": [
    "from collections import Counter\n",
    "from sklearn.feature_extraction.text import TfidfVectorizer, CountVectorizer\n",
    "from sklearn.ensemble import RandomForestClassifier\n",
    "from sklearn.metrics import f1_score\n",
    "from sklearn.model_selection import StratifiedKFold\n"
   ]
  },
  {
   "cell_type": "code",
   "execution_count": 5,
   "metadata": {},
   "outputs": [
    {
     "data": {
      "text/plain": [
       "((472972, 2), (1418916, 1))"
      ]
     },
     "execution_count": 5,
     "metadata": {},
     "output_type": "execute_result"
    }
   ],
   "source": [
    "train = pd.read_pickle('./data/train.pkl')\n",
    "test = pd.read_pickle('./data/test.pkl')\n",
    "\n",
    "train.shape, test.shape"
   ]
  },
  {
   "cell_type": "code",
   "execution_count": 7,
   "metadata": {},
   "outputs": [],
   "source": [
    "expressions = {\n",
    "    r'\\d{2}:\\d{2}:\\d{2}': '<TIME>',\n",
    "    r'\\d+:\\d+:\\d+': '<RANGE>',\n",
    "    r'\\d+:\\d+': '<RANGE>',\n",
    "    r'\\d+-\\d+-\\d+\\S': '<DAY>',\n",
    "    r'[A-Z][a-z]{2} [\\s\\d]\\d': '<MON> <DATE>',\n",
    "#     r'\\d+': '<NUM>',\n",
    "#     'js:': 'js',\n",
    "#     r'\\\\n|\\s+|,|:+\\s': ' ',\n",
    "    r'\\\\n|[,]|[[]|[]]': ' ', # |[=]|[:] \n",
    "    r'[{]|[}]|[(]|[)]|[\"]|[\\\\]+': '',\n",
    "#     ':': '=',\n",
    "}\n",
    "\n",
    "def strip_strs(x):\n",
    "    phrases = re.findall(r'\"+[\\S\\s]+?\"', x)\n",
    "    for ph in phrases:\n",
    "        x = x.replace(ph, ph.replace(' ', ''))\n",
    "    return x\n",
    "\n",
    "def convert(x):\n",
    "    for f, t in expressions.items():\n",
    "        x = re.sub(f, t, x)\n",
    "    return x\n",
    "\n",
    "def convert_df(df_, col='full_log'):\n",
    "    df = df_.copy()\n",
    "    df[col] = df[col].map(strip_strs)\n",
    "#     df[col] = df[col].str.replace(r'system_u:object_r:bin_t:s0', '<SYSTEM>')\n",
    "    df[col] = df[col].str.replace(r'audit\\(\\w+\\.\\w+:\\w+\\):', '<audit_LISTEN>')\n",
    "    df[col] = df[col].str.replace(r'http[s]?[:\\/\\/]+[\\d|.|\\S]+[/]', '<URL>')\n",
    "    df[col] = df[col].str.replace(r'\\d+\\.\\d+\\.\\d+\\.\\d+[:\\d+]?', '<URL>')\n",
    "#     df[col] = df[col].str.replace(r'\\d+\\.\\d+\\.\\d+\\.\\d+', '<URL>')\n",
    "    \n",
    "    for f, t in expressions.items():\n",
    "        df[col] = df[col].str.replace(f, t)\n",
    "        \n",
    "    df[col] = df[col].str.replace('<DAY><TIME>', '<DAY> <TIME>')\n",
    "#     df[col] = df[col].str.replace('@timestamp:<DAY>', '@timestamp: <DAY>')\n",
    "    df[col] = df[col].str.replace(r'\\S<DAY>', ' <DAY>')\n",
    "    df[col] = df[col].str.replace(r'>\\d?', '> ')\n",
    "    \n",
    "    df[col] = df[col].str.replace(r' \\d+ ', ' <NUM> ')\n",
    "    \n",
    "    df[col] = df[col].str.replace('  ', ' ')\n",
    "    return df\n",
    "\n",
    "# re.findall(r'[a-z]+_u:[a-z]+_r:\\w+:\\w+', test_X['full_log'].values[41])"
   ]
  },
  {
   "cell_type": "code",
   "execution_count": 8,
   "metadata": {
    "scrolled": true
   },
   "outputs": [
    {
     "name": "stdout",
     "output_type": "stream",
     "text": [
      "Wall time: 3min 44s\n"
     ]
    }
   ],
   "source": [
    "%%time\n",
    "df = convert_df(train, 'full_log')\n",
    "test_X = convert_df(test)\n",
    "# df"
   ]
  },
  {
   "cell_type": "code",
   "execution_count": null,
   "metadata": {},
   "outputs": [],
   "source": [
    "tr_X, val_X, tr_y, val_y = train_test_split(df['full_log'], df['level'], \n",
    "                                            test_size=0.2, \n",
    "                                            random_state=SEED,\n",
    "                                           stratify=df['level'].values)\n"
   ]
  },
  {
   "cell_type": "code",
   "execution_count": 9,
   "metadata": {},
   "outputs": [],
   "source": [
    "tr_X = df['full_log']\n",
    "tr_y = df['level']\n",
    "\n",
    "test_X = test_X['full_log']"
   ]
  },
  {
   "cell_type": "code",
   "execution_count": 13,
   "metadata": {
    "scrolled": true
   },
   "outputs": [
    {
     "name": "stdout",
     "output_type": "stream",
     "text": [
      "Wall time: 1min 29s\n"
     ]
    }
   ],
   "source": [
    "%%time\n",
    "MIN_WORDS = 50\n",
    "\n",
    "tok = tf.keras.preprocessing.text.Tokenizer(filters='')\n",
    "tok.fit_on_texts(tr_X)\n",
    "counter = tok.word_counts\n",
    "\n",
    "tr_X.iloc[:] = list(map(lambda x: ' '.join(x), map(lambda x: list(filter(lambda x: len(x) > 1 and x in counter.keys() and counter[x] > MIN_WORDS, x.lower().split(' '))), tr_X)))\n",
    "# val_X.iloc[:] = list(map(lambda x: ' '.join(x), map(lambda x: list(filter(lambda x: len(x) > 1 and x in counter.keys() and counter[x] > MIN_WORDS, x.lower().split(' '))), val_X)))\n",
    "test_X.iloc[:] = list(map(lambda x: ' '.join(x), map(lambda x: list(filter(lambda x: len(x) > 1 and x in counter.keys() and counter[x] > MIN_WORDS, x.lower().split(' '))), test_X)))\n"
   ]
  },
  {
   "cell_type": "code",
   "execution_count": 14,
   "metadata": {},
   "outputs": [
    {
     "data": {
      "text/plain": [
       "20"
      ]
     },
     "execution_count": 14,
     "metadata": {},
     "output_type": "execute_result"
    }
   ],
   "source": [
    "import gc\n",
    "\n",
    "gc.collect()"
   ]
  },
  {
   "cell_type": "code",
   "execution_count": 15,
   "metadata": {},
   "outputs": [],
   "source": [
    "tok = tf.keras.preprocessing.text.Tokenizer(filters='')\n",
    "tok.fit_on_texts(tr_X)"
   ]
  },
  {
   "cell_type": "code",
   "execution_count": 18,
   "metadata": {
    "scrolled": true
   },
   "outputs": [],
   "source": [
    "x_train = tok.texts_to_sequences(tr_X)\n",
    "# x_val = tok.texts_to_sequences(val_X)\n",
    "x_test = tok.texts_to_sequences(test_X)\n",
    "\n",
    "maxlen=100\n",
    "\n",
    "x_train_vector = tf.keras.preprocessing.sequence.pad_sequences(\n",
    "    x_train, maxlen=maxlen, padding='post', truncating='post'\n",
    ")\n",
    "\n",
    "# x_val_vector = tf.keras.preprocessing.sequence.pad_sequences(\n",
    "#     x_val, maxlen=maxlen, padding='post', truncating='post'\n",
    "# )\n",
    "\n",
    "x_test_vector = tf.keras.preprocessing.sequence.pad_sequences(\n",
    "    x_test, maxlen=maxlen, padding='post', truncating='post'\n",
    ")"
   ]
  },
  {
   "cell_type": "code",
   "execution_count": 19,
   "metadata": {
    "scrolled": true
   },
   "outputs": [],
   "source": [
    "from tensorflow import keras\n",
    "import tensorflow_addons as tfa\n",
    "from tensorflow.keras import layers\n",
    "from tensorflow_addons.layers import MultiHeadAttention\n",
    "\n",
    "class TokenAndPositionEmbedding(layers.Layer):\n",
    "    def __init__(self, maxlen, vocab_size, embed_dim):\n",
    "        super(TokenAndPositionEmbedding, self).__init__()\n",
    "        self.token_emb = layers.Embedding(input_dim=vocab_size, output_dim=embed_dim)\n",
    "        self.pos_emb = layers.Embedding(input_dim=maxlen, output_dim=embed_dim)\n",
    "\n",
    "    def call(self, x):\n",
    "        maxlen = tf.shape(x)[-1]\n",
    "        positions = tf.range(start=0, limit=maxlen, delta=1)\n",
    "        positions = self.pos_emb(positions)\n",
    "        x = self.token_emb(x)\n",
    "        return x + positions\n",
    "    \n",
    "    \n",
    "class TransformerBlock(layers.Layer):\n",
    "    def __init__(self, embed_dim, num_heads, ff_dim, rate=0.1):\n",
    "        super(TransformerBlock, self).__init__()\n",
    "        self.att = MultiHeadAttention(num_heads=num_heads, head_size=embed_dim)\n",
    "        self.ffn = keras.Sequential(\n",
    "            [layers.Dense(ff_dim, activation=\"relu\"), layers.Dense(embed_dim),]\n",
    "        )\n",
    "        self.layernorm1 = layers.LayerNormalization(epsilon=1e-6)\n",
    "        self.layernorm2 = layers.LayerNormalization(epsilon=1e-6)\n",
    "        self.dropout1 = layers.Dropout(rate)\n",
    "        self.dropout2 = layers.Dropout(rate)\n",
    "\n",
    "    def call(self, inputs, training):\n",
    "        attn_output = self.att([inputs, inputs])\n",
    "        attn_output = self.dropout1(attn_output, training=training)\n",
    "        out1 = self.layernorm1(inputs + attn_output)\n",
    "        ffn_output = self.ffn(out1)\n",
    "        ffn_output = self.dropout2(ffn_output, training=training)\n",
    "        return self.layernorm2(out1 + ffn_output)"
   ]
  },
  {
   "cell_type": "code",
   "execution_count": 20,
   "metadata": {
    "scrolled": true
   },
   "outputs": [
    {
     "name": "stdout",
     "output_type": "stream",
     "text": [
      "Model: \"functional_1\"\n",
      "_________________________________________________________________\n",
      "Layer (type)                 Output Shape              Param #   \n",
      "=================================================================\n",
      "input_1 (InputLayer)         [(None, 100)]             0         \n",
      "_________________________________________________________________\n",
      "token_and_position_embedding (None, 100, 256)          483584    \n",
      "_________________________________________________________________\n",
      "transformer_block (Transform (None, 100, 256)          2361344   \n",
      "_________________________________________________________________\n",
      "transformer_block_1 (Transfo (None, 100, 256)          2361344   \n",
      "_________________________________________________________________\n",
      "global_average_pooling1d (Gl (None, 256)               0         \n",
      "_________________________________________________________________\n",
      "dropout_6 (Dropout)          (None, 256)               0         \n",
      "_________________________________________________________________\n",
      "dense_4 (Dense)              (None, 32)                8224      \n",
      "_________________________________________________________________\n",
      "dropout_7 (Dropout)          (None, 32)                0         \n",
      "_________________________________________________________________\n",
      "dense_5 (Dense)              (None, 7)                 231       \n",
      "=================================================================\n",
      "Total params: 5,214,727\n",
      "Trainable params: 5,214,727\n",
      "Non-trainable params: 0\n",
      "_________________________________________________________________\n"
     ]
    }
   ],
   "source": [
    "# maxlen = 150\n",
    "emb_dim = 256\n",
    "vocab_size = len(tok.word_index)+1\n",
    "num_heads = 8  # Number of attention heads\n",
    "ff_dim = 512  # Hidden layer size in feed forward network inside transformer\n",
    "num_blocks = 4\n",
    "\n",
    "embedding_layer = TokenAndPositionEmbedding(maxlen, vocab_size, emb_dim)\n",
    "transformer_blocks = [\n",
    "    TransformerBlock(emb_dim, num_heads, ff_dim) for _ in range(num_blocks)]\n",
    "\n",
    "inputs = layers.Input(shape=(maxlen,))\n",
    "\n",
    "x = embedding_layer(inputs)\n",
    "for i in range(num_blocks):\n",
    "    x = transformer_blocks[i](x)\n",
    "    \n",
    "x = layers.GlobalAveragePooling1D()(x)\n",
    "x = layers.Dropout(0.1)(x)\n",
    "x = layers.Dense(32, activation=\"relu\")(x)\n",
    "x = layers.Dropout(0.1)(x)\n",
    "outputs = layers.Dense(7, activation=\"softmax\")(x)\n",
    "\n",
    "model = keras.Model(inputs=inputs, outputs=outputs)\n",
    "model.summary()"
   ]
  },
  {
   "cell_type": "code",
   "execution_count": 21,
   "metadata": {},
   "outputs": [
    {
     "data": {
      "text/plain": [
       "Counter({0: 0.7079041503898942,\n",
       "         1: 1.7845710361689444,\n",
       "         3: 57.10842791596233,\n",
       "         5: 106.57323118521857,\n",
       "         2: 19707.166666666664,\n",
       "         4: 23648.600000000002,\n",
       "         6: 29560.75})"
      ]
     },
     "execution_count": 21,
     "metadata": {},
     "output_type": "execute_result"
    }
   ],
   "source": [
    "class_weight = Counter(train['level'].values)\n",
    "s = sum(class_weight.values())\n",
    "for k in class_weight.keys():\n",
    "    class_weight[k] = 1/class_weight[k] * s/2\n",
    "class_weight"
   ]
  },
  {
   "cell_type": "code",
   "execution_count": 22,
   "metadata": {},
   "outputs": [],
   "source": [
    "import math\n",
    "\n",
    "class CosineAnnealingLearningRateSchedule(tf.keras.optimizers.schedules.LearningRateSchedule):\n",
    "    def __init__(self, t_batch, lr_max, lr_min, n_cycle):\n",
    "        self.t_batch = t_batch\n",
    "        self.lr_max = lr_max\n",
    "        self.lr_min = lr_min\n",
    "        self.n_cycle = n_cycle\n",
    "    \n",
    "    def __call__(self, step):\n",
    "        cos_inner = (math.pi * (step % (self.t_batch*self.n_cycle))) / (self.t_batch*self.n_cycle)\n",
    "        \n",
    "        return (self.lr_max - self.lr_min)/2 * (tf.math.cos(cos_inner) + 1) + self.lr_min\n",
    "    \n",
    "max_rate = 1e-5\n",
    "min_rate = 1e-6\n",
    "cycle = 5\n",
    "batch_size = 128\n",
    "\n",
    "lr = CosineAnnealingLearningRateSchedule(len(x_train_vector)//batch_size+1, max_rate, min_rate, cycle)\n"
   ]
  },
  {
   "cell_type": "code",
   "execution_count": 23,
   "metadata": {},
   "outputs": [],
   "source": [
    "es = keras.callbacks.EarlyStopping(patience=5, \n",
    "                                   restore_best_weights=True, \n",
    "                                   monitor='val_f1_score',\n",
    "                                  mode='max')\n"
   ]
  },
  {
   "cell_type": "code",
   "execution_count": 29,
   "metadata": {
    "scrolled": true
   },
   "outputs": [
    {
     "name": "stdout",
     "output_type": "stream",
     "text": [
      "Epoch 1/5\n",
      "3696/3696 [==============================] - 1405s 380ms/step - loss: 0.0047 - accuracy: 0.9980 - f1_score: 0.8432\n",
      "Epoch 2/5\n",
      "3696/3696 [==============================] - 1407s 381ms/step - loss: 0.0044 - accuracy: 0.9980 - f1_score: 0.9007\n",
      "Epoch 3/5\n",
      "3696/3696 [==============================] - 9726s 3s/step - loss: 0.0043 - accuracy: 0.9981 - f1_score: 0.9433\n",
      "Epoch 4/5\n",
      "3696/3696 [==============================] - 3067s 830ms/step - loss: 0.0042 - accuracy: 0.9981 - f1_score: 0.9444\n",
      "Epoch 5/5\n",
      "3696/3696 [==============================] - 1406s 381ms/step - loss: 0.0041 - accuracy: 0.9982 - f1_score: 0.9373\n"
     ]
    }
   ],
   "source": [
    "model.compile(tf.optimizers.Adam(lr), \n",
    "              \"categorical_crossentropy\", \n",
    "              metrics=[\"accuracy\" , tfa.metrics.F1Score(7, 'macro')])\n",
    "\n",
    "history = model.fit(\n",
    "    x_train_vector, keras.utils.to_categorical(tr_y, 7), \n",
    "    epochs=5,\n",
    "    batch_size = batch_size,\n",
    "#     validation_data = (x_val_vector, keras.utils.to_categorical(val_y, 7)),\n",
    "#     callbacks=[es],\n",
    "#     class_weight=class_weight\n",
    ")"
   ]
  },
  {
   "cell_type": "code",
   "execution_count": null,
   "metadata": {},
   "outputs": [],
   "source": [
    "pred = model.predict(x_val_vector)"
   ]
  },
  {
   "cell_type": "code",
   "execution_count": null,
   "metadata": {},
   "outputs": [],
   "source": [
    "f1_score(val_y, np.argmax(pred, 1), average='macro')"
   ]
  },
  {
   "cell_type": "code",
   "execution_count": null,
   "metadata": {},
   "outputs": [],
   "source": []
  },
  {
   "cell_type": "code",
   "execution_count": 30,
   "metadata": {},
   "outputs": [],
   "source": [
    "pred = model.predict(x_test_vector, batch_size=128)\n",
    "result = np.argmax(pred, 1)"
   ]
  },
  {
   "cell_type": "code",
   "execution_count": 31,
   "metadata": {},
   "outputs": [
    {
     "data": {
      "text/plain": [
       "array([0, 1, 2, 3, 4, 5, 6, 7], dtype=int64)"
      ]
     },
     "execution_count": 31,
     "metadata": {},
     "output_type": "execute_result"
    }
   ],
   "source": [
    "result = np.argmax(pred, 1)\n",
    "result[np.where(np.max(pred, 1) < 0.7)] = 7\n",
    "np.unique(result)"
   ]
  },
  {
   "cell_type": "code",
   "execution_count": 32,
   "metadata": {},
   "outputs": [
    {
     "data": {
      "text/plain": [
       "3107"
      ]
     },
     "execution_count": 32,
     "metadata": {},
     "output_type": "execute_result"
    }
   ],
   "source": [
    "sum(np.max(pred, 1)<0.7)"
   ]
  },
  {
   "cell_type": "code",
   "execution_count": 33,
   "metadata": {
    "scrolled": true
   },
   "outputs": [
    {
     "data": {
      "text/html": [
       "<div>\n",
       "<style scoped>\n",
       "    .dataframe tbody tr th:only-of-type {\n",
       "        vertical-align: middle;\n",
       "    }\n",
       "\n",
       "    .dataframe tbody tr th {\n",
       "        vertical-align: top;\n",
       "    }\n",
       "\n",
       "    .dataframe thead th {\n",
       "        text-align: right;\n",
       "    }\n",
       "</style>\n",
       "<table border=\"1\" class=\"dataframe\">\n",
       "  <thead>\n",
       "    <tr style=\"text-align: right;\">\n",
       "      <th></th>\n",
       "      <th>level</th>\n",
       "    </tr>\n",
       "    <tr>\n",
       "      <th>id</th>\n",
       "      <th></th>\n",
       "    </tr>\n",
       "  </thead>\n",
       "  <tbody>\n",
       "    <tr>\n",
       "      <th>1000000</th>\n",
       "      <td>0</td>\n",
       "    </tr>\n",
       "    <tr>\n",
       "      <th>1000001</th>\n",
       "      <td>0</td>\n",
       "    </tr>\n",
       "    <tr>\n",
       "      <th>1000002</th>\n",
       "      <td>1</td>\n",
       "    </tr>\n",
       "    <tr>\n",
       "      <th>1000003</th>\n",
       "      <td>0</td>\n",
       "    </tr>\n",
       "    <tr>\n",
       "      <th>1000004</th>\n",
       "      <td>1</td>\n",
       "    </tr>\n",
       "    <tr>\n",
       "      <th>...</th>\n",
       "      <td>...</td>\n",
       "    </tr>\n",
       "    <tr>\n",
       "      <th>2418911</th>\n",
       "      <td>0</td>\n",
       "    </tr>\n",
       "    <tr>\n",
       "      <th>2418912</th>\n",
       "      <td>0</td>\n",
       "    </tr>\n",
       "    <tr>\n",
       "      <th>2418913</th>\n",
       "      <td>1</td>\n",
       "    </tr>\n",
       "    <tr>\n",
       "      <th>2418914</th>\n",
       "      <td>0</td>\n",
       "    </tr>\n",
       "    <tr>\n",
       "      <th>2418915</th>\n",
       "      <td>0</td>\n",
       "    </tr>\n",
       "  </tbody>\n",
       "</table>\n",
       "<p>1418916 rows × 1 columns</p>\n",
       "</div>"
      ],
      "text/plain": [
       "         level\n",
       "id            \n",
       "1000000      0\n",
       "1000001      0\n",
       "1000002      1\n",
       "1000003      0\n",
       "1000004      1\n",
       "...        ...\n",
       "2418911      0\n",
       "2418912      0\n",
       "2418913      1\n",
       "2418914      0\n",
       "2418915      0\n",
       "\n",
       "[1418916 rows x 1 columns]"
      ]
     },
     "execution_count": 33,
     "metadata": {},
     "output_type": "execute_result"
    }
   ],
   "source": [
    "sub = pd.read_csv('./data/sample_submission.csv', index_col='id')\n",
    "sub['level'] = result\n",
    "sub"
   ]
  },
  {
   "cell_type": "code",
   "execution_count": 34,
   "metadata": {},
   "outputs": [],
   "source": [
    "sub.to_csv('./transformer_2_0.7.csv')"
   ]
  }
 ],
 "metadata": {
  "kernelspec": {
   "display_name": "Python 3",
   "language": "python",
   "name": "python3"
  },
  "language_info": {
   "codemirror_mode": {
    "name": "ipython",
    "version": 3
   },
   "file_extension": ".py",
   "mimetype": "text/x-python",
   "name": "python",
   "nbconvert_exporter": "python",
   "pygments_lexer": "ipython3",
   "version": "3.7.7"
  },
  "toc": {
   "base_numbering": 1,
   "nav_menu": {},
   "number_sections": true,
   "sideBar": true,
   "skip_h1_title": false,
   "title_cell": "Table of Contents",
   "title_sidebar": "Contents",
   "toc_cell": false,
   "toc_position": {},
   "toc_section_display": true,
   "toc_window_display": false
  }
 },
 "nbformat": 4,
 "nbformat_minor": 4
}
