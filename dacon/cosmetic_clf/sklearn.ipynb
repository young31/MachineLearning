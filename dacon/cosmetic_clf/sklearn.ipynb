{
 "cells": [
  {
   "cell_type": "code",
   "execution_count": null,
   "metadata": {},
   "outputs": [],
   "source": [
    "import pandas as pd\n",
    "import numpy as np\n",
    "\n",
    "import gc\n",
    "import os\n",
    "\n"
   ]
  },
  {
   "cell_type": "code",
   "execution_count": null,
   "metadata": {},
   "outputs": [],
   "source": [
    "from sklearn.linear_model import LogisticRegression\n",
    "from sklearn.svm import SVC\n",
    "from sklearn.preprocessing import LabelEncoder, OneHotEncoder\n",
    "from sklearn.tree import DecisionTreeClassifier, ExtraTreeClassifier\n",
    "from sklearn.ensemble import RandomForestClassifier, VotingClassifier, GradientBoostingClassifier, StackingClassifier\n",
    "from sklearn.neighbors import KNeighborsClassifier\n",
    "from sklearn.model_selection import cross_val_score\n"
   ]
  },
  {
   "cell_type": "code",
   "execution_count": null,
   "metadata": {},
   "outputs": [],
   "source": [
    "tr = pd.read_csv('./data/train.csv')\n",
    "te = pd.read_csv('./data/test.csv')\n",
    "trr = tr.copy()\n",
    "sub = pd.read_csv('./data/sample_submission.csv')"
   ]
  },
  {
   "cell_type": "code",
   "execution_count": null,
   "metadata": {},
   "outputs": [],
   "source": [
    "train_X = tr.drop(['id', 'type', 'fiberID'], axis=1)\n",
    "test_X = te.drop(['id', 'fiberID'], axis=1)\n",
    "\n",
    "target = tr['type']"
   ]
  },
  {
   "cell_type": "code",
   "execution_count": null,
   "metadata": {},
   "outputs": [],
   "source": [
    "target_lbe = LabelEncoder().fit(target)\n",
    "\n",
    "t = target_lbe.transform(target)\n",
    "# target_lbe.inverse_transform(t)"
   ]
  },
  {
   "cell_type": "code",
   "execution_count": null,
   "metadata": {},
   "outputs": [],
   "source": [
    "train_X = (train_X - np.mean(train_X))/np.std(train_X)\n",
    "test_X = (test_X - np.mean(test_X))/np.std(test_X)"
   ]
  },
  {
   "cell_type": "code",
   "execution_count": null,
   "metadata": {},
   "outputs": [],
   "source": [
    "np.random.seed(42)\n",
    "lr = LogisticRegression(max_iter=2000)\n",
    "knn = KNeighborsClassifier(n_neighbors=100)\n",
    "svc = SVC(kernel='rbf', probability=True)\n",
    "tree = DecisionTreeClassifier(max_depth=19)\n",
    "extree = ExtraTreeClassifier(max_depth=19)\n",
    "\n",
    "rf = RandomForestClassifier(n_estimators=200,\n",
    "                               max_depth=13,\n",
    "                               min_samples_split=5,\n",
    "                               min_samples_leaf=5,\n",
    "                               min_impurity_decrease = 0.001,\n",
    "                               max_features=None,\n",
    "                               oob_score=True,\n",
    "                               random_state=42)\n",
    "\n",
    "gbr = GradientBoostingClassifier(n_estimators=1000,\n",
    "                                learning_rate=0.01,\n",
    "                                max_depth=9,\n",
    "                                max_features='sqrt',\n",
    "                                min_samples_leaf=15,\n",
    "                                min_samples_split=10,\n",
    "#                                 loss='exponential',\n",
    "                                n_iter_no_change = 100,\n",
    "                                random_state=42)\n",
    "\n",
    "vclf = VotingClassifier(estimators=[\n",
    "    ('rf', rf),\n",
    "    ('gbr', gbr),\n",
    "    ('lr', lr),\n",
    "#     ('extree', extree),\n",
    "    ('knn', knn)\n",
    "],  n_jobs=-1, voting='soft'\n",
    ")\n",
    "\n",
    "stk_clf = StackingClassifier(estimators=[\n",
    "#     ('rf', rf),\n",
    "    ('gbr', gbr),\n",
    "    ('lr', lr),\n",
    "    ('extree', extree),\n",
    "    ('knn', knn)\n",
    "],  n_jobs=-1,\n",
    "    final_estimator=rf\n",
    ")\n",
    "\n",
    "\n",
    "\n",
    "models = [lr, extree, rf, gbr, vclf, stk_clf]"
   ]
  },
  {
   "cell_type": "code",
   "execution_count": null,
   "metadata": {
    "scrolled": true
   },
   "outputs": [],
   "source": [
    "for m in models:\n",
    "    print(np.mean(cross_val_score(m, train_X, t, cv=4, scoring='neg_log_loss')))"
   ]
  },
  {
   "cell_type": "code",
   "execution_count": null,
   "metadata": {},
   "outputs": [],
   "source": []
  },
  {
   "cell_type": "code",
   "execution_count": null,
   "metadata": {},
   "outputs": [],
   "source": [
    "kk = pd.DataFrame(m.predict(test_X), columns=target_lbe.classes_)\n",
    "sub[sub.columns[1:]] = kk[sub.columns[1:]]"
   ]
  },
  {
   "cell_type": "code",
   "execution_count": null,
   "metadata": {},
   "outputs": [],
   "source": [
    "sub.to_csv('./sub/rf1.csv', index=False)"
   ]
  }
 ],
 "metadata": {
  "kernelspec": {
   "display_name": "Python 3",
   "language": "python",
   "name": "python3"
  },
  "language_info": {
   "codemirror_mode": {
    "name": "ipython",
    "version": 3
   },
   "file_extension": ".py",
   "mimetype": "text/x-python",
   "name": "python",
   "nbconvert_exporter": "python",
   "pygments_lexer": "ipython3",
   "version": "3.7.4"
  },
  "toc": {
   "base_numbering": 1,
   "nav_menu": {},
   "number_sections": true,
   "sideBar": true,
   "skip_h1_title": false,
   "title_cell": "Table of Contents",
   "title_sidebar": "Contents",
   "toc_cell": false,
   "toc_position": {},
   "toc_section_display": true,
   "toc_window_display": false
  }
 },
 "nbformat": 4,
 "nbformat_minor": 2
}
