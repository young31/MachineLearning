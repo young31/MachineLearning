{
 "cells": [
  {
   "cell_type": "code",
   "execution_count": 8,
   "metadata": {},
   "outputs": [],
   "source": [
    "import pandas as pd\n",
    "import numpy as np\n",
    "import matplotlib.pyplot as plt\n",
    "\n",
    "import tensorflow as tf\n",
    "import keras\n",
    "import keras.backend as K\n",
    "from keras import layers, models, optimizers\n",
    "from keras.regularizers import L1L2\n",
    "from keras.callbacks import EarlyStopping, LearningRateScheduler\n",
    "from tensorflow.keras.losses import Huber\n",
    "\n",
    "import gc\n",
    "import os\n",
    "import pickle\n",
    "import warnings\n",
    "\n",
    "# os.environ['KMP_DUPLICATE_LIB_OK']='True'\n",
    "warnings.filterwarnings('ignore')\n",
    "tf.config.experimental.set_visible_devices([], 'GPU')\n"
   ]
  },
  {
   "cell_type": "code",
   "execution_count": 9,
   "metadata": {},
   "outputs": [],
   "source": [
    "from sklearn.feature_selection import SelectFromModel\n",
    "from sklearn.linear_model import LogisticRegression\n",
    "from sklearn.svm import SVC\n",
    "from sklearn.preprocessing import LabelEncoder, OneHotEncoder\n",
    "from sklearn.tree import DecisionTreeClassifier, ExtraTreeClassifier\n",
    "from sklearn.ensemble import RandomForestClassifier, VotingClassifier, GradientBoostingClassifier, StackingClassifier, AdaBoostClassifier\n",
    "from sklearn.neighbors import KNeighborsClassifier\n",
    "from sklearn.model_selection import cross_val_score, train_test_split\n",
    "from sklearn.metrics import log_loss, accuracy_score, f1_score\n",
    "from sklearn.decomposition import PCA\n",
    "\n",
    "from pystacknet.pystacknet import StackNetClassifier\n",
    "\n"
   ]
  },
  {
   "cell_type": "code",
   "execution_count": 10,
   "metadata": {},
   "outputs": [],
   "source": [
    "import xgboost as xgb\n",
    "import lightgbm as lgb\n",
    "import catboost as cb\n",
    "from bayes_opt import BayesianOptimization\n"
   ]
  },
  {
   "cell_type": "code",
   "execution_count": 11,
   "metadata": {},
   "outputs": [],
   "source": [
    "tr = pd.read_csv('./data/train.csv')\n",
    "te = pd.read_csv('./data/test.csv')\n",
    "\n",
    "sub = pd.read_csv('./data/sample_submission.csv', index_col=0)"
   ]
  },
  {
   "cell_type": "code",
   "execution_count": 12,
   "metadata": {},
   "outputs": [],
   "source": [
    "# target_lbe = LabelEncoder().fit(target)\n",
    "\n",
    "# t = target_lbe.transform(target)\n",
    "\n",
    "column_number = {}\n",
    "for i, column in enumerate(sub.columns):\n",
    "    column_number[column] = i\n",
    "    \n",
    "def to_number(x, dic):\n",
    "    return dic[x]\n",
    "\n",
    "tr['type_num'] = tr['type'].apply(lambda x: to_number(x, column_number))\n",
    "\n"
   ]
  },
  {
   "cell_type": "code",
   "execution_count": 13,
   "metadata": {},
   "outputs": [],
   "source": [
    "target = tr['type_num']\n",
    "t = target.copy()\n",
    "\n",
    "train_X = tr.drop(['id', 'type', 'type_num', 'fiberID'], axis=1)\n",
    "test_X = te.drop(['id','fiberID'], axis=1)\n",
    "\n",
    "# del train_X, test_X, tr, te\n",
    "train_X = (train_X - np.mean(train_X))/np.std(train_X)\n",
    "test_X = (test_X - np.mean(test_X))/np.std(test_X)\n",
    "\n"
   ]
  },
  {
   "cell_type": "code",
   "execution_count": 7,
   "metadata": {},
   "outputs": [],
   "source": [
    "f = open('./res_X.bin', 'rb')\n",
    "res_X = pickle.load(f)\n",
    "f.close()\n",
    "\n",
    "f = open('./rte_X.bin', 'rb')\n",
    "rte_X = pickle.load(f)\n",
    "f.close()\n"
   ]
  },
  {
   "cell_type": "code",
   "execution_count": 31,
   "metadata": {},
   "outputs": [],
   "source": [
    "K.clear_session()\n",
    "\n",
    "inputs = layers.Input(shape=(train_X.shape[1], ))\n",
    "\n",
    "x = layers.Dense(1024, kernel_initializer='he_normal', kernel_regularizer=L1L2(l2=0.0001))(inputs)\n",
    "x = layers.BatchNormalization(momentum=0.8)(x)\n",
    "x = layers.advanced_activations.LeakyReLU(0.3)(x)\n",
    "\n",
    "x = layers.Dense(1024, kernel_initializer='he_normal', kernel_regularizer=L1L2(l2=0.0001))(x)\n",
    "x = layers.BatchNormalization(momentum=0.8)(x)\n",
    "x = layers.advanced_activations.LeakyReLU(0.3)(x)\n",
    "\n",
    "x = layers.Dense(512, kernel_initializer='he_normal', kernel_regularizer=L1L2(l2=0.0001))(x)\n",
    "x = layers.BatchNormalization(momentum=0.8)(x)\n",
    "x = layers.advanced_activations.LeakyReLU(0.3)(x)\n",
    "\n",
    "x = layers.Dense(256, kernel_initializer='he_normal', kernel_regularizer=L1L2(l2=0.0001))(x)\n",
    "x = layers.BatchNormalization(momentum=0.8)(x)\n",
    "x = layers.advanced_activations.LeakyReLU(0.3)(x)\n",
    "\n",
    "x = layers.Dense(128, kernel_initializer='he_normal', kernel_regularizer=L1L2(l2=0.0001))(x)\n",
    "x = layers.BatchNormalization(momentum=0.8)(x)\n",
    "x = layers.advanced_activations.LeakyReLU(0.3)(x)\n",
    "\n",
    "x = layers.Dense(64, kernel_initializer='he_normal', kernel_regularizer=L1L2(l2=0.0001))(x)\n",
    "x = layers.BatchNormalization(momentum=0.8)(x)\n",
    "x = layers.advanced_activations.LeakyReLU(0.3)(x)\n",
    "\n",
    "x = layers.Dense(19, activation='softmax')(x)\n",
    "\n",
    "m = models.Model(inputs, x)\n",
    "\n",
    "# sparse_categorical_crossentropy\n",
    "m.compile(optimizer = 'adam',\n",
    "         loss = 'sparse_categorical_crossentropy', \n",
    "          metrics = ['acc'])"
   ]
  },
  {
   "cell_type": "code",
   "execution_count": 32,
   "metadata": {},
   "outputs": [],
   "source": [
    "es = EarlyStopping(patience=20, restore_best_weights=True)\n",
    "def schedule(epoch):\n",
    "    if epoch < 50:\n",
    "        return 0.001\n",
    "    elif epoch < 100:\n",
    "        return 0.0005\n",
    "    else:\n",
    "        return 0.00001\n",
    "lrs = LearningRateScheduler(schedule)"
   ]
  },
  {
   "cell_type": "code",
   "execution_count": 33,
   "metadata": {
    "scrolled": true
   },
   "outputs": [
    {
     "name": "stdout",
     "output_type": "stream",
     "text": [
      "Train on 179991 samples, validate on 20000 samples\n",
      "Epoch 1/300\n",
      "179991/179991 [==============================] - 20s 109us/step - loss: 3.2189 - acc: 0.3358 - val_loss: 3.4468 - val_acc: 0.2046\n",
      "Epoch 2/300\n",
      "179991/179991 [==============================] - 19s 105us/step - loss: 2.7948 - acc: 0.5080 - val_loss: 3.2738 - val_acc: 0.2932\n",
      "Epoch 3/300\n",
      "179991/179991 [==============================] - 19s 105us/step - loss: 2.5338 - acc: 0.5323 - val_loss: 3.1650 - val_acc: 0.1931\n",
      "Epoch 4/300\n",
      "179991/179991 [==============================] - 19s 104us/step - loss: 2.2532 - acc: 0.5458 - val_loss: 2.7703 - val_acc: 0.4567\n",
      "Epoch 5/300\n",
      "179991/179991 [==============================] - 19s 104us/step - loss: 2.0874 - acc: 0.5761 - val_loss: 2.7078 - val_acc: 0.4168\n",
      "Epoch 6/300\n",
      "179991/179991 [==============================] - 19s 104us/step - loss: 2.0080 - acc: 0.6229 - val_loss: 2.8412 - val_acc: 0.2768\n",
      "Epoch 7/300\n",
      "179991/179991 [==============================] - 19s 104us/step - loss: 1.8637 - acc: 0.6326 - val_loss: 2.4467 - val_acc: 0.4272\n",
      "Epoch 8/300\n",
      "179991/179991 [==============================] - 19s 104us/step - loss: 1.7955 - acc: 0.6656 - val_loss: 2.5036 - val_acc: 0.3799\n",
      "Epoch 9/300\n",
      "179991/179991 [==============================] - 19s 103us/step - loss: 1.7433 - acc: 0.6804 - val_loss: 2.2794 - val_acc: 0.4969\n",
      "Epoch 10/300\n",
      "179991/179991 [==============================] - 19s 103us/step - loss: 1.7176 - acc: 0.6844 - val_loss: 2.3376 - val_acc: 0.4717\n",
      "Epoch 11/300\n",
      "179991/179991 [==============================] - 19s 104us/step - loss: 1.6828 - acc: 0.6803 - val_loss: 2.8057 - val_acc: 0.2573\n",
      "Epoch 12/300\n",
      "179991/179991 [==============================] - 19s 103us/step - loss: 1.6345 - acc: 0.6939 - val_loss: 2.4990 - val_acc: 0.4028\n",
      "Epoch 13/300\n",
      "179991/179991 [==============================] - 19s 103us/step - loss: 1.5778 - acc: 0.6907 - val_loss: 2.2159 - val_acc: 0.4937\n",
      "Epoch 14/300\n",
      "179991/179991 [==============================] - 19s 105us/step - loss: 1.5841 - acc: 0.7120 - val_loss: 2.7006 - val_acc: 0.3717\n",
      "Epoch 15/300\n",
      "179991/179991 [==============================] - 19s 104us/step - loss: 1.5230 - acc: 0.7206 - val_loss: 2.2246 - val_acc: 0.4933\n",
      "Epoch 16/300\n",
      "179991/179991 [==============================] - 19s 104us/step - loss: 1.4904 - acc: 0.7309 - val_loss: 2.7337 - val_acc: 0.4354\n",
      "Epoch 17/300\n",
      "179991/179991 [==============================] - 19s 104us/step - loss: 1.4911 - acc: 0.7300 - val_loss: 2.7404 - val_acc: 0.4001\n",
      "Epoch 18/300\n",
      "179991/179991 [==============================] - 19s 103us/step - loss: 1.4447 - acc: 0.7376 - val_loss: 2.4410 - val_acc: 0.4773\n",
      "Epoch 19/300\n",
      "179991/179991 [==============================] - 19s 104us/step - loss: 1.4663 - acc: 0.7251 - val_loss: 3.1304 - val_acc: 0.3307\n",
      "Epoch 20/300\n",
      "179991/179991 [==============================] - 19s 103us/step - loss: 1.4315 - acc: 0.7408 - val_loss: 2.7829 - val_acc: 0.3839\n",
      "Epoch 21/300\n",
      "179991/179991 [==============================] - 18s 102us/step - loss: 1.4305 - acc: 0.7387 - val_loss: 2.8046 - val_acc: 0.3656\n",
      "Epoch 22/300\n",
      "179991/179991 [==============================] - 19s 103us/step - loss: 1.4339 - acc: 0.7408 - val_loss: 2.5597 - val_acc: 0.4769\n",
      "Epoch 23/300\n",
      "179991/179991 [==============================] - 19s 104us/step - loss: 1.4144 - acc: 0.7438 - val_loss: 3.1947 - val_acc: 0.3241\n",
      "Epoch 24/300\n",
      "179991/179991 [==============================] - 19s 104us/step - loss: 1.4241 - acc: 0.7404 - val_loss: 3.5356 - val_acc: 0.2772\n",
      "Epoch 25/300\n",
      "179991/179991 [==============================] - 19s 103us/step - loss: 1.3840 - acc: 0.7499 - val_loss: 3.0367 - val_acc: 0.3309\n",
      "Epoch 26/300\n",
      "179991/179991 [==============================] - 19s 103us/step - loss: 1.3786 - acc: 0.7439 - val_loss: 3.0361 - val_acc: 0.3298\n",
      "Epoch 27/300\n",
      "179991/179991 [==============================] - 19s 104us/step - loss: 1.3915 - acc: 0.7443 - val_loss: 2.8940 - val_acc: 0.3884\n",
      "Epoch 28/300\n",
      "179991/179991 [==============================] - 19s 103us/step - loss: 1.3792 - acc: 0.7435 - val_loss: 3.0629 - val_acc: 0.2888\n",
      "Epoch 29/300\n",
      "179991/179991 [==============================] - 19s 105us/step - loss: 1.3938 - acc: 0.7335 - val_loss: 2.1906 - val_acc: 0.4545\n",
      "Epoch 30/300\n",
      " 16384/179991 [=>............................] - ETA: 17s - loss: 1.4043 - acc: 0.7584"
     ]
    },
    {
     "ename": "KeyboardInterrupt",
     "evalue": "",
     "output_type": "error",
     "traceback": [
      "\u001b[1;31m---------------------------------------------------------------------------\u001b[0m",
      "\u001b[1;31mKeyboardInterrupt\u001b[0m                         Traceback (most recent call last)",
      "\u001b[1;32m<ipython-input-33-e1d6cdd7cd65>\u001b[0m in \u001b[0;36m<module>\u001b[1;34m\u001b[0m\n\u001b[0;32m      3\u001b[0m      \u001b[0mvalidation_split\u001b[0m\u001b[1;33m=\u001b[0m\u001b[1;36m0.1\u001b[0m\u001b[1;33m,\u001b[0m\u001b[1;33m\u001b[0m\u001b[1;33m\u001b[0m\u001b[0m\n\u001b[0;32m      4\u001b[0m      \u001b[0mbatch_size\u001b[0m\u001b[1;33m=\u001b[0m\u001b[1;36m1024\u001b[0m\u001b[1;33m*\u001b[0m\u001b[1;36m16\u001b[0m\u001b[1;33m,\u001b[0m\u001b[1;33m\u001b[0m\u001b[1;33m\u001b[0m\u001b[0m\n\u001b[1;32m----> 5\u001b[1;33m       \u001b[0mcallbacks\u001b[0m\u001b[1;33m=\u001b[0m\u001b[1;33m[\u001b[0m\u001b[0mes\u001b[0m\u001b[1;33m,\u001b[0m \u001b[0mlrs\u001b[0m\u001b[1;33m]\u001b[0m\u001b[1;33m\u001b[0m\u001b[1;33m\u001b[0m\u001b[0m\n\u001b[0m\u001b[0;32m      6\u001b[0m      )\n",
      "\u001b[1;32mc:\\users\\young\\anaconda3\\envs\\study\\lib\\site-packages\\keras\\engine\\training.py\u001b[0m in \u001b[0;36mfit\u001b[1;34m(self, x, y, batch_size, epochs, verbose, callbacks, validation_split, validation_data, shuffle, class_weight, sample_weight, initial_epoch, steps_per_epoch, validation_steps, validation_freq, max_queue_size, workers, use_multiprocessing, **kwargs)\u001b[0m\n\u001b[0;32m   1237\u001b[0m                                         \u001b[0msteps_per_epoch\u001b[0m\u001b[1;33m=\u001b[0m\u001b[0msteps_per_epoch\u001b[0m\u001b[1;33m,\u001b[0m\u001b[1;33m\u001b[0m\u001b[1;33m\u001b[0m\u001b[0m\n\u001b[0;32m   1238\u001b[0m                                         \u001b[0mvalidation_steps\u001b[0m\u001b[1;33m=\u001b[0m\u001b[0mvalidation_steps\u001b[0m\u001b[1;33m,\u001b[0m\u001b[1;33m\u001b[0m\u001b[1;33m\u001b[0m\u001b[0m\n\u001b[1;32m-> 1239\u001b[1;33m                                         validation_freq=validation_freq)\n\u001b[0m\u001b[0;32m   1240\u001b[0m \u001b[1;33m\u001b[0m\u001b[0m\n\u001b[0;32m   1241\u001b[0m     def evaluate(self,\n",
      "\u001b[1;32mc:\\users\\young\\anaconda3\\envs\\study\\lib\\site-packages\\keras\\engine\\training_arrays.py\u001b[0m in \u001b[0;36mfit_loop\u001b[1;34m(model, fit_function, fit_inputs, out_labels, batch_size, epochs, verbose, callbacks, val_function, val_inputs, shuffle, initial_epoch, steps_per_epoch, validation_steps, validation_freq)\u001b[0m\n\u001b[0;32m    194\u001b[0m                     \u001b[0mins_batch\u001b[0m\u001b[1;33m[\u001b[0m\u001b[0mi\u001b[0m\u001b[1;33m]\u001b[0m \u001b[1;33m=\u001b[0m \u001b[0mins_batch\u001b[0m\u001b[1;33m[\u001b[0m\u001b[0mi\u001b[0m\u001b[1;33m]\u001b[0m\u001b[1;33m.\u001b[0m\u001b[0mtoarray\u001b[0m\u001b[1;33m(\u001b[0m\u001b[1;33m)\u001b[0m\u001b[1;33m\u001b[0m\u001b[1;33m\u001b[0m\u001b[0m\n\u001b[0;32m    195\u001b[0m \u001b[1;33m\u001b[0m\u001b[0m\n\u001b[1;32m--> 196\u001b[1;33m                 \u001b[0mouts\u001b[0m \u001b[1;33m=\u001b[0m \u001b[0mfit_function\u001b[0m\u001b[1;33m(\u001b[0m\u001b[0mins_batch\u001b[0m\u001b[1;33m)\u001b[0m\u001b[1;33m\u001b[0m\u001b[1;33m\u001b[0m\u001b[0m\n\u001b[0m\u001b[0;32m    197\u001b[0m                 \u001b[0mouts\u001b[0m \u001b[1;33m=\u001b[0m \u001b[0mto_list\u001b[0m\u001b[1;33m(\u001b[0m\u001b[0mouts\u001b[0m\u001b[1;33m)\u001b[0m\u001b[1;33m\u001b[0m\u001b[1;33m\u001b[0m\u001b[0m\n\u001b[0;32m    198\u001b[0m                 \u001b[1;32mfor\u001b[0m \u001b[0ml\u001b[0m\u001b[1;33m,\u001b[0m \u001b[0mo\u001b[0m \u001b[1;32min\u001b[0m \u001b[0mzip\u001b[0m\u001b[1;33m(\u001b[0m\u001b[0mout_labels\u001b[0m\u001b[1;33m,\u001b[0m \u001b[0mouts\u001b[0m\u001b[1;33m)\u001b[0m\u001b[1;33m:\u001b[0m\u001b[1;33m\u001b[0m\u001b[1;33m\u001b[0m\u001b[0m\n",
      "\u001b[1;32mc:\\users\\young\\anaconda3\\envs\\study\\lib\\site-packages\\tensorflow_core\\python\\keras\\backend.py\u001b[0m in \u001b[0;36m__call__\u001b[1;34m(self, inputs)\u001b[0m\n\u001b[0;32m   3738\u001b[0m         \u001b[0mvalue\u001b[0m \u001b[1;33m=\u001b[0m \u001b[0mmath_ops\u001b[0m\u001b[1;33m.\u001b[0m\u001b[0mcast\u001b[0m\u001b[1;33m(\u001b[0m\u001b[0mvalue\u001b[0m\u001b[1;33m,\u001b[0m \u001b[0mtensor\u001b[0m\u001b[1;33m.\u001b[0m\u001b[0mdtype\u001b[0m\u001b[1;33m)\u001b[0m\u001b[1;33m\u001b[0m\u001b[1;33m\u001b[0m\u001b[0m\n\u001b[0;32m   3739\u001b[0m       \u001b[0mconverted_inputs\u001b[0m\u001b[1;33m.\u001b[0m\u001b[0mappend\u001b[0m\u001b[1;33m(\u001b[0m\u001b[0mvalue\u001b[0m\u001b[1;33m)\u001b[0m\u001b[1;33m\u001b[0m\u001b[1;33m\u001b[0m\u001b[0m\n\u001b[1;32m-> 3740\u001b[1;33m     \u001b[0moutputs\u001b[0m \u001b[1;33m=\u001b[0m \u001b[0mself\u001b[0m\u001b[1;33m.\u001b[0m\u001b[0m_graph_fn\u001b[0m\u001b[1;33m(\u001b[0m\u001b[1;33m*\u001b[0m\u001b[0mconverted_inputs\u001b[0m\u001b[1;33m)\u001b[0m\u001b[1;33m\u001b[0m\u001b[1;33m\u001b[0m\u001b[0m\n\u001b[0m\u001b[0;32m   3741\u001b[0m \u001b[1;33m\u001b[0m\u001b[0m\n\u001b[0;32m   3742\u001b[0m     \u001b[1;31m# EagerTensor.numpy() will often make a copy to ensure memory safety.\u001b[0m\u001b[1;33m\u001b[0m\u001b[1;33m\u001b[0m\u001b[1;33m\u001b[0m\u001b[0m\n",
      "\u001b[1;32mc:\\users\\young\\anaconda3\\envs\\study\\lib\\site-packages\\tensorflow_core\\python\\eager\\function.py\u001b[0m in \u001b[0;36m__call__\u001b[1;34m(self, *args, **kwargs)\u001b[0m\n\u001b[0;32m   1079\u001b[0m       \u001b[0mTypeError\u001b[0m\u001b[1;33m:\u001b[0m \u001b[0mFor\u001b[0m \u001b[0minvalid\u001b[0m \u001b[0mpositional\u001b[0m\u001b[1;33m/\u001b[0m\u001b[0mkeyword\u001b[0m \u001b[0margument\u001b[0m \u001b[0mcombinations\u001b[0m\u001b[1;33m.\u001b[0m\u001b[1;33m\u001b[0m\u001b[1;33m\u001b[0m\u001b[0m\n\u001b[0;32m   1080\u001b[0m     \"\"\"\n\u001b[1;32m-> 1081\u001b[1;33m     \u001b[1;32mreturn\u001b[0m \u001b[0mself\u001b[0m\u001b[1;33m.\u001b[0m\u001b[0m_call_impl\u001b[0m\u001b[1;33m(\u001b[0m\u001b[0margs\u001b[0m\u001b[1;33m,\u001b[0m \u001b[0mkwargs\u001b[0m\u001b[1;33m)\u001b[0m\u001b[1;33m\u001b[0m\u001b[1;33m\u001b[0m\u001b[0m\n\u001b[0m\u001b[0;32m   1082\u001b[0m \u001b[1;33m\u001b[0m\u001b[0m\n\u001b[0;32m   1083\u001b[0m   \u001b[1;32mdef\u001b[0m \u001b[0m_call_impl\u001b[0m\u001b[1;33m(\u001b[0m\u001b[0mself\u001b[0m\u001b[1;33m,\u001b[0m \u001b[0margs\u001b[0m\u001b[1;33m,\u001b[0m \u001b[0mkwargs\u001b[0m\u001b[1;33m,\u001b[0m \u001b[0mcancellation_manager\u001b[0m\u001b[1;33m=\u001b[0m\u001b[1;32mNone\u001b[0m\u001b[1;33m)\u001b[0m\u001b[1;33m:\u001b[0m\u001b[1;33m\u001b[0m\u001b[1;33m\u001b[0m\u001b[0m\n",
      "\u001b[1;32mc:\\users\\young\\anaconda3\\envs\\study\\lib\\site-packages\\tensorflow_core\\python\\eager\\function.py\u001b[0m in \u001b[0;36m_call_impl\u001b[1;34m(self, args, kwargs, cancellation_manager)\u001b[0m\n\u001b[0;32m   1119\u001b[0m       raise TypeError(\"Keyword arguments {} unknown. Expected {}.\".format(\n\u001b[0;32m   1120\u001b[0m           list(kwargs.keys()), list(self._arg_keywords)))\n\u001b[1;32m-> 1121\u001b[1;33m     \u001b[1;32mreturn\u001b[0m \u001b[0mself\u001b[0m\u001b[1;33m.\u001b[0m\u001b[0m_call_flat\u001b[0m\u001b[1;33m(\u001b[0m\u001b[0margs\u001b[0m\u001b[1;33m,\u001b[0m \u001b[0mself\u001b[0m\u001b[1;33m.\u001b[0m\u001b[0mcaptured_inputs\u001b[0m\u001b[1;33m,\u001b[0m \u001b[0mcancellation_manager\u001b[0m\u001b[1;33m)\u001b[0m\u001b[1;33m\u001b[0m\u001b[1;33m\u001b[0m\u001b[0m\n\u001b[0m\u001b[0;32m   1122\u001b[0m \u001b[1;33m\u001b[0m\u001b[0m\n\u001b[0;32m   1123\u001b[0m   \u001b[1;32mdef\u001b[0m \u001b[0m_filtered_call\u001b[0m\u001b[1;33m(\u001b[0m\u001b[0mself\u001b[0m\u001b[1;33m,\u001b[0m \u001b[0margs\u001b[0m\u001b[1;33m,\u001b[0m \u001b[0mkwargs\u001b[0m\u001b[1;33m)\u001b[0m\u001b[1;33m:\u001b[0m\u001b[1;33m\u001b[0m\u001b[1;33m\u001b[0m\u001b[0m\n",
      "\u001b[1;32mc:\\users\\young\\anaconda3\\envs\\study\\lib\\site-packages\\tensorflow_core\\python\\eager\\function.py\u001b[0m in \u001b[0;36m_call_flat\u001b[1;34m(self, args, captured_inputs, cancellation_manager)\u001b[0m\n\u001b[0;32m   1222\u001b[0m     \u001b[1;32mif\u001b[0m \u001b[0mexecuting_eagerly\u001b[0m\u001b[1;33m:\u001b[0m\u001b[1;33m\u001b[0m\u001b[1;33m\u001b[0m\u001b[0m\n\u001b[0;32m   1223\u001b[0m       flat_outputs = forward_function.call(\n\u001b[1;32m-> 1224\u001b[1;33m           ctx, args, cancellation_manager=cancellation_manager)\n\u001b[0m\u001b[0;32m   1225\u001b[0m     \u001b[1;32melse\u001b[0m\u001b[1;33m:\u001b[0m\u001b[1;33m\u001b[0m\u001b[1;33m\u001b[0m\u001b[0m\n\u001b[0;32m   1226\u001b[0m       \u001b[0mgradient_name\u001b[0m \u001b[1;33m=\u001b[0m \u001b[0mself\u001b[0m\u001b[1;33m.\u001b[0m\u001b[0m_delayed_rewrite_functions\u001b[0m\u001b[1;33m.\u001b[0m\u001b[0mregister\u001b[0m\u001b[1;33m(\u001b[0m\u001b[1;33m)\u001b[0m\u001b[1;33m\u001b[0m\u001b[1;33m\u001b[0m\u001b[0m\n",
      "\u001b[1;32mc:\\users\\young\\anaconda3\\envs\\study\\lib\\site-packages\\tensorflow_core\\python\\eager\\function.py\u001b[0m in \u001b[0;36mcall\u001b[1;34m(self, ctx, args, cancellation_manager)\u001b[0m\n\u001b[0;32m    509\u001b[0m               \u001b[0minputs\u001b[0m\u001b[1;33m=\u001b[0m\u001b[0margs\u001b[0m\u001b[1;33m,\u001b[0m\u001b[1;33m\u001b[0m\u001b[1;33m\u001b[0m\u001b[0m\n\u001b[0;32m    510\u001b[0m               \u001b[0mattrs\u001b[0m\u001b[1;33m=\u001b[0m\u001b[1;33m(\u001b[0m\u001b[1;34m\"executor_type\"\u001b[0m\u001b[1;33m,\u001b[0m \u001b[0mexecutor_type\u001b[0m\u001b[1;33m,\u001b[0m \u001b[1;34m\"config_proto\"\u001b[0m\u001b[1;33m,\u001b[0m \u001b[0mconfig\u001b[0m\u001b[1;33m)\u001b[0m\u001b[1;33m,\u001b[0m\u001b[1;33m\u001b[0m\u001b[1;33m\u001b[0m\u001b[0m\n\u001b[1;32m--> 511\u001b[1;33m               ctx=ctx)\n\u001b[0m\u001b[0;32m    512\u001b[0m         \u001b[1;32melse\u001b[0m\u001b[1;33m:\u001b[0m\u001b[1;33m\u001b[0m\u001b[1;33m\u001b[0m\u001b[0m\n\u001b[0;32m    513\u001b[0m           outputs = execute.execute_with_cancellation(\n",
      "\u001b[1;32mc:\\users\\young\\anaconda3\\envs\\study\\lib\\site-packages\\tensorflow_core\\python\\eager\\execute.py\u001b[0m in \u001b[0;36mquick_execute\u001b[1;34m(op_name, num_outputs, inputs, attrs, ctx, name)\u001b[0m\n\u001b[0;32m     59\u001b[0m     tensors = pywrap_tensorflow.TFE_Py_Execute(ctx._handle, device_name,\n\u001b[0;32m     60\u001b[0m                                                \u001b[0mop_name\u001b[0m\u001b[1;33m,\u001b[0m \u001b[0minputs\u001b[0m\u001b[1;33m,\u001b[0m \u001b[0mattrs\u001b[0m\u001b[1;33m,\u001b[0m\u001b[1;33m\u001b[0m\u001b[1;33m\u001b[0m\u001b[0m\n\u001b[1;32m---> 61\u001b[1;33m                                                num_outputs)\n\u001b[0m\u001b[0;32m     62\u001b[0m   \u001b[1;32mexcept\u001b[0m \u001b[0mcore\u001b[0m\u001b[1;33m.\u001b[0m\u001b[0m_NotOkStatusException\u001b[0m \u001b[1;32mas\u001b[0m \u001b[0me\u001b[0m\u001b[1;33m:\u001b[0m\u001b[1;33m\u001b[0m\u001b[1;33m\u001b[0m\u001b[0m\n\u001b[0;32m     63\u001b[0m     \u001b[1;32mif\u001b[0m \u001b[0mname\u001b[0m \u001b[1;32mis\u001b[0m \u001b[1;32mnot\u001b[0m \u001b[1;32mNone\u001b[0m\u001b[1;33m:\u001b[0m\u001b[1;33m\u001b[0m\u001b[1;33m\u001b[0m\u001b[0m\n",
      "\u001b[1;31mKeyboardInterrupt\u001b[0m: "
     ]
    }
   ],
   "source": [
    "m.fit(train_X, t, \n",
    "     epochs = 300,\n",
    "     validation_split=0.1,\n",
    "     batch_size=1024*16,\n",
    "      callbacks=[es, lrs]\n",
    "     )"
   ]
  },
  {
   "cell_type": "code",
   "execution_count": 28,
   "metadata": {
    "scrolled": true
   },
   "outputs": [],
   "source": [
    "y_pred = m.predict(test_X)\n",
    "submission = pd.DataFrame(data=y_pred, columns=sub.columns, index=sub.index)\n",
    "submission.to_csv('./sub/nn8.csv', index=True)\n"
   ]
  },
  {
   "cell_type": "code",
   "execution_count": 55,
   "metadata": {},
   "outputs": [
    {
     "name": "stdout",
     "output_type": "stream",
     "text": [
      "199991/199991 [==============================] - 4s 19us/step\n"
     ]
    },
    {
     "data": {
      "text/plain": [
       "[0.2791271693419825, 0.9226264953613281]"
      ]
     },
     "execution_count": 55,
     "metadata": {},
     "output_type": "execute_result"
    }
   ],
   "source": [
    "m.evaluate(res_X, t)"
   ]
  },
  {
   "cell_type": "code",
   "execution_count": 34,
   "metadata": {},
   "outputs": [
    {
     "name": "stdout",
     "output_type": "stream",
     "text": [
      "199991/199991 [==============================] - 22s 110us/step\n"
     ]
    },
    {
     "data": {
      "text/plain": [
       "[2.944787236940841, 0.2723722457885742]"
      ]
     },
     "execution_count": 34,
     "metadata": {},
     "output_type": "execute_result"
    }
   ],
   "source": [
    "m.evaluate(train_X, t)"
   ]
  },
  {
   "cell_type": "code",
   "execution_count": null,
   "metadata": {},
   "outputs": [],
   "source": [
    "# kk = pd.DataFrame(lgb_clf.predict_proba(te_X), columns=target_lbe.classes_)\n",
    "# sub[sub.columns[1:]] = kk[sub.columns[1:]]"
   ]
  },
  {
   "cell_type": "code",
   "execution_count": null,
   "metadata": {},
   "outputs": [],
   "source": [
    "# sub.to_csv('./sub/stk1.csv', index=False)"
   ]
  },
  {
   "cell_type": "code",
   "execution_count": null,
   "metadata": {},
   "outputs": [],
   "source": [
    "lgb_imp = lgb_clf.feature_importances_\n",
    "\n",
    "lgb_imp_idx = []\n",
    "cols = tr_X.columns\n",
    "for i, imp in enumerate(lgb_imp):\n",
    "    if imp > 0:\n",
    "        lgb_imp_idx.append(i)\n",
    "        \n",
    "new_cols_imp = cols[lgb_imp_idx]\n",
    "new_cols_imp = list(new_cols_imp)"
   ]
  },
  {
   "cell_type": "code",
   "execution_count": null,
   "metadata": {},
   "outputs": [],
   "source": [
    "print(len(tr_X.columns), len(new_cols_imp))"
   ]
  },
  {
   "cell_type": "code",
   "execution_count": null,
   "metadata": {},
   "outputs": [],
   "source": [
    "f = open('./new_cols.bin', 'wb')\n",
    "pickle.dump(new_cols_imp, f)\n",
    "f.close()"
   ]
  },
  {
   "cell_type": "code",
   "execution_count": 19,
   "metadata": {},
   "outputs": [],
   "source": [
    "r = pd.read_csv('./sub/sk_fin2.csv')"
   ]
  },
  {
   "cell_type": "code",
   "execution_count": 27,
   "metadata": {},
   "outputs": [],
   "source": [
    "rte_X = r[r.columns[1:]].values"
   ]
  },
  {
   "cell_type": "code",
   "execution_count": 25,
   "metadata": {},
   "outputs": [
    {
     "data": {
      "text/plain": [
       "array([1.33017038e-06, 2.81874312e-06, 0.00000000e+00, 0.00000000e+00,\n",
       "       0.00000000e+00, 2.48302233e-07, 5.48496696e-05, 2.07572390e-04,\n",
       "       9.87961760e-01, 1.54013286e-05, 8.96521114e-06, 2.78091580e-04,\n",
       "       0.00000000e+00, 4.65492545e-04, 2.59516746e-06, 0.00000000e+00,\n",
       "       0.00000000e+00, 0.00000000e+00, 1.10008749e-02])"
      ]
     },
     "execution_count": 25,
     "metadata": {},
     "output_type": "execute_result"
    }
   ],
   "source": [
    "rte_X[0]"
   ]
  }
 ],
 "metadata": {
  "kernelspec": {
   "display_name": "Python 3",
   "language": "python",
   "name": "python3"
  },
  "language_info": {
   "codemirror_mode": {
    "name": "ipython",
    "version": 3
   },
   "file_extension": ".py",
   "mimetype": "text/x-python",
   "name": "python",
   "nbconvert_exporter": "python",
   "pygments_lexer": "ipython3",
   "version": "3.7.4"
  },
  "toc": {
   "base_numbering": 1,
   "nav_menu": {},
   "number_sections": true,
   "sideBar": true,
   "skip_h1_title": false,
   "title_cell": "Table of Contents",
   "title_sidebar": "Contents",
   "toc_cell": false,
   "toc_position": {},
   "toc_section_display": true,
   "toc_window_display": false
  }
 },
 "nbformat": 4,
 "nbformat_minor": 2
}
