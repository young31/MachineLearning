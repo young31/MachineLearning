{
 "cells": [
  {
   "cell_type": "code",
   "execution_count": 5,
   "metadata": {},
   "outputs": [],
   "source": [
    "import pandas as pd\n",
    "import numpy as np\n",
    "\n",
    "import lightgbm as lgb\n",
    "from bayes_opt import BayesianOptimization\n",
    "from time import time\n",
    "import warnings\n",
    "from sklearn.model_selection import train_test_split, cross_val_score\n",
    "from sklearn.metrics import mean_squared_error\n",
    "from sklearn.multioutput import MultiOutputRegressor\n",
    "\n",
    "import seaborn as sns\n",
    "import matplotlib.pyplot as plt\n",
    "\n",
    "SEED = 42\n",
    "np.random.seed(SEED)\n",
    "\n",
    "from tqdm import tqdm\n",
    "import warnings\n",
    "warnings.filterwarnings('ignore')"
   ]
  },
  {
   "cell_type": "code",
   "execution_count": 6,
   "metadata": {},
   "outputs": [],
   "source": [
    "train = pd.read_csv('data/train_features.csv')\n",
    "test = pd.read_csv('data/test_features.csv')\n",
    "target = pd.read_csv('data/train_target.csv')\n",
    "target_cols = target.columns[1:]"
   ]
  },
  {
   "cell_type": "code",
   "execution_count": 7,
   "metadata": {},
   "outputs": [],
   "source": [
    "tr = train.pivot_table(index = 'id', columns = 'Time', values = ['S1', 'S2', 'S3', 'S4'])\n",
    "te = test.pivot_table(index = 'id', columns = 'Time', values = ['S1', 'S2', 'S3', 'S4'])"
   ]
  },
  {
   "cell_type": "code",
   "execution_count": 8,
   "metadata": {},
   "outputs": [
    {
     "data": {
      "text/html": [
       "<div>\n",
       "<style scoped>\n",
       "    .dataframe tbody tr th:only-of-type {\n",
       "        vertical-align: middle;\n",
       "    }\n",
       "\n",
       "    .dataframe tbody tr th {\n",
       "        vertical-align: top;\n",
       "    }\n",
       "\n",
       "    .dataframe thead th {\n",
       "        text-align: right;\n",
       "    }\n",
       "</style>\n",
       "<table border=\"1\" class=\"dataframe\">\n",
       "  <thead>\n",
       "    <tr style=\"text-align: right;\">\n",
       "      <th></th>\n",
       "      <th>X</th>\n",
       "      <th>Y</th>\n",
       "      <th>M</th>\n",
       "      <th>V</th>\n",
       "    </tr>\n",
       "  </thead>\n",
       "  <tbody>\n",
       "    <tr>\n",
       "      <th>0</th>\n",
       "      <td>0.0</td>\n",
       "      <td>-400.0</td>\n",
       "      <td>50.0</td>\n",
       "      <td>0.4</td>\n",
       "    </tr>\n",
       "    <tr>\n",
       "      <th>1</th>\n",
       "      <td>400.0</td>\n",
       "      <td>0.0</td>\n",
       "      <td>100.0</td>\n",
       "      <td>1.0</td>\n",
       "    </tr>\n",
       "    <tr>\n",
       "      <th>2</th>\n",
       "      <td>-300.0</td>\n",
       "      <td>-200.0</td>\n",
       "      <td>25.0</td>\n",
       "      <td>0.4</td>\n",
       "    </tr>\n",
       "    <tr>\n",
       "      <th>3</th>\n",
       "      <td>200.0</td>\n",
       "      <td>-100.0</td>\n",
       "      <td>150.0</td>\n",
       "      <td>0.4</td>\n",
       "    </tr>\n",
       "    <tr>\n",
       "      <th>4</th>\n",
       "      <td>-300.0</td>\n",
       "      <td>-100.0</td>\n",
       "      <td>150.0</td>\n",
       "      <td>0.4</td>\n",
       "    </tr>\n",
       "    <tr>\n",
       "      <th>...</th>\n",
       "      <td>...</td>\n",
       "      <td>...</td>\n",
       "      <td>...</td>\n",
       "      <td>...</td>\n",
       "    </tr>\n",
       "    <tr>\n",
       "      <th>2795</th>\n",
       "      <td>200.0</td>\n",
       "      <td>200.0</td>\n",
       "      <td>50.0</td>\n",
       "      <td>1.0</td>\n",
       "    </tr>\n",
       "    <tr>\n",
       "      <th>2796</th>\n",
       "      <td>-400.0</td>\n",
       "      <td>-400.0</td>\n",
       "      <td>150.0</td>\n",
       "      <td>0.2</td>\n",
       "    </tr>\n",
       "    <tr>\n",
       "      <th>2797</th>\n",
       "      <td>-100.0</td>\n",
       "      <td>0.0</td>\n",
       "      <td>50.0</td>\n",
       "      <td>0.2</td>\n",
       "    </tr>\n",
       "    <tr>\n",
       "      <th>2798</th>\n",
       "      <td>100.0</td>\n",
       "      <td>100.0</td>\n",
       "      <td>125.0</td>\n",
       "      <td>0.6</td>\n",
       "    </tr>\n",
       "    <tr>\n",
       "      <th>2799</th>\n",
       "      <td>100.0</td>\n",
       "      <td>-200.0</td>\n",
       "      <td>100.0</td>\n",
       "      <td>0.6</td>\n",
       "    </tr>\n",
       "  </tbody>\n",
       "</table>\n",
       "<p>2800 rows × 4 columns</p>\n",
       "</div>"
      ],
      "text/plain": [
       "          X      Y      M    V\n",
       "0       0.0 -400.0   50.0  0.4\n",
       "1     400.0    0.0  100.0  1.0\n",
       "2    -300.0 -200.0   25.0  0.4\n",
       "3     200.0 -100.0  150.0  0.4\n",
       "4    -300.0 -100.0  150.0  0.4\n",
       "...     ...    ...    ...  ...\n",
       "2795  200.0  200.0   50.0  1.0\n",
       "2796 -400.0 -400.0  150.0  0.2\n",
       "2797 -100.0    0.0   50.0  0.2\n",
       "2798  100.0  100.0  125.0  0.6\n",
       "2799  100.0 -200.0  100.0  0.6\n",
       "\n",
       "[2800 rows x 4 columns]"
      ]
     },
     "execution_count": 8,
     "metadata": {},
     "output_type": "execute_result"
    }
   ],
   "source": [
    "y = target[target_cols]\n",
    "y"
   ]
  },
  {
   "cell_type": "code",
   "execution_count": 9,
   "metadata": {
    "scrolled": true
   },
   "outputs": [],
   "source": [
    "bounds_LGB = {\n",
    "    'num_leaves': (100, 800), \n",
    "    'min_data_in_leaf': (0, 150),\n",
    "    'bagging_fraction' : (0.3, 0.9),\n",
    "    'feature_fraction' : (0.3, 0.9),\n",
    "#     'learning_rate': (0.01, 1),\n",
    "    'min_child_weight': (0.01, 3),   \n",
    "    'reg_alpha': (0.1, 3), \n",
    "    'reg_lambda': (0.1, 3),\n",
    "    'max_depth':(6, 26),\n",
    "    'n_estimators': (64, 512)\n",
    "}\n",
    "\n",
    "def build_lgb(x, y, init_points=15, n_iter=0, cv=4, param=True, verbose=2):\n",
    "    train_X, test_X, train_y, test_y = train_test_split(x.values, y.values, test_size=0.3, random_state=SEED, shuffle=True)\n",
    "    def LGB_bayesian(\n",
    "        #learning_rate,\n",
    "        num_leaves, \n",
    "        bagging_fraction,\n",
    "        feature_fraction,\n",
    "        min_child_weight, \n",
    "        min_data_in_leaf,\n",
    "        max_depth,\n",
    "        reg_alpha,\n",
    "        reg_lambda,\n",
    "        n_estimators\n",
    "         ):\n",
    "        # LightGBM expects next three parameters need to be integer. \n",
    "        num_leaves = int(num_leaves)\n",
    "        min_data_in_leaf = int(min_data_in_leaf)\n",
    "        max_depth = int(max_depth)\n",
    "\n",
    "        assert type(num_leaves) == int\n",
    "        assert type(min_data_in_leaf) == int\n",
    "        assert type(max_depth) == int\n",
    "\n",
    "\n",
    "        params = {\n",
    "                  'num_leaves': num_leaves, \n",
    "                  'min_data_in_leaf': min_data_in_leaf,\n",
    "                  'min_child_weight': min_child_weight,\n",
    "                  'bagging_fraction' : bagging_fraction,\n",
    "                  'feature_fraction' : feature_fraction,\n",
    "                  'learning_rate' : 0.05,\n",
    "                  'max_depth': max_depth,\n",
    "                  'reg_alpha': reg_alpha,\n",
    "                  'reg_lambda': reg_lambda,\n",
    "                  'objective': 'regression',\n",
    "                  'save_binary': True,\n",
    "                  'seed': SEED,\n",
    "                  'feature_fraction_seed': SEED,\n",
    "                  'bagging_seed': SEED,\n",
    "                  'drop_seed': SEED,\n",
    "                  'data_random_seed': SEED,\n",
    "                  'boosting': 'gbdt', ## some get better result using 'dart'\n",
    "                  'verbose': 1,\n",
    "                  'boost_from_average': True,\n",
    "                  'metric':'mse',\n",
    "                  'n_estimators': int(n_estimators),\n",
    "                  'n_jobs': -1,\n",
    "#                   'tree_learner ': 'voting'\n",
    "        }    \n",
    "\n",
    "        ## set reg options\n",
    "        reg = lgb.LGBMRegressor(**params)\n",
    "        m_reg = MultiOutputRegressor(reg)\n",
    "#         m_reg.fit(train_X, train_y)\n",
    "#         score = mean_absolute_error(test_y, m_reg.predict(test_X))\n",
    "        score = cross_val_score(m_reg, x, y, cv=cv, scoring='neg_mean_squared_error').mean()\n",
    "\n",
    "        return score\n",
    "    \n",
    "    optimizer = BayesianOptimization(LGB_bayesian, bounds_LGB, random_state=SEED, verbose=verbose)\n",
    "    init_points = init_points\n",
    "    n_iter = n_iter\n",
    "\n",
    "    optimizer.maximize(init_points=init_points, n_iter=n_iter)\n",
    "    \n",
    "    param_lgb = {\n",
    "        'min_data_in_leaf': int(optimizer.max['params']['min_data_in_leaf']), \n",
    "        'num_leaves': int(optimizer.max['params']['num_leaves']), \n",
    "        'learning_rate': 0.05,\n",
    "        'min_child_weight': optimizer.max['params']['min_child_weight'],\n",
    "        'bagging_fraction': optimizer.max['params']['bagging_fraction'], \n",
    "        'feature_fraction': optimizer.max['params']['feature_fraction'],\n",
    "        'reg_lambda': optimizer.max['params']['reg_lambda'],\n",
    "        'reg_alpha': optimizer.max['params']['reg_alpha'],\n",
    "        'max_depth': int(optimizer.max['params']['max_depth']), \n",
    "        'objective': 'regression',\n",
    "        'save_binary': True,\n",
    "        'seed': SEED,\n",
    "        'feature_fraction_seed': SEED,\n",
    "        'bagging_seed': SEED,\n",
    "        'drop_seed': SEED,\n",
    "        'data_random_seed': SEED,\n",
    "        'boosting_type': 'gbdt',  # also consider 'dart'\n",
    "        'verbose': 1,\n",
    "        'boost_from_average': True,\n",
    "        'metric':'mse',\n",
    "        'n_estimators': int(optimizer.max['params']['n_estimators']),\n",
    "        'n_jobs': -1,\n",
    "#         'tree_learner ': 'voting'\n",
    "    }\n",
    "\n",
    "    params = param_lgb.copy()\n",
    "    \n",
    "    reg = lgb.LGBMRegressor(**params)\n",
    "    lgb_reg = MultiOutputRegressor(reg)\n",
    "    lgb_reg.fit(x.values, y.values)\n",
    "    \n",
    "    if param:\n",
    "        return lgb_reg, params\n",
    "    else:\n",
    "        return lgb_reg"
   ]
  },
  {
   "cell_type": "code",
   "execution_count": 11,
   "metadata": {},
   "outputs": [
    {
     "name": "stdout",
     "output_type": "stream",
     "text": [
      "|   iter    |  target   | baggin... | featur... | max_depth | min_ch... | min_da... | n_esti... | num_le... | reg_alpha | reg_la... |\n",
      "-------------------------------------------------------------------------------------------------------------------------------------\n",
      "| \u001b[0m 1       \u001b[0m | \u001b[0m-58.8    \u001b[0m | \u001b[0m 0.5247  \u001b[0m | \u001b[0m 0.8704  \u001b[0m | \u001b[0m 20.64   \u001b[0m | \u001b[0m 1.8     \u001b[0m | \u001b[0m 23.4    \u001b[0m | \u001b[0m 133.9   \u001b[0m | \u001b[0m 140.7   \u001b[0m | \u001b[0m 2.612   \u001b[0m | \u001b[0m 1.843   \u001b[0m |\n",
      "| \u001b[95m 2       \u001b[0m | \u001b[95m-43.64   \u001b[0m | \u001b[95m 0.7248  \u001b[0m | \u001b[95m 0.3124  \u001b[0m | \u001b[95m 25.4    \u001b[0m | \u001b[95m 2.499   \u001b[0m | \u001b[95m 31.85   \u001b[0m | \u001b[95m 145.5   \u001b[0m | \u001b[95m 228.4   \u001b[0m | \u001b[95m 0.9823  \u001b[0m | \u001b[95m 1.622   \u001b[0m |\n",
      "| \u001b[0m 3       \u001b[0m | \u001b[0m-44.04   \u001b[0m | \u001b[0m 0.5592  \u001b[0m | \u001b[0m 0.4747  \u001b[0m | \u001b[0m 18.24   \u001b[0m | \u001b[0m 0.4271  \u001b[0m | \u001b[0m 43.82   \u001b[0m | \u001b[0m 228.1   \u001b[0m | \u001b[0m 419.2   \u001b[0m | \u001b[0m 2.377   \u001b[0m | \u001b[0m 0.6791  \u001b[0m |\n",
      "| \u001b[0m 4       \u001b[0m | \u001b[0m-77.21   \u001b[0m | \u001b[0m 0.6085  \u001b[0m | \u001b[0m 0.6554  \u001b[0m | \u001b[0m 6.929   \u001b[0m | \u001b[0m 1.827   \u001b[0m | \u001b[0m 25.58   \u001b[0m | \u001b[0m 93.14   \u001b[0m | \u001b[0m 764.2   \u001b[0m | \u001b[0m 2.9     \u001b[0m | \u001b[0m 2.444   \u001b[0m |\n",
      "| \u001b[95m 5       \u001b[0m | \u001b[95m-32.47   \u001b[0m | \u001b[95m 0.4828  \u001b[0m | \u001b[95m 0.3586  \u001b[0m | \u001b[95m 19.68   \u001b[0m | \u001b[95m 1.326   \u001b[0m | \u001b[95m 18.31   \u001b[0m | \u001b[95m 285.8   \u001b[0m | \u001b[95m 124.1   \u001b[0m | \u001b[95m 2.737   \u001b[0m | \u001b[95m 0.8505  \u001b[0m |\n",
      "| \u001b[0m 6       \u001b[0m | \u001b[0m-35.82   \u001b[0m | \u001b[0m 0.6975  \u001b[0m | \u001b[0m 0.487   \u001b[0m | \u001b[0m 16.4    \u001b[0m | \u001b[0m 1.645   \u001b[0m | \u001b[0m 27.73   \u001b[0m | \u001b[0m 498.4   \u001b[0m | \u001b[0m 642.6   \u001b[0m | \u001b[0m 2.825   \u001b[0m | \u001b[0m 2.695   \u001b[0m |\n",
      "| \u001b[0m 7       \u001b[0m | \u001b[0m-52.71   \u001b[0m | \u001b[0m 0.6587  \u001b[0m | \u001b[0m 0.8531  \u001b[0m | \u001b[0m 7.77    \u001b[0m | \u001b[0m 0.596   \u001b[0m | \u001b[0m 6.784   \u001b[0m | \u001b[0m 209.7   \u001b[0m | \u001b[0m 372.1   \u001b[0m | \u001b[0m 0.8869  \u001b[0m | \u001b[0m 2.503   \u001b[0m |\n",
      "| \u001b[0m 8       \u001b[0m | \u001b[0m-146.4   \u001b[0m | \u001b[0m 0.5141  \u001b[0m | \u001b[0m 0.4686  \u001b[0m | \u001b[0m 16.85   \u001b[0m | \u001b[0m 0.4314  \u001b[0m | \u001b[0m 120.3   \u001b[0m | \u001b[0m 97.4    \u001b[0m | \u001b[0m 790.8   \u001b[0m | \u001b[0m 2.34    \u001b[0m | \u001b[0m 0.6763  \u001b[0m |\n",
      "| \u001b[0m 9       \u001b[0m | \u001b[0m-137.1   \u001b[0m | \u001b[0m 0.3033  \u001b[0m | \u001b[0m 0.7893  \u001b[0m | \u001b[0m 20.14   \u001b[0m | \u001b[0m 2.19    \u001b[0m | \u001b[0m 115.7   \u001b[0m | \u001b[0m 97.17   \u001b[0m | \u001b[0m 350.9   \u001b[0m | \u001b[0m 0.436   \u001b[0m | \u001b[0m 2.603   \u001b[0m |\n",
      "| \u001b[0m 10      \u001b[0m | \u001b[0m-40.43   \u001b[0m | \u001b[0m 0.674   \u001b[0m | \u001b[0m 0.4985  \u001b[0m | \u001b[0m 7.271   \u001b[0m | \u001b[0m 0.9398  \u001b[0m | \u001b[0m 48.78   \u001b[0m | \u001b[0m 390.9   \u001b[0m | \u001b[0m 546.3   \u001b[0m | \u001b[0m 2.673   \u001b[0m | \u001b[0m 1.469   \u001b[0m |\n",
      "| \u001b[0m 11      \u001b[0m | \u001b[0m-57.74   \u001b[0m | \u001b[0m 0.3718  \u001b[0m | \u001b[0m 0.7279  \u001b[0m | \u001b[0m 21.22   \u001b[0m | \u001b[0m 1.688   \u001b[0m | \u001b[0m 115.6   \u001b[0m | \u001b[0m 285.2   \u001b[0m | \u001b[0m 465.9   \u001b[0m | \u001b[0m 1.34    \u001b[0m | \u001b[0m 0.1737  \u001b[0m |\n",
      "| \u001b[0m 12      \u001b[0m | \u001b[0m-39.5    \u001b[0m | \u001b[0m 0.3647  \u001b[0m | \u001b[0m 0.3189  \u001b[0m | \u001b[0m 18.73   \u001b[0m | \u001b[0m 0.9499  \u001b[0m | \u001b[0m 76.29   \u001b[0m | \u001b[0m 470.6   \u001b[0m | \u001b[0m 274.5   \u001b[0m | \u001b[0m 1.29    \u001b[0m | \u001b[0m 2.291   \u001b[0m |\n",
      "| \u001b[0m 13      \u001b[0m | \u001b[0m-55.42   \u001b[0m | \u001b[0m 0.4373  \u001b[0m | \u001b[0m 0.3462  \u001b[0m | \u001b[0m 11.8    \u001b[0m | \u001b[0m 0.4921  \u001b[0m | \u001b[0m 139.5   \u001b[0m | \u001b[0m 426.0   \u001b[0m | \u001b[0m 543.4   \u001b[0m | \u001b[0m 2.627   \u001b[0m | \u001b[0m 2.431   \u001b[0m |\n",
      "| \u001b[0m 14      \u001b[0m | \u001b[0m-79.8    \u001b[0m | \u001b[0m 0.4119  \u001b[0m | \u001b[0m 0.8355  \u001b[0m | \u001b[0m 16.79   \u001b[0m | \u001b[0m 2.424   \u001b[0m | \u001b[0m 134.4   \u001b[0m | \u001b[0m 206.5   \u001b[0m | \u001b[0m 177.0   \u001b[0m | \u001b[0m 0.761   \u001b[0m | \u001b[0m 1.339   \u001b[0m |\n",
      "| \u001b[0m 15      \u001b[0m | \u001b[0m-67.87   \u001b[0m | \u001b[0m 0.7908  \u001b[0m | \u001b[0m 0.8164  \u001b[0m | \u001b[0m 6.139   \u001b[0m | \u001b[0m 1.537   \u001b[0m | \u001b[0m 62.61   \u001b[0m | \u001b[0m 163.5   \u001b[0m | \u001b[0m 183.9   \u001b[0m | \u001b[0m 1.079   \u001b[0m | \u001b[0m 2.834   \u001b[0m |\n",
      "| \u001b[0m 16      \u001b[0m | \u001b[0m-56.41   \u001b[0m | \u001b[0m 0.3558  \u001b[0m | \u001b[0m 0.8965  \u001b[0m | \u001b[0m 12.57   \u001b[0m | \u001b[0m 2.135   \u001b[0m | \u001b[0m 19.31   \u001b[0m | \u001b[0m 282.6   \u001b[0m | \u001b[0m 128.1   \u001b[0m | \u001b[0m 2.647   \u001b[0m | \u001b[0m 1.395   \u001b[0m |\n",
      "| \u001b[0m 17      \u001b[0m | \u001b[0m-45.77   \u001b[0m | \u001b[0m 0.8758  \u001b[0m | \u001b[0m 0.6568  \u001b[0m | \u001b[0m 10.45   \u001b[0m | \u001b[0m 2.502   \u001b[0m | \u001b[0m 46.06   \u001b[0m | \u001b[0m 391.0   \u001b[0m | \u001b[0m 539.9   \u001b[0m | \u001b[0m 0.5631  \u001b[0m | \u001b[0m 0.374   \u001b[0m |\n",
      "| \u001b[0m 18      \u001b[0m | \u001b[0m-41.53   \u001b[0m | \u001b[0m 0.3045  \u001b[0m | \u001b[0m 0.7536  \u001b[0m | \u001b[0m 14.8    \u001b[0m | \u001b[0m 2.945   \u001b[0m | \u001b[0m 76.88   \u001b[0m | \u001b[0m 467.6   \u001b[0m | \u001b[0m 274.9   \u001b[0m | \u001b[0m 2.812   \u001b[0m | \u001b[0m 2.269   \u001b[0m |\n",
      "| \u001b[0m 19      \u001b[0m | \u001b[0m-38.52   \u001b[0m | \u001b[0m 0.312   \u001b[0m | \u001b[0m 0.6385  \u001b[0m | \u001b[0m 16.1    \u001b[0m | \u001b[0m 2.32    \u001b[0m | \u001b[0m 21.19   \u001b[0m | \u001b[0m 499.2   \u001b[0m | \u001b[0m 642.9   \u001b[0m | \u001b[0m 2.366   \u001b[0m | \u001b[0m 1.897   \u001b[0m |\n",
      "| \u001b[0m 20      \u001b[0m | \u001b[0m-41.26   \u001b[0m | \u001b[0m 0.7178  \u001b[0m | \u001b[0m 0.5329  \u001b[0m | \u001b[0m 7.962   \u001b[0m | \u001b[0m 1.279   \u001b[0m | \u001b[0m 48.19   \u001b[0m | \u001b[0m 390.9   \u001b[0m | \u001b[0m 544.9   \u001b[0m | \u001b[0m 2.215   \u001b[0m | \u001b[0m 1.232   \u001b[0m |\n",
      "| \u001b[0m 21      \u001b[0m | \u001b[0m-44.24   \u001b[0m | \u001b[0m 0.8794  \u001b[0m | \u001b[0m 0.8267  \u001b[0m | \u001b[0m 13.8    \u001b[0m | \u001b[0m 2.707   \u001b[0m | \u001b[0m 34.08   \u001b[0m | \u001b[0m 497.2   \u001b[0m | \u001b[0m 637.9   \u001b[0m | \u001b[0m 2.225   \u001b[0m | \u001b[0m 1.972   \u001b[0m |\n",
      "| \u001b[0m 22      \u001b[0m | \u001b[0m-34.67   \u001b[0m | \u001b[0m 0.6817  \u001b[0m | \u001b[0m 0.5127  \u001b[0m | \u001b[0m 25.82   \u001b[0m | \u001b[0m 0.643   \u001b[0m | \u001b[0m 20.36   \u001b[0m | \u001b[0m 500.4   \u001b[0m | \u001b[0m 640.3   \u001b[0m | \u001b[0m 2.14    \u001b[0m | \u001b[0m 0.8353  \u001b[0m |\n",
      "| \u001b[0m 23      \u001b[0m | \u001b[0m-42.77   \u001b[0m | \u001b[0m 0.579   \u001b[0m | \u001b[0m 0.6481  \u001b[0m | \u001b[0m 16.38   \u001b[0m | \u001b[0m 2.805   \u001b[0m | \u001b[0m 73.96   \u001b[0m | \u001b[0m 468.2   \u001b[0m | \u001b[0m 267.9   \u001b[0m | \u001b[0m 1.704   \u001b[0m | \u001b[0m 0.3769  \u001b[0m |\n",
      "| \u001b[0m 24      \u001b[0m | \u001b[0m-35.41   \u001b[0m | \u001b[0m 0.4076  \u001b[0m | \u001b[0m 0.51    \u001b[0m | \u001b[0m 20.09   \u001b[0m | \u001b[0m 1.659   \u001b[0m | \u001b[0m 16.63   \u001b[0m | \u001b[0m 496.8   \u001b[0m | \u001b[0m 646.2   \u001b[0m | \u001b[0m 0.5165  \u001b[0m | \u001b[0m 1.463   \u001b[0m |\n",
      "| \u001b[0m 25      \u001b[0m | \u001b[0m-47.48   \u001b[0m | \u001b[0m 0.4059  \u001b[0m | \u001b[0m 0.7939  \u001b[0m | \u001b[0m 24.56   \u001b[0m | \u001b[0m 2.551   \u001b[0m | \u001b[0m 22.05   \u001b[0m | \u001b[0m 497.7   \u001b[0m | \u001b[0m 646.7   \u001b[0m | \u001b[0m 1.139   \u001b[0m | \u001b[0m 0.2346  \u001b[0m |\n",
      "=====================================================================================================================================\n"
     ]
    }
   ],
   "source": [
    "reg = build_lgb(tr, y, 15, 10, param=False)"
   ]
  },
  {
   "cell_type": "code",
   "execution_count": 12,
   "metadata": {},
   "outputs": [
    {
     "data": {
      "text/plain": [
       "array([[-2.46824409e+02, -1.35521454e+01,  9.99143954e+01,\n",
       "         5.13609170e-01],\n",
       "       [ 2.28287934e+02, -2.98427845e+02,  1.28773802e+02,\n",
       "         5.17426834e-01],\n",
       "       [-1.94726747e+02,  1.73651792e+02,  7.41212456e+01,\n",
       "         3.07479658e-01],\n",
       "       ...,\n",
       "       [ 2.70993338e+02, -2.88691376e+02,  8.14073653e+01,\n",
       "         2.36442357e-01],\n",
       "       [ 3.65883194e+01, -3.41315857e+02,  1.35553705e+02,\n",
       "         5.03562191e-01],\n",
       "       [ 1.82849665e+02,  2.02360973e+02,  8.46993751e+01,\n",
       "         3.48089802e-01]])"
      ]
     },
     "execution_count": 12,
     "metadata": {},
     "output_type": "execute_result"
    }
   ],
   "source": [
    "pred = reg.predict(te)\n",
    "pred"
   ]
  },
  {
   "cell_type": "code",
   "execution_count": 13,
   "metadata": {},
   "outputs": [
    {
     "data": {
      "text/plain": [
       "0.14802344731703979"
      ]
     },
     "execution_count": 13,
     "metadata": {},
     "output_type": "execute_result"
    }
   ],
   "source": [
    "from sklearn.metrics import mean_squared_error, mean_absolute_error\n",
    "\n",
    "mean_absolute_error(y, reg.predict(tr))"
   ]
  },
  {
   "cell_type": "code",
   "execution_count": 17,
   "metadata": {},
   "outputs": [
    {
     "data": {
      "text/html": [
       "<div>\n",
       "<style scoped>\n",
       "    .dataframe tbody tr th:only-of-type {\n",
       "        vertical-align: middle;\n",
       "    }\n",
       "\n",
       "    .dataframe tbody tr th {\n",
       "        vertical-align: top;\n",
       "    }\n",
       "\n",
       "    .dataframe thead th {\n",
       "        text-align: right;\n",
       "    }\n",
       "</style>\n",
       "<table border=\"1\" class=\"dataframe\">\n",
       "  <thead>\n",
       "    <tr style=\"text-align: right;\">\n",
       "      <th></th>\n",
       "      <th>id</th>\n",
       "      <th>X</th>\n",
       "      <th>Y</th>\n",
       "      <th>M</th>\n",
       "      <th>V</th>\n",
       "    </tr>\n",
       "  </thead>\n",
       "  <tbody>\n",
       "    <tr>\n",
       "      <th>0</th>\n",
       "      <td>2800</td>\n",
       "      <td>-246.824409</td>\n",
       "      <td>-13.552145</td>\n",
       "      <td>99.914395</td>\n",
       "      <td>0.513609</td>\n",
       "    </tr>\n",
       "    <tr>\n",
       "      <th>1</th>\n",
       "      <td>2801</td>\n",
       "      <td>228.287934</td>\n",
       "      <td>-298.427845</td>\n",
       "      <td>128.773802</td>\n",
       "      <td>0.517427</td>\n",
       "    </tr>\n",
       "    <tr>\n",
       "      <th>2</th>\n",
       "      <td>2802</td>\n",
       "      <td>-194.726747</td>\n",
       "      <td>173.651792</td>\n",
       "      <td>74.121246</td>\n",
       "      <td>0.307480</td>\n",
       "    </tr>\n",
       "    <tr>\n",
       "      <th>3</th>\n",
       "      <td>2803</td>\n",
       "      <td>192.541532</td>\n",
       "      <td>2.926115</td>\n",
       "      <td>87.321333</td>\n",
       "      <td>0.260968</td>\n",
       "    </tr>\n",
       "    <tr>\n",
       "      <th>4</th>\n",
       "      <td>2804</td>\n",
       "      <td>-210.371211</td>\n",
       "      <td>279.279320</td>\n",
       "      <td>91.522330</td>\n",
       "      <td>0.534172</td>\n",
       "    </tr>\n",
       "    <tr>\n",
       "      <th>...</th>\n",
       "      <td>...</td>\n",
       "      <td>...</td>\n",
       "      <td>...</td>\n",
       "      <td>...</td>\n",
       "      <td>...</td>\n",
       "    </tr>\n",
       "    <tr>\n",
       "      <th>695</th>\n",
       "      <td>3495</td>\n",
       "      <td>-301.537880</td>\n",
       "      <td>285.293084</td>\n",
       "      <td>84.917981</td>\n",
       "      <td>0.550003</td>\n",
       "    </tr>\n",
       "    <tr>\n",
       "      <th>696</th>\n",
       "      <td>3496</td>\n",
       "      <td>59.751297</td>\n",
       "      <td>-2.795594</td>\n",
       "      <td>60.201667</td>\n",
       "      <td>0.363064</td>\n",
       "    </tr>\n",
       "    <tr>\n",
       "      <th>697</th>\n",
       "      <td>3497</td>\n",
       "      <td>270.993338</td>\n",
       "      <td>-288.691376</td>\n",
       "      <td>81.407365</td>\n",
       "      <td>0.236442</td>\n",
       "    </tr>\n",
       "    <tr>\n",
       "      <th>698</th>\n",
       "      <td>3498</td>\n",
       "      <td>36.588319</td>\n",
       "      <td>-341.315857</td>\n",
       "      <td>135.553705</td>\n",
       "      <td>0.503562</td>\n",
       "    </tr>\n",
       "    <tr>\n",
       "      <th>699</th>\n",
       "      <td>3499</td>\n",
       "      <td>182.849665</td>\n",
       "      <td>202.360973</td>\n",
       "      <td>84.699375</td>\n",
       "      <td>0.348090</td>\n",
       "    </tr>\n",
       "  </tbody>\n",
       "</table>\n",
       "<p>700 rows × 5 columns</p>\n",
       "</div>"
      ],
      "text/plain": [
       "       id           X           Y           M         V\n",
       "0    2800 -246.824409  -13.552145   99.914395  0.513609\n",
       "1    2801  228.287934 -298.427845  128.773802  0.517427\n",
       "2    2802 -194.726747  173.651792   74.121246  0.307480\n",
       "3    2803  192.541532    2.926115   87.321333  0.260968\n",
       "4    2804 -210.371211  279.279320   91.522330  0.534172\n",
       "..    ...         ...         ...         ...       ...\n",
       "695  3495 -301.537880  285.293084   84.917981  0.550003\n",
       "696  3496   59.751297   -2.795594   60.201667  0.363064\n",
       "697  3497  270.993338 -288.691376   81.407365  0.236442\n",
       "698  3498   36.588319 -341.315857  135.553705  0.503562\n",
       "699  3499  182.849665  202.360973   84.699375  0.348090\n",
       "\n",
       "[700 rows x 5 columns]"
      ]
     },
     "execution_count": 17,
     "metadata": {},
     "output_type": "execute_result"
    }
   ],
   "source": [
    "sub = pd.read_csv('./data/sample_submission.csv')\n",
    "sub[target_cols] = pred\n",
    "sub"
   ]
  },
  {
   "cell_type": "code",
   "execution_count": 18,
   "metadata": {},
   "outputs": [],
   "source": [
    "sub.to_csv('./sample1.csv', index=False)"
   ]
  },
  {
   "cell_type": "code",
   "execution_count": 14,
   "metadata": {},
   "outputs": [
    {
     "data": {
      "text/plain": [
       "RandomForestRegressor(bootstrap=True, ccp_alpha=0.0, criterion='mse',\n",
       "                      max_depth=13, max_features='auto', max_leaf_nodes=None,\n",
       "                      max_samples=None, min_impurity_decrease=0.0,\n",
       "                      min_impurity_split=None, min_samples_leaf=1,\n",
       "                      min_samples_split=2, min_weight_fraction_leaf=0.0,\n",
       "                      n_estimators=100, n_jobs=-1, oob_score=False,\n",
       "                      random_state=42, verbose=0, warm_start=False)"
      ]
     },
     "execution_count": 14,
     "metadata": {},
     "output_type": "execute_result"
    }
   ],
   "source": [
    "from sklearn.ensemble import RandomForestRegressor\n",
    "\n",
    "rf = RandomForestRegressor(max_depth=13, random_state=42, n_jobs=-1)\n",
    "rf.fit(tr, y)"
   ]
  },
  {
   "cell_type": "code",
   "execution_count": 15,
   "metadata": {},
   "outputs": [
    {
     "data": {
      "text/plain": [
       "1.2719291159297055"
      ]
     },
     "execution_count": 15,
     "metadata": {},
     "output_type": "execute_result"
    }
   ],
   "source": [
    "from sklearn.metrics import mean_squared_error, mean_absolute_error\n",
    "\n",
    "mean_absolute_error(y, rf.predict(tr))"
   ]
  },
  {
   "cell_type": "code",
   "execution_count": null,
   "metadata": {},
   "outputs": [],
   "source": [
    "sub = pd.read_csv('./data/sample_submission.csv')\n",
    "te = test.pivot_table(index = 'id', columns = 'Time', values = ['S1', 'S2', 'S3', 'S4'])"
   ]
  },
  {
   "cell_type": "code",
   "execution_count": null,
   "metadata": {},
   "outputs": [],
   "source": [
    "for i, c in enumerate(target.columns[1:]):\n",
    "    sub[c] = regs[i].predict(te)"
   ]
  },
  {
   "cell_type": "code",
   "execution_count": null,
   "metadata": {},
   "outputs": [],
   "source": [
    "pred = rf.predict(te)\n",
    "pred"
   ]
  },
  {
   "cell_type": "code",
   "execution_count": null,
   "metadata": {},
   "outputs": [],
   "source": [
    "target"
   ]
  },
  {
   "cell_type": "code",
   "execution_count": null,
   "metadata": {},
   "outputs": [],
   "source": [
    "sub.to_csv('smaple.csv', index=False)"
   ]
  }
 ],
 "metadata": {
  "kernelspec": {
   "display_name": "Python 3",
   "language": "python",
   "name": "python3"
  },
  "language_info": {
   "codemirror_mode": {
    "name": "ipython",
    "version": 3
   },
   "file_extension": ".py",
   "mimetype": "text/x-python",
   "name": "python",
   "nbconvert_exporter": "python",
   "pygments_lexer": "ipython3",
   "version": "3.7.7"
  },
  "toc": {
   "base_numbering": 1,
   "nav_menu": {},
   "number_sections": true,
   "sideBar": true,
   "skip_h1_title": false,
   "title_cell": "Table of Contents",
   "title_sidebar": "Contents",
   "toc_cell": false,
   "toc_position": {},
   "toc_section_display": true,
   "toc_window_display": false
  }
 },
 "nbformat": 4,
 "nbformat_minor": 4
}
