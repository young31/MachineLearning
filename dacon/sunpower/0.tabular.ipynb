{
 "cells": [
  {
   "cell_type": "code",
   "execution_count": null,
   "metadata": {},
   "outputs": [],
   "source": [
    "import numpy as np\n",
    "import pandas as pd\n",
    "\n",
    "import seaborn as sns\n",
    "import matplotlib.pyplot as plt\n",
    "\n",
    "import os\n",
    "import gc\n",
    "from tqdm import tqdm\n",
    "import random\n",
    "\n",
    "import warnings\n",
    "warnings.filterwarnings('ignore')\n",
    "\n",
    "def seed_all(SEED=42):\n",
    "    np.random.seed(SEED)\n",
    "    os.environ['PYTHONHASHSEED']=str(SEED)\n",
    "    random.seed(SEED)"
   ]
  },
  {
   "cell_type": "code",
   "execution_count": null,
   "metadata": {},
   "outputs": [],
   "source": [
    "data = pd.read_csv('./data/train/train.csv')\n",
    "valid_cols = ['DHI', 'DNI', 'RH', 'T', 'TARGET'] # WS\n",
    "data"
   ]
  },
  {
   "cell_type": "code",
   "execution_count": null,
   "metadata": {},
   "outputs": [],
   "source": [
    "X = []\n",
    "y = []\n",
    "term = 2\n",
    "for i in range(1094-term):\n",
    "    d = data[data['Day']>=i][data['Day'] < i+term][valid_cols]\n",
    "    X.append(d.values.flatten())\n",
    "    y.append(data[data['Day']>i][data['Day']<=i+2]['TARGET'].values)"
   ]
  },
  {
   "cell_type": "code",
   "execution_count": null,
   "metadata": {
    "scrolled": true
   },
   "outputs": [],
   "source": [
    "from sklearn.ensemble import RandomForestRegressor\n",
    "SEED = 42\n",
    "seed_all(SEED)\n",
    "rf = RandomForestRegressor(n_jobs=-1, random_state=SEED, n_estimators=200, min_samples_split=10)\n",
    "rf.fit(X, y)"
   ]
  },
  {
   "cell_type": "code",
   "execution_count": null,
   "metadata": {},
   "outputs": [],
   "source": []
  },
  {
   "cell_type": "code",
   "execution_count": null,
   "metadata": {
    "scrolled": true
   },
   "outputs": [],
   "source": [
    "import glob\n",
    "test_files = glob.glob('./data/test/*.csv')\n",
    "test_files = sorted(test_files, key=lambda x: int(x.split('\\\\')[1].split('.')[0]))\n",
    "test_files"
   ]
  },
  {
   "cell_type": "code",
   "execution_count": null,
   "metadata": {},
   "outputs": [],
   "source": [
    "sub = pd.read_csv('./data/sample_submission.csv')\n",
    "sub"
   ]
  },
  {
   "cell_type": "code",
   "execution_count": null,
   "metadata": {
    "scrolled": true
   },
   "outputs": [],
   "source": [
    "preds = {}\n",
    "for seed in tqdm(range(100)):\n",
    "    seed_all(seed)\n",
    "    rf = RandomForestRegressor(n_jobs=-1, random_state=seed, n_estimators=100, min_samples_split=10)\n",
    "    rf.fit(X, y)\n",
    "\n",
    "    for i, test_file in enumerate(test_files):\n",
    "        if seed == 0:\n",
    "            preds[test_file] = []\n",
    "        test = pd.read_csv(test_file)\n",
    "        pred = rf.predict(test[test['Day']>=6][test['Day']<=6][valid_cols].values.flatten().reshape(1, -1))\n",
    "        preds[test_file].append(pred)\n",
    "        \n",
    "        if seed == 99:\n",
    "            preds[test_file] = np.array(preds[test_file])\n",
    "\n",
    "print('train done')\n",
    "for key in preds.keys():\n",
    "    file = key.split('\\\\')[1]\n",
    "    idx = sub[sub['id'].map(lambda x: x.split('_')[0]) == file].index\n",
    "    for i in range(1, 10):\n",
    "        q = i/10\n",
    "        sub.loc[idx[0]:idx[-1]][f'q_{q}'] = np.quantile(preds[key], q, axis=0).reshape(-1, 1)"
   ]
  },
  {
   "cell_type": "code",
   "execution_count": null,
   "metadata": {},
   "outputs": [],
   "source": [
    "sub.to_csv('./sub/sample.csv', index=False)"
   ]
  },
  {
   "cell_type": "code",
   "execution_count": null,
   "metadata": {},
   "outputs": [],
   "source": []
  }
 ],
 "metadata": {
  "kernelspec": {
   "display_name": "Python 3",
   "language": "python",
   "name": "python3"
  },
  "language_info": {
   "codemirror_mode": {
    "name": "ipython",
    "version": 3
   },
   "file_extension": ".py",
   "mimetype": "text/x-python",
   "name": "python",
   "nbconvert_exporter": "python",
   "pygments_lexer": "ipython3",
   "version": "3.7.7"
  },
  "toc": {
   "base_numbering": 1,
   "nav_menu": {},
   "number_sections": true,
   "sideBar": true,
   "skip_h1_title": false,
   "title_cell": "Table of Contents",
   "title_sidebar": "Contents",
   "toc_cell": false,
   "toc_position": {},
   "toc_section_display": true,
   "toc_window_display": false
  }
 },
 "nbformat": 4,
 "nbformat_minor": 4
}
