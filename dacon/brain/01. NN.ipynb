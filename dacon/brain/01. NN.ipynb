{
 "cells": [
  {
   "cell_type": "code",
   "execution_count": 9,
   "metadata": {},
   "outputs": [],
   "source": [
    "import pandas as pd\n",
    "import numpy as np\n",
    "from tqdm import tqdm\n",
    "\n",
    "import warnings\n",
    "from sklearn.model_selection import train_test_split, cross_val_score\n",
    "from sklearn.metrics import roc_auc_score\n",
    "\n",
    "import seaborn as sns\n",
    "import matplotlib.pyplot as plt\n",
    "\n",
    "SEED = 12\n",
    "np.random.seed(SEED)\n",
    "\n",
    "import warnings\n",
    "warnings.filterwarnings('ignore')"
   ]
  },
  {
   "cell_type": "code",
   "execution_count": 10,
   "metadata": {},
   "outputs": [],
   "source": [
    "sub = pd.read_csv('./data/sample_submission.csv', index_col='id')\n",
    "\n",
    "tr = pd.read_csv('./data/train.csv', index_col='id')\n",
    "te = pd.read_csv('./data/test.csv', index_col='id')\n",
    "\n",
    "target_cols = ['hhb', 'hbo2', 'ca', 'na']\n",
    "target = tr[target_cols].copy()\n",
    "tr = tr.drop(target_cols, axis=1)"
   ]
  },
  {
   "cell_type": "code",
   "execution_count": 11,
   "metadata": {},
   "outputs": [],
   "source": [
    "train_dst = tr.filter(regex='_dst$', axis=1).replace(0, np.NaN) # dst 데이터만 따로 뺀다.\n",
    "test_dst = te.filter(regex='_dst$', axis=1).replace(0, np.NaN) # 보간을 하기위해 결측값을 삭제한다.\n",
    "\n",
    "train_dst = train_dst.interpolate(methods='linear', axis=1)\n",
    "test_dst = test_dst.interpolate(methods='linear', axis=1)\n",
    "\n",
    "train_dst.fillna(0, inplace=True) \n",
    "test_dst.fillna(0, inplace=True)\n",
    "\n",
    "tr.update(train_dst) # 보간한 데이터를 기존 데이터프레임에 업데이트 한다.\n",
    "te.update(test_dst)"
   ]
  },
  {
   "cell_type": "code",
   "execution_count": 12,
   "metadata": {},
   "outputs": [],
   "source": [
    "src = tr.columns[tr.columns.str.contains('src')]\n",
    "dst = tr.columns[tr.columns.str.contains('dst')]\n"
   ]
  },
  {
   "cell_type": "code",
   "execution_count": 13,
   "metadata": {},
   "outputs": [
    {
     "name": "stderr",
     "output_type": "stream",
     "text": [
      "c:\\users\\young\\anaconda3\\envs\\env\\lib\\site-packages\\ipykernel_launcher.py:4: SettingWithCopyWarning: \n",
      "A value is trying to be set on a copy of a slice from a DataFrame\n",
      "\n",
      "See the caveats in the documentation: https://pandas.pydata.org/pandas-docs/stable/user_guide/indexing.html#returning-a-view-versus-a-copy\n",
      "  after removing the cwd from sys.path.\n",
      "c:\\users\\young\\anaconda3\\envs\\env\\lib\\site-packages\\ipykernel_launcher.py:5: SettingWithCopyWarning: \n",
      "A value is trying to be set on a copy of a slice from a DataFrame\n",
      "\n",
      "See the caveats in the documentation: https://pandas.pydata.org/pandas-docs/stable/user_guide/indexing.html#returning-a-view-versus-a-copy\n",
      "  \"\"\"\n",
      "c:\\users\\young\\anaconda3\\envs\\env\\lib\\site-packages\\ipykernel_launcher.py:6: SettingWithCopyWarning: \n",
      "A value is trying to be set on a copy of a slice from a DataFrame\n",
      "\n",
      "See the caveats in the documentation: https://pandas.pydata.org/pandas-docs/stable/user_guide/indexing.html#returning-a-view-versus-a-copy\n",
      "  \n",
      "c:\\users\\young\\anaconda3\\envs\\env\\lib\\site-packages\\ipykernel_launcher.py:7: SettingWithCopyWarning: \n",
      "A value is trying to be set on a copy of a slice from a DataFrame\n",
      "\n",
      "See the caveats in the documentation: https://pandas.pydata.org/pandas-docs/stable/user_guide/indexing.html#returning-a-view-versus-a-copy\n",
      "  import sys\n",
      "c:\\users\\young\\anaconda3\\envs\\env\\lib\\site-packages\\ipykernel_launcher.py:8: SettingWithCopyWarning: \n",
      "A value is trying to be set on a copy of a slice from a DataFrame\n",
      "\n",
      "See the caveats in the documentation: https://pandas.pydata.org/pandas-docs/stable/user_guide/indexing.html#returning-a-view-versus-a-copy\n",
      "  \n",
      "c:\\users\\young\\anaconda3\\envs\\env\\lib\\site-packages\\ipykernel_launcher.py:9: SettingWithCopyWarning: \n",
      "A value is trying to be set on a copy of a slice from a DataFrame\n",
      "\n",
      "See the caveats in the documentation: https://pandas.pydata.org/pandas-docs/stable/user_guide/indexing.html#returning-a-view-versus-a-copy\n",
      "  if __name__ == '__main__':\n",
      "c:\\users\\young\\anaconda3\\envs\\env\\lib\\site-packages\\ipykernel_launcher.py:10: SettingWithCopyWarning: \n",
      "A value is trying to be set on a copy of a slice from a DataFrame\n",
      "\n",
      "See the caveats in the documentation: https://pandas.pydata.org/pandas-docs/stable/user_guide/indexing.html#returning-a-view-versus-a-copy\n",
      "  # Remove the CWD from sys.path while we load stuff.\n",
      "c:\\users\\young\\anaconda3\\envs\\env\\lib\\site-packages\\ipykernel_launcher.py:11: SettingWithCopyWarning: \n",
      "A value is trying to be set on a copy of a slice from a DataFrame\n",
      "\n",
      "See the caveats in the documentation: https://pandas.pydata.org/pandas-docs/stable/user_guide/indexing.html#returning-a-view-versus-a-copy\n",
      "  # This is added back by InteractiveShellApp.init_path()\n",
      "c:\\users\\young\\anaconda3\\envs\\env\\lib\\site-packages\\ipykernel_launcher.py:12: SettingWithCopyWarning: \n",
      "A value is trying to be set on a copy of a slice from a DataFrame\n",
      "\n",
      "See the caveats in the documentation: https://pandas.pydata.org/pandas-docs/stable/user_guide/indexing.html#returning-a-view-versus-a-copy\n",
      "  if sys.path[0] == '':\n",
      "c:\\users\\young\\anaconda3\\envs\\env\\lib\\site-packages\\ipykernel_launcher.py:13: SettingWithCopyWarning: \n",
      "A value is trying to be set on a copy of a slice from a DataFrame\n",
      "\n",
      "See the caveats in the documentation: https://pandas.pydata.org/pandas-docs/stable/user_guide/indexing.html#returning-a-view-versus-a-copy\n",
      "  del sys.path[0]\n",
      "c:\\users\\young\\anaconda3\\envs\\env\\lib\\site-packages\\ipykernel_launcher.py:14: SettingWithCopyWarning: \n",
      "A value is trying to be set on a copy of a slice from a DataFrame\n",
      "\n",
      "See the caveats in the documentation: https://pandas.pydata.org/pandas-docs/stable/user_guide/indexing.html#returning-a-view-versus-a-copy\n",
      "  \n",
      "c:\\users\\young\\anaconda3\\envs\\env\\lib\\site-packages\\ipykernel_launcher.py:15: SettingWithCopyWarning: \n",
      "A value is trying to be set on a copy of a slice from a DataFrame\n",
      "\n",
      "See the caveats in the documentation: https://pandas.pydata.org/pandas-docs/stable/user_guide/indexing.html#returning-a-view-versus-a-copy\n",
      "  from ipykernel import kernelapp as app\n",
      "c:\\users\\young\\anaconda3\\envs\\env\\lib\\site-packages\\ipykernel_launcher.py:16: SettingWithCopyWarning: \n",
      "A value is trying to be set on a copy of a slice from a DataFrame\n",
      "\n",
      "See the caveats in the documentation: https://pandas.pydata.org/pandas-docs/stable/user_guide/indexing.html#returning-a-view-versus-a-copy\n",
      "  app.launch_new_instance()\n",
      "c:\\users\\young\\anaconda3\\envs\\env\\lib\\site-packages\\ipykernel_launcher.py:17: SettingWithCopyWarning: \n",
      "A value is trying to be set on a copy of a slice from a DataFrame\n",
      "\n",
      "See the caveats in the documentation: https://pandas.pydata.org/pandas-docs/stable/user_guide/indexing.html#returning-a-view-versus-a-copy\n",
      "c:\\users\\young\\anaconda3\\envs\\env\\lib\\site-packages\\ipykernel_launcher.py:18: SettingWithCopyWarning: \n",
      "A value is trying to be set on a copy of a slice from a DataFrame\n",
      "\n",
      "See the caveats in the documentation: https://pandas.pydata.org/pandas-docs/stable/user_guide/indexing.html#returning-a-view-versus-a-copy\n",
      "c:\\users\\young\\anaconda3\\envs\\env\\lib\\site-packages\\ipykernel_launcher.py:20: SettingWithCopyWarning: \n",
      "A value is trying to be set on a copy of a slice from a DataFrame\n",
      "\n",
      "See the caveats in the documentation: https://pandas.pydata.org/pandas-docs/stable/user_guide/indexing.html#returning-a-view-versus-a-copy\n",
      "c:\\users\\young\\anaconda3\\envs\\env\\lib\\site-packages\\ipykernel_launcher.py:21: SettingWithCopyWarning: \n",
      "A value is trying to be set on a copy of a slice from a DataFrame\n",
      "\n",
      "See the caveats in the documentation: https://pandas.pydata.org/pandas-docs/stable/user_guide/indexing.html#returning-a-view-versus-a-copy\n",
      "c:\\users\\young\\anaconda3\\envs\\env\\lib\\site-packages\\ipykernel_launcher.py:22: SettingWithCopyWarning: \n",
      "A value is trying to be set on a copy of a slice from a DataFrame\n",
      "\n",
      "See the caveats in the documentation: https://pandas.pydata.org/pandas-docs/stable/user_guide/indexing.html#returning-a-view-versus-a-copy\n",
      "c:\\users\\young\\anaconda3\\envs\\env\\lib\\site-packages\\ipykernel_launcher.py:23: SettingWithCopyWarning: \n",
      "A value is trying to be set on a copy of a slice from a DataFrame\n",
      "\n",
      "See the caveats in the documentation: https://pandas.pydata.org/pandas-docs/stable/user_guide/indexing.html#returning-a-view-versus-a-copy\n",
      "c:\\users\\young\\anaconda3\\envs\\env\\lib\\site-packages\\ipykernel_launcher.py:24: SettingWithCopyWarning: \n",
      "A value is trying to be set on a copy of a slice from a DataFrame\n",
      "\n",
      "See the caveats in the documentation: https://pandas.pydata.org/pandas-docs/stable/user_guide/indexing.html#returning-a-view-versus-a-copy\n",
      "c:\\users\\young\\anaconda3\\envs\\env\\lib\\site-packages\\ipykernel_launcher.py:25: SettingWithCopyWarning: \n",
      "A value is trying to be set on a copy of a slice from a DataFrame\n",
      "\n",
      "See the caveats in the documentation: https://pandas.pydata.org/pandas-docs/stable/user_guide/indexing.html#returning-a-view-versus-a-copy\n",
      "c:\\users\\young\\anaconda3\\envs\\env\\lib\\site-packages\\ipykernel_launcher.py:26: SettingWithCopyWarning: \n",
      "A value is trying to be set on a copy of a slice from a DataFrame\n",
      "\n",
      "See the caveats in the documentation: https://pandas.pydata.org/pandas-docs/stable/user_guide/indexing.html#returning-a-view-versus-a-copy\n",
      "c:\\users\\young\\anaconda3\\envs\\env\\lib\\site-packages\\ipykernel_launcher.py:27: SettingWithCopyWarning: \n",
      "A value is trying to be set on a copy of a slice from a DataFrame\n",
      "\n",
      "See the caveats in the documentation: https://pandas.pydata.org/pandas-docs/stable/user_guide/indexing.html#returning-a-view-versus-a-copy\n",
      "c:\\users\\young\\anaconda3\\envs\\env\\lib\\site-packages\\ipykernel_launcher.py:28: SettingWithCopyWarning: \n",
      "A value is trying to be set on a copy of a slice from a DataFrame\n",
      "\n",
      "See the caveats in the documentation: https://pandas.pydata.org/pandas-docs/stable/user_guide/indexing.html#returning-a-view-versus-a-copy\n",
      "c:\\users\\young\\anaconda3\\envs\\env\\lib\\site-packages\\ipykernel_launcher.py:29: SettingWithCopyWarning: \n",
      "A value is trying to be set on a copy of a slice from a DataFrame\n",
      "\n",
      "See the caveats in the documentation: https://pandas.pydata.org/pandas-docs/stable/user_guide/indexing.html#returning-a-view-versus-a-copy\n",
      "c:\\users\\young\\anaconda3\\envs\\env\\lib\\site-packages\\ipykernel_launcher.py:30: SettingWithCopyWarning: \n",
      "A value is trying to be set on a copy of a slice from a DataFrame\n",
      "\n",
      "See the caveats in the documentation: https://pandas.pydata.org/pandas-docs/stable/user_guide/indexing.html#returning-a-view-versus-a-copy\n",
      "c:\\users\\young\\anaconda3\\envs\\env\\lib\\site-packages\\ipykernel_launcher.py:31: SettingWithCopyWarning: \n",
      "A value is trying to be set on a copy of a slice from a DataFrame\n",
      "\n",
      "See the caveats in the documentation: https://pandas.pydata.org/pandas-docs/stable/user_guide/indexing.html#returning-a-view-versus-a-copy\n",
      "c:\\users\\young\\anaconda3\\envs\\env\\lib\\site-packages\\ipykernel_launcher.py:32: SettingWithCopyWarning: \n",
      "A value is trying to be set on a copy of a slice from a DataFrame\n",
      "\n",
      "See the caveats in the documentation: https://pandas.pydata.org/pandas-docs/stable/user_guide/indexing.html#returning-a-view-versus-a-copy\n",
      "c:\\users\\young\\anaconda3\\envs\\env\\lib\\site-packages\\ipykernel_launcher.py:33: SettingWithCopyWarning: \n",
      "A value is trying to be set on a copy of a slice from a DataFrame\n",
      "\n",
      "See the caveats in the documentation: https://pandas.pydata.org/pandas-docs/stable/user_guide/indexing.html#returning-a-view-versus-a-copy\n",
      "c:\\users\\young\\anaconda3\\envs\\env\\lib\\site-packages\\ipykernel_launcher.py:34: SettingWithCopyWarning: \n",
      "A value is trying to be set on a copy of a slice from a DataFrame\n",
      "\n",
      "See the caveats in the documentation: https://pandas.pydata.org/pandas-docs/stable/user_guide/indexing.html#returning-a-view-versus-a-copy\n"
     ]
    }
   ],
   "source": [
    "alpha = tr[dst]\n",
    "beta = te[dst]\n",
    "\n",
    "alpha.loc[alpha['790_dst'].isnull(),'790_dst']=alpha.loc[alpha['790_dst'].isnull(),'800_dst']\n",
    "alpha.loc[alpha['780_dst'].isnull(),'780_dst']=alpha.loc[alpha['780_dst'].isnull(),'790_dst']\n",
    "alpha.loc[alpha['770_dst'].isnull(),'770_dst']=alpha.loc[alpha['770_dst'].isnull(),'780_dst']\n",
    "alpha.loc[alpha['760_dst'].isnull(),'760_dst']=alpha.loc[alpha['760_dst'].isnull(),'770_dst']\n",
    "alpha.loc[alpha['750_dst'].isnull(),'750_dst']=alpha.loc[alpha['750_dst'].isnull(),'760_dst']\n",
    "alpha.loc[alpha['740_dst'].isnull(),'740_dst']=alpha.loc[alpha['740_dst'].isnull(),'750_dst']\n",
    "alpha.loc[alpha['730_dst'].isnull(),'730_dst']=alpha.loc[alpha['730_dst'].isnull(),'740_dst']\n",
    "alpha.loc[alpha['720_dst'].isnull(),'720_dst']=alpha.loc[alpha['720_dst'].isnull(),'730_dst']\n",
    "alpha.loc[alpha['710_dst'].isnull(),'710_dst']=alpha.loc[alpha['710_dst'].isnull(),'720_dst']\n",
    "alpha.loc[alpha['700_dst'].isnull(),'700_dst']=alpha.loc[alpha['700_dst'].isnull(),'710_dst']\n",
    "alpha.loc[alpha['690_dst'].isnull(),'690_dst']=alpha.loc[alpha['690_dst'].isnull(),'700_dst']\n",
    "alpha.loc[alpha['680_dst'].isnull(),'680_dst']=alpha.loc[alpha['680_dst'].isnull(),'690_dst']\n",
    "alpha.loc[alpha['670_dst'].isnull(),'670_dst']=alpha.loc[alpha['670_dst'].isnull(),'680_dst']\n",
    "alpha.loc[alpha['660_dst'].isnull(),'660_dst']=alpha.loc[alpha['660_dst'].isnull(),'670_dst']\n",
    "alpha.loc[alpha['650_dst'].isnull(),'650_dst']=alpha.loc[alpha['650_dst'].isnull(),'660_dst']\n",
    "\n",
    "beta.loc[beta['790_dst'].isnull(),'790_dst']=beta.loc[beta['790_dst'].isnull(),'800_dst']\n",
    "beta.loc[beta['780_dst'].isnull(),'780_dst']=beta.loc[beta['780_dst'].isnull(),'790_dst']\n",
    "beta.loc[beta['770_dst'].isnull(),'770_dst']=beta.loc[beta['770_dst'].isnull(),'780_dst']\n",
    "beta.loc[beta['760_dst'].isnull(),'760_dst']=beta.loc[beta['760_dst'].isnull(),'770_dst']\n",
    "beta.loc[beta['750_dst'].isnull(),'750_dst']=beta.loc[beta['750_dst'].isnull(),'760_dst']\n",
    "beta.loc[beta['740_dst'].isnull(),'740_dst']=beta.loc[beta['740_dst'].isnull(),'750_dst']\n",
    "beta.loc[beta['730_dst'].isnull(),'730_dst']=beta.loc[beta['730_dst'].isnull(),'740_dst']\n",
    "beta.loc[beta['720_dst'].isnull(),'720_dst']=beta.loc[beta['720_dst'].isnull(),'730_dst']\n",
    "beta.loc[beta['710_dst'].isnull(),'710_dst']=beta.loc[beta['710_dst'].isnull(),'720_dst']\n",
    "beta.loc[beta['700_dst'].isnull(),'700_dst']=beta.loc[beta['700_dst'].isnull(),'710_dst']\n",
    "beta.loc[beta['690_dst'].isnull(),'690_dst']=beta.loc[beta['690_dst'].isnull(),'700_dst']\n",
    "beta.loc[beta['680_dst'].isnull(),'680_dst']=beta.loc[beta['680_dst'].isnull(),'690_dst']\n",
    "beta.loc[beta['670_dst'].isnull(),'670_dst']=beta.loc[beta['670_dst'].isnull(),'680_dst']\n",
    "beta.loc[beta['660_dst'].isnull(),'660_dst']=beta.loc[beta['660_dst'].isnull(),'670_dst']\n",
    "beta.loc[beta['650_dst'].isnull(),'650_dst']=beta.loc[beta['650_dst'].isnull(),'660_dst']\n",
    "\n",
    "tr[dst] = alpha\n",
    "te[dst] = beta"
   ]
  },
  {
   "cell_type": "code",
   "execution_count": 14,
   "metadata": {},
   "outputs": [],
   "source": [
    "for col in dst:\n",
    "    tr[col+'_sq'] = tr[col] * (tr['rho'] ** 2)\n",
    "    te[col+'_sq'] = te[col] * (te['rho']** 2)"
   ]
  },
  {
   "cell_type": "code",
   "execution_count": 15,
   "metadata": {
    "scrolled": true
   },
   "outputs": [
    {
     "name": "stderr",
     "output_type": "stream",
     "text": [
      "  0%|          | 0/10000 [00:00<?, ?it/s]c:\\users\\young\\anaconda3\\envs\\env\\lib\\site-packages\\ipykernel_launcher.py:8: SettingWithCopyWarning: \n",
      "A value is trying to be set on a copy of a slice from a DataFrame\n",
      "\n",
      "See the caveats in the documentation: https://pandas.pydata.org/pandas-docs/stable/user_guide/indexing.html#returning-a-view-versus-a-copy\n",
      "  \n",
      "c:\\users\\young\\anaconda3\\envs\\env\\lib\\site-packages\\ipykernel_launcher.py:9: SettingWithCopyWarning: \n",
      "A value is trying to be set on a copy of a slice from a DataFrame\n",
      "\n",
      "See the caveats in the documentation: https://pandas.pydata.org/pandas-docs/stable/user_guide/indexing.html#returning-a-view-versus-a-copy\n",
      "  if __name__ == '__main__':\n",
      "c:\\users\\young\\anaconda3\\envs\\env\\lib\\site-packages\\ipykernel_launcher.py:11: SettingWithCopyWarning: \n",
      "A value is trying to be set on a copy of a slice from a DataFrame\n",
      "\n",
      "See the caveats in the documentation: https://pandas.pydata.org/pandas-docs/stable/user_guide/indexing.html#returning-a-view-versus-a-copy\n",
      "  # This is added back by InteractiveShellApp.init_path()\n",
      "c:\\users\\young\\anaconda3\\envs\\env\\lib\\site-packages\\ipykernel_launcher.py:12: SettingWithCopyWarning: \n",
      "A value is trying to be set on a copy of a slice from a DataFrame\n",
      "\n",
      "See the caveats in the documentation: https://pandas.pydata.org/pandas-docs/stable/user_guide/indexing.html#returning-a-view-versus-a-copy\n",
      "  if sys.path[0] == '':\n",
      "100%|██████████| 10000/10000 [00:39<00:00, 253.84it/s]\n",
      "  0%|          | 0/10000 [00:00<?, ?it/s]c:\\users\\young\\anaconda3\\envs\\env\\lib\\site-packages\\ipykernel_launcher.py:16: SettingWithCopyWarning: \n",
      "A value is trying to be set on a copy of a slice from a DataFrame\n",
      "\n",
      "See the caveats in the documentation: https://pandas.pydata.org/pandas-docs/stable/user_guide/indexing.html#returning-a-view-versus-a-copy\n",
      "  app.launch_new_instance()\n",
      "c:\\users\\young\\anaconda3\\envs\\env\\lib\\site-packages\\ipykernel_launcher.py:17: SettingWithCopyWarning: \n",
      "A value is trying to be set on a copy of a slice from a DataFrame\n",
      "\n",
      "See the caveats in the documentation: https://pandas.pydata.org/pandas-docs/stable/user_guide/indexing.html#returning-a-view-versus-a-copy\n",
      "c:\\users\\young\\anaconda3\\envs\\env\\lib\\site-packages\\ipykernel_launcher.py:19: SettingWithCopyWarning: \n",
      "A value is trying to be set on a copy of a slice from a DataFrame\n",
      "\n",
      "See the caveats in the documentation: https://pandas.pydata.org/pandas-docs/stable/user_guide/indexing.html#returning-a-view-versus-a-copy\n",
      "c:\\users\\young\\anaconda3\\envs\\env\\lib\\site-packages\\ipykernel_launcher.py:20: SettingWithCopyWarning: \n",
      "A value is trying to be set on a copy of a slice from a DataFrame\n",
      "\n",
      "See the caveats in the documentation: https://pandas.pydata.org/pandas-docs/stable/user_guide/indexing.html#returning-a-view-versus-a-copy\n",
      "100%|██████████| 10000/10000 [00:39<00:00, 250.46it/s]\n"
     ]
    }
   ],
   "source": [
    "alpha_real=tr[dst]\n",
    "alpha_imag=tr[dst]\n",
    "\n",
    "beta_real=te[dst]\n",
    "beta_imag=te[dst]\n",
    "\n",
    "for i in tqdm(alpha_real.index):\n",
    "    alpha_real.loc[i]=alpha_real.loc[i] - alpha_real.loc[i].mean()\n",
    "    alpha_imag.loc[i]=alpha_imag.loc[i] - alpha_real.loc[i].mean()\n",
    "    \n",
    "    alpha_real.loc[i] = np.fft.fft(alpha_real.loc[i], norm='ortho').real\n",
    "    alpha_imag.loc[i] = np.fft.fft(alpha_imag.loc[i], norm='ortho').imag\n",
    "\n",
    "    \n",
    "for i in tqdm(beta_real.index):\n",
    "    beta_real.loc[i]=beta_real.loc[i] - beta_real.loc[i].mean()\n",
    "    beta_imag.loc[i]=beta_imag.loc[i] - beta_imag.loc[i].mean()\n",
    "    \n",
    "    beta_real.loc[i] = np.fft.fft(beta_real.loc[i], norm='ortho').real\n",
    "    beta_imag.loc[i] = np.fft.fft(beta_imag.loc[i], norm='ortho').imag\n",
    "    \n",
    "real_part=[]\n",
    "imag_part=[]\n",
    "\n",
    "for col in dst:\n",
    "    real_part.append(col + '_fft_real')\n",
    "    imag_part.append(col + '_fft_imag')\n",
    "    \n",
    "alpha_real.columns=real_part\n",
    "alpha_imag.columns=imag_part\n",
    "alpha = pd.concat((alpha_real, alpha_imag), axis=1)\n",
    "\n",
    "beta_real.columns=real_part\n",
    "beta_imag.columns=imag_part\n",
    "beta=pd.concat((beta_real, beta_imag), axis=1)"
   ]
  },
  {
   "cell_type": "code",
   "execution_count": 16,
   "metadata": {},
   "outputs": [],
   "source": [
    "tr=pd.concat((tr, alpha), axis=1)\n",
    "te=pd.concat((te, beta), axis=1)"
   ]
  },
  {
   "cell_type": "code",
   "execution_count": null,
   "metadata": {},
   "outputs": [],
   "source": []
  },
  {
   "cell_type": "code",
   "execution_count": 17,
   "metadata": {},
   "outputs": [],
   "source": [
    "div = tr[src].values / (tr[dst].values + 1e-10)\n",
    "df_div = pd.DataFrame(div, columns=[f'{i}_div' for i in range(650, 1000, 10)])\n",
    "\n",
    "div_ = df_div.columns[df_div.columns.str.contains('div')]\n",
    "for c in div_:\n",
    "    res = df_div[c].values / 10**tr.rho\n",
    "    df_div[c] = res\n",
    "    \n",
    "tr = pd.concat([tr, df_div], axis=1)\n",
    "\n",
    "div = te[src].values / (te[dst].values + 1e-10)\n",
    "df_div = pd.DataFrame(div, columns=[f'{i}_div' for i in range(650, 1000, 10)], index=te.index)\n",
    "\n",
    "div_ = df_div.columns[df_div.columns.str.contains('div')]\n",
    "for c in div_:\n",
    "    res = df_div[c].values / 10**te.rho.values\n",
    "    df_div[c] = res\n",
    "    \n",
    "te = pd.concat([te, df_div], axis=1)\n",
    "\n",
    "div = tr.columns[tr.columns.str.contains('div')]"
   ]
  },
  {
   "cell_type": "code",
   "execution_count": 18,
   "metadata": {},
   "outputs": [],
   "source": [
    "for c in dst:\n",
    "    new = c.replace('dst', 'dst_mul')\n",
    "    tr[new] = tr[c].values * 10**tr.rho\n",
    "\n",
    "for c in dst:\n",
    "    new = c.replace('dst', 'dst_mul')\n",
    "    te[new] = te[c].values * 10**te.rho\n",
    "    \n",
    "mul = tr.columns[tr.columns.str.contains('dst_mul')]"
   ]
  },
  {
   "cell_type": "code",
   "execution_count": 19,
   "metadata": {},
   "outputs": [],
   "source": [
    "dst_mul_log = list(map(lambda x: x.replace('dst_mul', 'dst_mul_log'), mul))\n",
    "\n",
    "tr_mul_log = pd.DataFrame(np.log(tr[mul].values +1e-10), columns=dst_mul_log)\n",
    "tr = pd.concat([tr, tr_mul_log], axis=1)\n",
    "\n",
    "te_mul_log = pd.DataFrame(np.log(te[mul].values +1e-10), columns=dst_mul_log, index=te.index)\n",
    "te = pd.concat([te, te_mul_log], axis=1)\n"
   ]
  },
  {
   "cell_type": "code",
   "execution_count": 20,
   "metadata": {},
   "outputs": [],
   "source": [
    "sqrt = list(map(lambda x: x.replace('mul', 'sqrt'), mul))\n",
    "\n",
    "tr_sqrt = pd.DataFrame(np.sqrt(tr[mul].values), columns=sqrt)\n",
    "tr = pd.concat([tr, tr_sqrt], axis=1)\n",
    "\n",
    "te_sqrt = pd.DataFrame(np.sqrt(te[mul].values), columns=sqrt, index=te.index)\n",
    "te = pd.concat([te, te_sqrt], axis=1)\n"
   ]
  },
  {
   "cell_type": "code",
   "execution_count": 23,
   "metadata": {},
   "outputs": [],
   "source": [
    "dst_exp = list(map(lambda x: x.replace('dst', 'dst_exp'), dst))\n",
    "\n",
    "tr_dst_exp = pd.DataFrame(np.exp(tr[src].values), columns=dst_exp)\n",
    "tr = pd.concat([tr, tr_dst_exp], axis=1)\n",
    "\n",
    "te_dst_exp = pd.DataFrame(np.exp(te[src].values), columns=dst_exp, index=te.index)\n",
    "te = pd.concat([te, te_dst_exp], axis=1)\n"
   ]
  },
  {
   "cell_type": "code",
   "execution_count": 21,
   "metadata": {},
   "outputs": [],
   "source": [
    "src_exp = list(map(lambda x: x.replace('src', 'src_exp'), src))\n",
    "\n",
    "tr_src_exp = pd.DataFrame(np.exp(tr[src].values), columns=src_exp)\n",
    "tr = pd.concat([tr, tr_src_exp], axis=1)\n",
    "\n",
    "te_src_exp = pd.DataFrame(np.exp(te[src].values), columns=src_exp, index=te.index)\n",
    "te = pd.concat([te, te_src_exp], axis=1)\n"
   ]
  },
  {
   "cell_type": "code",
   "execution_count": 24,
   "metadata": {},
   "outputs": [],
   "source": [
    "div_exp = list(map(lambda x: x.replace('src', 'div_exp'), src))\n",
    "\n",
    "divexp = pd.DataFrame(tr[src_exp].values / tr[dst_exp].values, columns=div_exp)\n",
    "tr = pd.concat([tr, divexp], axis=1)\n",
    "\n",
    "divexp = pd.DataFrame(te[src_exp].values / te[dst_exp].values, columns=div_exp, index=te.index)\n",
    "te = pd.concat([te, divexp], axis=1)"
   ]
  },
  {
   "cell_type": "code",
   "execution_count": 25,
   "metadata": {
    "scrolled": true
   },
   "outputs": [],
   "source": [
    "from sklearn.preprocessing import OneHotEncoder\n",
    "\n",
    "ohe = OneHotEncoder()\n",
    "o = pd.DataFrame(ohe.fit_transform(tr.rho.values.reshape(-1, 1)).toarray(), columns = ['rho_10', 'rho_15', 'rho_20', 'rho_25'])\n",
    "tr = pd.concat([tr, o], axis=1).drop('rho', axis=1)\n",
    "\n",
    "o = pd.DataFrame(ohe.fit_transform(te.rho.values.reshape(-1, 1)).toarray(), columns = ['rho_10', 'rho_15', 'rho_20', 'rho_25'], index=te.index)\n",
    "te = pd.concat([te, o], axis=1).drop('rho', axis=1)\n"
   ]
  },
  {
   "cell_type": "code",
   "execution_count": 26,
   "metadata": {},
   "outputs": [
    {
     "data": {
      "text/plain": [
       "0"
      ]
     },
     "execution_count": 26,
     "metadata": {},
     "output_type": "execute_result"
    }
   ],
   "source": [
    "np.sum(np.sum(tr[sqrt].isna()))"
   ]
  },
  {
   "cell_type": "code",
   "execution_count": 27,
   "metadata": {},
   "outputs": [],
   "source": [
    "from sklearn.preprocessing import StandardScaler, MinMaxScaler, RobustScaler\n",
    "\n",
    "ss = StandardScaler()\n",
    "ms = MinMaxScaler()\n",
    "rs = RobustScaler()\n",
    "\n",
    "# y = pd.DataFrame(ms.fit_transform(target), columns=target_cols)\n",
    "y = pd.DataFrame(target.values/10, columns=target_cols)\n",
    "y1 = y[target_cols[0]].copy()\n",
    "y2 = y[target_cols[1]].copy()\n",
    "y3 = y[target_cols[2]].copy()\n",
    "y4 = y[target_cols[3]].copy()\n"
   ]
  },
  {
   "cell_type": "code",
   "execution_count": 28,
   "metadata": {},
   "outputs": [
    {
     "data": {
      "text/plain": [
       "(10000, 424)"
      ]
     },
     "execution_count": 28,
     "metadata": {},
     "output_type": "execute_result"
    }
   ],
   "source": [
    "tr.shape"
   ]
  },
  {
   "cell_type": "code",
   "execution_count": 29,
   "metadata": {},
   "outputs": [],
   "source": [
    "tr_X, val_X, tr_y, val_y = train_test_split(tr, y, test_size=0.15, shuffle=True, random_state=SEED)"
   ]
  },
  {
   "cell_type": "code",
   "execution_count": 30,
   "metadata": {},
   "outputs": [
    {
     "name": "stderr",
     "output_type": "stream",
     "text": [
      "Using TensorFlow backend.\n"
     ]
    }
   ],
   "source": [
    "import keras\n",
    "from keras import layers, models, optimizers\n",
    "from keras.layers import Dense, AlphaDropout, Activation\n",
    "from keras.models import Model, Input\n",
    "from keras.regularizers import l1_l2\n",
    "import keras.backend as K\n",
    "\n",
    "def mish(x):\n",
    "    return x*K.tanh(K.softplus(x))"
   ]
  },
  {
   "cell_type": "code",
   "execution_count": 31,
   "metadata": {},
   "outputs": [],
   "source": [
    "es = keras.callbacks.EarlyStopping(patience=5, restore_best_weights=True, monitor='val_loss')\n",
    "# cp = keras.callbacks.ModelCheckpoint()"
   ]
  },
  {
   "cell_type": "code",
   "execution_count": 32,
   "metadata": {
    "scrolled": true
   },
   "outputs": [],
   "source": [
    "model = keras.models.Sequential()\n",
    "model.add(Dense(512, activation=mish, kernel_initializer='he_normal', kernel_regularizer=l1_l2(l1=0, l2=0.05)))\n",
    "# model.add(AlphaDropout(0.1))\n",
    "model.add(Dense(256, activation=mish, kernel_initializer='he_normal', kernel_regularizer=l1_l2(l1=0, l2=0.05)))\n",
    "# model.add(AlphaDropout(0.1))\n",
    "model.add(Dense(128, activation=mish, kernel_initializer='he_normal', kernel_regularizer=l1_l2(l1=0, l2=0.05)))\n",
    "\n",
    "model.add(Dense(4))\n",
    "\n",
    "model.compile(loss='mae', optimizer='adam')"
   ]
  },
  {
   "cell_type": "code",
   "execution_count": 33,
   "metadata": {
    "scrolled": true
   },
   "outputs": [
    {
     "name": "stdout",
     "output_type": "stream",
     "text": [
      "Train on 8500 samples, validate on 1500 samples\n",
      "Epoch 1/30\n",
      "8500/8500 [==============================] - 4s 442us/step - loss: 18024.1992 - val_loss: 12835.0748\n",
      "Epoch 2/30\n",
      "8500/8500 [==============================] - 2s 211us/step - loss: 13418.2433 - val_loss: 17059.1803\n",
      "Epoch 3/30\n",
      "8500/8500 [==============================] - 2s 211us/step - loss: 13347.4008 - val_loss: 5089.4544\n",
      "Epoch 4/30\n",
      "8500/8500 [==============================] - 2s 210us/step - loss: 10650.0198 - val_loss: 4570.6788\n",
      "Epoch 5/30\n",
      "8500/8500 [==============================] - 2s 212us/step - loss: 5875.9654 - val_loss: 7033.6977\n",
      "Epoch 6/30\n",
      "8500/8500 [==============================] - 2s 219us/step - loss: 6331.3251 - val_loss: 1853.7797\n",
      "Epoch 7/30\n",
      "8500/8500 [==============================] - 2s 205us/step - loss: 5038.5660 - val_loss: 3380.8810\n",
      "Epoch 8/30\n",
      "8500/8500 [==============================] - 2s 197us/step - loss: 2656.8216 - val_loss: 61.1711\n",
      "Epoch 9/30\n",
      "8500/8500 [==============================] - 2s 206us/step - loss: 133.1264 - val_loss: 51.5018\n",
      "Epoch 10/30\n",
      "8500/8500 [==============================] - 2s 198us/step - loss: 38.6490 - val_loss: 48.9539\n",
      "Epoch 11/30\n",
      "8500/8500 [==============================] - 2s 207us/step - loss: 37.6729 - val_loss: 46.9363\n",
      "Epoch 12/30\n",
      "8500/8500 [==============================] - 2s 201us/step - loss: 36.8420 - val_loss: 45.0539\n",
      "Epoch 13/30\n",
      "8500/8500 [==============================] - 2s 202us/step - loss: 36.1820 - val_loss: 43.2744\n",
      "Epoch 14/30\n",
      "8500/8500 [==============================] - 2s 213us/step - loss: 35.4467 - val_loss: 41.7381\n",
      "Epoch 15/30\n",
      "8500/8500 [==============================] - 2s 206us/step - loss: 34.8324 - val_loss: 40.5989\n",
      "Epoch 16/30\n",
      "8500/8500 [==============================] - 2s 203us/step - loss: 34.2610 - val_loss: 41.7193\n",
      "Epoch 17/30\n",
      "8500/8500 [==============================] - 2s 208us/step - loss: 33.7180 - val_loss: 39.7315\n",
      "Epoch 18/30\n",
      "8500/8500 [==============================] - 2s 208us/step - loss: 33.2137 - val_loss: 40.3687\n",
      "Epoch 19/30\n",
      "8500/8500 [==============================] - 2s 209us/step - loss: 32.7203 - val_loss: 39.5731\n",
      "Epoch 20/30\n",
      "8500/8500 [==============================] - 2s 207us/step - loss: 32.2403 - val_loss: 38.0738\n",
      "Epoch 21/30\n",
      "8500/8500 [==============================] - 2s 202us/step - loss: 34.7962 - val_loss: 38.0368\n",
      "Epoch 22/30\n",
      "8500/8500 [==============================] - 2s 206us/step - loss: 31.3060 - val_loss: 36.1823\n",
      "Epoch 23/30\n",
      "8500/8500 [==============================] - 2s 199us/step - loss: 30.8218 - val_loss: 37.3223\n",
      "Epoch 24/30\n",
      "8500/8500 [==============================] - 2s 205us/step - loss: 30.3323 - val_loss: 33.7190\n",
      "Epoch 25/30\n",
      "8500/8500 [==============================] - 2s 205us/step - loss: 29.8330 - val_loss: 32.6834\n",
      "Epoch 26/30\n",
      "8500/8500 [==============================] - 2s 202us/step - loss: 29.3249 - val_loss: 33.6643\n",
      "Epoch 27/30\n",
      "8500/8500 [==============================] - 2s 214us/step - loss: 28.8062 - val_loss: 32.9226\n",
      "Epoch 28/30\n",
      "8500/8500 [==============================] - 2s 205us/step - loss: 28.2729 - val_loss: 29.0939\n",
      "Epoch 29/30\n",
      "8500/8500 [==============================] - 2s 203us/step - loss: 27.7221 - val_loss: 29.6646\n",
      "Epoch 30/30\n",
      "8500/8500 [==============================] - 2s 212us/step - loss: 27.1689 - val_loss: 29.7823\n"
     ]
    },
    {
     "data": {
      "text/plain": [
       "<keras.callbacks.callbacks.History at 0x2344f8bda48>"
      ]
     },
     "execution_count": 33,
     "metadata": {},
     "output_type": "execute_result"
    }
   ],
   "source": [
    "model.fit(tr_X.values, tr_y.values, epochs=30,\n",
    "         validation_data=[val_X.values, val_y.values],\n",
    "         callbacks=[es],\n",
    "         shuffle=True)"
   ]
  },
  {
   "cell_type": "code",
   "execution_count": 34,
   "metadata": {},
   "outputs": [
    {
     "data": {
      "text/plain": [
       "array([[ 7.4030476,  3.9281158,  8.647698 ,  2.8056228],\n",
       "       [ 7.4030313,  3.928146 ,  8.647656 ,  2.8056142],\n",
       "       [10.020817 ,  5.083876 , 10.500899 ,  3.1113312],\n",
       "       ...,\n",
       "       [ 7.402837 ,  3.9283342,  8.647587 ,  2.80551  ],\n",
       "       [ 7.4030313,  3.928146 ,  8.647656 ,  2.8056145],\n",
       "       [ 7.4030313,  3.928146 ,  8.647656 ,  2.8056145]], dtype=float32)"
      ]
     },
     "execution_count": 34,
     "metadata": {},
     "output_type": "execute_result"
    }
   ],
   "source": [
    "pred = model.predict(te)\n",
    "pred *= 10"
   ]
  },
  {
   "cell_type": "code",
   "execution_count": null,
   "metadata": {},
   "outputs": [],
   "source": [
    "# sub[target_cols] = pred\n",
    "# sub.to_csv('test.csv')"
   ]
  },
  {
   "cell_type": "code",
   "execution_count": 21,
   "metadata": {},
   "outputs": [],
   "source": [
    "##########################"
   ]
  },
  {
   "cell_type": "code",
   "execution_count": 35,
   "metadata": {},
   "outputs": [],
   "source": [
    "tr_X, val_X, tr_y1, val_y1, tr_y2, val_y2, tr_y3, val_y3, tr_y4, val_y4 = \\\n",
    "    train_test_split(tr, y1.values, y2.values, y3.values, y4.values, test_size=0.15, shuffle=True, random_state=SEED)"
   ]
  },
  {
   "cell_type": "code",
   "execution_count": 36,
   "metadata": {},
   "outputs": [],
   "source": [
    "from keras.losses import mean_absolute_error, mean_squared_error\n",
    "\n",
    "def custom_loss(y_true, y_pred):\n",
    "    return 0.5*(mean_absolute_error(y_true, y_pred) + mean_squared_error(y_true, y_pred))"
   ]
  },
  {
   "cell_type": "code",
   "execution_count": 40,
   "metadata": {},
   "outputs": [],
   "source": [
    "inputs = Input(shape = tr_X.shape[1:])\n",
    "\n",
    "x = Dense(512, kernel_initializer='he_normal')(inputs)\n",
    "x = Activation(mish)(x)\n",
    "x = Dense(256, kernel_initializer='he_normal')(x)\n",
    "x = Activation(mish)(x)\n",
    "x = Dense(128, kernel_initializer='he_normal')(x)\n",
    "x = Activation(mish)(x)\n",
    "\n",
    "o1 = Dense(1, kernel_initializer='he_normal')(x)\n",
    "o2 = Dense(1, kernel_initializer='he_normal')(x)\n",
    "o3 = Dense(1, kernel_initializer='he_normal')(x)\n",
    "o4 = Dense(1, kernel_initializer='he_normal')(x)\n",
    "\n",
    "model = Model(inputs, [o1, o2, o3, o4])\n",
    "\n",
    "model.compile(loss='mae', optimizer='adam')"
   ]
  },
  {
   "cell_type": "code",
   "execution_count": 41,
   "metadata": {},
   "outputs": [],
   "source": [
    "es = keras.callbacks.EarlyStopping(patience=5, restore_best_weights=True, monitor='loss')"
   ]
  },
  {
   "cell_type": "code",
   "execution_count": 42,
   "metadata": {
    "scrolled": true
   },
   "outputs": [
    {
     "name": "stdout",
     "output_type": "stream",
     "text": [
      "Train on 8500 samples, validate on 1500 samples\n",
      "Epoch 1/30\n",
      "8500/8500 [==============================] - 4s 436us/step - loss: 44790.7031 - dense_15_loss: 17041.1641 - dense_16_loss: 7252.8516 - dense_17_loss: 11617.4102 - dense_18_loss: 8818.5625 - val_loss: 18687.9251 - val_dense_15_loss: 8727.7402 - val_dense_16_loss: 1901.6002 - val_dense_17_loss: 4315.0200 - val_dense_18_loss: 3777.2629\n",
      "Epoch 2/30\n",
      "8500/8500 [==============================] - 3s 359us/step - loss: 18664.3073 - dense_15_loss: 4872.2095 - dense_16_loss: 5588.1392 - dense_17_loss: 4190.8989 - dense_18_loss: 4023.3689 - val_loss: 28167.6557 - val_dense_15_loss: 2400.8342 - val_dense_16_loss: 10259.7256 - val_dense_17_loss: 11702.1885 - val_dense_18_loss: 3847.3989\n",
      "Epoch 3/30\n",
      "8500/8500 [==============================] - 3s 351us/step - loss: 20161.5848 - dense_15_loss: 4489.6807 - dense_16_loss: 3679.6021 - dense_17_loss: 5997.1416 - dense_18_loss: 5975.2437 - val_loss: 22008.9028 - val_dense_15_loss: 4371.4502 - val_dense_16_loss: 1425.3203 - val_dense_17_loss: 5734.6338 - val_dense_18_loss: 10550.7344\n",
      "Epoch 4/30\n",
      "8500/8500 [==============================] - 3s 360us/step - loss: 28949.3904 - dense_15_loss: 8892.6465 - dense_16_loss: 8431.1777 - dense_17_loss: 5879.5000 - dense_18_loss: 5708.1001 - val_loss: 13525.1973 - val_dense_15_loss: 2765.5249 - val_dense_16_loss: 4367.2017 - val_dense_17_loss: 3878.7666 - val_dense_18_loss: 2537.5532\n",
      "Epoch 5/30\n",
      "8500/8500 [==============================] - 3s 376us/step - loss: 15286.5811 - dense_15_loss: 3401.2219 - dense_16_loss: 3490.2363 - dense_17_loss: 4067.8821 - dense_18_loss: 4307.2979 - val_loss: 17245.2621 - val_dense_15_loss: 9156.6338 - val_dense_16_loss: 2728.9087 - val_dense_17_loss: 1070.9723 - val_dense_18_loss: 4329.6685\n",
      "Epoch 6/30\n",
      "8500/8500 [==============================] - 3s 358us/step - loss: 14044.6945 - dense_15_loss: 5028.7939 - dense_16_loss: 3010.2986 - dense_17_loss: 3396.1062 - dense_18_loss: 2595.5261 - val_loss: 44914.5475 - val_dense_15_loss: 12275.7979 - val_dense_16_loss: 4079.6028 - val_dense_17_loss: 14662.8496 - val_dense_18_loss: 14059.6797\n",
      "Epoch 7/30\n",
      "8500/8500 [==============================] - 3s 365us/step - loss: 25640.9582 - dense_15_loss: 6716.2749 - dense_16_loss: 6481.1470 - dense_17_loss: 7058.4751 - dense_18_loss: 5371.8057 - val_loss: 11399.7271 - val_dense_15_loss: 7080.5000 - val_dense_16_loss: 2584.2512 - val_dense_17_loss: 985.8510 - val_dense_18_loss: 783.5777\n",
      "Epoch 8/30\n",
      "8500/8500 [==============================] - 3s 359us/step - loss: 18142.2063 - dense_15_loss: 8658.1201 - dense_16_loss: 1684.7893 - dense_17_loss: 5690.2559 - dense_18_loss: 2083.4634 - val_loss: 30.6638 - val_dense_15_loss: 12.1478 - val_dense_16_loss: 7.8488 - val_dense_17_loss: 3.8730 - val_dense_18_loss: 6.7162\n",
      "Epoch 9/30\n",
      "8500/8500 [==============================] - 3s 350us/step - loss: 3.1887 - dense_15_loss: 1.1520 - dense_16_loss: 0.8296 - dense_17_loss: 0.5856 - dense_18_loss: 0.6182 - val_loss: 15.2664 - val_dense_15_loss: 6.1005 - val_dense_16_loss: 3.4306 - val_dense_17_loss: 2.2535 - val_dense_18_loss: 3.4429\n",
      "Epoch 10/30\n",
      "8500/8500 [==============================] - 3s 357us/step - loss: 1.2383 - dense_15_loss: 0.4218 - dense_16_loss: 0.2248 - dense_17_loss: 0.3317 - dense_18_loss: 0.2594 - val_loss: 9.7377 - val_dense_15_loss: 3.7541 - val_dense_16_loss: 2.0671 - val_dense_17_loss: 1.6719 - val_dense_18_loss: 2.2203\n",
      "Epoch 11/30\n",
      "8500/8500 [==============================] - 3s 372us/step - loss: 0.9850 - dense_15_loss: 0.3266 - dense_16_loss: 0.1634 - dense_17_loss: 0.2793 - dense_18_loss: 0.2153 - val_loss: 7.3586 - val_dense_15_loss: 2.9514 - val_dense_16_loss: 1.6696 - val_dense_17_loss: 1.0535 - val_dense_18_loss: 1.6660\n",
      "Epoch 12/30\n",
      "8500/8500 [==============================] - 3s 353us/step - loss: 0.8528 - dense_15_loss: 0.2824 - dense_16_loss: 0.1245 - dense_17_loss: 0.2542 - dense_18_loss: 0.1914 - val_loss: 4.7274 - val_dense_15_loss: 2.0078 - val_dense_16_loss: 1.1833 - val_dense_17_loss: 0.4741 - val_dense_18_loss: 1.0512\n",
      "Epoch 13/30\n",
      "8500/8500 [==============================] - 3s 360us/step - loss: 0.7943 - dense_15_loss: 0.2558 - dense_16_loss: 0.1127 - dense_17_loss: 0.2513 - dense_18_loss: 0.1742 - val_loss: 3.5963 - val_dense_15_loss: 1.5040 - val_dense_16_loss: 0.8756 - val_dense_17_loss: 0.4051 - val_dense_18_loss: 0.8037\n",
      "Epoch 14/30\n",
      "8500/8500 [==============================] - 3s 358us/step - loss: 0.7621 - dense_15_loss: 0.2455 - dense_16_loss: 0.1005 - dense_17_loss: 0.2470 - dense_18_loss: 0.1690 - val_loss: 2.1603 - val_dense_15_loss: 0.8627 - val_dense_16_loss: 0.4863 - val_dense_17_loss: 0.3198 - val_dense_18_loss: 0.4872\n",
      "Epoch 15/30\n",
      "8500/8500 [==============================] - 3s 348us/step - loss: 0.7309 - dense_15_loss: 0.2322 - dense_16_loss: 0.0924 - dense_17_loss: 0.2419 - dense_18_loss: 0.1644 - val_loss: 0.7258 - val_dense_15_loss: 0.2210 - val_dense_16_loss: 0.0994 - val_dense_17_loss: 0.2367 - val_dense_18_loss: 0.1683\n",
      "Epoch 16/30\n",
      "8500/8500 [==============================] - 3s 363us/step - loss: 0.7206 - dense_15_loss: 0.2154 - dense_16_loss: 0.1023 - dense_17_loss: 0.2439 - dense_18_loss: 0.1590 - val_loss: 0.6997 - val_dense_15_loss: 0.2102 - val_dense_16_loss: 0.0925 - val_dense_17_loss: 0.2341 - val_dense_18_loss: 0.1626\n",
      "Epoch 17/30\n",
      "8500/8500 [==============================] - 3s 375us/step - loss: 0.6886 - dense_15_loss: 0.2114 - dense_16_loss: 0.0871 - dense_17_loss: 0.2363 - dense_18_loss: 0.1537 - val_loss: 0.6775 - val_dense_15_loss: 0.2004 - val_dense_16_loss: 0.0861 - val_dense_17_loss: 0.2329 - val_dense_18_loss: 0.1578\n",
      "Epoch 18/30\n",
      "8500/8500 [==============================] - 3s 368us/step - loss: 0.6732 - dense_15_loss: 0.2049 - dense_16_loss: 0.0824 - dense_17_loss: 0.2341 - dense_18_loss: 0.1518 - val_loss: 0.6777 - val_dense_15_loss: 0.2017 - val_dense_16_loss: 0.0855 - val_dense_17_loss: 0.2327 - val_dense_18_loss: 0.1576\n",
      "Epoch 19/30\n",
      "8500/8500 [==============================] - 3s 346us/step - loss: 0.6706 - dense_15_loss: 0.2037 - dense_16_loss: 0.0815 - dense_17_loss: 0.2333 - dense_18_loss: 0.1520 - val_loss: 0.6759 - val_dense_15_loss: 0.2008 - val_dense_16_loss: 0.0847 - val_dense_17_loss: 0.2339 - val_dense_18_loss: 0.1563\n",
      "Epoch 20/30\n",
      "8500/8500 [==============================] - 3s 362us/step - loss: 0.6679 - dense_15_loss: 0.2033 - dense_16_loss: 0.0809 - dense_17_loss: 0.2327 - dense_18_loss: 0.1510 - val_loss: 0.6736 - val_dense_15_loss: 0.2010 - val_dense_16_loss: 0.0851 - val_dense_17_loss: 0.2320 - val_dense_18_loss: 0.1552\n",
      "Epoch 21/30\n",
      "8500/8500 [==============================] - 3s 365us/step - loss: 0.6649 - dense_15_loss: 0.2021 - dense_16_loss: 0.0804 - dense_17_loss: 0.2321 - dense_18_loss: 0.1504 - val_loss: 0.6724 - val_dense_15_loss: 0.1998 - val_dense_16_loss: 0.0854 - val_dense_17_loss: 0.2320 - val_dense_18_loss: 0.1549\n",
      "Epoch 22/30\n",
      "8500/8500 [==============================] - 3s 355us/step - loss: 0.6638 - dense_15_loss: 0.2019 - dense_16_loss: 0.0803 - dense_17_loss: 0.2318 - dense_18_loss: 0.1499 - val_loss: 0.6824 - val_dense_15_loss: 0.2001 - val_dense_16_loss: 0.0889 - val_dense_17_loss: 0.2338 - val_dense_18_loss: 0.1592\n",
      "Epoch 23/30\n",
      "8500/8500 [==============================] - 3s 371us/step - loss: 0.6614 - dense_15_loss: 0.2008 - dense_16_loss: 0.0802 - dense_17_loss: 0.2313 - dense_18_loss: 0.1492 - val_loss: 0.6733 - val_dense_15_loss: 0.2002 - val_dense_16_loss: 0.0841 - val_dense_17_loss: 0.2319 - val_dense_18_loss: 0.1569\n",
      "Epoch 24/30\n",
      "8500/8500 [==============================] - 3s 361us/step - loss: 0.6613 - dense_15_loss: 0.2011 - dense_16_loss: 0.0799 - dense_17_loss: 0.2306 - dense_18_loss: 0.1495 - val_loss: 0.6840 - val_dense_15_loss: 0.2107 - val_dense_16_loss: 0.0856 - val_dense_17_loss: 0.2314 - val_dense_18_loss: 0.1561\n",
      "Epoch 25/30\n",
      "8500/8500 [==============================] - 3s 373us/step - loss: 0.6589 - dense_15_loss: 0.2001 - dense_16_loss: 0.0799 - dense_17_loss: 0.2301 - dense_18_loss: 0.1487 - val_loss: 0.6682 - val_dense_15_loss: 0.2003 - val_dense_16_loss: 0.0829 - val_dense_17_loss: 0.2305 - val_dense_18_loss: 0.1542\n",
      "Epoch 26/30\n"
     ]
    },
    {
     "name": "stdout",
     "output_type": "stream",
     "text": [
      "8500/8500 [==============================] - 3s 364us/step - loss: 0.6571 - dense_15_loss: 0.1996 - dense_16_loss: 0.0795 - dense_17_loss: 0.2297 - dense_18_loss: 0.1483 - val_loss: 0.6883 - val_dense_15_loss: 0.2166 - val_dense_16_loss: 0.0839 - val_dense_17_loss: 0.2311 - val_dense_18_loss: 0.1565\n",
      "Epoch 27/30\n",
      "8500/8500 [==============================] - 3s 362us/step - loss: 0.6573 - dense_15_loss: 0.1995 - dense_16_loss: 0.0796 - dense_17_loss: 0.2297 - dense_18_loss: 0.1483 - val_loss: 0.6726 - val_dense_15_loss: 0.2027 - val_dense_16_loss: 0.0854 - val_dense_17_loss: 0.2313 - val_dense_18_loss: 0.1528\n",
      "Epoch 28/30\n",
      "8500/8500 [==============================] - 3s 361us/step - loss: 0.6542 - dense_15_loss: 0.1985 - dense_16_loss: 0.0791 - dense_17_loss: 0.2291 - dense_18_loss: 0.1475 - val_loss: 0.6668 - val_dense_15_loss: 0.2004 - val_dense_16_loss: 0.0833 - val_dense_17_loss: 0.2306 - val_dense_18_loss: 0.1522\n",
      "Epoch 29/30\n",
      "8500/8500 [==============================] - 3s 370us/step - loss: 0.6542 - dense_15_loss: 0.1979 - dense_16_loss: 0.0795 - dense_17_loss: 0.2290 - dense_18_loss: 0.1477 - val_loss: 0.6694 - val_dense_15_loss: 0.2000 - val_dense_16_loss: 0.0842 - val_dense_17_loss: 0.2325 - val_dense_18_loss: 0.1523\n",
      "Epoch 30/30\n",
      "8500/8500 [==============================] - 3s 364us/step - loss: 0.6522 - dense_15_loss: 0.1971 - dense_16_loss: 0.0792 - dense_17_loss: 0.2287 - dense_18_loss: 0.1472 - val_loss: 0.6675 - val_dense_15_loss: 0.2002 - val_dense_16_loss: 0.0834 - val_dense_17_loss: 0.2308 - val_dense_18_loss: 0.1529\n"
     ]
    },
    {
     "data": {
      "text/plain": [
       "<keras.callbacks.callbacks.History at 0x2343fbb95c8>"
      ]
     },
     "execution_count": 42,
     "metadata": {},
     "output_type": "execute_result"
    }
   ],
   "source": [
    "model.fit(tr_X.values, [tr_y1, tr_y2, tr_y3, tr_y4], epochs=30,\n",
    "         validation_data=[val_X, [val_y1, val_y2, val_y3, val_y4]],\n",
    "         callbacks=[es],\n",
    "         shuffle=True)"
   ]
  },
  {
   "cell_type": "code",
   "execution_count": 47,
   "metadata": {},
   "outputs": [
    {
     "data": {
      "text/plain": [
       "array([[ 7.4120693,  3.8904574,  8.930443 ,  3.0144837],\n",
       "       [ 7.4120693,  3.8904574,  8.930443 ,  3.0144837],\n",
       "       [10.505135 ,  4.1662683,  9.2843075,  4.244293 ],\n",
       "       ...,\n",
       "       [ 7.4148283,  3.907423 ,  8.936107 ,  3.0191936],\n",
       "       [ 7.4120693,  3.8904574,  8.930443 ,  3.0144837],\n",
       "       [ 7.4120693,  3.8904574,  8.930443 ,  3.0144837]], dtype=float32)"
      ]
     },
     "execution_count": 47,
     "metadata": {},
     "output_type": "execute_result"
    }
   ],
   "source": [
    "pred = model.predict(te)\n",
    "pred\n",
    "np.hstack([pred[0], pred[1], pred[2], pred[3]])*10"
   ]
  },
  {
   "cell_type": "code",
   "execution_count": null,
   "metadata": {},
   "outputs": [],
   "source": [
    "# sub[target_cols] = pred\n",
    "# sub.to_csv('test.csv')"
   ]
  }
 ],
 "metadata": {
  "kernelspec": {
   "display_name": "Python 3",
   "language": "python",
   "name": "python3"
  },
  "language_info": {
   "codemirror_mode": {
    "name": "ipython",
    "version": 3
   },
   "file_extension": ".py",
   "mimetype": "text/x-python",
   "name": "python",
   "nbconvert_exporter": "python",
   "pygments_lexer": "ipython3",
   "version": "3.7.7"
  },
  "toc": {
   "base_numbering": 1,
   "nav_menu": {},
   "number_sections": true,
   "sideBar": true,
   "skip_h1_title": false,
   "title_cell": "Table of Contents",
   "title_sidebar": "Contents",
   "toc_cell": false,
   "toc_position": {},
   "toc_section_display": true,
   "toc_window_display": false
  }
 },
 "nbformat": 4,
 "nbformat_minor": 4
}
