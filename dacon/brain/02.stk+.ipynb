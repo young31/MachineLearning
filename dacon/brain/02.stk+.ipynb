{
 "cells": [
  {
   "cell_type": "code",
   "execution_count": 1,
   "metadata": {},
   "outputs": [],
   "source": [
    "import pandas as pd\n",
    "import numpy as np\n",
    "\n",
    "from tqdm import tqdm\n",
    "from time import time\n",
    "import warnings\n",
    "from sklearn.model_selection import train_test_split, cross_val_score\n",
    "from sklearn.metrics import roc_auc_score\n",
    "from sklearn.multioutput import MultiOutputRegressor\n",
    "\n",
    "import seaborn as sns\n",
    "import matplotlib.pyplot as plt\n",
    "\n",
    "SEED = 42\n",
    "np.random.seed(SEED)\n",
    "warnings.filterwarnings('ignore')"
   ]
  },
  {
   "cell_type": "code",
   "execution_count": 2,
   "metadata": {},
   "outputs": [],
   "source": [
    "from sklearn.ensemble import RandomForestRegressor\n",
    "from sklearn.linear_model import Lasso\n",
    "from sklearn.model_selection import cross_val_score\n",
    "from sklearn.metrics import mean_squared_error, mean_absolute_error\n",
    "from sklearn.decomposition import PCA\n",
    "\n",
    "import lightgbm as lgb\n",
    "import xgboost as xgb\n",
    "import catboost as cat\n",
    "\n",
    "from pystacknet.pystacknet import StackNetRegressor\n",
    "from bayes_opt import BayesianOptimization"
   ]
  },
  {
   "cell_type": "code",
   "execution_count": 3,
   "metadata": {},
   "outputs": [],
   "source": [
    "sub = pd.read_csv('./data/sample_submission.csv', index_col='id')"
   ]
  },
  {
   "cell_type": "code",
   "execution_count": 21,
   "metadata": {
    "scrolled": true
   },
   "outputs": [],
   "source": [
    "tr = pd.read_csv('./data/train.csv', index_col='id')\n",
    "te = pd.read_csv('./data/test.csv', index_col='id')\n",
    "\n",
    "target_cols = ['hhb', 'hbo2', 'ca', 'na']\n",
    "target = tr[target_cols].copy()\n",
    "tr = tr.drop(target_cols, axis=1)"
   ]
  },
  {
   "cell_type": "code",
   "execution_count": 22,
   "metadata": {},
   "outputs": [],
   "source": [
    "src = tr.columns[tr.columns.str.contains('src')]\n",
    "dst = tr.columns[tr.columns.str.contains('dst')]\n"
   ]
  },
  {
   "cell_type": "code",
   "execution_count": 23,
   "metadata": {
    "scrolled": true
   },
   "outputs": [],
   "source": [
    "train_dst = tr[dst].replace(0, np.NaN) # dst 데이터만 따로 뺀다.\n",
    "test_dst = te[dst].replace(0, np.NaN) # 보간을 하기위해 결측값을 삭제한다.\n",
    "\n",
    "train_dst = train_dst.interpolate(methods='linear', axis=1)\n",
    "test_dst = test_dst.interpolate(methods='linear', axis=1)\n",
    "\n",
    "tr.update(train_dst) # 보간한 데이터를 기존 데이터프레임에 업데이트 한다.\n",
    "te.update(test_dst)"
   ]
  },
  {
   "cell_type": "code",
   "execution_count": 24,
   "metadata": {
    "scrolled": true
   },
   "outputs": [],
   "source": [
    "alpha = tr[dst]\n",
    "beta = te[dst]\n",
    "\n",
    "alpha.loc[alpha['790_dst'].isnull(),'790_dst']=alpha.loc[alpha['790_dst'].isnull(),'800_dst']\n",
    "alpha.loc[alpha['780_dst'].isnull(),'780_dst']=alpha.loc[alpha['780_dst'].isnull(),'790_dst']\n",
    "alpha.loc[alpha['770_dst'].isnull(),'770_dst']=alpha.loc[alpha['770_dst'].isnull(),'780_dst']\n",
    "alpha.loc[alpha['760_dst'].isnull(),'760_dst']=alpha.loc[alpha['760_dst'].isnull(),'770_dst']\n",
    "alpha.loc[alpha['750_dst'].isnull(),'750_dst']=alpha.loc[alpha['750_dst'].isnull(),'760_dst']\n",
    "alpha.loc[alpha['740_dst'].isnull(),'740_dst']=alpha.loc[alpha['740_dst'].isnull(),'750_dst']\n",
    "alpha.loc[alpha['730_dst'].isnull(),'730_dst']=alpha.loc[alpha['730_dst'].isnull(),'740_dst']\n",
    "alpha.loc[alpha['720_dst'].isnull(),'720_dst']=alpha.loc[alpha['720_dst'].isnull(),'730_dst']\n",
    "alpha.loc[alpha['710_dst'].isnull(),'710_dst']=alpha.loc[alpha['710_dst'].isnull(),'720_dst']\n",
    "alpha.loc[alpha['700_dst'].isnull(),'700_dst']=alpha.loc[alpha['700_dst'].isnull(),'710_dst']\n",
    "alpha.loc[alpha['690_dst'].isnull(),'690_dst']=alpha.loc[alpha['690_dst'].isnull(),'700_dst']\n",
    "alpha.loc[alpha['680_dst'].isnull(),'680_dst']=alpha.loc[alpha['680_dst'].isnull(),'690_dst']\n",
    "alpha.loc[alpha['670_dst'].isnull(),'670_dst']=alpha.loc[alpha['670_dst'].isnull(),'680_dst']\n",
    "alpha.loc[alpha['660_dst'].isnull(),'660_dst']=alpha.loc[alpha['660_dst'].isnull(),'670_dst']\n",
    "alpha.loc[alpha['650_dst'].isnull(),'650_dst']=alpha.loc[alpha['650_dst'].isnull(),'660_dst']\n",
    "\n",
    "beta.loc[beta['790_dst'].isnull(),'790_dst']=beta.loc[beta['790_dst'].isnull(),'800_dst']\n",
    "beta.loc[beta['780_dst'].isnull(),'780_dst']=beta.loc[beta['780_dst'].isnull(),'790_dst']\n",
    "beta.loc[beta['770_dst'].isnull(),'770_dst']=beta.loc[beta['770_dst'].isnull(),'780_dst']\n",
    "beta.loc[beta['760_dst'].isnull(),'760_dst']=beta.loc[beta['760_dst'].isnull(),'770_dst']\n",
    "beta.loc[beta['750_dst'].isnull(),'750_dst']=beta.loc[beta['750_dst'].isnull(),'760_dst']\n",
    "beta.loc[beta['740_dst'].isnull(),'740_dst']=beta.loc[beta['740_dst'].isnull(),'750_dst']\n",
    "beta.loc[beta['730_dst'].isnull(),'730_dst']=beta.loc[beta['730_dst'].isnull(),'740_dst']\n",
    "beta.loc[beta['720_dst'].isnull(),'720_dst']=beta.loc[beta['720_dst'].isnull(),'730_dst']\n",
    "beta.loc[beta['710_dst'].isnull(),'710_dst']=beta.loc[beta['710_dst'].isnull(),'720_dst']\n",
    "beta.loc[beta['700_dst'].isnull(),'700_dst']=beta.loc[beta['700_dst'].isnull(),'710_dst']\n",
    "beta.loc[beta['690_dst'].isnull(),'690_dst']=beta.loc[beta['690_dst'].isnull(),'700_dst']\n",
    "beta.loc[beta['680_dst'].isnull(),'680_dst']=beta.loc[beta['680_dst'].isnull(),'690_dst']\n",
    "beta.loc[beta['670_dst'].isnull(),'670_dst']=beta.loc[beta['670_dst'].isnull(),'680_dst']\n",
    "beta.loc[beta['660_dst'].isnull(),'660_dst']=beta.loc[beta['660_dst'].isnull(),'670_dst']\n",
    "beta.loc[beta['650_dst'].isnull(),'650_dst']=beta.loc[beta['650_dst'].isnull(),'660_dst']\n",
    "\n",
    "tr[dst] = alpha\n",
    "te[dst] = beta"
   ]
  },
  {
   "cell_type": "code",
   "execution_count": null,
   "metadata": {},
   "outputs": [],
   "source": [
    "for col in dst:\n",
    "    tr[col+'_sq'] = tr[col] * (tr['rho'] ** 2)\n",
    "    te[col+'_sq'] = te[col] * (te['rho']** 2)\n",
    "    tr[col+'_sq2'] = tr[col] * (np.exp(tr['rho'] ))\n",
    "    te[col+'_sq2'] = te[col] * (np.exp(te['rho'] ))"
   ]
  },
  {
   "cell_type": "code",
   "execution_count": 31,
   "metadata": {},
   "outputs": [],
   "source": [
    "tr=pd.concat((tr, alpha), axis=1)\n",
    "te=pd.concat((te, beta), axis=1)"
   ]
  },
  {
   "cell_type": "code",
   "execution_count": 32,
   "metadata": {},
   "outputs": [],
   "source": [
    "div = tr[src].values / (tr[dst].values + 1e-10)\n",
    "df_div = pd.DataFrame(div, columns=[f'{i}_div' for i in range(650, 1000, 10)])\n",
    "\n",
    "div_ = df_div.columns[df_div.columns.str.contains('div')]\n",
    "for c in div_:\n",
    "    res = df_div[c].values / np.exp(tr.rho)\n",
    "    df_div[c] = res\n",
    "    \n",
    "tr = pd.concat([tr, df_div], axis=1)\n",
    "\n",
    "div = te[src].values / (te[dst].values + 1e-10)\n",
    "df_div = pd.DataFrame(div, columns=[f'{i}_div' for i in range(650, 1000, 10)], index=te.index)\n",
    "\n",
    "div_ = df_div.columns[df_div.columns.str.contains('div')]\n",
    "for c in div_:\n",
    "    res = df_div[c].values / np.exp(te.rho.values)\n",
    "    df_div[c] = res\n",
    "    \n",
    "te = pd.concat([te, df_div], axis=1)\n",
    "\n",
    "div = tr.columns[tr.columns.str.contains('div')]"
   ]
  },
  {
   "cell_type": "code",
   "execution_count": 33,
   "metadata": {},
   "outputs": [],
   "source": [
    "for c in dst:\n",
    "    new = c.replace('dst', 'dst_mul')\n",
    "    tr[new] = tr[c].values * 10**tr.rho\n",
    "\n",
    "for c in dst:\n",
    "    new = c.replace('dst', 'dst_mul')\n",
    "    te[new] = te[c].values * 10**te.rho\n",
    "    \n",
    "mul = tr.columns[tr.columns.str.contains('dst_mul')]"
   ]
  },
  {
   "cell_type": "code",
   "execution_count": 34,
   "metadata": {},
   "outputs": [],
   "source": [
    "dst_mul_log = list(map(lambda x: x.replace('dst_mul', 'dst_mul_log'), mul))\n",
    "\n",
    "tr_mul_log = pd.DataFrame(np.log(tr[mul].values +1e-10), columns=dst_mul_log)\n",
    "tr = pd.concat([tr, tr_mul_log], axis=1)\n",
    "\n",
    "te_mul_log = pd.DataFrame(np.log(te[mul].values +1e-10), columns=dst_mul_log, index=te.index)\n",
    "te = pd.concat([te, te_mul_log], axis=1)\n"
   ]
  },
  {
   "cell_type": "code",
   "execution_count": 35,
   "metadata": {},
   "outputs": [],
   "source": [
    "# src_exp = list(map(lambda x: x.replace('src', 'src_exp'), src))\n",
    "\n",
    "# tr_src_exp = pd.DataFrame(np.exp(tr[src].values), columns=src_exp)\n",
    "# tr = pd.concat([tr, tr_src_exp], axis=1)\n",
    "\n",
    "# te_src_exp = pd.DataFrame(np.exp(te[src].values), columns=src_exp, index=te.index)\n",
    "# te = pd.concat([te, te_src_exp], axis=1)\n"
   ]
  },
  {
   "cell_type": "code",
   "execution_count": 36,
   "metadata": {},
   "outputs": [],
   "source": [
    "dst_exp = list(map(lambda x: x.replace('dst', 'dst_exp'), dst))\n",
    "\n",
    "tr_dst_exp = pd.DataFrame(np.exp(tr[src].values), columns=dst_exp)\n",
    "tr = pd.concat([tr, tr_dst_exp], axis=1)\n",
    "\n",
    "te_dst_exp = pd.DataFrame(np.exp(te[src].values), columns=dst_exp, index=te.index)\n",
    "te = pd.concat([te, te_dst_exp], axis=1)\n"
   ]
  },
  {
   "cell_type": "code",
   "execution_count": 37,
   "metadata": {
    "scrolled": true
   },
   "outputs": [],
   "source": [
    "# div_exp = list(map(lambda x: x.replace('src', 'div_exp'), src))\n",
    "\n",
    "# divexp = pd.DataFrame(tr[src_exp].values / tr[dst_exp].values, columns=div_exp)\n",
    "# tr = pd.concat([tr, divexp], axis=1)\n",
    "\n",
    "# divexp = pd.DataFrame(te[src_exp].values / te[dst_exp].values, columns=div_exp, index=te.index)\n",
    "# te = pd.concat([te, divexp], axis=1)"
   ]
  },
  {
   "cell_type": "code",
   "execution_count": null,
   "metadata": {},
   "outputs": [],
   "source": [
    "alpha_real=tr[dst]\n",
    "alpha_imag=tr[dst]\n",
    "\n",
    "beta_real=te[dst]\n",
    "beta_imag=te[dst]\n",
    "\n",
    "for i in tqdm(alpha_real.index):\n",
    "    alpha_real.loc[i]=alpha_real.loc[i] - alpha_real.loc[i].mean()\n",
    "    alpha_imag.loc[i]=alpha_imag.loc[i] - alpha_real.loc[i].mean()\n",
    "    \n",
    "    alpha_real.loc[i] = np.fft.fft(alpha_real.loc[i], norm='ortho').real\n",
    "    alpha_imag.loc[i] = np.fft.fft(alpha_imag.loc[i], norm='ortho').imag\n",
    "\n",
    "    \n",
    "for i in tqdm(beta_real.index):\n",
    "    beta_real.loc[i]=beta_real.loc[i] - beta_real.loc[i].mean()\n",
    "    beta_imag.loc[i]=beta_imag.loc[i] - beta_imag.loc[i].mean()\n",
    "    \n",
    "    beta_real.loc[i] = np.fft.fft(beta_real.loc[i], norm='ortho').real\n",
    "    beta_imag.loc[i] = np.fft.fft(beta_imag.loc[i], norm='ortho').imag\n",
    "    \n",
    "real_part=[]\n",
    "imag_part=[]\n",
    "\n",
    "for col in dst:\n",
    "    real_part.append(col + '_fft_real')\n",
    "    imag_part.append(col + '_fft_imag')\n",
    "    \n",
    "alpha_real.columns=real_part\n",
    "alpha_imag.columns=imag_part\n",
    "alpha = pd.concat((alpha_real, alpha_imag), axis=1)\n",
    "\n",
    "beta_real.columns=real_part\n",
    "beta_imag.columns=imag_part\n",
    "beta=pd.concat((beta_real, beta_imag), axis=1)"
   ]
  },
  {
   "cell_type": "code",
   "execution_count": null,
   "metadata": {},
   "outputs": [],
   "source": []
  },
  {
   "cell_type": "code",
   "execution_count": null,
   "metadata": {},
   "outputs": [],
   "source": []
  },
  {
   "cell_type": "code",
   "execution_count": null,
   "metadata": {},
   "outputs": [],
   "source": []
  },
  {
   "cell_type": "code",
   "execution_count": null,
   "metadata": {},
   "outputs": [],
   "source": []
  },
  {
   "cell_type": "code",
   "execution_count": null,
   "metadata": {},
   "outputs": [],
   "source": []
  },
  {
   "cell_type": "code",
   "execution_count": null,
   "metadata": {},
   "outputs": [],
   "source": []
  },
  {
   "cell_type": "code",
   "execution_count": null,
   "metadata": {},
   "outputs": [],
   "source": []
  },
  {
   "cell_type": "code",
   "execution_count": 17,
   "metadata": {},
   "outputs": [],
   "source": [
    "# sqrt = list(map(lambda x: x.replace('mul', 'sqrt'), mul))\n",
    "\n",
    "# tr_sqrt = pd.DataFrame(np.sqrt(tr[mul].values), columns=sqrt)\n",
    "# tr = pd.concat([tr, tr_sqrt], axis=1)\n",
    "\n",
    "# te_sqrt = pd.DataFrame(np.sqrt(te[mul].values), columns=sqrt, index=te.index)\n",
    "# te = pd.concat([te, te_sqrt], axis=1)\n"
   ]
  },
  {
   "cell_type": "code",
   "execution_count": 38,
   "metadata": {},
   "outputs": [
    {
     "data": {
      "text/plain": [
       "0"
      ]
     },
     "execution_count": 38,
     "metadata": {},
     "output_type": "execute_result"
    }
   ],
   "source": [
    "np.sum(np.sum(te.isna()))"
   ]
  },
  {
   "cell_type": "code",
   "execution_count": 39,
   "metadata": {},
   "outputs": [],
   "source": [
    "tr = tr.drop(src, axis=1)\n",
    "te = te.drop(src, axis=1)"
   ]
  },
  {
   "cell_type": "code",
   "execution_count": 40,
   "metadata": {},
   "outputs": [],
   "source": [
    "bounds_LGB = {\n",
    "    'num_leaves': (100, 800), \n",
    "    'min_data_in_leaf': (0, 150),\n",
    "    'bagging_fraction' : (0.3, 0.9),\n",
    "    'feature_fraction' : (0.3, 0.9),\n",
    "#     'learning_rate': (0.01, 1),\n",
    "    'min_child_weight': (0.01, 3),   \n",
    "    'reg_alpha': (0.1, 3), \n",
    "    'reg_lambda': (0.1, 3),\n",
    "    'max_depth':(6, 29),\n",
    "    'n_estimators': (64, 512)\n",
    "}\n",
    "\n",
    "def build_lgb(x, y, init_points=15, n_iter=0, cv=2, param=True, verbose=2):\n",
    "    print(f'training using cv={cv}')\n",
    "    def LGB_bayesian(\n",
    "        #learning_rate,\n",
    "        num_leaves, \n",
    "        bagging_fraction,\n",
    "        feature_fraction,\n",
    "        min_child_weight, \n",
    "        min_data_in_leaf,\n",
    "        max_depth,\n",
    "        reg_alpha,\n",
    "        reg_lambda,\n",
    "        n_estimators\n",
    "         ):\n",
    "        # LightGBM expects next three parameters need to be integer. \n",
    "        num_leaves = int(num_leaves)\n",
    "        min_data_in_leaf = int(min_data_in_leaf)\n",
    "        max_depth = int(max_depth)\n",
    "\n",
    "        assert type(num_leaves) == int\n",
    "        assert type(min_data_in_leaf) == int\n",
    "        assert type(max_depth) == int\n",
    "\n",
    "\n",
    "        params = {\n",
    "                  'num_leaves': num_leaves, \n",
    "                  'min_data_in_leaf': min_data_in_leaf,\n",
    "                  'min_child_weight': min_child_weight,\n",
    "                  'bagging_fraction' : bagging_fraction,\n",
    "                  'feature_fraction' : feature_fraction,\n",
    "                  'learning_rate' : 0.05,\n",
    "                  'max_depth': max_depth,\n",
    "                  'reg_alpha': reg_alpha,\n",
    "                  'reg_lambda': reg_lambda,\n",
    "                  'objective': 'regression',\n",
    "                  'save_binary': True,\n",
    "                  'seed': SEED,\n",
    "                  'feature_fraction_seed': SEED,\n",
    "                  'bagging_seed': SEED,\n",
    "                  'drop_seed': SEED,\n",
    "                  'data_random_seed': SEED,\n",
    "                  'boosting': 'gbdt', ## some get better result using 'dart'\n",
    "                  'verbose': 1,\n",
    "                  'boost_from_average': True,\n",
    "                  'metric':'mae',\n",
    "                  'n_estimators': int(n_estimators),\n",
    "                  'n_jobs': -1,\n",
    "#                   'tree_learner ': 'voting'\n",
    "        }    \n",
    "\n",
    "        ## set reg options\n",
    "        reg = lgb.LGBMRegressor(**params)\n",
    "        m_reg = MultiOutputRegressor(reg)\n",
    "        score = cross_val_score(m_reg, x, y, cv=cv, scoring='neg_mean_absolute_error').mean()\n",
    "\n",
    "        return score\n",
    "    \n",
    "    optimizer = BayesianOptimization(LGB_bayesian, bounds_LGB, random_state=SEED, verbose=verbose)\n",
    "    init_points = init_points\n",
    "    n_iter = n_iter\n",
    "\n",
    "    optimizer.maximize(init_points=init_points, n_iter=n_iter)\n",
    "    \n",
    "    param_lgb = {\n",
    "        'min_data_in_leaf': int(optimizer.max['params']['min_data_in_leaf']), \n",
    "        'num_leaves': int(optimizer.max['params']['num_leaves']), \n",
    "        'learning_rate': 0.05,\n",
    "        'min_child_weight': optimizer.max['params']['min_child_weight'],\n",
    "        'bagging_fraction': optimizer.max['params']['bagging_fraction'], \n",
    "        'feature_fraction': optimizer.max['params']['feature_fraction'],\n",
    "        'reg_lambda': optimizer.max['params']['reg_lambda'],\n",
    "        'reg_alpha': optimizer.max['params']['reg_alpha'],\n",
    "        'max_depth': int(optimizer.max['params']['max_depth']), \n",
    "        'objective': 'regression',\n",
    "        'save_binary': True,\n",
    "        'seed': SEED,\n",
    "        'feature_fraction_seed': SEED,\n",
    "        'bagging_seed': SEED,\n",
    "        'drop_seed': SEED,\n",
    "        'data_random_seed': SEED,\n",
    "        'boosting_type': 'gbdt',  # also consider 'dart'\n",
    "        'verbose': 1,\n",
    "        'boost_from_average': True,\n",
    "        'metric':'mae',\n",
    "        'n_estimators': int(optimizer.max['params']['n_estimators']),\n",
    "        'n_jobs': -1,\n",
    "#         'tree_learner ': 'voting'\n",
    "    }\n",
    "\n",
    "    params = param_lgb.copy()\n",
    "    \n",
    "    reg = lgb.LGBMRegressor(**params)\n",
    "    lgb_reg = MultiOutputRegressor(reg)\n",
    "    lgb_reg.fit(x.values, y.values)\n",
    "    \n",
    "    if param:\n",
    "        return lgb_reg, params\n",
    "    else:\n",
    "        return lgb_reg"
   ]
  },
  {
   "cell_type": "code",
   "execution_count": 41,
   "metadata": {},
   "outputs": [],
   "source": [
    "# tr = tr.drop(ctd, axis=1)\n",
    "# te = te.drop(ctd, axis=1)"
   ]
  },
  {
   "cell_type": "code",
   "execution_count": 42,
   "metadata": {},
   "outputs": [
    {
     "data": {
      "text/plain": [
       "(10000, 351)"
      ]
     },
     "execution_count": 42,
     "metadata": {},
     "output_type": "execute_result"
    }
   ],
   "source": [
    "tr.shape"
   ]
  },
  {
   "cell_type": "code",
   "execution_count": 43,
   "metadata": {},
   "outputs": [
    {
     "name": "stdout",
     "output_type": "stream",
     "text": [
      "training using cv=2\n",
      "|   iter    |  target   | baggin... | featur... | max_depth | min_ch... | min_da... | n_esti... | num_le... | reg_alpha | reg_la... |\n",
      "-------------------------------------------------------------------------------------------------------------------------------------\n",
      "| \u001b[0m 1       \u001b[0m | \u001b[0m-1.173   \u001b[0m | \u001b[0m 0.5247  \u001b[0m | \u001b[0m 0.8704  \u001b[0m | \u001b[0m 20.64   \u001b[0m | \u001b[0m 1.8     \u001b[0m | \u001b[0m 23.4    \u001b[0m | \u001b[0m 133.9   \u001b[0m | \u001b[0m 140.7   \u001b[0m | \u001b[0m 2.612   \u001b[0m | \u001b[0m 1.843   \u001b[0m |\n",
      "| \u001b[95m 2       \u001b[0m | \u001b[95m-1.162   \u001b[0m | \u001b[95m 0.7248  \u001b[0m | \u001b[95m 0.3124  \u001b[0m | \u001b[95m 25.4    \u001b[0m | \u001b[95m 2.499   \u001b[0m | \u001b[95m 31.85   \u001b[0m | \u001b[95m 145.5   \u001b[0m | \u001b[95m 228.4   \u001b[0m | \u001b[95m 0.9823  \u001b[0m | \u001b[95m 1.622   \u001b[0m |\n",
      "| \u001b[95m 3       \u001b[0m | \u001b[95m-1.154   \u001b[0m | \u001b[95m 0.5592  \u001b[0m | \u001b[95m 0.4747  \u001b[0m | \u001b[95m 18.24   \u001b[0m | \u001b[95m 0.4271  \u001b[0m | \u001b[95m 43.82   \u001b[0m | \u001b[95m 228.1   \u001b[0m | \u001b[95m 419.2   \u001b[0m | \u001b[95m 2.377   \u001b[0m | \u001b[95m 0.6791  \u001b[0m |\n",
      "| \u001b[0m 4       \u001b[0m | \u001b[0m-1.231   \u001b[0m | \u001b[0m 0.6085  \u001b[0m | \u001b[0m 0.6554  \u001b[0m | \u001b[0m 6.929   \u001b[0m | \u001b[0m 1.827   \u001b[0m | \u001b[0m 25.58   \u001b[0m | \u001b[0m 93.14   \u001b[0m | \u001b[0m 764.2   \u001b[0m | \u001b[0m 2.9     \u001b[0m | \u001b[0m 2.444   \u001b[0m |\n",
      "| \u001b[0m 5       \u001b[0m | \u001b[0m-1.158   \u001b[0m | \u001b[0m 0.4828  \u001b[0m | \u001b[0m 0.3586  \u001b[0m | \u001b[0m 19.68   \u001b[0m | \u001b[0m 1.326   \u001b[0m | \u001b[0m 18.31   \u001b[0m | \u001b[0m 285.8   \u001b[0m | \u001b[0m 124.1   \u001b[0m | \u001b[0m 2.737   \u001b[0m | \u001b[0m 0.8505  \u001b[0m |\n",
      "| \u001b[0m 6       \u001b[0m | \u001b[0m-1.154   \u001b[0m | \u001b[0m 0.6975  \u001b[0m | \u001b[0m 0.487   \u001b[0m | \u001b[0m 16.4    \u001b[0m | \u001b[0m 1.645   \u001b[0m | \u001b[0m 27.73   \u001b[0m | \u001b[0m 498.4   \u001b[0m | \u001b[0m 642.6   \u001b[0m | \u001b[0m 2.825   \u001b[0m | \u001b[0m 2.695   \u001b[0m |\n",
      "| \u001b[0m 7       \u001b[0m | \u001b[0m-1.181   \u001b[0m | \u001b[0m 0.6587  \u001b[0m | \u001b[0m 0.8531  \u001b[0m | \u001b[0m 7.77    \u001b[0m | \u001b[0m 0.596   \u001b[0m | \u001b[0m 6.784   \u001b[0m | \u001b[0m 209.7   \u001b[0m | \u001b[0m 372.1   \u001b[0m | \u001b[0m 0.8869  \u001b[0m | \u001b[0m 2.503   \u001b[0m |\n",
      "| \u001b[0m 8       \u001b[0m | \u001b[0m-1.218   \u001b[0m | \u001b[0m 0.5141  \u001b[0m | \u001b[0m 0.4686  \u001b[0m | \u001b[0m 16.85   \u001b[0m | \u001b[0m 0.4314  \u001b[0m | \u001b[0m 120.3   \u001b[0m | \u001b[0m 97.4    \u001b[0m | \u001b[0m 790.8   \u001b[0m | \u001b[0m 2.34    \u001b[0m | \u001b[0m 0.6763  \u001b[0m |\n",
      "| \u001b[0m 9       \u001b[0m | \u001b[0m-1.212   \u001b[0m | \u001b[0m 0.3033  \u001b[0m | \u001b[0m 0.7893  \u001b[0m | \u001b[0m 20.14   \u001b[0m | \u001b[0m 2.19    \u001b[0m | \u001b[0m 115.7   \u001b[0m | \u001b[0m 97.17   \u001b[0m | \u001b[0m 350.9   \u001b[0m | \u001b[0m 0.436   \u001b[0m | \u001b[0m 2.603   \u001b[0m |\n",
      "| \u001b[0m 10      \u001b[0m | \u001b[0m-1.161   \u001b[0m | \u001b[0m 0.674   \u001b[0m | \u001b[0m 0.4985  \u001b[0m | \u001b[0m 7.271   \u001b[0m | \u001b[0m 0.9398  \u001b[0m | \u001b[0m 48.78   \u001b[0m | \u001b[0m 390.9   \u001b[0m | \u001b[0m 546.3   \u001b[0m | \u001b[0m 2.673   \u001b[0m | \u001b[0m 1.469   \u001b[0m |\n",
      "| \u001b[95m 11      \u001b[0m | \u001b[95m-1.144   \u001b[0m | \u001b[95m 0.4448  \u001b[0m | \u001b[95m 0.3225  \u001b[0m | \u001b[95m 23.01   \u001b[0m | \u001b[95m 1.475   \u001b[0m | \u001b[95m 121.6   \u001b[0m | \u001b[95m 485.1   \u001b[0m | \u001b[95m 795.7   \u001b[0m | \u001b[95m 2.818   \u001b[0m | \u001b[95m 2.178   \u001b[0m |\n",
      "| \u001b[0m 12      \u001b[0m | \u001b[0m-1.147   \u001b[0m | \u001b[0m 0.5648  \u001b[0m | \u001b[0m 0.7265  \u001b[0m | \u001b[0m 24.65   \u001b[0m | \u001b[0m 2.318   \u001b[0m | \u001b[0m 147.0   \u001b[0m | \u001b[0m 508.6   \u001b[0m | \u001b[0m 234.4   \u001b[0m | \u001b[0m 0.175   \u001b[0m | \u001b[0m 2.53    \u001b[0m |\n",
      "| \u001b[0m 13      \u001b[0m | \u001b[0m-1.144   \u001b[0m | \u001b[0m 0.6225  \u001b[0m | \u001b[0m 0.4514  \u001b[0m | \u001b[0m 24.63   \u001b[0m | \u001b[0m 2.069   \u001b[0m | \u001b[0m 148.3   \u001b[0m | \u001b[0m 499.6   \u001b[0m | \u001b[0m 572.7   \u001b[0m | \u001b[0m 0.9029  \u001b[0m | \u001b[0m 0.5834  \u001b[0m |\n",
      "| \u001b[0m 14      \u001b[0m | \u001b[0m-1.158   \u001b[0m | \u001b[0m 0.312   \u001b[0m | \u001b[0m 0.6385  \u001b[0m | \u001b[0m 16.1    \u001b[0m | \u001b[0m 2.32    \u001b[0m | \u001b[0m 21.19   \u001b[0m | \u001b[0m 499.2   \u001b[0m | \u001b[0m 642.9   \u001b[0m | \u001b[0m 2.366   \u001b[0m | \u001b[0m 1.897   \u001b[0m |\n",
      "| \u001b[0m 15      \u001b[0m | \u001b[0m-1.189   \u001b[0m | \u001b[0m 0.5503  \u001b[0m | \u001b[0m 0.8097  \u001b[0m | \u001b[0m 25.04   \u001b[0m | \u001b[0m 0.1083  \u001b[0m | \u001b[0m 3.88    \u001b[0m | \u001b[0m 483.7   \u001b[0m | \u001b[0m 289.0   \u001b[0m | \u001b[0m 2.836   \u001b[0m | \u001b[0m 2.737   \u001b[0m |\n",
      "| \u001b[0m 16      \u001b[0m | \u001b[0m-1.164   \u001b[0m | \u001b[0m 0.4163  \u001b[0m | \u001b[0m 0.3506  \u001b[0m | \u001b[0m 22.0    \u001b[0m | \u001b[0m 0.2489  \u001b[0m | \u001b[0m 147.2   \u001b[0m | \u001b[0m 255.7   \u001b[0m | \u001b[0m 129.7   \u001b[0m | \u001b[0m 0.8335  \u001b[0m | \u001b[0m 1.743   \u001b[0m |\n",
      "| \u001b[0m 17      \u001b[0m | \u001b[0m-1.233   \u001b[0m | \u001b[0m 0.7456  \u001b[0m | \u001b[0m 0.6519  \u001b[0m | \u001b[0m 25.59   \u001b[0m | \u001b[0m 1.904   \u001b[0m | \u001b[0m 0.9306  \u001b[0m | \u001b[0m 392.2   \u001b[0m | \u001b[0m 791.1   \u001b[0m | \u001b[0m 0.1255  \u001b[0m | \u001b[0m 0.1482  \u001b[0m |\n",
      "| \u001b[0m 18      \u001b[0m | \u001b[0m-1.149   \u001b[0m | \u001b[0m 0.3067  \u001b[0m | \u001b[0m 0.4366  \u001b[0m | \u001b[0m 19.87   \u001b[0m | \u001b[0m 1.378   \u001b[0m | \u001b[0m 149.3   \u001b[0m | \u001b[0m 484.6   \u001b[0m | \u001b[0m 102.6   \u001b[0m | \u001b[0m 1.095   \u001b[0m | \u001b[0m 2.027   \u001b[0m |\n",
      "| \u001b[0m 19      \u001b[0m | \u001b[0m-1.162   \u001b[0m | \u001b[0m 0.3663  \u001b[0m | \u001b[0m 0.7614  \u001b[0m | \u001b[0m 25.81   \u001b[0m | \u001b[0m 0.08843 \u001b[0m | \u001b[0m 143.3   \u001b[0m | \u001b[0m 254.7   \u001b[0m | \u001b[0m 618.2   \u001b[0m | \u001b[0m 1.076   \u001b[0m | \u001b[0m 1.356   \u001b[0m |\n",
      "| \u001b[0m 20      \u001b[0m | \u001b[0m-1.165   \u001b[0m | \u001b[0m 0.5462  \u001b[0m | \u001b[0m 0.6166  \u001b[0m | \u001b[0m 25.31   \u001b[0m | \u001b[0m 1.852   \u001b[0m | \u001b[0m 30.34   \u001b[0m | \u001b[0m 151.0   \u001b[0m | \u001b[0m 225.9   \u001b[0m | \u001b[0m 1.497   \u001b[0m | \u001b[0m 1.039   \u001b[0m |\n",
      "=====================================================================================================================================\n"
     ]
    }
   ],
   "source": [
    "lgb_reg, params = build_lgb(tr, target, 10, 5)"
   ]
  },
  {
   "cell_type": "code",
   "execution_count": 44,
   "metadata": {},
   "outputs": [],
   "source": [
    "params_xg = {\n",
    "    'min_data_in_leaf': params['min_data_in_leaf'],\n",
    "    'num_leaves': params['num_leaves'],\n",
    "    'min_child_weight': params['min_child_weight'],\n",
    "    'bagging_fraction': params['bagging_fraction'],\n",
    "    'feature_fraction': params['feature_fraction'],\n",
    "    'reg_lambda': params['reg_lambda'],\n",
    "    'reg_alpha': params['reg_alpha'],\n",
    "    'max_depth': params['max_depth'],\n",
    "    'eval_metric': 'mae',\n",
    "    'tree_method': 'gpu_hist',\n",
    "}"
   ]
  },
  {
   "cell_type": "code",
   "execution_count": 46,
   "metadata": {
    "scrolled": true
   },
   "outputs": [
    {
     "data": {
      "text/plain": [
       "MultiOutputRegressor(estimator=XGBRegressor(bagging_fraction=0.4447834108075249,\n",
       "                                            base_score=None, booster=None,\n",
       "                                            colsample_bylevel=None,\n",
       "                                            colsample_bynode=None,\n",
       "                                            colsample_bytree=None,\n",
       "                                            eval_metric='mae',\n",
       "                                            feature_fraction=0.3225246510876955,\n",
       "                                            gamma=None, gpu_id=None,\n",
       "                                            importance_type='gain',\n",
       "                                            interaction_constraints=None,\n",
       "                                            learning_rate=None,\n",
       "                                            max_delta_step=None, max_depth=23,\n",
       "                                            min_child_weight=1.4748630648089285,\n",
       "                                            min_data_in_leaf=121, missing=nan,\n",
       "                                            monotone_constraints=None,\n",
       "                                            n_estimators=100, n_jobs=None,\n",
       "                                            num_leaves=795,\n",
       "                                            num_parallel_tree=None,\n",
       "                                            objective='reg:squarederror',\n",
       "                                            random_state=None,\n",
       "                                            reg_alpha=2.817775627488072,\n",
       "                                            reg_lambda=2.178014711795847,\n",
       "                                            scale_pos_weight=None,\n",
       "                                            subsample=None,\n",
       "                                            tree_method='gpu_hist', ...),\n",
       "                     n_jobs=None)"
      ]
     },
     "execution_count": 46,
     "metadata": {},
     "output_type": "execute_result"
    }
   ],
   "source": [
    "# xgb\n",
    "reg = xgb.XGBRegressor(**params_xg)\n",
    "xgb_reg = MultiOutputRegressor(reg)\n",
    "xgb_reg.fit(tr, target)"
   ]
  },
  {
   "cell_type": "code",
   "execution_count": 48,
   "metadata": {},
   "outputs": [
    {
     "name": "stderr",
     "output_type": "stream",
     "text": [
      "Warning: less than 75% gpu memory available for training. Free: 2068.625 Total: 6144\n"
     ]
    },
    {
     "name": "stdout",
     "output_type": "stream",
     "text": [
      "0:\tlearn: 2.3291709\ttotal: 28.4ms\tremaining: 4m 44s\n",
      "9999:\tlearn: 0.0062738\ttotal: 4m 5s\tremaining: 0us\n"
     ]
    },
    {
     "name": "stderr",
     "output_type": "stream",
     "text": [
      "Warning: less than 75% gpu memory available for training. Free: 2068.625 Total: 6144\n"
     ]
    },
    {
     "name": "stdout",
     "output_type": "stream",
     "text": [
      "0:\tlearn: 0.7926174\ttotal: 27.1ms\tremaining: 4m 30s\n",
      "9999:\tlearn: 0.0048831\ttotal: 4m 6s\tremaining: 0us\n"
     ]
    },
    {
     "name": "stderr",
     "output_type": "stream",
     "text": [
      "Warning: less than 75% gpu memory available for training. Free: 2068.625 Total: 6144\n"
     ]
    },
    {
     "name": "stdout",
     "output_type": "stream",
     "text": [
      "0:\tlearn: 2.3690480\ttotal: 27.8ms\tremaining: 4m 37s\n",
      "9999:\tlearn: 0.0166269\ttotal: 4m 5s\tremaining: 0us\n"
     ]
    },
    {
     "name": "stderr",
     "output_type": "stream",
     "text": [
      "Warning: less than 75% gpu memory available for training. Free: 2068.625 Total: 6144\n"
     ]
    },
    {
     "name": "stdout",
     "output_type": "stream",
     "text": [
      "0:\tlearn: 1.5304105\ttotal: 27.3ms\tremaining: 4m 33s\n",
      "9999:\tlearn: 0.0118754\ttotal: 3m 58s\tremaining: 0us\n"
     ]
    },
    {
     "data": {
      "text/plain": [
       "MultiOutputRegressor(estimator=<catboost.core.CatBoostRegressor object at 0x000001758B211F88>,\n",
       "                     n_jobs=None)"
      ]
     },
     "execution_count": 48,
     "metadata": {},
     "output_type": "execute_result"
    }
   ],
   "source": [
    "# cat\n",
    "reg = cat.CatBoostRegressor(eval_metric='MAE',\n",
    "                            task_type='GPU',\n",
    "                            early_stopping_rounds = 100,\n",
    "                            iterations = 10000,\n",
    "                            metric_period = 10000,\n",
    "                            grow_policy = 'Lossguide',\n",
    "                            l2_leaf_reg = params['reg_lambda'],\n",
    "                            random_seed=SEED)\n",
    "\n",
    "cat_reg = MultiOutputRegressor(reg)\n",
    "cat_reg.fit(tr, target)"
   ]
  },
  {
   "cell_type": "code",
   "execution_count": 49,
   "metadata": {
    "scrolled": true
   },
   "outputs": [],
   "source": [
    "lgb_pred = lgb_reg.predict(te)\n",
    "xgb_pred = xgb_reg.predict(te)\n",
    "cat_pred = cat_reg.predict(te)"
   ]
  },
  {
   "cell_type": "code",
   "execution_count": 50,
   "metadata": {},
   "outputs": [],
   "source": [
    "rf = RandomForestRegressor(n_estimators=150,\n",
    "                                max_depth=9, \n",
    "                                max_features='sqrt', \n",
    "                                random_state=SEED)\n",
    "\n",
    "pca = PCA(10, random_state=SEED, whiten=True)"
   ]
  },
  {
   "cell_type": "code",
   "execution_count": 51,
   "metadata": {},
   "outputs": [],
   "source": [
    "models = [\n",
    "    [lgb_reg, xgb_reg, pca],\n",
    "    [rf]\n",
    "         ]"
   ]
  },
  {
   "cell_type": "code",
   "execution_count": 53,
   "metadata": {
    "scrolled": true
   },
   "outputs": [
    {
     "name": "stdout",
     "output_type": "stream",
     "text": [
      "====================== Start of Level 0 ======================\n",
      "Input Dimensionality 351 at Level 0 \n",
      "3 models included in Level 0 \n"
     ]
    },
    {
     "ename": "TerminatedWorkerError",
     "evalue": "A worker process managed by the executor was unexpectedly terminated. This could be caused by a segmentation fault while calling the function or by an excessive memory usage causing the Operating System to kill the worker.",
     "output_type": "error",
     "traceback": [
      "\u001b[1;31m---------------------------------------------------------------------------\u001b[0m",
      "\u001b[1;31mTerminatedWorkerError\u001b[0m                     Traceback (most recent call last)",
      "\u001b[1;32m<ipython-input-53-0cebd6bd8b67>\u001b[0m in \u001b[0;36m<module>\u001b[1;34m\u001b[0m\n\u001b[0;32m      7\u001b[0m                            verbose=1)\n\u001b[0;32m      8\u001b[0m \u001b[1;33m\u001b[0m\u001b[0m\n\u001b[1;32m----> 9\u001b[1;33m \u001b[0mmodel\u001b[0m\u001b[1;33m.\u001b[0m\u001b[0mfit\u001b[0m\u001b[1;33m(\u001b[0m\u001b[0mtr\u001b[0m\u001b[1;33m,\u001b[0m \u001b[0mtarget\u001b[0m\u001b[1;33m)\u001b[0m\u001b[1;33m\u001b[0m\u001b[1;33m\u001b[0m\u001b[0m\n\u001b[0m",
      "\u001b[1;32mc:\\users\\young\\anaconda3\\envs\\env\\lib\\site-packages\\pystacknet-0.0.1-py3.7.egg\\pystacknet\\pystacknet.py\u001b[0m in \u001b[0;36mfit\u001b[1;34m(self, X, y, sample_weight)\u001b[0m\n\u001b[0;32m   1103\u001b[0m                         \u001b[0my_train\u001b[0m\u001b[1;33m,\u001b[0m\u001b[1;33m\u001b[0m\u001b[1;33m\u001b[0m\u001b[0m\n\u001b[0;32m   1104\u001b[0m                         w_train, d)\n\u001b[1;32m-> 1105\u001b[1;33m                     for d in range(len(this_level_models)))\n\u001b[0m\u001b[0;32m   1106\u001b[0m \u001b[1;33m\u001b[0m\u001b[0m\n\u001b[0;32m   1107\u001b[0m                 \u001b[1;31m# Reduce\u001b[0m\u001b[1;33m\u001b[0m\u001b[1;33m\u001b[0m\u001b[1;33m\u001b[0m\u001b[0m\n",
      "\u001b[1;32mc:\\users\\young\\anaconda3\\envs\\env\\lib\\site-packages\\joblib\\parallel.py\u001b[0m in \u001b[0;36m__call__\u001b[1;34m(self, iterable)\u001b[0m\n\u001b[0;32m   1015\u001b[0m \u001b[1;33m\u001b[0m\u001b[0m\n\u001b[0;32m   1016\u001b[0m             \u001b[1;32mwith\u001b[0m \u001b[0mself\u001b[0m\u001b[1;33m.\u001b[0m\u001b[0m_backend\u001b[0m\u001b[1;33m.\u001b[0m\u001b[0mretrieval_context\u001b[0m\u001b[1;33m(\u001b[0m\u001b[1;33m)\u001b[0m\u001b[1;33m:\u001b[0m\u001b[1;33m\u001b[0m\u001b[1;33m\u001b[0m\u001b[0m\n\u001b[1;32m-> 1017\u001b[1;33m                 \u001b[0mself\u001b[0m\u001b[1;33m.\u001b[0m\u001b[0mretrieve\u001b[0m\u001b[1;33m(\u001b[0m\u001b[1;33m)\u001b[0m\u001b[1;33m\u001b[0m\u001b[1;33m\u001b[0m\u001b[0m\n\u001b[0m\u001b[0;32m   1018\u001b[0m             \u001b[1;31m# Make sure that we get a last message telling us we are done\u001b[0m\u001b[1;33m\u001b[0m\u001b[1;33m\u001b[0m\u001b[1;33m\u001b[0m\u001b[0m\n\u001b[0;32m   1019\u001b[0m             \u001b[0melapsed_time\u001b[0m \u001b[1;33m=\u001b[0m \u001b[0mtime\u001b[0m\u001b[1;33m.\u001b[0m\u001b[0mtime\u001b[0m\u001b[1;33m(\u001b[0m\u001b[1;33m)\u001b[0m \u001b[1;33m-\u001b[0m \u001b[0mself\u001b[0m\u001b[1;33m.\u001b[0m\u001b[0m_start_time\u001b[0m\u001b[1;33m\u001b[0m\u001b[1;33m\u001b[0m\u001b[0m\n",
      "\u001b[1;32mc:\\users\\young\\anaconda3\\envs\\env\\lib\\site-packages\\joblib\\parallel.py\u001b[0m in \u001b[0;36mretrieve\u001b[1;34m(self)\u001b[0m\n\u001b[0;32m    907\u001b[0m             \u001b[1;32mtry\u001b[0m\u001b[1;33m:\u001b[0m\u001b[1;33m\u001b[0m\u001b[1;33m\u001b[0m\u001b[0m\n\u001b[0;32m    908\u001b[0m                 \u001b[1;32mif\u001b[0m \u001b[0mgetattr\u001b[0m\u001b[1;33m(\u001b[0m\u001b[0mself\u001b[0m\u001b[1;33m.\u001b[0m\u001b[0m_backend\u001b[0m\u001b[1;33m,\u001b[0m \u001b[1;34m'supports_timeout'\u001b[0m\u001b[1;33m,\u001b[0m \u001b[1;32mFalse\u001b[0m\u001b[1;33m)\u001b[0m\u001b[1;33m:\u001b[0m\u001b[1;33m\u001b[0m\u001b[1;33m\u001b[0m\u001b[0m\n\u001b[1;32m--> 909\u001b[1;33m                     \u001b[0mself\u001b[0m\u001b[1;33m.\u001b[0m\u001b[0m_output\u001b[0m\u001b[1;33m.\u001b[0m\u001b[0mextend\u001b[0m\u001b[1;33m(\u001b[0m\u001b[0mjob\u001b[0m\u001b[1;33m.\u001b[0m\u001b[0mget\u001b[0m\u001b[1;33m(\u001b[0m\u001b[0mtimeout\u001b[0m\u001b[1;33m=\u001b[0m\u001b[0mself\u001b[0m\u001b[1;33m.\u001b[0m\u001b[0mtimeout\u001b[0m\u001b[1;33m)\u001b[0m\u001b[1;33m)\u001b[0m\u001b[1;33m\u001b[0m\u001b[1;33m\u001b[0m\u001b[0m\n\u001b[0m\u001b[0;32m    910\u001b[0m                 \u001b[1;32melse\u001b[0m\u001b[1;33m:\u001b[0m\u001b[1;33m\u001b[0m\u001b[1;33m\u001b[0m\u001b[0m\n\u001b[0;32m    911\u001b[0m                     \u001b[0mself\u001b[0m\u001b[1;33m.\u001b[0m\u001b[0m_output\u001b[0m\u001b[1;33m.\u001b[0m\u001b[0mextend\u001b[0m\u001b[1;33m(\u001b[0m\u001b[0mjob\u001b[0m\u001b[1;33m.\u001b[0m\u001b[0mget\u001b[0m\u001b[1;33m(\u001b[0m\u001b[1;33m)\u001b[0m\u001b[1;33m)\u001b[0m\u001b[1;33m\u001b[0m\u001b[1;33m\u001b[0m\u001b[0m\n",
      "\u001b[1;32mc:\\users\\young\\anaconda3\\envs\\env\\lib\\site-packages\\joblib\\_parallel_backends.py\u001b[0m in \u001b[0;36mwrap_future_result\u001b[1;34m(future, timeout)\u001b[0m\n\u001b[0;32m    560\u001b[0m         AsyncResults.get from multiprocessing.\"\"\"\n\u001b[0;32m    561\u001b[0m         \u001b[1;32mtry\u001b[0m\u001b[1;33m:\u001b[0m\u001b[1;33m\u001b[0m\u001b[1;33m\u001b[0m\u001b[0m\n\u001b[1;32m--> 562\u001b[1;33m             \u001b[1;32mreturn\u001b[0m \u001b[0mfuture\u001b[0m\u001b[1;33m.\u001b[0m\u001b[0mresult\u001b[0m\u001b[1;33m(\u001b[0m\u001b[0mtimeout\u001b[0m\u001b[1;33m=\u001b[0m\u001b[0mtimeout\u001b[0m\u001b[1;33m)\u001b[0m\u001b[1;33m\u001b[0m\u001b[1;33m\u001b[0m\u001b[0m\n\u001b[0m\u001b[0;32m    563\u001b[0m         \u001b[1;32mexcept\u001b[0m \u001b[0mLokyTimeoutError\u001b[0m\u001b[1;33m:\u001b[0m\u001b[1;33m\u001b[0m\u001b[1;33m\u001b[0m\u001b[0m\n\u001b[0;32m    564\u001b[0m             \u001b[1;32mraise\u001b[0m \u001b[0mTimeoutError\u001b[0m\u001b[1;33m(\u001b[0m\u001b[1;33m)\u001b[0m\u001b[1;33m\u001b[0m\u001b[1;33m\u001b[0m\u001b[0m\n",
      "\u001b[1;32mc:\\users\\young\\anaconda3\\envs\\env\\lib\\concurrent\\futures\\_base.py\u001b[0m in \u001b[0;36mresult\u001b[1;34m(self, timeout)\u001b[0m\n\u001b[0;32m    433\u001b[0m                 \u001b[1;32mraise\u001b[0m \u001b[0mCancelledError\u001b[0m\u001b[1;33m(\u001b[0m\u001b[1;33m)\u001b[0m\u001b[1;33m\u001b[0m\u001b[1;33m\u001b[0m\u001b[0m\n\u001b[0;32m    434\u001b[0m             \u001b[1;32melif\u001b[0m \u001b[0mself\u001b[0m\u001b[1;33m.\u001b[0m\u001b[0m_state\u001b[0m \u001b[1;33m==\u001b[0m \u001b[0mFINISHED\u001b[0m\u001b[1;33m:\u001b[0m\u001b[1;33m\u001b[0m\u001b[1;33m\u001b[0m\u001b[0m\n\u001b[1;32m--> 435\u001b[1;33m                 \u001b[1;32mreturn\u001b[0m \u001b[0mself\u001b[0m\u001b[1;33m.\u001b[0m\u001b[0m__get_result\u001b[0m\u001b[1;33m(\u001b[0m\u001b[1;33m)\u001b[0m\u001b[1;33m\u001b[0m\u001b[1;33m\u001b[0m\u001b[0m\n\u001b[0m\u001b[0;32m    436\u001b[0m             \u001b[1;32melse\u001b[0m\u001b[1;33m:\u001b[0m\u001b[1;33m\u001b[0m\u001b[1;33m\u001b[0m\u001b[0m\n\u001b[0;32m    437\u001b[0m                 \u001b[1;32mraise\u001b[0m \u001b[0mTimeoutError\u001b[0m\u001b[1;33m(\u001b[0m\u001b[1;33m)\u001b[0m\u001b[1;33m\u001b[0m\u001b[1;33m\u001b[0m\u001b[0m\n",
      "\u001b[1;32mc:\\users\\young\\anaconda3\\envs\\env\\lib\\concurrent\\futures\\_base.py\u001b[0m in \u001b[0;36m__get_result\u001b[1;34m(self)\u001b[0m\n\u001b[0;32m    382\u001b[0m     \u001b[1;32mdef\u001b[0m \u001b[0m__get_result\u001b[0m\u001b[1;33m(\u001b[0m\u001b[0mself\u001b[0m\u001b[1;33m)\u001b[0m\u001b[1;33m:\u001b[0m\u001b[1;33m\u001b[0m\u001b[1;33m\u001b[0m\u001b[0m\n\u001b[0;32m    383\u001b[0m         \u001b[1;32mif\u001b[0m \u001b[0mself\u001b[0m\u001b[1;33m.\u001b[0m\u001b[0m_exception\u001b[0m\u001b[1;33m:\u001b[0m\u001b[1;33m\u001b[0m\u001b[1;33m\u001b[0m\u001b[0m\n\u001b[1;32m--> 384\u001b[1;33m             \u001b[1;32mraise\u001b[0m \u001b[0mself\u001b[0m\u001b[1;33m.\u001b[0m\u001b[0m_exception\u001b[0m\u001b[1;33m\u001b[0m\u001b[1;33m\u001b[0m\u001b[0m\n\u001b[0m\u001b[0;32m    385\u001b[0m         \u001b[1;32melse\u001b[0m\u001b[1;33m:\u001b[0m\u001b[1;33m\u001b[0m\u001b[1;33m\u001b[0m\u001b[0m\n\u001b[0;32m    386\u001b[0m             \u001b[1;32mreturn\u001b[0m \u001b[0mself\u001b[0m\u001b[1;33m.\u001b[0m\u001b[0m_result\u001b[0m\u001b[1;33m\u001b[0m\u001b[1;33m\u001b[0m\u001b[0m\n",
      "\u001b[1;31mTerminatedWorkerError\u001b[0m: A worker process managed by the executor was unexpectedly terminated. This could be caused by a segmentation fault while calling the function or by an excessive memory usage causing the Operating System to kill the worker."
     ]
    }
   ],
   "source": [
    "model = StackNetRegressor(models, \n",
    "                           metric=\"mae\", \n",
    "                           folds=2,\n",
    "                           restacking=False,\n",
    "                           random_state=SEED,\n",
    "                           n_jobs=6, \n",
    "                           verbose=1)\n",
    "\n",
    "model.fit(tr, target)"
   ]
  },
  {
   "cell_type": "code",
   "execution_count": null,
   "metadata": {},
   "outputs": [],
   "source": [
    "stk_pred = model.predict(te)"
   ]
  },
  {
   "cell_type": "code",
   "execution_count": 54,
   "metadata": {},
   "outputs": [],
   "source": [
    "from sklearn.linear_model import LinearRegression, Lasso, Ridge\n",
    "# from sklearn.ensemble import BaggingClassifier, RandomForestClassifier, ExtraTreesClassifier\n",
    "from sklearn.svm import SVR\n",
    "from sklearn.cross_decomposition import PLSRegression"
   ]
  },
  {
   "cell_type": "code",
   "execution_count": 55,
   "metadata": {},
   "outputs": [],
   "source": [
    "lr = LinearRegression()\n",
    "lasso = Lasso()\n",
    "ridge = Ridge()\n",
    "svr = SVR()\n"
   ]
  },
  {
   "cell_type": "code",
   "execution_count": 60,
   "metadata": {},
   "outputs": [
    {
     "data": {
      "text/plain": [
       "-1.6683771891570136"
      ]
     },
     "execution_count": 60,
     "metadata": {},
     "output_type": "execute_result"
    }
   ],
   "source": [
    "np.mean(cross_val_score(lasso, tr, target, scoring='neg_mean_absolute_error', cv=4))"
   ]
  },
  {
   "cell_type": "code",
   "execution_count": 61,
   "metadata": {},
   "outputs": [
    {
     "data": {
      "text/plain": [
       "-1.5382765020868077"
      ]
     },
     "execution_count": 61,
     "metadata": {},
     "output_type": "execute_result"
    }
   ],
   "source": [
    "np.mean(cross_val_score(ridge, tr, target, scoring='neg_mean_absolute_error', cv=4))"
   ]
  },
  {
   "cell_type": "code",
   "execution_count": 68,
   "metadata": {
    "scrolled": true
   },
   "outputs": [
    {
     "data": {
      "text/plain": [
       "-1.7312895803531703"
      ]
     },
     "execution_count": 68,
     "metadata": {},
     "output_type": "execute_result"
    }
   ],
   "source": [
    "svr = MultiOutputRegressor(SVR(), n_jobs=-1)\n",
    "np.mean(cross_val_score(svr, tr, target, scoring='neg_mean_absolute_error', cv=4))"
   ]
  },
  {
   "cell_type": "code",
   "execution_count": 65,
   "metadata": {},
   "outputs": [
    {
     "name": "stdout",
     "output_type": "stream",
     "text": [
      "-1.5319850419338212\n",
      "-1.5277379349372717\n",
      "-1.5254928995052255\n",
      "-1.5245977054880036\n",
      "-1.521161768383776\n",
      "-1.5175157308259157\n",
      "-1.5177311099962791\n",
      "-1.515335993235752\n",
      "-1.5100454618246744\n",
      "-1.5081437211724293\n"
     ]
    }
   ],
   "source": [
    "for i in range(20, 30):\n",
    "    pls = PLSRegression(i)\n",
    "    print(np.mean(cross_val_score(pls, tr, target, scoring='neg_mean_absolute_error', cv=4)))"
   ]
  },
  {
   "cell_type": "code",
   "execution_count": null,
   "metadata": {},
   "outputs": [],
   "source": []
  },
  {
   "cell_type": "code",
   "execution_count": null,
   "metadata": {},
   "outputs": [],
   "source": []
  },
  {
   "cell_type": "code",
   "execution_count": null,
   "metadata": {},
   "outputs": [],
   "source": []
  },
  {
   "cell_type": "code",
   "execution_count": null,
   "metadata": {},
   "outputs": [],
   "source": []
  },
  {
   "cell_type": "code",
   "execution_count": null,
   "metadata": {},
   "outputs": [],
   "source": []
  },
  {
   "cell_type": "code",
   "execution_count": 69,
   "metadata": {},
   "outputs": [],
   "source": [
    "pred = 0.3 * lgb_pred +\\\n",
    "        0.2 * xgb_pred +\\\n",
    "        0.2 * cat_pred"
   ]
  },
  {
   "cell_type": "code",
   "execution_count": 70,
   "metadata": {},
   "outputs": [
    {
     "data": {
      "text/plain": [
       "array([[6.19847194, 3.23137698, 5.74628763, 1.47710135],\n",
       "       [4.95604721, 1.51738617, 7.58946456, 2.68129883],\n",
       "       [6.56696023, 3.43518601, 8.78011583, 2.22208722],\n",
       "       ...,\n",
       "       [5.24124827, 2.678205  , 5.98326419, 2.12571852],\n",
       "       [9.24690893, 3.22992815, 8.1617763 , 2.94804283],\n",
       "       [3.22268301, 3.36658708, 8.60570847, 2.21208175]])"
      ]
     },
     "execution_count": 70,
     "metadata": {},
     "output_type": "execute_result"
    }
   ],
   "source": [
    "pred"
   ]
  },
  {
   "cell_type": "code",
   "execution_count": null,
   "metadata": {},
   "outputs": [],
   "source": []
  },
  {
   "cell_type": "code",
   "execution_count": null,
   "metadata": {},
   "outputs": [],
   "source": []
  },
  {
   "cell_type": "code",
   "execution_count": 71,
   "metadata": {},
   "outputs": [],
   "source": [
    "sub[target_cols] = pred\n",
    "sub.to_csv('test.csv')"
   ]
  },
  {
   "cell_type": "code",
   "execution_count": null,
   "metadata": {},
   "outputs": [],
   "source": []
  }
 ],
 "metadata": {
  "kernelspec": {
   "display_name": "Python 3",
   "language": "python",
   "name": "python3"
  },
  "language_info": {
   "codemirror_mode": {
    "name": "ipython",
    "version": 3
   },
   "file_extension": ".py",
   "mimetype": "text/x-python",
   "name": "python",
   "nbconvert_exporter": "python",
   "pygments_lexer": "ipython3",
   "version": "3.7.7"
  },
  "toc": {
   "base_numbering": 1,
   "nav_menu": {},
   "number_sections": true,
   "sideBar": true,
   "skip_h1_title": false,
   "title_cell": "Table of Contents",
   "title_sidebar": "Contents",
   "toc_cell": false,
   "toc_position": {},
   "toc_section_display": true,
   "toc_window_display": false
  }
 },
 "nbformat": 4,
 "nbformat_minor": 4
}
