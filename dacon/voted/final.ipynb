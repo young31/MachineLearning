{
 "cells": [
  {
   "cell_type": "code",
   "execution_count": 1,
   "metadata": {},
   "outputs": [],
   "source": [
    "import numpy as np\n",
    "import pandas as pd\n",
    "\n",
    "import os\n",
    "import gc\n",
    "import random\n",
    "import glob\n",
    "\n",
    "import seaborn as sns\n",
    "import matplotlib.pyplot as plt\n",
    "\n",
    "from sklearn.metrics import roc_auc_score, make_scorer\n",
    "from sklearn.model_selection import train_test_split, cross_val_score\n",
    "from sklearn.preprocessing import LabelBinarizer, LabelEncoder\n",
    "from sklearn.ensemble import RandomForestClassifier\n",
    "from sklearn.preprocessing import MinMaxScaler, RobustScaler, StandardScaler\n",
    "\n",
    "from bayes_opt import BayesianOptimization\n",
    "import lightgbm as lgb\n",
    "\n",
    "import warnings\n",
    "\n",
    "warnings.filterwarnings('ignore')\n",
    "\n",
    "SEED = 42\n",
    "np.random.seed(SEED)\n",
    "#tf.random.set_seed(SEED)\n",
    "os.environ['PYTHONHASHSEED']=str(SEED)\n",
    "random.seed(SEED)"
   ]
  },
  {
   "cell_type": "code",
   "execution_count": 2,
   "metadata": {},
   "outputs": [],
   "source": [
    "from tensorflow import keras\n",
    "import tensorflow as tf\n",
    "import keras.backend as K\n",
    "from tensorflow.keras import optimizers, callbacks\n",
    "from tensorflow.keras.layers import Dense, Concatenate, Activation, Add, BatchNormalization, Dropout, Input\n",
    "from tensorflow.keras.models import Model, Sequential, load_model\n",
    "from sklearn.metrics import mean_absolute_error as mae\n",
    "from sklearn.preprocessing import StandardScaler, MinMaxScaler\n",
    "import random\n",
    "import tensorflow_addons as tfa\n",
    "\n",
    "SEED = 42\n",
    "np.random.seed(SEED)\n",
    "tf.random.set_seed(SEED)\n",
    "os.environ['PYTHONHASHSEED']=str(SEED)\n",
    "random.seed(SEED)\n",
    "gpus = tf.config.experimental.list_physical_devices('GPU')\n",
    "if gpus:\n",
    "    try:\n",
    "        tf.config.experimental.set_memory_growth(gpus[0], True)\n",
    "    except RuntimeError as e:\n",
    "        # 프로그램 시작시에 메모리 증가가 설정되어야만 합니다\n",
    "        print(e)\n",
    "\n",
    "\n",
    "def mish(x):\n",
    "    return x*tf.math.tanh(tf.math.softplus(x))\n",
    "\n",
    "def decay(epochs):\n",
    "    init = 2e-4\n",
    "    drop = 5\n",
    "    ratio = 0.9\n",
    "    return max(5e-5, (init * (ratio ** (epochs//drop))))\n",
    "\n",
    "es = callbacks.EarlyStopping(patience=10, restore_best_weights=True)\n",
    "lrs = callbacks.LearningRateScheduler(decay, verbose=0)\n"
   ]
  },
  {
   "cell_type": "code",
   "execution_count": 3,
   "metadata": {},
   "outputs": [],
   "source": [
    "data = pd.read_csv('./data/train.csv', index_col='index')\n",
    "test = pd.read_csv('./data/test_x.csv', index_col='index')\n",
    "sub = pd.read_csv('data/sample_submission.csv', index_col='index')\n",
    "\n",
    "target = LabelEncoder().fit_transform(data['voted']) # vorted = 0\n",
    "data.drop('voted', inplace=True, axis=1)"
   ]
  },
  {
   "cell_type": "code",
   "execution_count": 4,
   "metadata": {},
   "outputs": [],
   "source": [
    "categoricals = [\n",
    "    'education', 'engnat', 'married', 'urban', \n",
    "] # familysize hand\n",
    "\n",
    "bins = [\n",
    "    'age_group', 'gender', 'race', 'religion', \n",
    "] # 'familysize'\n",
    "\n",
    "QAs = ['Q'+chr(o)+'A' for o in range(97, 117)] # 1~5 score\n",
    "QEs = ['Q'+chr(o)+'E' for o in range(97, 117)] # response time\n",
    "\n",
    "tps = ['tp0'+str(i) for i in range(1, 10)] + ['tp10'] # 0~7 score\n",
    "\n",
    "wrs = ['wr_0' + str(i) for i in range(1, 10)] + ['wr_' + str(i) for i in range(10, 14)] # binary\n",
    "\n",
    "wfs = ['wf_0' + str(i) for i in range(1, 4)] # binary\n"
   ]
  },
  {
   "cell_type": "code",
   "execution_count": 5,
   "metadata": {},
   "outputs": [],
   "source": [
    "# family size 를 drop하면 feature 수가 98 아닌 경우 102\n",
    "# drop하고 아래에서 QE를 drop하지 않으면 118\n",
    "\n",
    "# data['familysize'] = np.where(data['familysize']  > 3, 3, data['familysize'])\n",
    "# test['familysize'] = np.where(test['familysize']  > 3, 3, test['familysize'])\n",
    "\n",
    "# bins += ['familysize']\n",
    "\n",
    "data.drop(['familysize'], axis=1, inplace=True)\n",
    "test.drop(['familysize'], axis=1, inplace=True)\n"
   ]
  },
  {
   "cell_type": "code",
   "execution_count": 6,
   "metadata": {},
   "outputs": [],
   "source": [
    "data.drop(['hand'], axis=1, inplace=True)\n",
    "test.drop(['hand'], axis=1, inplace=True)"
   ]
  },
  {
   "cell_type": "code",
   "execution_count": 7,
   "metadata": {},
   "outputs": [],
   "source": [
    "# 해당 질문은 진정성을 확인할 수 있는 질문이라고 생각하여 아래와 같이 점수를 산출하여 사용하였습니다.\n",
    "\n",
    "def honesty(data):\n",
    "    data['wr0'] = np.sum(data[wrs], axis=1) /13\n",
    "    data['wf0'] = 1 - np.sum(data[wfs], axis=1) /3\n",
    "    data['honesty'] = (np.sum(data[wrs], axis=1) + 3 - np.sum(data[wfs], axis=1))/16\n",
    "    return data\n",
    "\n",
    "data = honesty(data)\n",
    "test = honesty(test)"
   ]
  },
  {
   "cell_type": "code",
   "execution_count": 8,
   "metadata": {},
   "outputs": [],
   "source": [
    "def isChrist(x):\n",
    "    if 'Christian' in x:\n",
    "        return 1\n",
    "    else:\n",
    "        return 0\n",
    "    \n",
    "data['isChrist'] = data['religion'].map(isChrist)\n",
    "test['isChrist'] = test['religion'].map(isChrist)"
   ]
  },
  {
   "cell_type": "code",
   "execution_count": 9,
   "metadata": {},
   "outputs": [],
   "source": [
    "for c in bins: \n",
    "    lbe = LabelEncoder().fit(data[c])\n",
    "    \n",
    "    data[c] = lbe.transform(data[c]) \n",
    "    test[c] = lbe.transform(test[c])\n",
    "    \n",
    "    temp = pd.get_dummies(data[c], prefix=c)\n",
    "    data.drop(c, axis=1, inplace=True)\n",
    "    data = pd.concat([data, temp], axis=1)\n",
    "    \n",
    "    temp = pd.get_dummies(test[c], prefix=c)\n",
    "    test.drop(c, axis=1, inplace=True)\n",
    "    test = pd.concat([test, temp], axis=1)\n",
    "    "
   ]
  },
  {
   "cell_type": "code",
   "execution_count": 10,
   "metadata": {},
   "outputs": [],
   "source": [
    "for c in categoricals:\n",
    "    temp = pd.get_dummies(data[c], prefix=c).drop(c+'_0', axis=1) # 무응답 제거\n",
    "    data.drop(c, axis=1, inplace=True)\n",
    "    data = pd.concat([data, temp], axis=1)\n",
    "    \n",
    "    temp = pd.get_dummies(test[c], prefix=c).drop(c+'_0', axis=1)\n",
    "    test.drop(c, axis=1, inplace=True)\n",
    "    test = pd.concat([test, temp], axis=1)\n"
   ]
  },
  {
   "cell_type": "code",
   "execution_count": 11,
   "metadata": {},
   "outputs": [],
   "source": [
    "data['score_mean'] = data[QAs].mean(axis = 1)\n",
    "test['score_mean'] = test[QAs].mean(axis = 1)"
   ]
  },
  {
   "cell_type": "code",
   "execution_count": 12,
   "metadata": {},
   "outputs": [],
   "source": [
    "flipping_columns = [\"QeA\", \"QfA\", \"QkA\", \"QqA\", \"QrA\"]\n",
    "for flip in flipping_columns: \n",
    "    data[flip] = 6 - data[flip]\n",
    "    test[flip] = 6 - test[flip]\n",
    "    \n",
    "flipping_secret_columns = [\"QaA\", \"QdA\", \"QgA\", \"QiA\", \"QnA\"]\n",
    "for flip in flipping_secret_columns: \n",
    "    data[flip] = 6 - data[flip]\n",
    "    test[flip] = 6 - test[flip]"
   ]
  },
  {
   "cell_type": "code",
   "execution_count": 13,
   "metadata": {},
   "outputs": [],
   "source": [
    "data['Mach_score'] = data[QAs].mean(axis = 1)\n",
    "test['Mach_score'] = test[QAs].mean(axis = 1)"
   ]
  },
  {
   "cell_type": "code",
   "execution_count": 14,
   "metadata": {},
   "outputs": [],
   "source": [
    "data['tps'] = np.mean(data[tps], axis=1)\n",
    "test['tps'] = np.mean(test[tps], axis=1)"
   ]
  },
  {
   "cell_type": "code",
   "execution_count": 15,
   "metadata": {},
   "outputs": [],
   "source": [
    "data['Extraversion'] = data['tp01'] + 8-data['tp06']\n",
    "data['notAgreeableness'] = data['tp02'] + 8-data['tp07']\n",
    "data['Conscientiousness'] = data['tp03'] + 8-data['tp08']\n",
    "data['notStability'] = data['tp04'] + 8-data['tp09']\n",
    "data['Openness'] = data['tp05'] + 8-data['tp10']\n",
    "\n",
    "test['Extraversion'] = test['tp01'] + 8-test['tp06']\n",
    "test['notAgreeableness'] = test['tp02'] + 8-test['tp07']\n",
    "test['Conscientiousness'] = test['tp03'] + 8-test['tp08']\n",
    "test['notStability'] = test['tp04'] + 8-test['tp09']\n",
    "test['Openness'] = test['tp05'] + 8-test['tp10']\n",
    "\n",
    "personal_cols = ['Extraversion', 'notAgreeableness', 'Conscientiousness', 'notStability', 'Openness']"
   ]
  },
  {
   "cell_type": "code",
   "execution_count": 16,
   "metadata": {},
   "outputs": [],
   "source": [
    "for c in QAs + ['Mach_score', 'score_mean']:\n",
    "    data[c] = data[c]/5\n",
    "    test[c] = test[c]/5\n",
    "    "
   ]
  },
  {
   "cell_type": "code",
   "execution_count": 17,
   "metadata": {},
   "outputs": [],
   "source": [
    "for c in tps+['tps']:\n",
    "    data[c] = data[c]/7\n",
    "    test[c] = test[c]/7"
   ]
  },
  {
   "cell_type": "code",
   "execution_count": 18,
   "metadata": {},
   "outputs": [],
   "source": [
    "for c in personal_cols:\n",
    "    data[c] = data[c] / 14\n",
    "    test[c] = test[c] / 14"
   ]
  },
  {
   "cell_type": "code",
   "execution_count": 19,
   "metadata": {},
   "outputs": [],
   "source": [
    "# lgbm에서만 사용하고 다른 모형에서는 사용하지 않음\n",
    "\n",
    "# data = data.drop(QEs, axis=1)\n",
    "# test = test.drop(QEs, axis=1)\n",
    "\n",
    "# data = data.drop(wrs+wfs, axis=1)\n",
    "# test = test.drop(wrs+wfs, axis=1)"
   ]
  },
  {
   "cell_type": "code",
   "execution_count": 20,
   "metadata": {},
   "outputs": [
    {
     "data": {
      "text/plain": [
       "((45532, 118), (11383, 118))"
      ]
     },
     "execution_count": 20,
     "metadata": {},
     "output_type": "execute_result"
    }
   ],
   "source": [
    "data.shape, test.shape"
   ]
  },
  {
   "cell_type": "code",
   "execution_count": 21,
   "metadata": {},
   "outputs": [],
   "source": [
    "# lgbm을 위한 전처리\n",
    "# 다른 모형에는 해당부분을 사용하지 않았습니다.\n",
    "\n",
    "data[QEs] = np.log1p(data[QEs])\n",
    "test[QEs] = np.log1p(test[QEs])\n",
    "\n",
    "sc = StandardScaler()\n",
    "sc.fit(data[QEs])\n",
    "\n",
    "data[QEs] = sc.transform(data[QEs])\n",
    "test[QEs] = sc.transform(test[QEs])\n"
   ]
  },
  {
   "cell_type": "code",
   "execution_count": 22,
   "metadata": {},
   "outputs": [],
   "source": [
    "from sklearn.model_selection import StratifiedKFold\n"
   ]
  },
  {
   "cell_type": "code",
   "execution_count": 23,
   "metadata": {},
   "outputs": [
    {
     "name": "stdout",
     "output_type": "stream",
     "text": [
      "training model for CV #1\n",
      "training model for CV #2\n",
      "training model for CV #3\n",
      "training model for CV #4\n",
      "training model for CV #5\n",
      "0.765750074007485\n"
     ]
    }
   ],
   "source": [
    "# lgbm은 특별한 파라미터 최적화 없이 진행\n",
    "# 막판에 앙상블 다양성을 위해서 진행하여서 깊이 처리하지 못하였습니다.\n",
    "\n",
    "n_fold = 5\n",
    "cv = StratifiedKFold(n_splits=n_fold, shuffle=True, random_state=SEED)\n",
    "\n",
    "p_val = np.zeros((data.shape[0], 1))\n",
    "p_tst = np.zeros((test.shape[0], 1))\n",
    "for i, (i_trn, i_val) in enumerate(cv.split(data, target), 1):\n",
    "    print(f'training model for CV #{i}')\n",
    "    clf = lgb.LGBMClassifier(random_state=SEED)\n",
    "    clf.fit(data.iloc[i_trn], target[i_trn])\n",
    "    \n",
    "    p_val[i_val, :] = clf.predict_proba(data.iloc[i_val])[:,1].reshape(-1, 1)\n",
    "    p_tst += clf.predict_proba(test)[:,1].reshape(-1, 1) / n_fold\n",
    "print(roc_auc_score(target, p_val))"
   ]
  },
  {
   "cell_type": "code",
   "execution_count": null,
   "metadata": {},
   "outputs": [],
   "source": []
  },
  {
   "cell_type": "code",
   "execution_count": 24,
   "metadata": {},
   "outputs": [],
   "source": [
    "def get_model():\n",
    "    model = Sequential()\n",
    "    model.add(Dense(128, activation=mish, kernel_initializer='he_normal'))\n",
    "    model.add(Dense(64, activation=mish, kernel_initializer='he_normal'))\n",
    "    model.add(Dense(1, activation='sigmoid', kernel_initializer='he_normal'))\n",
    "\n",
    "    model.compile(loss='binary_crossentropy', optimizer=optimizers.Adam(lr=1e-4))\n",
    "    return model\n",
    "\n",
    "def Denseblock(n, activation=mish, bn=False):\n",
    "    def f(x):\n",
    "        x = Dense(n, kernel_initializer='he_normal')(x)\n",
    "        if bn:\n",
    "            x = BatchNormalization()(x)\n",
    "        x = Activation(activation)(x)\n",
    "        return x\n",
    "    return f"
   ]
  },
  {
   "cell_type": "code",
   "execution_count": 25,
   "metadata": {},
   "outputs": [],
   "source": [
    "class GAN:\n",
    "    def __init__(self, y_shape, x_shape): # latent = c_shape\n",
    "        # data structure\n",
    "        self.y_shape = y_shape\n",
    "        self.x_shape = x_shape\n",
    "        \n",
    "        self.score = 0\n",
    "        self.mapes = []\n",
    "        self.maes = []\n",
    "        \n",
    "        # build model\n",
    "        self.gen = self.build_generator()\n",
    "        self.disc = self.build_discriminator()\n",
    "        \n",
    "        inputs_x = Input(shape = self.x_shape[1:])\n",
    "        inputs_y = Input(shape = self.y_shape[1:])\n",
    "        \n",
    "        pred_y = self.gen(inputs_x)\n",
    "\n",
    "        self.disc.compile(optimizer=RMSprop(2e-4), loss='mse')\n",
    "        self.disc.trainable = False\n",
    "\n",
    "        valid = self.disc([inputs_x, pred_y])\n",
    "        \n",
    "        self.gan = Model([inputs_x, inputs_y], [valid, pred_y], name='GAN')\n",
    "        self.gan.compile(optimizer=RMSprop(1e-4), loss=['mse']+['binary_crossentropy'], loss_weights=[1, 100])\n",
    "        \n",
    "    \n",
    "    def build_generator(self):\n",
    "        inputs = Input(shape = self.x_shape[1:])\n",
    "        \n",
    "        x = Denseblock(128)(inputs)\n",
    "        x = Denseblock(64)(x)\n",
    "\n",
    "        outputs = Dense(self.y_shape[1], activation='sigmoid', kernel_initializer='he_normal')(x)\n",
    "        \n",
    "        gen = Model(inputs, outputs, name='generator')\n",
    "        \n",
    "        return gen\n",
    "    \n",
    "    def build_discriminator(self):\n",
    "        inputs_y = Input(shape = self.y_shape[1:])\n",
    "        inputs_x = Input(shape = self.x_shape[1:])\n",
    "        \n",
    "        inputs = Concatenate()([inputs_x, inputs_y])\n",
    "        \n",
    "        x = Denseblock(64)(inputs)\n",
    "        x = Denseblock(32)(x)\n",
    "        \n",
    "        outputs = Dense(1, activation='sigmoid', kernel_initializer='he_normal')(x) # , activation='sigmoid'\n",
    "        \n",
    "        disc = Model([inputs_x, inputs_y], outputs, name='discriminator')\n",
    "        \n",
    "        return disc\n",
    "\n",
    "    def train(self, x, y, epochs=10, batch_size=128):\n",
    "        X = x.copy()\n",
    "        Y = y.copy()\n",
    "\n",
    "        n_ = self.y_shape[0]//batch_size\n",
    "        \n",
    "        for e in range(epochs):\n",
    "            kf = KFold(n_, shuffle=True)\n",
    "            tot_disc_loss = 0\n",
    "            tot_gan_loss = 0\n",
    "            tot_mse_loss = 0\n",
    "            for _, idx in kf.split(x):\n",
    "                real_label = np.zeros((len(idx), 1))\n",
    "                fake_label = np.ones((len(idx), 1))\n",
    "                train_x = x[idx]\n",
    "                train_y = y[idx]\n",
    "\n",
    "                fake = self.gen.predict(train_x)\n",
    "\n",
    "                # train discriminator\n",
    "                d_loss_real = self.disc.train_on_batch([train_x, train_y], real_label)\n",
    "                d_loss_fake = self.disc.train_on_batch([train_x, fake], fake_label)\n",
    "                d_loss = 0.5*np.add(d_loss_fake, d_loss_real)\n",
    "\n",
    "                # train generator\n",
    "                g_loss = self.gan.train_on_batch([train_x, train_y], [real_label] + [train_y])\n",
    "                \n",
    "                tot_disc_loss += d_loss\n",
    "                tot_gan_loss += g_loss[1]\n",
    "                tot_mse_loss += g_loss[2]\n",
    "                \n",
    "            print(f'iter:{e}')\n",
    "            print(f'|disc_loss: {round(d_loss, 3)}, |gan_loss:, {round(g_loss[1], 3)} |mse_loss: {round(g_loss[2], 3)}')\n",
    "            \n",
    "            score = roc_auc_score(val_y, self.gen.predict(val_X))\n",
    "            print('score:', score)\n",
    "            if self.score < score:\n",
    "                self.score = score\n",
    "                self.best_weights = self.gan.get_weights()\n",
    "\n",
    "        self.gan.set_weights(self.best_weights)\n"
   ]
  },
  {
   "cell_type": "code",
   "execution_count": 26,
   "metadata": {},
   "outputs": [],
   "source": [
    "# n_fold = 5\n",
    "# cv = StratifiedKFold(n_splits=n_fold, shuffle=True, random_state=SEED)\n",
    "\n",
    "# p_val = np.zeros((data.shape[0], 1))\n",
    "# p_tst = np.zeros((test.shape[0], 1))\n",
    "# for i, (i_trn, i_val) in enumerate(cv.split(data, target), 1):\n",
    "#     tr_X, tr_y = data.iloc[i_trn].values, target[i_trn]\n",
    "#     val_X, val_y = data.iloc[i_val].values, target[i_val]\n",
    "#     print(f'# training model for CV #{i}')\n",
    "#     print('## Pretraining...')\n",
    "#     model = get_model()\n",
    "#     model.fit(data.iloc[i_trn].values, target[i_trn],\n",
    "#              epochs=100,\n",
    "#              validation_data=(data.iloc[i_val].values, target[i_val]),\n",
    "#              callbacks=[es],\n",
    "#              verbose=2)\n",
    "#     print(roc_auc_score(val_y, model.predict(val_X)))\n",
    "#     print('## Finish pretraining...')\n",
    "#     gan = GAN(target.shape+(1,), data.shape)\n",
    "#     gan.gen.set_weights(model.get_weights())\n",
    "#     gan.train(data.iloc[i_trn].values, target[i_trn], epochs=50)\n",
    "    \n",
    "#     p_val[i_val, :] = gan.gen.predict(data.iloc[i_val].values)\n",
    "#     p_tst += gan.gen.predict(test.values) / n_fold\n",
    "#     print()\n",
    "# print(roc_auc_score(target, p_val))"
   ]
  },
  {
   "cell_type": "code",
   "execution_count": 27,
   "metadata": {},
   "outputs": [],
   "source": [
    "# sub['voted'] = p_tst\n",
    "# sub"
   ]
  },
  {
   "cell_type": "code",
   "execution_count": 28,
   "metadata": {},
   "outputs": [],
   "source": [
    "# sub.to_csv('./sub/submission.csv')"
   ]
  },
  {
   "cell_type": "code",
   "execution_count": null,
   "metadata": {},
   "outputs": [],
   "source": []
  },
  {
   "cell_type": "code",
   "execution_count": 29,
   "metadata": {},
   "outputs": [],
   "source": [
    "# blending 추가"
   ]
  },
  {
   "cell_type": "code",
   "execution_count": 30,
   "metadata": {},
   "outputs": [],
   "source": [
    "LABELS = [\"voted\"]\n",
    "all_files = glob.glob(\"blend/*.csv\")\n",
    "scores = np.zeros(len(all_files))\n",
    "for i in range(len(all_files)):\n",
    "    scores[i] = float('.'+all_files[i].split(\".\")[1])"
   ]
  },
  {
   "cell_type": "code",
   "execution_count": 31,
   "metadata": {},
   "outputs": [
    {
     "name": "stdout",
     "output_type": "stream",
     "text": [
      "0 0.7805291062 blend\\lgb_5fold\n",
      "1 0.7820616193 blend\\102_gan1\n",
      "2 0.7821643981 blend\\98_gan_10fold1\n",
      "3 0.7823791236 blend\\102_gan_10fold1\n",
      "4 0.782862618 blend\\98_gan_fold1\n",
      "5 0.7836439937 blend\\102_gan_fold1\n"
     ]
    }
   ],
   "source": [
    "# PB스코어를 참조하여 가중합한 것이 결과는 더 좋으나 과적합방지를 위해서 아래방법으로만 결과를 합하여 최종 제출파일을 만들었습니다.\n",
    "# fold에 값이 안써있으면 5fold입니다.\n",
    "# fold가 아닌 결과는 15%로 validation set을 분리한 결과입니다.\n",
    "\n",
    "top = scores.argsort()\n",
    "for i, f in enumerate(top):\n",
    "    print(i,scores[f],all_files[f].split('.')[0][:-2])"
   ]
  },
  {
   "cell_type": "code",
   "execution_count": 32,
   "metadata": {},
   "outputs": [],
   "source": [
    "outs = [pd.read_csv(all_files[f], index_col=0) for f in top]\n",
    "concat_sub = pd.concat(outs, axis=1)\n",
    "cols = list(map(lambda x: \"m\" + str(x), range(len(concat_sub.columns))))\n",
    "concat_sub.columns = cols"
   ]
  },
  {
   "cell_type": "code",
   "execution_count": 33,
   "metadata": {},
   "outputs": [
    {
     "data": {
      "image/png": "[encoded data removed]",
      "text/plain": [
       "<Figure size 576x576 with 2 Axes>"
      ]
     },
     "metadata": {
      "needs_background": "light"
     },
     "output_type": "display_data"
    }
   ],
   "source": [
    "corr = concat_sub.corr()\n",
    "mask = np.zeros_like(corr, dtype=np.bool)\n",
    "mask[np.triu_indices_from(mask)] = True\n",
    "\n",
    "f, ax = plt.subplots(figsize=(len(cols)+2, len(cols)+2))\n",
    "\n",
    "_ = sns.heatmap(corr,mask=mask,cmap='prism',center=0, linewidths=1,\n",
    "                annot=True,fmt='.4f', cbar_kws={\"shrink\":.2})"
   ]
  },
  {
   "cell_type": "code",
   "execution_count": 34,
   "metadata": {},
   "outputs": [
    {
     "data": {
      "text/plain": [
       "m0    0.978687\n",
       "m1    0.986487\n",
       "m5    0.989304\n",
       "m4    0.989674\n",
       "m2    0.991763\n",
       "m3    0.991968\n",
       "dtype: float64"
      ]
     },
     "execution_count": 34,
     "metadata": {},
     "output_type": "execute_result"
    }
   ],
   "source": [
    "mean_corr = corr.mean()\n",
    "mean_corr = mean_corr.sort_values(ascending=True)\n",
    "mean_corr"
   ]
  },
  {
   "cell_type": "code",
   "execution_count": 35,
   "metadata": {},
   "outputs": [],
   "source": [
    "m_gmean = 0\n",
    "for n in mean_corr.index:\n",
    "    m_gmean += np.log(concat_sub[n])\n",
    "m_gmean = np.exp(m_gmean/len(mean_corr))"
   ]
  },
  {
   "cell_type": "code",
   "execution_count": 36,
   "metadata": {},
   "outputs": [
    {
     "data": {
      "text/plain": [
       "<matplotlib.axes._subplots.AxesSubplot at 0x17a34cfda08>"
      ]
     },
     "execution_count": 36,
     "metadata": {},
     "output_type": "execute_result"
    },
    {
     "data": {
      "image/png": "[encoded data removed]",
      "text/plain": [
       "<Figure size 432x288 with 1 Axes>"
      ]
     },
     "metadata": {
      "needs_background": "light"
     },
     "output_type": "display_data"
    }
   ],
   "source": [
    "sns.distplot(m_gmean.values)"
   ]
  },
  {
   "cell_type": "code",
   "execution_count": 37,
   "metadata": {},
   "outputs": [
    {
     "data": {
      "text/html": [
       "<div>\n",
       "<style scoped>\n",
       "    .dataframe tbody tr th:only-of-type {\n",
       "        vertical-align: middle;\n",
       "    }\n",
       "\n",
       "    .dataframe tbody tr th {\n",
       "        vertical-align: top;\n",
       "    }\n",
       "\n",
       "    .dataframe thead th {\n",
       "        text-align: right;\n",
       "    }\n",
       "</style>\n",
       "<table border=\"1\" class=\"dataframe\">\n",
       "  <thead>\n",
       "    <tr style=\"text-align: right;\">\n",
       "      <th></th>\n",
       "      <th>voted</th>\n",
       "    </tr>\n",
       "    <tr>\n",
       "      <th>index</th>\n",
       "      <th></th>\n",
       "    </tr>\n",
       "  </thead>\n",
       "  <tbody>\n",
       "    <tr>\n",
       "      <th>0</th>\n",
       "      <td>0.593534</td>\n",
       "    </tr>\n",
       "    <tr>\n",
       "      <th>1</th>\n",
       "      <td>0.931930</td>\n",
       "    </tr>\n",
       "    <tr>\n",
       "      <th>2</th>\n",
       "      <td>0.584441</td>\n",
       "    </tr>\n",
       "    <tr>\n",
       "      <th>3</th>\n",
       "      <td>0.180959</td>\n",
       "    </tr>\n",
       "    <tr>\n",
       "      <th>4</th>\n",
       "      <td>0.737928</td>\n",
       "    </tr>\n",
       "  </tbody>\n",
       "</table>\n",
       "</div>"
      ],
      "text/plain": [
       "          voted\n",
       "index          \n",
       "0      0.593534\n",
       "1      0.931930\n",
       "2      0.584441\n",
       "3      0.180959\n",
       "4      0.737928"
      ]
     },
     "execution_count": 37,
     "metadata": {},
     "output_type": "execute_result"
    }
   ],
   "source": [
    "sub['voted'] = m_gmean.values\n",
    "sub.head()"
   ]
  },
  {
   "cell_type": "code",
   "execution_count": 38,
   "metadata": {},
   "outputs": [],
   "source": [
    "# sub.to_csv('./sub/gmean.csv')"
   ]
  }
 ],
 "metadata": {
  "kernelspec": {
   "display_name": "Python 3",
   "language": "python",
   "name": "python3"
  },
  "language_info": {
   "codemirror_mode": {
    "name": "ipython",
    "version": 3
   },
   "file_extension": ".py",
   "mimetype": "text/x-python",
   "name": "python",
   "nbconvert_exporter": "python",
   "pygments_lexer": "ipython3",
   "version": "3.7.7"
  },
  "toc": {
   "base_numbering": 1,
   "nav_menu": {},
   "number_sections": true,
   "sideBar": true,
   "skip_h1_title": false,
   "title_cell": "Table of Contents",
   "title_sidebar": "Contents",
   "toc_cell": false,
   "toc_position": {},
   "toc_section_display": true,
   "toc_window_display": false
  }
 },
 "nbformat": 4,
 "nbformat_minor": 4
}
