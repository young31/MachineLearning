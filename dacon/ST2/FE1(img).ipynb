{
 "cells": [
  {
   "cell_type": "code",
   "execution_count": null,
   "metadata": {},
   "outputs": [],
   "source": [
    "import pandas as pd\n",
    "import numpy as np\n",
    "import pickle as pk\n",
    "import seaborn as sns\n",
    "from collections import deque\n",
    "import os\n",
    "import gc\n",
    "import warnings\n",
    "from tqdm import tqdm\n",
    "import matplotlib.pyplot as plt\n",
    "from collections import deque\n",
    "\n",
    "warnings.filterwarnings('ignore')"
   ]
  },
  {
   "cell_type": "code",
   "execution_count": null,
   "metadata": {},
   "outputs": [],
   "source": [
    "from sklearn.cluster import KMeans\n",
    "from sklearn.metrics import silhouette_score"
   ]
  },
  {
   "cell_type": "code",
   "execution_count": null,
   "metadata": {},
   "outputs": [],
   "source": [
    "%%time\n",
    "# data load\n",
    "f = open('./data/train.bin', 'rb')\n",
    "tr = pk.load(f)\n",
    "f.close\n",
    "f = open('./data/test.bin', 'rb')\n",
    "te = pk.load(f)\n",
    "f.close()\n",
    "sub = pd.read_csv('./data/sample_submission.csv')\n",
    "\n",
    "tr['event_contents'] = tr['event_contents'].replace(np.nan, 'NA')\n",
    "te['event_contents'] = te['event_contents'].replace(np.nan, 'NA')\n",
    "\n",
    "target = tr.groupby('game_id').mean()['winner']\n"
   ]
  },
  {
   "cell_type": "code",
   "execution_count": null,
   "metadata": {},
   "outputs": [],
   "source": [
    "tr_n = np.unique(tr['game_id'])\n",
    "te_n = np.unique(te['game_id'])\n",
    "temp_tr = tr[tr['event'] == 0]\n",
    "temp_te = te[te['event'] == 0]\n",
    "\n",
    "test = tr[tr['event'] == 2]\n",
    "\n",
    "# match = []\n",
    "# for i in range(len(tr_j)):\n",
    "#     if tr_j['p1'].values[i] == tr_j['p2'].values[i] == 0:\n",
    "#          match.append(0)\n",
    "#     elif tr_j['p1'].values[i] == 0 and tr_j['p2'].values[i] == 1:\n",
    "#         match.append()"
   ]
  },
  {
   "cell_type": "code",
   "execution_count": null,
   "metadata": {
    "scrolled": true
   },
   "outputs": [],
   "source": [
    "%%time\n",
    "\n",
    "hist = [[] for _ in range(len(np.unique(tr['game_id'])))]\n",
    "for i in tqdm(range(len(np.unique(tr['game_id'])))):\n",
    "    temp = []\n",
    "    targ = test[test['game_id'] == i]\n",
    "    for j in range(len(targ)):\n",
    "        tar = targ['event_contents'].values[j]\n",
    "        if 'at' == tar[0:2]:\n",
    "            idx = targ['game_id'].values[j]\n",
    "            x = tar.replace(' ', '').split('at')\n",
    "            x = x[1:][0]\n",
    "            x = x.split(',')\n",
    "            x1 = x[0][1:]\n",
    "            x2 = x[1][0:-1]\n",
    "            temp.append((targ['player'].values[j], float(x1), float(x2)))\n",
    "    hist[i] = temp\n",
    "#     if len(temp) >= 2:\n",
    "#         hist[i] = silhouette_score(temp, KMeans(2).fit_predict(temp))\n",
    "#         pl_hist.append(test['player'].values[i])\n",
    "#         if 'Location' == tar[0:len('Location')]:\n",
    "#             x = tar.replace(' ', '').split('Location')\n",
    "#             x = x[1:][0]\n",
    "#             x = x.split(',')\n",
    "#             x1 = x[0][2:]\n",
    "#             x2 = x[1][0:-2]\n",
    "#             hist.append((x1, x2))\n",
    "#             pl_hist.append(temp_tr['player'].values[i])"
   ]
  },
  {
   "cell_type": "code",
   "execution_count": null,
   "metadata": {},
   "outputs": [],
   "source": [
    "for i in range(38000):\n",
    "    temp = tr[tr['game_id'] == i]\n",
    "    hist = []\n",
    "    for i in range(len(temp)):\n",
    "        tar = temp['event_contents'].values[i]\n",
    "#         if 'at' == tar[0:2]:\n",
    "#             x = tar.replace(' ', '').split('at')\n",
    "#             x = x[1:][0]\n",
    "#             x = x.split(',')\n",
    "#             x1 = x[0][1:]\n",
    "#             x2 = x[1][0:-1]\n",
    "#             hist.append((temp['player'].values[i], x1, x2))\n",
    "        if 'Location' == tar[0:len('Location')]:\n",
    "            x = tar.replace(' ', '').split('Location')\n",
    "            x = x[1:][0]\n",
    "            x = x.split(',')\n",
    "            x1 = x[0][2:]\n",
    "            x2 = x[1][0:-2]\n",
    "            hist.append((temp['player'].values[i], x1, x2))\n",
    "\n",
    "    mapp = np.zeros((200, 200))\n",
    "\n",
    "    for item in hist:\n",
    "        a, b, c = item\n",
    "        b = round(float(b))\n",
    "        c = round(float(c))\n",
    "\n",
    "        if a == 0:\n",
    "            mapp[b, c] = 1\n",
    "        else:\n",
    "            mapp[b, c] = -1\n",
    "    print(target.values[i])\n",
    "    plt.imshow(mapp, cmap='hot', interpolation=\"nearest\")\n",
    "    plt.show()"
   ]
  },
  {
   "cell_type": "code",
   "execution_count": null,
   "metadata": {},
   "outputs": [],
   "source": [
    "tr"
   ]
  }
 ],
 "metadata": {
  "kernelspec": {
   "display_name": "Python 3",
   "language": "python",
   "name": "python3"
  },
  "language_info": {
   "codemirror_mode": {
    "name": "ipython",
    "version": 3
   },
   "file_extension": ".py",
   "mimetype": "text/x-python",
   "name": "python",
   "nbconvert_exporter": "python",
   "pygments_lexer": "ipython3",
   "version": "3.7.4"
  },
  "toc": {
   "base_numbering": 1,
   "nav_menu": {},
   "number_sections": true,
   "sideBar": true,
   "skip_h1_title": false,
   "title_cell": "Table of Contents",
   "title_sidebar": "Contents",
   "toc_cell": false,
   "toc_position": {},
   "toc_section_display": true,
   "toc_window_display": false
  }
 },
 "nbformat": 4,
 "nbformat_minor": 2
}
