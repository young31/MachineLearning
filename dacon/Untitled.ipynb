{
 "cells": [
  {
   "cell_type": "code",
   "execution_count": 3,
   "metadata": {},
   "outputs": [],
   "source": [
    "import keras \n",
    "from keras import layers, models\n",
    "from keras.layers import Dense, Input"
   ]
  },
  {
   "cell_type": "code",
   "execution_count": 11,
   "metadata": {},
   "outputs": [],
   "source": [
    "i1 = layers.Input(shape = (53, ))\n",
    "i2 = layers.Input(shape = (19, ))\n",
    "\n",
    "x1 = Dense(16, name='i1')(i1)\n",
    "x1 = Dense(16, name='i1_1')(x1)\n",
    "\n",
    "x2 = Dense(15, name='i2')(i2)\n",
    "\n",
    "x = layers.Concatenate()([x1, x2])\n",
    "\n",
    "x = Dense(1)(x)\n",
    "\n",
    "m = models.Model([i1, i2], x)"
   ]
  },
  {
   "cell_type": "code",
   "execution_count": 23,
   "metadata": {},
   "outputs": [
    {
     "name": "stdout",
     "output_type": "stream",
     "text": [
      "input_7\n",
      "i1\n",
      "input_8\n",
      "i1_1\n",
      "i2\n",
      "concatenate_4\n",
      "dense_3\n"
     ]
    }
   ],
   "source": [
    "for c in m.layers:\n",
    "    print(c.name)"
   ]
  },
  {
   "cell_type": "code",
   "execution_count": 22,
   "metadata": {},
   "outputs": [
    {
     "data": {
      "text/plain": [
       "'dense_3'"
      ]
     },
     "execution_count": 22,
     "metadata": {},
     "output_type": "execute_result"
    }
   ],
   "source": []
  }
 ],
 "metadata": {
  "kernelspec": {
   "display_name": "Python 3.7.4 64-bit ('study': conda)",
   "language": "python",
   "name": "python37464bitstudyconda9491520e47ee471b944cef9229954ebc"
  },
  "language_info": {
   "codemirror_mode": {
    "name": "ipython",
    "version": 3
   },
   "file_extension": ".py",
   "mimetype": "text/x-python",
   "name": "python",
   "nbconvert_exporter": "python",
   "pygments_lexer": "ipython3",
   "version": "3.7.4"
  },
  "toc": {
   "base_numbering": 1,
   "nav_menu": {},
   "number_sections": true,
   "sideBar": true,
   "skip_h1_title": false,
   "title_cell": "Table of Contents",
   "title_sidebar": "Contents",
   "toc_cell": false,
   "toc_position": {},
   "toc_section_display": true,
   "toc_window_display": false
  }
 },
 "nbformat": 4,
 "nbformat_minor": 2
}
