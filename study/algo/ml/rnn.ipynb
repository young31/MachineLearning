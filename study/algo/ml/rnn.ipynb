{
 "cells": [
  {
   "cell_type": "code",
   "execution_count": 1,
   "metadata": {},
   "outputs": [
    {
     "name": "stderr",
     "output_type": "stream",
     "text": [
      "Using TensorFlow backend.\n"
     ]
    }
   ],
   "source": [
    "from sklearn.datasets import load_boston\n",
    "import numpy as np\n",
    "import keras\n",
    "from keras import models, layers\n",
    "from keras.callbacks import EarlyStopping\n",
    "import tensorflow as tf\n",
    "\n",
    "d = load_boston()"
   ]
  },
  {
   "cell_type": "code",
   "execution_count": 2,
   "metadata": {},
   "outputs": [
    {
     "data": {
      "text/plain": [
       "(506, 13)"
      ]
     },
     "execution_count": 2,
     "metadata": {},
     "output_type": "execute_result"
    }
   ],
   "source": [
    "d.data.shape"
   ]
  },
  {
   "cell_type": "code",
   "execution_count": 117,
   "metadata": {},
   "outputs": [],
   "source": [
    "data = d.data\n",
    "temp_data = (data - np.mean(data))/np.std(data)\n",
    "target = d.target\n",
    "target = (target - np.mean(target))/np.std(target)"
   ]
  },
  {
   "cell_type": "code",
   "execution_count": 118,
   "metadata": {},
   "outputs": [],
   "source": [
    "data = []\n",
    "lags = 10\n",
    "\n",
    "for i in range(lags, len(temp_data)):\n",
    "    temp = temp_data[max(0, i-lags):i]\n",
    "    data.append(temp)\n",
    "    \n",
    "data = np.array(data)"
   ]
  },
  {
   "cell_type": "code",
   "execution_count": 120,
   "metadata": {
    "scrolled": true
   },
   "outputs": [
    {
     "data": {
      "text/plain": [
       "array([[-0.48270736, -0.35874599, -0.46683694, -0.4827509 , -0.47904453,\n",
       "        -0.43745466, -0.03357755, -0.45457423, -0.47586174,  1.55644101,\n",
       "        -0.37734672,  2.25155744, -0.44844287],\n",
       "       [-0.48256276, -0.4827509 , -0.43404453, -0.4827509 , -0.47951988,\n",
       "        -0.43851559,  0.06080397, -0.44853174, -0.46897258,  1.18442627,\n",
       "        -0.36012382,  2.25155744, -0.41978396],\n",
       "       [-0.4825629 , -0.4827509 , -0.43404453, -0.4827509 , -0.47951988,\n",
       "        -0.43325227, -0.06182311, -0.44853174, -0.46897258,  1.18442627,\n",
       "        -0.36012382,  2.22351855, -0.45498758],\n",
       "       [-0.4825279 , -0.4827509 , -0.46773253, -0.4827509 , -0.47959566,\n",
       "        -0.43454055, -0.16722729, -0.44098742, -0.46208341,  1.04664303,\n",
       "        -0.35392357,  2.23591904, -0.46249676],\n",
       "       [-0.4822752 , -0.4827509 , -0.46773253, -0.4827509 , -0.47959566,\n",
       "        -0.43351406, -0.10935833, -0.44098742, -0.46208341,  1.04664303,\n",
       "        -0.35392357,  2.25155744, -0.44603167],\n",
       "       [-0.48254526, -0.4827509 , -0.46773253, -0.4827509 , -0.47959566,\n",
       "        -0.43845359, -0.0783571 , -0.44098742, -0.46208341,  1.04664303,\n",
       "        -0.35392357,  2.23240557, -0.44685837],\n",
       "       [-0.48214266, -0.39663638, -0.4285332 , -0.4827509 , -0.47914098,\n",
       "        -0.44133326, -0.02393272, -0.44444372, -0.44830509,  1.65977843,\n",
       "        -0.37803564,  2.24260153, -0.39711862],\n",
       "       [-0.48175507, -0.39663638, -0.4285332 , -0.4827509 , -0.47914098,\n",
       "        -0.44023099,  0.17929755, -0.44175694, -0.44830509,  1.65977843,\n",
       "        -0.37803564,  2.25155744, -0.35082345],\n",
       "       [-0.48129563, -0.39663638, -0.4285332 , -0.4827509 , -0.47914098,\n",
       "        -0.44395803,  0.20616528, -0.44085033, -0.44830509,  1.65977843,\n",
       "        -0.37803564,  2.18080574, -0.27655829],\n",
       "       [-0.48157947, -0.39663638, -0.4285332 , -0.4827509 , -0.47914098,\n",
       "        -0.44138837,  0.1090281 , -0.43733686, -0.44830509,  1.65977843,\n",
       "        -0.37803564,  2.18135688, -0.36494623]])"
      ]
     },
     "execution_count": 120,
     "metadata": {},
     "output_type": "execute_result"
    }
   ],
   "source": [
    "data[0]"
   ]
  },
  {
   "cell_type": "code",
   "execution_count": null,
   "metadata": {},
   "outputs": [],
   "source": [
    "np.random.seed(0)\n",
    "w = [0] * 3\n",
    "w[0] = np.random.normal(0, 0.1, (13,2))\n",
    "w[1] = np.random.normal(0, 0.1, 2)\n",
    "w[2] = np.random.normal(0, 0.1, 2)"
   ]
  },
  {
   "cell_type": "code",
   "execution_count": 152,
   "metadata": {},
   "outputs": [],
   "source": [
    "def update(x, y, h, w, lr=0.1):\n",
    "    w_xh = np.zeros_like(w[0])\n",
    "    w_hh = np.zeros_like(w[1])\n",
    "    w_hy = np.zeros_like(w[2])\n",
    "    loss = 0\n",
    "    for i in range(len(x)):\n",
    "        for j in range(len(x[0])-1): \n",
    "            y_hat = np.tanh(x[i][j]@w[0] + h@w[1]) * w[2]\n",
    "            print(y_hat)\n",
    "            print(x[i][j])\n",
    "            np.add(w_xh, x[i][j]* np.tanh(x[i][j]@w[0] + h@w[1])*w[2] * (x[i][j+1]-y_hat))\n",
    "#             w_xh += x[i][j]* np.tanh(x[i][j]@w[0] + h@w[1])*w[2] * (x[i][j+1]-y_hat)\n",
    "            w_hh += h * np.tanh(x[i][j]@w[0] + h*w[1])*w[2] * (x[i][j+1]-y_hat) ## 평가지표를 뭐로 잡고 평가해야되는가?\n",
    "            w_hy += np.tanh(x[i][j]@w[0] + h*w[1]) * (x[i][j+1]-y_hat)\n",
    "            h = x[i][j] @ w[0]\n",
    "        w[0] += w_xh *lr/len(x[i])\n",
    "        w[1] += w_hh *lr/len(x[i])\n",
    "        w[2] += w_hy *lr/len(x[i])\n",
    "        h = x[i][-1] @ w[0]\n",
    "        y_hat = np.tanh(x[i][-1] @ w[0] + h@w[1]) * w[2]\n",
    "        loss += (y[i] - y_hat) ** 2\n",
    "        \n",
    "    return w, h, loss\n",
    "        \n",
    "        \n",
    "    \n",
    "    \n",
    "    "
   ]
  },
  {
   "cell_type": "code",
   "execution_count": 153,
   "metadata": {
    "scrolled": true
   },
   "outputs": [
    {
     "name": "stdout",
     "output_type": "stream",
     "text": [
      "[0.00269089]\n",
      "[-0.48270736 -0.35874599 -0.46683694 -0.4827509  -0.47904453 -0.43745466\n",
      " -0.03357755 -0.45457423 -0.47586174  1.55644101 -0.37734672  2.25155744\n",
      " -0.44844287]\n"
     ]
    },
    {
     "ename": "ValueError",
     "evalue": "non-broadcastable output operand with shape (1,) doesn't match the broadcast shape (13,)",
     "output_type": "error",
     "traceback": [
      "\u001b[1;31m---------------------------------------------------------------------------\u001b[0m",
      "\u001b[1;31mValueError\u001b[0m                                Traceback (most recent call last)",
      "\u001b[1;32m<ipython-input-153-776fb3153d46>\u001b[0m in \u001b[0;36m<module>\u001b[1;34m\u001b[0m\n\u001b[0;32m      9\u001b[0m \u001b[1;33m\u001b[0m\u001b[0m\n\u001b[0;32m     10\u001b[0m \u001b[1;32mfor\u001b[0m \u001b[0mi\u001b[0m \u001b[1;32min\u001b[0m \u001b[0mrange\u001b[0m\u001b[1;33m(\u001b[0m\u001b[1;36m100\u001b[0m\u001b[1;33m)\u001b[0m\u001b[1;33m:\u001b[0m\u001b[1;33m\u001b[0m\u001b[1;33m\u001b[0m\u001b[0m\n\u001b[1;32m---> 11\u001b[1;33m     \u001b[0mw\u001b[0m\u001b[1;33m,\u001b[0m \u001b[0mh\u001b[0m\u001b[1;33m,\u001b[0m \u001b[0mc\u001b[0m \u001b[1;33m=\u001b[0m \u001b[0mupdate\u001b[0m\u001b[1;33m(\u001b[0m\u001b[0mdata\u001b[0m\u001b[1;33m,\u001b[0m \u001b[0mtarget\u001b[0m\u001b[1;33m,\u001b[0m \u001b[0mh\u001b[0m\u001b[1;33m,\u001b[0m \u001b[0mw\u001b[0m\u001b[1;33m,\u001b[0m \u001b[0mlr\u001b[0m \u001b[1;33m=\u001b[0m \u001b[1;36m0.01\u001b[0m\u001b[1;33m)\u001b[0m\u001b[1;33m\u001b[0m\u001b[1;33m\u001b[0m\u001b[0m\n\u001b[0m\u001b[0;32m     12\u001b[0m     \u001b[0mhist\u001b[0m\u001b[1;33m.\u001b[0m\u001b[0mappend\u001b[0m\u001b[1;33m(\u001b[0m\u001b[0mc\u001b[0m\u001b[1;33m)\u001b[0m\u001b[1;33m\u001b[0m\u001b[1;33m\u001b[0m\u001b[0m\n\u001b[0;32m     13\u001b[0m \u001b[1;33m\u001b[0m\u001b[0m\n",
      "\u001b[1;32m<ipython-input-152-8014ad8564fc>\u001b[0m in \u001b[0;36mupdate\u001b[1;34m(x, y, h, w, lr)\u001b[0m\n\u001b[0;32m     11\u001b[0m             \u001b[0mnp\u001b[0m\u001b[1;33m.\u001b[0m\u001b[0madd\u001b[0m\u001b[1;33m(\u001b[0m\u001b[0mw_xh\u001b[0m\u001b[1;33m,\u001b[0m \u001b[0mx\u001b[0m\u001b[1;33m[\u001b[0m\u001b[0mi\u001b[0m\u001b[1;33m]\u001b[0m\u001b[1;33m[\u001b[0m\u001b[0mj\u001b[0m\u001b[1;33m]\u001b[0m\u001b[1;33m*\u001b[0m \u001b[0mnp\u001b[0m\u001b[1;33m.\u001b[0m\u001b[0mtanh\u001b[0m\u001b[1;33m(\u001b[0m\u001b[0mx\u001b[0m\u001b[1;33m[\u001b[0m\u001b[0mi\u001b[0m\u001b[1;33m]\u001b[0m\u001b[1;33m[\u001b[0m\u001b[0mj\u001b[0m\u001b[1;33m]\u001b[0m\u001b[1;33m@\u001b[0m\u001b[0mw\u001b[0m\u001b[1;33m[\u001b[0m\u001b[1;36m0\u001b[0m\u001b[1;33m]\u001b[0m \u001b[1;33m+\u001b[0m \u001b[0mh\u001b[0m\u001b[1;33m@\u001b[0m\u001b[0mw\u001b[0m\u001b[1;33m[\u001b[0m\u001b[1;36m1\u001b[0m\u001b[1;33m]\u001b[0m\u001b[1;33m)\u001b[0m\u001b[1;33m*\u001b[0m\u001b[0mw\u001b[0m\u001b[1;33m[\u001b[0m\u001b[1;36m2\u001b[0m\u001b[1;33m]\u001b[0m \u001b[1;33m*\u001b[0m \u001b[1;33m(\u001b[0m\u001b[0mx\u001b[0m\u001b[1;33m[\u001b[0m\u001b[0mi\u001b[0m\u001b[1;33m]\u001b[0m\u001b[1;33m[\u001b[0m\u001b[0mj\u001b[0m\u001b[1;33m+\u001b[0m\u001b[1;36m1\u001b[0m\u001b[1;33m]\u001b[0m\u001b[1;33m-\u001b[0m\u001b[0my_hat\u001b[0m\u001b[1;33m)\u001b[0m\u001b[1;33m)\u001b[0m\u001b[1;33m\u001b[0m\u001b[1;33m\u001b[0m\u001b[0m\n\u001b[0;32m     12\u001b[0m \u001b[1;31m#             w_xh += x[i][j]* np.tanh(x[i][j]@w[0] + h@w[1])*w[2] * (x[i][j+1]-y_hat)\u001b[0m\u001b[1;33m\u001b[0m\u001b[1;33m\u001b[0m\u001b[1;33m\u001b[0m\u001b[0m\n\u001b[1;32m---> 13\u001b[1;33m             \u001b[0mw_hh\u001b[0m \u001b[1;33m+=\u001b[0m \u001b[0mh\u001b[0m \u001b[1;33m*\u001b[0m \u001b[0mnp\u001b[0m\u001b[1;33m.\u001b[0m\u001b[0mtanh\u001b[0m\u001b[1;33m(\u001b[0m\u001b[0mx\u001b[0m\u001b[1;33m[\u001b[0m\u001b[0mi\u001b[0m\u001b[1;33m]\u001b[0m\u001b[1;33m[\u001b[0m\u001b[0mj\u001b[0m\u001b[1;33m]\u001b[0m\u001b[1;33m@\u001b[0m\u001b[0mw\u001b[0m\u001b[1;33m[\u001b[0m\u001b[1;36m0\u001b[0m\u001b[1;33m]\u001b[0m \u001b[1;33m+\u001b[0m \u001b[0mh\u001b[0m\u001b[1;33m*\u001b[0m\u001b[0mw\u001b[0m\u001b[1;33m[\u001b[0m\u001b[1;36m1\u001b[0m\u001b[1;33m]\u001b[0m\u001b[1;33m)\u001b[0m\u001b[1;33m*\u001b[0m\u001b[0mw\u001b[0m\u001b[1;33m[\u001b[0m\u001b[1;36m2\u001b[0m\u001b[1;33m]\u001b[0m \u001b[1;33m*\u001b[0m \u001b[1;33m(\u001b[0m\u001b[0mx\u001b[0m\u001b[1;33m[\u001b[0m\u001b[0mi\u001b[0m\u001b[1;33m]\u001b[0m\u001b[1;33m[\u001b[0m\u001b[0mj\u001b[0m\u001b[1;33m+\u001b[0m\u001b[1;36m1\u001b[0m\u001b[1;33m]\u001b[0m\u001b[1;33m-\u001b[0m\u001b[0my_hat\u001b[0m\u001b[1;33m)\u001b[0m\u001b[1;33m\u001b[0m\u001b[1;33m\u001b[0m\u001b[0m\n\u001b[0m\u001b[0;32m     14\u001b[0m             \u001b[0mw_hy\u001b[0m \u001b[1;33m+=\u001b[0m \u001b[0mnp\u001b[0m\u001b[1;33m.\u001b[0m\u001b[0mtanh\u001b[0m\u001b[1;33m(\u001b[0m\u001b[0mx\u001b[0m\u001b[1;33m[\u001b[0m\u001b[0mi\u001b[0m\u001b[1;33m]\u001b[0m\u001b[1;33m[\u001b[0m\u001b[0mj\u001b[0m\u001b[1;33m]\u001b[0m\u001b[1;33m@\u001b[0m\u001b[0mw\u001b[0m\u001b[1;33m[\u001b[0m\u001b[1;36m0\u001b[0m\u001b[1;33m]\u001b[0m \u001b[1;33m+\u001b[0m \u001b[0mh\u001b[0m\u001b[1;33m*\u001b[0m\u001b[0mw\u001b[0m\u001b[1;33m[\u001b[0m\u001b[1;36m1\u001b[0m\u001b[1;33m]\u001b[0m\u001b[1;33m)\u001b[0m \u001b[1;33m*\u001b[0m \u001b[1;33m(\u001b[0m\u001b[0mx\u001b[0m\u001b[1;33m[\u001b[0m\u001b[0mi\u001b[0m\u001b[1;33m]\u001b[0m\u001b[1;33m[\u001b[0m\u001b[0mj\u001b[0m\u001b[1;33m+\u001b[0m\u001b[1;36m1\u001b[0m\u001b[1;33m]\u001b[0m\u001b[1;33m-\u001b[0m\u001b[0my_hat\u001b[0m\u001b[1;33m)\u001b[0m\u001b[1;33m\u001b[0m\u001b[1;33m\u001b[0m\u001b[0m\n\u001b[0;32m     15\u001b[0m             \u001b[0mh\u001b[0m \u001b[1;33m=\u001b[0m \u001b[0mx\u001b[0m\u001b[1;33m[\u001b[0m\u001b[0mi\u001b[0m\u001b[1;33m]\u001b[0m\u001b[1;33m[\u001b[0m\u001b[0mj\u001b[0m\u001b[1;33m]\u001b[0m \u001b[1;33m@\u001b[0m \u001b[0mw\u001b[0m\u001b[1;33m[\u001b[0m\u001b[1;36m0\u001b[0m\u001b[1;33m]\u001b[0m\u001b[1;33m\u001b[0m\u001b[1;33m\u001b[0m\u001b[0m\n",
      "\u001b[1;31mValueError\u001b[0m: non-broadcastable output operand with shape (1,) doesn't match the broadcast shape (13,)"
     ]
    }
   ],
   "source": [
    "np.random.seed(0)\n",
    "w = [0] * 3\n",
    "w[0] = np.random.normal(0, 0.1, 13)\n",
    "w[1] = np.random.normal(0, 0.1, 1)\n",
    "w[2] = np.random.normal(0, 0.1, 1)\n",
    "\n",
    "h = np.random.normal(0, 0.1, 1)\n",
    "hist = []\n",
    "\n",
    "for i in range(100):\n",
    "    w, h, c = update(data, target, h, w, lr = 0.01)\n",
    "    hist.append(c)\n",
    "    "
   ]
  },
  {
   "cell_type": "code",
   "execution_count": 114,
   "metadata": {},
   "outputs": [],
   "source": [
    "## 실패작\n",
    "np.random.seed(0)\n",
    "w = [0] * 3\n",
    "w[0] = np.random.normal(0, 0.1, 13)\n",
    "w[1] = np.random.normal(0, 0.1, 1)\n",
    "w[2] = np.random.normal(0, 0.1, 1)\n",
    "\n",
    "h = np.random.normal(0, 0.1, 1)\n",
    "hist = []\n",
    "def update(x, y, h, w, lr=0.01):\n",
    "    z = np.array(list(map(np.tanh, x @ w[0] + h @ w[1])))\n",
    "    \n",
    "    y_hat = z * w[2]\n",
    "    \n",
    "    loss = (y - y_hat).T @ (y - y_hat)\n",
    "    \n",
    "\n",
    "    w_hy2 = z.T @ (y - y_hat)\n",
    "    \n",
    "    w_xh = (x.T @ ((1-z)*(1+z))).reshape((13, 1)) @ np.repeat(w_hy, len(x)).reshape((1,len(x))) @ (y-y_hat)\n",
    "    \n",
    "    w_hh = (np.repeat(h, len(x)).reshape(1,len(x)) @ ((1-z)*(1+z))) @ np.repeat(w_hy, len(x)).reshape((1,len(x))) @ (y-y_hat)\n",
    "                                                                                                                                                                                                                                                                                                                                                                                                                                                                                                                                                                                                                                                                                                                                                                                                                                                                                                                                                                                                                                                                                                                                                                                                                                                                                                                                                                                                                                                                                                                                                   \n",
    "    w[0] += w_hy2 * lr/len(x)\n",
    "    w[1] += w_hh * lr/len(x)\n",
    "    w[2] += w_hy2 * lr/len(x)\n",
    "    \n",
    "    return w, loss\n",
    "    "
   ]
  },
  {
   "cell_type": "code",
   "execution_count": 115,
   "metadata": {
    "scrolled": true
   },
   "outputs": [
    {
     "name": "stdout",
     "output_type": "stream",
     "text": [
      "506.2586347036717\n",
      "506.2431039872506\n",
      "506.2285966972726\n",
      "506.2150378687755\n",
      "506.20235851090246\n",
      "506.19049510219867\n",
      "506.17938913023016\n",
      "506.1689866715205\n",
      "506.159238008171\n",
      "506.1500972778686\n",
      "506.1415221542909\n",
      "506.13347355518454\n",
      "506.12591537565487\n",
      "506.11881424441873\n",
      "506.11213930098495\n",
      "506.105861991906\n",
      "506.0999558844183\n",
      "506.09439649593753\n",
      "506.0891611380111\n",
      "506.0842287734656\n",
      "506.07957988558695\n",
      "506.0751963582877\n",
      "506.0710613663002\n",
      "506.0671592745259\n",
      "506.0634755457476\n",
      "506.0599966559776\n",
      "506.05671001678706\n",
      "506.0536039040134\n",
      "506.0506673922968\n",
      "506.0478902949507\n",
      "506.0452631087067\n",
      "506.04277696292115\n",
      "506.0404235728644\n",
      "506.0381951967458\n",
      "506.0360845961604\n",
      "506.0340849996702\n",
      "506.032190069254\n",
      "506.0303938693898\n",
      "506.0286908385476\n",
      "506.0270757628942\n",
      "506.0255437520263\n",
      "506.0240902165644\n",
      "506.0227108474575\n",
      "506.02140159685274\n",
      "506.02015866040927\n",
      "506.01897846093635\n",
      "506.0178576332461\n",
      "506.01679301012854\n",
      "506.0157816093559\n",
      "506.0148206216333\n",
      "506.0139073994239\n",
      "506.01303944657747\n",
      "506.01221440869955\n",
      "506.01143006420403\n",
      "506.01068431599526\n",
      "506.00997518373254\n",
      "506.0093007966298\n",
      "506.0086593867526\n",
      "506.0080492827726\n",
      "506.0074689041455\n",
      "506.00691675568066\n",
      "506.00639142247456\n",
      "506.005891565179\n",
      "506.0054159155802\n",
      "506.0049632724679\n",
      "506.0045324977698\n",
      "506.0041225129365\n",
      "506.00373229555396\n",
      "506.0033608761741\n",
      "506.0030073353408\n",
      "506.00267080080215\n",
      "506.0023504448961\n",
      "506.0020454820941\n",
      "506.00175516669634\n",
      "506.00147879066526\n",
      "506.00121568158823\n",
      "506.00096520076266\n",
      "506.0007267413929\n",
      "506.0004997268942\n",
      "506.0002836092936\n",
      "506.00007786772517\n",
      "505.99988200701006\n",
      "505.9996955563183\n",
      "505.9995180679055\n",
      "505.9993491159222\n",
      "505.99918829528724\n",
      "505.9990352206261\n",
      "505.99888952526635\n",
      "505.9987508602884\n",
      "505.99861889362796\n",
      "505.99849330922825\n",
      "505.9983738062352\n",
      "505.9982600982389\n",
      "505.9981519125529\n",
      "505.99804898953306\n",
      "505.9979510819325\n",
      "505.997857954289\n",
      "505.997769382345\n",
      "505.9976851524991\n",
      "505.99760506128365\n"
     ]
    }
   ],
   "source": [
    "np.random.seed(0)\n",
    "w = [0] * 3\n",
    "w[0] = np.random.normal(0, 0.1, 13)\n",
    "w[1] = np.random.normal(0, 0.1, 1)\n",
    "w[2] = np.random.normal(0, 0.1, 1)\n",
    "\n",
    "h = np.random.normal(0, 0.1, 1)\n",
    "hist = []\n",
    "\n",
    "w_xh = np.ones_like(w[0])\n",
    "w_hh = np.ones_like(w[1])\n",
    "w_hy = np.ones_like(w[2])\n",
    "\n",
    "for _ in range(100):\n",
    "    w, loss = update(data, target, h, w, lr=0.1)\n",
    "    print(loss)"
   ]
  }
 ],
 "metadata": {
  "kernelspec": {
   "display_name": "Python 3",
   "language": "python",
   "name": "python3"
  },
  "language_info": {
   "codemirror_mode": {
    "name": "ipython",
    "version": 3
   },
   "file_extension": ".py",
   "mimetype": "text/x-python",
   "name": "python",
   "nbconvert_exporter": "python",
   "pygments_lexer": "ipython3",
   "version": "3.7.4"
  },
  "toc": {
   "base_numbering": 1,
   "nav_menu": {},
   "number_sections": true,
   "sideBar": true,
   "skip_h1_title": false,
   "title_cell": "Table of Contents",
   "title_sidebar": "Contents",
   "toc_cell": false,
   "toc_position": {},
   "toc_section_display": true,
   "toc_window_display": false
  }
 },
 "nbformat": 4,
 "nbformat_minor": 2
}
