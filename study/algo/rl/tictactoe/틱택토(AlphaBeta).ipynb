{
 "cells": [
  {
   "cell_type": "code",
   "execution_count": 17,
   "metadata": {},
   "outputs": [],
   "source": [
    "import numpy as np\n",
    "import seaborn as sns\n",
    "from time import time\n",
    "import gc"
   ]
  },
  {
   "cell_type": "code",
   "execution_count": 18,
   "metadata": {},
   "outputs": [],
   "source": [
    "init_state = np.array([\n",
    "    [0, 0, 0],\n",
    "    [0, 0, 0],\n",
    "    [0, 0, 0]\n",
    "])"
   ]
  },
  {
   "cell_type": "code",
   "execution_count": 60,
   "metadata": {},
   "outputs": [],
   "source": [
    "class Game:\n",
    "    def __init__(self, state, FIRST=1):\n",
    "        self.state = state\n",
    "        self.empty = self.make_empty(state)\n",
    "        self.first_player = FIRST\n",
    "        \n",
    "    def make_empty(self, state):\n",
    "        emp = []\n",
    "        for i in range(3):\n",
    "            for j in range(3):\n",
    "                if state[i][j] == 0:\n",
    "                    emp.append(3*i + j)\n",
    "        \n",
    "        return emp\n",
    "    \n",
    "    def is_lose(self):\n",
    "        a = self.next_opp()\n",
    "        \n",
    "        for i in range(3):\n",
    "            if self.state[i][0] == self.state[i][1] == self.state[i][2] == a:\n",
    "                return True\n",
    "            elif self.state[0][i] == self.state[1][i] == self.state[2][i] == a:\n",
    "                return True\n",
    "        if self.state[0][0] == self.state[1][1] == self.state[2][2] == a:\n",
    "            return True\n",
    "        if self.state[0][2] == self.state[1][1] == self.state[2][0] == a:\n",
    "            return True\n",
    "        return 0\n",
    "    \n",
    "#     def is_win(self):       \n",
    "#         a = self.next_opp()\n",
    "#         for i in range(3):\n",
    "#             if self.state[i][0] == self.state[i][1] == self.state[i][2] == a:\n",
    "#                 return True\n",
    "#             elif self.state[0][i] == self.state[1][i] == self.state[2][i] == a:\n",
    "#                 return True\n",
    "#         if self.state[0][0] == self.state[1][1] == self.state[2][2] == a:\n",
    "#             return True\n",
    "#         if self.state[0][2] == self.state[1][1] == self.state[2][0] == a:\n",
    "#             return True\n",
    "        \n",
    "#         return False\n",
    "    \n",
    "    def is_draw(self):\n",
    "        a = self.next_opp()\n",
    "        if self.is_lose():\n",
    "            return 0\n",
    "        if np.all(self.state):\n",
    "            return 1\n",
    "        else:\n",
    "            return 0\n",
    "        \n",
    "    def is_done(self):\n",
    "        if self.is_lose() or self.is_draw():\n",
    "            return 1\n",
    "        else:\n",
    "            return 0\n",
    "        \n",
    "        \n",
    "    def update(self, target):\n",
    "        state = self.state.copy()\n",
    "        x, y = target//3, target%3\n",
    "        a = self.next_opp()\n",
    "        state[x][y] = a\n",
    "        return Game(state)\n",
    "    \n",
    "    \n",
    "    def next_opp(self):\n",
    "        a = b = 0\n",
    "        for i in range(len(self.state)):\n",
    "            for j in range(len(self.state)):\n",
    "                if self.state[i][j] == self.first_player:\n",
    "                    a += 1\n",
    "                elif self.state[i][j] != 0:\n",
    "                    b += 1\n",
    "                    \n",
    "        if a == b:\n",
    "            return self.first_player\n",
    "        else:\n",
    "            return 2 + min(0, 1-self.first_player)"
   ]
  },
  {
   "cell_type": "code",
   "execution_count": 61,
   "metadata": {},
   "outputs": [],
   "source": [
    "class Random:\n",
    "    def action(self, game):\n",
    "        return np.random.choice(game.empty)"
   ]
  },
  {
   "cell_type": "code",
   "execution_count": 73,
   "metadata": {},
   "outputs": [],
   "source": [
    "class Alpha:\n",
    "    def value(self, game, alpha, beta):\n",
    "#         print(game.state)\n",
    "        if game.is_lose():\n",
    "            return -1\n",
    "        \n",
    "        if game.is_draw():\n",
    "            return 0\n",
    "        \n",
    "#         if game.is_win():\n",
    "# #             print(game.state)\n",
    "#             return 1\n",
    "        \n",
    "        \n",
    "        best_score = -float('inf')\n",
    "        score = 0\n",
    "        for a in game.empty:\n",
    "            score -= self.value(game.update(a), beta, alpha)\n",
    "            \n",
    "            if score > alpha:\n",
    "                alpha = score\n",
    "#                 print(score)\n",
    "\n",
    "            if alpha >= beta:\n",
    "                return alpha\n",
    "                \n",
    "        return alpha\n",
    "        \n",
    "    def action(self, game):\n",
    "#         if FIRST == self.status and len(game.empty) == 9:\n",
    "#             return 4\n",
    "        \n",
    "        alpha = -float('inf')\n",
    "        \n",
    "        for a in game.empty:\n",
    "            score = self.value(game.update(a), -float('inf'), alpha)\n",
    "            if score > alpha:\n",
    "                best_action = a\n",
    "                alpha = score\n",
    "#                 print(best_action)\n",
    "        return best_action\n",
    "\n",
    "    "
   ]
  },
  {
   "cell_type": "code",
   "execution_count": 93,
   "metadata": {
    "scrolled": false
   },
   "outputs": [],
   "source": [
    "def play(game, m1, m2):\n",
    "    global score\n",
    "    while 1:\n",
    "        a1 = m1.action(game)\n",
    "        game = game.update(a1)\n",
    "#         print(game.state)\n",
    "        if game.is_lose():\n",
    "            score[0] += 1\n",
    "#             print(game.state)\n",
    "            return \n",
    "        elif game.is_draw():\n",
    "            score[2] += 1\n",
    "#             print(game.state)\n",
    "            return \n",
    "\n",
    "        a2 = m2.action(game)\n",
    "        game = game.update(a2)\n",
    "#         print(game.state)\n",
    "        if game.is_lose():\n",
    "            score[1] += 1\n",
    "#             print(game.state)\n",
    "            return \n",
    "        elif game.is_draw():\n",
    "            score[2] += 1\n",
    "#             print(game.state)\n",
    "            return \n",
    "        "
   ]
  },
  {
   "cell_type": "code",
   "execution_count": 94,
   "metadata": {},
   "outputs": [],
   "source": [
    "# FIRST = 1\n",
    "game = Game(init_state)\n",
    "m1 = Random()\n",
    "m2 = Alpha()"
   ]
  },
  {
   "cell_type": "code",
   "execution_count": 96,
   "metadata": {
    "scrolled": true
   },
   "outputs": [
    {
     "name": "stdout",
     "output_type": "stream",
     "text": [
      "[651, 176, 173]\n",
      "[59, 910, 31]\n",
      "Wall time: 7min 14s\n"
     ]
    }
   ],
   "source": [
    "%%time\n",
    "score = [0, 0, 0]\n",
    "for _ in range(1000):\n",
    "#     print(_)\n",
    "    play(game, m1, m2)\n",
    "    \n",
    "print(score)\n",
    "gc.collect()\n",
    "\n",
    "score = [0, 0, 0]\n",
    "for _ in range(1000):\n",
    "#     print(_)\n",
    "    play(game, m2, m1)\n",
    "print(score)"
   ]
  },
  {
   "cell_type": "code",
   "execution_count": null,
   "metadata": {},
   "outputs": [],
   "source": [
    "# sns.barplot(x = [1, 2], y = score[:2])"
   ]
  },
  {
   "cell_type": "code",
   "execution_count": null,
   "metadata": {},
   "outputs": [],
   "source": [
    "# v1: 75vs120\n",
    "# v2: 57vs134\n",
    "# v3: 61vs128\n",
    "# v4: 52vs131 // 33vs56\n",
    "# v5: 47vs144 // 29vs65\n",
    "# v6: 45vs150 // 32vs63\n",
    "# v7 221vs1183 // 113vs402\n",
    "# v8 310vs1210 // 78vs492\n",
    "# v9 331vs1444 // 194vs645\n",
    "# v10 235vs1561 // complete"
   ]
  }
 ],
 "metadata": {
  "kernelspec": {
   "display_name": "Python 3",
   "language": "python",
   "name": "python3"
  },
  "language_info": {
   "codemirror_mode": {
    "name": "ipython",
    "version": 3
   },
   "file_extension": ".py",
   "mimetype": "text/x-python",
   "name": "python",
   "nbconvert_exporter": "python",
   "pygments_lexer": "ipython3",
   "version": "3.7.4"
  },
  "toc": {
   "base_numbering": 1,
   "nav_menu": {},
   "number_sections": true,
   "sideBar": true,
   "skip_h1_title": false,
   "title_cell": "Table of Contents",
   "title_sidebar": "Contents",
   "toc_cell": false,
   "toc_position": {},
   "toc_section_display": true,
   "toc_window_display": false
  }
 },
 "nbformat": 4,
 "nbformat_minor": 2
}
