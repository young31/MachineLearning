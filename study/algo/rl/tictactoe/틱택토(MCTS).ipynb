{
 "cells": [
  {
   "cell_type": "code",
   "execution_count": 3,
   "metadata": {},
   "outputs": [],
   "source": [
    "import numpy as np\n",
    "import math\n",
    "import seaborn as sns"
   ]
  },
  {
   "cell_type": "code",
   "execution_count": 4,
   "metadata": {},
   "outputs": [],
   "source": [
    "init_state = np.array([\n",
    "    [0, 0, 0],\n",
    "    [0, 0, 0],\n",
    "    [0, 0, 0]\n",
    "])"
   ]
  },
  {
   "cell_type": "code",
   "execution_count": 5,
   "metadata": {},
   "outputs": [],
   "source": [
    "class Game:\n",
    "    def __init__(self, state):\n",
    "        self.state = state\n",
    "        self.empty = self.make_empty(state)\n",
    "        \n",
    "    def make_empty(self, state):\n",
    "        emp = []\n",
    "        for i in range(3):\n",
    "            for j in range(3):\n",
    "                if state[i][j] == 0:\n",
    "                    emp.append(3*i + j)\n",
    "        \n",
    "        return emp\n",
    "    \n",
    "    def is_lose(self, a):\n",
    "        opp = 2 - (a-1)\n",
    "        \n",
    "        for i in range(3):\n",
    "            if self.state[i][0] == self.state[i][1] == self.state[i][2] == opp:\n",
    "                return 1\n",
    "            elif self.state[0][i] == self.state[1][i] == self.state[2][i] == opp:\n",
    "                return 1\n",
    "        if self.state[0][0] == self.state[1][1] == self.state[2][2] == opp:\n",
    "            return 1\n",
    "        return 0\n",
    "    \n",
    "    def is_win(self, a):       \n",
    "        for i in range(3):\n",
    "            if self.state[i][0] == self.state[i][1] == self.state[i][2] == a:\n",
    "                return 1\n",
    "            elif self.state[0][i] == self.state[1][i] == self.state[2][i] == a:\n",
    "                return 1\n",
    "        if self.state[0][0] == self.state[1][1] == self.state[2][2] == a:\n",
    "            return 1\n",
    "        if self.state[0][2] == self.state[1][1] == self.state[2][0] == a:\n",
    "            return 1\n",
    "        return 0\n",
    "    \n",
    "    def is_draw(self, a):\n",
    "        if self.is_win(a):\n",
    "            return 0\n",
    "        if np.all(self.state):\n",
    "            return 1\n",
    "        else:\n",
    "            return 0\n",
    "        \n",
    "    def is_done(self):\n",
    "        if self.is_win(1) or self.is_win(2) or self.is_draw(a):\n",
    "            return 1\n",
    "        else:\n",
    "            return 0\n",
    "        \n",
    "        \n",
    "    def update(self, target, a):\n",
    "        state = self.state.copy()\n",
    "        x, y = target//3, target%3\n",
    "        state[x][y] = a\n",
    "        return Game(state)"
   ]
  },
  {
   "cell_type": "code",
   "execution_count": null,
   "metadata": {},
   "outputs": [],
   "source": [
    "# def mcs(game):\n",
    "#     n = 10\n",
    "#     values = [0] * len(game.empty)\n",
    "    \n",
    "#     for i, a in enumerate(game.empty):\n",
    "#         for _ in range(n):\n",
    "#             values[i] += -playout(game.update())\n",
    "    "
   ]
  },
  {
   "cell_type": "code",
   "execution_count": 6,
   "metadata": {},
   "outputs": [],
   "source": [
    "class Random:\n",
    "    def __init__(self, status):\n",
    "        self.status = status\n",
    "        \n",
    "        \n",
    "    def action(self, game):\n",
    "        return np.random.choice(game.empty)"
   ]
  },
  {
   "cell_type": "code",
   "execution_count": 15,
   "metadata": {},
   "outputs": [],
   "source": [
    "class Node:\n",
    "    def __init__(self, state):\n",
    "        self.state = state # 상태\n",
    "        self.w = 0 # 보상 누계\n",
    "        self.n = 0 # 시행 횟수\n",
    "        self.child_nodes = None  # 자녀 노드 군\n",
    "\n",
    "    # 국면 가치 계산\n",
    "    def evaluate(self):\n",
    "        # 게임 종료 시\n",
    "        if self.state.is_done():\n",
    "            # 승패 결과로 가치 취득\n",
    "            value = -1 if self.state.is_lose() else 0 # 패배 시 -1, 무승부 시 0\n",
    "\n",
    "            # 보상 누계와 시행 횟수 갱신\n",
    "            self.w += value\n",
    "            self.n += 1\n",
    "            return value\n",
    "\n",
    "        # 자녀 노드가 존재하지 않는 경우\n",
    "        if not self.child_nodes:\n",
    "            # 플레이아웃으로 가치 얻기\n",
    "            value = playout(self.state)\n",
    "\n",
    "            # 보상 누계와 시행 횟수 갱신\n",
    "            self.w += value\n",
    "            self.n += 1\n",
    "\n",
    "            # 자녀 노드 전개\n",
    "            if self.n == 10: \n",
    "                self.expand()\n",
    "            return value\n",
    "\n",
    "        # 자녀 노드가 존재하는 경우\n",
    "        else:\n",
    "            # UCB1이 가장 큰 자녀 노드를 평가해 가치 얻기\n",
    "            value = -self.next_child_node().evaluate() \n",
    "\n",
    "            # 보상 누계와 시행 횟수 갱신\n",
    "            self.w += value\n",
    "            self.n += 1\n",
    "            return value\n",
    "\n",
    "    # 자녀 노드 전개\n",
    "    def expand(self):\n",
    "        self.child_nodes = []\n",
    "        for action in self.state.empty:\n",
    "            self.child_nodes.append(Node(self.state.next(action)))\n",
    "\n",
    "    # UCB1이 가장 큰 자녀 노드 얻기\n",
    "    def next_child_node(self):\n",
    "         # 시행 횟수가 0인 자녀 노드 반환\n",
    "        for child_node in self.child_nodes:\n",
    "            if child_node.n == 0:\n",
    "                return child_node\n",
    "\n",
    "        # UCB1 계산\n",
    "        t = 0\n",
    "        for c in self.child_nodes:\n",
    "            t += c.n\n",
    "        ucb1_values = []\n",
    "        for child_node in self.child_nodes:\n",
    "            ucb1_values.append(-child_node.w/child_node.n+(2*math.log(t)/child_node.n)**0.5)\n",
    "\n",
    "        # UCB1이 가장 큰 자녀 노드 반환\n",
    "        return self.child_nodes[argmax(ucb1_values)]    \n",
    "        \n",
    "class MCTS:\n",
    "    def __init__(self, status, game):\n",
    "        self.game = game\n",
    "        self.status = status\n",
    "        self.tree = Node(game)\n",
    "        \n",
    "    def playout(self, game):\n",
    "        if game.is_lose(self.status):\n",
    "            return -1\n",
    "        \n",
    "        if game.is_draw(self.status):\n",
    "            return 0\n",
    "        \n",
    "        \n",
    "        if game.is_win(self.status):\n",
    "            return 1\n",
    "        \n",
    "        return self.playout(game.update(np.random.choice(game.empty)))\n",
    "    \n",
    "    def action(self, game):\n",
    "        a = self.tree.next_child_node()\n",
    "        print(a)\n",
    "        \n",
    "    \n",
    "    def make_opp(self):\n",
    "        if self.count % 2 == 0:\n",
    "            return self.status\n",
    "        else:\n",
    "            return 2 + min(0, 1-self.status)\n",
    "                "
   ]
  },
  {
   "cell_type": "code",
   "execution_count": 16,
   "metadata": {},
   "outputs": [],
   "source": [
    "g = Game(init_state)\n",
    "m = MCTS(2, g)\n"
   ]
  },
  {
   "cell_type": "code",
   "execution_count": 17,
   "metadata": {},
   "outputs": [
    {
     "ename": "TypeError",
     "evalue": "'NoneType' object is not iterable",
     "output_type": "error",
     "traceback": [
      "\u001b[1;31m---------------------------------------------------------------------------\u001b[0m",
      "\u001b[1;31mTypeError\u001b[0m                                 Traceback (most recent call last)",
      "\u001b[1;32m<ipython-input-17-5dc23461a30a>\u001b[0m in \u001b[0;36m<module>\u001b[1;34m\u001b[0m\n\u001b[1;32m----> 1\u001b[1;33m \u001b[0mm\u001b[0m\u001b[1;33m.\u001b[0m\u001b[0maction\u001b[0m\u001b[1;33m(\u001b[0m\u001b[0mg\u001b[0m\u001b[1;33m)\u001b[0m\u001b[1;33m\u001b[0m\u001b[1;33m\u001b[0m\u001b[0m\n\u001b[0m",
      "\u001b[1;32m<ipython-input-15-3a0972a3e689>\u001b[0m in \u001b[0;36maction\u001b[1;34m(self, game)\u001b[0m\n\u001b[0;32m     86\u001b[0m \u001b[1;33m\u001b[0m\u001b[0m\n\u001b[0;32m     87\u001b[0m     \u001b[1;32mdef\u001b[0m \u001b[0maction\u001b[0m\u001b[1;33m(\u001b[0m\u001b[0mself\u001b[0m\u001b[1;33m,\u001b[0m \u001b[0mgame\u001b[0m\u001b[1;33m)\u001b[0m\u001b[1;33m:\u001b[0m\u001b[1;33m\u001b[0m\u001b[1;33m\u001b[0m\u001b[0m\n\u001b[1;32m---> 88\u001b[1;33m         \u001b[0ma\u001b[0m \u001b[1;33m=\u001b[0m \u001b[0mself\u001b[0m\u001b[1;33m.\u001b[0m\u001b[0mtree\u001b[0m\u001b[1;33m.\u001b[0m\u001b[0mnext_child_node\u001b[0m\u001b[1;33m(\u001b[0m\u001b[1;33m)\u001b[0m\u001b[1;33m\u001b[0m\u001b[1;33m\u001b[0m\u001b[0m\n\u001b[0m\u001b[0;32m     89\u001b[0m         \u001b[0mprint\u001b[0m\u001b[1;33m(\u001b[0m\u001b[0ma\u001b[0m\u001b[1;33m)\u001b[0m\u001b[1;33m\u001b[0m\u001b[1;33m\u001b[0m\u001b[0m\n\u001b[0;32m     90\u001b[0m \u001b[1;33m\u001b[0m\u001b[0m\n",
      "\u001b[1;32m<ipython-input-15-3a0972a3e689>\u001b[0m in \u001b[0;36mnext_child_node\u001b[1;34m(self)\u001b[0m\n\u001b[0;32m     51\u001b[0m     \u001b[1;32mdef\u001b[0m \u001b[0mnext_child_node\u001b[0m\u001b[1;33m(\u001b[0m\u001b[0mself\u001b[0m\u001b[1;33m)\u001b[0m\u001b[1;33m:\u001b[0m\u001b[1;33m\u001b[0m\u001b[1;33m\u001b[0m\u001b[0m\n\u001b[0;32m     52\u001b[0m          \u001b[1;31m# 시행 횟수가 0인 자녀 노드 반환\u001b[0m\u001b[1;33m\u001b[0m\u001b[1;33m\u001b[0m\u001b[1;33m\u001b[0m\u001b[0m\n\u001b[1;32m---> 53\u001b[1;33m         \u001b[1;32mfor\u001b[0m \u001b[0mchild_node\u001b[0m \u001b[1;32min\u001b[0m \u001b[0mself\u001b[0m\u001b[1;33m.\u001b[0m\u001b[0mchild_nodes\u001b[0m\u001b[1;33m:\u001b[0m\u001b[1;33m\u001b[0m\u001b[1;33m\u001b[0m\u001b[0m\n\u001b[0m\u001b[0;32m     54\u001b[0m             \u001b[1;32mif\u001b[0m \u001b[0mchild_node\u001b[0m\u001b[1;33m.\u001b[0m\u001b[0mn\u001b[0m \u001b[1;33m==\u001b[0m \u001b[1;36m0\u001b[0m\u001b[1;33m:\u001b[0m\u001b[1;33m\u001b[0m\u001b[1;33m\u001b[0m\u001b[0m\n\u001b[0;32m     55\u001b[0m                 \u001b[1;32mreturn\u001b[0m \u001b[0mchild_node\u001b[0m\u001b[1;33m\u001b[0m\u001b[1;33m\u001b[0m\u001b[0m\n",
      "\u001b[1;31mTypeError\u001b[0m: 'NoneType' object is not iterable"
     ]
    }
   ],
   "source": [
    "m.action(g)"
   ]
  },
  {
   "cell_type": "code",
   "execution_count": 19,
   "metadata": {},
   "outputs": [],
   "source": [
    "def play(game, m1, m2):\n",
    "    global score\n",
    "    while 1:\n",
    "        a1 = m1.action(game)\n",
    "        game = game.update(a1, m1.status)\n",
    "        if game.is_win(m1.status):\n",
    "            score[m1.status-1] += 1\n",
    "            return \n",
    "        elif game.is_draw(m1.status):\n",
    "            score[2] += 1\n",
    "            return \n",
    "\n",
    "        a2 = m2.action(game)\n",
    "        game = game.update(a2, m2.status)\n",
    "        if game.is_win(m2.status):\n",
    "            score[m2.status-1] += 1\n",
    "            return \n",
    "        elif game.is_draw(m2.status):\n",
    "            score[2] += 1\n",
    "            return \n"
   ]
  },
  {
   "cell_type": "code",
   "execution_count": 22,
   "metadata": {},
   "outputs": [],
   "source": [
    "game = Game(init_state)\n",
    "m1 = Random(1)\n",
    "m2 = MCS(2, 10)"
   ]
  },
  {
   "cell_type": "code",
   "execution_count": 23,
   "metadata": {
    "scrolled": true
   },
   "outputs": [],
   "source": [
    "score = [0, 0, 0]\n",
    "for _ in range(1000):\n",
    "    play(game, m1, m2)\n",
    "    \n",
    "score1 = score.copy()\n",
    "    \n",
    "for _ in range(1000):\n",
    "    play(game, m2, m1)"
   ]
  },
  {
   "cell_type": "code",
   "execution_count": 24,
   "metadata": {},
   "outputs": [
    {
     "data": {
      "text/plain": [
       "[133, 1771, 96]"
      ]
     },
     "execution_count": 24,
     "metadata": {},
     "output_type": "execute_result"
    }
   ],
   "source": [
    "score"
   ]
  },
  {
   "cell_type": "code",
   "execution_count": 25,
   "metadata": {},
   "outputs": [
    {
     "data": {
      "text/plain": [
       "[113, 814, 73]"
      ]
     },
     "execution_count": 25,
     "metadata": {},
     "output_type": "execute_result"
    }
   ],
   "source": [
    "score1"
   ]
  },
  {
   "cell_type": "code",
   "execution_count": null,
   "metadata": {},
   "outputs": [],
   "source": [
    "sns.barplot(x = [1, 2], y = score[:2])"
   ]
  },
  {
   "cell_type": "code",
   "execution_count": null,
   "metadata": {},
   "outputs": [],
   "source": [
    "game.state"
   ]
  },
  {
   "cell_type": "code",
   "execution_count": null,
   "metadata": {},
   "outputs": [],
   "source": [
    "# v1: 710 vs 1208\n",
    "# v2: 113 vs 1771 // 113 vs 814\n",
    "## 이정도면 완성형\n"
   ]
  }
 ],
 "metadata": {
  "kernelspec": {
   "display_name": "Python 3",
   "language": "python",
   "name": "python3"
  },
  "language_info": {
   "codemirror_mode": {
    "name": "ipython",
    "version": 3
   },
   "file_extension": ".py",
   "mimetype": "text/x-python",
   "name": "python",
   "nbconvert_exporter": "python",
   "pygments_lexer": "ipython3",
   "version": "3.7.4"
  },
  "toc": {
   "base_numbering": 1,
   "nav_menu": {},
   "number_sections": true,
   "sideBar": true,
   "skip_h1_title": false,
   "title_cell": "Table of Contents",
   "title_sidebar": "Contents",
   "toc_cell": false,
   "toc_position": {},
   "toc_section_display": true,
   "toc_window_display": false
  }
 },
 "nbformat": 4,
 "nbformat_minor": 2
}
