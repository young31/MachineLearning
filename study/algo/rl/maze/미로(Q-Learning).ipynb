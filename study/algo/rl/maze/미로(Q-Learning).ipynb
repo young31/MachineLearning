{
 "cells": [
  {
   "cell_type": "code",
   "execution_count": 1,
   "metadata": {},
   "outputs": [],
   "source": [
    "import numpy as np\n",
    "from time import time"
   ]
  },
  {
   "cell_type": "code",
   "execution_count": 2,
   "metadata": {},
   "outputs": [],
   "source": [
    "obj = [\n",
    "    [0, 0, 0, 0, 1], \n",
    "    [0, 1, 1, 0, 0], \n",
    "    [0, 0, 1, 0, 0],\n",
    "    [0, 0, 1, 1, 0]\n",
    "]\n",
    "obj = np.array(obj)"
   ]
  },
  {
   "cell_type": "code",
   "execution_count": 3,
   "metadata": {},
   "outputs": [
    {
     "data": {
      "text/plain": [
       "array([[0, 0, 0, 0, 1],\n",
       "       [0, 1, 1, 0, 0],\n",
       "       [0, 0, 1, 0, 0],\n",
       "       [0, 0, 1, 1, 0]])"
      ]
     },
     "execution_count": 3,
     "metadata": {},
     "output_type": "execute_result"
    }
   ],
   "source": [
    "obj"
   ]
  },
  {
   "cell_type": "code",
   "execution_count": 4,
   "metadata": {},
   "outputs": [],
   "source": [
    "# shape"
   ]
  },
  {
   "cell_type": "code",
   "execution_count": 5,
   "metadata": {},
   "outputs": [],
   "source": [
    "def pi(a):\n",
    "    for i in range(len(a)):\n",
    "        if a[i] == np.nan:\n",
    "            a[i] = 0\n",
    "            \n",
    "    s = np.nansum(a)\n",
    "    if s == 0:\n",
    "        s = 1e-5\n",
    "        print('here')\n",
    "    for i in range(len(a)):\n",
    "        a[i] /= s\n",
    "    return a\n",
    "\n",
    "def get_pi(a):\n",
    "    for i in range(len(a)):\n",
    "        for j in range(len(a[0])):\n",
    "            a[i][j] = pi(a[i][j])\n",
    "    return a"
   ]
  },
  {
   "cell_type": "code",
   "execution_count": 6,
   "metadata": {},
   "outputs": [],
   "source": [
    "def action(s):\n",
    "    # eps는 사전 설정\n",
    "    ## s_next 생성\n",
    "    if np.random.rand() > eps:\n",
    "        return np.argmax(v[s])\n",
    "    else:\n",
    "        return np.random.choice([0, 1, 2, 3]) # 상하좌우\n",
    "    \n",
    "def state_map(s, a):\n",
    "    s = list(s)\n",
    "    if a == 0:\n",
    "        s[0] -= 1\n",
    "    elif a == 1:\n",
    "        s[0] += 1\n",
    "    elif a == 2:\n",
    "        s[1] -= 1\n",
    "    else:\n",
    "        s[1] += 1\n",
    "    return tuple(s)\n"
   ]
  },
  {
   "cell_type": "code",
   "execution_count": 7,
   "metadata": {},
   "outputs": [],
   "source": [
    "def update(s, a, r, s_next, v):\n",
    "    # lr, gamma 는 위에서 설정하기\n",
    "    if s_next == goal:\n",
    "        v[s][a] = v[s][a] + lr * (r - v[s][a])\n",
    "    else:\n",
    "        v[s][a] = v[s][a] + lr * (r + gamma*np.max(v[s_next]) - v[s][a])\n",
    "        \n",
    "#     v[s] = pi(v[s])\n",
    "    return v\n"
   ]
  },
  {
   "cell_type": "code",
   "execution_count": 8,
   "metadata": {},
   "outputs": [],
   "source": [
    "def is_wall(s):\n",
    "    a = shape[0] - 1\n",
    "    b = shape[1] -1\n",
    "    if s[0] < 0 or s[0] > a:\n",
    "        return True\n",
    "    elif s[1] < 0 or s[1] > b:\n",
    "        return True\n",
    "    elif obj[s] == 1:\n",
    "        return True\n",
    "    else:\n",
    "        return False"
   ]
  },
  {
   "cell_type": "code",
   "execution_count": 9,
   "metadata": {},
   "outputs": [],
   "source": [
    "def play(s):\n",
    "    global v, fail_hist, hist, eps\n",
    "    temp_hist = []\n",
    "    while 1:\n",
    "        eps -= 0.01\n",
    "        temp_hist.append(s)\n",
    "#         print(s)\n",
    "        a = action(s)\n",
    "        s_next = state_map(s, a)\n",
    "#         print(a, s, s_next)\n",
    "        \n",
    "#         if (0 > s[0] or s[0] > 3) or (0 > s[1] or s[1] > 4) or obj[s] == 1: ## 가면 안되는 곳\n",
    "        if is_wall(s_next):\n",
    "            fail_hist.append((s, s_next))\n",
    "#             r = -1\n",
    "            v[s][a] = 0\n",
    "            v[s] = pi(v[s])\n",
    "#             v = update(s, a, r, s_next, v)\n",
    "#             print(v[s], s_next)\n",
    "            s_next = (0, 0)\n",
    "            \n",
    "            \n",
    "        elif s_next[0] == goal[0] and s_next[1] == goal[1]: ## 도착\n",
    "            r = 1\n",
    "            v = update(s, a, r, s_next, v)\n",
    "            break\n",
    "        else: ## 갈곳이 남음\n",
    "            r = 0\n",
    "            v = update(s, a, r , s_next, v)\n",
    "            \n",
    "#         print(v[s])\n",
    "        fake_obj[s_next] = 2\n",
    "#         print(fake_obj)\n",
    "        fake_obj[s_next] = obj[s_next]\n",
    "#         print(eps)\n",
    "            \n",
    "        s = s_next\n",
    "        \n",
    "    hist.append(temp_hist)"
   ]
  },
  {
   "cell_type": "code",
   "execution_count": 10,
   "metadata": {},
   "outputs": [],
   "source": [
    "shape = obj.shape\n",
    "value = [\n",
    "    [0, 0, 0, 0, 1], \n",
    "    [0, 1, 1, 0, 0], \n",
    "    [0, 0, 1, 0, 0],\n",
    "    [0, 0, 1, 1, 0]\n",
    "]\n",
    "for i in range(shape[0]):\n",
    "    for j in range(shape[1]):\n",
    "        value[i][j] = [0.25, 0.25, 0.25, 0.25] # 위, 아래, 좌, 우\n",
    "v = np.array(value)"
   ]
  },
  {
   "cell_type": "code",
   "execution_count": 11,
   "metadata": {
    "scrolled": true
   },
   "outputs": [
    {
     "name": "stdout",
     "output_type": "stream",
     "text": [
      "succes 0\n",
      "-18.36000000000007\n",
      "succes 1\n",
      "-18.690000000000122\n",
      "succes 2\n",
      "-18.900000000000155\n",
      "succes 3\n",
      "-19.13000000000019\n",
      "succes 4\n",
      "-19.340000000000224\n",
      "succes 5\n",
      "-19.550000000000257\n",
      "succes 6\n",
      "-19.660000000000274\n",
      "succes 7\n",
      "-19.990000000000325\n",
      "succes 8\n",
      "-20.060000000000336\n",
      "succes 9\n",
      "-20.290000000000372\n",
      "succes 10\n",
      "-20.480000000000402\n",
      "succes 11\n",
      "-20.550000000000413\n",
      "succes 12\n",
      "-20.760000000000446\n",
      "succes 13\n",
      "-20.97000000000048\n",
      "succes 14\n",
      "-21.18000000000051\n",
      "succes 15\n",
      "-21.250000000000522\n",
      "succes 16\n",
      "-21.440000000000552\n",
      "succes 17\n",
      "-21.510000000000563\n",
      "succes 18\n",
      "-21.700000000000593\n",
      "succes 19\n",
      "-21.770000000000604\n",
      "succes 20\n",
      "-21.840000000000614\n",
      "succes 21\n",
      "-22.030000000000644\n",
      "succes 22\n",
      "-22.100000000000655\n",
      "succes 23\n",
      "-22.170000000000666\n",
      "succes 24\n",
      "-22.360000000000696\n",
      "succes 25\n",
      "-22.430000000000707\n",
      "succes 26\n",
      "-22.500000000000718\n",
      "succes 27\n",
      "-22.57000000000073\n",
      "succes 28\n",
      "-22.64000000000074\n",
      "succes 29\n",
      "-22.71000000000075\n",
      "succes 30\n",
      "-22.78000000000076\n",
      "succes 31\n",
      "-22.850000000000772\n",
      "succes 32\n",
      "-22.920000000000783\n",
      "succes 33\n",
      "-22.990000000000794\n",
      "succes 34\n",
      "-23.060000000000805\n",
      "succes 35\n",
      "-23.130000000000816\n",
      "succes 36\n",
      "-23.200000000000827\n",
      "succes 37\n",
      "-23.270000000000838\n",
      "succes 38\n",
      "-23.34000000000085\n",
      "succes 39\n",
      "-23.41000000000086\n",
      "succes 40\n",
      "-23.48000000000087\n",
      "succes 41\n",
      "-23.550000000000882\n",
      "succes 42\n",
      "-23.620000000000893\n",
      "succes 43\n",
      "-23.690000000000904\n",
      "succes 44\n",
      "-23.760000000000915\n",
      "succes 45\n",
      "-23.830000000000926\n",
      "succes 46\n",
      "-23.900000000000936\n",
      "succes 47\n",
      "-23.970000000000947\n",
      "succes 48\n",
      "-24.04000000000096\n",
      "succes 49\n",
      "-24.11000000000097\n",
      "succes 50\n",
      "-24.18000000000098\n",
      "succes 51\n",
      "-24.25000000000099\n",
      "succes 52\n",
      "-24.320000000001002\n",
      "succes 53\n",
      "-24.390000000001013\n",
      "succes 54\n",
      "-24.460000000001024\n",
      "succes 55\n",
      "-24.530000000001035\n",
      "succes 56\n",
      "-24.600000000001046\n",
      "succes 57\n",
      "-24.670000000001057\n",
      "succes 58\n",
      "-24.740000000001068\n",
      "succes 59\n",
      "-24.81000000000108\n",
      "succes 60\n",
      "-24.88000000000109\n",
      "succes 61\n",
      "-24.9500000000011\n",
      "succes 62\n",
      "-25.02000000000111\n",
      "succes 63\n",
      "-25.090000000001123\n",
      "succes 64\n",
      "-25.160000000001133\n",
      "succes 65\n",
      "-25.230000000001144\n",
      "succes 66\n",
      "-25.300000000001155\n",
      "succes 67\n",
      "-25.370000000001166\n",
      "succes 68\n",
      "-25.440000000001177\n",
      "succes 69\n",
      "-25.510000000001188\n",
      "succes 70\n",
      "-25.5800000000012\n",
      "succes 71\n",
      "-25.65000000000121\n",
      "succes 72\n",
      "-25.72000000000122\n",
      "succes 73\n",
      "-25.790000000001232\n",
      "succes 74\n",
      "-25.860000000001243\n",
      "succes 75\n",
      "-25.930000000001254\n",
      "succes 76\n",
      "-26.000000000001265\n",
      "succes 77\n",
      "-26.070000000001276\n",
      "succes 78\n",
      "-26.140000000001287\n",
      "succes 79\n",
      "-26.210000000001298\n",
      "succes 80\n",
      "-26.28000000000131\n",
      "succes 81\n",
      "-26.35000000000132\n",
      "succes 82\n",
      "-26.42000000000133\n",
      "succes 83\n",
      "-26.49000000000134\n",
      "succes 84\n",
      "-26.560000000001352\n",
      "succes 85\n",
      "-26.630000000001363\n",
      "succes 86\n",
      "-26.700000000001374\n",
      "succes 87\n",
      "-26.770000000001385\n",
      "succes 88\n",
      "-26.840000000001396\n",
      "succes 89\n",
      "-26.910000000001407\n",
      "succes 90\n",
      "-26.980000000001418\n",
      "succes 91\n",
      "-27.05000000000143\n",
      "succes 92\n",
      "-27.12000000000144\n",
      "succes 93\n",
      "-27.19000000000145\n",
      "succes 94\n",
      "-27.26000000000146\n",
      "succes 95\n",
      "-27.330000000001473\n",
      "succes 96\n",
      "-27.400000000001484\n",
      "succes 97\n",
      "-27.470000000001495\n",
      "succes 98\n",
      "-27.540000000001505\n",
      "succes 99\n",
      "-27.610000000001516\n"
     ]
    }
   ],
   "source": [
    "lr = 0.1\n",
    "eps = 0.5\n",
    "gamma = 0.9\n",
    "v = np.array(value)\n",
    "fail_hist = []\n",
    "hist = []\n",
    "fake_obj = obj.copy()\n",
    "\n",
    "s_0 = (0, 0)\n",
    "goal = (3, 4)\n",
    "\n",
    "start = time()\n",
    "for i in range(100):\n",
    "    play(s_0)\n",
    "    print('succes', i)\n",
    "    print(eps)\n",
    "#     eps = 0.5\n",
    "\n",
    "lt = time() - start"
   ]
  },
  {
   "cell_type": "code",
   "execution_count": 12,
   "metadata": {
    "scrolled": true
   },
   "outputs": [
    {
     "data": {
      "text/plain": [
       "array([[[0.        , 0.19087807, 0.        , 0.48681563],\n",
       "        [0.        , 0.        , 0.20878478, 0.56588872],\n",
       "        [0.        , 0.        , 0.22408938, 0.64474635],\n",
       "        [0.        , 0.72479832, 0.24337602, 0.        ],\n",
       "        [0.25      , 0.25      , 0.25      , 0.25      ]],\n",
       "\n",
       "       [[0.18991111, 0.1910852 , 0.        , 0.        ],\n",
       "        [0.25      , 0.25      , 0.25      , 0.25      ],\n",
       "        [0.25      , 0.25      , 0.25      , 0.25      ],\n",
       "        [0.25814692, 0.80883316, 0.        , 0.25738141],\n",
       "        [0.        , 0.25259999, 0.25331229, 0.        ]],\n",
       "\n",
       "       [[0.18962061, 0.19105038, 0.        , 0.19044764],\n",
       "        [0.        , 0.19026751, 0.18970101, 0.        ],\n",
       "        [0.25      , 0.25      , 0.25      , 0.25      ],\n",
       "        [0.26900633, 0.        , 0.        , 0.89978416],\n",
       "        [0.24839395, 0.99998008, 0.25      , 0.25      ]],\n",
       "\n",
       "       [[0.19063985, 0.        , 0.        , 0.1909245 ],\n",
       "        [0.18999188, 0.        , 0.19080176, 0.        ],\n",
       "        [0.25      , 0.25      , 0.25      , 0.25      ],\n",
       "        [0.25      , 0.25      , 0.25      , 0.25      ],\n",
       "        [0.25      , 0.25      , 0.25      , 0.25      ]]])"
      ]
     },
     "execution_count": 12,
     "metadata": {},
     "output_type": "execute_result"
    }
   ],
   "source": [
    "v"
   ]
  },
  {
   "cell_type": "code",
   "execution_count": 13,
   "metadata": {
    "scrolled": true
   },
   "outputs": [],
   "source": [
    "value = [\n",
    "    [0, 0, 0, 0, 1], \n",
    "    [0, 1, 1, 0, 0], \n",
    "    [0, 0, 1, 0, 0],\n",
    "    [0, 0, 1, 1, 0]\n",
    "]"
   ]
  },
  {
   "cell_type": "code",
   "execution_count": 14,
   "metadata": {},
   "outputs": [
    {
     "data": {
      "text/plain": [
       "-27.610000000001516"
      ]
     },
     "execution_count": 14,
     "metadata": {},
     "output_type": "execute_result"
    }
   ],
   "source": [
    "eps"
   ]
  },
  {
   "cell_type": "code",
   "execution_count": 15,
   "metadata": {},
   "outputs": [
    {
     "data": {
      "text/plain": [
       "0.12949490547180176"
      ]
     },
     "execution_count": 15,
     "metadata": {},
     "output_type": "execute_result"
    }
   ],
   "source": [
    "lt"
   ]
  },
  {
   "cell_type": "code",
   "execution_count": 16,
   "metadata": {},
   "outputs": [
    {
     "name": "stdout",
     "output_type": "stream",
     "text": [
      "83\n"
     ]
    }
   ],
   "source": [
    "c = 0\n",
    "for h in hist:\n",
    "    if len(h) == 7:\n",
    "        c += 1\n",
    "        \n",
    "print(c)"
   ]
  },
  {
   "cell_type": "code",
   "execution_count": 17,
   "metadata": {},
   "outputs": [],
   "source": [
    "lh = list(map(lambda x: len(x), hist))"
   ]
  },
  {
   "cell_type": "code",
   "execution_count": 18,
   "metadata": {},
   "outputs": [
    {
     "data": {
      "text/plain": [
       "[<matplotlib.lines.Line2D at 0x235d59e2288>]"
      ]
     },
     "execution_count": 18,
     "metadata": {},
     "output_type": "execute_result"
    },
    {
     "data": {
      "image/png": "[encoded data removed]",
      "text/plain": [
       "<Figure size 432x288 with 1 Axes>"
      ]
     },
     "metadata": {
      "needs_background": "light"
     },
     "output_type": "display_data"
    }
   ],
   "source": [
    "import matplotlib.pyplot as plt\n",
    "\n",
    "plt.plot(lh[10:])"
   ]
  },
  {
   "cell_type": "code",
   "execution_count": 19,
   "metadata": {
    "scrolled": true
   },
   "outputs": [
    {
     "data": {
      "text/plain": [
       "[1886,\n",
       " 33,\n",
       " 21,\n",
       " 23,\n",
       " 21,\n",
       " 21,\n",
       " 11,\n",
       " 33,\n",
       " 7,\n",
       " 23,\n",
       " 19,\n",
       " 7,\n",
       " 21,\n",
       " 21,\n",
       " 21,\n",
       " 7,\n",
       " 19,\n",
       " 7,\n",
       " 19,\n",
       " 7,\n",
       " 7,\n",
       " 19,\n",
       " 7,\n",
       " 7,\n",
       " 19,\n",
       " 7,\n",
       " 7,\n",
       " 7,\n",
       " 7,\n",
       " 7,\n",
       " 7,\n",
       " 7,\n",
       " 7,\n",
       " 7,\n",
       " 7,\n",
       " 7,\n",
       " 7,\n",
       " 7,\n",
       " 7,\n",
       " 7,\n",
       " 7,\n",
       " 7,\n",
       " 7,\n",
       " 7,\n",
       " 7,\n",
       " 7,\n",
       " 7,\n",
       " 7,\n",
       " 7,\n",
       " 7,\n",
       " 7,\n",
       " 7,\n",
       " 7,\n",
       " 7,\n",
       " 7,\n",
       " 7,\n",
       " 7,\n",
       " 7,\n",
       " 7,\n",
       " 7,\n",
       " 7,\n",
       " 7,\n",
       " 7,\n",
       " 7,\n",
       " 7,\n",
       " 7,\n",
       " 7,\n",
       " 7,\n",
       " 7,\n",
       " 7,\n",
       " 7,\n",
       " 7,\n",
       " 7,\n",
       " 7,\n",
       " 7,\n",
       " 7,\n",
       " 7,\n",
       " 7,\n",
       " 7,\n",
       " 7,\n",
       " 7,\n",
       " 7,\n",
       " 7,\n",
       " 7,\n",
       " 7,\n",
       " 7,\n",
       " 7,\n",
       " 7,\n",
       " 7,\n",
       " 7,\n",
       " 7,\n",
       " 7,\n",
       " 7,\n",
       " 7,\n",
       " 7,\n",
       " 7,\n",
       " 7,\n",
       " 7,\n",
       " 7,\n",
       " 7]"
      ]
     },
     "execution_count": 19,
     "metadata": {},
     "output_type": "execute_result"
    }
   ],
   "source": [
    "lh"
   ]
  },
  {
   "cell_type": "code",
   "execution_count": null,
   "metadata": {},
   "outputs": [],
   "source": []
  }
 ],
 "metadata": {
  "kernelspec": {
   "display_name": "Python 3",
   "language": "python",
   "name": "python3"
  },
  "language_info": {
   "codemirror_mode": {
    "name": "ipython",
    "version": 3
   },
   "file_extension": ".py",
   "mimetype": "text/x-python",
   "name": "python",
   "nbconvert_exporter": "python",
   "pygments_lexer": "ipython3",
   "version": "3.7.4"
  },
  "toc": {
   "base_numbering": 1,
   "nav_menu": {},
   "number_sections": true,
   "sideBar": true,
   "skip_h1_title": false,
   "title_cell": "Table of Contents",
   "title_sidebar": "Contents",
   "toc_cell": false,
   "toc_position": {},
   "toc_section_display": true,
   "toc_window_display": false
  }
 },
 "nbformat": 4,
 "nbformat_minor": 2
}
