{
 "cells": [
  {
   "cell_type": "code",
   "execution_count": 1,
   "metadata": {},
   "outputs": [],
   "source": [
    "import numpy as np\n",
    "from time import time"
   ]
  },
  {
   "cell_type": "code",
   "execution_count": 2,
   "metadata": {},
   "outputs": [],
   "source": [
    "obj = [\n",
    "    [0, 0, 0, 0, 1], \n",
    "    [0, 1, 1, 0, 0], \n",
    "    [0, 0, 1, 0, 0],\n",
    "    [0, 0, 1, 1, 0]\n",
    "]\n",
    "obj = np.array(obj)"
   ]
  },
  {
   "cell_type": "code",
   "execution_count": 3,
   "metadata": {},
   "outputs": [
    {
     "data": {
      "text/plain": [
       "array([[0, 0, 0, 0, 1],\n",
       "       [0, 1, 1, 0, 0],\n",
       "       [0, 0, 1, 0, 0],\n",
       "       [0, 0, 1, 1, 0]])"
      ]
     },
     "execution_count": 3,
     "metadata": {},
     "output_type": "execute_result"
    }
   ],
   "source": [
    "obj"
   ]
  },
  {
   "cell_type": "code",
   "execution_count": 4,
   "metadata": {},
   "outputs": [],
   "source": [
    "def pi(a):\n",
    "    for i in range(len(a)):\n",
    "        if a[i] == np.nan:\n",
    "            a[i] = 0\n",
    "            \n",
    "    s = np.nansum(a)\n",
    "    if s == 0:\n",
    "        s = 1e-5\n",
    "        print('here')\n",
    "    for i in range(len(a)):\n",
    "        a[i] /= s\n",
    "    return a\n",
    "\n",
    "def get_pi(a):\n",
    "    for i in range(len(a)):\n",
    "        for j in range(len(a[0])):\n",
    "            a[i][j] = pi(a[i][j])\n",
    "    return a"
   ]
  },
  {
   "cell_type": "code",
   "execution_count": 5,
   "metadata": {},
   "outputs": [],
   "source": [
    "def action(s):\n",
    "    # eps는 사전 설정\n",
    "    ## s_next 생성\n",
    "    if np.random.rand() > eps:\n",
    "        return np.argmax(v[s])\n",
    "    else:\n",
    "        return np.random.choice([0, 1, 2, 3]) # 상하좌우\n",
    "    \n",
    "def state_map(s, a):\n",
    "    s = list(s)\n",
    "    if a == 0:\n",
    "        s[0] -= 1\n",
    "    elif a == 1:\n",
    "        s[0] += 1\n",
    "    elif a == 2:\n",
    "        s[1] -= 1\n",
    "    else:\n",
    "        s[1] += 1\n",
    "    return tuple(s)\n"
   ]
  },
  {
   "cell_type": "code",
   "execution_count": 6,
   "metadata": {},
   "outputs": [],
   "source": [
    "def update(s, a, r, s_next, v):\n",
    "    # lr, gamma 는 위에서 설정하기\n",
    "    if s_next == goal:\n",
    "        v[s][a] = v[s][a] + lr * (r - v[s][a])\n",
    "    else:\n",
    "        a_next = action(s_next)\n",
    "        v[s][a] = v[s][a] + lr * (r + gamma*v[s_next][a_next] - v[s][a])\n",
    "        \n",
    "#     v[s] = pi(v[s])\n",
    "    return v\n"
   ]
  },
  {
   "cell_type": "code",
   "execution_count": 7,
   "metadata": {},
   "outputs": [],
   "source": [
    "def is_wall(s):\n",
    "    if s[0] < 0 or s[0] > 3:\n",
    "        return True\n",
    "    elif s[1] < 0 or s[1] > 4:\n",
    "        return True\n",
    "    elif obj[s] == 1:\n",
    "        return True\n",
    "    else:\n",
    "        return False"
   ]
  },
  {
   "cell_type": "code",
   "execution_count": 8,
   "metadata": {},
   "outputs": [],
   "source": [
    "def play(s):\n",
    "    global v, fail_hist, hist, eps\n",
    "    temp_hist = []\n",
    "    while 1:\n",
    "        eps -= 0.01\n",
    "        temp_hist.append(s)\n",
    "#         print(s)\n",
    "        a = action(s)\n",
    "        s_next = state_map(s, a)\n",
    "#         print(a, s, s_next)\n",
    "        \n",
    "#         if (0 > s[0] or s[0] > 3) or (0 > s[1] or s[1] > 4) or obj[s] == 1: ## 가면 안되는 곳\n",
    "        if is_wall(s_next):\n",
    "            fail_hist.append((s, s_next))\n",
    "#             r = -1\n",
    "            v[s][a] = 0\n",
    "            v[s] = pi(v[s])\n",
    "#             v = update(s, a, r, s_next, v)\n",
    "#             print(v[s], s_next)\n",
    "            s_next = (0, 0)\n",
    "            \n",
    "            \n",
    "        elif s_next[0] == goal[0] and s_next[1] == goal[1]: ## 도착\n",
    "            r = 1\n",
    "            v = update(s, a, r, s_next, v)\n",
    "            break\n",
    "        else: ## 갈곳이 남음\n",
    "            r = 0\n",
    "            v = update(s, a, r , s_next, v)\n",
    "            \n",
    "#         print(v[s])\n",
    "        fake_obj[s_next] = 2\n",
    "#         print(fake_obj)\n",
    "        fake_obj[s_next] = obj[s_next]\n",
    "#         print(eps)\n",
    "            \n",
    "        s = s_next\n",
    "        \n",
    "    hist.append(temp_hist)"
   ]
  },
  {
   "cell_type": "code",
   "execution_count": 9,
   "metadata": {},
   "outputs": [],
   "source": [
    "shape = obj.shape\n",
    "value = [\n",
    "    [0, 0, 0, 0, 1], \n",
    "    [0, 1, 1, 0, 0], \n",
    "    [0, 0, 1, 0, 0],\n",
    "    [0, 0, 1, 1, 0]\n",
    "]\n",
    "for i in range(shape[0]):\n",
    "    for j in range(shape[1]):\n",
    "        value[i][j] = [0.25, 0.25, 0.25, 0.25] # 위, 아래, 좌, 우\n",
    "v = np.array(value)"
   ]
  },
  {
   "cell_type": "code",
   "execution_count": 15,
   "metadata": {
    "scrolled": true
   },
   "outputs": [
    {
     "name": "stdout",
     "output_type": "stream",
     "text": [
      "succes 0\n",
      "-162.21999999999744\n",
      "succes 1\n",
      "-46.709999999999276\n",
      "succes 2\n",
      "0.5371067811865474\n",
      "succes 3\n",
      "0.16370052598409923\n",
      "succes 4\n",
      "0.43089641525371414\n",
      "succes 5\n",
      "-72.5794494367041\n",
      "succes 6\n",
      "-0.04910128185966139\n",
      "succes 7\n",
      "-75.10427633573761\n",
      "succes 8\n",
      "-0.03299595679532947\n",
      "succes 9\n",
      "0.03587471228728977\n",
      "succes 10\n",
      "-0.34696700846319345\n",
      "succes 11\n",
      "0.06893091066170562\n",
      "succes 12\n",
      "0.03387431268169284\n",
      "succes 13\n",
      "0.22807751433917078\n",
      "succes 14\n",
      "-0.008304846989381132\n",
      "succes 15\n",
      "-0.3651583960895844\n",
      "succes 16\n",
      "0.22760328069857305\n",
      "succes 17\n",
      "-0.6099533131452078\n",
      "succes 18\n",
      "-22.997776163106654\n",
      "succes 19\n",
      "0.2041759979424944\n",
      "succes 20\n",
      "-0.39406367107515533\n",
      "succes 21\n",
      "0.10753177852389087\n",
      "succes 22\n",
      "-0.3510155260987385\n",
      "succes 23\n",
      "-0.699687247250203\n",
      "succes 24\n",
      "-0.25846805884639495\n",
      "succes 25\n",
      "-0.03734505258771519\n",
      "succes 26\n",
      "-0.666307279302567\n",
      "succes 27\n",
      "0.15465460912243034\n",
      "succes 28\n",
      "0.5755486420525728\n",
      "succes 29\n",
      "-2.093618245281778\n",
      "succes 30\n",
      "-0.5728400315657551\n",
      "succes 31\n",
      "-0.022111463664568023\n",
      "succes 32\n",
      "-0.3414279379123008\n",
      "succes 33\n",
      "-0.7507854027539999\n",
      "succes 34\n",
      "-0.7401802783905649\n",
      "succes 35\n",
      "-0.08960939006022728\n",
      "succes 36\n",
      "0.4309300876689145\n",
      "succes 37\n",
      "-0.05855932234140675\n",
      "succes 38\n",
      "-0.23807536035472993\n",
      "succes 39\n",
      "0.05238400367126338\n",
      "succes 40\n",
      "-0.1771794014547497\n",
      "succes 41\n",
      "0.6432360761734873\n",
      "succes 42\n",
      "0.4036319324441895\n",
      "succes 43\n",
      "0.004009525221595731\n",
      "succes 44\n",
      "0.2743700899058551\n",
      "succes 45\n",
      "-0.2452852470655696\n",
      "succes 46\n",
      "0.05504454353587316\n",
      "succes 47\n",
      "-1.1246395960056994\n",
      "succes 48\n",
      "-0.9343368013598138\n",
      "succes 49\n",
      "-0.13404627825190069\n",
      "succes 50\n",
      "-0.8937672955066421\n",
      "succes 51\n",
      "-0.13349917890412416\n",
      "succes 52\n",
      "0.13675869425986442\n",
      "succes 53\n",
      "-0.7329930999982026\n",
      "succes 54\n",
      "-0.10275402805459387\n",
      "succes 55\n",
      "-0.5225235948488938\n",
      "succes 56\n",
      "0.10769865953770122\n",
      "succes 57\n",
      "0.1779131629461057\n",
      "succes 58\n",
      "0.018120313888051028\n",
      "succes 59\n",
      "0.19832048401691238\n",
      "succes 60\n",
      "-0.8914859796471052\n",
      "succes 61\n",
      "-0.2912987527093956\n",
      "succes 62\n",
      "-0.631117531586574\n",
      "succes 63\n",
      "0.11905796813607251\n",
      "succes 64\n",
      "0.439228013193975\n",
      "succes 65\n",
      "-0.22060714600406411\n",
      "succes 66\n",
      "-0.23044727414553606\n",
      "succes 67\n",
      "0.05970785010650057\n",
      "succes 68\n",
      "-0.7801415648642308\n",
      "succes 69\n",
      "0.4700046773066767\n",
      "succes 70\n",
      "0.22014676181855597\n",
      "succes 71\n",
      "0.20028486348808794\n",
      "succes 72\n",
      "0.13041914746682548\n",
      "succes 73\n",
      "-0.619450230099969\n",
      "succes 74\n",
      "0.1606768785323459\n",
      "succes 75\n",
      "-0.6091993867347718\n",
      "succes 76\n",
      "-0.14907889332940866\n",
      "succes 77\n",
      "-0.018961515535408993\n",
      "succes 78\n",
      "0.10115286594513899\n",
      "succes 79\n",
      "0.001264364396328179\n",
      "succes 80\n",
      "0.17137308746266133\n",
      "succes 81\n",
      "0.3714791374956775\n",
      "succes 82\n",
      "0.43158261187532265\n",
      "succes 83\n",
      "0.03168360330818787\n",
      "succes 84\n",
      "-0.07821779989546664\n",
      "succes 85\n",
      "-0.1381215135641653\n",
      "succes 86\n",
      "-0.49802745742556237\n",
      "succes 87\n",
      "0.0020644451167502152\n",
      "succes 88\n",
      "-0.9578457328087265\n",
      "succes 89\n",
      "0.16224207865267215\n",
      "succes 90\n",
      "0.07232794626294278\n",
      "succes 91\n",
      "0.26241193386069805\n",
      "succes 92\n",
      "-0.03750589748055816\n",
      "succes 93\n",
      "-1.8774254893043256\n",
      "succes 94\n",
      "0.202653214367586\n",
      "succes 95\n",
      "0.1327302671650027\n",
      "succes 96\n",
      "0.12280572049126816\n",
      "succes 97\n",
      "-0.49712037636240874\n",
      "succes 98\n",
      "0.7129520238904292\n",
      "succes 99\n",
      "-0.04697703336762331\n",
      "소요시간:  1.348548173904419\n"
     ]
    }
   ],
   "source": [
    "lr = 0.01\n",
    "eps = 0.5\n",
    "gamma = 0.9\n",
    "v = np.array(value)\n",
    "fail_hist = []\n",
    "hist = []\n",
    "fake_obj = obj.copy()\n",
    "\n",
    "s_0 = (0, 0)\n",
    "goal = (3, 4)\n",
    "\n",
    "start = time()\n",
    "for i in range(100):\n",
    "    play(s_0)\n",
    "    print('succes', i)\n",
    "    print(eps)\n",
    "    eps = 0.5 ** (1/(i+1))\n",
    "\n",
    "lt = time() - start\n",
    "print('소요시간: ', lt)"
   ]
  },
  {
   "cell_type": "code",
   "execution_count": 16,
   "metadata": {
    "scrolled": true
   },
   "outputs": [
    {
     "data": {
      "text/plain": [
       "array([[[0.        , 0.49891852, 0.        , 0.49855721],\n",
       "        [0.        , 0.        , 0.49914792, 0.49874057],\n",
       "        [0.        , 0.        , 0.4930504 , 0.49300939],\n",
       "        [0.        , 0.48951808, 0.49067448, 0.        ],\n",
       "        [0.25      , 0.25      , 0.25      , 0.25      ]],\n",
       "\n",
       "       [[0.49718863, 0.49403799, 0.        , 0.        ],\n",
       "        [0.25      , 0.25      , 0.25      , 0.25      ],\n",
       "        [0.25      , 0.25      , 0.25      , 0.25      ],\n",
       "        [0.31628178, 0.37583372, 0.        , 0.31049821],\n",
       "        [0.        , 0.49770399, 0.48749328, 0.        ]],\n",
       "\n",
       "       [[0.38656004, 0.29772596, 0.        , 0.31774763],\n",
       "        [0.        , 0.50387149, 0.49612851, 0.        ],\n",
       "        [0.25      , 0.25      , 0.25      , 0.25      ],\n",
       "        [0.48781066, 0.        , 0.        , 0.49987654],\n",
       "        [0.22852434, 0.64845635, 0.22565128, 0.        ]],\n",
       "\n",
       "       [[0.49970285, 0.        , 0.        , 0.49529418],\n",
       "        [0.49883362, 0.        , 0.49957607, 0.        ],\n",
       "        [0.25      , 0.25      , 0.25      , 0.25      ],\n",
       "        [0.25      , 0.25      , 0.25      , 0.25      ],\n",
       "        [0.25      , 0.25      , 0.25      , 0.25      ]]])"
      ]
     },
     "execution_count": 16,
     "metadata": {},
     "output_type": "execute_result"
    }
   ],
   "source": [
    "v"
   ]
  },
  {
   "cell_type": "code",
   "execution_count": null,
   "metadata": {
    "scrolled": true
   },
   "outputs": [],
   "source": [
    "value = [\n",
    "    [0, 0, 0, 0, 1], \n",
    "    [0, 1, 1, 0, 0], \n",
    "    [0, 0, 1, 0, 0],\n",
    "    [0, 0, 1, 1, 0]\n",
    "]"
   ]
  },
  {
   "cell_type": "code",
   "execution_count": null,
   "metadata": {},
   "outputs": [],
   "source": [
    "eps"
   ]
  },
  {
   "cell_type": "code",
   "execution_count": 12,
   "metadata": {},
   "outputs": [
    {
     "data": {
      "text/plain": [
       "1.6081063747406006"
      ]
     },
     "execution_count": 12,
     "metadata": {},
     "output_type": "execute_result"
    }
   ],
   "source": [
    "lt"
   ]
  },
  {
   "cell_type": "code",
   "execution_count": 17,
   "metadata": {},
   "outputs": [
    {
     "name": "stdout",
     "output_type": "stream",
     "text": [
      "0\n"
     ]
    }
   ],
   "source": [
    "c = 0\n",
    "for h in hist:\n",
    "    if len(h) == 7:\n",
    "        c += 1\n",
    "        \n",
    "print(c)"
   ]
  },
  {
   "cell_type": "code",
   "execution_count": null,
   "metadata": {},
   "outputs": [],
   "source": [
    "lh = list(map(lambda x: len(x), hist))"
   ]
  },
  {
   "cell_type": "code",
   "execution_count": null,
   "metadata": {},
   "outputs": [],
   "source": [
    "import matplotlib.pyplot as plt\n",
    "\n",
    "plt.plot(lh[5:])"
   ]
  },
  {
   "cell_type": "code",
   "execution_count": null,
   "metadata": {
    "scrolled": true
   },
   "outputs": [],
   "source": [
    "lh"
   ]
  },
  {
   "cell_type": "code",
   "execution_count": null,
   "metadata": {},
   "outputs": [],
   "source": [
    "plt.plot()"
   ]
  },
  {
   "cell_type": "code",
   "execution_count": null,
   "metadata": {},
   "outputs": [],
   "source": []
  }
 ],
 "metadata": {
  "kernelspec": {
   "display_name": "Python 3",
   "language": "python",
   "name": "python3"
  },
  "language_info": {
   "codemirror_mode": {
    "name": "ipython",
    "version": 3
   },
   "file_extension": ".py",
   "mimetype": "text/x-python",
   "name": "python",
   "nbconvert_exporter": "python",
   "pygments_lexer": "ipython3",
   "version": "3.7.4"
  },
  "toc": {
   "base_numbering": 1,
   "nav_menu": {},
   "number_sections": true,
   "sideBar": true,
   "skip_h1_title": false,
   "title_cell": "Table of Contents",
   "title_sidebar": "Contents",
   "toc_cell": false,
   "toc_position": {},
   "toc_section_display": true,
   "toc_window_display": false
  }
 },
 "nbformat": 4,
 "nbformat_minor": 2
}
