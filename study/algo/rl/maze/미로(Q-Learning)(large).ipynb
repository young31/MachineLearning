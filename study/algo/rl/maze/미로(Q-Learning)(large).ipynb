{
 "cells": [
  {
   "cell_type": "code",
   "execution_count": 1,
   "metadata": {},
   "outputs": [],
   "source": [
    "import numpy as np\n",
    "from time import time\n",
    "import pickle\n",
    "import gc"
   ]
  },
  {
   "cell_type": "code",
   "execution_count": 2,
   "metadata": {},
   "outputs": [],
   "source": [
    "f = open('test.bin', 'rb')\n",
    "mat = pickle.load(f)"
   ]
  },
  {
   "cell_type": "code",
   "execution_count": 3,
   "metadata": {},
   "outputs": [],
   "source": [
    "mat = mat[1:-1]"
   ]
  },
  {
   "cell_type": "code",
   "execution_count": 4,
   "metadata": {},
   "outputs": [],
   "source": [
    "for i in range(len(mat)):\n",
    "    mat[i].pop()\n",
    "    mat[i].pop(0)\n",
    "    "
   ]
  },
  {
   "cell_type": "code",
   "execution_count": 5,
   "metadata": {},
   "outputs": [
    {
     "data": {
      "text/plain": [
       "(98, 98)"
      ]
     },
     "execution_count": 5,
     "metadata": {},
     "output_type": "execute_result"
    }
   ],
   "source": [
    "np.array(mat).shape"
   ]
  },
  {
   "cell_type": "code",
   "execution_count": 6,
   "metadata": {},
   "outputs": [],
   "source": [
    "k = np.array(mat)"
   ]
  },
  {
   "cell_type": "code",
   "execution_count": 7,
   "metadata": {},
   "outputs": [],
   "source": [
    "for i in range(len(mat)):\n",
    "    for j in range(len(mat)):\n",
    "        if k[i][j] == 2:\n",
    "            start = (i, j)\n",
    "        if k[i][j] == 3:\n",
    "            goal = (i, j)\n",
    "            \n",
    "k[start] = 0\n",
    "k[goal] = 0"
   ]
  },
  {
   "cell_type": "code",
   "execution_count": 8,
   "metadata": {},
   "outputs": [],
   "source": [
    "obj = k.copy()"
   ]
  },
  {
   "cell_type": "code",
   "execution_count": null,
   "metadata": {},
   "outputs": [],
   "source": [
    "obj = [\n",
    "    [0, 0, 0, 0, 1], \n",
    "    [0, 1, 1, 0, 0], \n",
    "    [0, 0, 1, 0, 0],\n",
    "    [0, 0, 1, 1, 0]\n",
    "]\n",
    "obj = np.array(obj)"
   ]
  },
  {
   "cell_type": "code",
   "execution_count": null,
   "metadata": {},
   "outputs": [],
   "source": [
    "obj"
   ]
  },
  {
   "cell_type": "code",
   "execution_count": null,
   "metadata": {},
   "outputs": [],
   "source": [
    "# shape"
   ]
  },
  {
   "cell_type": "code",
   "execution_count": 9,
   "metadata": {},
   "outputs": [],
   "source": [
    "def pi(a):\n",
    "    for i in range(len(a)):\n",
    "        if a[i] == np.nan:\n",
    "            a[i] = 0\n",
    "            \n",
    "    s = np.nansum(a)\n",
    "    if s == 0:\n",
    "        s = 1e-5\n",
    "#         print('here')\n",
    "    for i in range(len(a)):\n",
    "        a[i] /= s\n",
    "    return a\n",
    "\n",
    "def get_pi(a):\n",
    "    for i in range(len(a)):\n",
    "        for j in range(len(a[0])):\n",
    "            a[i][j] = pi(a[i][j])\n",
    "    return a"
   ]
  },
  {
   "cell_type": "code",
   "execution_count": 10,
   "metadata": {},
   "outputs": [],
   "source": [
    "def action(s):\n",
    "    # eps는 사전 설정\n",
    "    ## s_next 생성\n",
    "    if np.random.rand() > eps:\n",
    "        return np.argmax(v[s])\n",
    "    else:\n",
    "        return np.random.choice([0, 1, 2, 3]) # 상하좌우\n",
    "    \n",
    "def state_map(s, a):\n",
    "    s = list(s)\n",
    "    if a == 0:\n",
    "        s[0] -= 1\n",
    "    elif a == 1:\n",
    "        s[0] += 1\n",
    "    elif a == 2:\n",
    "        s[1] -= 1\n",
    "    else:\n",
    "        s[1] += 1\n",
    "    return tuple(s)\n"
   ]
  },
  {
   "cell_type": "code",
   "execution_count": 11,
   "metadata": {},
   "outputs": [],
   "source": [
    "def update(s, a, r, s_next, v):\n",
    "    # lr, gamma 는 위에서 설정하기\n",
    "    if s_next == goal:\n",
    "        v[s][a] = v[s][a] + lr * (r - v[s][a])\n",
    "    else:\n",
    "        v[s][a] = v[s][a] + lr * (r + gamma*np.max(v[s_next]) - v[s][a])\n",
    "        \n",
    "#     v[s] = pi(v[s])\n",
    "    return v\n"
   ]
  },
  {
   "cell_type": "code",
   "execution_count": 1,
   "metadata": {},
   "outputs": [],
   "source": [
    "def is_wall(s):\n",
    "    a = shape[0] - 1\n",
    "    b = shape[1] -1\n",
    "    if s[0] < 0 or s[0] > a:\n",
    "        return True\n",
    "    elif s[1] < 0 or s[1] > b:\n",
    "        return True\n",
    "    elif obj[s] == 1:\n",
    "        return True\n",
    "    else:\n",
    "        return False"
   ]
  },
  {
   "cell_type": "code",
   "execution_count": 13,
   "metadata": {},
   "outputs": [],
   "source": [
    "def play(s):\n",
    "    global v, fail_hist, hist, eps\n",
    "    temp_hist = []\n",
    "    while 1:\n",
    "        eps -= 1e-5\n",
    "        temp_hist.append(s)\n",
    "        a = action(s)\n",
    "        s_next = state_map(s, a)\n",
    "#         print(a, s_next)\n",
    "        \n",
    "        if is_wall(s_next):\n",
    "            fail_hist.append((s, s_next))\n",
    "            v[s][a] = 0\n",
    "            v[s] = pi(v[s])\n",
    "            s_next = (0, 0)\n",
    "            \n",
    "            \n",
    "        elif s_next[0] == goal[0] and s_next[1] == goal[1]: ## 도착\n",
    "            r = 1\n",
    "            v = update(s, a, r, s_next, v)\n",
    "            break\n",
    "        else: ## 갈곳이 남음\n",
    "            r = 0\n",
    "            v = update(s, a, r , s_next, v)\n",
    "            \n",
    "#         print(v[s])\n",
    "        fake_obj[s_next] = 2\n",
    "#         print(fake_obj)\n",
    "        fake_obj[s_next] = obj[s_next]\n",
    "#         print(eps)\n",
    "            \n",
    "        s = s_next\n",
    "#         print(s)\n",
    "        \n",
    "    hist.append(temp_hist)"
   ]
  },
  {
   "cell_type": "code",
   "execution_count": 14,
   "metadata": {},
   "outputs": [],
   "source": [
    "shape = obj.shape\n",
    "value = mat.copy()\n",
    "\n",
    "for i in range(shape[0]):\n",
    "    for j in range(shape[1]):\n",
    "        value[i][j] = [0.25, 0.25, 0.25, 0.25] # 위, 아래, 좌, 우\n",
    "v = np.array(value)"
   ]
  },
  {
   "cell_type": "code",
   "execution_count": 15,
   "metadata": {},
   "outputs": [
    {
     "data": {
      "text/plain": [
       "20"
      ]
     },
     "execution_count": 15,
     "metadata": {},
     "output_type": "execute_result"
    }
   ],
   "source": [
    "gc.collect()"
   ]
  },
  {
   "cell_type": "code",
   "execution_count": 16,
   "metadata": {},
   "outputs": [
    {
     "name": "stdout",
     "output_type": "stream",
     "text": [
      "succes 0\n",
      "succes 1\n",
      "succes 2\n",
      "succes 3\n",
      "succes 4\n",
      "succes 5\n",
      "succes 6\n",
      "succes 7\n",
      "succes 8\n",
      "succes 9\n",
      "succes 10\n",
      "succes 11\n",
      "succes 12\n",
      "succes 13\n",
      "succes 14\n",
      "succes 15\n",
      "succes 16\n",
      "succes 17\n",
      "succes 18\n",
      "succes 19\n",
      "succes 20\n",
      "succes 21\n",
      "succes 22\n",
      "succes 23\n",
      "succes 24\n",
      "succes 25\n",
      "succes 26\n",
      "succes 27\n",
      "succes 28\n",
      "succes 29\n",
      "succes 30\n",
      "succes 31\n",
      "succes 32\n",
      "succes 33\n",
      "succes 34\n",
      "succes 35\n",
      "succes 36\n",
      "succes 37\n",
      "succes 38\n",
      "succes 39\n",
      "succes 40\n",
      "succes 41\n",
      "succes 42\n",
      "succes 43\n",
      "succes 44\n",
      "succes 45\n",
      "succes 46\n",
      "succes 47\n",
      "succes 48\n",
      "succes 49\n",
      "succes 50\n",
      "succes 51\n",
      "succes 52\n",
      "succes 53\n",
      "succes 54\n",
      "succes 55\n",
      "succes 56\n",
      "succes 57\n",
      "succes 58\n",
      "succes 59\n",
      "succes 60\n",
      "succes 61\n",
      "succes 62\n",
      "succes 63\n",
      "succes 64\n",
      "succes 65\n",
      "succes 66\n",
      "succes 67\n",
      "succes 68\n",
      "succes 69\n",
      "succes 70\n",
      "succes 71\n",
      "succes 72\n",
      "succes 73\n",
      "succes 74\n",
      "succes 75\n",
      "succes 76\n",
      "succes 77\n",
      "succes 78\n",
      "succes 79\n",
      "succes 80\n",
      "succes 81\n",
      "succes 82\n",
      "succes 83\n",
      "succes 84\n",
      "succes 85\n",
      "succes 86\n",
      "succes 87\n",
      "succes 88\n",
      "succes 89\n",
      "succes 90\n",
      "succes 91\n",
      "succes 92\n",
      "succes 93\n",
      "succes 94\n",
      "succes 95\n",
      "succes 96\n",
      "succes 97\n",
      "succes 98\n",
      "succes 99\n",
      "Wall time: 8min 25s\n"
     ]
    }
   ],
   "source": [
    "%%time\n",
    "lr = 0.1\n",
    "eps = 0.3\n",
    "gamma = 0.9\n",
    "v = np.array(value)\n",
    "fail_hist = []\n",
    "hist = []\n",
    "fake_obj = obj.copy()\n",
    "\n",
    "s_0 = start\n",
    "goal = goal\n",
    "\n",
    "start = time()\n",
    "for i in range(100):\n",
    "    play(s_0)\n",
    "    print('succes', i)\n",
    "    eps = 0.1 * (0.99 ** i)\n",
    "\n",
    "lt = time() - start"
   ]
  },
  {
   "cell_type": "code",
   "execution_count": null,
   "metadata": {
    "scrolled": true
   },
   "outputs": [],
   "source": [
    "v"
   ]
  },
  {
   "cell_type": "code",
   "execution_count": null,
   "metadata": {
    "scrolled": true
   },
   "outputs": [],
   "source": []
  },
  {
   "cell_type": "code",
   "execution_count": null,
   "metadata": {
    "scrolled": true
   },
   "outputs": [],
   "source": [
    "lr = 0.1\n",
    "eps = 0.5\n",
    "gamma = 0.9\n",
    "v = np.array(value)\n",
    "fail_hist = []\n",
    "hist = []\n",
    "fake_obj = obj.copy()\n",
    "\n",
    "s_0 = (0, 0)\n",
    "goal = (3, 4)\n",
    "\n",
    "start = time()\n",
    "for i in range(100):\n",
    "    play(s_0)\n",
    "    print('succes', i)\n",
    "    print(eps)\n",
    "    eps = 0.5\n",
    "\n",
    "lt = time() - start"
   ]
  },
  {
   "cell_type": "code",
   "execution_count": null,
   "metadata": {
    "scrolled": true
   },
   "outputs": [],
   "source": [
    "v"
   ]
  },
  {
   "cell_type": "code",
   "execution_count": null,
   "metadata": {
    "scrolled": true
   },
   "outputs": [],
   "source": [
    "value = [\n",
    "    [0, 0, 0, 0, 1], \n",
    "    [0, 1, 1, 0, 0], \n",
    "    [0, 0, 1, 0, 0],\n",
    "    [0, 0, 1, 1, 0]\n",
    "]"
   ]
  },
  {
   "cell_type": "code",
   "execution_count": null,
   "metadata": {},
   "outputs": [],
   "source": [
    "eps"
   ]
  },
  {
   "cell_type": "code",
   "execution_count": null,
   "metadata": {},
   "outputs": [],
   "source": [
    "lt"
   ]
  },
  {
   "cell_type": "code",
   "execution_count": null,
   "metadata": {},
   "outputs": [],
   "source": [
    "c = 0\n",
    "for h in hist:\n",
    "    if len(h) == 7:\n",
    "        c += 1\n",
    "        \n",
    "print(c)"
   ]
  },
  {
   "cell_type": "code",
   "execution_count": 17,
   "metadata": {},
   "outputs": [],
   "source": [
    "lh = list(map(lambda x: len(x), hist))"
   ]
  },
  {
   "cell_type": "code",
   "execution_count": 19,
   "metadata": {},
   "outputs": [
    {
     "data": {
      "text/plain": [
       "[<matplotlib.lines.Line2D at 0x126bb0d7c48>]"
      ]
     },
     "execution_count": 19,
     "metadata": {},
     "output_type": "execute_result"
    },
    {
     "data": {
      "image/png": "[encoded data removed]",
      "text/plain": [
       "<Figure size 432x288 with 1 Axes>"
      ]
     },
     "metadata": {
      "needs_background": "light"
     },
     "output_type": "display_data"
    }
   ],
   "source": [
    "import matplotlib.pyplot as plt\n",
    "\n",
    "plt.plot(lh[10:])"
   ]
  },
  {
   "cell_type": "code",
   "execution_count": 20,
   "metadata": {
    "scrolled": true
   },
   "outputs": [
    {
     "data": {
      "text/plain": [
       "17625"
      ]
     },
     "execution_count": 20,
     "metadata": {},
     "output_type": "execute_result"
    }
   ],
   "source": [
    "min(lh)"
   ]
  },
  {
   "cell_type": "code",
   "execution_count": 21,
   "metadata": {},
   "outputs": [
    {
     "data": {
      "text/plain": [
       "0.036972963764972645"
      ]
     },
     "execution_count": 21,
     "metadata": {},
     "output_type": "execute_result"
    }
   ],
   "source": [
    "eps"
   ]
  },
  {
   "cell_type": "code",
   "execution_count": null,
   "metadata": {},
   "outputs": [],
   "source": []
  }
 ],
 "metadata": {
  "kernelspec": {
   "display_name": "Python 3",
   "language": "python",
   "name": "python3"
  },
  "language_info": {
   "codemirror_mode": {
    "name": "ipython",
    "version": 3
   },
   "file_extension": ".py",
   "mimetype": "text/x-python",
   "name": "python",
   "nbconvert_exporter": "python",
   "pygments_lexer": "ipython3",
   "version": "3.7.4"
  },
  "toc": {
   "base_numbering": 1,
   "nav_menu": {},
   "number_sections": true,
   "sideBar": true,
   "skip_h1_title": false,
   "title_cell": "Table of Contents",
   "title_sidebar": "Contents",
   "toc_cell": false,
   "toc_position": {},
   "toc_section_display": true,
   "toc_window_display": false
  }
 },
 "nbformat": 4,
 "nbformat_minor": 2
}
