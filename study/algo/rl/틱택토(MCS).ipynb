{
 "cells": [
  {
   "cell_type": "code",
   "execution_count": 23,
   "metadata": {},
   "outputs": [],
   "source": [
    "import numpy as np\n",
    "import seaborn as sns\n",
    "import gc"
   ]
  },
  {
   "cell_type": "code",
   "execution_count": 2,
   "metadata": {},
   "outputs": [],
   "source": [
    "init_state = np.array([\n",
    "    [0, 0, 0],\n",
    "    [0, 0, 0],\n",
    "    [0, 0, 0]\n",
    "])"
   ]
  },
  {
   "cell_type": "code",
   "execution_count": 3,
   "metadata": {},
   "outputs": [],
   "source": [
    "class Game:\n",
    "    def __init__(self, state):\n",
    "        self.state = state\n",
    "        self.empty = self.make_empty(state)\n",
    "        self.first_player = FIRST\n",
    "        \n",
    "    def make_empty(self, state):\n",
    "        emp = []\n",
    "        for i in range(3):\n",
    "            for j in range(3):\n",
    "                if state[i][j] == 0:\n",
    "                    emp.append(3*i + j)\n",
    "        \n",
    "        return emp\n",
    "    \n",
    "    def is_lose(self, a):\n",
    "        opp = 2 - (a-1)\n",
    "        \n",
    "        for i in range(3):\n",
    "            if self.state[i][0] == self.state[i][1] == self.state[i][2] == opp:\n",
    "                return 1\n",
    "            elif self.state[0][i] == self.state[1][i] == self.state[2][i] == opp:\n",
    "                return 1\n",
    "        if self.state[0][0] == self.state[1][1] == self.state[2][2] == opp:\n",
    "            return 1\n",
    "        return 0\n",
    "    \n",
    "    def is_win(self, a):       \n",
    "        for i in range(3):\n",
    "            if self.state[i][0] == self.state[i][1] == self.state[i][2] == a:\n",
    "                return 1\n",
    "            elif self.state[0][i] == self.state[1][i] == self.state[2][i] == a:\n",
    "                return 1\n",
    "        if self.state[0][0] == self.state[1][1] == self.state[2][2] == a:\n",
    "            return 1\n",
    "        if self.state[0][2] == self.state[1][1] == self.state[2][0] == a:\n",
    "            return 1\n",
    "        return 0\n",
    "    \n",
    "    def is_draw(self, a):\n",
    "        if self.is_win(a):\n",
    "            return 0\n",
    "        if np.all(self.state):\n",
    "            return 1\n",
    "        else:\n",
    "            return 0\n",
    "        \n",
    "    def is_done(self):\n",
    "        if self.is_win(1) or self.is_win(2) or self.is_draw(a):\n",
    "            return 1\n",
    "        else:\n",
    "            return 0\n",
    "        \n",
    "        \n",
    "    def update(self, target):\n",
    "        state = self.state.copy()\n",
    "        x, y = target//3, target%3\n",
    "        a = self.next_opp()\n",
    "        state[x][y] = a\n",
    "        return Game(state)\n",
    "    \n",
    "    \n",
    "    def next_opp(self):\n",
    "        a = b = 0\n",
    "        for i in range(len(self.state)):\n",
    "            for j in range(len(self.state)):\n",
    "                if self.state[i][j] == self.first_player:\n",
    "                    a += 1\n",
    "                elif self.state[i][j] != 0:\n",
    "                    b += 1\n",
    "                    \n",
    "        if a == b:\n",
    "            return self.first_player\n",
    "        else:\n",
    "            return 2 + min(0, 1-self.first_player)"
   ]
  },
  {
   "cell_type": "code",
   "execution_count": null,
   "metadata": {},
   "outputs": [],
   "source": [
    "# def mcs(game):\n",
    "#     n = 10\n",
    "#     values = [0] * len(game.empty)\n",
    "    \n",
    "#     for i, a in enumerate(game.empty):\n",
    "#         for _ in range(n):\n",
    "#             values[i] += -playout(game.update())\n",
    "    "
   ]
  },
  {
   "cell_type": "code",
   "execution_count": 4,
   "metadata": {},
   "outputs": [],
   "source": [
    "class Random:\n",
    "    def __init__(self, status):\n",
    "        self.status = status\n",
    "        \n",
    "        \n",
    "    def action(self, game):\n",
    "        return np.random.choice(game.empty)"
   ]
  },
  {
   "cell_type": "code",
   "execution_count": 5,
   "metadata": {},
   "outputs": [],
   "source": [
    "class MCS:\n",
    "    def __init__(self, status, n):\n",
    "        self.status = status\n",
    "        self.n = n\n",
    "    \n",
    "    def playout(self, game):\n",
    "#         print(game.state)\n",
    "        if game.is_lose(self.status):\n",
    "            return -1\n",
    "        \n",
    "        if game.is_draw(self.status):\n",
    "            return 0\n",
    "        \n",
    "        \n",
    "        if game.is_win(self.status):\n",
    "            return 1\n",
    "        \n",
    "        return self.playout(game.update(np.random.choice(game.empty)))\n",
    "    \n",
    "    \n",
    "    def action(self, game):\n",
    "        values = [0] * len(game.empty)\n",
    "\n",
    "        for i, a in enumerate(game.empty):\n",
    "            for _ in range(self.n):\n",
    "                g = game.update(a)\n",
    "                values[i] += self.playout(g)\n",
    "                \n",
    "        return game.empty[np.argmax(values)]\n",
    "    \n",
    "    def make_opp(self):\n",
    "        if self.count % 2 == 0:\n",
    "            return self.status\n",
    "        else:\n",
    "            return 2 + min(0, 1-self.status)\n",
    "                "
   ]
  },
  {
   "cell_type": "code",
   "execution_count": 16,
   "metadata": {},
   "outputs": [],
   "source": [
    "g = Game(init_state)\n",
    "m = MCS(2, 10)\n"
   ]
  },
  {
   "cell_type": "code",
   "execution_count": 24,
   "metadata": {},
   "outputs": [
    {
     "data": {
      "text/plain": [
       "176"
      ]
     },
     "execution_count": 24,
     "metadata": {},
     "output_type": "execute_result"
    }
   ],
   "source": [
    "gc.collect()"
   ]
  },
  {
   "cell_type": "code",
   "execution_count": 25,
   "metadata": {},
   "outputs": [],
   "source": [
    "def play(game, m1, m2):\n",
    "    global score\n",
    "    while 1:\n",
    "        a1 = m1.action(game)\n",
    "        game = game.update(a1)\n",
    "        if game.is_win(m1.status):\n",
    "#             print(m1.status, 'wins')\n",
    "#             print(game.state)\n",
    "            score[m1.status-1] += 1\n",
    "            return \n",
    "        elif game.is_draw(m1.status):\n",
    "#             print('draw')\n",
    "#             print(game.state)\n",
    "            score[2] += 1\n",
    "            return \n",
    "\n",
    "        a2 = m2.action(game)\n",
    "        game = game.update(a2)\n",
    "        if game.is_win(m2.status):\n",
    "#             print(m2.status, 'wins')\n",
    "#             print(game.state)\n",
    "            score[m2.status-1] += 1\n",
    "            return \n",
    "        elif game.is_draw(m2.status):\n",
    "#             print('draw')\n",
    "#             print(game.state)\n",
    "            score[2] += 1\n",
    "            return \n"
   ]
  },
  {
   "cell_type": "code",
   "execution_count": 26,
   "metadata": {},
   "outputs": [],
   "source": [
    "FIRST = 1\n",
    "game = Game(init_state)\n",
    "m1 = Random(1)\n",
    "m2 = MCS(2, 20)"
   ]
  },
  {
   "cell_type": "code",
   "execution_count": 27,
   "metadata": {
    "scrolled": true
   },
   "outputs": [],
   "source": [
    "%%time\n",
    "score = [0, 0, 0]\n",
    "for _ in range(1000):\n",
    "    play(game, m1, m2)\n",
    "    \n",
    "score1 = score.copy()\n",
    "\n",
    "FIRST = 2\n",
    "game = Game(init_state)\n",
    "for _ in range(1000):\n",
    "    play(game, m2, m1)"
   ]
  },
  {
   "cell_type": "code",
   "execution_count": 28,
   "metadata": {},
   "outputs": [
    {
     "data": {
      "text/plain": [
       "[95, 1801, 104]"
      ]
     },
     "execution_count": 28,
     "metadata": {},
     "output_type": "execute_result"
    }
   ],
   "source": [
    "score"
   ]
  },
  {
   "cell_type": "code",
   "execution_count": 29,
   "metadata": {},
   "outputs": [
    {
     "data": {
      "text/plain": [
       "[89, 829, 82]"
      ]
     },
     "execution_count": 29,
     "metadata": {},
     "output_type": "execute_result"
    }
   ],
   "source": [
    "score1"
   ]
  },
  {
   "cell_type": "code",
   "execution_count": null,
   "metadata": {},
   "outputs": [],
   "source": [
    "sns.barplot(x = [1, 2], y = score[:2])"
   ]
  },
  {
   "cell_type": "code",
   "execution_count": null,
   "metadata": {},
   "outputs": [],
   "source": [
    "game.state"
   ]
  },
  {
   "cell_type": "code",
   "execution_count": null,
   "metadata": {},
   "outputs": [],
   "source": [
    "# v1: 710 vs 1208\n",
    "# v2: 113 vs 1771 // 113 vs 814\n",
    "# v3: 95 vs 1801 // 89 vs 829\n",
    "## 이정도면 완성형\n"
   ]
  },
  {
   "cell_type": "code",
   "execution_count": null,
   "metadata": {},
   "outputs": [],
   "source": []
  }
 ],
 "metadata": {
  "kernelspec": {
   "display_name": "Python 3",
   "language": "python",
   "name": "python3"
  },
  "language_info": {
   "codemirror_mode": {
    "name": "ipython",
    "version": 3
   },
   "file_extension": ".py",
   "mimetype": "text/x-python",
   "name": "python",
   "nbconvert_exporter": "python",
   "pygments_lexer": "ipython3",
   "version": "3.7.4"
  },
  "toc": {
   "base_numbering": 1,
   "nav_menu": {},
   "number_sections": true,
   "sideBar": true,
   "skip_h1_title": false,
   "title_cell": "Table of Contents",
   "title_sidebar": "Contents",
   "toc_cell": false,
   "toc_position": {},
   "toc_section_display": true,
   "toc_window_display": false
  }
 },
 "nbformat": 4,
 "nbformat_minor": 2
}
