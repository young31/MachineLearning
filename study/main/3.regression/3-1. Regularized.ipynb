{
 "cells": [
  {
   "cell_type": "markdown",
   "metadata": {},
   "source": [
    "# Regularization\n",
    "\n",
    "- 기존 회귀에서는 RSS를 최소화하는 것을 목표로 함\n",
    "- 이 때 과적합을 피하기 위해 새로운 항을 더해 새로운 손실함수로 정의함\n",
    "    - 이 것이 regularized regression\n",
    "- 대표적으로 l1, l2 규제가 있음\n",
    "    - l1: 기존 RSS항에 alpha x sum of abs(params)를 더해줌\n",
    "    - l2: 위 항에서 abs(params) 대신 parmas^2 을 더해줌\n",
    "- l1 regression을 lasso, l2 regression을 ridge, 결합한 것을 elasticnet이라 함\n",
    "\n",
    "- 해당하는 alpha를 증가시키면 회귀계수의 크기를 감소시키는 효과를 얻을 수 있음"
   ]
  },
  {
   "cell_type": "code",
   "execution_count": 1,
   "metadata": {},
   "outputs": [],
   "source": [
    "import numpy as np\n",
    "import pandas as pd\n",
    "from sklearn.datasets import load_boston\n",
    "from sklearn.preprocessing import StandardScaler\n",
    "import warnings\n",
    "\n",
    "warnings.filterwarnings(action='ignore')\n",
    "\n",
    "d = load_boston()\n",
    "\n",
    "std = StandardScaler()\n",
    "data = pd.DataFrame(std.fit_transform(d.data), columns=d.feature_names)\n",
    "target = std.fit_transform(d.target.reshape(-1,1))\n",
    "dd = data.iloc[:,0:3]"
   ]
  },
  {
   "cell_type": "code",
   "execution_count": 2,
   "metadata": {},
   "outputs": [
    {
     "data": {
      "text/plain": [
       "array([[-0.23252837,  0.14834915, -0.30999003]])"
      ]
     },
     "execution_count": 2,
     "metadata": {},
     "output_type": "execute_result"
    }
   ],
   "source": [
    "from sklearn.linear_model import LinearRegression\n",
    "\n",
    "lr = LinearRegression().fit(dd, target)\n",
    "lr.coef_"
   ]
  },
  {
   "cell_type": "code",
   "execution_count": 3,
   "metadata": {},
   "outputs": [
    {
     "data": {
      "text/plain": [
       "array([-0.16010667,  0.08147935, -0.27513247])"
      ]
     },
     "execution_count": 3,
     "metadata": {},
     "output_type": "execute_result"
    }
   ],
   "source": [
    "## lasso\n",
    "from sklearn.linear_model import Lasso\n",
    "\n",
    "lasso = Lasso(alpha=0.1).fit(dd, target)\n",
    "lasso.coef_"
   ]
  },
  {
   "cell_type": "code",
   "execution_count": 4,
   "metadata": {},
   "outputs": [
    {
     "data": {
      "text/plain": [
       "(array([-0.14427778,  0.24282989, -0.14195669,  0.0506    ]),\n",
       " 276.0544790042091)"
      ]
     },
     "execution_count": 4,
     "metadata": {},
     "output_type": "execute_result"
    }
   ],
   "source": [
    "def update(w, X, y, lr=0.001, alpha=0.1):\n",
    "    X['int'] = np.ones(len(X))\n",
    "    f = (X.T@X @ w).values\n",
    "    b = X.T@y\n",
    "    bb = list(list(zip(*b.values))[0])\n",
    "    bb = (np.multiply(-1, bb))\n",
    "    w_update = np.add(f, bb)\n",
    "    \n",
    "    def abss(a, alpha=alpha):\n",
    "        if a <= 0:\n",
    "            return -1*alpha*len(X)\n",
    "        else:\n",
    "            return alpha*len(X)\n",
    "    l1 = list(map(abss, w))\n",
    "    w_update = np.add(w_update, l1)\n",
    "    \n",
    "    w = np.add(w, np.multiply(-1*lr, w_update))\n",
    "   \n",
    "    y_pred = pd.DataFrame((X @ w).T)    \n",
    "    diff = y - y_pred\n",
    "    return w, np.sum(np.square(y-y_pred))[0]+sum(l1)\n",
    "\n",
    "w = [-0.1, 0.3, -0.1, 0]\n",
    "update(w, dd, target)"
   ]
  },
  {
   "cell_type": "code",
   "execution_count": 5,
   "metadata": {
    "scrolled": true
   },
   "outputs": [],
   "source": [
    "e = 10000\n",
    "for _ in range(1000):\n",
    "    w, error = update(w, dd, target)\n",
    "#     print(error)\n",
    "#     if error > e:\n",
    "#         break\n",
    "#     else:\n",
    "#         e = error"
   ]
  },
  {
   "cell_type": "code",
   "execution_count": 6,
   "metadata": {},
   "outputs": [
    {
     "data": {
      "text/plain": [
       "array([-0.16010601,  0.08147383, -0.27513569, -0.03386881])"
      ]
     },
     "execution_count": 6,
     "metadata": {},
     "output_type": "execute_result"
    }
   ],
   "source": [
    "w"
   ]
  },
  {
   "cell_type": "code",
   "execution_count": 7,
   "metadata": {},
   "outputs": [
    {
     "data": {
      "text/plain": [
       "array([[-0.23002297,  0.14867902, -0.30480869,  0.        ]])"
      ]
     },
     "execution_count": 7,
     "metadata": {},
     "output_type": "execute_result"
    }
   ],
   "source": [
    "## ridge\n",
    "from sklearn.linear_model import Ridge\n",
    "\n",
    "ridge = Ridge(alpha=10).fit(dd, target)\n",
    "ridge.coef_\n"
   ]
  },
  {
   "cell_type": "code",
   "execution_count": 8,
   "metadata": {},
   "outputs": [
    {
     "data": {
      "text/plain": [
       "(array([-1.94677784e-01,  2.92829895e-01, -1.92356692e-01, -3.36841666e-16]),\n",
       " 367.41116905986775)"
      ]
     },
     "execution_count": 8,
     "metadata": {},
     "output_type": "execute_result"
    }
   ],
   "source": [
    "def update(w, X, y, lr=0.001, alpha=0.1):\n",
    "    X['int'] = np.ones(len(X))\n",
    "    f = (X.T@X @ w).values\n",
    "    b = X.T@y\n",
    "    bb = list(list(zip(*b.values))[0])\n",
    "    bb = (np.multiply(-1, bb))\n",
    "    w_update = np.add(f, bb)\n",
    "    \n",
    "    l2 = np.multiply(w, 2)\n",
    "    w_update = np.add(w_update, l2)\n",
    "    \n",
    "    w = np.add(w, np.multiply(-1*lr, w_update))\n",
    "   \n",
    "    y_pred = pd.DataFrame((X @ w).T)    \n",
    "    diff = y - y_pred\n",
    "    return w, np.sum(np.square(y-y_pred))[0]+sum(l2)\n",
    "\n",
    "w = [-0.1, 0.3, -0.1, 0]\n",
    "update(w, dd, target)"
   ]
  },
  {
   "cell_type": "code",
   "execution_count": 9,
   "metadata": {},
   "outputs": [],
   "source": [
    "for _ in range(1000):\n",
    "    w, error = update(w, dd, target)"
   ]
  },
  {
   "cell_type": "code",
   "execution_count": 10,
   "metadata": {},
   "outputs": [
    {
     "data": {
      "text/plain": [
       "array([-2.32026009e-01,  1.48428642e-01, -3.08930771e-01, -1.34708312e-15])"
      ]
     },
     "execution_count": 10,
     "metadata": {},
     "output_type": "execute_result"
    }
   ],
   "source": [
    "w"
   ]
  },
  {
   "cell_type": "code",
   "execution_count": 13,
   "metadata": {},
   "outputs": [
    {
     "data": {
      "text/plain": [
       "array([-0.20564352,  0.12556627, -0.29367793,  0.        ])"
      ]
     },
     "execution_count": 13,
     "metadata": {},
     "output_type": "execute_result"
    }
   ],
   "source": [
    "## elasticnet\n",
    "## l1_ratio = a/(a+b), where a = parameter alpha\n",
    "from sklearn.linear_model import ElasticNet\n",
    "\n",
    "en = ElasticNet(alpha=0.05, l1_ratio=0.7).fit(dd, target)\n",
    "en.coef_\n"
   ]
  },
  {
   "cell_type": "code",
   "execution_count": null,
   "metadata": {},
   "outputs": [],
   "source": []
  }
 ],
 "metadata": {
  "kernelspec": {
   "display_name": "Python 3",
   "language": "python",
   "name": "python3"
  },
  "language_info": {
   "codemirror_mode": {
    "name": "ipython",
    "version": 3
   },
   "file_extension": ".py",
   "mimetype": "text/x-python",
   "name": "python",
   "nbconvert_exporter": "python",
   "pygments_lexer": "ipython3",
   "version": "3.7.4"
  },
  "toc": {
   "base_numbering": 1,
   "nav_menu": {},
   "number_sections": true,
   "sideBar": true,
   "skip_h1_title": false,
   "title_cell": "Table of Contents",
   "title_sidebar": "Contents",
   "toc_cell": false,
   "toc_position": {},
   "toc_section_display": true,
   "toc_window_display": false
  }
 },
 "nbformat": 4,
 "nbformat_minor": 2
}
