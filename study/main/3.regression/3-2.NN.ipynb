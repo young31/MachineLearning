{
 "cells": [
  {
   "cell_type": "code",
   "execution_count": 2,
   "metadata": {},
   "outputs": [],
   "source": [
    "import numpy as np\n",
    "import pandas as pd\n",
    "from sklearn.datasets import load_boston\n",
    "from sklearn.preprocessing import StandardScaler\n",
    "import warnings\n",
    "\n",
    "warnings.filterwarnings(action='ignore')\n",
    "\n",
    "d = load_boston()\n",
    "\n",
    "std = StandardScaler()\n",
    "data = pd.DataFrame(std.fit_transform(d.data), columns=d.feature_names)\n",
    "target = std.fit_transform(d.target.reshape(-1,1))\n",
    "dd = data.iloc[:,0:3]"
   ]
  },
  {
   "cell_type": "code",
   "execution_count": 3,
   "metadata": {},
   "outputs": [
    {
     "name": "stderr",
     "output_type": "stream",
     "text": [
      "Using TensorFlow backend.\n"
     ]
    }
   ],
   "source": [
    "from keras import models, layers\n",
    "\n",
    "input_layer = layers.Input(shape=(data.shape[1],))\n",
    "\n",
    "layer1 = layers.Dense(32, activation='relu')(input_layer)\n",
    "layer2 = layers.Dense(16, activation='relu')(layer1)\n",
    "\n",
    "out_layer = layers.Dense(1)(layer2) ## 분류는 마지막 층에 activation이 sigmoid였지만 회귀에서는 설정하지 않는다(linear)\n",
    "\n",
    "model = models.Model(input_layer, out_layer)"
   ]
  },
  {
   "cell_type": "code",
   "execution_count": 5,
   "metadata": {},
   "outputs": [],
   "source": [
    "model.compile(optimizer='adam',\n",
    "             loss='mse',\n",
    "             metrics=['mse'])"
   ]
  },
  {
   "cell_type": "code",
   "execution_count": 6,
   "metadata": {
    "scrolled": true
   },
   "outputs": [
    {
     "name": "stdout",
     "output_type": "stream",
     "text": [
      "Epoch 1/50\n",
      "506/506 [==============================] - 0s 730us/step - loss: 0.8835 - mse: 0.8835\n",
      "Epoch 2/50\n",
      "506/506 [==============================] - 0s 81us/step - loss: 0.5620 - mse: 0.5620\n",
      "Epoch 3/50\n",
      "506/506 [==============================] - 0s 81us/step - loss: 0.4103 - mse: 0.4103\n",
      "Epoch 4/50\n",
      "506/506 [==============================] - 0s 80us/step - loss: 0.3224 - mse: 0.3224\n",
      "Epoch 5/50\n",
      "506/506 [==============================] - 0s 77us/step - loss: 0.2610 - mse: 0.2610\n",
      "Epoch 6/50\n",
      "506/506 [==============================] - 0s 81us/step - loss: 0.2204 - mse: 0.2204\n",
      "Epoch 7/50\n",
      "506/506 [==============================] - 0s 78us/step - loss: 0.1990 - mse: 0.1990\n",
      "Epoch 8/50\n",
      "506/506 [==============================] - 0s 77us/step - loss: 0.1839 - mse: 0.1839\n",
      "Epoch 9/50\n",
      "506/506 [==============================] - 0s 78us/step - loss: 0.1740 - mse: 0.1740\n",
      "Epoch 10/50\n",
      "506/506 [==============================] - 0s 77us/step - loss: 0.1644 - mse: 0.1644\n",
      "Epoch 11/50\n",
      "506/506 [==============================] - 0s 84us/step - loss: 0.1576 - mse: 0.1576\n",
      "Epoch 12/50\n",
      "506/506 [==============================] - 0s 80us/step - loss: 0.1515 - mse: 0.1515\n",
      "Epoch 13/50\n",
      "506/506 [==============================] - 0s 82us/step - loss: 0.1445 - mse: 0.1445\n",
      "Epoch 14/50\n",
      "506/506 [==============================] - 0s 85us/step - loss: 0.1392 - mse: 0.1392\n",
      "Epoch 15/50\n",
      "506/506 [==============================] - 0s 84us/step - loss: 0.1327 - mse: 0.1327\n",
      "Epoch 16/50\n",
      "506/506 [==============================] - 0s 85us/step - loss: 0.1291 - mse: 0.1291\n",
      "Epoch 17/50\n",
      "506/506 [==============================] - 0s 81us/step - loss: 0.1238 - mse: 0.1238\n",
      "Epoch 18/50\n",
      "506/506 [==============================] - 0s 83us/step - loss: 0.1201 - mse: 0.1201\n",
      "Epoch 19/50\n",
      "506/506 [==============================] - 0s 83us/step - loss: 0.1163 - mse: 0.1163\n",
      "Epoch 20/50\n",
      "506/506 [==============================] - 0s 78us/step - loss: 0.1124 - mse: 0.1124\n",
      "Epoch 21/50\n",
      "506/506 [==============================] - 0s 79us/step - loss: 0.1100 - mse: 0.1100\n",
      "Epoch 22/50\n",
      "506/506 [==============================] - 0s 76us/step - loss: 0.1072 - mse: 0.1072\n",
      "Epoch 23/50\n",
      "506/506 [==============================] - 0s 77us/step - loss: 0.1048 - mse: 0.1048\n",
      "Epoch 24/50\n",
      "506/506 [==============================] - 0s 77us/step - loss: 0.1027 - mse: 0.1027\n",
      "Epoch 25/50\n",
      "506/506 [==============================] - 0s 79us/step - loss: 0.1003 - mse: 0.1003\n",
      "Epoch 26/50\n",
      "506/506 [==============================] - 0s 81us/step - loss: 0.0976 - mse: 0.0976\n",
      "Epoch 27/50\n",
      "506/506 [==============================] - 0s 83us/step - loss: 0.0959 - mse: 0.0959\n",
      "Epoch 28/50\n",
      "506/506 [==============================] - 0s 76us/step - loss: 0.0949 - mse: 0.0949\n",
      "Epoch 29/50\n",
      "506/506 [==============================] - 0s 77us/step - loss: 0.0925 - mse: 0.0925\n",
      "Epoch 30/50\n",
      "506/506 [==============================] - 0s 82us/step - loss: 0.0901 - mse: 0.0901\n",
      "Epoch 31/50\n",
      "506/506 [==============================] - 0s 81us/step - loss: 0.0893 - mse: 0.0893\n",
      "Epoch 32/50\n",
      "506/506 [==============================] - 0s 79us/step - loss: 0.0881 - mse: 0.0881\n",
      "Epoch 33/50\n",
      "506/506 [==============================] - 0s 79us/step - loss: 0.0874 - mse: 0.0874\n",
      "Epoch 34/50\n",
      "506/506 [==============================] - 0s 78us/step - loss: 0.0858 - mse: 0.0858\n",
      "Epoch 35/50\n",
      "506/506 [==============================] - 0s 75us/step - loss: 0.0825 - mse: 0.0825\n",
      "Epoch 36/50\n",
      "506/506 [==============================] - 0s 83us/step - loss: 0.0810 - mse: 0.0810\n",
      "Epoch 37/50\n",
      "506/506 [==============================] - 0s 84us/step - loss: 0.0801 - mse: 0.0801\n",
      "Epoch 38/50\n",
      "506/506 [==============================] - 0s 83us/step - loss: 0.0788 - mse: 0.0788\n",
      "Epoch 39/50\n",
      "506/506 [==============================] - 0s 87us/step - loss: 0.0769 - mse: 0.0769\n",
      "Epoch 40/50\n",
      "506/506 [==============================] - 0s 85us/step - loss: 0.0760 - mse: 0.0760\n",
      "Epoch 41/50\n",
      "506/506 [==============================] - 0s 85us/step - loss: 0.0751 - mse: 0.0751\n",
      "Epoch 42/50\n",
      "506/506 [==============================] - 0s 84us/step - loss: 0.0740 - mse: 0.0740\n",
      "Epoch 43/50\n",
      "506/506 [==============================] - 0s 88us/step - loss: 0.0726 - mse: 0.0726\n",
      "Epoch 44/50\n",
      "506/506 [==============================] - 0s 90us/step - loss: 0.0747 - mse: 0.0747\n",
      "Epoch 45/50\n",
      "506/506 [==============================] - 0s 86us/step - loss: 0.0719 - mse: 0.0719\n",
      "Epoch 46/50\n",
      "506/506 [==============================] - 0s 84us/step - loss: 0.0690 - mse: 0.0690\n",
      "Epoch 47/50\n",
      "506/506 [==============================] - 0s 87us/step - loss: 0.0681 - mse: 0.0681\n",
      "Epoch 48/50\n",
      "506/506 [==============================] - 0s 81us/step - loss: 0.0677 - mse: 0.0677\n",
      "Epoch 49/50\n",
      "506/506 [==============================] - 0s 81us/step - loss: 0.0678 - mse: 0.0678\n",
      "Epoch 50/50\n",
      "506/506 [==============================] - 0s 83us/step - loss: 0.0671 - mse: 0.0671\n"
     ]
    },
    {
     "data": {
      "text/plain": [
       "<keras.callbacks.callbacks.History at 0x2c7ef23ff88>"
      ]
     },
     "execution_count": 6,
     "metadata": {},
     "output_type": "execute_result"
    }
   ],
   "source": [
    "model.fit(data, target, epochs=50)"
   ]
  },
  {
   "cell_type": "code",
   "execution_count": null,
   "metadata": {},
   "outputs": [],
   "source": []
  }
 ],
 "metadata": {
  "kernelspec": {
   "display_name": "Python 3",
   "language": "python",
   "name": "python3"
  },
  "language_info": {
   "codemirror_mode": {
    "name": "ipython",
    "version": 3
   },
   "file_extension": ".py",
   "mimetype": "text/x-python",
   "name": "python",
   "nbconvert_exporter": "python",
   "pygments_lexer": "ipython3",
   "version": "3.7.4"
  },
  "toc": {
   "base_numbering": 1,
   "nav_menu": {},
   "number_sections": true,
   "sideBar": true,
   "skip_h1_title": false,
   "title_cell": "Table of Contents",
   "title_sidebar": "Contents",
   "toc_cell": false,
   "toc_position": {},
   "toc_section_display": true,
   "toc_window_display": false
  }
 },
 "nbformat": 4,
 "nbformat_minor": 2
}
