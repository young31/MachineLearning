{
 "cells": [
  {
   "cell_type": "code",
   "execution_count": 1,
   "metadata": {},
   "outputs": [
    {
     "name": "stderr",
     "output_type": "stream",
     "text": [
      "Using TensorFlow backend.\n"
     ]
    }
   ],
   "source": [
    "import pandas as pd\n",
    "import numpy as np\n",
    "import keras \n",
    "from keras import models, layers\n",
    "from sklearn.svm import SVC\n"
   ]
  },
  {
   "cell_type": "code",
   "execution_count": 5,
   "metadata": {},
   "outputs": [],
   "source": [
    "from sklearn.preprocessing import MinMaxScaler, StandardScaler, LabelEncoder\n",
    "from sklearn.model_selection import train_test_split\n",
    "data = pd.read_csv('../1.clustering/titanic.csv')\n",
    "\n",
    "target = data['Survived']\n",
    "data = data.drop(['PassengerId', 'Survived'], axis=1)\n",
    "\n",
    "d = data.copy()\n",
    "categorical = [\n",
    "    'Pclass', 'Sex', 'SibSp', 'Parch', 'Embarked'\n",
    "]\n",
    "data['Age'] = pd.DataFrame(MinMaxScaler().fit_transform(data['Age'].values.reshape(-1,1)))\n",
    "data['Fare'] = pd.DataFrame(StandardScaler().fit_transform(data['Fare'].values.reshape(-1,1)))\n",
    "\n",
    "lbe = LabelEncoder()\n",
    "data['Sex'] = lbe.fit_transform(data['Sex'])\n",
    "sex = lbe.classes_\n",
    "data['Embarked'] = lbe.fit_transform(data['Embarked'])\n",
    "emb = lbe.classes_\n",
    "\n",
    "for c in categorical:\n",
    "    data = pd.concat([data, pd.get_dummies(data[c], prefix=c)], axis=1)\n",
    "    data = data.drop(c, axis=1)\n",
    "    \n",
    "train_X, test_X, train_y, test_y = train_test_split(data, target, test_size=0.3, random_state=0, shuffle=True)"
   ]
  },
  {
   "cell_type": "code",
   "execution_count": 6,
   "metadata": {},
   "outputs": [],
   "source": [
    "svm = SVC(kernel='linear', C=1).fit(train_X, train_y)"
   ]
  },
  {
   "cell_type": "code",
   "execution_count": 7,
   "metadata": {},
   "outputs": [
    {
     "data": {
      "text/plain": [
       "array([0, 0, 0, 1, 0, 0, 1, 0, 0, 1, 0, 0, 0, 0, 0, 0, 0, 0, 0, 0, 0, 1,\n",
       "       1, 0, 0, 1, 1, 0, 0, 0, 0, 0, 0, 0, 0, 0, 1, 0, 0, 1, 0, 1, 0, 0,\n",
       "       1, 1, 1, 1, 1, 0, 0, 0, 1, 0, 0, 1, 0, 1, 1, 0, 1, 0, 0, 0, 0, 0,\n",
       "       0, 1, 1, 1, 1, 0, 0, 1, 0, 0, 0, 0, 0, 1, 1, 0, 0, 1, 0, 1, 0, 0,\n",
       "       0, 0, 0, 1, 0, 1, 0, 0, 0, 1, 0, 0, 0, 0, 0, 0, 0, 0, 0, 0, 1, 1,\n",
       "       0, 1, 1, 1, 0, 0, 0, 0, 0, 0, 1, 0, 0, 1, 1, 1, 1, 0, 1, 0, 0, 1,\n",
       "       0, 0, 1, 0, 1, 0, 0, 1, 0, 0, 0, 0, 0, 1, 0, 1, 0, 1, 1, 0, 0, 0,\n",
       "       1, 0, 0, 0, 1, 0, 0, 0, 0, 1, 0, 1, 0, 1, 0, 0, 0, 0, 0, 1, 0, 0,\n",
       "       0, 1, 0, 0, 0, 1, 0, 0, 0, 0, 0, 0, 0, 0, 0, 0, 0, 1, 0, 0, 1, 0,\n",
       "       0, 0, 0, 0, 0, 0, 1, 0, 1, 1, 1, 1, 0, 0, 0, 1, 1, 1, 1, 0, 0, 0,\n",
       "       0, 0, 0, 0, 0, 0, 0, 0, 0, 0, 0, 0, 0, 1, 1, 1, 0, 0, 1, 0, 0, 0,\n",
       "       0, 0, 0, 0, 0, 1, 0, 0, 1, 0, 1, 1, 0, 0, 1, 1, 1, 0, 0, 1, 0, 0,\n",
       "       0, 1, 0, 0, 1, 0, 1, 1, 1, 1, 1, 1, 0, 1, 0, 0, 0, 0, 0, 0, 0, 0,\n",
       "       0, 1, 1, 1, 0, 0, 1, 0, 0, 0, 0, 0, 1, 0, 0, 0, 0, 1, 1, 1, 0, 1,\n",
       "       0, 1, 0, 0, 1, 0, 0, 0, 0, 1, 0, 0, 1, 0, 0, 0, 0, 0, 1, 1, 0, 0,\n",
       "       1, 1, 0, 1, 1, 0, 1, 0, 0, 0, 1, 1, 0, 0, 0, 0, 1, 0, 0, 0, 1, 0,\n",
       "       0, 0, 0, 1, 1, 0, 0, 1, 1, 0, 1, 0, 1, 1, 0, 0, 1, 0, 0, 1, 0, 1,\n",
       "       0, 0, 1, 0, 0, 1, 0, 0, 0, 1, 0, 0, 0, 1, 0, 0, 0, 1, 1, 1, 0, 0,\n",
       "       0, 0, 0, 0, 1, 0, 0, 1, 0, 0, 1, 0, 1, 0, 1, 1, 0, 1, 0, 0, 1, 0,\n",
       "       1, 0, 0, 0, 1, 1, 0, 0, 0, 0, 1, 0, 0, 0, 0, 1, 0, 1, 1, 0, 1, 0,\n",
       "       0, 0, 0, 0, 0, 0, 1, 0, 0, 0, 1, 0, 0, 0, 0, 1, 1, 0, 0, 1, 0, 0,\n",
       "       0, 0, 0, 0, 0, 0, 1, 0, 0, 0, 0, 0, 0, 0, 0, 0, 0, 0, 1, 1, 0, 1,\n",
       "       1, 0, 1, 0, 0, 0, 1, 1, 1, 0, 0, 0, 0, 1], dtype=int64)"
      ]
     },
     "execution_count": 7,
     "metadata": {},
     "output_type": "execute_result"
    }
   ],
   "source": [
    "svm.predict(train_X)"
   ]
  },
  {
   "cell_type": "code",
   "execution_count": 20,
   "metadata": {},
   "outputs": [
    {
     "name": "stderr",
     "output_type": "stream",
     "text": [
      "c:\\users\\young\\anaconda3\\envs\\study\\lib\\site-packages\\ipykernel_launcher.py:4: UserWarning: Update your `Dense` call to the Keras 2 API: `Dense(1, activation=\"sigmoid\", kernel_regularizer=<keras.reg...)`\n",
      "  after removing the cwd from sys.path.\n"
     ]
    }
   ],
   "source": [
    "from keras.regularizers import l2\n",
    "keras.backend.clear_session()\n",
    "model = models.Sequential()\n",
    "model.add(layers.Dense(1, activation='sigmoid', W_regularizer=l2(0.01)))"
   ]
  },
  {
   "cell_type": "code",
   "execution_count": 21,
   "metadata": {},
   "outputs": [],
   "source": [
    "model.compile(optimizer = 'adam',\n",
    "            loss = 'hinge',\n",
    "             metrics=['acc'])"
   ]
  },
  {
   "cell_type": "code",
   "execution_count": 22,
   "metadata": {
    "scrolled": true
   },
   "outputs": [
    {
     "name": "stdout",
     "output_type": "stream",
     "text": [
      "Epoch 1/100\n",
      "498/498 [==============================] - 0s 185us/step - loss: 1.0561 - acc: 0.7169\n",
      "Epoch 2/100\n",
      "498/498 [==============================] - 0s 70us/step - loss: 1.0486 - acc: 0.7329\n",
      "Epoch 3/100\n",
      "498/498 [==============================] - 0s 66us/step - loss: 1.0418 - acc: 0.7390\n",
      "Epoch 4/100\n",
      "498/498 [==============================] - 0s 72us/step - loss: 1.0351 - acc: 0.7610\n",
      "Epoch 5/100\n",
      "498/498 [==============================] - 0s 76us/step - loss: 1.0291 - acc: 0.7711\n",
      "Epoch 6/100\n",
      "498/498 [==============================] - 0s 70us/step - loss: 1.0228 - acc: 0.7711\n",
      "Epoch 7/100\n",
      "498/498 [==============================] - 0s 70us/step - loss: 1.0171 - acc: 0.7691\n",
      "Epoch 8/100\n",
      "498/498 [==============================] - 0s 70us/step - loss: 1.0119 - acc: 0.7530\n",
      "Epoch 9/100\n",
      "498/498 [==============================] - 0s 70us/step - loss: 1.0072 - acc: 0.7410\n",
      "Epoch 10/100\n",
      "498/498 [==============================] - 0s 71us/step - loss: 1.0024 - acc: 0.7450\n",
      "Epoch 11/100\n",
      "498/498 [==============================] - 0s 70us/step - loss: 0.9982 - acc: 0.7450\n",
      "Epoch 12/100\n",
      "498/498 [==============================] - 0s 68us/step - loss: 0.9944 - acc: 0.7470\n",
      "Epoch 13/100\n",
      "498/498 [==============================] - 0s 70us/step - loss: 0.9907 - acc: 0.7450\n",
      "Epoch 14/100\n",
      "498/498 [==============================] - 0s 70us/step - loss: 0.9875 - acc: 0.7410\n",
      "Epoch 15/100\n",
      "498/498 [==============================] - 0s 74us/step - loss: 0.9842 - acc: 0.7390\n",
      "Epoch 16/100\n",
      "498/498 [==============================] - 0s 70us/step - loss: 0.9814 - acc: 0.7450\n",
      "Epoch 17/100\n",
      "498/498 [==============================] - 0s 70us/step - loss: 0.9786 - acc: 0.7470\n",
      "Epoch 18/100\n",
      "498/498 [==============================] - 0s 72us/step - loss: 0.9762 - acc: 0.7490\n",
      "Epoch 19/100\n",
      "498/498 [==============================] - 0s 72us/step - loss: 0.9739 - acc: 0.7470\n",
      "Epoch 20/100\n",
      "498/498 [==============================] - 0s 70us/step - loss: 0.9717 - acc: 0.7530\n",
      "Epoch 21/100\n",
      "498/498 [==============================] - 0s 74us/step - loss: 0.9698 - acc: 0.7530\n",
      "Epoch 22/100\n",
      "498/498 [==============================] - 0s 72us/step - loss: 0.9678 - acc: 0.7490\n",
      "Epoch 23/100\n",
      "498/498 [==============================] - 0s 72us/step - loss: 0.9661 - acc: 0.7530\n",
      "Epoch 24/100\n",
      "498/498 [==============================] - 0s 72us/step - loss: 0.9645 - acc: 0.7530\n",
      "Epoch 25/100\n",
      "498/498 [==============================] - ETA: 0s - loss: 1.1029 - acc: 0.718 - 0s 71us/step - loss: 0.9630 - acc: 0.7530\n",
      "Epoch 26/100\n",
      "498/498 [==============================] - 0s 70us/step - loss: 0.9615 - acc: 0.7530\n",
      "Epoch 27/100\n",
      "498/498 [==============================] - 0s 70us/step - loss: 0.9602 - acc: 0.7530\n",
      "Epoch 28/100\n",
      "498/498 [==============================] - 0s 70us/step - loss: 0.9589 - acc: 0.7530\n",
      "Epoch 29/100\n",
      "498/498 [==============================] - 0s 70us/step - loss: 0.9577 - acc: 0.7530\n",
      "Epoch 30/100\n",
      "498/498 [==============================] - 0s 66us/step - loss: 0.9565 - acc: 0.7550\n",
      "Epoch 31/100\n",
      "498/498 [==============================] - 0s 70us/step - loss: 0.9555 - acc: 0.7550\n",
      "Epoch 32/100\n",
      "498/498 [==============================] - 0s 70us/step - loss: 0.9545 - acc: 0.7550\n",
      "Epoch 33/100\n",
      "498/498 [==============================] - 0s 70us/step - loss: 0.9536 - acc: 0.7550\n",
      "Epoch 34/100\n",
      "498/498 [==============================] - 0s 68us/step - loss: 0.9526 - acc: 0.7550\n",
      "Epoch 35/100\n",
      "498/498 [==============================] - 0s 68us/step - loss: 0.9518 - acc: 0.7550\n",
      "Epoch 36/100\n",
      "498/498 [==============================] - 0s 68us/step - loss: 0.9509 - acc: 0.7570\n",
      "Epoch 37/100\n",
      "498/498 [==============================] - 0s 68us/step - loss: 0.9501 - acc: 0.7590\n",
      "Epoch 38/100\n",
      "498/498 [==============================] - 0s 72us/step - loss: 0.9494 - acc: 0.7590\n",
      "Epoch 39/100\n",
      "498/498 [==============================] - 0s 66us/step - loss: 0.9487 - acc: 0.7590\n",
      "Epoch 40/100\n",
      "498/498 [==============================] - 0s 68us/step - loss: 0.9480 - acc: 0.7610\n",
      "Epoch 41/100\n",
      "498/498 [==============================] - 0s 68us/step - loss: 0.9473 - acc: 0.7631\n",
      "Epoch 42/100\n",
      "498/498 [==============================] - 0s 68us/step - loss: 0.9467 - acc: 0.7631\n",
      "Epoch 43/100\n",
      "498/498 [==============================] - 0s 70us/step - loss: 0.9460 - acc: 0.7631\n",
      "Epoch 44/100\n",
      "498/498 [==============================] - 0s 70us/step - loss: 0.9454 - acc: 0.7651\n",
      "Epoch 45/100\n",
      "498/498 [==============================] - 0s 70us/step - loss: 0.9449 - acc: 0.7671\n",
      "Epoch 46/100\n",
      "498/498 [==============================] - 0s 70us/step - loss: 0.9443 - acc: 0.7671\n",
      "Epoch 47/100\n",
      "498/498 [==============================] - 0s 70us/step - loss: 0.9438 - acc: 0.7671\n",
      "Epoch 48/100\n",
      "498/498 [==============================] - 0s 74us/step - loss: 0.9432 - acc: 0.7691\n",
      "Epoch 49/100\n",
      "498/498 [==============================] - 0s 72us/step - loss: 0.9428 - acc: 0.7671\n",
      "Epoch 50/100\n",
      "498/498 [==============================] - 0s 68us/step - loss: 0.9423 - acc: 0.7671\n",
      "Epoch 51/100\n",
      "498/498 [==============================] - 0s 68us/step - loss: 0.9418 - acc: 0.7711\n",
      "Epoch 52/100\n",
      "498/498 [==============================] - 0s 68us/step - loss: 0.9413 - acc: 0.7711\n",
      "Epoch 53/100\n",
      "498/498 [==============================] - 0s 76us/step - loss: 0.9409 - acc: 0.7691\n",
      "Epoch 54/100\n",
      "498/498 [==============================] - 0s 72us/step - loss: 0.9404 - acc: 0.7691\n",
      "Epoch 55/100\n",
      "498/498 [==============================] - 0s 68us/step - loss: 0.9400 - acc: 0.7691\n",
      "Epoch 56/100\n",
      "498/498 [==============================] - 0s 70us/step - loss: 0.9396 - acc: 0.7691\n",
      "Epoch 57/100\n",
      "498/498 [==============================] - 0s 68us/step - loss: 0.9392 - acc: 0.7691\n",
      "Epoch 58/100\n",
      "498/498 [==============================] - 0s 72us/step - loss: 0.9388 - acc: 0.7711\n",
      "Epoch 59/100\n",
      "498/498 [==============================] - 0s 72us/step - loss: 0.9385 - acc: 0.7731\n",
      "Epoch 60/100\n",
      "498/498 [==============================] - 0s 72us/step - loss: 0.9381 - acc: 0.7731\n",
      "Epoch 61/100\n",
      "498/498 [==============================] - 0s 70us/step - loss: 0.9377 - acc: 0.7751\n",
      "Epoch 62/100\n",
      "498/498 [==============================] - 0s 72us/step - loss: 0.9374 - acc: 0.7751\n",
      "Epoch 63/100\n",
      "498/498 [==============================] - 0s 70us/step - loss: 0.9370 - acc: 0.7751\n",
      "Epoch 64/100\n",
      "498/498 [==============================] - 0s 68us/step - loss: 0.9368 - acc: 0.7751\n",
      "Epoch 65/100\n",
      "498/498 [==============================] - 0s 68us/step - loss: 0.9364 - acc: 0.7751\n",
      "Epoch 66/100\n",
      "498/498 [==============================] - 0s 72us/step - loss: 0.9361 - acc: 0.7751\n",
      "Epoch 67/100\n",
      "498/498 [==============================] - 0s 74us/step - loss: 0.9359 - acc: 0.7751\n",
      "Epoch 68/100\n",
      "498/498 [==============================] - 0s 70us/step - loss: 0.9355 - acc: 0.7751\n",
      "Epoch 69/100\n",
      "498/498 [==============================] - 0s 70us/step - loss: 0.9352 - acc: 0.7751\n",
      "Epoch 70/100\n",
      "498/498 [==============================] - 0s 70us/step - loss: 0.9350 - acc: 0.7731\n",
      "Epoch 71/100\n",
      "498/498 [==============================] - 0s 70us/step - loss: 0.9347 - acc: 0.7731\n",
      "Epoch 72/100\n",
      "498/498 [==============================] - 0s 68us/step - loss: 0.9345 - acc: 0.7711\n",
      "Epoch 73/100\n",
      "498/498 [==============================] - 0s 70us/step - loss: 0.9342 - acc: 0.7731\n",
      "Epoch 74/100\n",
      "498/498 [==============================] - 0s 72us/step - loss: 0.9340 - acc: 0.7731\n",
      "Epoch 75/100\n",
      "498/498 [==============================] - 0s 68us/step - loss: 0.9337 - acc: 0.7731\n",
      "Epoch 76/100\n",
      "498/498 [==============================] - 0s 72us/step - loss: 0.9335 - acc: 0.7731\n",
      "Epoch 77/100\n",
      "498/498 [==============================] - 0s 70us/step - loss: 0.9333 - acc: 0.7731\n",
      "Epoch 78/100\n",
      "498/498 [==============================] - 0s 70us/step - loss: 0.9330 - acc: 0.7731\n",
      "Epoch 79/100\n",
      "498/498 [==============================] - 0s 66us/step - loss: 0.9328 - acc: 0.7731\n",
      "Epoch 80/100\n",
      "498/498 [==============================] - 0s 68us/step - loss: 0.9326 - acc: 0.7731\n",
      "Epoch 81/100\n",
      "498/498 [==============================] - 0s 72us/step - loss: 0.9323 - acc: 0.7731\n",
      "Epoch 82/100\n",
      "498/498 [==============================] - 0s 70us/step - loss: 0.9321 - acc: 0.7731\n",
      "Epoch 83/100\n",
      "498/498 [==============================] - 0s 70us/step - loss: 0.9320 - acc: 0.7731\n",
      "Epoch 84/100\n"
     ]
    },
    {
     "name": "stdout",
     "output_type": "stream",
     "text": [
      "498/498 [==============================] - 0s 70us/step - loss: 0.9317 - acc: 0.7751\n",
      "Epoch 85/100\n",
      "498/498 [==============================] - 0s 68us/step - loss: 0.9315 - acc: 0.7731\n",
      "Epoch 86/100\n",
      "498/498 [==============================] - 0s 70us/step - loss: 0.9314 - acc: 0.7711\n",
      "Epoch 87/100\n",
      "498/498 [==============================] - 0s 70us/step - loss: 0.9312 - acc: 0.7711\n",
      "Epoch 88/100\n",
      "498/498 [==============================] - 0s 68us/step - loss: 0.9310 - acc: 0.7711\n",
      "Epoch 89/100\n",
      "498/498 [==============================] - 0s 72us/step - loss: 0.9308 - acc: 0.7711\n",
      "Epoch 90/100\n",
      "498/498 [==============================] - 0s 70us/step - loss: 0.9306 - acc: 0.7731\n",
      "Epoch 91/100\n",
      "498/498 [==============================] - 0s 66us/step - loss: 0.9305 - acc: 0.7851\n",
      "Epoch 92/100\n",
      "498/498 [==============================] - 0s 72us/step - loss: 0.9304 - acc: 0.7892\n",
      "Epoch 93/100\n",
      "498/498 [==============================] - 0s 72us/step - loss: 0.9302 - acc: 0.7992\n",
      "Epoch 94/100\n",
      "498/498 [==============================] - 0s 68us/step - loss: 0.9300 - acc: 0.7992\n",
      "Epoch 95/100\n",
      "498/498 [==============================] - 0s 70us/step - loss: 0.9299 - acc: 0.7992\n",
      "Epoch 96/100\n",
      "498/498 [==============================] - 0s 70us/step - loss: 0.9298 - acc: 0.7992\n",
      "Epoch 97/100\n",
      "498/498 [==============================] - 0s 70us/step - loss: 0.9296 - acc: 0.8032\n",
      "Epoch 98/100\n",
      "498/498 [==============================] - 0s 68us/step - loss: 0.9295 - acc: 0.8052\n",
      "Epoch 99/100\n",
      "498/498 [==============================] - 0s 69us/step - loss: 0.9293 - acc: 0.8032\n",
      "Epoch 100/100\n",
      "498/498 [==============================] - 0s 71us/step - loss: 0.9292 - acc: 0.8052\n"
     ]
    },
    {
     "data": {
      "text/plain": [
       "<keras.callbacks.callbacks.History at 0x20495d14748>"
      ]
     },
     "execution_count": 22,
     "metadata": {},
     "output_type": "execute_result"
    }
   ],
   "source": [
    "model.fit(train_X.values, train_y.values,\n",
    "         epochs=100)"
   ]
  },
  {
   "cell_type": "code",
   "execution_count": 23,
   "metadata": {},
   "outputs": [
    {
     "name": "stdout",
     "output_type": "stream",
     "text": [
      "214/214 [==============================] - 0s 149us/step\n"
     ]
    },
    {
     "data": {
      "text/plain": [
       "[0.9461234523871235, 0.7476635575294495]"
      ]
     },
     "execution_count": 23,
     "metadata": {},
     "output_type": "execute_result"
    }
   ],
   "source": [
    "model.evaluate(test_X, test_y)"
   ]
  },
  {
   "cell_type": "code",
   "execution_count": 12,
   "metadata": {},
   "outputs": [
    {
     "data": {
      "text/plain": [
       "0.7570093457943925"
      ]
     },
     "execution_count": 12,
     "metadata": {},
     "output_type": "execute_result"
    }
   ],
   "source": [
    "from sklearn.metrics import accuracy_score\n",
    "\n",
    "accuracy_score(test_y, svm.predict(test_X))"
   ]
  },
  {
   "cell_type": "code",
   "execution_count": null,
   "metadata": {},
   "outputs": [],
   "source": [
    "tf"
   ]
  },
  {
   "cell_type": "code",
   "execution_count": null,
   "metadata": {},
   "outputs": [],
   "source": [
    "tf.int32"
   ]
  },
  {
   "cell_type": "code",
   "execution_count": null,
   "metadata": {},
   "outputs": [],
   "source": [
    "train_X"
   ]
  },
  {
   "cell_type": "code",
   "execution_count": null,
   "metadata": {},
   "outputs": [],
   "source": []
  }
 ],
 "metadata": {
  "kernelspec": {
   "display_name": "Python 3",
   "language": "python",
   "name": "python3"
  },
  "language_info": {
   "codemirror_mode": {
    "name": "ipython",
    "version": 3
   },
   "file_extension": ".py",
   "mimetype": "text/x-python",
   "name": "python",
   "nbconvert_exporter": "python",
   "pygments_lexer": "ipython3",
   "version": "3.7.4"
  },
  "toc": {
   "base_numbering": 1,
   "nav_menu": {},
   "number_sections": true,
   "sideBar": true,
   "skip_h1_title": false,
   "title_cell": "Table of Contents",
   "title_sidebar": "Contents",
   "toc_cell": false,
   "toc_position": {},
   "toc_section_display": true,
   "toc_window_display": false
  }
 },
 "nbformat": 4,
 "nbformat_minor": 2
}
