{
 "cells": [
  {
   "cell_type": "markdown",
   "metadata": {},
   "source": [
    "# Decision Tree\n",
    "\n",
    "- 머신러닝 알고리즘 중 가장 직관적인 것 중 하나\n",
    "- 특정 기준을 정하고 그 기준에 맞는 서브트리를 만들어 가는 식\n",
    "- 분리의 목적이 되는 점은 지니계수, 엔트로피 등이 사용됨\n",
    "- 변수들을 정규화하는 등의 작업이 없어도 잘 작동하는 장점이 있음\n",
    "\n",
    "## 절차\n",
    "1. 한 변수 기준으로 정렬\n",
    "2. 구간 별로 해당하는 정보획득/순도증가 등의 값을 구함\n",
    "    - 엔트로피: weighted sum of log_2(p_k)\n",
    "    - 지니: sum of p x (1-p)\n",
    "3. 모든 변수에 대해서 수행\n",
    "4. 가장 좋은 값과 지점을 택하여 분기\n",
    "\n",
    "## 매개변수\n",
    "- max_depth: 트리 최대 깊이\n",
    "- max_leaf_nodes: 말단 노드의 최대 수\n",
    "- max_features: 최적 분할을 위한 최대 고려 변수 수\n",
    "- min_samples_split: 노드를 분할하기 위한 최소한의 샘플 자료 수\n",
    "- min_samples_leaf: 말단 노드가 되기 위한 최소 샘플 수 \n",
    "\n",
    "## variable importance 도출\n",
    "- 사용된 변수가 지니/엔트로피를 평균적으로 얼마나 줄였는지를 나타냄\n",
    "- 양/음 의방향을 나타내지 않으며 더 깊은 관계가 존재할 수 있음\n",
    "- 중요하지 않다고 나온것이 정말 중요하지 않다기 보다 다른 변수가 포함하고 있을 가능성 존재"
   ]
  },
  {
   "cell_type": "code",
   "execution_count": 1,
   "metadata": {},
   "outputs": [],
   "source": [
    "import numpy as np\n",
    "import pandas as pd\n",
    "from sklearn.model_selection import train_test_split\n",
    "from sklearn.metrics import accuracy_score\n",
    "\n",
    "data = pd.read_csv('../1.clustering/titanic.csv')\n",
    "\n",
    "target = data['Survived']\n",
    "data = data.drop(['PassengerId', 'Survived'], axis=1)\n",
    "\n",
    "def sex(a):\n",
    "    if a == 'male':\n",
    "        return 0\n",
    "    else:\n",
    "        return 1\n",
    "    \n",
    "def emb(a):\n",
    "    if a == 'S':\n",
    "        return 0\n",
    "    elif a == 'Q':\n",
    "        return 1\n",
    "    else:\n",
    "        return 2\n",
    "    \n",
    "data['Sex'] = data['Sex'].map(sex)\n",
    "data['Embarked'] = data['Embarked'].map(emb)\n",
    "\n",
    "train_X, test_X, train_y, test_y = train_test_split(data, target, test_size=0.3, random_state=2019, shuffle=True)"
   ]
  },
  {
   "cell_type": "code",
   "execution_count": 2,
   "metadata": {},
   "outputs": [],
   "source": [
    "from sklearn.tree import DecisionTreeClassifier\n",
    "\n",
    "clf = DecisionTreeClassifier(random_state=2019).fit(train_X, train_y)"
   ]
  },
  {
   "cell_type": "code",
   "execution_count": 3,
   "metadata": {
    "scrolled": true
   },
   "outputs": [],
   "source": [
    "import graphviz\n",
    "from sklearn.tree import export_graphviz\n",
    "\n",
    "# export_graphviz(clf, out_file='tree.dot', class_names=['0', '1'], feature_names=train_X.columns)\n",
    "\n",
    "# with open('./tree.dot') as f:\n",
    "#     dot_graph = f.read()\n",
    "# graphviz.Source(dot_graph)"
   ]
  },
  {
   "cell_type": "code",
   "execution_count": 4,
   "metadata": {},
   "outputs": [],
   "source": [
    "# dot = graphviz.Source(dot_graph) # dot_graph의 source 저장\n",
    "\n",
    "# dot.render(filename='tree.png')"
   ]
  },
  {
   "cell_type": "code",
   "execution_count": 5,
   "metadata": {},
   "outputs": [],
   "source": [
    "pred_y = clf.predict(test_X)"
   ]
  },
  {
   "cell_type": "code",
   "execution_count": 6,
   "metadata": {},
   "outputs": [
    {
     "name": "stdout",
     "output_type": "stream",
     "text": [
      "0.6869158878504673\n"
     ]
    }
   ],
   "source": [
    "from sklearn.metrics import accuracy_score\n",
    "\n",
    "print(accuracy_score(test_y, pred_y))"
   ]
  },
  {
   "cell_type": "code",
   "execution_count": 7,
   "metadata": {},
   "outputs": [
    {
     "name": "stdout",
     "output_type": "stream",
     "text": [
      "0.7850467289719626\n"
     ]
    }
   ],
   "source": [
    "from sklearn.tree import DecisionTreeClassifier\n",
    "\n",
    "clf = DecisionTreeClassifier(random_state=2019, max_depth=9, max_leaf_nodes=3).fit(train_X, train_y)\n",
    "pred_y = clf.predict(test_X)\n",
    "print(accuracy_score(test_y, pred_y))"
   ]
  },
  {
   "cell_type": "code",
   "execution_count": 8,
   "metadata": {},
   "outputs": [],
   "source": [
    "# export_graphviz(clf, out_file='tree.dot', class_names=['0', '1'], feature_names=train_X.columns)\n",
    "\n",
    "# with open('./tree.dot') as f:\n",
    "#     dot_graph = f.read()\n",
    "# graphviz.Source(dot_graph)\n",
    "\n",
    "# dot = graphviz.Source(dot_graph) # dot_graph의 source 저장\n",
    "\n",
    "# dot.render(filename='tree.png')"
   ]
  },
  {
   "cell_type": "code",
   "execution_count": 9,
   "metadata": {},
   "outputs": [
    {
     "data": {
      "text/plain": [
       "array([0.25091572, 0.74908428, 0.        , 0.        , 0.        ,\n",
       "       0.        , 0.        ])"
      ]
     },
     "execution_count": 9,
     "metadata": {},
     "output_type": "execute_result"
    }
   ],
   "source": [
    "clf.feature_importances_"
   ]
  },
  {
   "cell_type": "code",
   "execution_count": 10,
   "metadata": {},
   "outputs": [
    {
     "data": {
      "text/plain": [
       "<matplotlib.axes._subplots.AxesSubplot at 0x21758a992c8>"
      ]
     },
     "execution_count": 10,
     "metadata": {},
     "output_type": "execute_result"
    },
    {
     "data": {
      "image/png": "[encoded data removed]",
      "text/plain": [
       "<Figure size 432x288 with 1 Axes>"
      ]
     },
     "metadata": {
      "needs_background": "light"
     },
     "output_type": "display_data"
    }
   ],
   "source": [
    "import seaborn as sns\n",
    "\n",
    "sns.barplot(x=train_X.columns, y = clf.feature_importances_)"
   ]
  },
  {
   "cell_type": "code",
   "execution_count": 11,
   "metadata": {},
   "outputs": [
    {
     "data": {
      "text/plain": [
       "array([[0.78412698, 0.21587302],\n",
       "       [0.57575758, 0.42424242],\n",
       "       [0.78412698, 0.21587302],\n",
       "       [0.78412698, 0.21587302],\n",
       "       [0.05982906, 0.94017094],\n",
       "       [0.05982906, 0.94017094],\n",
       "       [0.78412698, 0.21587302],\n",
       "       [0.78412698, 0.21587302],\n",
       "       [0.78412698, 0.21587302],\n",
       "       [0.57575758, 0.42424242],\n",
       "       [0.78412698, 0.21587302],\n",
       "       [0.05982906, 0.94017094],\n",
       "       [0.57575758, 0.42424242],\n",
       "       [0.78412698, 0.21587302],\n",
       "       [0.05982906, 0.94017094],\n",
       "       [0.78412698, 0.21587302],\n",
       "       [0.57575758, 0.42424242],\n",
       "       [0.78412698, 0.21587302],\n",
       "       [0.78412698, 0.21587302],\n",
       "       [0.78412698, 0.21587302],\n",
       "       [0.78412698, 0.21587302],\n",
       "       [0.05982906, 0.94017094],\n",
       "       [0.78412698, 0.21587302],\n",
       "       [0.78412698, 0.21587302],\n",
       "       [0.05982906, 0.94017094],\n",
       "       [0.78412698, 0.21587302],\n",
       "       [0.05982906, 0.94017094],\n",
       "       [0.78412698, 0.21587302],\n",
       "       [0.78412698, 0.21587302],\n",
       "       [0.78412698, 0.21587302],\n",
       "       [0.78412698, 0.21587302],\n",
       "       [0.05982906, 0.94017094],\n",
       "       [0.78412698, 0.21587302],\n",
       "       [0.78412698, 0.21587302],\n",
       "       [0.78412698, 0.21587302],\n",
       "       [0.05982906, 0.94017094],\n",
       "       [0.05982906, 0.94017094],\n",
       "       [0.78412698, 0.21587302],\n",
       "       [0.57575758, 0.42424242],\n",
       "       [0.05982906, 0.94017094],\n",
       "       [0.78412698, 0.21587302],\n",
       "       [0.78412698, 0.21587302],\n",
       "       [0.78412698, 0.21587302],\n",
       "       [0.78412698, 0.21587302],\n",
       "       [0.05982906, 0.94017094],\n",
       "       [0.57575758, 0.42424242],\n",
       "       [0.78412698, 0.21587302],\n",
       "       [0.05982906, 0.94017094],\n",
       "       [0.78412698, 0.21587302],\n",
       "       [0.57575758, 0.42424242],\n",
       "       [0.57575758, 0.42424242],\n",
       "       [0.78412698, 0.21587302],\n",
       "       [0.78412698, 0.21587302],\n",
       "       [0.05982906, 0.94017094],\n",
       "       [0.05982906, 0.94017094],\n",
       "       [0.78412698, 0.21587302],\n",
       "       [0.05982906, 0.94017094],\n",
       "       [0.57575758, 0.42424242],\n",
       "       [0.78412698, 0.21587302],\n",
       "       [0.78412698, 0.21587302],\n",
       "       [0.57575758, 0.42424242],\n",
       "       [0.78412698, 0.21587302],\n",
       "       [0.57575758, 0.42424242],\n",
       "       [0.78412698, 0.21587302],\n",
       "       [0.78412698, 0.21587302],\n",
       "       [0.05982906, 0.94017094],\n",
       "       [0.05982906, 0.94017094],\n",
       "       [0.78412698, 0.21587302],\n",
       "       [0.78412698, 0.21587302],\n",
       "       [0.78412698, 0.21587302],\n",
       "       [0.78412698, 0.21587302],\n",
       "       [0.57575758, 0.42424242],\n",
       "       [0.78412698, 0.21587302],\n",
       "       [0.05982906, 0.94017094],\n",
       "       [0.78412698, 0.21587302],\n",
       "       [0.78412698, 0.21587302],\n",
       "       [0.78412698, 0.21587302],\n",
       "       [0.57575758, 0.42424242],\n",
       "       [0.78412698, 0.21587302],\n",
       "       [0.78412698, 0.21587302],\n",
       "       [0.78412698, 0.21587302],\n",
       "       [0.05982906, 0.94017094],\n",
       "       [0.57575758, 0.42424242],\n",
       "       [0.78412698, 0.21587302],\n",
       "       [0.57575758, 0.42424242],\n",
       "       [0.78412698, 0.21587302],\n",
       "       [0.78412698, 0.21587302],\n",
       "       [0.05982906, 0.94017094],\n",
       "       [0.78412698, 0.21587302],\n",
       "       [0.78412698, 0.21587302],\n",
       "       [0.78412698, 0.21587302],\n",
       "       [0.78412698, 0.21587302],\n",
       "       [0.78412698, 0.21587302],\n",
       "       [0.78412698, 0.21587302],\n",
       "       [0.05982906, 0.94017094],\n",
       "       [0.78412698, 0.21587302],\n",
       "       [0.78412698, 0.21587302],\n",
       "       [0.78412698, 0.21587302],\n",
       "       [0.78412698, 0.21587302],\n",
       "       [0.57575758, 0.42424242],\n",
       "       [0.57575758, 0.42424242],\n",
       "       [0.78412698, 0.21587302],\n",
       "       [0.05982906, 0.94017094],\n",
       "       [0.78412698, 0.21587302],\n",
       "       [0.78412698, 0.21587302],\n",
       "       [0.05982906, 0.94017094],\n",
       "       [0.78412698, 0.21587302],\n",
       "       [0.78412698, 0.21587302],\n",
       "       [0.78412698, 0.21587302],\n",
       "       [0.05982906, 0.94017094],\n",
       "       [0.78412698, 0.21587302],\n",
       "       [0.78412698, 0.21587302],\n",
       "       [0.57575758, 0.42424242],\n",
       "       [0.78412698, 0.21587302],\n",
       "       [0.78412698, 0.21587302],\n",
       "       [0.78412698, 0.21587302],\n",
       "       [0.78412698, 0.21587302],\n",
       "       [0.05982906, 0.94017094],\n",
       "       [0.57575758, 0.42424242],\n",
       "       [0.78412698, 0.21587302],\n",
       "       [0.78412698, 0.21587302],\n",
       "       [0.78412698, 0.21587302],\n",
       "       [0.78412698, 0.21587302],\n",
       "       [0.78412698, 0.21587302],\n",
       "       [0.78412698, 0.21587302],\n",
       "       [0.57575758, 0.42424242],\n",
       "       [0.78412698, 0.21587302],\n",
       "       [0.78412698, 0.21587302],\n",
       "       [0.78412698, 0.21587302],\n",
       "       [0.05982906, 0.94017094],\n",
       "       [0.78412698, 0.21587302],\n",
       "       [0.57575758, 0.42424242],\n",
       "       [0.05982906, 0.94017094],\n",
       "       [0.78412698, 0.21587302],\n",
       "       [0.57575758, 0.42424242],\n",
       "       [0.78412698, 0.21587302],\n",
       "       [0.05982906, 0.94017094],\n",
       "       [0.78412698, 0.21587302],\n",
       "       [0.78412698, 0.21587302],\n",
       "       [0.78412698, 0.21587302],\n",
       "       [0.78412698, 0.21587302],\n",
       "       [0.78412698, 0.21587302],\n",
       "       [0.57575758, 0.42424242],\n",
       "       [0.78412698, 0.21587302],\n",
       "       [0.05982906, 0.94017094],\n",
       "       [0.78412698, 0.21587302],\n",
       "       [0.57575758, 0.42424242],\n",
       "       [0.05982906, 0.94017094],\n",
       "       [0.05982906, 0.94017094],\n",
       "       [0.78412698, 0.21587302],\n",
       "       [0.78412698, 0.21587302],\n",
       "       [0.78412698, 0.21587302],\n",
       "       [0.78412698, 0.21587302],\n",
       "       [0.78412698, 0.21587302],\n",
       "       [0.57575758, 0.42424242],\n",
       "       [0.78412698, 0.21587302],\n",
       "       [0.78412698, 0.21587302],\n",
       "       [0.78412698, 0.21587302],\n",
       "       [0.57575758, 0.42424242],\n",
       "       [0.78412698, 0.21587302],\n",
       "       [0.78412698, 0.21587302],\n",
       "       [0.57575758, 0.42424242],\n",
       "       [0.78412698, 0.21587302],\n",
       "       [0.57575758, 0.42424242],\n",
       "       [0.57575758, 0.42424242],\n",
       "       [0.78412698, 0.21587302],\n",
       "       [0.78412698, 0.21587302],\n",
       "       [0.05982906, 0.94017094],\n",
       "       [0.05982906, 0.94017094],\n",
       "       [0.57575758, 0.42424242],\n",
       "       [0.78412698, 0.21587302],\n",
       "       [0.78412698, 0.21587302],\n",
       "       [0.78412698, 0.21587302],\n",
       "       [0.78412698, 0.21587302],\n",
       "       [0.78412698, 0.21587302],\n",
       "       [0.78412698, 0.21587302],\n",
       "       [0.78412698, 0.21587302],\n",
       "       [0.78412698, 0.21587302],\n",
       "       [0.78412698, 0.21587302],\n",
       "       [0.78412698, 0.21587302],\n",
       "       [0.78412698, 0.21587302],\n",
       "       [0.78412698, 0.21587302],\n",
       "       [0.78412698, 0.21587302],\n",
       "       [0.78412698, 0.21587302],\n",
       "       [0.78412698, 0.21587302],\n",
       "       [0.78412698, 0.21587302],\n",
       "       [0.05982906, 0.94017094],\n",
       "       [0.57575758, 0.42424242],\n",
       "       [0.57575758, 0.42424242],\n",
       "       [0.78412698, 0.21587302],\n",
       "       [0.57575758, 0.42424242],\n",
       "       [0.78412698, 0.21587302],\n",
       "       [0.78412698, 0.21587302],\n",
       "       [0.05982906, 0.94017094],\n",
       "       [0.78412698, 0.21587302],\n",
       "       [0.57575758, 0.42424242],\n",
       "       [0.78412698, 0.21587302],\n",
       "       [0.05982906, 0.94017094],\n",
       "       [0.05982906, 0.94017094],\n",
       "       [0.78412698, 0.21587302],\n",
       "       [0.78412698, 0.21587302],\n",
       "       [0.78412698, 0.21587302],\n",
       "       [0.78412698, 0.21587302],\n",
       "       [0.78412698, 0.21587302],\n",
       "       [0.78412698, 0.21587302],\n",
       "       [0.78412698, 0.21587302],\n",
       "       [0.57575758, 0.42424242],\n",
       "       [0.78412698, 0.21587302],\n",
       "       [0.78412698, 0.21587302],\n",
       "       [0.78412698, 0.21587302],\n",
       "       [0.05982906, 0.94017094],\n",
       "       [0.05982906, 0.94017094],\n",
       "       [0.57575758, 0.42424242],\n",
       "       [0.78412698, 0.21587302]])"
      ]
     },
     "execution_count": 11,
     "metadata": {},
     "output_type": "execute_result"
    }
   ],
   "source": [
    "clf.predict_proba(test_X)"
   ]
  },
  {
   "cell_type": "code",
   "execution_count": null,
   "metadata": {},
   "outputs": [],
   "source": []
  }
 ],
 "metadata": {
  "kernelspec": {
   "display_name": "Python 3",
   "language": "python",
   "name": "python3"
  },
  "language_info": {
   "codemirror_mode": {
    "name": "ipython",
    "version": 3
   },
   "file_extension": ".py",
   "mimetype": "text/x-python",
   "name": "python",
   "nbconvert_exporter": "python",
   "pygments_lexer": "ipython3",
   "version": "3.7.4"
  },
  "toc": {
   "base_numbering": 1,
   "nav_menu": {},
   "number_sections": true,
   "sideBar": true,
   "skip_h1_title": false,
   "title_cell": "Table of Contents",
   "title_sidebar": "Contents",
   "toc_cell": false,
   "toc_position": {},
   "toc_section_display": true,
   "toc_window_display": false
  }
 },
 "nbformat": 4,
 "nbformat_minor": 2
}
