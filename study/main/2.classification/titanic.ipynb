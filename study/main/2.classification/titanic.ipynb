{
 "cells": [
  {
   "cell_type": "code",
   "execution_count": 1,
   "metadata": {},
   "outputs": [
    {
     "name": "stderr",
     "output_type": "stream",
     "text": [
      "Using TensorFlow backend.\n"
     ]
    }
   ],
   "source": [
    "## 기본 library\n",
    "import numpy as np\n",
    "import pandas as pd\n",
    "import matplotlib.pyplot as plt \n",
    "## model library\n",
    "from sklearn.linear_model import LogisticRegression\n",
    "from sklearn.neighbors import KNeighborsClassifier\n",
    "from sklearn.svm import SVC\n",
    "from sklearn.tree import DecisionTreeClassifier\n",
    "from sklearn.ensemble import RandomForestClassifier\n",
    "from xgboost import XGBClassifier\n",
    "from lightgbm import LGBMClassifier\n",
    "from keras import models, layers, optimizers\n",
    "## helper library\n",
    "from sklearn.model_selection import train_test_split, KFold, cross_val_score\n",
    "from sklearn.metrics import accuracy_score\n",
    "from keras.callbacks import EarlyStopping, ModelCheckpoint\n",
    "import keras.backend as K\n",
    "from sklearn.preprocessing import MinMaxScaler, StandardScaler, LabelEncoder\n",
    "from bayes_opt import BayesianOptimization\n",
    "\n",
    "data = pd.read_csv('../1.clustering/titanic.csv')\n",
    "\n",
    "target = data['Survived']\n",
    "data = data.drop(['PassengerId', 'Survived'], axis=1)"
   ]
  },
  {
   "cell_type": "code",
   "execution_count": 2,
   "metadata": {},
   "outputs": [],
   "source": [
    "d = data.copy()\n",
    "categorical = [\n",
    "    'Pclass', 'Sex', 'SibSp', 'Parch', 'Embarked'\n",
    "]"
   ]
  },
  {
   "cell_type": "code",
   "execution_count": 3,
   "metadata": {},
   "outputs": [],
   "source": [
    "data['Age'] = pd.DataFrame(MinMaxScaler().fit_transform(data['Age'].values.reshape(-1,1)))\n",
    "data['Fare'] = pd.DataFrame(StandardScaler().fit_transform(data['Fare'].values.reshape(-1,1)))\n",
    "\n",
    "lbe = LabelEncoder()\n",
    "data['Sex'] = lbe.fit_transform(data['Sex'])\n",
    "sex = lbe.classes_\n",
    "data['Embarked'] = lbe.fit_transform(data['Embarked'])\n",
    "emb = lbe.classes_\n",
    "\n",
    "for c in categorical:\n",
    "    data = pd.concat([data, pd.get_dummies(data[c], prefix=c)], axis=1)\n",
    "    data = data.drop(c, axis=1)"
   ]
  },
  {
   "cell_type": "code",
   "execution_count": 4,
   "metadata": {},
   "outputs": [],
   "source": [
    "train_X, test_X, train_y, test_y = train_test_split(data, target, test_size=0.3, random_state=0, shuffle=True)"
   ]
  },
  {
   "cell_type": "code",
   "execution_count": 5,
   "metadata": {},
   "outputs": [],
   "source": [
    "kfold = KFold(n_splits=10, shuffle=True, random_state=0)"
   ]
  },
  {
   "cell_type": "code",
   "execution_count": 6,
   "metadata": {},
   "outputs": [
    {
     "name": "stdout",
     "output_type": "stream",
     "text": [
      "0.799265306122449\n"
     ]
    }
   ],
   "source": [
    "## logistic\n",
    "acc = 0\n",
    "for tr_idx, val_idx in kfold.split(train_X):\n",
    "    tr_X, tr_y = train_X.iloc[tr_idx, :], train_y.iloc[tr_idx]\n",
    "    val_X, val_y = train_X.iloc[val_idx, :], train_y.iloc[val_idx]\n",
    "    lr = LogisticRegression(random_state=0).fit(tr_X, tr_y)\n",
    "    acc += accuracy_score(val_y, lr.predict(val_X))/10\n",
    "\n",
    "print(acc)"
   ]
  },
  {
   "cell_type": "code",
   "execution_count": 7,
   "metadata": {},
   "outputs": [
    {
     "name": "stdout",
     "output_type": "stream",
     "text": [
      "0.7992653061224491\n"
     ]
    }
   ],
   "source": [
    "## 조금 더 간단히 할 수 있음\n",
    "lr  = LogisticRegression(random_state=0)\n",
    "acc = cross_val_score(lr, train_X, train_y, cv=kfold, n_jobs=1, scoring='accuracy')\n",
    "print(np.mean(acc))"
   ]
  },
  {
   "cell_type": "code",
   "execution_count": 8,
   "metadata": {},
   "outputs": [],
   "source": [
    "lr = LogisticRegression(random_state=0).fit(train_X, train_y)"
   ]
  },
  {
   "cell_type": "code",
   "execution_count": 9,
   "metadata": {},
   "outputs": [],
   "source": [
    "## knn\n",
    "opt = []\n",
    "for n in range(2, 30):\n",
    "    knn = KNeighborsClassifier(n_neighbors=n)\n",
    "    acc = []\n",
    "    for tr_idx, val_idx in kfold.split(train_X):\n",
    "        tr_X, tr_y = train_X.iloc[tr_idx, :], train_y.iloc[tr_idx]\n",
    "        val_X, val_y = train_X.iloc[val_idx, :], train_y.iloc[val_idx]\n",
    "        knn.fit(tr_X, tr_y)\n",
    "        acc.append(accuracy_score(val_y, knn.predict(val_X)))\n",
    "    opt.append(np.mean(acc))"
   ]
  },
  {
   "cell_type": "code",
   "execution_count": 10,
   "metadata": {},
   "outputs": [
    {
     "name": "stdout",
     "output_type": "stream",
     "text": [
      "[0.7811020408163265, 0.8093061224489796, 0.7791836734693878, 0.7951428571428572, 0.7952653061224491, 0.7953469387755102, 0.7973469387755102, 0.7953061224489797, 0.8033061224489797, 0.7952244897959184, 0.7972244897959184, 0.793265306122449, 0.7892653061224489, 0.7933469387755101, 0.8053469387755102, 0.8053877551020407, 0.7933061224489796, 0.7973469387755102, 0.7893469387755102, 0.8013061224489796, 0.7853469387755101, 0.7953877551020407, 0.7913877551020408, 0.7953061224489797, 0.7893469387755102, 0.7892653061224489, 0.7892244897959183, 0.791265306122449]\n"
     ]
    },
    {
     "data": {
      "image/png": "[encoded data removed]",
      "text/plain": [
       "<Figure size 432x288 with 1 Axes>"
      ]
     },
     "metadata": {
      "needs_background": "light"
     },
     "output_type": "display_data"
    }
   ],
   "source": [
    "plt.plot(opt)\n",
    "print(opt)\n"
   ]
  },
  {
   "cell_type": "code",
   "execution_count": 11,
   "metadata": {},
   "outputs": [],
   "source": [
    "## knn's n_neighbor = 3\n",
    "knn = KNeighborsClassifier(n_neighbors=3).fit(train_X, train_y)"
   ]
  },
  {
   "cell_type": "code",
   "execution_count": 12,
   "metadata": {},
   "outputs": [
    {
     "name": "stdout",
     "output_type": "stream",
     "text": [
      "0.7832653061224489\n"
     ]
    }
   ],
   "source": [
    "## RF with no paramter tuning\n",
    "acc = 0\n",
    "for tr_idx, val_idx in kfold.split(train_X):\n",
    "    tr_X, tr_y = train_X.iloc[tr_idx, :], train_y.iloc[tr_idx]\n",
    "    val_X, val_y = train_X.iloc[val_idx, :], train_y.iloc[val_idx]\n",
    "    rf = RandomForestClassifier(random_state=0).fit(tr_X, tr_y)\n",
    "    acc += accuracy_score(val_y, rf.predict(val_X))/10\n",
    "\n",
    "print(acc)"
   ]
  },
  {
   "cell_type": "code",
   "execution_count": 13,
   "metadata": {},
   "outputs": [],
   "source": [
    "rf = RandomForestClassifier(random_state=0).fit(train_X, train_y)"
   ]
  },
  {
   "cell_type": "code",
   "execution_count": 14,
   "metadata": {},
   "outputs": [],
   "source": [
    "## xgboost\n",
    "xgb_bounds = {\n",
    "    'max_depth': (3, 12),\n",
    "    'subsample': (0.3, 1),\n",
    "    'colsample_bytree': (0.3, 1),\n",
    "    'reg_alpha': (0.1, 3),\n",
    "    'reg_lamda': (0.1, 3)\n",
    "}\n",
    "\n",
    "best_ns = []\n",
    "\n",
    "def bayes_xgb(max_depth, subsample, colsample_bytree, reg_alpha, reg_lamda):\n",
    "    global best_ns\n",
    "    params = {\n",
    "        'n_estimators': 1000,\n",
    "        'booster': 'gbtree',\n",
    "        'tree_method': 'hist',\n",
    "        'random_state': 0,\n",
    "        'n_jobs': -1,\n",
    "        'max_depth': int(max_depth),\n",
    "        'subsample': subsample,\n",
    "        'colsample_bytree': colsample_bytree,\n",
    "        'reg_alpha': reg_alpha,\n",
    "        'reg_lamda': reg_lamda\n",
    "    }\n",
    "    \n",
    "    acc = 0\n",
    "    best_n = 0\n",
    "    for tr_idx, val_idx in kfold.split(train_X):\n",
    "        tr_X, tr_y = train_X.iloc[tr_idx, :], train_y.iloc[tr_idx]\n",
    "        val_X, val_y = train_X.iloc[val_idx, :], train_y.iloc[val_idx]\n",
    "        clf = XGBClassifier(**params).fit(tr_X, tr_y, eval_metric = 'error', eval_set=[[val_X, val_y]], early_stopping_rounds=100, verbose=0)\n",
    "        acc += accuracy_score(val_y, clf.predict(val_X))/10\n",
    "        best_n += clf.best_iteration/10\n",
    "    best_ns.append(best_n)\n",
    "    return acc\n"
   ]
  },
  {
   "cell_type": "code",
   "execution_count": 16,
   "metadata": {
    "scrolled": true
   },
   "outputs": [
    {
     "name": "stdout",
     "output_type": "stream",
     "text": [
      "|   iter    |  target   | colsam... | max_depth | reg_alpha | reg_lamda | subsample |\n",
      "-------------------------------------------------------------------------------------\n"
     ]
    },
    {
     "ename": "KeyboardInterrupt",
     "evalue": "",
     "output_type": "error",
     "traceback": [
      "\u001b[1;31m---------------------------------------------------------------------------\u001b[0m",
      "\u001b[1;31mKeyError\u001b[0m                                  Traceback (most recent call last)",
      "\u001b[1;32mc:\\users\\young\\anaconda3\\envs\\study\\lib\\site-packages\\bayes_opt\\target_space.py\u001b[0m in \u001b[0;36mprobe\u001b[1;34m(self, params)\u001b[0m\n\u001b[0;32m    190\u001b[0m         \u001b[1;32mtry\u001b[0m\u001b[1;33m:\u001b[0m\u001b[1;33m\u001b[0m\u001b[1;33m\u001b[0m\u001b[0m\n\u001b[1;32m--> 191\u001b[1;33m             \u001b[0mtarget\u001b[0m \u001b[1;33m=\u001b[0m \u001b[0mself\u001b[0m\u001b[1;33m.\u001b[0m\u001b[0m_cache\u001b[0m\u001b[1;33m[\u001b[0m\u001b[0m_hashable\u001b[0m\u001b[1;33m(\u001b[0m\u001b[0mx\u001b[0m\u001b[1;33m)\u001b[0m\u001b[1;33m]\u001b[0m\u001b[1;33m\u001b[0m\u001b[1;33m\u001b[0m\u001b[0m\n\u001b[0m\u001b[0;32m    192\u001b[0m         \u001b[1;32mexcept\u001b[0m \u001b[0mKeyError\u001b[0m\u001b[1;33m:\u001b[0m\u001b[1;33m\u001b[0m\u001b[1;33m\u001b[0m\u001b[0m\n",
      "\u001b[1;31mKeyError\u001b[0m: (0.6841694527491273, 9.436704297351774, 1.8480137906077674, 1.680161230691001, 0.5965583595372332)",
      "\nDuring handling of the above exception, another exception occurred:\n",
      "\u001b[1;31mKeyboardInterrupt\u001b[0m                         Traceback (most recent call last)",
      "\u001b[1;32m<timed exec>\u001b[0m in \u001b[0;36m<module>\u001b[1;34m\u001b[0m\n",
      "\u001b[1;32mc:\\users\\young\\anaconda3\\envs\\study\\lib\\site-packages\\bayes_opt\\bayesian_optimization.py\u001b[0m in \u001b[0;36mmaximize\u001b[1;34m(self, init_points, n_iter, acq, kappa, xi, **gp_params)\u001b[0m\n\u001b[0;32m    172\u001b[0m                 \u001b[0miteration\u001b[0m \u001b[1;33m+=\u001b[0m \u001b[1;36m1\u001b[0m\u001b[1;33m\u001b[0m\u001b[1;33m\u001b[0m\u001b[0m\n\u001b[0;32m    173\u001b[0m \u001b[1;33m\u001b[0m\u001b[0m\n\u001b[1;32m--> 174\u001b[1;33m             \u001b[0mself\u001b[0m\u001b[1;33m.\u001b[0m\u001b[0mprobe\u001b[0m\u001b[1;33m(\u001b[0m\u001b[0mx_probe\u001b[0m\u001b[1;33m,\u001b[0m \u001b[0mlazy\u001b[0m\u001b[1;33m=\u001b[0m\u001b[1;32mFalse\u001b[0m\u001b[1;33m)\u001b[0m\u001b[1;33m\u001b[0m\u001b[1;33m\u001b[0m\u001b[0m\n\u001b[0m\u001b[0;32m    175\u001b[0m \u001b[1;33m\u001b[0m\u001b[0m\n\u001b[0;32m    176\u001b[0m         \u001b[0mself\u001b[0m\u001b[1;33m.\u001b[0m\u001b[0mdispatch\u001b[0m\u001b[1;33m(\u001b[0m\u001b[0mEvents\u001b[0m\u001b[1;33m.\u001b[0m\u001b[0mOPTMIZATION_END\u001b[0m\u001b[1;33m)\u001b[0m\u001b[1;33m\u001b[0m\u001b[1;33m\u001b[0m\u001b[0m\n",
      "\u001b[1;32mc:\\users\\young\\anaconda3\\envs\\study\\lib\\site-packages\\bayes_opt\\bayesian_optimization.py\u001b[0m in \u001b[0;36mprobe\u001b[1;34m(self, params, lazy)\u001b[0m\n\u001b[0;32m    110\u001b[0m             \u001b[0mself\u001b[0m\u001b[1;33m.\u001b[0m\u001b[0m_queue\u001b[0m\u001b[1;33m.\u001b[0m\u001b[0madd\u001b[0m\u001b[1;33m(\u001b[0m\u001b[0mparams\u001b[0m\u001b[1;33m)\u001b[0m\u001b[1;33m\u001b[0m\u001b[1;33m\u001b[0m\u001b[0m\n\u001b[0;32m    111\u001b[0m         \u001b[1;32melse\u001b[0m\u001b[1;33m:\u001b[0m\u001b[1;33m\u001b[0m\u001b[1;33m\u001b[0m\u001b[0m\n\u001b[1;32m--> 112\u001b[1;33m             \u001b[0mself\u001b[0m\u001b[1;33m.\u001b[0m\u001b[0m_space\u001b[0m\u001b[1;33m.\u001b[0m\u001b[0mprobe\u001b[0m\u001b[1;33m(\u001b[0m\u001b[0mparams\u001b[0m\u001b[1;33m)\u001b[0m\u001b[1;33m\u001b[0m\u001b[1;33m\u001b[0m\u001b[0m\n\u001b[0m\u001b[0;32m    113\u001b[0m             \u001b[0mself\u001b[0m\u001b[1;33m.\u001b[0m\u001b[0mdispatch\u001b[0m\u001b[1;33m(\u001b[0m\u001b[0mEvents\u001b[0m\u001b[1;33m.\u001b[0m\u001b[0mOPTMIZATION_STEP\u001b[0m\u001b[1;33m)\u001b[0m\u001b[1;33m\u001b[0m\u001b[1;33m\u001b[0m\u001b[0m\n\u001b[0;32m    114\u001b[0m \u001b[1;33m\u001b[0m\u001b[0m\n",
      "\u001b[1;32mc:\\users\\young\\anaconda3\\envs\\study\\lib\\site-packages\\bayes_opt\\target_space.py\u001b[0m in \u001b[0;36mprobe\u001b[1;34m(self, params)\u001b[0m\n\u001b[0;32m    192\u001b[0m         \u001b[1;32mexcept\u001b[0m \u001b[0mKeyError\u001b[0m\u001b[1;33m:\u001b[0m\u001b[1;33m\u001b[0m\u001b[1;33m\u001b[0m\u001b[0m\n\u001b[0;32m    193\u001b[0m             \u001b[0mparams\u001b[0m \u001b[1;33m=\u001b[0m \u001b[0mdict\u001b[0m\u001b[1;33m(\u001b[0m\u001b[0mzip\u001b[0m\u001b[1;33m(\u001b[0m\u001b[0mself\u001b[0m\u001b[1;33m.\u001b[0m\u001b[0m_keys\u001b[0m\u001b[1;33m,\u001b[0m \u001b[0mx\u001b[0m\u001b[1;33m)\u001b[0m\u001b[1;33m)\u001b[0m\u001b[1;33m\u001b[0m\u001b[1;33m\u001b[0m\u001b[0m\n\u001b[1;32m--> 194\u001b[1;33m             \u001b[0mtarget\u001b[0m \u001b[1;33m=\u001b[0m \u001b[0mself\u001b[0m\u001b[1;33m.\u001b[0m\u001b[0mtarget_func\u001b[0m\u001b[1;33m(\u001b[0m\u001b[1;33m**\u001b[0m\u001b[0mparams\u001b[0m\u001b[1;33m)\u001b[0m\u001b[1;33m\u001b[0m\u001b[1;33m\u001b[0m\u001b[0m\n\u001b[0m\u001b[0;32m    195\u001b[0m             \u001b[0mself\u001b[0m\u001b[1;33m.\u001b[0m\u001b[0mregister\u001b[0m\u001b[1;33m(\u001b[0m\u001b[0mx\u001b[0m\u001b[1;33m,\u001b[0m \u001b[0mtarget\u001b[0m\u001b[1;33m)\u001b[0m\u001b[1;33m\u001b[0m\u001b[1;33m\u001b[0m\u001b[0m\n\u001b[0;32m    196\u001b[0m         \u001b[1;32mreturn\u001b[0m \u001b[0mtarget\u001b[0m\u001b[1;33m\u001b[0m\u001b[1;33m\u001b[0m\u001b[0m\n",
      "\u001b[1;32m<ipython-input-14-e16bd8b20745>\u001b[0m in \u001b[0;36mbayes_xgb\u001b[1;34m(max_depth, subsample, colsample_bytree, reg_alpha, reg_lamda)\u001b[0m\n\u001b[0;32m     30\u001b[0m         \u001b[0mtr_X\u001b[0m\u001b[1;33m,\u001b[0m \u001b[0mtr_y\u001b[0m \u001b[1;33m=\u001b[0m \u001b[0mtrain_X\u001b[0m\u001b[1;33m.\u001b[0m\u001b[0miloc\u001b[0m\u001b[1;33m[\u001b[0m\u001b[0mtr_idx\u001b[0m\u001b[1;33m,\u001b[0m \u001b[1;33m:\u001b[0m\u001b[1;33m]\u001b[0m\u001b[1;33m,\u001b[0m \u001b[0mtrain_y\u001b[0m\u001b[1;33m.\u001b[0m\u001b[0miloc\u001b[0m\u001b[1;33m[\u001b[0m\u001b[0mtr_idx\u001b[0m\u001b[1;33m]\u001b[0m\u001b[1;33m\u001b[0m\u001b[1;33m\u001b[0m\u001b[0m\n\u001b[0;32m     31\u001b[0m         \u001b[0mval_X\u001b[0m\u001b[1;33m,\u001b[0m \u001b[0mval_y\u001b[0m \u001b[1;33m=\u001b[0m \u001b[0mtrain_X\u001b[0m\u001b[1;33m.\u001b[0m\u001b[0miloc\u001b[0m\u001b[1;33m[\u001b[0m\u001b[0mval_idx\u001b[0m\u001b[1;33m,\u001b[0m \u001b[1;33m:\u001b[0m\u001b[1;33m]\u001b[0m\u001b[1;33m,\u001b[0m \u001b[0mtrain_y\u001b[0m\u001b[1;33m.\u001b[0m\u001b[0miloc\u001b[0m\u001b[1;33m[\u001b[0m\u001b[0mval_idx\u001b[0m\u001b[1;33m]\u001b[0m\u001b[1;33m\u001b[0m\u001b[1;33m\u001b[0m\u001b[0m\n\u001b[1;32m---> 32\u001b[1;33m         \u001b[0mclf\u001b[0m \u001b[1;33m=\u001b[0m \u001b[0mXGBClassifier\u001b[0m\u001b[1;33m(\u001b[0m\u001b[1;33m**\u001b[0m\u001b[0mparams\u001b[0m\u001b[1;33m)\u001b[0m\u001b[1;33m.\u001b[0m\u001b[0mfit\u001b[0m\u001b[1;33m(\u001b[0m\u001b[0mtr_X\u001b[0m\u001b[1;33m,\u001b[0m \u001b[0mtr_y\u001b[0m\u001b[1;33m,\u001b[0m \u001b[0meval_metric\u001b[0m \u001b[1;33m=\u001b[0m \u001b[1;34m'error'\u001b[0m\u001b[1;33m,\u001b[0m \u001b[0meval_set\u001b[0m\u001b[1;33m=\u001b[0m\u001b[1;33m[\u001b[0m\u001b[1;33m[\u001b[0m\u001b[0mval_X\u001b[0m\u001b[1;33m,\u001b[0m \u001b[0mval_y\u001b[0m\u001b[1;33m]\u001b[0m\u001b[1;33m]\u001b[0m\u001b[1;33m,\u001b[0m \u001b[0mearly_stopping_rounds\u001b[0m\u001b[1;33m=\u001b[0m\u001b[1;36m100\u001b[0m\u001b[1;33m,\u001b[0m \u001b[0mverbose\u001b[0m\u001b[1;33m=\u001b[0m\u001b[1;36m0\u001b[0m\u001b[1;33m)\u001b[0m\u001b[1;33m\u001b[0m\u001b[1;33m\u001b[0m\u001b[0m\n\u001b[0m\u001b[0;32m     33\u001b[0m         \u001b[0macc\u001b[0m \u001b[1;33m+=\u001b[0m \u001b[0maccuracy_score\u001b[0m\u001b[1;33m(\u001b[0m\u001b[0mval_y\u001b[0m\u001b[1;33m,\u001b[0m \u001b[0mclf\u001b[0m\u001b[1;33m.\u001b[0m\u001b[0mpredict\u001b[0m\u001b[1;33m(\u001b[0m\u001b[0mval_X\u001b[0m\u001b[1;33m)\u001b[0m\u001b[1;33m)\u001b[0m\u001b[1;33m/\u001b[0m\u001b[1;36m10\u001b[0m\u001b[1;33m\u001b[0m\u001b[1;33m\u001b[0m\u001b[0m\n\u001b[0;32m     34\u001b[0m         \u001b[0mbest_n\u001b[0m \u001b[1;33m+=\u001b[0m \u001b[0mclf\u001b[0m\u001b[1;33m.\u001b[0m\u001b[0mbest_iteration\u001b[0m\u001b[1;33m/\u001b[0m\u001b[1;36m10\u001b[0m\u001b[1;33m\u001b[0m\u001b[1;33m\u001b[0m\u001b[0m\n",
      "\u001b[1;32mc:\\users\\young\\anaconda3\\envs\\study\\lib\\site-packages\\xgboost\\sklearn.py\u001b[0m in \u001b[0;36mfit\u001b[1;34m(self, X, y, sample_weight, eval_set, eval_metric, early_stopping_rounds, verbose, xgb_model, sample_weight_eval_set, callbacks)\u001b[0m\n\u001b[0;32m    730\u001b[0m                               \u001b[0mevals_result\u001b[0m\u001b[1;33m=\u001b[0m\u001b[0mevals_result\u001b[0m\u001b[1;33m,\u001b[0m \u001b[0mobj\u001b[0m\u001b[1;33m=\u001b[0m\u001b[0mobj\u001b[0m\u001b[1;33m,\u001b[0m \u001b[0mfeval\u001b[0m\u001b[1;33m=\u001b[0m\u001b[0mfeval\u001b[0m\u001b[1;33m,\u001b[0m\u001b[1;33m\u001b[0m\u001b[1;33m\u001b[0m\u001b[0m\n\u001b[0;32m    731\u001b[0m                               \u001b[0mverbose_eval\u001b[0m\u001b[1;33m=\u001b[0m\u001b[0mverbose\u001b[0m\u001b[1;33m,\u001b[0m \u001b[0mxgb_model\u001b[0m\u001b[1;33m=\u001b[0m\u001b[0mxgb_model\u001b[0m\u001b[1;33m,\u001b[0m\u001b[1;33m\u001b[0m\u001b[1;33m\u001b[0m\u001b[0m\n\u001b[1;32m--> 732\u001b[1;33m                               callbacks=callbacks)\n\u001b[0m\u001b[0;32m    733\u001b[0m \u001b[1;33m\u001b[0m\u001b[0m\n\u001b[0;32m    734\u001b[0m         \u001b[0mself\u001b[0m\u001b[1;33m.\u001b[0m\u001b[0mobjective\u001b[0m \u001b[1;33m=\u001b[0m \u001b[0mxgb_options\u001b[0m\u001b[1;33m[\u001b[0m\u001b[1;34m\"objective\"\u001b[0m\u001b[1;33m]\u001b[0m\u001b[1;33m\u001b[0m\u001b[1;33m\u001b[0m\u001b[0m\n",
      "\u001b[1;32mc:\\users\\young\\anaconda3\\envs\\study\\lib\\site-packages\\xgboost\\training.py\u001b[0m in \u001b[0;36mtrain\u001b[1;34m(params, dtrain, num_boost_round, evals, obj, feval, maximize, early_stopping_rounds, evals_result, verbose_eval, xgb_model, callbacks, learning_rates)\u001b[0m\n\u001b[0;32m    214\u001b[0m                            \u001b[0mevals\u001b[0m\u001b[1;33m=\u001b[0m\u001b[0mevals\u001b[0m\u001b[1;33m,\u001b[0m\u001b[1;33m\u001b[0m\u001b[1;33m\u001b[0m\u001b[0m\n\u001b[0;32m    215\u001b[0m                            \u001b[0mobj\u001b[0m\u001b[1;33m=\u001b[0m\u001b[0mobj\u001b[0m\u001b[1;33m,\u001b[0m \u001b[0mfeval\u001b[0m\u001b[1;33m=\u001b[0m\u001b[0mfeval\u001b[0m\u001b[1;33m,\u001b[0m\u001b[1;33m\u001b[0m\u001b[1;33m\u001b[0m\u001b[0m\n\u001b[1;32m--> 216\u001b[1;33m                            xgb_model=xgb_model, callbacks=callbacks)\n\u001b[0m\u001b[0;32m    217\u001b[0m \u001b[1;33m\u001b[0m\u001b[0m\n\u001b[0;32m    218\u001b[0m \u001b[1;33m\u001b[0m\u001b[0m\n",
      "\u001b[1;32mc:\\users\\young\\anaconda3\\envs\\study\\lib\\site-packages\\xgboost\\training.py\u001b[0m in \u001b[0;36m_train_internal\u001b[1;34m(params, dtrain, num_boost_round, evals, obj, feval, xgb_model, callbacks)\u001b[0m\n\u001b[0;32m     72\u001b[0m         \u001b[1;31m# Skip the first update if it is a recovery step.\u001b[0m\u001b[1;33m\u001b[0m\u001b[1;33m\u001b[0m\u001b[1;33m\u001b[0m\u001b[0m\n\u001b[0;32m     73\u001b[0m         \u001b[1;32mif\u001b[0m \u001b[0mversion\u001b[0m \u001b[1;33m%\u001b[0m \u001b[1;36m2\u001b[0m \u001b[1;33m==\u001b[0m \u001b[1;36m0\u001b[0m\u001b[1;33m:\u001b[0m\u001b[1;33m\u001b[0m\u001b[1;33m\u001b[0m\u001b[0m\n\u001b[1;32m---> 74\u001b[1;33m             \u001b[0mbst\u001b[0m\u001b[1;33m.\u001b[0m\u001b[0mupdate\u001b[0m\u001b[1;33m(\u001b[0m\u001b[0mdtrain\u001b[0m\u001b[1;33m,\u001b[0m \u001b[0mi\u001b[0m\u001b[1;33m,\u001b[0m \u001b[0mobj\u001b[0m\u001b[1;33m)\u001b[0m\u001b[1;33m\u001b[0m\u001b[1;33m\u001b[0m\u001b[0m\n\u001b[0m\u001b[0;32m     75\u001b[0m             \u001b[0mbst\u001b[0m\u001b[1;33m.\u001b[0m\u001b[0msave_rabit_checkpoint\u001b[0m\u001b[1;33m(\u001b[0m\u001b[1;33m)\u001b[0m\u001b[1;33m\u001b[0m\u001b[1;33m\u001b[0m\u001b[0m\n\u001b[0;32m     76\u001b[0m             \u001b[0mversion\u001b[0m \u001b[1;33m+=\u001b[0m \u001b[1;36m1\u001b[0m\u001b[1;33m\u001b[0m\u001b[1;33m\u001b[0m\u001b[0m\n",
      "\u001b[1;32mc:\\users\\young\\anaconda3\\envs\\study\\lib\\site-packages\\xgboost\\core.py\u001b[0m in \u001b[0;36mupdate\u001b[1;34m(self, dtrain, iteration, fobj)\u001b[0m\n\u001b[0;32m   1107\u001b[0m         \u001b[1;32mif\u001b[0m \u001b[0mfobj\u001b[0m \u001b[1;32mis\u001b[0m \u001b[1;32mNone\u001b[0m\u001b[1;33m:\u001b[0m\u001b[1;33m\u001b[0m\u001b[1;33m\u001b[0m\u001b[0m\n\u001b[0;32m   1108\u001b[0m             _check_call(_LIB.XGBoosterUpdateOneIter(self.handle, ctypes.c_int(iteration),\n\u001b[1;32m-> 1109\u001b[1;33m                                                     dtrain.handle))\n\u001b[0m\u001b[0;32m   1110\u001b[0m         \u001b[1;32melse\u001b[0m\u001b[1;33m:\u001b[0m\u001b[1;33m\u001b[0m\u001b[1;33m\u001b[0m\u001b[0m\n\u001b[0;32m   1111\u001b[0m             \u001b[0mpred\u001b[0m \u001b[1;33m=\u001b[0m \u001b[0mself\u001b[0m\u001b[1;33m.\u001b[0m\u001b[0mpredict\u001b[0m\u001b[1;33m(\u001b[0m\u001b[0mdtrain\u001b[0m\u001b[1;33m)\u001b[0m\u001b[1;33m\u001b[0m\u001b[1;33m\u001b[0m\u001b[0m\n",
      "\u001b[1;31mKeyboardInterrupt\u001b[0m: "
     ]
    }
   ],
   "source": [
    "%%time\n",
    "optimizer = BayesianOptimization(bayes_xgb, xgb_bounds, random_state=0)\n",
    "\n",
    "init_points = 10\n",
    "n_iter = 20\n",
    "\n",
    "optimizer.maximize(init_points=init_points, n_iter=n_iter)"
   ]
  },
  {
   "cell_type": "code",
   "execution_count": 17,
   "metadata": {},
   "outputs": [],
   "source": [
    "import pickle\n",
    "with open('best_params.bin', 'rb') as f:\n",
    "    best_params = pickle.load(f)"
   ]
  },
  {
   "cell_type": "code",
   "execution_count": 18,
   "metadata": {},
   "outputs": [
    {
     "ename": "KeyError",
     "evalue": "'params'",
     "output_type": "error",
     "traceback": [
      "\u001b[1;31m---------------------------------------------------------------------------\u001b[0m",
      "\u001b[1;31mKeyError\u001b[0m                                  Traceback (most recent call last)",
      "\u001b[1;32m<ipython-input-18-87e387590966>\u001b[0m in \u001b[0;36m<module>\u001b[1;34m\u001b[0m\n\u001b[1;32m----> 1\u001b[1;33m \u001b[0moptimizer\u001b[0m\u001b[1;33m.\u001b[0m\u001b[0mmax\u001b[0m\u001b[1;33m[\u001b[0m\u001b[1;34m'params'\u001b[0m\u001b[1;33m]\u001b[0m\u001b[1;33m\u001b[0m\u001b[1;33m\u001b[0m\u001b[0m\n\u001b[0m",
      "\u001b[1;31mKeyError\u001b[0m: 'params'"
     ]
    }
   ],
   "source": [
    "optimizer.max['params']"
   ]
  },
  {
   "cell_type": "code",
   "execution_count": 19,
   "metadata": {
    "scrolled": true
   },
   "outputs": [],
   "source": [
    "best_params = {\n",
    "    'n_estimators': int(best_ns[12]),\n",
    "    'booster': 'gbtree',\n",
    "    'tree_method': 'hist',\n",
    "    'random_state': 0,\n",
    "    'n_jobs': -1,\n",
    "    'max_depth': int(optimizer.max['params']['max_depth']),\n",
    "    'subsample': optimizer.max['params']['subsample'],\n",
    "    'colsample_bytree': optimizer.max['params']['colsample_bytree'],\n",
    "    'reg_alpha': optimizer.max['params']['reg_alpha'],\n",
    "    'reg_lamda': optimizer.max['params']['reg_lamda'],\n",
    "    'metric': 'error'\n",
    "}\n",
    "\n",
    "clf = XGBClassifier(**best_params).fit(train_X, train_y)\n"
   ]
  },
  {
   "cell_type": "code",
   "execution_count": 20,
   "metadata": {},
   "outputs": [
    {
     "name": "stdout",
     "output_type": "stream",
     "text": [
      "0.8073061224489797\n"
     ]
    }
   ],
   "source": [
    "## voting\n",
    "from sklearn.ensemble import VotingClassifier\n",
    "\n",
    "v_lr = LogisticRegression(random_state=0)\n",
    "v_knn = KNeighborsClassifier(n_neighbors=3)\n",
    "v_rf = RandomForestClassifier(max_depth=9, random_state=0)\n",
    "\n",
    "vclf = VotingClassifier(estimators=[\n",
    "    ('lr', v_lr),\n",
    "    ('knn', v_knn),\n",
    "    ('rf', v_rf)\n",
    "], voting='soft')\n",
    "\n",
    "acc = 0\n",
    "for tr_idx, val_idx in kfold.split(train_X):\n",
    "    tr_X, tr_y = train_X.iloc[tr_idx, :], train_y.iloc[tr_idx]\n",
    "    val_X, val_y = train_X.iloc[val_idx, :], train_y.iloc[val_idx]\n",
    "    vclf.fit(tr_X, tr_y)\n",
    "    acc += accuracy_score(val_y, vclf.predict(val_X))/10\n",
    "\n",
    "print(acc)"
   ]
  },
  {
   "cell_type": "markdown",
   "metadata": {},
   "source": [
    "개별 모델들과 앙상블모형을 통틀어 xgboost가 가장 높은 성능을 보여줄 것으로 기대된다.  \n",
    "실제 test셋의 결과는 어떨까?\n"
   ]
  },
  {
   "cell_type": "code",
   "execution_count": 21,
   "metadata": {},
   "outputs": [
    {
     "name": "stdout",
     "output_type": "stream",
     "text": [
      "lr: 0.7710280373831776\n",
      "knn: 0.7523364485981309\n",
      "rf: 0.7663551401869159\n",
      "xgboost: 0.780373831775701\n",
      "voting: 0.7897196261682243\n"
     ]
    }
   ],
   "source": [
    "print('lr:', accuracy_score(test_y, lr.predict(test_X)))\n",
    "print('knn:', accuracy_score(test_y, knn.predict(test_X)))\n",
    "print('rf:', accuracy_score(test_y, rf.predict(test_X)))\n",
    "print('xgboost:', accuracy_score(test_y, clf.predict(test_X)))\n",
    "print('voting:', accuracy_score(test_y, vclf.predict(test_X)))"
   ]
  },
  {
   "cell_type": "code",
   "execution_count": null,
   "metadata": {},
   "outputs": [],
   "source": [
    "## nn 및 stacking"
   ]
  },
  {
   "cell_type": "code",
   "execution_count": 22,
   "metadata": {},
   "outputs": [],
   "source": [
    "## nn\n",
    "input_layer = layers.Input(shape=((train_X.shape[1], )))\n",
    "\n",
    "layer1 = layers.Dense(64, activation='relu')(input_layer)\n",
    "# drop1 = layers.Dropout(0.1)(layer1)\n",
    "layer2 = layers.Dense(32, activation='relu')(layer1)\n",
    "\n",
    "out_layer = layers.Dense(1, activation='sigmoid')(layer2)\n",
    "\n",
    "model = models.Model(input_layer, out_layer)"
   ]
  },
  {
   "cell_type": "code",
   "execution_count": 23,
   "metadata": {},
   "outputs": [],
   "source": [
    "model.compile(optimizer='adam',\n",
    "             loss='binary_crossentropy',\n",
    "             metrics=['acc'])"
   ]
  },
  {
   "cell_type": "code",
   "execution_count": 24,
   "metadata": {},
   "outputs": [],
   "source": [
    "cp = ModelCheckpoint('best_model.h5', monitor='val_loss', mode='min', save_best_only=True)\n",
    "es = EarlyStopping(monitor='val_loss', patience=20, restore_best_weights=True, verbose=1)"
   ]
  },
  {
   "cell_type": "code",
   "execution_count": 25,
   "metadata": {
    "scrolled": true
   },
   "outputs": [
    {
     "name": "stdout",
     "output_type": "stream",
     "text": [
      "Train on 348 samples, validate on 150 samples\n",
      "Epoch 1/200\n",
      "348/348 [==============================] - 1s 3ms/step - loss: 0.7098 - acc: 0.4569 - val_loss: 0.6548 - val_acc: 0.7067\n",
      "Epoch 2/200\n",
      "348/348 [==============================] - 0s 103us/step - loss: 0.6333 - acc: 0.6695 - val_loss: 0.5910 - val_acc: 0.7400\n",
      "Epoch 3/200\n",
      "348/348 [==============================] - 0s 102us/step - loss: 0.5868 - acc: 0.7184 - val_loss: 0.5537 - val_acc: 0.7600\n",
      "Epoch 4/200\n",
      "348/348 [==============================] - 0s 102us/step - loss: 0.5500 - acc: 0.7299 - val_loss: 0.5254 - val_acc: 0.7467\n",
      "Epoch 5/200\n",
      "348/348 [==============================] - 0s 105us/step - loss: 0.5150 - acc: 0.7730 - val_loss: 0.5074 - val_acc: 0.7733\n",
      "Epoch 6/200\n",
      "348/348 [==============================] - 0s 100us/step - loss: 0.4831 - acc: 0.7960 - val_loss: 0.4868 - val_acc: 0.7733\n",
      "Epoch 7/200\n",
      "348/348 [==============================] - 0s 104us/step - loss: 0.4557 - acc: 0.8103 - val_loss: 0.4694 - val_acc: 0.8067\n",
      "Epoch 8/200\n",
      "348/348 [==============================] - 0s 105us/step - loss: 0.4363 - acc: 0.8132 - val_loss: 0.4607 - val_acc: 0.7667\n",
      "Epoch 9/200\n",
      "348/348 [==============================] - 0s 103us/step - loss: 0.4202 - acc: 0.8103 - val_loss: 0.4638 - val_acc: 0.7667\n",
      "Epoch 10/200\n",
      "348/348 [==============================] - 0s 112us/step - loss: 0.4099 - acc: 0.8132 - val_loss: 0.4619 - val_acc: 0.7733\n",
      "Epoch 11/200\n",
      "348/348 [==============================] - 0s 109us/step - loss: 0.3974 - acc: 0.8333 - val_loss: 0.4553 - val_acc: 0.7733\n",
      "Epoch 12/200\n",
      "348/348 [==============================] - 0s 109us/step - loss: 0.3929 - acc: 0.8190 - val_loss: 0.4568 - val_acc: 0.7733\n",
      "Epoch 13/200\n",
      "348/348 [==============================] - 0s 112us/step - loss: 0.3825 - acc: 0.8362 - val_loss: 0.4610 - val_acc: 0.7600\n",
      "Epoch 14/200\n",
      "348/348 [==============================] - 0s 104us/step - loss: 0.3760 - acc: 0.8391 - val_loss: 0.4607 - val_acc: 0.7733\n",
      "Epoch 15/200\n",
      "348/348 [==============================] - 0s 106us/step - loss: 0.3697 - acc: 0.8448 - val_loss: 0.4641 - val_acc: 0.7667\n",
      "Epoch 16/200\n",
      "348/348 [==============================] - 0s 111us/step - loss: 0.3652 - acc: 0.8391 - val_loss: 0.4654 - val_acc: 0.7867\n",
      "Epoch 17/200\n",
      "348/348 [==============================] - 0s 106us/step - loss: 0.3617 - acc: 0.8420 - val_loss: 0.4654 - val_acc: 0.7800\n",
      "Epoch 18/200\n",
      "348/348 [==============================] - 0s 106us/step - loss: 0.3566 - acc: 0.8448 - val_loss: 0.4725 - val_acc: 0.7733\n",
      "Epoch 19/200\n",
      "348/348 [==============================] - 0s 103us/step - loss: 0.3512 - acc: 0.8477 - val_loss: 0.4786 - val_acc: 0.7733\n",
      "Epoch 20/200\n",
      "348/348 [==============================] - 0s 101us/step - loss: 0.3446 - acc: 0.8506 - val_loss: 0.4708 - val_acc: 0.7867\n",
      "Epoch 21/200\n",
      "348/348 [==============================] - 0s 107us/step - loss: 0.3427 - acc: 0.8420 - val_loss: 0.4727 - val_acc: 0.7867\n",
      "Epoch 22/200\n",
      "348/348 [==============================] - 0s 104us/step - loss: 0.3363 - acc: 0.8391 - val_loss: 0.4821 - val_acc: 0.7867\n",
      "Epoch 23/200\n",
      "348/348 [==============================] - 0s 108us/step - loss: 0.3330 - acc: 0.8534 - val_loss: 0.4807 - val_acc: 0.7800\n",
      "Epoch 24/200\n",
      "348/348 [==============================] - 0s 107us/step - loss: 0.3290 - acc: 0.8448 - val_loss: 0.4776 - val_acc: 0.7800\n",
      "Epoch 25/200\n",
      "348/348 [==============================] - 0s 112us/step - loss: 0.3250 - acc: 0.8506 - val_loss: 0.4880 - val_acc: 0.7733\n",
      "Epoch 26/200\n",
      "348/348 [==============================] - 0s 107us/step - loss: 0.3219 - acc: 0.8534 - val_loss: 0.4897 - val_acc: 0.7800\n",
      "Epoch 27/200\n",
      "348/348 [==============================] - 0s 120us/step - loss: 0.3184 - acc: 0.8563 - val_loss: 0.4913 - val_acc: 0.7867\n",
      "Epoch 28/200\n",
      "348/348 [==============================] - 0s 104us/step - loss: 0.3145 - acc: 0.8592 - val_loss: 0.4909 - val_acc: 0.7867\n",
      "Epoch 29/200\n",
      "348/348 [==============================] - 0s 104us/step - loss: 0.3116 - acc: 0.8649 - val_loss: 0.4963 - val_acc: 0.7867\n",
      "Epoch 30/200\n",
      "348/348 [==============================] - 0s 110us/step - loss: 0.3170 - acc: 0.8621 - val_loss: 0.5086 - val_acc: 0.7867\n",
      "Epoch 31/200\n",
      "348/348 [==============================] - 0s 111us/step - loss: 0.3249 - acc: 0.8534 - val_loss: 0.4931 - val_acc: 0.7800\n",
      "Restoring model weights from the end of the best epoch\n",
      "Epoch 00031: early stopping\n"
     ]
    },
    {
     "data": {
      "text/plain": [
       "<keras.callbacks.callbacks.History at 0x2b78ff85d08>"
      ]
     },
     "execution_count": 25,
     "metadata": {},
     "output_type": "execute_result"
    }
   ],
   "source": [
    "model.fit(train_X, train_y,\n",
    "          epochs=200,\n",
    "          validation_split=0.3,\n",
    "          callbacks=[es]\n",
    "         )"
   ]
  },
  {
   "cell_type": "code",
   "execution_count": 26,
   "metadata": {},
   "outputs": [
    {
     "name": "stdout",
     "output_type": "stream",
     "text": [
      "214/214 [==============================] - 0s 50us/step\n"
     ]
    },
    {
     "data": {
      "text/plain": [
       "[0.5076733777456195, 0.7476635575294495]"
      ]
     },
     "execution_count": 26,
     "metadata": {},
     "output_type": "execute_result"
    }
   ],
   "source": [
    "model.evaluate(test_X, test_y)"
   ]
  },
  {
   "cell_type": "code",
   "execution_count": 27,
   "metadata": {},
   "outputs": [],
   "source": [
    "## self cv 예시\n",
    "from keras.wrappers.scikit_learn import KerasClassifier\n",
    "\n",
    "def make_model():\n",
    "    K.clear_session()\n",
    "    input_layer = layers.Input(shape=((train_X.shape[1], )))\n",
    "\n",
    "    layer1 = layers.Dense(32, activation='relu')(input_layer)\n",
    "    drop1 = layers.Dropout(0.1)(layer1)\n",
    "    layer2 = layers.Dense(16, activation='relu')(drop1)\n",
    "    \n",
    "    out_layer = layers.Dense(1, activation='sigmoid')(layer2)\n",
    "\n",
    "    model = models.Model(input_layer, out_layer)\n",
    "    \n",
    "    model.compile(optimizer='adam',\n",
    "             loss='binary_crossentropy',\n",
    "             metrics=['acc'])\n",
    "    \n",
    "    return model"
   ]
  },
  {
   "cell_type": "code",
   "execution_count": 28,
   "metadata": {
    "scrolled": true
   },
   "outputs": [
    {
     "name": "stdout",
     "output_type": "stream",
     "text": [
      "50/50 [==============================] - 0s 77us/step\n",
      "50/50 [==============================] - 0s 77us/step\n",
      "50/50 [==============================] - 0s 72us/step\n",
      "50/50 [==============================] - 0s 71us/step\n",
      "50/50 [==============================] - 0s 84us/step\n",
      "50/50 [==============================] - 0s 73us/step\n",
      "50/50 [==============================] - 0s 81us/step\n",
      "50/50 [==============================] - 0s 71us/step\n",
      "49/49 [==============================] - 0s 93us/step\n",
      "49/49 [==============================] - 0s 77us/step\n",
      "0.7912652969360352\n"
     ]
    }
   ],
   "source": [
    "acc = 0\n",
    "for tr_idx, val_idx in kfold.split(train_X):\n",
    "    tr_X, tr_y = train_X.iloc[tr_idx, :], train_y.iloc[tr_idx]\n",
    "    val_X, val_y = train_X.iloc[val_idx, :], train_y.iloc[val_idx]\n",
    "    model = make_model()\n",
    "    model.fit(tr_X, tr_y, \n",
    "            epochs=40, \n",
    "#           callbacks = [es], \n",
    "            validation_data=[val_X, val_y],\n",
    "            verbose=0)\n",
    "    acc += model.evaluate(val_X, val_y)[1]/10\n",
    "\n",
    "print(acc)\n"
   ]
  },
  {
   "cell_type": "code",
   "execution_count": 29,
   "metadata": {},
   "outputs": [
    {
     "data": {
      "text/plain": [
       "0.7912652969360352"
      ]
     },
     "execution_count": 29,
     "metadata": {},
     "output_type": "execute_result"
    }
   ],
   "source": [
    "acc"
   ]
  },
  {
   "cell_type": "code",
   "execution_count": 30,
   "metadata": {},
   "outputs": [
    {
     "name": "stdout",
     "output_type": "stream",
     "text": [
      "214/214 [==============================] - 0s 68us/step\n"
     ]
    },
    {
     "data": {
      "text/plain": [
       "[0.5108383331343392, 0.7429906725883484]"
      ]
     },
     "execution_count": 30,
     "metadata": {},
     "output_type": "execute_result"
    }
   ],
   "source": [
    "model.evaluate(test_X, test_y)"
   ]
  },
  {
   "cell_type": "code",
   "execution_count": null,
   "metadata": {},
   "outputs": [],
   "source": [
    "## stacking"
   ]
  },
  {
   "cell_type": "code",
   "execution_count": 31,
   "metadata": {},
   "outputs": [],
   "source": [
    "## meta_training\n",
    "meta_train = pd.DataFrame()\n",
    "meta_train['lr'] = list(zip(*lr.predict_proba(train_X)))[0]\n",
    "meta_train['knn'] = list(zip(*knn.predict_proba(train_X)))[0]\n",
    "meta_train['rf'] = list(zip(*rf.predict_proba(train_X)))[0]\n",
    "meta_train['xgboost'] = list(zip(*clf.predict_proba(train_X)))[0]\n",
    "meta_train['voting'] = list(zip(*vclf.predict_proba(train_X)))[0]\n",
    "\n",
    "## meta_test\n",
    "meta_test = pd.DataFrame()\n",
    "meta_test['lr'] = list(zip(*lr.predict_proba(test_X)))[0]\n",
    "meta_test['knn'] = list(zip(*knn.predict_proba(test_X)))[0]\n",
    "meta_test['rf'] = list(zip(*rf.predict_proba(test_X)))[0]\n",
    "meta_test['xgboost'] = list(zip(*clf.predict_proba(test_X)))[0]\n",
    "meta_test['voting'] = list(zip(*vclf.predict_proba(test_X)))[0]\n",
    "# knn\n",
    "# rf\n",
    "# clf\n",
    "# vclf"
   ]
  },
  {
   "cell_type": "code",
   "execution_count": 32,
   "metadata": {},
   "outputs": [
    {
     "data": {
      "text/html": [
       "<div>\n",
       "<style scoped>\n",
       "    .dataframe tbody tr th:only-of-type {\n",
       "        vertical-align: middle;\n",
       "    }\n",
       "\n",
       "    .dataframe tbody tr th {\n",
       "        vertical-align: top;\n",
       "    }\n",
       "\n",
       "    .dataframe thead th {\n",
       "        text-align: right;\n",
       "    }\n",
       "</style>\n",
       "<table border=\"1\" class=\"dataframe\">\n",
       "  <thead>\n",
       "    <tr style=\"text-align: right;\">\n",
       "      <th></th>\n",
       "      <th>lr</th>\n",
       "      <th>knn</th>\n",
       "      <th>rf</th>\n",
       "      <th>xgboost</th>\n",
       "      <th>voting</th>\n",
       "    </tr>\n",
       "  </thead>\n",
       "  <tbody>\n",
       "    <tr>\n",
       "      <th>0</th>\n",
       "      <td>0.912940</td>\n",
       "      <td>1.000000</td>\n",
       "      <td>0.97</td>\n",
       "      <td>0.884549</td>\n",
       "      <td>0.934846</td>\n",
       "    </tr>\n",
       "    <tr>\n",
       "      <th>1</th>\n",
       "      <td>0.799155</td>\n",
       "      <td>0.666667</td>\n",
       "      <td>0.89</td>\n",
       "      <td>0.832210</td>\n",
       "      <td>0.792607</td>\n",
       "    </tr>\n",
       "    <tr>\n",
       "      <th>2</th>\n",
       "      <td>0.321217</td>\n",
       "      <td>0.666667</td>\n",
       "      <td>0.81</td>\n",
       "      <td>0.657710</td>\n",
       "      <td>0.597356</td>\n",
       "    </tr>\n",
       "    <tr>\n",
       "      <th>3</th>\n",
       "      <td>0.174382</td>\n",
       "      <td>0.666667</td>\n",
       "      <td>0.86</td>\n",
       "      <td>0.415983</td>\n",
       "      <td>0.525560</td>\n",
       "    </tr>\n",
       "    <tr>\n",
       "      <th>4</th>\n",
       "      <td>0.745927</td>\n",
       "      <td>1.000000</td>\n",
       "      <td>1.00</td>\n",
       "      <td>0.787516</td>\n",
       "      <td>0.869335</td>\n",
       "    </tr>\n",
       "    <tr>\n",
       "      <th>...</th>\n",
       "      <td>...</td>\n",
       "      <td>...</td>\n",
       "      <td>...</td>\n",
       "      <td>...</td>\n",
       "      <td>...</td>\n",
       "    </tr>\n",
       "    <tr>\n",
       "      <th>493</th>\n",
       "      <td>0.632150</td>\n",
       "      <td>1.000000</td>\n",
       "      <td>0.82</td>\n",
       "      <td>0.711787</td>\n",
       "      <td>0.830666</td>\n",
       "    </tr>\n",
       "    <tr>\n",
       "      <th>494</th>\n",
       "      <td>0.806150</td>\n",
       "      <td>0.666667</td>\n",
       "      <td>0.85</td>\n",
       "      <td>0.832210</td>\n",
       "      <td>0.794290</td>\n",
       "    </tr>\n",
       "    <tr>\n",
       "      <th>495</th>\n",
       "      <td>0.722263</td>\n",
       "      <td>1.000000</td>\n",
       "      <td>0.98</td>\n",
       "      <td>0.828759</td>\n",
       "      <td>0.905067</td>\n",
       "    </tr>\n",
       "    <tr>\n",
       "      <th>496</th>\n",
       "      <td>0.822041</td>\n",
       "      <td>1.000000</td>\n",
       "      <td>0.99</td>\n",
       "      <td>0.874082</td>\n",
       "      <td>0.928753</td>\n",
       "    </tr>\n",
       "    <tr>\n",
       "      <th>497</th>\n",
       "      <td>0.320300</td>\n",
       "      <td>0.333333</td>\n",
       "      <td>0.11</td>\n",
       "      <td>0.319402</td>\n",
       "      <td>0.310777</td>\n",
       "    </tr>\n",
       "  </tbody>\n",
       "</table>\n",
       "<p>498 rows × 5 columns</p>\n",
       "</div>"
      ],
      "text/plain": [
       "           lr       knn    rf   xgboost    voting\n",
       "0    0.912940  1.000000  0.97  0.884549  0.934846\n",
       "1    0.799155  0.666667  0.89  0.832210  0.792607\n",
       "2    0.321217  0.666667  0.81  0.657710  0.597356\n",
       "3    0.174382  0.666667  0.86  0.415983  0.525560\n",
       "4    0.745927  1.000000  1.00  0.787516  0.869335\n",
       "..        ...       ...   ...       ...       ...\n",
       "493  0.632150  1.000000  0.82  0.711787  0.830666\n",
       "494  0.806150  0.666667  0.85  0.832210  0.794290\n",
       "495  0.722263  1.000000  0.98  0.828759  0.905067\n",
       "496  0.822041  1.000000  0.99  0.874082  0.928753\n",
       "497  0.320300  0.333333  0.11  0.319402  0.310777\n",
       "\n",
       "[498 rows x 5 columns]"
      ]
     },
     "execution_count": 32,
     "metadata": {},
     "output_type": "execute_result"
    }
   ],
   "source": [
    "meta_train"
   ]
  },
  {
   "cell_type": "code",
   "execution_count": 33,
   "metadata": {},
   "outputs": [],
   "source": [
    "from keras import optimizers\n",
    "def stack_net():\n",
    "    K.clear_session()\n",
    "    \n",
    "    input_layer = layers.Input(shape=((meta_train.shape[1], )))\n",
    "\n",
    "    layer1 = layers.Dense(4, activation='relu')(input_layer)\n",
    "#     layer2 = layers.Dense(8, activation='relu')(layer1)\n",
    "    \n",
    "    out_layer = layers.Dense(1, activation='sigmoid')(layer1)\n",
    "\n",
    "    model = models.Model(input_layer, out_layer)\n",
    "    \n",
    "    model.compile(optimizer=optimizers.Adam(lr=0.001),\n",
    "             loss='binary_crossentropy',\n",
    "             metrics=['acc'])\n",
    "    \n",
    "    return model"
   ]
  },
  {
   "cell_type": "code",
   "execution_count": 34,
   "metadata": {
    "scrolled": true
   },
   "outputs": [
    {
     "name": "stdout",
     "output_type": "stream",
     "text": [
      "Train on 348 samples, validate on 150 samples\n",
      "Epoch 1/200\n",
      "348/348 [==============================] - 0s 369us/step - loss: 0.9097 - acc: 0.4167 - val_loss: 0.9089 - val_acc: 0.3600\n",
      "Epoch 2/200\n",
      "348/348 [==============================] - 0s 104us/step - loss: 0.8740 - acc: 0.4167 - val_loss: 0.8704 - val_acc: 0.3600\n",
      "Epoch 3/200\n",
      "348/348 [==============================] - 0s 95us/step - loss: 0.8393 - acc: 0.4109 - val_loss: 0.8355 - val_acc: 0.3600\n",
      "Epoch 4/200\n",
      "348/348 [==============================] - 0s 98us/step - loss: 0.8082 - acc: 0.4023 - val_loss: 0.8014 - val_acc: 0.3533\n",
      "Epoch 5/200\n",
      "348/348 [==============================] - 0s 95us/step - loss: 0.7774 - acc: 0.4109 - val_loss: 0.7692 - val_acc: 0.3533\n",
      "Epoch 6/200\n",
      "348/348 [==============================] - 0s 97us/step - loss: 0.7480 - acc: 0.4080 - val_loss: 0.7382 - val_acc: 0.3467\n",
      "Epoch 7/200\n",
      "348/348 [==============================] - 0s 97us/step - loss: 0.7199 - acc: 0.3908 - val_loss: 0.7082 - val_acc: 0.3600\n",
      "Epoch 8/200\n",
      "348/348 [==============================] - 0s 92us/step - loss: 0.6924 - acc: 0.4080 - val_loss: 0.6798 - val_acc: 0.7333\n",
      "Epoch 9/200\n",
      "348/348 [==============================] - 0s 95us/step - loss: 0.6660 - acc: 0.8851 - val_loss: 0.6543 - val_acc: 0.9333\n",
      "Epoch 10/200\n",
      "348/348 [==============================] - 0s 96us/step - loss: 0.6429 - acc: 0.9397 - val_loss: 0.6311 - val_acc: 0.9333\n",
      "Epoch 11/200\n",
      "348/348 [==============================] - 0s 99us/step - loss: 0.6210 - acc: 0.9454 - val_loss: 0.6080 - val_acc: 0.9400\n",
      "Epoch 12/200\n",
      "348/348 [==============================] - 0s 96us/step - loss: 0.5988 - acc: 0.9368 - val_loss: 0.5851 - val_acc: 0.9333\n",
      "Epoch 13/200\n",
      "348/348 [==============================] - 0s 95us/step - loss: 0.5772 - acc: 0.9339 - val_loss: 0.5619 - val_acc: 0.9400\n",
      "Epoch 14/200\n",
      "348/348 [==============================] - 0s 92us/step - loss: 0.5549 - acc: 0.9454 - val_loss: 0.5399 - val_acc: 0.9533\n",
      "Epoch 15/200\n",
      "348/348 [==============================] - 0s 94us/step - loss: 0.5335 - acc: 0.9511 - val_loss: 0.5179 - val_acc: 0.9533\n",
      "Epoch 16/200\n",
      "348/348 [==============================] - 0s 91us/step - loss: 0.5122 - acc: 0.9483 - val_loss: 0.4960 - val_acc: 0.9533\n",
      "Epoch 17/200\n",
      "348/348 [==============================] - 0s 96us/step - loss: 0.4913 - acc: 0.9483 - val_loss: 0.4757 - val_acc: 0.9533\n",
      "Epoch 18/200\n",
      "348/348 [==============================] - 0s 98us/step - loss: 0.4714 - acc: 0.9598 - val_loss: 0.4566 - val_acc: 0.9533\n",
      "Epoch 19/200\n",
      "348/348 [==============================] - 0s 100us/step - loss: 0.4527 - acc: 0.9626 - val_loss: 0.4387 - val_acc: 0.9533\n",
      "Epoch 20/200\n",
      "348/348 [==============================] - 0s 91us/step - loss: 0.4353 - acc: 0.9626 - val_loss: 0.4219 - val_acc: 0.9533\n",
      "Epoch 21/200\n",
      "348/348 [==============================] - 0s 93us/step - loss: 0.4184 - acc: 0.9655 - val_loss: 0.4053 - val_acc: 0.9533\n",
      "Epoch 22/200\n",
      "348/348 [==============================] - 0s 92us/step - loss: 0.4018 - acc: 0.9655 - val_loss: 0.3892 - val_acc: 0.9533\n",
      "Epoch 23/200\n",
      "348/348 [==============================] - 0s 91us/step - loss: 0.3855 - acc: 0.9684 - val_loss: 0.3739 - val_acc: 0.9600\n",
      "Epoch 24/200\n",
      "348/348 [==============================] - 0s 97us/step - loss: 0.3700 - acc: 0.9713 - val_loss: 0.3589 - val_acc: 0.9600\n",
      "Epoch 25/200\n",
      "348/348 [==============================] - 0s 97us/step - loss: 0.3547 - acc: 0.9713 - val_loss: 0.3441 - val_acc: 0.9600\n",
      "Epoch 26/200\n",
      "348/348 [==============================] - 0s 97us/step - loss: 0.3398 - acc: 0.9713 - val_loss: 0.3304 - val_acc: 0.9600\n",
      "Epoch 27/200\n",
      "348/348 [==============================] - 0s 91us/step - loss: 0.3256 - acc: 0.9741 - val_loss: 0.3170 - val_acc: 0.9600\n",
      "Epoch 28/200\n",
      "348/348 [==============================] - 0s 91us/step - loss: 0.3119 - acc: 0.9741 - val_loss: 0.3042 - val_acc: 0.9600\n",
      "Epoch 29/200\n",
      "348/348 [==============================] - 0s 96us/step - loss: 0.2989 - acc: 0.9741 - val_loss: 0.2918 - val_acc: 0.9600\n",
      "Epoch 30/200\n",
      "348/348 [==============================] - 0s 103us/step - loss: 0.2863 - acc: 0.9741 - val_loss: 0.2798 - val_acc: 0.9667\n",
      "Epoch 31/200\n",
      "348/348 [==============================] - 0s 98us/step - loss: 0.2744 - acc: 0.9741 - val_loss: 0.2687 - val_acc: 0.9667\n",
      "Epoch 32/200\n",
      "348/348 [==============================] - 0s 97us/step - loss: 0.2630 - acc: 0.9799 - val_loss: 0.2589 - val_acc: 0.9800\n",
      "Epoch 33/200\n",
      "348/348 [==============================] - 0s 100us/step - loss: 0.2521 - acc: 0.9828 - val_loss: 0.2481 - val_acc: 0.9800\n",
      "Epoch 34/200\n",
      "348/348 [==============================] - 0s 96us/step - loss: 0.2418 - acc: 0.9799 - val_loss: 0.2388 - val_acc: 0.9800\n",
      "Epoch 35/200\n",
      "348/348 [==============================] - 0s 97us/step - loss: 0.2320 - acc: 0.9856 - val_loss: 0.2298 - val_acc: 0.9800\n",
      "Epoch 36/200\n",
      "348/348 [==============================] - 0s 95us/step - loss: 0.2228 - acc: 0.9856 - val_loss: 0.2213 - val_acc: 0.9800\n",
      "Epoch 37/200\n",
      "348/348 [==============================] - 0s 96us/step - loss: 0.2140 - acc: 0.9885 - val_loss: 0.2133 - val_acc: 0.9800\n",
      "Epoch 38/200\n",
      "348/348 [==============================] - 0s 97us/step - loss: 0.2058 - acc: 0.9885 - val_loss: 0.2057 - val_acc: 0.9800\n",
      "Epoch 39/200\n",
      "348/348 [==============================] - 0s 92us/step - loss: 0.1979 - acc: 0.9914 - val_loss: 0.1986 - val_acc: 0.9800\n",
      "Epoch 40/200\n",
      "348/348 [==============================] - 0s 93us/step - loss: 0.1906 - acc: 0.9914 - val_loss: 0.1916 - val_acc: 0.9800\n",
      "Epoch 41/200\n",
      "348/348 [==============================] - 0s 94us/step - loss: 0.1836 - acc: 0.9914 - val_loss: 0.1854 - val_acc: 0.9800\n",
      "Epoch 42/200\n",
      "348/348 [==============================] - 0s 96us/step - loss: 0.1771 - acc: 0.9943 - val_loss: 0.1794 - val_acc: 0.9800\n",
      "Epoch 43/200\n",
      "348/348 [==============================] - 0s 93us/step - loss: 0.1707 - acc: 0.9971 - val_loss: 0.1736 - val_acc: 0.9800\n",
      "Epoch 44/200\n",
      "348/348 [==============================] - 0s 101us/step - loss: 0.1651 - acc: 0.9971 - val_loss: 0.1677 - val_acc: 0.9800\n",
      "Epoch 45/200\n",
      "348/348 [==============================] - 0s 97us/step - loss: 0.1593 - acc: 0.9971 - val_loss: 0.1631 - val_acc: 0.9867\n",
      "Epoch 46/200\n",
      "348/348 [==============================] - 0s 95us/step - loss: 0.1539 - acc: 0.9971 - val_loss: 0.1581 - val_acc: 0.9867\n",
      "Epoch 47/200\n",
      "348/348 [==============================] - 0s 96us/step - loss: 0.1489 - acc: 0.9971 - val_loss: 0.1536 - val_acc: 0.9867\n",
      "Epoch 48/200\n",
      "348/348 [==============================] - 0s 96us/step - loss: 0.1441 - acc: 0.9971 - val_loss: 0.1492 - val_acc: 0.9867\n",
      "Epoch 49/200\n",
      "348/348 [==============================] - 0s 94us/step - loss: 0.1396 - acc: 0.9971 - val_loss: 0.1450 - val_acc: 0.9867\n",
      "Epoch 50/200\n",
      "348/348 [==============================] - 0s 103us/step - loss: 0.1353 - acc: 0.9971 - val_loss: 0.1411 - val_acc: 0.9867\n",
      "Epoch 51/200\n",
      "348/348 [==============================] - 0s 104us/step - loss: 0.1311 - acc: 0.9971 - val_loss: 0.1371 - val_acc: 0.9867\n",
      "Epoch 52/200\n",
      "348/348 [==============================] - 0s 97us/step - loss: 0.1273 - acc: 0.9971 - val_loss: 0.1335 - val_acc: 0.9867\n",
      "Epoch 53/200\n",
      "348/348 [==============================] - 0s 96us/step - loss: 0.1238 - acc: 0.9971 - val_loss: 0.1303 - val_acc: 0.9867\n",
      "Epoch 54/200\n",
      "348/348 [==============================] - 0s 94us/step - loss: 0.1201 - acc: 0.9971 - val_loss: 0.1269 - val_acc: 0.9867\n",
      "Epoch 55/200\n",
      "348/348 [==============================] - 0s 95us/step - loss: 0.1167 - acc: 0.9971 - val_loss: 0.1236 - val_acc: 0.9867\n",
      "Epoch 56/200\n",
      "348/348 [==============================] - 0s 94us/step - loss: 0.1135 - acc: 0.9971 - val_loss: 0.1207 - val_acc: 0.9867\n",
      "Epoch 57/200\n",
      "348/348 [==============================] - 0s 95us/step - loss: 0.1106 - acc: 0.9971 - val_loss: 0.1181 - val_acc: 0.9867\n",
      "Epoch 58/200\n",
      "348/348 [==============================] - 0s 96us/step - loss: 0.1078 - acc: 0.9971 - val_loss: 0.1152 - val_acc: 0.9867\n",
      "Epoch 59/200\n",
      "348/348 [==============================] - 0s 101us/step - loss: 0.1048 - acc: 0.9971 - val_loss: 0.1127 - val_acc: 0.9867\n",
      "Epoch 60/200\n",
      "348/348 [==============================] - 0s 105us/step - loss: 0.1025 - acc: 0.9971 - val_loss: 0.1106 - val_acc: 0.9867\n",
      "Epoch 61/200\n",
      "348/348 [==============================] - 0s 108us/step - loss: 0.0995 - acc: 0.9971 - val_loss: 0.1077 - val_acc: 0.9867\n",
      "Epoch 62/200\n",
      "348/348 [==============================] - 0s 98us/step - loss: 0.0971 - acc: 0.9971 - val_loss: 0.1054 - val_acc: 0.9867\n",
      "Epoch 63/200\n",
      "348/348 [==============================] - 0s 95us/step - loss: 0.0948 - acc: 0.9971 - val_loss: 0.1031 - val_acc: 0.9867\n",
      "Epoch 64/200\n",
      "348/348 [==============================] - 0s 92us/step - loss: 0.0924 - acc: 0.9971 - val_loss: 0.1012 - val_acc: 0.9867\n",
      "Epoch 65/200\n",
      "348/348 [==============================] - 0s 96us/step - loss: 0.0904 - acc: 0.9971 - val_loss: 0.0994 - val_acc: 0.9867\n",
      "Restoring model weights from the end of the best epoch\n",
      "Epoch 00065: early stopping\n"
     ]
    },
    {
     "data": {
      "text/plain": [
       "<keras.callbacks.callbacks.History at 0x2b79d223b48>"
      ]
     },
     "execution_count": 34,
     "metadata": {},
     "output_type": "execute_result"
    }
   ],
   "source": [
    "es = EarlyStopping(monitor='val_acc', patience=20, restore_best_weights=True, verbose=1)\n",
    "stack = stack_net()\n",
    "stack.fit(meta_train, train_y,\n",
    "          epochs=200,\n",
    "          validation_split = 0.3,\n",
    "          callbacks = [es]\n",
    "         )"
   ]
  },
  {
   "cell_type": "code",
   "execution_count": 35,
   "metadata": {},
   "outputs": [
    {
     "name": "stdout",
     "output_type": "stream",
     "text": [
      "214/214 [==============================] - 0s 51us/step\n"
     ]
    },
    {
     "data": {
      "text/plain": [
       "[0.5577698377805336, 0.7429906725883484]"
      ]
     },
     "execution_count": 35,
     "metadata": {},
     "output_type": "execute_result"
    }
   ],
   "source": [
    "stack.evaluate(meta_test, test_y)"
   ]
  },
  {
   "cell_type": "code",
   "execution_count": 36,
   "metadata": {},
   "outputs": [
    {
     "name": "stdout",
     "output_type": "stream",
     "text": [
      "lr: 0.7710280373831776\n",
      "knn: 0.7523364485981309\n",
      "rf: 0.7663551401869159\n",
      "xgboost: 0.780373831775701\n",
      "voting: 0.7897196261682243\n",
      "214/214 [==============================] - 0s 79us/step\n",
      "nn: 0.7429906725883484\n",
      "214/214 [==============================] - 0s 74us/step\n",
      "stacking: 0.7429906725883484\n"
     ]
    }
   ],
   "source": [
    "print('lr:', accuracy_score(test_y, lr.predict(test_X)))\n",
    "print('knn:', accuracy_score(test_y, knn.predict(test_X)))\n",
    "print('rf:', accuracy_score(test_y, rf.predict(test_X)))\n",
    "print('xgboost:', accuracy_score(test_y, clf.predict(test_X)))\n",
    "print('voting:', accuracy_score(test_y, vclf.predict(test_X)))\n",
    "print('nn:', model.evaluate(test_X, test_y)[1])\n",
    "print('stacking:', stack.evaluate(meta_test, test_y)[1])"
   ]
  },
  {
   "cell_type": "code",
   "execution_count": null,
   "metadata": {},
   "outputs": [],
   "source": []
  }
 ],
 "metadata": {
  "kernelspec": {
   "display_name": "Python 3",
   "language": "python",
   "name": "python3"
  },
  "language_info": {
   "codemirror_mode": {
    "name": "ipython",
    "version": 3
   },
   "file_extension": ".py",
   "mimetype": "text/x-python",
   "name": "python",
   "nbconvert_exporter": "python",
   "pygments_lexer": "ipython3",
   "version": "3.7.4"
  },
  "toc": {
   "base_numbering": 1,
   "nav_menu": {},
   "number_sections": true,
   "sideBar": true,
   "skip_h1_title": false,
   "title_cell": "Table of Contents",
   "title_sidebar": "Contents",
   "toc_cell": false,
   "toc_position": {},
   "toc_section_display": true,
   "toc_window_display": false
  }
 },
 "nbformat": 4,
 "nbformat_minor": 2
}
