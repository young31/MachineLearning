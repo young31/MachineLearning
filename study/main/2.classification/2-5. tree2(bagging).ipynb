{
 "cells": [
  {
   "cell_type": "markdown",
   "metadata": {},
   "source": [
    "# Ensemble\n",
    "\n",
    "- 여러 모형을 결합하여 성능을 더 높이는 기술\n",
    "- voting, bagging, boosting 등의 방법이 있음\n",
    "\n",
    "# Voting \n",
    "\n",
    "- 여러 가지 분류기를 사용하여 성능을 향상시키는 것\n",
    "    - ex) knn + svm + tree\n",
    "    \n",
    "## 형태\n",
    "### hard voting\n",
    "- 다수결의 원칙\n",
    "    - 즉 다양한 분류기가 가장 많이 선정한 class를 선택  \n",
    "    \n",
    "### soft voting\n",
    "- 확률적 다수결\n",
    "    - 즉 다양한 분류기가 각 class에 해당할 확률을 계산하고 이를 평균하여 선택\n",
    "      \n",
    "        \n",
    "- 일반적으로 soft가 많이 사용된다고 함\n",
    "\n",
    "# Bagging\n",
    "\n",
    "- 같은 알고리즘으로 여러개의 분류기를 만들어 최종 voting함\n",
    "- 대표적으로 RF(random forest) 알고리즘이 있음(단순 bagging과 엄밀히 따지면 다른 점이 있지만 넘어가도록 하자)\n",
    "- 자료를 분할할 때 m개의 임의 자료를 사용하여 적합함\n",
    "    - 일반적으로 m = sqrt(p)\n",
    "    - 자료를 임의의 m개를 사용하는 것은 clf간 correlated를 막기 위함\n",
    "\n",
    "- parameters: tree기반이므로 유사한 특징들은 상속함\n",
    "    - n_estimators: 결정 트리 갯수(default=10)\n",
    "    - max_features: tree와 같음(default=sqrt)\n",
    "    - max_depth: tree와 같음\n",
    "    - min_samples_leaf: tree와 같음\n",
    "    "
   ]
  },
  {
   "cell_type": "code",
   "execution_count": 1,
   "metadata": {},
   "outputs": [],
   "source": [
    "import numpy as np\n",
    "import pandas as pd\n",
    "from sklearn.model_selection import train_test_split\n",
    "from sklearn.metrics import accuracy_score\n",
    "import warnings\n",
    "warnings.filterwarnings(action='ignore')\n",
    "\n",
    "data = pd.read_csv('../1.clustering/titanic.csv')\n",
    "\n",
    "target = data['Survived']\n",
    "data = data.drop(['PassengerId', 'Survived'], axis=1)\n",
    "\n",
    "def sex(a):\n",
    "    if a == 'male':\n",
    "        return 0\n",
    "    else:\n",
    "        return 1\n",
    "    \n",
    "def emb(a):\n",
    "    if a == 'S':\n",
    "        return 0\n",
    "    elif a == 'Q':\n",
    "        return 1\n",
    "    else:\n",
    "        return 2\n",
    "    \n",
    "data['Sex'] = data['Sex'].map(sex)\n",
    "data['Embarked'] = data['Embarked'].map(emb)\n",
    "\n",
    "train_X, test_X, train_y, test_y = train_test_split(data, target, test_size=0.3, random_state=2019, shuffle=True)"
   ]
  },
  {
   "cell_type": "code",
   "execution_count": 2,
   "metadata": {},
   "outputs": [],
   "source": [
    "from sklearn.linear_model import LogisticRegression\n",
    "from sklearn.tree import DecisionTreeClassifier\n",
    "from sklearn.neighbors import KNeighborsClassifier\n",
    "\n",
    "lr = LogisticRegression()\n",
    "dclf = DecisionTreeClassifier()\n",
    "knn = KNeighborsClassifier(n_neighbors=3)"
   ]
  },
  {
   "cell_type": "code",
   "execution_count": 3,
   "metadata": {},
   "outputs": [],
   "source": [
    "from sklearn.ensemble import VotingClassifier\n",
    "\n",
    "vclf = VotingClassifier(estimators=[\n",
    "    ('lr', lr),\n",
    "    ('knn', knn),\n",
    "    ('tree', dclf)\n",
    "], voting='soft').fit(train_X, train_y)"
   ]
  },
  {
   "cell_type": "code",
   "execution_count": 4,
   "metadata": {},
   "outputs": [
    {
     "name": "stdout",
     "output_type": "stream",
     "text": [
      "0.7616822429906542\n"
     ]
    }
   ],
   "source": [
    "pred_y = vclf.predict(test_X)\n",
    "print(accuracy_score(test_y, pred_y))"
   ]
  },
  {
   "cell_type": "code",
   "execution_count": 5,
   "metadata": {},
   "outputs": [
    {
     "name": "stdout",
     "output_type": "stream",
     "text": [
      "0.7850467289719626\n"
     ]
    }
   ],
   "source": [
    "from sklearn.ensemble import VotingClassifier\n",
    "\n",
    "vclf = VotingClassifier(estimators=[\n",
    "    ('lr', lr),\n",
    "    ('knn', knn),\n",
    "    ('tree', dclf)\n",
    "], voting='hard').fit(train_X, train_y)\n",
    "pred_y = vclf.predict(test_X)\n",
    "print(accuracy_score(test_y, pred_y))"
   ]
  },
  {
   "cell_type": "code",
   "execution_count": 6,
   "metadata": {},
   "outputs": [
    {
     "name": "stdout",
     "output_type": "stream",
     "text": [
      "lr:  0.7990654205607477\n",
      "knn:  0.6915887850467289\n",
      "tree:  0.6962616822429907\n"
     ]
    }
   ],
   "source": [
    "## 개별 모형이 절대적으로 낮은 수준을 보여주는 것은 아님\n",
    "## 개인적인의견으로 정확도와는 별개로 모형이 더 robust해지는 듯한 느낌은 받았음\n",
    "print('lr: ', accuracy_score(test_y, lr.fit(train_X, train_y).predict(test_X)))\n",
    "print('knn: ', accuracy_score(test_y, knn.fit(train_X, train_y).predict(test_X)))\n",
    "print('tree: ', accuracy_score(test_y, dclf.fit(train_X, train_y).predict(test_X)))"
   ]
  },
  {
   "cell_type": "code",
   "execution_count": 7,
   "metadata": {},
   "outputs": [],
   "source": [
    "############ Bagging ##################"
   ]
  },
  {
   "cell_type": "code",
   "execution_count": 8,
   "metadata": {},
   "outputs": [
    {
     "name": "stdout",
     "output_type": "stream",
     "text": [
      "0.7897196261682243\n"
     ]
    }
   ],
   "source": [
    "from sklearn.ensemble import RandomForestClassifier\n",
    "\n",
    "rclf = RandomForestClassifier(random_state=2019, max_depth=9).fit(train_X, train_y)\n",
    "\n",
    "print(accuracy_score(test_y, rclf.predict(test_X)))"
   ]
  },
  {
   "cell_type": "code",
   "execution_count": 9,
   "metadata": {},
   "outputs": [
    {
     "data": {
      "text/plain": [
       "<matplotlib.axes._subplots.AxesSubplot at 0x1326215d788>"
      ]
     },
     "execution_count": 9,
     "metadata": {},
     "output_type": "execute_result"
    },
    {
     "data": {
      "image/png": "[encoded data removed]",
      "text/plain": [
       "<Figure size 432x288 with 1 Axes>"
      ]
     },
     "metadata": {
      "needs_background": "light"
     },
     "output_type": "display_data"
    }
   ],
   "source": [
    "import seaborn as sns\n",
    "\n",
    "sns.barplot(x=train_X.columns, y=rclf.feature_importances_)"
   ]
  },
  {
   "cell_type": "code",
   "execution_count": 10,
   "metadata": {},
   "outputs": [],
   "source": [
    "#### voting을 다시 포함 시키는 것도 가능"
   ]
  },
  {
   "cell_type": "code",
   "execution_count": 11,
   "metadata": {},
   "outputs": [
    {
     "name": "stdout",
     "output_type": "stream",
     "text": [
      "0.7990654205607477\n"
     ]
    }
   ],
   "source": [
    "from sklearn.ensemble import VotingClassifier\n",
    "\n",
    "vclf = VotingClassifier(estimators=[\n",
    "    ('lr', lr),\n",
    "    ('knn', knn),\n",
    "    ('tree', dclf),\n",
    "    ('rf', rclf)\n",
    "], voting='hard').fit(train_X, train_y)\n",
    "pred_y = vclf.predict(test_X)\n",
    "print(accuracy_score(test_y, pred_y))"
   ]
  }
 ],
 "metadata": {
  "kernelspec": {
   "display_name": "Python 3",
   "language": "python",
   "name": "python3"
  },
  "language_info": {
   "codemirror_mode": {
    "name": "ipython",
    "version": 3
   },
   "file_extension": ".py",
   "mimetype": "text/x-python",
   "name": "python",
   "nbconvert_exporter": "python",
   "pygments_lexer": "ipython3",
   "version": "3.7.4"
  },
  "toc": {
   "base_numbering": 1,
   "nav_menu": {},
   "number_sections": true,
   "sideBar": true,
   "skip_h1_title": false,
   "title_cell": "Table of Contents",
   "title_sidebar": "Contents",
   "toc_cell": false,
   "toc_position": {},
   "toc_section_display": true,
   "toc_window_display": false
  }
 },
 "nbformat": 4,
 "nbformat_minor": 2
}
