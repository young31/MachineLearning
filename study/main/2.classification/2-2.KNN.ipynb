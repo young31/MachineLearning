{
 "cells": [
  {
   "cell_type": "markdown",
   "metadata": {},
   "source": [
    "# KNN\n",
    "\n",
    "- 다룰 모형들 중 가장 직관적인 모형이라고 생각\n",
    "- 사용할 변수는 단 한가지\n",
    "- lazy model이라고도 함(새로운 데이터가 들어오고 나서 계산 시작)\n",
    "  \n",
    "    \n",
    "- 새로운 데이터에 대해서 가까운 점부터 k개를 확인하여 가장 많이 발견 되는 쪽으로 분류"
   ]
  },
  {
   "cell_type": "code",
   "execution_count": 1,
   "metadata": {},
   "outputs": [],
   "source": [
    "import numpy as np\n",
    "import pandas as pd\n",
    "from sklearn.model_selection import train_test_split\n",
    "from sklearn.metrics import accuracy_score\n",
    "\n",
    "data = pd.read_csv('../1.clustering/titanic.csv')\n",
    "\n",
    "target = data['Survived']\n",
    "data = data.drop(['PassengerId', 'Survived'], axis=1)\n",
    "\n",
    "def sex(a):\n",
    "    if a == 'male':\n",
    "        return 0\n",
    "    else:\n",
    "        return 1\n",
    "    \n",
    "def emb(a):\n",
    "    if a == 'S':\n",
    "        return 0\n",
    "    elif a == 'Q':\n",
    "        return 1\n",
    "    else:\n",
    "        return 2\n",
    "    \n",
    "data['Sex'] = data['Sex'].map(sex)\n",
    "data['Embarked'] = data['Embarked'].map(emb)\n",
    "\n",
    "train_X, test_X, train_y, test_y = train_test_split(data, target, test_size=0.3, random_state=2019, shuffle=True)"
   ]
  },
  {
   "cell_type": "code",
   "execution_count": 2,
   "metadata": {
    "scrolled": true
   },
   "outputs": [
    {
     "name": "stdout",
     "output_type": "stream",
     "text": [
      "0.682\n"
     ]
    }
   ],
   "source": [
    "from sklearn.neighbors import KNeighborsClassifier\n",
    "\n",
    "knn = KNeighborsClassifier(n_neighbors = 20).fit(train_X, train_y)\n",
    "\n",
    "print(round(accuracy_score(test_y, knn.predict(test_X)) ,3))"
   ]
  },
  {
   "cell_type": "code",
   "execution_count": 3,
   "metadata": {
    "scrolled": true
   },
   "outputs": [
    {
     "name": "stdout",
     "output_type": "stream",
     "text": [
      "2 : 0.6824\n",
      "3 : 0.7119\n",
      "4 : 0.6894\n",
      "5 : 0.6838\n",
      "6 : 0.6923\n",
      "7 : 0.6938000000000001\n",
      "8 : 0.6826\n",
      "9 : 0.684\n",
      "10 : 0.6881999999999999\n",
      "11 : 0.6729\n",
      "12 : 0.6811\n",
      "13 : 0.6881999999999999\n",
      "14 : 0.6952\n",
      "15 : 0.6923999999999999\n",
      "16 : 0.7022\n",
      "17 : 0.6979\n",
      "18 : 0.6937\n",
      "19 : 0.7062999999999999\n",
      "20 : 0.7021\n",
      "21 : 0.7147\n",
      "22 : 0.7091000000000001\n",
      "23 : 0.7077\n",
      "24 : 0.7076999999999999\n",
      "25 : 0.702\n",
      "26 : 0.7020000000000001\n",
      "27 : 0.6921999999999999\n",
      "28 : 0.7076\n",
      "29 : 0.7048999999999999\n",
      "30 : 0.7077\n"
     ]
    }
   ],
   "source": [
    "## sklearn으로 k-fold cv하기\n",
    "\n",
    "from sklearn.model_selection import KFold\n",
    "\n",
    "for n in range(2, 31):\n",
    "    scores = []\n",
    "    kf = KFold(10, shuffle=True, random_state=2019)\n",
    "    for train_idx, test_idx in kf.split(data):\n",
    "        knn = KNeighborsClassifier(n_neighbors = n).fit(data.iloc[train_idx,:], target.iloc[train_idx])\n",
    "        predict = knn.predict(data.iloc[test_idx,:])\n",
    "        scores.append(round(accuracy_score(target[test_idx], predict), 3))\n",
    "\n",
    "    print(n,':', np.mean(scores))"
   ]
  },
  {
   "cell_type": "code",
   "execution_count": null,
   "metadata": {},
   "outputs": [],
   "source": []
  },
  {
   "cell_type": "code",
   "execution_count": null,
   "metadata": {},
   "outputs": [],
   "source": []
  }
 ],
 "metadata": {
  "kernelspec": {
   "display_name": "Python 3",
   "language": "python",
   "name": "python3"
  },
  "language_info": {
   "codemirror_mode": {
    "name": "ipython",
    "version": 3
   },
   "file_extension": ".py",
   "mimetype": "text/x-python",
   "name": "python",
   "nbconvert_exporter": "python",
   "pygments_lexer": "ipython3",
   "version": "3.7.4"
  },
  "toc": {
   "base_numbering": 1,
   "nav_menu": {},
   "number_sections": true,
   "sideBar": true,
   "skip_h1_title": false,
   "title_cell": "Table of Contents",
   "title_sidebar": "Contents",
   "toc_cell": false,
   "toc_position": {},
   "toc_section_display": true,
   "toc_window_display": false
  }
 },
 "nbformat": 4,
 "nbformat_minor": 2
}
