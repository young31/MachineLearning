{
 "cells": [
  {
   "cell_type": "code",
   "execution_count": 1,
   "metadata": {},
   "outputs": [],
   "source": [
    "import numpy as np\n",
    "import pandas as pd\n",
    "\n",
    "import datawig\n",
    "\n",
    "import os\n",
    "import time\n",
    "import gc\n"
   ]
  },
  {
   "cell_type": "code",
   "execution_count": null,
   "metadata": {},
   "outputs": [],
   "source": [
    "# train_X = pd.read_csv('./data/train.csv')\n",
    "# train_y = train_X['SalePrice']\n",
    "# train_X = train_X.drop(['SalePrice', 'Id'], axis=1)\n",
    "# test_X = pd.read_csv('./data/test.csv')"
   ]
  },
  {
   "cell_type": "code",
   "execution_count": 17,
   "metadata": {},
   "outputs": [],
   "source": [
    "train_X = pd.read_csv('./data/train.csv')\n",
    "train_y = train_X['SalePrice']\n",
    "train_X = pd.read_csv('./imputed_train.csv')\n",
    "test_X = pd.read_csv('./imputed_test.csv')\n",
    "test_X = test_X.drop('Id', axis=1)"
   ]
  },
  {
   "cell_type": "code",
   "execution_count": 18,
   "metadata": {
    "scrolled": true
   },
   "outputs": [],
   "source": [
    "cols = train_X.columns\n",
    "cat = []\n",
    "num = []\n",
    "ctd = []\n",
    "imps = []\n",
    "for c in cols:\n",
    "    if train_X[c].dtype == 'object' or test_X[c].dtype == 'object':\n",
    "        cat.append(c)\n",
    "    else:\n",
    "        num.append(c)\n",
    "        \n",
    "    if np.sum(train_X[c].isna())/len(train_X) > 0.9 or np.sum(test_X[c].isna())/len(test_X)>0.9:\n",
    "        ctd.append(c)\n",
    "        \n",
    "    if (np.sum(test_X[c].isna())>0 or np.sum(train_X[c].isna())>0) and c not in ctd:\n",
    "        imps.append(c)"
   ]
  },
  {
   "cell_type": "code",
   "execution_count": 19,
   "metadata": {},
   "outputs": [],
   "source": [
    "train_X = train_X.drop(ctd, axis=1)\n",
    "test_X = test_X.drop(ctd, axis=1)\n"
   ]
  },
  {
   "cell_type": "code",
   "execution_count": 42,
   "metadata": {},
   "outputs": [
    {
     "name": "stdout",
     "output_type": "stream",
     "text": [
      "(1460, 76) (1459, 76)\n"
     ]
    }
   ],
   "source": [
    "print(train_X.shape, test_X.shape)"
   ]
  },
  {
   "cell_type": "code",
   "execution_count": 5,
   "metadata": {
    "scrolled": true
   },
   "outputs": [],
   "source": [
    "for c in imps:\n",
    "    imputer = datawig.SimpleImputer(\n",
    "    input_columns=train_X.columns, # column(s) containing information about the column we want to impute\n",
    "    output_column=c, # the column we'd like to impute values for\n",
    "    output_path = 'imputer_model' # stores model data and metrics\n",
    "    )\n",
    "\n",
    "    #Fit an imputer model on the train data\n",
    "    imputer.fit(train_df=train_X)\n",
    "\n",
    "    #Impute missing values and return original dataframe with predictions\n",
    "    imputed = imputer.predict(train_X)\n",
    "    \n",
    "    new_c = c+'_imputed'\n",
    "    train_X[c] = imputed[new_c]\n",
    "    \n",
    "    "
   ]
  },
  {
   "cell_type": "code",
   "execution_count": 43,
   "metadata": {},
   "outputs": [],
   "source": [
    "X = train_X.copy()\n",
    "X2 = test_X.copy()"
   ]
  },
  {
   "cell_type": "code",
   "execution_count": 27,
   "metadata": {},
   "outputs": [],
   "source": [
    "for c in train_X.columns:\n",
    "    k = np.sum(train_X[c].isna())\n",
    "    if c in cat and k>0:\n",
    "        print('cat', c)\n",
    "    elif c in num and k>0:\n",
    "        print('num', c)"
   ]
  },
  {
   "cell_type": "code",
   "execution_count": 44,
   "metadata": {},
   "outputs": [],
   "source": [
    "for c in cat:\n",
    "    temp = pd.get_dummies(X2[c], prefix=c)\n",
    "    X2 = pd.concat([X2, temp], axis=1)\n",
    "    X2 = X2.drop(c, axis=1)\n",
    "    \n",
    "for n in num:\n",
    "    X2[n] = (X2[n] - np.mean(X2[n]))/np.std(X2[n])"
   ]
  },
  {
   "cell_type": "code",
   "execution_count": 30,
   "metadata": {},
   "outputs": [],
   "source": []
  },
  {
   "cell_type": "code",
   "execution_count": 45,
   "metadata": {},
   "outputs": [],
   "source": [
    "for c in cat:\n",
    "    temp = pd.get_dummies(X[c], prefix=c)\n",
    "    X = pd.concat([X, temp], axis=1)\n",
    "    X = X.drop(c, axis=1)\n",
    "    \n",
    "for n in num:\n",
    "    X[n] = (X[n] - np.mean(X[n]))/np.std(X[n])"
   ]
  },
  {
   "cell_type": "code",
   "execution_count": 46,
   "metadata": {},
   "outputs": [
    {
     "name": "stdout",
     "output_type": "stream",
     "text": [
      "(1460, 274) (1459, 256)\n"
     ]
    }
   ],
   "source": [
    "print(X.shape, X2.shape)"
   ]
  },
  {
   "cell_type": "code",
   "execution_count": 47,
   "metadata": {},
   "outputs": [],
   "source": [
    "for c in X.columns:\n",
    "    if c not in X2.columns:\n",
    "        X2[c] = np.ones(len(X2))"
   ]
  },
  {
   "cell_type": "code",
   "execution_count": 48,
   "metadata": {},
   "outputs": [
    {
     "name": "stdout",
     "output_type": "stream",
     "text": [
      "Functional_Maj2\n"
     ]
    }
   ],
   "source": [
    "for c in X2.columns:\n",
    "    if c not in X.columns:\n",
    "        X[c] = np.ones(len(X))\n",
    "        print(c)"
   ]
  },
  {
   "cell_type": "code",
   "execution_count": 49,
   "metadata": {},
   "outputs": [
    {
     "name": "stdout",
     "output_type": "stream",
     "text": [
      "(1460, 275) (1459, 275)\n"
     ]
    }
   ],
   "source": [
    "print(X.shape, X2.shape)"
   ]
  },
  {
   "cell_type": "code",
   "execution_count": 50,
   "metadata": {},
   "outputs": [],
   "source": [
    "X.to_csv('./train_X.csv', index=False)\n",
    "X2.to_csv('./test_X.csv', index=False)"
   ]
  },
  {
   "cell_type": "code",
   "execution_count": 56,
   "metadata": {},
   "outputs": [],
   "source": [
    "train_y.to_csv('./train_y.csv', index=False, header=True)"
   ]
  },
  {
   "cell_type": "code",
   "execution_count": null,
   "metadata": {},
   "outputs": [],
   "source": []
  }
 ],
 "metadata": {
  "kernelspec": {
   "display_name": "Python 3",
   "language": "python",
   "name": "python3"
  },
  "language_info": {
   "codemirror_mode": {
    "name": "ipython",
    "version": 3
   },
   "file_extension": ".py",
   "mimetype": "text/x-python",
   "name": "python",
   "nbconvert_exporter": "python",
   "pygments_lexer": "ipython3",
   "version": "3.7.4"
  },
  "toc": {
   "base_numbering": 1,
   "nav_menu": {},
   "number_sections": true,
   "sideBar": true,
   "skip_h1_title": false,
   "title_cell": "Table of Contents",
   "title_sidebar": "Contents",
   "toc_cell": false,
   "toc_position": {},
   "toc_section_display": true,
   "toc_window_display": false
  }
 },
 "nbformat": 4,
 "nbformat_minor": 2
}
