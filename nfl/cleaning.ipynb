{
 "cells": [
  {
   "cell_type": "code",
   "execution_count": 2,
   "metadata": {},
   "outputs": [],
   "source": [
    "import pandas as pd\n",
    "import numpy as np\n",
    "import matplotlib.pyplot as plt\n",
    "import seaborn as sns"
   ]
  },
  {
   "cell_type": "code",
   "execution_count": 3,
   "metadata": {},
   "outputs": [],
   "source": [
    "train = pd.read_csv('train.csv',dtype={'WindSpeed': 'object'})"
   ]
  },
  {
   "cell_type": "code",
   "execution_count": 8,
   "metadata": {
    "scrolled": true
   },
   "outputs": [
    {
     "data": {
      "text/html": [
       "<div>\n",
       "<style scoped>\n",
       "    .dataframe tbody tr th:only-of-type {\n",
       "        vertical-align: middle;\n",
       "    }\n",
       "\n",
       "    .dataframe tbody tr th {\n",
       "        vertical-align: top;\n",
       "    }\n",
       "\n",
       "    .dataframe thead th {\n",
       "        text-align: right;\n",
       "    }\n",
       "</style>\n",
       "<table border=\"1\" class=\"dataframe\">\n",
       "  <thead>\n",
       "    <tr style=\"text-align: right;\">\n",
       "      <th></th>\n",
       "      <th>GameId</th>\n",
       "      <th>PlayId</th>\n",
       "      <th>Team</th>\n",
       "      <th>X</th>\n",
       "      <th>Y</th>\n",
       "      <th>S</th>\n",
       "      <th>A</th>\n",
       "      <th>Dis</th>\n",
       "      <th>Orientation</th>\n",
       "      <th>Dir</th>\n",
       "      <th>...</th>\n",
       "      <th>Week</th>\n",
       "      <th>Stadium</th>\n",
       "      <th>Location</th>\n",
       "      <th>StadiumType</th>\n",
       "      <th>Turf</th>\n",
       "      <th>GameWeather</th>\n",
       "      <th>Temperature</th>\n",
       "      <th>Humidity</th>\n",
       "      <th>WindSpeed</th>\n",
       "      <th>WindDirection</th>\n",
       "    </tr>\n",
       "  </thead>\n",
       "  <tbody>\n",
       "    <tr>\n",
       "      <td>0</td>\n",
       "      <td>2017090700</td>\n",
       "      <td>20170907000118</td>\n",
       "      <td>away</td>\n",
       "      <td>73.91</td>\n",
       "      <td>34.84</td>\n",
       "      <td>1.69</td>\n",
       "      <td>1.13</td>\n",
       "      <td>0.40</td>\n",
       "      <td>81.99</td>\n",
       "      <td>177.18</td>\n",
       "      <td>...</td>\n",
       "      <td>1</td>\n",
       "      <td>Gillette Stadium</td>\n",
       "      <td>Foxborough, MA</td>\n",
       "      <td>Outdoor</td>\n",
       "      <td>Field Turf</td>\n",
       "      <td>Clear and warm</td>\n",
       "      <td>63.0</td>\n",
       "      <td>77.0</td>\n",
       "      <td>8</td>\n",
       "      <td>SW</td>\n",
       "    </tr>\n",
       "    <tr>\n",
       "      <td>1</td>\n",
       "      <td>2017090700</td>\n",
       "      <td>20170907000118</td>\n",
       "      <td>away</td>\n",
       "      <td>74.67</td>\n",
       "      <td>32.64</td>\n",
       "      <td>0.42</td>\n",
       "      <td>1.35</td>\n",
       "      <td>0.01</td>\n",
       "      <td>27.61</td>\n",
       "      <td>198.70</td>\n",
       "      <td>...</td>\n",
       "      <td>1</td>\n",
       "      <td>Gillette Stadium</td>\n",
       "      <td>Foxborough, MA</td>\n",
       "      <td>Outdoor</td>\n",
       "      <td>Field Turf</td>\n",
       "      <td>Clear and warm</td>\n",
       "      <td>63.0</td>\n",
       "      <td>77.0</td>\n",
       "      <td>8</td>\n",
       "      <td>SW</td>\n",
       "    </tr>\n",
       "    <tr>\n",
       "      <td>2</td>\n",
       "      <td>2017090700</td>\n",
       "      <td>20170907000118</td>\n",
       "      <td>away</td>\n",
       "      <td>74.00</td>\n",
       "      <td>33.20</td>\n",
       "      <td>1.22</td>\n",
       "      <td>0.59</td>\n",
       "      <td>0.31</td>\n",
       "      <td>3.01</td>\n",
       "      <td>202.73</td>\n",
       "      <td>...</td>\n",
       "      <td>1</td>\n",
       "      <td>Gillette Stadium</td>\n",
       "      <td>Foxborough, MA</td>\n",
       "      <td>Outdoor</td>\n",
       "      <td>Field Turf</td>\n",
       "      <td>Clear and warm</td>\n",
       "      <td>63.0</td>\n",
       "      <td>77.0</td>\n",
       "      <td>8</td>\n",
       "      <td>SW</td>\n",
       "    </tr>\n",
       "    <tr>\n",
       "      <td>3</td>\n",
       "      <td>2017090700</td>\n",
       "      <td>20170907000118</td>\n",
       "      <td>away</td>\n",
       "      <td>71.46</td>\n",
       "      <td>27.70</td>\n",
       "      <td>0.42</td>\n",
       "      <td>0.54</td>\n",
       "      <td>0.02</td>\n",
       "      <td>359.77</td>\n",
       "      <td>105.64</td>\n",
       "      <td>...</td>\n",
       "      <td>1</td>\n",
       "      <td>Gillette Stadium</td>\n",
       "      <td>Foxborough, MA</td>\n",
       "      <td>Outdoor</td>\n",
       "      <td>Field Turf</td>\n",
       "      <td>Clear and warm</td>\n",
       "      <td>63.0</td>\n",
       "      <td>77.0</td>\n",
       "      <td>8</td>\n",
       "      <td>SW</td>\n",
       "    </tr>\n",
       "    <tr>\n",
       "      <td>4</td>\n",
       "      <td>2017090700</td>\n",
       "      <td>20170907000118</td>\n",
       "      <td>away</td>\n",
       "      <td>69.32</td>\n",
       "      <td>35.42</td>\n",
       "      <td>1.82</td>\n",
       "      <td>2.43</td>\n",
       "      <td>0.16</td>\n",
       "      <td>12.63</td>\n",
       "      <td>164.31</td>\n",
       "      <td>...</td>\n",
       "      <td>1</td>\n",
       "      <td>Gillette Stadium</td>\n",
       "      <td>Foxborough, MA</td>\n",
       "      <td>Outdoor</td>\n",
       "      <td>Field Turf</td>\n",
       "      <td>Clear and warm</td>\n",
       "      <td>63.0</td>\n",
       "      <td>77.0</td>\n",
       "      <td>8</td>\n",
       "      <td>SW</td>\n",
       "    </tr>\n",
       "    <tr>\n",
       "      <td>5</td>\n",
       "      <td>2017090700</td>\n",
       "      <td>20170907000118</td>\n",
       "      <td>away</td>\n",
       "      <td>75.06</td>\n",
       "      <td>24.00</td>\n",
       "      <td>1.01</td>\n",
       "      <td>0.32</td>\n",
       "      <td>0.18</td>\n",
       "      <td>308.34</td>\n",
       "      <td>95.01</td>\n",
       "      <td>...</td>\n",
       "      <td>1</td>\n",
       "      <td>Gillette Stadium</td>\n",
       "      <td>Foxborough, MA</td>\n",
       "      <td>Outdoor</td>\n",
       "      <td>Field Turf</td>\n",
       "      <td>Clear and warm</td>\n",
       "      <td>63.0</td>\n",
       "      <td>77.0</td>\n",
       "      <td>8</td>\n",
       "      <td>SW</td>\n",
       "    </tr>\n",
       "    <tr>\n",
       "      <td>6</td>\n",
       "      <td>2017090700</td>\n",
       "      <td>20170907000118</td>\n",
       "      <td>away</td>\n",
       "      <td>74.11</td>\n",
       "      <td>16.64</td>\n",
       "      <td>1.11</td>\n",
       "      <td>0.83</td>\n",
       "      <td>0.02</td>\n",
       "      <td>357.23</td>\n",
       "      <td>322.59</td>\n",
       "      <td>...</td>\n",
       "      <td>1</td>\n",
       "      <td>Gillette Stadium</td>\n",
       "      <td>Foxborough, MA</td>\n",
       "      <td>Outdoor</td>\n",
       "      <td>Field Turf</td>\n",
       "      <td>Clear and warm</td>\n",
       "      <td>63.0</td>\n",
       "      <td>77.0</td>\n",
       "      <td>8</td>\n",
       "      <td>SW</td>\n",
       "    </tr>\n",
       "    <tr>\n",
       "      <td>7</td>\n",
       "      <td>2017090700</td>\n",
       "      <td>20170907000118</td>\n",
       "      <td>away</td>\n",
       "      <td>73.37</td>\n",
       "      <td>18.73</td>\n",
       "      <td>1.24</td>\n",
       "      <td>0.74</td>\n",
       "      <td>0.13</td>\n",
       "      <td>328.52</td>\n",
       "      <td>270.04</td>\n",
       "      <td>...</td>\n",
       "      <td>1</td>\n",
       "      <td>Gillette Stadium</td>\n",
       "      <td>Foxborough, MA</td>\n",
       "      <td>Outdoor</td>\n",
       "      <td>Field Turf</td>\n",
       "      <td>Clear and warm</td>\n",
       "      <td>63.0</td>\n",
       "      <td>77.0</td>\n",
       "      <td>8</td>\n",
       "      <td>SW</td>\n",
       "    </tr>\n",
       "    <tr>\n",
       "      <td>8</td>\n",
       "      <td>2017090700</td>\n",
       "      <td>20170907000118</td>\n",
       "      <td>away</td>\n",
       "      <td>56.63</td>\n",
       "      <td>26.90</td>\n",
       "      <td>0.26</td>\n",
       "      <td>1.86</td>\n",
       "      <td>0.28</td>\n",
       "      <td>344.70</td>\n",
       "      <td>55.31</td>\n",
       "      <td>...</td>\n",
       "      <td>1</td>\n",
       "      <td>Gillette Stadium</td>\n",
       "      <td>Foxborough, MA</td>\n",
       "      <td>Outdoor</td>\n",
       "      <td>Field Turf</td>\n",
       "      <td>Clear and warm</td>\n",
       "      <td>63.0</td>\n",
       "      <td>77.0</td>\n",
       "      <td>8</td>\n",
       "      <td>SW</td>\n",
       "    </tr>\n",
       "    <tr>\n",
       "      <td>9</td>\n",
       "      <td>2017090700</td>\n",
       "      <td>20170907000118</td>\n",
       "      <td>away</td>\n",
       "      <td>73.35</td>\n",
       "      <td>38.83</td>\n",
       "      <td>4.55</td>\n",
       "      <td>0.76</td>\n",
       "      <td>0.51</td>\n",
       "      <td>75.47</td>\n",
       "      <td>190.84</td>\n",
       "      <td>...</td>\n",
       "      <td>1</td>\n",
       "      <td>Gillette Stadium</td>\n",
       "      <td>Foxborough, MA</td>\n",
       "      <td>Outdoor</td>\n",
       "      <td>Field Turf</td>\n",
       "      <td>Clear and warm</td>\n",
       "      <td>63.0</td>\n",
       "      <td>77.0</td>\n",
       "      <td>8</td>\n",
       "      <td>SW</td>\n",
       "    </tr>\n",
       "    <tr>\n",
       "      <td>10</td>\n",
       "      <td>2017090700</td>\n",
       "      <td>20170907000118</td>\n",
       "      <td>away</td>\n",
       "      <td>74.15</td>\n",
       "      <td>28.90</td>\n",
       "      <td>0.72</td>\n",
       "      <td>0.73</td>\n",
       "      <td>0.01</td>\n",
       "      <td>342.58</td>\n",
       "      <td>274.14</td>\n",
       "      <td>...</td>\n",
       "      <td>1</td>\n",
       "      <td>Gillette Stadium</td>\n",
       "      <td>Foxborough, MA</td>\n",
       "      <td>Outdoor</td>\n",
       "      <td>Field Turf</td>\n",
       "      <td>Clear and warm</td>\n",
       "      <td>63.0</td>\n",
       "      <td>77.0</td>\n",
       "      <td>8</td>\n",
       "      <td>SW</td>\n",
       "    </tr>\n",
       "    <tr>\n",
       "      <td>11</td>\n",
       "      <td>2017090700</td>\n",
       "      <td>20170907000118</td>\n",
       "      <td>home</td>\n",
       "      <td>75.82</td>\n",
       "      <td>17.56</td>\n",
       "      <td>2.30</td>\n",
       "      <td>1.39</td>\n",
       "      <td>0.55</td>\n",
       "      <td>178.97</td>\n",
       "      <td>284.15</td>\n",
       "      <td>...</td>\n",
       "      <td>1</td>\n",
       "      <td>Gillette Stadium</td>\n",
       "      <td>Foxborough, MA</td>\n",
       "      <td>Outdoor</td>\n",
       "      <td>Field Turf</td>\n",
       "      <td>Clear and warm</td>\n",
       "      <td>63.0</td>\n",
       "      <td>77.0</td>\n",
       "      <td>8</td>\n",
       "      <td>SW</td>\n",
       "    </tr>\n",
       "    <tr>\n",
       "      <td>12</td>\n",
       "      <td>2017090700</td>\n",
       "      <td>20170907000118</td>\n",
       "      <td>home</td>\n",
       "      <td>74.78</td>\n",
       "      <td>33.21</td>\n",
       "      <td>1.71</td>\n",
       "      <td>0.82</td>\n",
       "      <td>0.19</td>\n",
       "      <td>178.82</td>\n",
       "      <td>215.90</td>\n",
       "      <td>...</td>\n",
       "      <td>1</td>\n",
       "      <td>Gillette Stadium</td>\n",
       "      <td>Foxborough, MA</td>\n",
       "      <td>Outdoor</td>\n",
       "      <td>Field Turf</td>\n",
       "      <td>Clear and warm</td>\n",
       "      <td>63.0</td>\n",
       "      <td>77.0</td>\n",
       "      <td>8</td>\n",
       "      <td>SW</td>\n",
       "    </tr>\n",
       "    <tr>\n",
       "      <td>13</td>\n",
       "      <td>2017090700</td>\n",
       "      <td>20170907000118</td>\n",
       "      <td>home</td>\n",
       "      <td>75.43</td>\n",
       "      <td>32.41</td>\n",
       "      <td>1.50</td>\n",
       "      <td>1.36</td>\n",
       "      <td>0.32</td>\n",
       "      <td>207.08</td>\n",
       "      <td>222.76</td>\n",
       "      <td>...</td>\n",
       "      <td>1</td>\n",
       "      <td>Gillette Stadium</td>\n",
       "      <td>Foxborough, MA</td>\n",
       "      <td>Outdoor</td>\n",
       "      <td>Field Turf</td>\n",
       "      <td>Clear and warm</td>\n",
       "      <td>63.0</td>\n",
       "      <td>77.0</td>\n",
       "      <td>8</td>\n",
       "      <td>SW</td>\n",
       "    </tr>\n",
       "    <tr>\n",
       "      <td>14</td>\n",
       "      <td>2017090700</td>\n",
       "      <td>20170907000118</td>\n",
       "      <td>home</td>\n",
       "      <td>75.90</td>\n",
       "      <td>25.12</td>\n",
       "      <td>1.38</td>\n",
       "      <td>0.80</td>\n",
       "      <td>0.19</td>\n",
       "      <td>133.01</td>\n",
       "      <td>198.55</td>\n",
       "      <td>...</td>\n",
       "      <td>1</td>\n",
       "      <td>Gillette Stadium</td>\n",
       "      <td>Foxborough, MA</td>\n",
       "      <td>Outdoor</td>\n",
       "      <td>Field Turf</td>\n",
       "      <td>Clear and warm</td>\n",
       "      <td>63.0</td>\n",
       "      <td>77.0</td>\n",
       "      <td>8</td>\n",
       "      <td>SW</td>\n",
       "    </tr>\n",
       "    <tr>\n",
       "      <td>15</td>\n",
       "      <td>2017090700</td>\n",
       "      <td>20170907000118</td>\n",
       "      <td>home</td>\n",
       "      <td>79.76</td>\n",
       "      <td>29.49</td>\n",
       "      <td>0.84</td>\n",
       "      <td>1.22</td>\n",
       "      <td>0.00</td>\n",
       "      <td>192.18</td>\n",
       "      <td>110.86</td>\n",
       "      <td>...</td>\n",
       "      <td>1</td>\n",
       "      <td>Gillette Stadium</td>\n",
       "      <td>Foxborough, MA</td>\n",
       "      <td>Outdoor</td>\n",
       "      <td>Field Turf</td>\n",
       "      <td>Clear and warm</td>\n",
       "      <td>63.0</td>\n",
       "      <td>77.0</td>\n",
       "      <td>8</td>\n",
       "      <td>SW</td>\n",
       "    </tr>\n",
       "    <tr>\n",
       "      <td>16</td>\n",
       "      <td>2017090700</td>\n",
       "      <td>20170907000118</td>\n",
       "      <td>home</td>\n",
       "      <td>76.47</td>\n",
       "      <td>36.91</td>\n",
       "      <td>5.15</td>\n",
       "      <td>0.77</td>\n",
       "      <td>0.59</td>\n",
       "      <td>112.02</td>\n",
       "      <td>195.09</td>\n",
       "      <td>...</td>\n",
       "      <td>1</td>\n",
       "      <td>Gillette Stadium</td>\n",
       "      <td>Foxborough, MA</td>\n",
       "      <td>Outdoor</td>\n",
       "      <td>Field Turf</td>\n",
       "      <td>Clear and warm</td>\n",
       "      <td>63.0</td>\n",
       "      <td>77.0</td>\n",
       "      <td>8</td>\n",
       "      <td>SW</td>\n",
       "    </tr>\n",
       "    <tr>\n",
       "      <td>17</td>\n",
       "      <td>2017090700</td>\n",
       "      <td>20170907000118</td>\n",
       "      <td>home</td>\n",
       "      <td>74.70</td>\n",
       "      <td>19.19</td>\n",
       "      <td>2.10</td>\n",
       "      <td>1.48</td>\n",
       "      <td>0.51</td>\n",
       "      <td>152.14</td>\n",
       "      <td>278.52</td>\n",
       "      <td>...</td>\n",
       "      <td>1</td>\n",
       "      <td>Gillette Stadium</td>\n",
       "      <td>Foxborough, MA</td>\n",
       "      <td>Outdoor</td>\n",
       "      <td>Field Turf</td>\n",
       "      <td>Clear and warm</td>\n",
       "      <td>63.0</td>\n",
       "      <td>77.0</td>\n",
       "      <td>8</td>\n",
       "      <td>SW</td>\n",
       "    </tr>\n",
       "    <tr>\n",
       "      <td>18</td>\n",
       "      <td>2017090700</td>\n",
       "      <td>20170907000118</td>\n",
       "      <td>home</td>\n",
       "      <td>78.75</td>\n",
       "      <td>30.53</td>\n",
       "      <td>3.63</td>\n",
       "      <td>3.35</td>\n",
       "      <td>0.38</td>\n",
       "      <td>161.98</td>\n",
       "      <td>245.74</td>\n",
       "      <td>...</td>\n",
       "      <td>1</td>\n",
       "      <td>Gillette Stadium</td>\n",
       "      <td>Foxborough, MA</td>\n",
       "      <td>Outdoor</td>\n",
       "      <td>Field Turf</td>\n",
       "      <td>Clear and warm</td>\n",
       "      <td>63.0</td>\n",
       "      <td>77.0</td>\n",
       "      <td>8</td>\n",
       "      <td>SW</td>\n",
       "    </tr>\n",
       "    <tr>\n",
       "      <td>19</td>\n",
       "      <td>2017090700</td>\n",
       "      <td>20170907000118</td>\n",
       "      <td>home</td>\n",
       "      <td>74.60</td>\n",
       "      <td>31.88</td>\n",
       "      <td>1.86</td>\n",
       "      <td>1.51</td>\n",
       "      <td>0.17</td>\n",
       "      <td>218.49</td>\n",
       "      <td>267.32</td>\n",
       "      <td>...</td>\n",
       "      <td>1</td>\n",
       "      <td>Gillette Stadium</td>\n",
       "      <td>Foxborough, MA</td>\n",
       "      <td>Outdoor</td>\n",
       "      <td>Field Turf</td>\n",
       "      <td>Clear and warm</td>\n",
       "      <td>63.0</td>\n",
       "      <td>77.0</td>\n",
       "      <td>8</td>\n",
       "      <td>SW</td>\n",
       "    </tr>\n",
       "    <tr>\n",
       "      <td>20</td>\n",
       "      <td>2017090700</td>\n",
       "      <td>20170907000118</td>\n",
       "      <td>home</td>\n",
       "      <td>74.58</td>\n",
       "      <td>29.12</td>\n",
       "      <td>1.00</td>\n",
       "      <td>0.69</td>\n",
       "      <td>0.22</td>\n",
       "      <td>169.36</td>\n",
       "      <td>242.05</td>\n",
       "      <td>...</td>\n",
       "      <td>1</td>\n",
       "      <td>Gillette Stadium</td>\n",
       "      <td>Foxborough, MA</td>\n",
       "      <td>Outdoor</td>\n",
       "      <td>Field Turf</td>\n",
       "      <td>Clear and warm</td>\n",
       "      <td>63.0</td>\n",
       "      <td>77.0</td>\n",
       "      <td>8</td>\n",
       "      <td>SW</td>\n",
       "    </tr>\n",
       "    <tr>\n",
       "      <td>21</td>\n",
       "      <td>2017090700</td>\n",
       "      <td>20170907000118</td>\n",
       "      <td>home</td>\n",
       "      <td>74.58</td>\n",
       "      <td>28.47</td>\n",
       "      <td>1.70</td>\n",
       "      <td>1.55</td>\n",
       "      <td>0.24</td>\n",
       "      <td>207.09</td>\n",
       "      <td>255.67</td>\n",
       "      <td>...</td>\n",
       "      <td>1</td>\n",
       "      <td>Gillette Stadium</td>\n",
       "      <td>Foxborough, MA</td>\n",
       "      <td>Outdoor</td>\n",
       "      <td>Field Turf</td>\n",
       "      <td>Clear and warm</td>\n",
       "      <td>63.0</td>\n",
       "      <td>77.0</td>\n",
       "      <td>8</td>\n",
       "      <td>SW</td>\n",
       "    </tr>\n",
       "    <tr>\n",
       "      <td>22</td>\n",
       "      <td>2017090700</td>\n",
       "      <td>20170907000139</td>\n",
       "      <td>away</td>\n",
       "      <td>65.73</td>\n",
       "      <td>33.88</td>\n",
       "      <td>1.53</td>\n",
       "      <td>2.16</td>\n",
       "      <td>0.20</td>\n",
       "      <td>70.30</td>\n",
       "      <td>165.70</td>\n",
       "      <td>...</td>\n",
       "      <td>1</td>\n",
       "      <td>Gillette Stadium</td>\n",
       "      <td>Foxborough, MA</td>\n",
       "      <td>Outdoor</td>\n",
       "      <td>Field Turf</td>\n",
       "      <td>Clear and warm</td>\n",
       "      <td>63.0</td>\n",
       "      <td>77.0</td>\n",
       "      <td>8</td>\n",
       "      <td>SW</td>\n",
       "    </tr>\n",
       "    <tr>\n",
       "      <td>23</td>\n",
       "      <td>2017090700</td>\n",
       "      <td>20170907000139</td>\n",
       "      <td>away</td>\n",
       "      <td>66.04</td>\n",
       "      <td>30.09</td>\n",
       "      <td>1.20</td>\n",
       "      <td>1.06</td>\n",
       "      <td>0.01</td>\n",
       "      <td>354.01</td>\n",
       "      <td>254.78</td>\n",
       "      <td>...</td>\n",
       "      <td>1</td>\n",
       "      <td>Gillette Stadium</td>\n",
       "      <td>Foxborough, MA</td>\n",
       "      <td>Outdoor</td>\n",
       "      <td>Field Turf</td>\n",
       "      <td>Clear and warm</td>\n",
       "      <td>63.0</td>\n",
       "      <td>77.0</td>\n",
       "      <td>8</td>\n",
       "      <td>SW</td>\n",
       "    </tr>\n",
       "    <tr>\n",
       "      <td>24</td>\n",
       "      <td>2017090700</td>\n",
       "      <td>20170907000139</td>\n",
       "      <td>away</td>\n",
       "      <td>66.02</td>\n",
       "      <td>31.50</td>\n",
       "      <td>0.73</td>\n",
       "      <td>0.84</td>\n",
       "      <td>0.13</td>\n",
       "      <td>34.96</td>\n",
       "      <td>218.45</td>\n",
       "      <td>...</td>\n",
       "      <td>1</td>\n",
       "      <td>Gillette Stadium</td>\n",
       "      <td>Foxborough, MA</td>\n",
       "      <td>Outdoor</td>\n",
       "      <td>Field Turf</td>\n",
       "      <td>Clear and warm</td>\n",
       "      <td>63.0</td>\n",
       "      <td>77.0</td>\n",
       "      <td>8</td>\n",
       "      <td>SW</td>\n",
       "    </tr>\n",
       "  </tbody>\n",
       "</table>\n",
       "<p>25 rows × 49 columns</p>\n",
       "</div>"
      ],
      "text/plain": [
       "        GameId          PlayId  Team      X      Y     S     A   Dis  \\\n",
       "0   2017090700  20170907000118  away  73.91  34.84  1.69  1.13  0.40   \n",
       "1   2017090700  20170907000118  away  74.67  32.64  0.42  1.35  0.01   \n",
       "2   2017090700  20170907000118  away  74.00  33.20  1.22  0.59  0.31   \n",
       "3   2017090700  20170907000118  away  71.46  27.70  0.42  0.54  0.02   \n",
       "4   2017090700  20170907000118  away  69.32  35.42  1.82  2.43  0.16   \n",
       "5   2017090700  20170907000118  away  75.06  24.00  1.01  0.32  0.18   \n",
       "6   2017090700  20170907000118  away  74.11  16.64  1.11  0.83  0.02   \n",
       "7   2017090700  20170907000118  away  73.37  18.73  1.24  0.74  0.13   \n",
       "8   2017090700  20170907000118  away  56.63  26.90  0.26  1.86  0.28   \n",
       "9   2017090700  20170907000118  away  73.35  38.83  4.55  0.76  0.51   \n",
       "10  2017090700  20170907000118  away  74.15  28.90  0.72  0.73  0.01   \n",
       "11  2017090700  20170907000118  home  75.82  17.56  2.30  1.39  0.55   \n",
       "12  2017090700  20170907000118  home  74.78  33.21  1.71  0.82  0.19   \n",
       "13  2017090700  20170907000118  home  75.43  32.41  1.50  1.36  0.32   \n",
       "14  2017090700  20170907000118  home  75.90  25.12  1.38  0.80  0.19   \n",
       "15  2017090700  20170907000118  home  79.76  29.49  0.84  1.22  0.00   \n",
       "16  2017090700  20170907000118  home  76.47  36.91  5.15  0.77  0.59   \n",
       "17  2017090700  20170907000118  home  74.70  19.19  2.10  1.48  0.51   \n",
       "18  2017090700  20170907000118  home  78.75  30.53  3.63  3.35  0.38   \n",
       "19  2017090700  20170907000118  home  74.60  31.88  1.86  1.51  0.17   \n",
       "20  2017090700  20170907000118  home  74.58  29.12  1.00  0.69  0.22   \n",
       "21  2017090700  20170907000118  home  74.58  28.47  1.70  1.55  0.24   \n",
       "22  2017090700  20170907000139  away  65.73  33.88  1.53  2.16  0.20   \n",
       "23  2017090700  20170907000139  away  66.04  30.09  1.20  1.06  0.01   \n",
       "24  2017090700  20170907000139  away  66.02  31.50  0.73  0.84  0.13   \n",
       "\n",
       "    Orientation     Dir  ...  Week           Stadium        Location  \\\n",
       "0         81.99  177.18  ...     1  Gillette Stadium  Foxborough, MA   \n",
       "1         27.61  198.70  ...     1  Gillette Stadium  Foxborough, MA   \n",
       "2          3.01  202.73  ...     1  Gillette Stadium  Foxborough, MA   \n",
       "3        359.77  105.64  ...     1  Gillette Stadium  Foxborough, MA   \n",
       "4         12.63  164.31  ...     1  Gillette Stadium  Foxborough, MA   \n",
       "5        308.34   95.01  ...     1  Gillette Stadium  Foxborough, MA   \n",
       "6        357.23  322.59  ...     1  Gillette Stadium  Foxborough, MA   \n",
       "7        328.52  270.04  ...     1  Gillette Stadium  Foxborough, MA   \n",
       "8        344.70   55.31  ...     1  Gillette Stadium  Foxborough, MA   \n",
       "9         75.47  190.84  ...     1  Gillette Stadium  Foxborough, MA   \n",
       "10       342.58  274.14  ...     1  Gillette Stadium  Foxborough, MA   \n",
       "11       178.97  284.15  ...     1  Gillette Stadium  Foxborough, MA   \n",
       "12       178.82  215.90  ...     1  Gillette Stadium  Foxborough, MA   \n",
       "13       207.08  222.76  ...     1  Gillette Stadium  Foxborough, MA   \n",
       "14       133.01  198.55  ...     1  Gillette Stadium  Foxborough, MA   \n",
       "15       192.18  110.86  ...     1  Gillette Stadium  Foxborough, MA   \n",
       "16       112.02  195.09  ...     1  Gillette Stadium  Foxborough, MA   \n",
       "17       152.14  278.52  ...     1  Gillette Stadium  Foxborough, MA   \n",
       "18       161.98  245.74  ...     1  Gillette Stadium  Foxborough, MA   \n",
       "19       218.49  267.32  ...     1  Gillette Stadium  Foxborough, MA   \n",
       "20       169.36  242.05  ...     1  Gillette Stadium  Foxborough, MA   \n",
       "21       207.09  255.67  ...     1  Gillette Stadium  Foxborough, MA   \n",
       "22        70.30  165.70  ...     1  Gillette Stadium  Foxborough, MA   \n",
       "23       354.01  254.78  ...     1  Gillette Stadium  Foxborough, MA   \n",
       "24        34.96  218.45  ...     1  Gillette Stadium  Foxborough, MA   \n",
       "\n",
       "    StadiumType        Turf     GameWeather Temperature Humidity  WindSpeed  \\\n",
       "0       Outdoor  Field Turf  Clear and warm        63.0     77.0          8   \n",
       "1       Outdoor  Field Turf  Clear and warm        63.0     77.0          8   \n",
       "2       Outdoor  Field Turf  Clear and warm        63.0     77.0          8   \n",
       "3       Outdoor  Field Turf  Clear and warm        63.0     77.0          8   \n",
       "4       Outdoor  Field Turf  Clear and warm        63.0     77.0          8   \n",
       "5       Outdoor  Field Turf  Clear and warm        63.0     77.0          8   \n",
       "6       Outdoor  Field Turf  Clear and warm        63.0     77.0          8   \n",
       "7       Outdoor  Field Turf  Clear and warm        63.0     77.0          8   \n",
       "8       Outdoor  Field Turf  Clear and warm        63.0     77.0          8   \n",
       "9       Outdoor  Field Turf  Clear and warm        63.0     77.0          8   \n",
       "10      Outdoor  Field Turf  Clear and warm        63.0     77.0          8   \n",
       "11      Outdoor  Field Turf  Clear and warm        63.0     77.0          8   \n",
       "12      Outdoor  Field Turf  Clear and warm        63.0     77.0          8   \n",
       "13      Outdoor  Field Turf  Clear and warm        63.0     77.0          8   \n",
       "14      Outdoor  Field Turf  Clear and warm        63.0     77.0          8   \n",
       "15      Outdoor  Field Turf  Clear and warm        63.0     77.0          8   \n",
       "16      Outdoor  Field Turf  Clear and warm        63.0     77.0          8   \n",
       "17      Outdoor  Field Turf  Clear and warm        63.0     77.0          8   \n",
       "18      Outdoor  Field Turf  Clear and warm        63.0     77.0          8   \n",
       "19      Outdoor  Field Turf  Clear and warm        63.0     77.0          8   \n",
       "20      Outdoor  Field Turf  Clear and warm        63.0     77.0          8   \n",
       "21      Outdoor  Field Turf  Clear and warm        63.0     77.0          8   \n",
       "22      Outdoor  Field Turf  Clear and warm        63.0     77.0          8   \n",
       "23      Outdoor  Field Turf  Clear and warm        63.0     77.0          8   \n",
       "24      Outdoor  Field Turf  Clear and warm        63.0     77.0          8   \n",
       "\n",
       "    WindDirection  \n",
       "0              SW  \n",
       "1              SW  \n",
       "2              SW  \n",
       "3              SW  \n",
       "4              SW  \n",
       "5              SW  \n",
       "6              SW  \n",
       "7              SW  \n",
       "8              SW  \n",
       "9              SW  \n",
       "10             SW  \n",
       "11             SW  \n",
       "12             SW  \n",
       "13             SW  \n",
       "14             SW  \n",
       "15             SW  \n",
       "16             SW  \n",
       "17             SW  \n",
       "18             SW  \n",
       "19             SW  \n",
       "20             SW  \n",
       "21             SW  \n",
       "22             SW  \n",
       "23             SW  \n",
       "24             SW  \n",
       "\n",
       "[25 rows x 49 columns]"
      ]
     },
     "execution_count": 8,
     "metadata": {},
     "output_type": "execute_result"
    }
   ],
   "source": [
    "train.head(25)"
   ]
  },
  {
   "cell_type": "code",
   "execution_count": 9,
   "metadata": {},
   "outputs": [
    {
     "name": "stdout",
     "output_type": "stream",
     "text": [
      "Index(['GameId', 'PlayId', 'Team', 'X', 'Y', 'S', 'A', 'Dis', 'Orientation',\n",
      "       'Dir', 'NflId', 'DisplayName', 'JerseyNumber', 'Season', 'YardLine',\n",
      "       'Quarter', 'GameClock', 'PossessionTeam', 'Down', 'Distance',\n",
      "       'FieldPosition', 'HomeScoreBeforePlay', 'VisitorScoreBeforePlay',\n",
      "       'NflIdRusher', 'OffenseFormation', 'OffensePersonnel',\n",
      "       'DefendersInTheBox', 'DefensePersonnel', 'PlayDirection', 'TimeHandoff',\n",
      "       'TimeSnap', 'Yards', 'PlayerHeight', 'PlayerWeight', 'PlayerBirthDate',\n",
      "       'PlayerCollegeName', 'Position', 'HomeTeamAbbr', 'VisitorTeamAbbr',\n",
      "       'Week', 'Stadium', 'Location', 'StadiumType', 'Turf', 'GameWeather',\n",
      "       'Temperature', 'Humidity', 'WindSpeed', 'WindDirection'],\n",
      "      dtype='object')\n",
      "49\n"
     ]
    }
   ],
   "source": [
    "print(train.columns)\n",
    "print(len(train.columns))"
   ]
  },
  {
   "cell_type": "code",
   "execution_count": 10,
   "metadata": {
    "cell_style": "center"
   },
   "outputs": [
    {
     "name": "stdout",
     "output_type": "stream",
     "text": [
      "2\n"
     ]
    },
    {
     "data": {
      "text/plain": [
       "array(['away', 'home'], dtype=object)"
      ]
     },
     "execution_count": 10,
     "metadata": {},
     "output_type": "execute_result"
    }
   ],
   "source": [
    "print(len(train['Team'].unique()))\n",
    "train['Team'].unique()"
   ]
  },
  {
   "cell_type": "code",
   "execution_count": 13,
   "metadata": {
    "scrolled": true
   },
   "outputs": [
    {
     "name": "stdout",
     "output_type": "stream",
     "text": [
      "884\n",
      "[1.69 0.42 1.22 1.82 1.01 1.11 1.24 0.26 4.55 0.72 2.3  1.71 1.5  1.38\n",
      " 0.84 5.15 2.1  3.63 1.86 1.   1.7  1.53 1.2  0.73 1.84 2.79 1.18 2.05\n",
      " 2.28 1.07 2.16 3.61 1.35 2.31 1.16 1.29 2.94 2.57 3.06 1.65 0.48 2.62\n",
      " 3.77 3.22 3.81 3.74 3.32 2.66 1.31 4.35 3.97 3.08 2.46 4.67 3.41 3.33\n",
      " 3.56 5.77 4.04 3.2  3.59 1.1  3.28 0.62 1.13 1.58 1.94 1.57 0.86 1.88\n",
      " 1.66 0.81 1.37 4.37 1.12 4.45 1.19 0.15 1.05 2.29 3.26 3.54 2.89 1.54\n",
      " 2.96 2.56 3.9  0.96 3.   1.89 1.99 2.13 1.68 2.48 2.64 3.23 1.72 0.29\n",
      " 3.3  0.49 0.91 2.23 2.06 2.47 0.99 1.79 4.23 1.44 1.25 2.95 0.78 0.57\n",
      " 2.97 3.76 2.82 4.18 1.42 3.92 2.37 3.49 4.7  4.47 2.99 2.01 4.8  2.86\n",
      " 4.93 4.44 3.89 0.67 1.41 2.08 0.3  0.59 2.25 0.93 1.39 2.03 2.88 2.67\n",
      " 1.56 3.65 1.23 0.47 2.5  3.02 3.98 2.91 4.33 3.51 6.02 4.77 0.51 3.71\n",
      " 2.42 3.66 3.58 3.1  2.44 0.98 3.75 3.53 3.03 3.68 3.55 3.15 0.44 3.64\n",
      " 3.25 0.77 1.09 3.47 2.45 3.45 2.21 0.94 2.8  0.9  7.53 4.34 3.16 0.74\n",
      " 4.98 1.64 1.97 1.02 2.27 0.39 2.71 3.11 0.6  4.24 1.3  1.4  4.1  2.84\n",
      " 1.55 0.52 1.51 1.85 1.48 4.75 2.09 1.63 5.37 5.33 0.7  2.52 6.55 3.42\n",
      " 4.5  2.18 2.11 1.73 5.59 2.36 3.07 1.77 5.28 3.99 7.26 5.47 1.06 0.61\n",
      " 2.2  3.57 2.54 2.04 1.93 0.2  0.95 3.17 2.39 1.03 1.49 0.85 3.44 5.52\n",
      " 6.65 5.54 2.75 3.09 0.69 1.21 0.87 1.59 1.46 0.64 1.95 1.87 6.09 3.18\n",
      " 1.15 2.74 7.31 3.84 2.63 1.9  2.33 4.61 2.49 2.76 2.93 2.69 3.79 4.46\n",
      " 6.28 3.36 3.7  3.04 0.37 0.36 5.07 2.38 2.07 0.18 3.19 5.11 6.94 1.43\n",
      " 0.07 3.43 2.26 4.09 2.34 1.91 5.73 5.24 2.83 4.32 1.76 4.87 0.19 3.4\n",
      " 2.87 3.72 5.34 3.67 0.97 1.47 2.65 1.08 3.38 5.01 4.25 5.61 4.79 4.62\n",
      " 3.62 4.73 4.41 5.   4.11 5.03 2.92 4.29 2.14 0.33 2.72 1.28 3.86 3.94\n",
      " 3.96 5.04 3.12 3.24 2.7  3.93 4.17 3.31 3.35 4.64 3.78 1.83 2.55 5.69\n",
      " 4.56 5.13 0.89 1.8  4.26 2.19 1.32 4.14 4.02 3.21 3.39 2.78 2.24 1.33\n",
      " 2.02 4.48 0.83 5.2  2.61 1.67 3.05 5.85 1.6  3.52 2.81 2.85 2.77 3.88\n",
      " 4.08 3.48 3.37 5.75 5.18 0.31 2.58 1.14 4.71 1.27 1.74 4.05 4.82 0.54\n",
      " 0.79 3.91 4.72 4.52 1.96 0.4  1.26 0.35 0.92 2.15 2.32 5.99 5.97 1.52\n",
      " 4.   0.17 0.28 1.78 0.43 1.98 4.99 2.6  3.01 0.34 0.71 4.16 5.29 3.69\n",
      " 0.32 3.82 3.13 5.91 4.57 5.5  5.21 5.86 4.53 2.4  4.15 3.34 1.36 3.85\n",
      " 0.65 3.14 5.83 2.98 6.42 2.9  2.53 5.46 3.29 4.94 3.6  4.59 5.45 5.43\n",
      " 4.66 4.91 4.86 4.63 4.3  4.85 4.58 4.69 4.27 5.76 4.83 5.41 4.21 4.96\n",
      " 4.38 4.06 1.17 7.97 0.5  4.07 0.53 5.84 3.73 4.6  3.5  1.62 5.32 4.78\n",
      " 4.28 4.43 0.03 0.82 0.8  0.27 1.75 2.59 2.68 4.88 4.01 4.68 2.17 4.74\n",
      " 4.95 3.8  4.49 4.31 3.46 5.02 4.84 5.63 5.23 0.41 1.92 4.36 4.89 4.76\n",
      " 2.51 1.04 0.58 1.45 4.4  2.   2.73 5.36 0.88 0.45 2.12 0.55 5.25 0.66\n",
      " 4.12 5.27 5.67 6.08 4.03 4.51 3.87 1.61 3.27 4.19 2.41 5.65 2.22 2.43\n",
      " 0.38 1.34 5.38 4.22 3.95 5.66 6.32 5.42 4.92 4.13 6.04 3.83 0.75 6.14\n",
      " 4.2  1.81 5.22 5.19 4.54 5.98 2.35 4.65 6.27 6.22 5.62 6.44 5.55 0.76\n",
      " 5.8  0.63 6.43 6.2  5.57 7.03 4.81 6.1  0.22 0.46 5.17 4.39 5.39 5.48\n",
      " 4.42 5.4  5.68 5.08 0.14 4.97 6.41 6.36 5.49 5.7  6.89 6.57 5.26 5.74\n",
      " 6.35 6.47 5.09 7.06 4.9  0.56 5.92 0.68 5.64 7.72 5.35 6.95 5.9  0.12\n",
      " 0.06 5.3  5.12 5.1  6.77 7.8  0.1  0.13 5.05 5.14 7.25 6.6  5.58 6.38\n",
      " 0.24 0.23 0.02 6.3  7.57 5.31 0.09 5.06 5.56 0.05 5.88 5.82 0.25 0.11\n",
      " 5.93 0.21 0.08 0.16 6.15 5.95 6.24 7.01 6.23 6.13 5.44 6.12 6.62 6.31\n",
      " 6.01 6.48 6.19 6.74 7.49 7.39 6.29 5.16 5.94 6.16 5.71 5.89 0.01 6.37\n",
      " 6.18 6.54 7.46 6.63 6.49 6.34 5.96 6.03 6.5  5.87 6.07 7.73 6.93 6.84\n",
      " 5.6  8.8  6.56 6.53 8.19 6.81 6.4  6.75 0.04 6.61 6.17 7.04 0.   6.64\n",
      " 8.08 8.14 6.   5.53 6.59 6.05 6.11 6.51 8.63 6.66 8.49 7.23 6.06 6.67\n",
      " 6.68 6.26 5.51 5.72 6.21 7.69 7.78 7.4  7.34 5.78 7.51 7.02 6.82 7.27\n",
      " 7.61 8.46 7.17 6.33 6.7  7.64 8.25 8.2  6.45 7.07 8.94 8.37 7.36 7.3\n",
      " 7.65 7.09 6.25 7.38 5.81 8.03 7.13 5.79 6.76 7.43 7.93 7.19 7.92 7.71\n",
      " 8.11 7.28 7.   8.21 7.58 7.67 7.48 7.18 6.98 7.68 6.39 7.41 6.8  7.2\n",
      " 6.91 7.15 8.09 7.45 8.32 7.16 7.63 7.54 7.91 7.5  7.62 6.85 7.7  7.87\n",
      " 6.71 6.78 8.13 7.88 7.75 6.69 6.86 7.52 7.1  6.52 6.99 6.83 6.87 6.9\n",
      " 7.21 8.1  6.96 8.81 6.88 8.47 7.55 7.94 8.38 6.72 7.66 7.81 7.89 7.76\n",
      " 6.73 7.95 7.14 7.98 7.83 8.39 8.24 7.9  7.42 7.44 6.79 8.02 8.23 8.28\n",
      " 8.15 7.96 6.92 7.59 7.79 7.35 7.24 7.6  7.11 7.29 8.22 8.17 7.32 8.\n",
      " 7.22 7.74 7.05 6.58 8.42 9.01 8.54 8.05 8.27 6.97 7.12 8.83 7.47 7.08\n",
      " 7.33 7.84 6.46 7.37 7.82 8.26 8.56 8.07 8.36 8.5  8.89 8.72 7.77 8.48\n",
      " 7.86 8.57 7.56 8.04 8.59 8.3  8.33 8.91 8.45 8.06 8.29 8.82 8.12 8.55\n",
      " 8.66 7.99 8.69 8.51 7.85 8.53 8.88 8.18 8.16 8.99 8.52 9.33 8.44 8.9\n",
      " 8.61 8.64 9.17 8.31 8.01 8.43 8.34 8.67 8.58 8.86 8.35 8.87 9.41 8.41\n",
      " 8.78 8.6 ]\n"
     ]
    }
   ],
   "source": [
    "print(len(train['S'].unique()))\n",
    "print(train['S'].unique())"
   ]
  },
  {
   "cell_type": "code",
   "execution_count": 14,
   "metadata": {},
   "outputs": [
    {
     "name": "stdout",
     "output_type": "stream",
     "text": [
      "903\n",
      "[1.130e+00 1.350e+00 5.900e-01 5.400e-01 2.430e+00 3.200e-01 8.300e-01\n",
      " 7.400e-01 1.860e+00 7.600e-01 7.300e-01 1.390e+00 8.200e-01 1.360e+00\n",
      " 8.000e-01 1.220e+00 7.700e-01 1.480e+00 3.350e+00 1.510e+00 6.900e-01\n",
      " 1.550e+00 2.160e+00 1.060e+00 8.400e-01 1.020e+00 2.670e+00 1.630e+00\n",
      " 1.730e+00 2.240e+00 2.010e+00 1.610e+00 5.500e-01 2.190e+00 9.200e-01\n",
      " 1.660e+00 1.070e+00 8.800e-01 2.090e+00 2.110e+00 2.410e+00 1.170e+00\n",
      " 1.700e+00 2.950e+00 2.460e+00 1.340e+00 2.150e+00 1.040e+00 2.710e+00\n",
      " 3.110e+00 1.980e+00 3.630e+00 7.200e-01 5.100e-01 2.590e+00 4.600e-01\n",
      " 2.420e+00 9.100e-01 8.500e-01 1.240e+00 2.000e+00 2.700e-01 2.620e+00\n",
      " 6.500e-01 1.710e+00 7.100e-01 1.250e+00 1.490e+00 7.000e-02 4.000e-01\n",
      " 2.600e-01 3.200e+00 1.200e+00 2.070e+00 1.270e+00 1.770e+00 2.250e+00\n",
      " 4.800e-01 1.410e+00 1.790e+00 1.140e+00 1.640e+00 1.470e+00 2.530e+00\n",
      " 3.260e+00 2.040e+00 2.690e+00 1.720e+00 1.930e+00 1.260e+00 2.630e+00\n",
      " 2.610e+00 1.460e+00 3.160e+00 1.700e-01 3.210e+00 1.050e+00 5.000e-01\n",
      " 6.000e-01 2.550e+00 5.200e-01 8.700e-01 3.460e+00 1.300e+00 1.180e+00\n",
      " 2.560e+00 1.890e+00 2.760e+00 3.000e-01 3.190e+00 2.790e+00 2.360e+00\n",
      " 1.420e+00 1.950e+00 1.830e+00 1.400e+00 1.560e+00 2.940e+00 1.570e+00\n",
      " 1.450e+00 2.860e+00 2.020e+00 1.150e+00 2.270e+00 2.820e+00 1.300e-01\n",
      " 9.300e-01 4.900e-01 2.200e-01 1.100e+00 1.900e-01 1.600e-01 3.100e-01\n",
      " 4.100e-01 1.800e+00 1.030e+00 6.800e-01 1.080e+00 3.900e+00 3.100e+00\n",
      " 2.220e+00 1.530e+00 2.300e-01 6.600e-01 1.670e+00 2.580e+00 1.880e+00\n",
      " 1.900e+00 2.510e+00 1.960e+00 1.850e+00 1.370e+00 2.260e+00 1.870e+00\n",
      " 9.500e-01 5.700e-01 4.700e-01 2.100e+00 2.230e+00 1.000e+00 1.500e+00\n",
      " 1.380e+00 2.450e+00 3.600e-01 2.060e+00 8.100e-01 7.800e-01 5.800e-01\n",
      " 2.140e+00 2.880e+00 2.980e+00 1.500e-01 2.900e-01 1.910e+00 8.600e-01\n",
      " 1.110e+00 1.010e+00 2.380e+00 2.850e+00 3.750e+00 2.570e+00 1.620e+00\n",
      " 2.120e+00 2.600e+00 2.320e+00 3.080e+00 6.200e-01 2.650e+00 3.220e+00\n",
      " 2.210e+00 1.920e+00 4.150e+00 8.000e-02 3.700e-01 3.500e-01 9.900e-01\n",
      " 8.900e-01 1.600e+00 1.680e+00 3.400e-01 1.840e+00 1.210e+00 3.710e+00\n",
      " 2.340e+00 4.130e+00 3.060e+00 1.650e+00 1.780e+00 3.000e+00 1.230e+00\n",
      " 1.690e+00 1.280e+00 2.800e+00 2.770e+00 1.740e+00 1.590e+00 3.120e+00\n",
      " 3.430e+00 1.540e+00 1.940e+00 3.650e+00 3.230e+00 9.700e-01 3.150e+00\n",
      " 2.930e+00 2.180e+00 6.000e-02 3.620e+00 2.540e+00 6.300e-01 2.840e+00\n",
      " 2.280e+00 1.750e+00 2.390e+00 1.320e+00 6.400e-01 1.160e+00 1.120e+00\n",
      " 1.580e+00 1.810e+00 3.270e+00 1.200e-01 2.050e+00 3.490e+00 1.520e+00\n",
      " 2.170e+00 1.990e+00 2.350e+00 9.000e-01 5.000e-02 3.250e+00 9.400e-01\n",
      " 2.300e+00 4.020e+00 7.500e-01 1.090e+00 1.100e-01 1.430e+00 7.000e-01\n",
      " 6.100e-01 2.500e+00 3.010e+00 3.180e+00 2.330e+00 1.190e+00 3.410e+00\n",
      " 2.370e+00 3.330e+00 2.400e+00 4.400e-01 2.660e+00 2.200e+00 2.310e+00\n",
      " 1.330e+00 2.500e-01 1.290e+00 6.700e-01 2.870e+00 4.500e-01 2.470e+00\n",
      " 3.050e+00 2.290e+00 3.390e+00 2.480e+00 3.020e+00 1.310e+00 3.380e+00\n",
      " 3.300e-01 2.080e+00 1.760e+00 3.510e+00 1.440e+00 1.820e+00 2.720e+00\n",
      " 2.780e+00 7.900e-01 3.440e+00 2.130e+00 5.300e-01 2.800e-01 3.940e+00\n",
      " 4.200e-01 5.600e-01 2.830e+00 2.400e-01 3.420e+00 9.800e-01 1.400e-01\n",
      " 3.240e+00 9.000e-02 4.300e-01 4.000e-02 2.100e-01 4.010e+00 2.490e+00\n",
      " 3.140e+00 4.180e+00 3.360e+00 3.310e+00 3.450e+00 4.080e+00 5.150e+00\n",
      " 2.740e+00 2.440e+00 2.680e+00 3.170e+00 2.750e+00 3.470e+00 2.730e+00\n",
      " 2.640e+00 3.040e+00 2.960e+00 3.090e+00 3.530e+00 2.520e+00 1.800e-01\n",
      " 2.030e+00 3.860e+00 1.970e+00 3.320e+00 3.680e+00 3.550e+00 3.000e-02\n",
      " 2.920e+00 3.600e+00 3.030e+00 3.730e+00 3.480e+00 2.910e+00 9.600e-01\n",
      " 3.340e+00 3.900e-01 3.570e+00 2.900e+00 3.800e-01 2.700e+00 3.070e+00\n",
      " 3.690e+00 3.980e+00 3.540e+00 3.560e+00 4.000e+00 3.590e+00 2.990e+00\n",
      " 3.640e+00 3.500e+00 4.420e+00 3.970e+00 4.500e+00 3.720e+00 3.400e+00\n",
      " 3.760e+00 2.810e+00 3.740e+00 3.810e+00 4.070e+00 3.290e+00 4.240e+00\n",
      " 3.280e+00 4.030e+00 3.780e+00 2.970e+00 3.520e+00 3.840e+00 3.950e+00\n",
      " 4.740e+00 4.440e+00 3.670e+00 4.230e+00 3.800e+00 3.830e+00 3.610e+00\n",
      " 3.370e+00 4.710e+00 4.930e+00 4.390e+00 5.650e+00 1.000e-01 3.770e+00\n",
      " 3.130e+00 4.220e+00 4.090e+00 4.250e+00 2.890e+00 3.300e+00 4.400e+00\n",
      " 5.590e+00 3.930e+00 3.660e+00 2.000e-01 4.730e+00 3.700e+00 2.000e-02\n",
      " 4.100e+00 4.040e+00 4.330e+00 4.320e+00 3.910e+00 4.160e+00 3.580e+00\n",
      " 4.110e+00 4.360e+00 4.210e+00 4.260e+00 4.430e+00 4.650e+00 5.190e+00\n",
      " 3.920e+00 4.410e+00 1.000e-02 3.820e+00 4.530e+00 3.990e+00 4.050e+00\n",
      " 3.960e+00 4.630e+00 4.890e+00 5.610e+00 5.630e+00 4.700e+00 4.170e+00\n",
      " 4.060e+00 4.120e+00 4.720e+00 4.380e+00 4.270e+00 5.010e+00 3.790e+00\n",
      " 3.870e+00 4.940e+00 4.660e+00 3.880e+00 4.140e+00 4.810e+00 4.580e+00\n",
      " 4.300e+00 4.290e+00 4.370e+00 4.190e+00 4.350e+00 4.310e+00 5.000e+00\n",
      " 3.850e+00 4.600e+00 6.580e+00 4.620e+00 0.000e+00 4.340e+00 4.760e+00\n",
      " 4.470e+00 4.680e+00 5.170e+00 4.490e+00 3.890e+00 4.450e+00 4.570e+00\n",
      " 5.750e+00 4.830e+00 4.610e+00 4.590e+00 4.460e+00 4.770e+00 4.560e+00\n",
      " 4.750e+00 4.200e+00 5.360e+00 5.180e+00 5.550e+00 4.480e+00 4.690e+00\n",
      " 4.820e+00 4.280e+00 4.900e+00 4.920e+00 4.840e+00 4.540e+00 5.260e+00\n",
      " 4.640e+00 5.440e+00 5.080e+00 5.140e+00 4.520e+00 4.860e+00 6.100e+00\n",
      " 5.220e+00 5.240e+00 5.030e+00 4.510e+00 4.990e+00 4.550e+00 5.250e+00\n",
      " 4.950e+00 4.880e+00 5.530e+00 4.790e+00 4.670e+00 4.800e+00 5.990e+00\n",
      " 5.130e+00 5.070e+00 5.020e+00 6.880e+00 5.980e+00 6.170e+00 6.490e+00\n",
      " 5.720e+00 5.100e+00 4.850e+00 5.560e+00 5.160e+00 6.310e+00 5.670e+00\n",
      " 5.380e+00 5.400e+00 5.510e+00 4.960e+00 5.570e+00 4.970e+00 5.580e+00\n",
      " 5.200e+00 4.870e+00 4.980e+00 5.290e+00 6.810e+00 5.790e+00 5.710e+00\n",
      " 5.330e+00 5.350e+00 5.370e+00 5.640e+00 6.700e+00 5.470e+00 6.860e+00\n",
      " 5.840e+00 1.117e+01 6.260e+00 6.290e+00 5.410e+00 6.330e+00 5.050e+00\n",
      " 6.790e+00 8.630e+00 4.910e+00 5.890e+00 6.610e+00 5.280e+00 5.660e+00\n",
      " 5.430e+00 6.550e+00 5.300e+00 5.900e+00 5.120e+00 5.460e+00 5.320e+00\n",
      " 5.830e+00 6.400e+00 6.430e+00 5.680e+00 7.310e+00 5.390e+00 5.960e+00\n",
      " 6.800e+00 5.810e+00 5.450e+00 4.780e+00 6.200e+00 6.140e+00 8.410e+00\n",
      " 7.180e+00 5.690e+00 5.860e+00 5.970e+00 6.340e+00 5.820e+00 6.600e+00\n",
      " 5.800e+00 7.160e+00 1.179e+01 8.080e+00 8.970e+00 6.250e+00 5.090e+00\n",
      " 6.970e+00 7.730e+00 6.020e+00 5.850e+00 5.540e+00 5.870e+00 5.770e+00\n",
      " 6.740e+00 5.490e+00 5.930e+00 6.120e+00 6.160e+00 5.210e+00 5.500e+00\n",
      " 6.060e+00 5.880e+00 5.270e+00 8.110e+00 6.940e+00 1.164e+01 6.150e+00\n",
      " 7.770e+00 5.420e+00 8.130e+00 6.000e+00 5.230e+00 6.560e+00 7.010e+00\n",
      " 6.300e+00 5.060e+00 5.740e+00 5.700e+00 5.110e+00 6.110e+00 6.690e+00\n",
      " 5.730e+00 7.890e+00 7.330e+00 5.310e+00 8.820e+00 6.520e+00 7.650e+00\n",
      " 6.660e+00 8.230e+00 6.470e+00 5.340e+00 6.930e+00 6.320e+00 5.620e+00\n",
      " 6.220e+00 5.520e+00 6.040e+00 7.140e+00 1.120e+01 5.040e+00 6.240e+00\n",
      " 6.540e+00 9.050e+00 8.880e+00 6.090e+00 6.210e+00 7.040e+00 6.360e+00\n",
      " 7.710e+00 8.750e+00 6.180e+00 1.060e+01 6.900e+00 8.040e+00 8.550e+00\n",
      " 7.820e+00 7.440e+00 8.680e+00 6.960e+00 8.360e+00 6.280e+00 6.760e+00\n",
      " 6.030e+00 9.930e+00 9.060e+00 7.720e+00 7.320e+00 7.090e+00 8.840e+00\n",
      " 7.340e+00 6.510e+00 5.920e+00 8.060e+00 8.300e+00 8.010e+00 6.460e+00\n",
      " 6.770e+00 5.480e+00 5.950e+00 9.950e+00 7.630e+00 6.190e+00 7.760e+00\n",
      " 6.780e+00 6.590e+00 9.190e+00 7.940e+00 5.910e+00 8.480e+00 7.020e+00\n",
      " 1.040e+01 6.630e+00 5.940e+00 6.350e+00 7.860e+00 7.550e+00 8.150e+00\n",
      " 1.064e+01 7.790e+00 6.910e+00 6.380e+00 5.600e+00 7.400e+00 6.410e+00\n",
      " 6.670e+00 6.050e+00 8.270e+00 8.950e+00 6.270e+00 6.830e+00 1.047e+01\n",
      " 6.840e+00 8.290e+00 6.480e+00 6.870e+00 7.430e+00 6.750e+00 6.390e+00\n",
      " 7.840e+00 7.910e+00 6.530e+00 6.720e+00 8.990e+00 6.500e+00 6.230e+00\n",
      " 9.480e+00 8.700e+00 8.850e+00 9.310e+00 8.030e+00 7.070e+00 6.420e+00\n",
      " 7.500e+00 5.780e+00 1.052e+01 8.420e+00 7.030e+00 7.680e+00 7.420e+00\n",
      " 7.670e+00 8.180e+00 8.470e+00 6.130e+00 8.520e+00 7.410e+00 7.360e+00\n",
      " 9.220e+00 7.480e+00 7.220e+00 6.080e+00 8.920e+00 7.810e+00 7.590e+00\n",
      " 9.760e+00 6.370e+00 7.510e+00 9.400e+00 7.260e+00 6.640e+00 9.450e+00\n",
      " 7.370e+00 6.450e+00 1.239e+01 6.990e+00 7.170e+00 7.250e+00 8.460e+00\n",
      " 8.890e+00 7.990e+00 8.980e+00 9.430e+00 8.660e+00 8.400e+00 7.100e+00\n",
      " 7.530e+00 6.650e+00 8.910e+00 7.640e+00 7.280e+00 6.010e+00 8.050e+00\n",
      " 7.450e+00 7.150e+00 6.070e+00 8.310e+00 8.330e+00 7.000e+00 7.780e+00\n",
      " 7.060e+00 1.029e+01 9.770e+00 8.810e+00 1.062e+01 7.960e+00 8.640e+00\n",
      " 8.000e+00 8.770e+00 7.870e+00 7.470e+00 7.950e+00 1.053e+01 7.130e+00\n",
      " 8.220e+00 7.080e+00 8.340e+00 8.610e+00 6.620e+00 1.005e+01 8.200e+00\n",
      " 1.109e+01 6.440e+00 1.010e+01 5.760e+00 7.610e+00 8.690e+00 7.800e+00\n",
      " 6.920e+00 6.680e+00 8.530e+00 7.380e+00 7.490e+00 8.260e+00 8.190e+00\n",
      " 6.730e+00 9.180e+00 7.240e+00 8.790e+00 8.280e+00 7.110e+00 7.740e+00\n",
      " 8.390e+00 1.043e+01 7.540e+00 6.710e+00 6.890e+00 1.471e+01 1.017e+01\n",
      " 7.350e+00 7.200e+00 1.209e+01 7.620e+00 8.430e+00 7.270e+00 9.320e+00\n",
      " 1.061e+01 9.640e+00 7.880e+00 9.970e+00 8.320e+00 1.026e+01 8.120e+00\n",
      " 9.370e+00 8.380e+00 7.290e+00 7.300e+00 9.090e+00 6.980e+00 6.820e+00\n",
      " 8.250e+00 7.120e+00 7.700e+00 8.560e+00 9.210e+00 7.390e+00 9.150e+00\n",
      " 1.054e+01 8.570e+00 7.970e+00 9.790e+00 8.170e+00 9.160e+00 8.350e+00\n",
      " 9.280e+00 6.850e+00 7.190e+00 9.130e+00 8.370e+00 9.880e+00 1.019e+01\n",
      " 7.210e+00 7.600e+00 7.750e+00 8.510e+00 8.020e+00 6.570e+00 8.860e+00]\n"
     ]
    }
   ],
   "source": [
    "print(len(train['A'].unique()))\n",
    "print(train['A'].unique())"
   ]
  },
  {
   "cell_type": "code",
   "execution_count": 16,
   "metadata": {},
   "outputs": [
    {
     "name": "stdout",
     "output_type": "stream",
     "text": [
      "36002\n"
     ]
    },
    {
     "data": {
      "text/plain": [
       "array([0.0000e+00, 1.0000e-02, 2.0000e-02, ..., 3.5999e+02, 3.6000e+02,\n",
       "              nan])"
      ]
     },
     "execution_count": 16,
     "metadata": {},
     "output_type": "execute_result"
    }
   ],
   "source": [
    "# orientation??\n",
    "print(len(train['Orientation'].unique()))\n",
    "train['Orientation'].sort_values().unique()"
   ]
  },
  {
   "cell_type": "code",
   "execution_count": 61,
   "metadata": {},
   "outputs": [
    {
     "name": "stdout",
     "output_type": "stream",
     "text": [
      "360.0\n"
     ]
    },
    {
     "data": {
      "image/png": "[encoded data removed]",
      "text/plain": [
       "<Figure size 432x288 with 1 Axes>"
      ]
     },
     "metadata": {
      "needs_background": "light"
     },
     "output_type": "display_data"
    }
   ],
   "source": [
    "# maybe to phi or something is possible\n",
    "a = list(train['Dir'].unique())\n",
    "\n",
    "sns.distplot(list(map(rep, a)))\n",
    "\n",
    "print(max(a))\n"
   ]
  },
  {
   "cell_type": "code",
   "execution_count": 21,
   "metadata": {},
   "outputs": [
    {
     "name": "stdout",
     "output_type": "stream",
     "text": [
      "2231\n"
     ]
    },
    {
     "data": {
      "text/plain": [
       "2555281    847\n",
       "2504211    823\n",
       "2552363    797\n",
       "2552563    796\n",
       "2543470    789\n",
       "          ... \n",
       "2558901      1\n",
       "2555187      1\n",
       "2555167      1\n",
       "2559197      1\n",
       "2556415      1\n",
       "Name: NflId, Length: 2231, dtype: int64"
      ]
     },
     "execution_count": 21,
     "metadata": {},
     "output_type": "execute_result"
    }
   ],
   "source": [
    "#  a unique identifier of the player\n",
    "print(len(train['NflId'].unique()))\n",
    "train['NflId'].value_counts()"
   ]
  },
  {
   "cell_type": "code",
   "execution_count": 23,
   "metadata": {},
   "outputs": [
    {
     "name": "stdout",
     "output_type": "stream",
     "text": [
      "2230\n"
     ]
    },
    {
     "data": {
      "text/plain": [
       "Joe Thuney          847\n",
       "Michael Thomas      847\n",
       "Tom Brady           823\n",
       "Rob Havenstein      797\n",
       "Shaq Mason          796\n",
       "                   ... \n",
       "Devaroe Lawrence      1\n",
       "Joe Kerridge          1\n",
       "Tyreek Burwell        1\n",
       "Taiwan Jones          1\n",
       "Rashaad Coward        1\n",
       "Name: DisplayName, Length: 2230, dtype: int64"
      ]
     },
     "execution_count": 23,
     "metadata": {},
     "output_type": "execute_result"
    }
   ],
   "source": [
    "print(len(train['DisplayName'].unique()))\n",
    "train['DisplayName'].unique()\n",
    "# what's wrong with ... mismatch b/w name and id\n",
    "## 동명이인?? 이라기엔.. 숫자가 미묘하게 다른데\n",
    "\n",
    "train['DisplayName'].value_counts()"
   ]
  },
  {
   "cell_type": "code",
   "execution_count": 76,
   "metadata": {
    "scrolled": true
   },
   "outputs": [
    {
     "name": "stdout",
     "output_type": "stream",
     "text": [
      "99\n",
      "Counter({21: 11158, 23: 10072, 90: 9164, 26: 9115, 24: 8899, 77: 8630, 98: 8613, 94: 8375, 71: 8205, 93: 8023, 22: 8010, 20: 7944, 97: 7819, 99: 7755, 25: 7626, 54: 7589, 73: 7481, 11: 7442, 75: 7358, 10: 7303, 76: 7237, 55: 7218, 72: 7199, 29: 7064, 27: 7057, 65: 7038, 70: 6828, 74: 6805, 95: 6717, 91: 6685, 50: 6649, 68: 6608, 53: 6462, 51: 6038, 13: 5995, 87: 5868, 96: 5737, 66: 5716, 79: 5715, 31: 5710, 52: 5678, 17: 5666, 84: 5656, 58: 5656, 28: 5560, 92: 5446, 12: 5410, 59: 5369, 69: 5313, 30: 5152, 32: 5018, 78: 5018, 56: 4955, 60: 4904, 64: 4696, 88: 4623, 57: 4512, 82: 4472, 67: 4469, 33: 4438, 61: 4356, 89: 4340, 41: 4328, 14: 4263, 18: 4261, 80: 4124, 85: 4089, 62: 4073, 81: 4045, 38: 3926, 42: 3903, 83: 3566, 19: 3560, 36: 3447, 15: 3396, 34: 3263, 44: 3172, 86: 3121, 16: 3105, 37: 2961, 43: 2930, 48: 2731, 47: 2596, 4: 2546, 35: 2392, 39: 2277, 7: 2252, 3: 2147, 63: 2117, 8: 1949, 5: 1881, 9: 1820, 40: 1612, 45: 1608, 46: 1156, 49: 1112, 2: 997, 6: 810, 1: 592})\n"
     ]
    },
    {
     "data": {
      "text/plain": [
       "<matplotlib.axes._subplots.AxesSubplot at 0x21730298240>"
      ]
     },
     "execution_count": 76,
     "metadata": {},
     "output_type": "execute_result"
    },
    {
     "data": {
      "image/png": "[encoded data removed]",
      "text/plain": [
       "<Figure size 432x288 with 1 Axes>"
      ]
     },
     "metadata": {
      "needs_background": "light"
     },
     "output_type": "display_data"
    }
   ],
   "source": [
    "import collections\n",
    "print(len(train['JerseyNumber'].unique()))\n",
    "train['JerseyNumber'].unique()\n",
    "\n",
    "print(collections.Counter(train['JerseyNumber']))\n",
    "\n",
    "sns.distplot(train['JerseyNumber'].unique())"
   ]
  },
  {
   "cell_type": "code",
   "execution_count": 77,
   "metadata": {},
   "outputs": [
    {
     "data": {
      "text/plain": [
       "array([2017, 2018], dtype=int64)"
      ]
     },
     "execution_count": 77,
     "metadata": {},
     "output_type": "execute_result"
    }
   ],
   "source": [
    "train['Season'].unique()"
   ]
  },
  {
   "cell_type": "code",
   "execution_count": 80,
   "metadata": {},
   "outputs": [
    {
     "name": "stdout",
     "output_type": "stream",
     "text": [
      "[35 43  2 25 29 19 10 50  9 30 12  8 45 18 22 48 36 20 11  7 23 37 40  4\n",
      " 28 46 14  1  5 13 15 49 21 42 33 32 34 31 41 38 17 47 26  6 44 39 24 16\n",
      "  3 27]\n"
     ]
    },
    {
     "data": {
      "text/plain": [
       "<matplotlib.axes._subplots.AxesSubplot at 0x2173036d5f8>"
      ]
     },
     "execution_count": 80,
     "metadata": {},
     "output_type": "execute_result"
    },
    {
     "data": {
      "image/png": "[encoded data removed]",
      "text/plain": [
       "<Figure size 432x288 with 1 Axes>"
      ]
     },
     "metadata": {
      "needs_background": "light"
     },
     "output_type": "display_data"
    }
   ],
   "source": [
    "# the yard line of the line of scrimmage\n",
    "## meaning?\n",
    "print(train['YardLine'].unique())\n",
    "\n",
    "sns.distplot(train['YardLine'].unique())"
   ]
  },
  {
   "cell_type": "code",
   "execution_count": 81,
   "metadata": {},
   "outputs": [
    {
     "data": {
      "text/plain": [
       "array([1, 2, 3, 4, 5], dtype=int64)"
      ]
     },
     "execution_count": 81,
     "metadata": {},
     "output_type": "execute_result"
    }
   ],
   "source": [
    "# 5 >> 연장\n",
    "print(train['Quarter'].unique())"
   ]
  },
  {
   "cell_type": "code",
   "execution_count": 84,
   "metadata": {},
   "outputs": [
    {
     "data": {
      "text/plain": [
       "array(['14:14:00', '13:52:00', '13:02:00', '12:12:00', '12:08:00',\n",
       "       '11:21:00', '10:34:00', '09:34:00', '09:25:00', '06:34:00',\n",
       "       '03:47:00', '03:03:00', '01:36:00', '00:37:00', '00:23:00',\n",
       "       '14:44:00', '13:17:00', '12:49:00', '11:23:00', '09:57:00',\n",
       "       '09:17:00', '08:38:00', '08:15:00', '07:31:00', '07:22:00',\n",
       "       '06:11:00', '05:29:00', '03:44:00', '02:29:00', '15:00:00',\n",
       "       '10:53:00', '10:23:00', '09:13:00', '07:55:00', '07:08:00',\n",
       "       '05:35:00', '05:03:00', '04:21:00', '02:31:00', '02:00:00',\n",
       "       '00:57:00', '00:04:00', '12:29:00', '10:28:00', '10:00:00',\n",
       "       '08:20:00', '05:19:00', '04:15:00', '04:05:00', '02:44:00',\n",
       "       '02:37:00', '02:32:00', '14:52:00', '12:48:00', '12:15:00',\n",
       "       '11:35:00', '10:33:00', '09:40:00', '06:13:00', '01:57:00',\n",
       "       '00:20:00', '14:30:00', '13:22:00', '06:16:00', '05:48:00',\n",
       "       '04:44:00', '03:55:00', '02:38:00', '02:10:00', '14:54:00',\n",
       "       '12:00:00', '10:41:00', '09:05:00', '08:05:00', '06:52:00',\n",
       "       '01:48:00', '00:36:00', '14:17:00', '13:27:00', '12:51:00',\n",
       "       '12:05:00', '11:18:00', '10:21:00', '08:52:00', '06:33:00',\n",
       "       '05:53:00', '03:51:00', '03:42:00', '02:55:00', '02:06:00',\n",
       "       '14:48:00', '11:53:00', '10:39:00', '09:24:00', '08:40:00',\n",
       "       '07:49:00', '05:22:00', '04:19:00', '01:35:00', '00:50:00',\n",
       "       '14:55:00', '14:18:00', '10:56:00', '09:07:00', '08:22:00',\n",
       "       '06:02:00', '04:34:00', '04:29:00', '03:02:00', '02:25:00',\n",
       "       '01:53:00', '01:05:00', '14:56:00', '14:20:00', '13:44:00',\n",
       "       '12:09:00', '10:10:00', '09:33:00', '08:06:00', '07:26:00',\n",
       "       '05:59:00', '03:36:00', '02:05:00', '01:21:00', '00:56:00',\n",
       "       '06:38:00', '04:53:00', '14:19:00', '13:47:00', '12:38:00',\n",
       "       '11:45:00', '03:28:00', '02:46:00', '01:34:00', '13:46:00',\n",
       "       '12:42:00', '11:50:00', '10:22:00', '09:50:00', '08:48:00',\n",
       "       '07:10:00', '05:46:00', '03:41:00', '03:15:00', '01:47:00',\n",
       "       '01:31:00', '01:24:00', '00:30:00', '00:12:00', '14:06:00',\n",
       "       '10:44:00', '10:02:00', '09:22:00', '07:44:00', '07:02:00',\n",
       "       '06:29:00', '05:47:00', '04:25:00', '02:57:00', '02:21:00',\n",
       "       '01:54:00', '00:18:00', '14:22:00', '13:15:00', '09:47:00',\n",
       "       '08:47:00', '04:33:00', '04:26:00', '04:07:00', '04:01:00',\n",
       "       '02:52:00', '02:09:00', '01:06:00', '00:25:00', '14:24:00',\n",
       "       '13:35:00', '12:44:00', '11:40:00', '02:22:00', '01:12:00',\n",
       "       '00:17:00', '13:54:00', '12:28:00', '11:13:00', '08:03:00',\n",
       "       '05:18:00', '04:50:00', '01:27:00', '00:41:00', '13:11:00',\n",
       "       '07:16:00', '06:32:00', '03:25:00', '00:33:00', '13:06:00',\n",
       "       '10:35:00', '07:20:00', '04:54:00', '02:28:00', '14:16:00',\n",
       "       '11:08:00', '08:57:00', '08:37:00', '06:12:00', '04:04:00',\n",
       "       '02:35:00', '00:46:00', '14:27:00', '12:33:00', '10:19:00',\n",
       "       '08:19:00', '05:50:00', '05:09:00', '03:54:00', '01:11:00',\n",
       "       '13:04:00', '11:26:00', '10:12:00', '09:23:00', '05:42:00',\n",
       "       '05:01:00', '04:03:00', '03:52:00', '02:26:00', '00:48:00',\n",
       "       '11:44:00', '11:03:00', '10:18:00', '05:07:00', '01:33:00',\n",
       "       '00:49:00', '14:26:00', '09:12:00', '07:28:00', '07:07:00',\n",
       "       '05:51:00', '04:32:00', '04:02:00', '02:42:00', '01:42:00',\n",
       "       '14:42:00', '12:58:00', '12:22:00', '11:24:00', '09:36:00',\n",
       "       '08:10:00', '06:53:00', '05:41:00', '04:57:00', '03:43:00',\n",
       "       '03:08:00', '02:14:00', '14:33:00', '13:36:00', '11:05:00',\n",
       "       '09:09:00', '08:24:00', '07:45:00', '06:40:00', '04:40:00',\n",
       "       '04:14:00', '03:13:00', '00:03:00', '13:31:00', '12:10:00',\n",
       "       '09:59:00', '09:16:00', '03:31:00', '03:21:00', '03:04:00',\n",
       "       '11:57:00', '10:40:00', '09:11:00', '08:31:00', '06:58:00',\n",
       "       '05:28:00', '03:59:00', '02:51:00', '01:25:00', '00:45:00',\n",
       "       '14:21:00', '13:00:00', '09:15:00', '07:03:00', '06:30:00',\n",
       "       '05:08:00', '12:16:00', '11:17:00', '10:24:00', '08:42:00',\n",
       "       '06:10:00', '03:50:00', '02:15:00', '00:42:00', '13:58:00',\n",
       "       '10:32:00', '06:44:00', '04:41:00', '03:17:00', '03:05:00',\n",
       "       '02:58:00', '14:50:00', '10:50:00', '06:21:00', '04:49:00',\n",
       "       '00:27:00', '13:18:00', '12:40:00', '11:00:00', '08:30:00',\n",
       "       '06:37:00', '09:03:00', '04:17:00', '00:52:00', '14:31:00',\n",
       "       '12:21:00', '10:17:00', '08:07:00', '03:33:00', '02:49:00',\n",
       "       '12:43:00', '11:04:00', '09:14:00', '07:46:00', '07:06:00',\n",
       "       '04:09:00', '02:03:00', '01:26:00', '10:29:00', '09:44:00',\n",
       "       '14:25:00', '12:54:00', '09:54:00', '09:28:00', '08:09:00',\n",
       "       '07:15:00', '05:30:00', '01:55:00', '00:10:00', '14:13:00',\n",
       "       '13:34:00', '12:17:00', '11:36:00', '09:29:00', '09:10:00',\n",
       "       '08:29:00', '06:59:00', '05:02:00', '04:22:00', '02:54:00',\n",
       "       '09:26:00', '07:53:00', '07:19:00', '05:10:00', '13:28:00',\n",
       "       '09:48:00', '08:49:00', '08:12:00', '07:12:00', '03:48:00',\n",
       "       '00:55:00', '00:43:00', '13:56:00', '11:27:00', '08:28:00',\n",
       "       '07:05:00', '05:11:00', '02:20:00', '14:36:00', '09:49:00',\n",
       "       '06:17:00', '03:19:00', '13:42:00', '07:47:00', '06:04:00',\n",
       "       '05:04:00', '03:00:00', '13:01:00', '12:14:00', '09:46:00',\n",
       "       '08:00:00', '06:27:00', '05:49:00', '12:23:00', '10:04:00',\n",
       "       '08:02:00', '06:45:00', '04:38:00', '03:53:00', '13:49:00',\n",
       "       '08:04:00', '07:17:00', '06:35:00', '04:59:00', '04:18:00',\n",
       "       '02:39:00', '11:07:00', '12:37:00', '11:28:00', '10:51:00',\n",
       "       '08:11:00', '07:35:00', '02:40:00', '12:02:00', '08:51:00',\n",
       "       '07:23:00', '03:07:00', '13:37:00', '12:36:00', '07:48:00',\n",
       "       '05:26:00', '04:45:00', '03:20:00', '02:27:00', '02:19:00',\n",
       "       '12:19:00', '10:48:00', '07:37:00', '05:44:00', '04:36:00',\n",
       "       '03:12:00', '01:01:00', '14:45:00', '10:37:00', '06:15:00',\n",
       "       '03:06:00', '01:43:00', '13:23:00', '07:34:00', '05:00:00',\n",
       "       '02:34:00', '13:40:00', '10:07:00', '06:25:00', '13:21:00',\n",
       "       '12:30:00', '09:39:00', '06:18:00', '02:41:00', '01:44:00',\n",
       "       '01:07:00', '00:24:00', '13:19:00', '11:43:00', '11:11:00',\n",
       "       '10:05:00', '07:25:00', '05:27:00', '02:50:00', '02:07:00',\n",
       "       '01:46:00', '01:16:00', '00:38:00', '07:33:00', '02:17:00',\n",
       "       '13:51:00', '11:58:00', '09:31:00', '08:01:00', '06:24:00',\n",
       "       '13:59:00', '09:42:00', '07:36:00', '07:01:00', '04:46:00',\n",
       "       '03:57:00', '02:23:00', '11:49:00', '10:20:00', '06:46:00',\n",
       "       '06:09:00', '05:16:00', '10:49:00', '07:21:00', '06:26:00',\n",
       "       '05:57:00', '01:40:00', '13:14:00', '07:11:00', '01:08:00',\n",
       "       '01:02:00', '11:30:00', '10:06:00', '09:32:00', '03:38:00',\n",
       "       '01:51:00', '00:28:00', '13:41:00', '11:56:00', '10:43:00',\n",
       "       '07:58:00', '05:45:00', '00:15:00', '04:16:00', '03:34:00',\n",
       "       '02:13:00', '11:41:00', '11:01:00', '09:41:00', '06:49:00',\n",
       "       '04:00:00', '12:45:00', '07:43:00', '09:51:00', '08:53:00',\n",
       "       '07:24:00', '03:32:00', '00:19:00', '00:06:00', '12:39:00',\n",
       "       '10:15:00', '09:45:00', '06:08:00', '02:45:00', '13:53:00',\n",
       "       '04:06:00', '03:22:00', '11:02:00', '10:26:00', '09:08:00',\n",
       "       '07:42:00', '07:32:00', '06:48:00', '05:12:00', '03:24:00',\n",
       "       '00:51:00', '11:38:00', '09:55:00', '09:18:00', '04:58:00',\n",
       "       '13:39:00', '12:07:00', '08:54:00', '04:08:00', '12:34:00',\n",
       "       '11:37:00', '05:34:00', '04:13:00', '08:39:00', '13:25:00',\n",
       "       '10:25:00', '09:02:00', '06:47:00', '03:09:00', '02:16:00',\n",
       "       '00:47:00', '12:47:00', '11:51:00', '11:19:00', '08:14:00',\n",
       "       '06:31:00', '05:55:00', '02:59:00', '01:19:00', '14:04:00',\n",
       "       '13:29:00', '10:55:00', '06:43:00', '03:37:00', '02:53:00',\n",
       "       '00:16:00', '06:28:00', '05:37:00', '05:05:00', '02:02:00',\n",
       "       '01:56:00', '12:11:00', '08:32:00', '04:28:00', '01:29:00',\n",
       "       '11:16:00', '10:11:00', '04:56:00', '01:30:00', '10:09:00',\n",
       "       '03:10:00', '14:28:00', '10:27:00', '08:33:00', '06:54:00',\n",
       "       '06:19:00', '13:50:00', '10:31:00', '06:07:00', '04:52:00',\n",
       "       '03:18:00', '14:01:00', '12:35:00', '10:03:00', '08:23:00',\n",
       "       '03:40:00', '03:29:00', '14:10:00', '12:13:00', '10:14:00',\n",
       "       '09:38:00', '08:45:00', '06:50:00', '04:55:00', '12:56:00',\n",
       "       '08:50:00', '07:50:00', '10:57:00', '09:53:00', '00:07:00',\n",
       "       '12:18:00', '08:55:00', '07:30:00', '05:24:00', '14:15:00',\n",
       "       '12:57:00', '08:58:00', '01:10:00', '10:38:00', '09:58:00',\n",
       "       '08:46:00', '04:51:00', '01:23:00', '14:11:00', '13:03:00',\n",
       "       '09:06:00', '09:27:00', '10:45:00', '08:35:00', '06:36:00',\n",
       "       '10:52:00', '08:27:00', '07:29:00', '05:58:00', '13:10:00',\n",
       "       '10:36:00', '08:13:00', '07:13:00', '00:26:00', '13:33:00',\n",
       "       '11:46:00', '02:18:00', '13:38:00', '07:27:00', '01:39:00',\n",
       "       '12:55:00', '10:01:00', '05:32:00', '05:14:00', '01:50:00',\n",
       "       '01:09:00', '14:57:00', '12:26:00', '11:48:00', '03:39:00',\n",
       "       '12:59:00', '12:27:00', '04:10:00', '14:34:00', '10:08:00',\n",
       "       '06:23:00', '02:24:00', '02:30:00', '07:56:00', '11:33:00',\n",
       "       '07:00:00', '03:46:00', '00:53:00', '05:43:00', '01:49:00',\n",
       "       '14:47:00', '14:39:00', '14:08:00', '06:22:00', '14:38:00',\n",
       "       '13:16:00', '12:24:00', '03:30:00', '01:37:00', '13:07:00',\n",
       "       '11:15:00', '03:16:00', '14:49:00', '11:22:00', '10:46:00',\n",
       "       '04:39:00', '13:45:00', '12:31:00', '04:47:00', '11:14:00',\n",
       "       '01:32:00', '07:14:00', '01:59:00', '12:52:00', '11:25:00',\n",
       "       '08:18:00', '13:26:00', '09:35:00', '08:43:00', '05:36:00',\n",
       "       '04:24:00', '04:23:00', '14:41:00', '12:50:00', '01:17:00',\n",
       "       '00:32:00', '14:43:00', '08:08:00', '03:11:00', '01:28:00',\n",
       "       '01:58:00', '12:53:00', '05:40:00', '13:32:00', '12:03:00',\n",
       "       '08:25:00', '03:27:00', '11:10:00', '08:59:00', '08:26:00',\n",
       "       '11:34:00', '10:30:00', '05:33:00', '05:52:00', '04:11:00',\n",
       "       '00:21:00', '10:59:00', '07:59:00', '14:35:00', '03:23:00',\n",
       "       '00:29:00', '11:20:00', '08:56:00', '07:38:00', '06:56:00',\n",
       "       '13:13:00', '12:41:00', '12:06:00', '05:15:00', '02:12:00',\n",
       "       '01:03:00', '04:43:00', '02:11:00', '01:20:00', '14:23:00',\n",
       "       '11:54:00', '05:38:00', '14:53:00', '00:58:00', '11:12:00',\n",
       "       '10:13:00', '07:41:00', '14:51:00', '11:42:00', '06:57:00',\n",
       "       '03:26:00', '08:34:00', '07:04:00', '03:45:00', '01:41:00',\n",
       "       '00:54:00', '05:31:00', '14:32:00', '14:00:00', '04:37:00',\n",
       "       '05:21:00', '13:05:00', '12:25:00', '06:55:00', '01:15:00',\n",
       "       '10:58:00', '03:49:00', '04:20:00', '10:16:00', '07:18:00',\n",
       "       '12:20:00', '01:18:00', '03:35:00', '00:40:00', '09:52:00',\n",
       "       '14:37:00', '04:27:00', '14:07:00', '02:56:00', '13:08:00',\n",
       "       '09:56:00', '13:24:00', '10:47:00', '08:44:00', '07:52:00',\n",
       "       '07:09:00', '00:08:00', '05:23:00', '12:04:00', '05:25:00',\n",
       "       '13:55:00', '05:20:00', '13:57:00', '06:00:00', '13:09:00',\n",
       "       '11:32:00', '09:43:00', '08:36:00', '13:48:00', '11:39:00',\n",
       "       '13:43:00', '11:09:00', '14:12:00', '02:01:00', '00:59:00',\n",
       "       '01:22:00', '03:14:00', '14:03:00', '11:52:00', '05:39:00',\n",
       "       '04:48:00', '01:13:00', '06:06:00', '06:01:00', '02:48:00',\n",
       "       '05:13:00', '02:43:00', '12:32:00', '01:04:00', '00:09:00',\n",
       "       '09:04:00', '06:51:00', '11:06:00', '04:35:00', '08:41:00',\n",
       "       '03:56:00', '03:58:00', '07:57:00', '08:21:00', '14:05:00',\n",
       "       '00:31:00', '00:22:00', '07:40:00', '01:14:00', '10:42:00',\n",
       "       '11:29:00', '11:47:00', '09:20:00', '11:59:00', '07:51:00',\n",
       "       '13:12:00', '04:31:00', '02:36:00', '09:19:00', '00:34:00',\n",
       "       '14:29:00', '01:38:00', '08:16:00', '00:13:00', '13:20:00',\n",
       "       '06:05:00', '06:14:00', '09:01:00', '14:09:00', '12:01:00',\n",
       "       '13:30:00', '03:01:00', '00:35:00', '06:39:00', '07:54:00',\n",
       "       '00:01:00', '04:12:00', '02:47:00', '09:30:00', '04:30:00',\n",
       "       '11:31:00', '02:08:00', '14:02:00', '12:46:00', '05:17:00',\n",
       "       '01:52:00', '00:02:00', '01:45:00', '00:14:00', '14:46:00',\n",
       "       '14:59:00', '00:44:00', '06:20:00', '09:21:00', '08:17:00',\n",
       "       '06:41:00', '05:06:00', '02:33:00', '04:42:00', '09:37:00',\n",
       "       '05:54:00', '07:39:00', '10:54:00', '06:42:00', '05:56:00',\n",
       "       '02:04:00', '00:39:00', '00:11:00', '09:00:00', '11:55:00',\n",
       "       '06:03:00', '00:00:00', '01:00:00', '00:05:00', '14:40:00',\n",
       "       '14:58:00'], dtype=object)"
      ]
     },
     "execution_count": 84,
     "metadata": {},
     "output_type": "execute_result"
    }
   ],
   "source": [
    "# 오전 오후 or 쿼터로 합치기 \n",
    "## 시간은 아닌듯.. 쿼터당 시간인듯(15이상 값이 없는 걸로 봐서 풋볼이 15분겜예상)\n",
    "### 분으로 환산 후 15로 나눠서 쿼터랑 합쳐서 쓰면 될듯\n",
    "train['GameClock'].unique()\n",
    "\n",
    "# sns.distplot(train['Quarter'].unique())"
   ]
  },
  {
   "cell_type": "code",
   "execution_count": 85,
   "metadata": {},
   "outputs": [
    {
     "name": "stdout",
     "output_type": "stream",
     "text": [
      "32\n",
      "['NE' 'KC' 'BUF' 'NYJ' 'ATL' 'CHI' 'CIN' 'BLT' 'CLV' 'PIT' 'ARZ' 'DET'\n",
      " 'JAX' 'HST' 'OAK' 'TEN' 'WAS' 'PHI' 'LA' 'IND' 'SEA' 'GB' 'CAR' 'SF'\n",
      " 'DAL' 'NYG' 'NO' 'MIN' 'DEN' 'LAC' 'TB' 'MIA']\n"
     ]
    }
   ],
   "source": [
    "print(len(train['PossessionTeam'].unique()))\n",
    "print(train['PossessionTeam'].unique())"
   ]
  },
  {
   "cell_type": "code",
   "execution_count": 122,
   "metadata": {},
   "outputs": [
    {
     "name": "stdout",
     "output_type": "stream",
     "text": [
      "32\n",
      "['NE' 'BUF' 'CHI' 'CIN' 'CLE' 'DET' 'HOU' 'TEN' 'WAS' 'LA' 'GB' 'SF' 'DAL'\n",
      " 'MIN' 'DEN' 'BAL' 'CAR' 'IND' 'JAX' 'KC' 'NO' 'PIT' 'TB' 'LAC' 'OAK'\n",
      " 'SEA' 'ATL' 'NYG' 'NYJ' 'PHI' 'ARI' 'MIA']\n",
      "False\n"
     ]
    }
   ],
   "source": [
    "print(len(train['HomeTeamAbbr'].unique()))\n",
    "print(train['HomeTeamAbbr'].unique())\n",
    "\n",
    "# 이 부분이 home team name이랑 다르다는 얘기인듯\n",
    "print(list(sorted(train['HomeTeamAbbr'].unique()))==sorted(list(train['PossessionTeam'].unique())))"
   ]
  },
  {
   "cell_type": "code",
   "execution_count": 29,
   "metadata": {},
   "outputs": [
    {
     "name": "stdout",
     "output_type": "stream",
     "text": [
      "True\n",
      "True\n"
     ]
    }
   ],
   "source": [
    "map_abbr = {'ARI': 'ARZ', 'BAL': 'BLT', 'CLE': 'CLV', 'HOU': 'HST'}\n",
    "def map_abb(a):\n",
    "    global map_abbr\n",
    "    if a in map_abbr.keys():\n",
    "        return map_abbr[a]\n",
    "    else:\n",
    "        return a\n",
    "    \n",
    "print(sorted(train['PossessionTeam'].map(map_abb).unique()) == sorted(train['HomeTeamAbbr'].map(map_abb).unique()))\n",
    "print(sorted(train['PossessionTeam'].map(map_abb).unique()) == sorted(train['VisitorTeamAbbr'].map(map_abb).unique()))"
   ]
  },
  {
   "cell_type": "code",
   "execution_count": 30,
   "metadata": {},
   "outputs": [
    {
     "data": {
      "text/plain": [
       "0          NE\n",
       "1          NE\n",
       "2          NE\n",
       "3          NE\n",
       "4          NE\n",
       "         ... \n",
       "509757    SEA\n",
       "509758    SEA\n",
       "509759    SEA\n",
       "509760    SEA\n",
       "509761    SEA\n",
       "Name: PossessionTeam, Length: 509762, dtype: object"
      ]
     },
     "execution_count": 30,
     "metadata": {},
     "output_type": "execute_result"
    }
   ],
   "source": [
    "train['PossessionTeam'].map(map_abb)"
   ]
  },
  {
   "cell_type": "code",
   "execution_count": 125,
   "metadata": {},
   "outputs": [
    {
     "name": "stdout",
     "output_type": "stream",
     "text": [
      "32\n",
      "['KC' 'NYJ' 'ATL' 'BAL' 'PIT' 'ARI' 'JAX' 'OAK' 'PHI' 'IND' 'SEA' 'CAR'\n",
      " 'NYG' 'NO' 'LAC' 'HOU' 'CLE' 'BUF' 'TEN' 'NE' 'MIN' 'CHI' 'MIA' 'DAL'\n",
      " 'WAS' 'SF' 'GB' 'DET' 'LA' 'DEN' 'TB' 'CIN']\n",
      "True\n"
     ]
    }
   ],
   "source": [
    "print(len(train['VisitorTeamAbbr'].unique()))\n",
    "print(train['VisitorTeamAbbr'].unique())\n",
    "\n",
    "# poss팀이랑은 다른데 홈팀이랑은 같네?\n",
    "print(list(sorted(train['HomeTeamAbbr'].unique()))==sorted(list(train['VisitorTeamAbbr'].unique())))"
   ]
  },
  {
   "cell_type": "code",
   "execution_count": 102,
   "metadata": {},
   "outputs": [
    {
     "name": "stdout",
     "output_type": "stream",
     "text": [
      "4\n",
      "[3 1 2 4]\n"
     ]
    },
    {
     "data": {
      "text/plain": [
       "<matplotlib.axes._subplots.AxesSubplot at 0x21730115a58>"
      ]
     },
     "execution_count": 102,
     "metadata": {},
     "output_type": "execute_result"
    },
    {
     "data": {
      "image/png": "[encoded data removed]",
      "text/plain": [
       "<Figure size 432x288 with 1 Axes>"
      ]
     },
     "metadata": {
      "needs_background": "light"
     },
     "output_type": "display_data"
    }
   ],
   "source": [
    "print(len(train['Down'].unique()))\n",
    "print(train['Down'].unique())\n",
    "\n",
    "sns.countplot(train['Down'])"
   ]
  },
  {
   "cell_type": "code",
   "execution_count": 103,
   "metadata": {},
   "outputs": [
    {
     "name": "stdout",
     "output_type": "stream",
     "text": [
      "35\n",
      "[ 2 10  7  1  9  5  6 14  8 12  3  4 15 21 17 20 13 16 11 23 19 26 24 18\n",
      " 25 30 31 28 27 40 35 33 22 34 29]\n"
     ]
    },
    {
     "data": {
      "text/plain": [
       "<matplotlib.axes._subplots.AxesSubplot at 0x2172fef9780>"
      ]
     },
     "execution_count": 103,
     "metadata": {},
     "output_type": "execute_result"
    },
    {
     "data": {
      "image/png": "[encoded data removed]",
      "text/plain": [
       "<Figure size 432x288 with 1 Axes>"
      ]
     },
     "metadata": {
      "needs_background": "light"
     },
     "output_type": "display_data"
    }
   ],
   "source": [
    "print(len(train['Distance'].unique()))\n",
    "print(train['Distance'].unique())\n",
    "\n",
    "sns.distplot(train['Distance'])"
   ]
  },
  {
   "cell_type": "code",
   "execution_count": 104,
   "metadata": {},
   "outputs": [
    {
     "name": "stdout",
     "output_type": "stream",
     "text": [
      "33\n",
      "['NE' 'KC' nan 'BUF' 'NYJ' 'ATL' 'CHI' 'CIN' 'BLT' 'CLV' 'PIT' 'ARZ' 'DET'\n",
      " 'JAX' 'HST' 'TEN' 'OAK' 'WAS' 'PHI' 'LA' 'IND' 'GB' 'SEA' 'CAR' 'SF'\n",
      " 'DAL' 'NYG' 'NO' 'MIN' 'DEN' 'LAC' 'TB' 'MIA']\n"
     ]
    }
   ],
   "source": [
    "# position 정보 필요\n",
    "print(len(train['FieldPosition'].unique()))\n",
    "print(train['FieldPosition'].unique())"
   ]
  },
  {
   "cell_type": "code",
   "execution_count": 106,
   "metadata": {},
   "outputs": [
    {
     "name": "stdout",
     "output_type": "stream",
     "text": [
      "50\n",
      "[ 0  7 10 17 24 27 14 21  3 18  6  9 15 35 13 16 37 39 46 19 26 29 20 23\n",
      " 28 42 45 12 31 34 33 30 44 54 57 22 32  2 52 38 40 51  8 47 36 11 48 25\n",
      " 41 43]\n"
     ]
    },
    {
     "data": {
      "text/plain": [
       "<matplotlib.axes._subplots.AxesSubplot at 0x2173016fb70>"
      ]
     },
     "execution_count": 106,
     "metadata": {},
     "output_type": "execute_result"
    },
    {
     "data": {
      "image/png": "[encoded data removed]",
      "text/plain": [
       "<Figure size 432x288 with 1 Axes>"
      ]
     },
     "metadata": {
      "needs_background": "light"
     },
     "output_type": "display_data"
    }
   ],
   "source": [
    "# 시작전 홈팀 스코어면  그 순간 이기고 있냐 지고 있냐 얘기인가?\n",
    "## 음의 값이 없다는건.. 아래꺼와 같이 이기고 있냐 지고 있냐 판단해서 변수 포함 ?!\n",
    "print(len(train['HomeScoreBeforePlay'].unique()))\n",
    "print(train['HomeScoreBeforePlay'].unique())\n",
    "\n",
    "sns.countplot(train['HomeScoreBeforePlay'])"
   ]
  },
  {
   "cell_type": "code",
   "execution_count": 109,
   "metadata": {},
   "outputs": [
    {
     "name": "stdout",
     "output_type": "stream",
     "text": [
      "45\n",
      "[ 0  7 14 21 28 35 42  3  6 12 10 13 20 17 23 19 26 29 16  9 30 37 27 33\n",
      " 36 24 34 41 31 32  2  8 15 18 22 39 38 40 25 48 51 11 45  5 44]\n"
     ]
    },
    {
     "data": {
      "text/plain": [
       "<matplotlib.axes._subplots.AxesSubplot at 0x2172fa7feb8>"
      ]
     },
     "execution_count": 109,
     "metadata": {},
     "output_type": "execute_result"
    },
    {
     "data": {
      "image/png": "[encoded data removed]",
      "text/plain": [
       "<Figure size 432x288 with 1 Axes>"
      ]
     },
     "metadata": {
      "needs_background": "light"
     },
     "output_type": "display_data"
    }
   ],
   "source": [
    "print(len(train['VisitorScoreBeforePlay'].unique()))\n",
    "print(train['VisitorScoreBeforePlay'].unique())\n",
    "\n",
    "sns.countplot(train['VisitorScoreBeforePlay'])"
   ]
  },
  {
   "cell_type": "code",
   "execution_count": 110,
   "metadata": {
    "scrolled": true
   },
   "outputs": [
    {
     "name": "stdout",
     "output_type": "stream",
     "text": [
      "371\n",
      "[2543773 2539663 2557917 2539265 2530515 2556214 2543638 2495469 2550268\n",
      "   79607 2507428 2495328     234 2543583 2552453 2555418 2558250 2552636\n",
      " 2543603 2543664 2552631    4327 2557976 2540156 2550163 2550189 2557987\n",
      " 2540175 2557978 2553435 2552374 2540020 2556118 2539980 2543847  497326\n",
      " 2557973 2533034 2555234 2507999 2557994 2540225 2495663 2495207 2540145\n",
      " 2556075 2555464 2556885 2540011 2556414  497149 2555461 2506467 2552475\n",
      " 2506404 2558123 2539336 2555334 2552382 2533460 2559163 2540168 2552429\n",
      " 2558204 2555417 2558865     949 2543743 2558918 2540037 2557997 2540230\n",
      " 2555224 2555460 2533457 2550481 2555295 2507164 2558019 2495466 2506147\n",
      " 2557991 2543715 2507166 2541161 2552608 2540269 2552469 2550658     925\n",
      " 2558010 2556519 2552461 2555430 2552468     262 2555261 2539217 2557870\n",
      " 2553650 2495966 2552464 2550289 2550272 2543498 2552424 2543572 2556803\n",
      " 2553617 2495471 2543770 2556466 2552582 2543488 2555230 2555220 2557934\n",
      " 2553743 2558138 2532820 2553733 2532975 2550617 2495448 2495473 2553728\n",
      " 2507763 2558129 2555432 2556752 2558066 2553631 2557983 2552635 2550246\n",
      " 2550512 2505076 2559150 2552466 2553867 2557960 2558116 2541544 2552477\n",
      " 2530763   80427 2543600 2553499 2556762 2559169 2557952 2555223 2536044\n",
      " 2552430 2556440 2532899 2552033 2552651 2557986 2558150   81294 2532903\n",
      " 2543496 2532790 2552656 2539289 2495459 2540169 2552431 2555346 2541785\n",
      " 2535890 2552415 2539964 2495211 2543475 2553660 2505996  497204 2495455\n",
      " 2556697 2552471 2556411 2555209 2555260 2555259 2495443 2552487 2556462\n",
      " 2556695 2552375    1581 2539303 2557889 2558065 2534571 2540259 2543499\n",
      " 2555413 2558821 2534436 2559325 2556396 2540154 2535708 2553762     284\n",
      " 2534871 2539235 2532797 2558837 2543646 2541834 2556841 2556661 2543565\n",
      " 2506581 2533040 2553439   79860 2539205 2495454 2532842 2558208 2495441\n",
      " 2556528 2559180 2559013 2556190 2550633 2555419 2541944 2558112 2558052\n",
      " 2559020 2558127 2558905 2557858 2550542 2555343 2552576 2550738 2553895\n",
      " 2558956 2504775 2557850 2554357 2495470 2550235 2552647 2506931 2535964\n",
      " 2552600 2495340 2540173 2560757 2555229 2561021 2560933 2560742 2539322\n",
      " 2558063 2540165 2555227 2561291 2560968 2540204 2560711 2558833 2560733\n",
      " 2559947 2560835 2560765  497320 2561137 2557898 2560813 2559924 2560854\n",
      " 2561358 2506121 2561382 2560988 2561036 2532956 2543457 2543801 2560809\n",
      " 2556454 2558954  497322 2555466 2555317 2550400 2561099 2560955 2560949\n",
      " 2556855 2553913 2556603 2560898 2560915 2560770 2557977 2561029 2557895\n",
      " 2560967 2560781 2495159 2557922 2561468 2560801 2535869 2543477 2558846\n",
      " 2532870 2558194 2560756 2558008 2543828 2558877 2558856 2560747 2561324\n",
      "  238498 2550256 2561152 2532978 2557920 2558985 2543491 2560862 2558979\n",
      " 2557863 2552597 2557848 2495262 2558975 2543466 2556404 2508101 2557034\n",
      " 2560810 2560847 2550597    1032 2558266 2560938 2560883 2495234 2558273\n",
      " 2560907   81284 2533433 2560836 2557866 2560888 2560935 2553502 2559880\n",
      " 2561261 2552408 2560777 2553896 2555333    2649 2543509 2532888 2556273\n",
      " 2552379  497224]\n"
     ]
    }
   ],
   "source": [
    "# rushing play는 잘한단 뜻인가? 아니면 그 경기에서 뛰는 놈 말하는 건가?\n",
    "print(len(train['NflIdRusher'].unique()))\n",
    "print(train['NflIdRusher'].unique())"
   ]
  },
  {
   "cell_type": "code",
   "execution_count": 111,
   "metadata": {},
   "outputs": [
    {
     "name": "stdout",
     "output_type": "stream",
     "text": [
      "9\n",
      "['SHOTGUN' 'SINGLEBACK' 'JUMBO' 'PISTOL' 'I_FORM' 'ACE' 'WILDCAT' nan\n",
      " 'EMPTY']\n"
     ]
    }
   ],
   "source": [
    "# nan처리\n",
    "print(len(train['OffenseFormation'].unique()))\n",
    "print(train['OffenseFormation'].unique())"
   ]
  },
  {
   "cell_type": "code",
   "execution_count": 34,
   "metadata": {},
   "outputs": [
    {
     "data": {
      "text/plain": [
       "0            SHOTGUN\n",
       "1            SHOTGUN\n",
       "2            SHOTGUN\n",
       "3            SHOTGUN\n",
       "4            SHOTGUN\n",
       "             ...    \n",
       "509757    SINGLEBACK\n",
       "509758    SINGLEBACK\n",
       "509759    SINGLEBACK\n",
       "509760    SINGLEBACK\n",
       "509761    SINGLEBACK\n",
       "Name: OffenseFormation, Length: 509762, dtype: object"
      ]
     },
     "execution_count": 34,
     "metadata": {},
     "output_type": "execute_result"
    }
   ],
   "source": [
    "train['OffenseFormation'].replace([np.nan, 'EMPTY'], 'NAN')"
   ]
  },
  {
   "cell_type": "code",
   "execution_count": 112,
   "metadata": {
    "scrolled": true
   },
   "outputs": [
    {
     "name": "stdout",
     "output_type": "stream",
     "text": [
      "56\n",
      "['1 RB, 1 TE, 3 WR' '6 OL, 2 RB, 2 TE, 0 WR' '1 RB, 3 TE, 1 WR'\n",
      " '1 RB, 2 TE, 2 WR' '6 OL, 1 RB, 2 TE, 1 WR' '2 RB, 1 TE, 2 WR'\n",
      " '2 RB, 2 TE, 1 WR' '0 RB, 3 TE, 2 WR' '0 RB, 1 TE, 4 WR'\n",
      " '6 OL, 1 RB, 0 TE, 3 WR' '6 OL, 1 RB, 1 TE, 2 WR' '1 RB, 2 TE, 1 WR,1 DL'\n",
      " '1 RB, 3 TE, 0 WR,1 DL' '1 RB, 0 TE, 4 WR' '1 RB, 1 TE, 2 WR,1 DL'\n",
      " '6 OL, 2 RB, 0 TE, 2 WR' '2 RB, 0 TE, 3 WR' '6 OL, 2 RB, 1 TE, 1 WR'\n",
      " '7 OL, 1 RB, 0 TE, 2 WR' '7 OL, 2 RB, 0 TE, 1 WR'\n",
      " '7 OL, 1 RB, 2 TE, 0 WR' '2 RB, 3 TE, 0 WR' '3 RB, 1 TE, 1 WR'\n",
      " '6 OL, 1 RB, 3 TE, 0 WR' '6 OL, 1 RB, 2 TE, 0 WR,1 DL' '2 RB, 3 TE, 1 WR'\n",
      " '6 OL, 1 RB, 1 TE, 1 WR,1 DL' '1 RB, 4 TE, 0 WR' '1 RB, 2 TE, 1 WR,1 LB'\n",
      " '1 RB, 3 TE, 0 WR,1 LB' '7 OL, 2 RB, 1 TE, 0 WR' '0 RB, 2 TE, 3 WR'\n",
      " '1 RB, 0 TE, 3 WR,1 DB' '6 OL, 1 RB, 2 TE, 0 WR,1 LB'\n",
      " '1 RB, 1 TE, 2 WR,1 DB' '0 RB, 0 TE, 5 WR' '1 RB, 2 TE, 3 WR'\n",
      " '1 RB, 1 TE, 2 WR,1 LB' '1 RB, 3 TE, 0 WR,1 DB'\n",
      " '6 OL, 2 RB, 1 TE, 0 WR,1 DL' '2 QB, 1 RB, 1 TE, 2 WR'\n",
      " '6 OL, 0 RB, 2 TE, 2 WR' '3 RB, 0 TE, 2 WR' '2 QB, 1 RB, 2 TE, 1 WR'\n",
      " '2 QB, 1 RB, 0 TE, 3 WR' '3 RB, 2 TE, 0 WR' '2 RB, 2 TE, 0 WR,1 DL'\n",
      " '2 QB, 2 RB, 2 TE, 0 WR' '2 QB, 2 RB, 0 TE, 2 WR'\n",
      " '2 QB, 3 RB, 1 TE, 0 WR' '2 QB, 1 RB, 3 TE, 0 WR'\n",
      " '2 QB, 2 RB, 1 TE, 1 WR' '2 RB, 1 TE, 1 WR,1 DB' '1 RB, 2 TE, 1 WR,1 DB'\n",
      " '6 OL, 3 RB, 0 TE, 1 WR' '6 OL, 1 RB, 1 TE, 0 WR,2 DL']\n"
     ]
    }
   ],
   "source": [
    "# 공격전술인듯?\n",
    "## 분리해서 OHE스럽게 바꾸자\n",
    "print(len(train['OffensePersonnel'].unique()))\n",
    "print(train['OffensePersonnel'].unique())"
   ]
  },
  {
   "cell_type": "code",
   "execution_count": 114,
   "metadata": {},
   "outputs": [
    {
     "name": "stdout",
     "output_type": "stream",
     "text": [
      "12\n",
      "[ 6.  7.  9.  5.  8. 11. 10.  4.  3. nan  2.  1.]\n"
     ]
    }
   ],
   "source": [
    "# nan처리 >> 0\n",
    "print(len(train['DefendersInTheBox'].unique()))\n",
    "print(train['DefendersInTheBox'].unique())"
   ]
  },
  {
   "cell_type": "code",
   "execution_count": 116,
   "metadata": {},
   "outputs": [
    {
     "name": "stdout",
     "output_type": "stream",
     "text": [
      "38\n",
      "['2 DL, 3 LB, 6 DB' '4 DL, 4 LB, 3 DB' '3 DL, 2 LB, 6 DB'\n",
      " '3 DL, 4 LB, 4 DB' '3 DL, 3 LB, 5 DB' '4 DL, 3 LB, 4 DB'\n",
      " '4 DL, 1 LB, 6 DB' '4 DL, 2 LB, 5 DB' '5 DL, 2 LB, 4 DB'\n",
      " '2 DL, 4 LB, 5 DB' '2 DL, 5 LB, 4 DB' '5 DL, 4 LB, 2 DB'\n",
      " '1 DL, 5 LB, 5 DB' '5 DL, 3 LB, 3 DB' '6 DL, 2 LB, 3 DB'\n",
      " '3 DL, 5 LB, 3 DB' '6 DL, 3 LB, 2 DB' '1 DL, 3 LB, 7 DB'\n",
      " '2 DL, 2 LB, 7 DB' '4 DL, 5 LB, 2 DB' '1 DL, 4 LB, 6 DB'\n",
      " '4 DL, 5 LB, 1 DB, 1 OL' '6 DL, 1 LB, 4 DB' '2 DL, 4 LB, 4 DB, 1 OL'\n",
      " '6 DL, 4 LB, 1 DB' '5 DL, 1 LB, 5 DB' '4 DL, 6 LB, 1 DB'\n",
      " '0 DL, 5 LB, 6 DB' '5 DL, 4 LB, 1 DB, 1 OL' '3 DL, 1 LB, 7 DB'\n",
      " '4 DL, 0 LB, 7 DB' '3 DL, 4 LB, 3 DB, 1 OL' '5 DL, 5 LB, 1 DB'\n",
      " '5 DL, 3 LB, 2 DB, 1 OL' '0 DL, 6 LB, 5 DB' '1 DL, 2 LB, 8 DB'\n",
      " '0 DL, 4 LB, 7 DB' '7 DL, 2 LB, 2 DB']\n"
     ]
    }
   ],
   "source": [
    "# 수비 전술\n",
    "print(len(train['DefensePersonnel'].unique()))\n",
    "print(train['DefensePersonnel'].unique())"
   ]
  },
  {
   "cell_type": "code",
   "execution_count": 117,
   "metadata": {},
   "outputs": [
    {
     "name": "stdout",
     "output_type": "stream",
     "text": [
      "2\n",
      "['left' 'right']\n"
     ]
    }
   ],
   "source": [
    "# 전 후반 같은 느낌 인듯\n",
    "print(len(train['PlayDirection'].unique()))\n",
    "print(train['PlayDirection'].unique())"
   ]
  },
  {
   "cell_type": "code",
   "execution_count": 118,
   "metadata": {},
   "outputs": [
    {
     "name": "stdout",
     "output_type": "stream",
     "text": [
      "22935\n",
      "['2017-09-08T00:44:06.000Z' '2017-09-08T00:44:27.000Z'\n",
      " '2017-09-08T00:45:17.000Z' ... '2018-12-31T00:23:13.000Z'\n",
      " '2018-12-31T00:24:11.000Z' '2018-12-31T00:24:51.000Z']\n"
     ]
    }
   ],
   "source": [
    "# ?????????\n",
    "print(len(train['TimeHandoff'].unique()))\n",
    "print(train['TimeHandoff'].unique())"
   ]
  },
  {
   "cell_type": "code",
   "execution_count": 36,
   "metadata": {},
   "outputs": [],
   "source": [
    "import datetime\n",
    "\n",
    "train['TimeHandoff'] = train['TimeHandoff'].apply(lambda x: datetime.datetime.strptime(x, \"%Y-%m-%dT%H:%M:%S.%fZ\"))\n",
    "train['TimeSnap'] = train['TimeSnap'].apply(lambda x: datetime.datetime.strptime(x, \"%Y-%m-%dT%H:%M:%S.%fZ\"))\n",
    "\n",
    "train['TimeDelta'] = train.apply(lambda row: (row['TimeHandoff'] - row['TimeSnap']).total_seconds(), axis=1)"
   ]
  },
  {
   "cell_type": "code",
   "execution_count": 37,
   "metadata": {},
   "outputs": [
    {
     "data": {
      "text/plain": [
       "0         1.0\n",
       "1         1.0\n",
       "2         1.0\n",
       "3         1.0\n",
       "4         1.0\n",
       "         ... \n",
       "509757    2.0\n",
       "509758    2.0\n",
       "509759    2.0\n",
       "509760    2.0\n",
       "509761    2.0\n",
       "Name: TimeDelta, Length: 509762, dtype: float64"
      ]
     },
     "execution_count": 37,
     "metadata": {},
     "output_type": "execute_result"
    }
   ],
   "source": [
    "train['TimeDelta']"
   ]
  },
  {
   "cell_type": "code",
   "execution_count": 119,
   "metadata": {},
   "outputs": [
    {
     "name": "stdout",
     "output_type": "stream",
     "text": [
      "22943\n",
      "['2017-09-08T00:44:05.000Z' '2017-09-08T00:44:26.000Z'\n",
      " '2017-09-08T00:45:15.000Z' ... '2018-12-31T00:23:11.000Z'\n",
      " '2018-12-31T00:24:10.000Z' '2018-12-31T00:24:49.000Z']\n"
     ]
    }
   ],
   "source": [
    "# ?????????\n",
    "print(len(train['TimeSnap'].unique()))\n",
    "print(train['TimeSnap'].unique())"
   ]
  },
  {
   "cell_type": "code",
   "execution_count": 129,
   "metadata": {},
   "outputs": [
    {
     "name": "stdout",
     "output_type": "stream",
     "text": [
      "94\n",
      "[  8   3   5   2   7  10  -1   0   9  13   4  16   1  -4  -6  14  58  21\n",
      "  23  20  27  11  -3   6  15  46  12  17  -2  -5  -9  24 -10  30  18  -7\n",
      "  32  33  19  37  53  28  25  26  43  52  61  35  34  29  31  36  75  69\n",
      "  -8  50  70  68  40  22  90  44  39  51  47  72  45  48  87  42  41  66\n",
      " -12  71  74  60  59 -14  57  62  63  49 -11  77  54  38  56  64  92  67\n",
      "  97  65  99  78]\n"
     ]
    }
   ],
   "source": [
    "############ target  ##########\n",
    "print(len(train['Yards'].unique()))\n",
    "print(train['Yards'].unique())"
   ]
  },
  {
   "cell_type": "code",
   "execution_count": 130,
   "metadata": {},
   "outputs": [
    {
     "data": {
      "text/plain": [
       "array(['6-0', '6-3', '6-2', '5-11', '6-6', '6-9', '6-4', '6-1', '5-10',\n",
       "       '6-5', '6-7', '5-9', '5-8', '5-7', '6-8', '5-6'], dtype=object)"
      ]
     },
     "execution_count": 130,
     "metadata": {},
     "output_type": "execute_result"
    }
   ],
   "source": [
    "# convert to m or inch\n",
    "train['PlayerHeight'].unique()"
   ]
  },
  {
   "cell_type": "code",
   "execution_count": 131,
   "metadata": {},
   "outputs": [
    {
     "data": {
      "text/plain": [
       "array([212, 288, 270, 245, 206, 252, 190, 193, 208, 197, 308, 185, 265,\n",
       "       335, 325, 225, 210, 183, 205, 310, 300, 301, 254, 315, 237, 307,\n",
       "       255, 260, 213, 320, 230, 321, 305, 248, 216, 215, 195, 350, 202,\n",
       "       250, 242, 176, 238, 199, 192, 203, 275, 302, 232, 207, 246, 345,\n",
       "       316, 200, 259, 234, 330, 204, 218, 209, 324, 295, 194, 191, 251,\n",
       "       331, 267, 303, 184, 217, 311, 220, 309, 167, 314, 258, 235, 239,\n",
       "       352, 188, 240, 268, 296, 253, 280, 346, 186, 227, 211, 313, 224,\n",
       "       233, 272, 294, 257, 336, 241, 198, 319, 285, 266, 196, 261, 340,\n",
       "       328, 221, 312, 201, 304, 219, 187, 179, 290, 332, 222, 293, 160,\n",
       "       262, 223, 326, 327, 236, 228, 347, 318, 244, 264, 249, 263, 322,\n",
       "       269, 214, 226, 278, 247, 279, 177, 229, 317, 341, 299, 287, 178,\n",
       "       256, 298, 231, 180, 297, 306, 274, 292, 182, 243, 291, 380, 174,\n",
       "       329, 273, 168, 175, 286, 281, 338, 169, 323, 173, 334, 277, 342,\n",
       "       271, 284, 189, 159, 170, 289, 358, 351, 153, 181, 282, 283, 339],\n",
       "      dtype=int64)"
      ]
     },
     "execution_count": 131,
     "metadata": {},
     "output_type": "execute_result"
    }
   ],
   "source": [
    "# lbs\n",
    "train['PlayerWeight'].unique()"
   ]
  },
  {
   "cell_type": "code",
   "execution_count": 132,
   "metadata": {},
   "outputs": [
    {
     "data": {
      "text/plain": [
       "array(['12/29/1988', '03/25/1989', '01/21/1989', ..., '12/06/1991',\n",
       "       '11/05/1988', '05/31/1993'], dtype=object)"
      ]
     },
     "execution_count": 132,
     "metadata": {},
     "output_type": "execute_result"
    }
   ],
   "source": [
    "# conver to age\n",
    "train['PlayerBirthDate'].unique()"
   ]
  },
  {
   "cell_type": "code",
   "execution_count": 136,
   "metadata": {
    "scrolled": true
   },
   "outputs": [
    {
     "name": "stdout",
     "output_type": "stream",
     "text": [
      "301\n",
      "['Tennessee' 'Miami' 'Georgia' 'Texas' 'Newberry' 'Auburn' 'Oregon' 'Rice'\n",
      " 'Brigham Young' 'Washington' 'Mississippi State' 'Texas Tech' 'Arizona'\n",
      " 'Texas Christian' 'Colorado' 'Michigan' 'Monmouth (N.J.)' 'Oregon State'\n",
      " 'Wisconsin' 'Georgia Tech' 'North Carolina State' 'Central Michigan'\n",
      " 'LSU' 'Southern Mississippi' 'Brown' 'Clemson' 'Florida' 'Utah'\n",
      " 'California' 'Cincinnati' 'Wisconsin-Milwaukee' 'McGill'\n",
      " 'South Dakota State' 'Missouri' 'Penn State' 'Toledo' 'Rutgers' 'Alabama'\n",
      " 'South Carolina' 'West Alabama' 'Arkansas' 'Stanford' 'Nebraska'\n",
      " 'Connecticut' 'Georgia State' 'Arizona State' 'Houston' 'Pittsburgh'\n",
      " 'UCLA' 'Minnesota' 'Vanderbilt' 'Abilene Christian' 'Chattanooga'\n",
      " 'Temple' 'Troy' 'Arkansas State' 'Louisiana State' 'Florida State'\n",
      " 'Southern California' 'Ohio State' 'Louisville' 'Tulsa' 'Virginia Tech'\n",
      " 'Louisiana Tech' 'East Carolina' 'Columbia' 'USC' 'Hillsdale'\n",
      " 'Coastal Carolina' 'Colorado State-Pueblo' 'Wagner' 'West Georgia'\n",
      " 'Sam Houston State' 'Southern Methodist' 'Kent State' 'Stony Brook'\n",
      " 'Southern Arkansas' 'North Dakota State' 'Iowa State' 'Iowa' 'Wyoming'\n",
      " 'Tulane' 'Bethune-Cookman' 'North Carolina' 'Boston College'\n",
      " 'Valdosta State' 'Texas A&M' 'San Jose State' 'Texas-El Paso'\n",
      " 'Mary Hardin-Baylor' 'Kentucky' 'Regina, Can.' 'Indiana' 'Drake'\n",
      " 'Memphis' 'Southeastern Louisiana' 'Purdue' 'Central Florida'\n",
      " 'Nebraska-Omaha' 'South Dakota' 'Mississippi' 'Michigan State'\n",
      " 'Boise State' 'West Virginia' 'Kansas State' 'Baylor'\n",
      " 'North Carolina A&T' 'Ashland' 'San Diego State' 'Citadel'\n",
      " 'Grand Valley State' 'Nicholls State' 'Oklahoma' 'Missouri Southern'\n",
      " 'Virginia' 'Notre Dame' 'Delaware' 'Northern Iowa' 'Towson' 'Duke'\n",
      " 'Illinois' 'Utah State' 'Maine' 'Chadron State' 'Portland State'\n",
      " 'Samford' 'Wake Forest' 'Tennessee State' 'Ohio U.'\n",
      " 'South Carolina State' 'Maryland' 'Cornell' 'Nevada' 'Alabama State'\n",
      " 'Princeton' 'Miami (Fla.)' 'James Madison' 'Miami (Ohio)' 'Army'\n",
      " 'Oklahoma State' 'Florida Atlantic' 'Georgia Southern' 'Montana'\n",
      " 'North Carolina-Charlotte' 'Idaho' 'Pittsburg State' 'New Mexico'\n",
      " 'Presbyterian' 'Syracuse' 'Eastern Michigan' 'California-Irvine' 'Howard'\n",
      " 'Northern Illinois' 'Nevada-Las Vegas' 'Southern Utah'\n",
      " 'Alabama-Birmingham' 'Delaware State' 'Appalachian State'\n",
      " 'Tiffin University' 'Kentucky Wesleyan' 'Missouri State'\n",
      " 'Northwestern (Ia)' 'Fresno State' 'Florida International'\n",
      " 'Middle Tennessee' 'Buffalo' 'Ohio' 'Colorado State' 'Ouachita Baptist'\n",
      " 'Central Missouri' 'Marshall' 'Middle Tennessee State' 'Western Michigan'\n",
      " 'Western Kentucky' 'Greenville' 'Miami, O.' 'Stillman' 'South Florida'\n",
      " 'New Hampshire' 'Washington State' 'Texas State' 'South Alabama'\n",
      " 'Louisiana Coll.' 'Mars Hill' 'West Texas A&M' 'Northwest Missouri State'\n",
      " 'Eastern Washington' 'Beloit' 'New Mexico State' 'Bloomsburg'\n",
      " 'Missouri Western State' 'Northwestern' 'Mount Union' 'Slippery Rock'\n",
      " 'Harvard' 'Canisius' 'North Alabama' 'William Penn'\n",
      " 'Saginaw Valley State' 'Bowling Green State' 'Richmond'\n",
      " 'Texas-San Antonio' 'Idaho State' 'Shippensburg' 'Michigan Tech'\n",
      " 'Minn. State-Mankato' 'Manitoba, Can.' 'Augustana, S.D.' 'North Texas'\n",
      " 'Akron' 'Western Oregon' 'Kansas' 'Illinois State' 'Sacramento State'\n",
      " 'Missouri Southern State' 'Bucknell' 'Midwestern State'\n",
      " 'Albany State, Ga.' 'Grambling State' 'Azusa Pacific' 'Hobart' 'Hampton'\n",
      " 'Eastern Kentucky' 'William & Mary' 'Southern Illinois' 'Henderson State'\n",
      " 'Winston-Salem State' 'Furman' 'Monmouth, N.J.' 'Louisiana-Lafayette'\n",
      " 'Villanova' 'Washburn' 'Northwestern State-Louisiana' 'Air Force'\n",
      " 'St. Francis (PA)' 'Lindenwood' 'North Carolina Central' 'Belhaven'\n",
      " 'Marist' 'Western State, Colo.' 'California, Pa.' 'Marian (Ind.)'\n",
      " 'Laval, Can.' 'Massachusetts' 'Youngstown State' 'Arkansas-Pine Bluff'\n",
      " 'Ball State' 'Grambling' 'Bowie State' 'Montana State'\n",
      " 'Jacksonville State' 'Alabama A&M' 'Eastern Oregon' 'Wofford'\n",
      " 'Eastern Illinois' 'Lamar' 'San Diego' 'North Greenville' 'Pennsylvania'\n",
      " 'Holy Cross' 'Old Dominion' 'Liberty' 'Shepherd' 'Ferris State'\n",
      " 'Cal Poly' 'Stetson' 'Northeast Mississippi CC' 'Jacksonville' 'Hawaii'\n",
      " 'East Central' 'Yale' 'Weber State' 'Incarnate Word (Tex.)' 'Limestone'\n",
      " 'Tennessee-Chattanooga' 'Assumption' 'Concordia-St. Paul' 'Fordham'\n",
      " 'Fort Hays State' 'Virginia State' 'Stephen F. Austin St.'\n",
      " 'Western Carolina' 'Concordia, Minn' 'Navy' 'No College'\n",
      " 'Virginia Commonwealth' 'Central Arkansas' 'Alcorn State' 'Albany'\n",
      " 'Prairie View' 'Wis.-Platteville' 'Indiana State' 'Southern University'\n",
      " 'Western Illinois' 'Southeast Missouri' 'Frostburg State'\n",
      " 'Humboldt State' 'Wisconsin-Whitewater' 'Arkansas-Monticello'\n",
      " 'Southern Connecticut State' 'Texas Southern']\n",
      "301\n"
     ]
    }
   ],
   "source": [
    "# 소문자로 바꾸는건 숫자 차이 없는걸로 보사ㅓ 다른거 없을듯?\n",
    "print(len(train['PlayerCollegeName'].unique()))\n",
    "print(train['PlayerCollegeName'].unique())\n",
    "\n",
    "def low(a):\n",
    "    return a.lower()\n",
    "\n",
    "print(len(list(map(low, train['PlayerCollegeName'].unique()))))"
   ]
  },
  {
   "cell_type": "code",
   "execution_count": 4,
   "metadata": {},
   "outputs": [
    {
     "data": {
      "text/plain": [
       "<matplotlib.axes._subplots.AxesSubplot at 0x20e34660080>"
      ]
     },
     "execution_count": 4,
     "metadata": {},
     "output_type": "execute_result"
    },
    {
     "data": {
      "image/png": "[encoded data removed]",
      "text/plain": [
       "<Figure size 432x288 with 1 Axes>"
      ]
     },
     "metadata": {
      "needs_background": "light"
     },
     "output_type": "display_data"
    }
   ],
   "source": [
    "sns.countplot(train['PlayerCollegeName'])"
   ]
  },
  {
   "cell_type": "code",
   "execution_count": 126,
   "metadata": {},
   "outputs": [
    {
     "name": "stdout",
     "output_type": "stream",
     "text": [
      "17\n",
      "[ 1  2  3  4  5  6  7  8  9 10 11 12 13 14 15 16 17]\n"
     ]
    }
   ],
   "source": [
    "# season week\n",
    "print(len(train['Week'].unique()))\n",
    "print(train['Week'].unique())"
   ]
  },
  {
   "cell_type": "code",
   "execution_count": 127,
   "metadata": {},
   "outputs": [
    {
     "name": "stdout",
     "output_type": "stream",
     "text": [
      "55\n",
      "['Gillette Stadium' 'New Era Field' 'Soldier Field' 'Paul Brown Stadium'\n",
      " 'FirstEnergy' 'Ford Field' 'NRG Stadium' 'Nissan Stadium' 'FedExField'\n",
      " 'Los Angeles Memorial Coliseum' 'Lambeau Field' 'Levis Stadium'\n",
      " 'AT&T Stadium' 'U.S. Bank Stadium' 'Sports Authority Field at Mile High'\n",
      " 'M&T Bank Stadium' 'Bank of America Stadium' 'Lucas Oil Stadium'\n",
      " 'Everbank Field' 'Arrowhead Stadium' 'Mercedes-Benz Superdome'\n",
      " 'Heinz Field' 'Raymond James Stadium' 'StubHub Center'\n",
      " 'Oakland-Alameda County Coliseum' 'CenturyLink Field'\n",
      " 'Mercedes-Benz Dome' 'MetLife Stadium' 'Wembley Stadium'\n",
      " 'Lincoln Financial Field' 'University of Phoenix Stadium'\n",
      " 'Mercedes-Benz Stadium' 'M&T Stadium' 'First Energy Stadium' 'NRG'\n",
      " 'MetLife' 'CenturyLink' 'FirstEnergy Stadium' 'Hard Rock Stadium'\n",
      " 'EverBank Field' 'Twickenham' 'Twickenham Stadium' 'Estadio Azteca'\n",
      " 'M & T Bank Stadium' 'Oakland Alameda-County Coliseum'\n",
      " 'State Farm Stadium' 'Broncos Stadium At Mile High'\n",
      " 'Los Angeles Memorial Coliesum' 'Broncos Stadium at Mile High'\n",
      " 'TIAA Bank Field' 'CenturyField' 'FirstEnergyStadium' 'Paul Brown Stdium'\n",
      " 'Lambeau field' 'Metlife Stadium']\n"
     ]
    }
   ],
   "source": [
    "# 이건 홈팀 구분하면 큰 의미 없을 듯\n",
    "print(len(train['Stadium'].unique()))\n",
    "print(train['Stadium'].unique())"
   ]
  },
  {
   "cell_type": "code",
   "execution_count": 5,
   "metadata": {},
   "outputs": [
    {
     "data": {
      "text/plain": [
       "<matplotlib.axes._subplots.AxesSubplot at 0x20e346a1908>"
      ]
     },
     "execution_count": 5,
     "metadata": {},
     "output_type": "execute_result"
    },
    {
     "data": {
      "image/png": "[encoded data removed]",
      "text/plain": [
       "<Figure size 432x288 with 1 Axes>"
      ]
     },
     "metadata": {
      "needs_background": "light"
     },
     "output_type": "display_data"
    }
   ],
   "source": [
    "sns.countplot(train['Stadium'])"
   ]
  },
  {
   "cell_type": "code",
   "execution_count": 141,
   "metadata": {},
   "outputs": [
    {
     "name": "stdout",
     "output_type": "stream",
     "text": [
      "30\n",
      "['Outdoor' 'Outdoors' 'Indoors' 'Retractable Roof' 'Indoor'\n",
      " 'Retr. Roof-Closed' 'Open' nan 'Indoor, Open Roof' 'Retr. Roof - Closed'\n",
      " 'Outddors' 'Dome' 'Domed, closed' 'Indoor, Roof Closed'\n",
      " 'Retr. Roof Closed' 'Outdoor Retr Roof-Open' 'Closed Dome' 'Oudoor'\n",
      " 'Ourdoor' 'Dome, closed' 'Retr. Roof-Open' 'Heinz Field' 'Outdor'\n",
      " 'Retr. Roof - Open' 'Domed, Open' 'Domed, open' 'Cloudy' 'Bowl' 'Outside'\n",
      " 'Domed']\n"
     ]
    }
   ],
   "source": [
    "# 실내/외 구분 >> 날씨영향으로 영향있을거같음\n",
    "print(len(train['StadiumType'].unique()))\n",
    "print(train['StadiumType'].unique())"
   ]
  },
  {
   "cell_type": "code",
   "execution_count": 140,
   "metadata": {
    "scrolled": true
   },
   "outputs": [
    {
     "name": "stdout",
     "output_type": "stream",
     "text": [
      "60\n",
      "['Foxborough, MA' 'Orchard Park NY' 'Chicago. IL' 'Cincinnati, Ohio'\n",
      " 'Cleveland, Ohio' 'Detroit, MI' 'Houston, Texas' 'Nashville, TN'\n",
      " 'Landover, MD' 'Los Angeles, Calif.' 'Green Bay, WI' 'Santa Clara, CA'\n",
      " 'Arlington, Texas' 'Minneapolis, MN' 'Denver, CO' 'Baltimore, Md.'\n",
      " 'Charlotte, North Carolina' 'Indianapolis, Ind.' 'Jacksonville, FL'\n",
      " 'Kansas City, MO' 'New Orleans, LA' 'Pittsburgh' 'Tampa, FL' 'Carson, CA'\n",
      " 'Oakland, CA' 'Seattle, WA' 'Atlanta, GA' 'East Rutherford, NJ'\n",
      " 'London, England' 'Chicago, IL' 'Detroit' 'Philadelphia, Pa.'\n",
      " 'Glendale, AZ' 'Cleveland, OH' 'Foxborough, Ma' 'E. Rutherford, NJ'\n",
      " 'Miami Gardens, Fla.' 'Houston, TX' 'London' 'New Orleans, La.'\n",
      " 'Mexico City' 'Baltimore, Maryland' 'Arlington, TX' 'Jacksonville, Fl'\n",
      " 'Jacksonville, Florida' 'Pittsburgh, PA' 'Charlotte, NC' 'Cleveland,Ohio'\n",
      " 'East Rutherford, N.J.' 'Philadelphia, PA' 'Seattle' 'Cleveland Ohio'\n",
      " 'Miami Gardens, FLA' 'Orchard Park, NY' 'Cleveland' 'Cincinnati, OH'\n",
      " 'Kansas City,  MO' 'Jacksonville Florida' 'Los Angeles, CA' 'New Orleans']\n",
      "60\n"
     ]
    },
    {
     "data": {
      "text/plain": [
       "['foxborough, ma',\n",
       " 'orchard park ny',\n",
       " 'chicago. il',\n",
       " 'cincinnati, ohio',\n",
       " 'cleveland, ohio',\n",
       " 'detroit, mi',\n",
       " 'houston, texas',\n",
       " 'nashville, tn',\n",
       " 'landover, md',\n",
       " 'los angeles, calif.',\n",
       " 'green bay, wi',\n",
       " 'santa clara, ca',\n",
       " 'arlington, texas',\n",
       " 'minneapolis, mn',\n",
       " 'denver, co',\n",
       " 'baltimore, md.',\n",
       " 'charlotte, north carolina',\n",
       " 'indianapolis, ind.',\n",
       " 'jacksonville, fl',\n",
       " 'kansas city, mo',\n",
       " 'new orleans, la',\n",
       " 'pittsburgh',\n",
       " 'tampa, fl',\n",
       " 'carson, ca',\n",
       " 'oakland, ca',\n",
       " 'seattle, wa',\n",
       " 'atlanta, ga',\n",
       " 'east rutherford, nj',\n",
       " 'london, england',\n",
       " 'chicago, il',\n",
       " 'detroit',\n",
       " 'philadelphia, pa.',\n",
       " 'glendale, az',\n",
       " 'cleveland, oh',\n",
       " 'foxborough, ma',\n",
       " 'e. rutherford, nj',\n",
       " 'miami gardens, fla.',\n",
       " 'houston, tx',\n",
       " 'london',\n",
       " 'new orleans, la.',\n",
       " 'mexico city',\n",
       " 'baltimore, maryland',\n",
       " 'arlington, tx',\n",
       " 'jacksonville, fl',\n",
       " 'jacksonville, florida',\n",
       " 'pittsburgh, pa',\n",
       " 'charlotte, nc',\n",
       " 'cleveland,ohio',\n",
       " 'east rutherford, n.j.',\n",
       " 'philadelphia, pa',\n",
       " 'seattle',\n",
       " 'cleveland ohio',\n",
       " 'miami gardens, fla',\n",
       " 'orchard park, ny',\n",
       " 'cleveland',\n",
       " 'cincinnati, oh',\n",
       " 'kansas city,  mo',\n",
       " 'jacksonville florida',\n",
       " 'los angeles, ca',\n",
       " 'new orleans']"
      ]
     },
     "execution_count": 140,
     "metadata": {},
     "output_type": "execute_result"
    }
   ],
   "source": [
    "# 왜 팀숫자랑 다름?\n",
    "print(len(train['Location'].unique()))\n",
    "print(train['Location'].unique())\n",
    "\n",
    "print(len(list(map(low, train['Location'].unique()))))\n",
    "list(map(low, train['Location'].unique()))"
   ]
  },
  {
   "cell_type": "code",
   "execution_count": 143,
   "metadata": {},
   "outputs": [
    {
     "name": "stdout",
     "output_type": "stream",
     "text": [
      "20\n",
      "['Field Turf' 'A-Turf Titan' 'Grass' 'UBU Sports Speed S5-M' 'Artificial'\n",
      " 'DD GrassMaster' 'Natural Grass' 'UBU Speed Series-S5-M' 'FieldTurf'\n",
      " 'FieldTurf 360' 'Natural grass' 'grass' 'Natural' 'Artifical'\n",
      " 'FieldTurf360' 'Naturall Grass' 'Field turf' 'SISGrass'\n",
      " 'Twenty-Four/Seven Turf' 'natural grass']\n"
     ]
    }
   ],
   "source": [
    "print(len(train['Turf'].unique()))\n",
    "print(train['Turf'].unique())"
   ]
  },
  {
   "cell_type": "code",
   "execution_count": 142,
   "metadata": {},
   "outputs": [
    {
     "name": "stdout",
     "output_type": "stream",
     "text": [
      "62\n",
      "['Clear and warm' 'Sun & clouds' 'Sunny' 'Controlled Climate'\n",
      " 'Mostly Sunny' 'Clear' nan 'Indoor' 'Mostly Cloudy' 'Mostly Coudy'\n",
      " 'Partly sunny' 'Partly Cloudy' 'Cloudy' 'Sunny, highs to upper 80s'\n",
      " 'Indoors' 'Light Rain' 'Showers' 'Partly cloudy' 'Partly Sunny'\n",
      " '30% Chance of Rain'\n",
      " 'Cloudy with periods of rain, thunder possible. Winds shifting to WNW, 10-20 mph.'\n",
      " 'Rain' 'Cloudy, fog started developing in 2nd quarter' 'Coudy'\n",
      " 'Rain likely, temps in low 40s.' 'Cold' 'N/A (Indoors)' 'Clear skies'\n",
      " 'cloudy' 'Fair' 'Mostly cloudy' 'Cloudy, chance of rain'\n",
      " 'Heavy lake effect snow' 'Party Cloudy'\n",
      " 'Cloudy, light snow accumulating 1-3\"' 'Cloudy and cold' 'Snow' 'Hazy'\n",
      " 'Scattered Showers' 'Cloudy and Cool' 'N/A Indoor' 'Rain Chance 40%'\n",
      " 'Clear and sunny' 'Mostly sunny' 'Sunny and warm' 'Partly clear'\n",
      " 'Cloudy, 50% change of rain' 'Clear and Sunny' 'Sunny, Windy'\n",
      " 'Clear and Cool' 'Sunny and clear' 'Mostly Sunny Skies' 'Partly Clouidy'\n",
      " 'Clear Skies' 'Sunny Skies' 'Overcast' 'T: 51; H: 55; W: NW 10 mph'\n",
      " 'Cloudy, Rain' 'Rain shower' 'Clear and cold' 'Rainy' 'Sunny and cold']\n"
     ]
    }
   ],
   "source": [
    "# cleaning 필요\n",
    "## 일부 노트북에서는 수치화 >> ex) sunny -> 3 snow -> -3\n",
    "print(len(train['GameWeather'].unique()))\n",
    "print(train['GameWeather'].unique())"
   ]
  },
  {
   "cell_type": "code",
   "execution_count": 145,
   "metadata": {},
   "outputs": [
    {
     "name": "stdout",
     "output_type": "stream",
     "text": [
      "87\n",
      "[ 77.  53.  57.  43.  70.  49.  50.  54.  38.   0.  39.  78.  69.  60.\n",
      "  66.  59.  95.  75.  64.  62.  68.  41.  72.  80.  42.  51.  56.  48.\n",
      "  45.  97.  44.  25.  52.  37.  26.  55.  94.  90.  71.  67.  91.  88.\n",
      "  87.  85.  17. 100.  15.  29.  84.  47.  93.  63.  86.  74.  92.  89.\n",
      "  82.  58.  32.  46.  40.  31.  24.  10.  36.  73.  30.  35.   7.   8.\n",
      "  83.  76.  14.  61.  65.  13.  96.  nan  79.  19.  98.  27.  34.  28.\n",
      "  20.  22.  81.]\n"
     ]
    }
   ],
   "source": [
    "# 날짜랑 엮어서 날씨변화 및 효과 파악 필요할 듯\n",
    "print(len(train['Humidity'].unique()))\n",
    "print(train['Humidity'].unique())"
   ]
  },
  {
   "cell_type": "code",
   "execution_count": 146,
   "metadata": {},
   "outputs": [
    {
     "name": "stdout",
     "output_type": "stream",
     "text": [
      "41\n",
      "['8' '6' '10' '9' '11' nan '7' '5' '2' '12' '1' '3' '4' '13' '0' 'SSW'\n",
      " '14' '15' '17' '18' '16' '11-17' '23' '14-23' '13 MPH' '24' '12-22'\n",
      " '4 MPh' '15 gusts up to 25' '10MPH' '10mph' '22' 'E' '7 MPH' 'Calm'\n",
      " '6 mph' '19' 'SE' '20' '10-20' '12mph']\n"
     ]
    }
   ],
   "source": [
    "# SSW 무엇? 밀린 것인가 실제인가\n",
    "print(len(train['WindSpeed'].unique()))\n",
    "print(train['WindSpeed'].unique())"
   ]
  },
  {
   "cell_type": "code",
   "execution_count": 147,
   "metadata": {},
   "outputs": [
    {
     "name": "stdout",
     "output_type": "stream",
     "text": [
      "54\n",
      "['SW' 'NNE' 'SE' 'East' nan 'NE' 'North' 'S' 'Northwest' 'SouthWest' 'ENE'\n",
      " 'ESE' 'SSW' 'NW' 'Northeast' 'From S' 'W' 'South' 'West-Southwest' 'E'\n",
      " '13' 'N' 'NNW' 'South Southeast' 'SSE' 'West' 'WSW' 'From SW' 'WNW' 's'\n",
      " 'NorthEast' 'from W' 'W-NW' 'South Southwest' 'Southeast' 'From WSW'\n",
      " 'West Northwest' 'Calm' 'From SSE' 'From W' 'East North East' 'From ESE'\n",
      " 'EAST' 'East Southeast' 'From SSW' '8' 'North East' 'Southwest'\n",
      " 'North/Northwest' 'From NNE' '1' 'N-NE' 'W-SW' 'From NNW']\n"
     ]
    }
   ],
   "source": [
    "# 파이값으로 변경가능할듯\n",
    "print(len(train['WindDirection'].unique()))\n",
    "print(train['WindDirection'].unique())"
   ]
  },
  {
   "cell_type": "code",
   "execution_count": null,
   "metadata": {},
   "outputs": [],
   "source": [
    "# 일부 노트북에서는 바람 영향 무시\n",
    "## cleanng 준비 완료?"
   ]
  }
 ],
 "metadata": {
  "kernelspec": {
   "display_name": "Python 3",
   "language": "python",
   "name": "python3"
  },
  "language_info": {
   "codemirror_mode": {
    "name": "ipython",
    "version": 3
   },
   "file_extension": ".py",
   "mimetype": "text/x-python",
   "name": "python",
   "nbconvert_exporter": "python",
   "pygments_lexer": "ipython3",
   "version": "3.6.9"
  },
  "toc": {
   "base_numbering": 1,
   "nav_menu": {},
   "number_sections": true,
   "sideBar": true,
   "skip_h1_title": false,
   "title_cell": "Table of Contents",
   "title_sidebar": "Contents",
   "toc_cell": false,
   "toc_position": {},
   "toc_section_display": true,
   "toc_window_display": false
  }
 },
 "nbformat": 4,
 "nbformat_minor": 2
}
