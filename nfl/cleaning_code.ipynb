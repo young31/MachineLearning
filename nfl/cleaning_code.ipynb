{
 "cells": [
  {
   "cell_type": "code",
   "execution_count": 1,
   "metadata": {},
   "outputs": [],
   "source": [
    "import pandas as pd\n",
    "import numpy as np\n",
    "import seaborn as sns"
   ]
  },
  {
   "cell_type": "code",
   "execution_count": 2,
   "metadata": {},
   "outputs": [],
   "source": [
    "train = pd.read_csv('input/train.csv',dtype={'WindSpeed': 'object'})\n",
    "tr = train.copy()"
   ]
  },
  {
   "cell_type": "code",
   "execution_count": 3,
   "metadata": {},
   "outputs": [],
   "source": [
    "map_abbr = {'ARI': 'ARZ', 'BAL': 'BLT', 'CLE': 'CLV', 'HOU': 'HST'}\n",
    "def map_abb(a):\n",
    "    global map_abbr\n",
    "    if a in map_abbr.keys():\n",
    "        return map_abbr[a]\n",
    "    else:\n",
    "        return a\n",
    "    \n",
    "train['PossessionTeam'] = train['PossessionTeam'].map(map_abb)\n",
    "train['HomeTeamAbbr'] = train['HomeTeamAbbr'].map(map_abb)\n",
    "train['VisitorTeamAbbr'] = train['VisitorTeamAbbr'].map(map_abb)"
   ]
  },
  {
   "cell_type": "code",
   "execution_count": 4,
   "metadata": {},
   "outputs": [],
   "source": [
    "train['OffenseFormation'] = train['OffenseFormation'].replace([np.nan, 'EMPTY'], 'NAN')"
   ]
  },
  {
   "cell_type": "code",
   "execution_count": 5,
   "metadata": {},
   "outputs": [],
   "source": [
    "train['DefendersInTheBox'] = train['DefendersInTheBox'].replace(np.nan, 0)"
   ]
  },
  {
   "cell_type": "code",
   "execution_count": 6,
   "metadata": {
    "scrolled": true
   },
   "outputs": [],
   "source": [
    "train['PlayerHeight'] = train['PlayerHeight'].apply(lambda x: 12*int(x.split('-')[0])+int(x.split('-')[1]))"
   ]
  },
  {
   "cell_type": "code",
   "execution_count": 7,
   "metadata": {},
   "outputs": [],
   "source": [
    "# train['PlayerHeight'] = train['PlayerHeight'] * 2.54"
   ]
  },
  {
   "cell_type": "code",
   "execution_count": 8,
   "metadata": {},
   "outputs": [],
   "source": [
    "# cross validation 필요\n",
    "stadium = {\n",
    "    'Gillette Stadium': ['Gillette Stadium'],\n",
    "    'New Era Field': '',\n",
    "    'Soldier Field': '',\n",
    "    'Paul Brown Stadium': 'Paul Brown Stdium',\n",
    "    'First Energy': ['First Energy Stadium', 'FirstEnergy Stadium', 'FirstEnergyStadium','FirstEnergy' ],\n",
    "    'Ford Field': '', \n",
    "    'NRG Stadium': 'NRG',\n",
    "    'Nissan Stadium': '',\n",
    "    'Fedex Field': 'FedexField',\n",
    "    'LA Memorial': ['Los Angeles Memorial Coliseum', 'Los Angeles Memorial Coliesum'],\n",
    "    'Lambeau Field': 'Lambeau field',\n",
    "    'Levis Stadium': '',\n",
    "    'AT&T Stadium': '',\n",
    "    'U.S. Bank Stadium': '',\n",
    "    'M&T Bank Stadium': ['M&T Stadium', 'M & T Bank Stadium'],\n",
    "    'BoA Stadium': ['Bank of America Stadium'],\n",
    "    'Lucas Oil Stadium': '',\n",
    "    'Arrowhead Stadium': '',\n",
    "    'Mercedes-Benz Dome': ['Mercedes-Benz Superdome', 'Mercedes-Benz Dome', 'Mercedes-Benz Stadium'],\n",
    "    'Heinz Field': '',\n",
    "    'Raymond James Stadium': '',\n",
    "    'StubHub Center': '',\n",
    "    'Oakland-Alameda County Coliseum': 'Oakland Alameda-County Coliseum',\n",
    "    'CenturyLink Field': ['CenturyLink', 'CenturyField'],\n",
    "    'MetLife Stadium': ['MetLife', 'Metlife Stadium'],\n",
    "    'Wembley Stadium': '',\n",
    "    'Lincoln Financial Field': '',\n",
    "    'Hard Rock Stadium': '',\n",
    "    'State Farm Stadium': ['University of Phoenix Stadium'],\n",
    "    'TIAA Bank Field': ['Everbank Field', 'EverBank Field'],\n",
    "    'Estadio Azteca': '',\n",
    "    'Empower Field': ['Broncos Stadium At Mile High', 'Broncos Stadium at Mile High', 'Sports Authority MA', 'Sports Authority Field at Mile High'],\n",
    "    'Twickenham': 'Twickenham Stadium'\n",
    "}\n",
    "\n",
    "def stadium_map(a):\n",
    "    global stadium\n",
    "    for i in range(len(stadium)):\n",
    "        if a in stadium[list(stadium.keys())[i]]:\n",
    "            return list(stadium.keys())[i]\n",
    "            break\n",
    "    else:\n",
    "        return a\n",
    "    \n",
    "train['Stadium'] = train['Stadium'].map(stadium_map)"
   ]
  },
  {
   "cell_type": "code",
   "execution_count": 9,
   "metadata": {},
   "outputs": [
    {
     "name": "stdout",
     "output_type": "stream",
     "text": [
      "['AT&T Stadium', 'Arrowhead Stadium', 'BoA Stadium', 'CenturyLink Field', 'Empower Field', 'Estadio Azteca', 'FedExField', 'First Energy', 'Ford Field', 'Gillette Stadium', 'Hard Rock Stadium', 'Heinz Field', 'LA Memorial', 'Lambeau Field', 'Levis Stadium', 'Lincoln Financial Field', 'Lucas Oil Stadium', 'M&T Bank Stadium', 'Mercedes-Benz Dome', 'MetLife Stadium', 'NRG Stadium', 'New Era Field', 'Nissan Stadium', 'Oakland-Alameda County Coliseum', 'Paul Brown Stadium', 'Raymond James Stadium', 'Soldier Field', 'State Farm Stadium', 'StubHub Center', 'TIAA Bank Field', 'Twickenham', 'U.S. Bank Stadium', 'Wembley Stadium']\n",
      "\n",
      "['AT&T Stadium', 'Arrowhead Stadium', 'BoA Stadium', 'CenturyLink Field', 'Empower Field', 'Estadio Azteca', 'Fedex Field', 'First Energy', 'Ford Field', 'Gillette Stadium', 'Hard Rock Stadium', 'Heinz Field', 'LA Memorial', 'Lambeau Field', 'Levis Stadium', 'Lincoln Financial Field', 'Lucas Oil Stadium', 'M&T Bank Stadium', 'Mercedes-Benz Dome', 'MetLife Stadium', 'NRG Stadium', 'New Era Field', 'Nissan Stadium', 'Oakland-Alameda County Coliseum', 'Paul Brown Stadium', 'Raymond James Stadium', 'Soldier Field', 'State Farm Stadium', 'StubHub Center', 'TIAA Bank Field', 'Twickenham', 'U.S. Bank Stadium', 'Wembley Stadium']\n"
     ]
    }
   ],
   "source": [
    "print(sorted(train['Stadium'].unique()))\n",
    "print()\n",
    "print(sorted(list(stadium.keys())))"
   ]
  },
  {
   "cell_type": "code",
   "execution_count": 10,
   "metadata": {},
   "outputs": [
    {
     "data": {
      "text/plain": [
       "33"
      ]
     },
     "execution_count": 10,
     "metadata": {},
     "output_type": "execute_result"
    }
   ],
   "source": [
    "len(train['Stadium'].unique())\n",
    "## 몇개 안됐나봄"
   ]
  },
  {
   "cell_type": "code",
   "execution_count": 11,
   "metadata": {},
   "outputs": [
    {
     "data": {
      "text/plain": [
       "33"
      ]
     },
     "execution_count": 11,
     "metadata": {},
     "output_type": "execute_result"
    }
   ],
   "source": [
    "len(stadium)"
   ]
  },
  {
   "cell_type": "code",
   "execution_count": 12,
   "metadata": {},
   "outputs": [
    {
     "data": {
      "text/plain": [
       "<matplotlib.axes._subplots.AxesSubplot at 0x2065bb9c940>"
      ]
     },
     "execution_count": 12,
     "metadata": {},
     "output_type": "execute_result"
    },
    {
     "data": {
      "image/png": "[encoded data removed]",
      "text/plain": [
       "<Figure size 432x288 with 1 Axes>"
      ]
     },
     "metadata": {
      "needs_background": "light"
     },
     "output_type": "display_data"
    }
   ],
   "source": [
    "sns.countplot(train['Stadium'])"
   ]
  },
  {
   "cell_type": "code",
   "execution_count": 13,
   "metadata": {},
   "outputs": [
    {
     "data": {
      "text/plain": [
       "MetLife Stadium                    33572\n",
       "Mercedes-Benz Dome                 30800\n",
       "Levis Stadium                      17402\n",
       "Gillette Stadium                   17248\n",
       "New Era Field                      17204\n",
       "M&T Bank Stadium                   17094\n",
       "CenturyLink Field                  16962\n",
       "Paul Brown Stadium                 16588\n",
       "Lucas Oil Stadium                  16544\n",
       "Empower Field                      16478\n",
       "State Farm Stadium                 16434\n",
       "U.S. Bank Stadium                  16170\n",
       "AT&T Stadium                       15950\n",
       "NRG Stadium                        15884\n",
       "Nissan Stadium                     15862\n",
       "FedExField                         15356\n",
       "Arrowhead Stadium                  15334\n",
       "Soldier Field                      15334\n",
       "Lambeau Field                      15312\n",
       "Ford Field                         15246\n",
       "Heinz Field                        14850\n",
       "First Energy                       14828\n",
       "Raymond James Stadium              14696\n",
       "LA Memorial                        14674\n",
       "StubHub Center                     14630\n",
       "Hard Rock Stadium                  14564\n",
       "Oakland-Alameda County Coliseum    14564\n",
       "Lincoln Financial Field            14476\n",
       "TIAA Bank Field                    14124\n",
       "BoA Stadium                        14036\n",
       "Wembley Stadium                     4576\n",
       "Twickenham                          2068\n",
       "Estadio Azteca                       902\n",
       "Name: Stadium, dtype: int64"
      ]
     },
     "execution_count": 13,
     "metadata": {},
     "output_type": "execute_result"
    }
   ],
   "source": [
    "train['Stadium'].value_counts()"
   ]
  },
  {
   "cell_type": "code",
   "execution_count": 14,
   "metadata": {},
   "outputs": [],
   "source": [
    "# stadium type 상의"
   ]
  },
  {
   "cell_type": "code",
   "execution_count": 15,
   "metadata": {},
   "outputs": [],
   "source": [
    "turf = {\n",
    "    'Field Turf': ['FieldTurf', 'FieldTurf 360', 'FieldTurf360', 'Field turf'],\n",
    "    'A_Turf': '',\n",
    "    'Grass': ['grass'],\n",
    "    'UBU': ['UBU Sports Speed S5-M', 'UBU Speed Series-S5-M'],\n",
    "    'Artificial': ['Artifical'],\n",
    "    'DD': ['DD GrassMaster'],\n",
    "    'Natural': ['Natural Grass', 'Natural grass', 'Natural', 'Naturall Grass', 'natural grass'],\n",
    "    'SIS': ['SISGrass'],\n",
    "    'Twenty-Four/Seven Turf':'',\n",
    "}\n",
    "\n",
    "def turf_map(a):\n",
    "    global turf\n",
    "    for i in range(len(turf)):\n",
    "        if a in turf[list(turf.keys())[i]]:\n",
    "            return list(turf.keys())[i]\n",
    "    else:\n",
    "        return a\n",
    "    \n"
   ]
  },
  {
   "cell_type": "code",
   "execution_count": 16,
   "metadata": {},
   "outputs": [
    {
     "data": {
      "text/plain": [
       "array(['Field Turf', 'A-Turf Titan', 'Grass', 'UBU', 'Artificial', 'DD',\n",
       "       'Natural', 'SIS', 'Twenty-Four/Seven Turf'], dtype=object)"
      ]
     },
     "execution_count": 16,
     "metadata": {},
     "output_type": "execute_result"
    }
   ],
   "source": [
    "train['Turf'].unique()"
   ]
  },
  {
   "cell_type": "code",
   "execution_count": 17,
   "metadata": {},
   "outputs": [],
   "source": [
    "def low(a):\n",
    "    return a.lower()\n",
    "train['WindSpeed'] = train['WindSpeed'].replace(np.nan, '0').map(low)\n",
    "\n",
    "train['WindSpeed'] = train['WindSpeed'].replace([np.nan, 'calm', 'ssw', 'e', 'se'], '0')\n",
    "train['WindSpeed'] = train['WindSpeed'].replace('mph', '')\n",
    "train['WindSpeed'] = train['WindSpeed'].replace(' gusts up to ', '-')\n",
    "\n",
    "def windspeed(a):\n",
    "    if 'gusts up to' in a:\n",
    "        a = a.replace('gusts up to', '-')\n",
    "    elif 'mph' in a:\n",
    "        a = a.replace('mph','')\n",
    "    \n",
    "    if '-' in a:\n",
    "        x, y = a.split('-')\n",
    "        a = (int(x)+int(y))/2\n",
    "    \n",
    "\n",
    "    try:\n",
    "        return int(a)\n",
    "    except:\n",
    "        return a\n",
    "    \n",
    "train['WindSpeed'] = train['WindSpeed'].map(windspeed)"
   ]
  },
  {
   "cell_type": "code",
   "execution_count": 18,
   "metadata": {},
   "outputs": [],
   "source": [
    "# train = tr.copy()"
   ]
  },
  {
   "cell_type": "code",
   "execution_count": 19,
   "metadata": {},
   "outputs": [
    {
     "data": {
      "text/plain": [
       "array([ 8,  6, 10,  9, 11,  0,  7,  5,  2, 12,  1,  3,  4, 13, 14, 15, 17,\n",
       "       18, 16, 23, 24, 20, 22, 19], dtype=int64)"
      ]
     },
     "execution_count": 19,
     "metadata": {},
     "output_type": "execute_result"
    }
   ],
   "source": [
    "train['WindSpeed'].unique()"
   ]
  },
  {
   "cell_type": "code",
   "execution_count": 20,
   "metadata": {},
   "outputs": [],
   "source": [
    "## location은 경기장으로 땡치기 가능?\n",
    "## 날씨는 상의 후 작업\n",
    "## 바람방향도 상의 후 작업"
   ]
  },
  {
   "cell_type": "code",
   "execution_count": 21,
   "metadata": {},
   "outputs": [
    {
     "data": {
      "text/plain": [
       "<matplotlib.axes._subplots.AxesSubplot at 0x2060054cf28>"
      ]
     },
     "execution_count": 21,
     "metadata": {},
     "output_type": "execute_result"
    },
    {
     "data": {
      "image/png": "[encoded data removed]",
      "text/plain": [
       "<Figure size 432x288 with 1 Axes>"
      ]
     },
     "metadata": {
      "needs_background": "light"
     },
     "output_type": "display_data"
    }
   ],
   "source": [
    "sns.countplot(train['WindSpeed'])"
   ]
  },
  {
   "cell_type": "code",
   "execution_count": 22,
   "metadata": {},
   "outputs": [
    {
     "data": {
      "text/html": [
       "<div>\n",
       "<style scoped>\n",
       "    .dataframe tbody tr th:only-of-type {\n",
       "        vertical-align: middle;\n",
       "    }\n",
       "\n",
       "    .dataframe tbody tr th {\n",
       "        vertical-align: top;\n",
       "    }\n",
       "\n",
       "    .dataframe thead th {\n",
       "        text-align: right;\n",
       "    }\n",
       "</style>\n",
       "<table border=\"1\" class=\"dataframe\">\n",
       "  <thead>\n",
       "    <tr style=\"text-align: right;\">\n",
       "      <th></th>\n",
       "      <th>GameId</th>\n",
       "      <th>PlayId</th>\n",
       "      <th>X</th>\n",
       "      <th>Y</th>\n",
       "      <th>S</th>\n",
       "      <th>A</th>\n",
       "      <th>Dis</th>\n",
       "      <th>Orientation</th>\n",
       "      <th>Dir</th>\n",
       "      <th>NflId</th>\n",
       "      <th>...</th>\n",
       "      <th>VisitorScoreBeforePlay</th>\n",
       "      <th>NflIdRusher</th>\n",
       "      <th>DefendersInTheBox</th>\n",
       "      <th>Yards</th>\n",
       "      <th>PlayerHeight</th>\n",
       "      <th>PlayerWeight</th>\n",
       "      <th>Week</th>\n",
       "      <th>Temperature</th>\n",
       "      <th>Humidity</th>\n",
       "      <th>WindSpeed</th>\n",
       "    </tr>\n",
       "  </thead>\n",
       "  <tbody>\n",
       "    <tr>\n",
       "      <td>count</td>\n",
       "      <td>5.097620e+05</td>\n",
       "      <td>5.097620e+05</td>\n",
       "      <td>509762.000000</td>\n",
       "      <td>509762.000000</td>\n",
       "      <td>509762.000000</td>\n",
       "      <td>509762.000000</td>\n",
       "      <td>509762.000000</td>\n",
       "      <td>509744.000000</td>\n",
       "      <td>509748.000000</td>\n",
       "      <td>5.097620e+05</td>\n",
       "      <td>...</td>\n",
       "      <td>509762.000000</td>\n",
       "      <td>5.097620e+05</td>\n",
       "      <td>509762.000000</td>\n",
       "      <td>509762.000000</td>\n",
       "      <td>509762.000000</td>\n",
       "      <td>509762.000000</td>\n",
       "      <td>509762.000000</td>\n",
       "      <td>461230.000000</td>\n",
       "      <td>503602.000000</td>\n",
       "      <td>509762.000000</td>\n",
       "    </tr>\n",
       "    <tr>\n",
       "      <td>mean</td>\n",
       "      <td>2.017594e+09</td>\n",
       "      <td>2.017594e+13</td>\n",
       "      <td>60.040304</td>\n",
       "      <td>26.783535</td>\n",
       "      <td>2.591912</td>\n",
       "      <td>1.683176</td>\n",
       "      <td>0.279406</td>\n",
       "      <td>180.247779</td>\n",
       "      <td>179.933859</td>\n",
       "      <td>2.344703e+06</td>\n",
       "      <td>...</td>\n",
       "      <td>9.501057</td>\n",
       "      <td>2.419204e+06</td>\n",
       "      <td>6.942126</td>\n",
       "      <td>4.212334</td>\n",
       "      <td>74.392777</td>\n",
       "      <td>253.554388</td>\n",
       "      <td>9.096370</td>\n",
       "      <td>60.436442</td>\n",
       "      <td>55.646062</td>\n",
       "      <td>6.418325</td>\n",
       "    </tr>\n",
       "    <tr>\n",
       "      <td>std</td>\n",
       "      <td>4.997098e+05</td>\n",
       "      <td>4.997098e+09</td>\n",
       "      <td>25.435261</td>\n",
       "      <td>7.238206</td>\n",
       "      <td>1.383601</td>\n",
       "      <td>0.976412</td>\n",
       "      <td>0.145482</td>\n",
       "      <td>104.298330</td>\n",
       "      <td>106.319488</td>\n",
       "      <td>6.418871e+05</td>\n",
       "      <td>...</td>\n",
       "      <td>9.366413</td>\n",
       "      <td>5.357783e+05</td>\n",
       "      <td>0.994210</td>\n",
       "      <td>6.436167</td>\n",
       "      <td>2.602712</td>\n",
       "      <td>48.367386</td>\n",
       "      <td>5.000984</td>\n",
       "      <td>17.570291</td>\n",
       "      <td>25.430976</td>\n",
       "      <td>4.825125</td>\n",
       "    </tr>\n",
       "    <tr>\n",
       "      <td>min</td>\n",
       "      <td>2.017091e+09</td>\n",
       "      <td>2.017091e+13</td>\n",
       "      <td>0.660000</td>\n",
       "      <td>1.850000</td>\n",
       "      <td>0.000000</td>\n",
       "      <td>0.000000</td>\n",
       "      <td>0.000000</td>\n",
       "      <td>0.000000</td>\n",
       "      <td>0.000000</td>\n",
       "      <td>2.220000e+02</td>\n",
       "      <td>...</td>\n",
       "      <td>0.000000</td>\n",
       "      <td>2.340000e+02</td>\n",
       "      <td>0.000000</td>\n",
       "      <td>-14.000000</td>\n",
       "      <td>66.000000</td>\n",
       "      <td>153.000000</td>\n",
       "      <td>1.000000</td>\n",
       "      <td>9.000000</td>\n",
       "      <td>0.000000</td>\n",
       "      <td>0.000000</td>\n",
       "    </tr>\n",
       "    <tr>\n",
       "      <td>25%</td>\n",
       "      <td>2.017111e+09</td>\n",
       "      <td>2.017111e+13</td>\n",
       "      <td>39.090000</td>\n",
       "      <td>22.730000</td>\n",
       "      <td>1.500000</td>\n",
       "      <td>0.940000</td>\n",
       "      <td>0.170000</td>\n",
       "      <td>90.630000</td>\n",
       "      <td>89.830000</td>\n",
       "      <td>2.532865e+06</td>\n",
       "      <td>...</td>\n",
       "      <td>0.000000</td>\n",
       "      <td>2.540011e+06</td>\n",
       "      <td>6.000000</td>\n",
       "      <td>1.000000</td>\n",
       "      <td>72.000000</td>\n",
       "      <td>210.000000</td>\n",
       "      <td>5.000000</td>\n",
       "      <td>48.000000</td>\n",
       "      <td>43.000000</td>\n",
       "      <td>3.000000</td>\n",
       "    </tr>\n",
       "    <tr>\n",
       "      <td>50%</td>\n",
       "      <td>2.017123e+09</td>\n",
       "      <td>2.017123e+13</td>\n",
       "      <td>60.290000</td>\n",
       "      <td>26.790000</td>\n",
       "      <td>2.470000</td>\n",
       "      <td>1.540000</td>\n",
       "      <td>0.270000</td>\n",
       "      <td>179.700000</td>\n",
       "      <td>180.090000</td>\n",
       "      <td>2.543765e+06</td>\n",
       "      <td>...</td>\n",
       "      <td>7.000000</td>\n",
       "      <td>2.552582e+06</td>\n",
       "      <td>7.000000</td>\n",
       "      <td>3.000000</td>\n",
       "      <td>75.000000</td>\n",
       "      <td>245.000000</td>\n",
       "      <td>9.000000</td>\n",
       "      <td>62.000000</td>\n",
       "      <td>59.000000</td>\n",
       "      <td>6.000000</td>\n",
       "    </tr>\n",
       "    <tr>\n",
       "      <td>75%</td>\n",
       "      <td>2.018110e+09</td>\n",
       "      <td>2.018110e+13</td>\n",
       "      <td>80.970000</td>\n",
       "      <td>30.860000</td>\n",
       "      <td>3.560000</td>\n",
       "      <td>2.290000</td>\n",
       "      <td>0.390000</td>\n",
       "      <td>270.400000</td>\n",
       "      <td>270.190000</td>\n",
       "      <td>2.555343e+06</td>\n",
       "      <td>...</td>\n",
       "      <td>14.000000</td>\n",
       "      <td>2.557976e+06</td>\n",
       "      <td>8.000000</td>\n",
       "      <td>6.000000</td>\n",
       "      <td>76.000000</td>\n",
       "      <td>305.000000</td>\n",
       "      <td>14.000000</td>\n",
       "      <td>73.000000</td>\n",
       "      <td>71.000000</td>\n",
       "      <td>10.000000</td>\n",
       "    </tr>\n",
       "    <tr>\n",
       "      <td>max</td>\n",
       "      <td>2.018123e+09</td>\n",
       "      <td>2.018123e+13</td>\n",
       "      <td>116.840000</td>\n",
       "      <td>56.450000</td>\n",
       "      <td>9.410000</td>\n",
       "      <td>14.710000</td>\n",
       "      <td>1.390000</td>\n",
       "      <td>360.000000</td>\n",
       "      <td>360.000000</td>\n",
       "      <td>2.561671e+06</td>\n",
       "      <td>...</td>\n",
       "      <td>51.000000</td>\n",
       "      <td>2.561468e+06</td>\n",
       "      <td>11.000000</td>\n",
       "      <td>99.000000</td>\n",
       "      <td>81.000000</td>\n",
       "      <td>380.000000</td>\n",
       "      <td>17.000000</td>\n",
       "      <td>97.000000</td>\n",
       "      <td>100.000000</td>\n",
       "      <td>24.000000</td>\n",
       "    </tr>\n",
       "  </tbody>\n",
       "</table>\n",
       "<p>8 rows × 27 columns</p>\n",
       "</div>"
      ],
      "text/plain": [
       "             GameId        PlayId              X              Y  \\\n",
       "count  5.097620e+05  5.097620e+05  509762.000000  509762.000000   \n",
       "mean   2.017594e+09  2.017594e+13      60.040304      26.783535   \n",
       "std    4.997098e+05  4.997098e+09      25.435261       7.238206   \n",
       "min    2.017091e+09  2.017091e+13       0.660000       1.850000   \n",
       "25%    2.017111e+09  2.017111e+13      39.090000      22.730000   \n",
       "50%    2.017123e+09  2.017123e+13      60.290000      26.790000   \n",
       "75%    2.018110e+09  2.018110e+13      80.970000      30.860000   \n",
       "max    2.018123e+09  2.018123e+13     116.840000      56.450000   \n",
       "\n",
       "                   S              A            Dis    Orientation  \\\n",
       "count  509762.000000  509762.000000  509762.000000  509744.000000   \n",
       "mean        2.591912       1.683176       0.279406     180.247779   \n",
       "std         1.383601       0.976412       0.145482     104.298330   \n",
       "min         0.000000       0.000000       0.000000       0.000000   \n",
       "25%         1.500000       0.940000       0.170000      90.630000   \n",
       "50%         2.470000       1.540000       0.270000     179.700000   \n",
       "75%         3.560000       2.290000       0.390000     270.400000   \n",
       "max         9.410000      14.710000       1.390000     360.000000   \n",
       "\n",
       "                 Dir         NflId  ...  VisitorScoreBeforePlay   NflIdRusher  \\\n",
       "count  509748.000000  5.097620e+05  ...           509762.000000  5.097620e+05   \n",
       "mean      179.933859  2.344703e+06  ...                9.501057  2.419204e+06   \n",
       "std       106.319488  6.418871e+05  ...                9.366413  5.357783e+05   \n",
       "min         0.000000  2.220000e+02  ...                0.000000  2.340000e+02   \n",
       "25%        89.830000  2.532865e+06  ...                0.000000  2.540011e+06   \n",
       "50%       180.090000  2.543765e+06  ...                7.000000  2.552582e+06   \n",
       "75%       270.190000  2.555343e+06  ...               14.000000  2.557976e+06   \n",
       "max       360.000000  2.561671e+06  ...               51.000000  2.561468e+06   \n",
       "\n",
       "       DefendersInTheBox          Yards   PlayerHeight   PlayerWeight  \\\n",
       "count      509762.000000  509762.000000  509762.000000  509762.000000   \n",
       "mean            6.942126       4.212334      74.392777     253.554388   \n",
       "std             0.994210       6.436167       2.602712      48.367386   \n",
       "min             0.000000     -14.000000      66.000000     153.000000   \n",
       "25%             6.000000       1.000000      72.000000     210.000000   \n",
       "50%             7.000000       3.000000      75.000000     245.000000   \n",
       "75%             8.000000       6.000000      76.000000     305.000000   \n",
       "max            11.000000      99.000000      81.000000     380.000000   \n",
       "\n",
       "                Week    Temperature       Humidity      WindSpeed  \n",
       "count  509762.000000  461230.000000  503602.000000  509762.000000  \n",
       "mean        9.096370      60.436442      55.646062       6.418325  \n",
       "std         5.000984      17.570291      25.430976       4.825125  \n",
       "min         1.000000       9.000000       0.000000       0.000000  \n",
       "25%         5.000000      48.000000      43.000000       3.000000  \n",
       "50%         9.000000      62.000000      59.000000       6.000000  \n",
       "75%        14.000000      73.000000      71.000000      10.000000  \n",
       "max        17.000000      97.000000     100.000000      24.000000  \n",
       "\n",
       "[8 rows x 27 columns]"
      ]
     },
     "execution_count": 22,
     "metadata": {},
     "output_type": "execute_result"
    }
   ],
   "source": [
    "train.describe()"
   ]
  },
  {
   "cell_type": "code",
   "execution_count": 23,
   "metadata": {},
   "outputs": [],
   "source": [
    "def stdtype(a):\n",
    "#     if a == np.nan:\n",
    "#         return 'NAN'\n",
    "    a = a.lower()\n",
    "    if ('ou' in a) or ('open' in a):\n",
    "        return 'outdoor'\n",
    "    elif ('in' in a) or ('close' in a) or ('dome' in a) or ('bowl' in a):\n",
    "        return 'indoor'\n",
    "    else:\n",
    "        return a\n",
    "\n",
    "train['StadiumType'] = train['StadiumType'].replace(np.nan, 'NAN').map(stdtype)"
   ]
  },
  {
   "cell_type": "code",
   "execution_count": 24,
   "metadata": {},
   "outputs": [],
   "source": [
    "train.to_csv('cleaning_train.csv', index=False)"
   ]
  },
  {
   "cell_type": "code",
   "execution_count": 26,
   "metadata": {},
   "outputs": [
    {
     "data": {
      "text/plain": [
       "array(['outdoor', 'indoor', 'retractable roof', 'nan'], dtype=object)"
      ]
     },
     "execution_count": 26,
     "metadata": {},
     "output_type": "execute_result"
    }
   ],
   "source": [
    "\n",
    "train['StadiumType'].unique()"
   ]
  },
  {
   "cell_type": "code",
   "execution_count": null,
   "metadata": {},
   "outputs": [],
   "source": []
  }
 ],
 "metadata": {
  "kernelspec": {
   "display_name": "Python 3",
   "language": "python",
   "name": "python3"
  },
  "language_info": {
   "codemirror_mode": {
    "name": "ipython",
    "version": 3
   },
   "file_extension": ".py",
   "mimetype": "text/x-python",
   "name": "python",
   "nbconvert_exporter": "python",
   "pygments_lexer": "ipython3",
   "version": "3.6.9"
  },
  "toc": {
   "base_numbering": 1,
   "nav_menu": {
    "height": "65px",
    "width": "179px"
   },
   "number_sections": true,
   "sideBar": true,
   "skip_h1_title": false,
   "title_cell": "Table of Contents",
   "title_sidebar": "Contents",
   "toc_cell": false,
   "toc_position": {},
   "toc_section_display": true,
   "toc_window_display": false
  }
 },
 "nbformat": 4,
 "nbformat_minor": 2
}
