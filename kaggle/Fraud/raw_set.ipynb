{
 "cells": [
  {
   "cell_type": "markdown",
   "metadata": {},
   "source": [
    "# Import libraries"
   ]
  },
  {
   "cell_type": "code",
   "execution_count": 1,
   "metadata": {},
   "outputs": [],
   "source": [
    "#  Libraries\n",
    "import numpy as np \n",
    "import pandas as pd \n",
    "# Data processing, metrics and modeling\n",
    "from sklearn.preprocessing import LabelEncoder\n",
    "from sklearn.model_selection import train_test_split, StratifiedKFold,KFold\n",
    "from bayes_opt import BayesianOptimization\n",
    "from datetime import datetime\n",
    "from sklearn.metrics import precision_score, recall_score, confusion_matrix, accuracy_score, roc_auc_score, f1_score, roc_curve, auc,precision_recall_curve\n",
    "from sklearn import metrics\n",
    "from sklearn import preprocessing\n",
    "# Lgbm\n",
    "import lightgbm as lgb\n",
    "import xgboost as xgb\n",
    "# Suppr warning\n",
    "import warnings\n",
    "warnings.filterwarnings(\"ignore\")\n",
    "\n",
    "import itertools\n",
    "from scipy import interp\n",
    "\n",
    "# Plots\n",
    "import seaborn as sns\n",
    "import matplotlib.pyplot as plt\n",
    "%matplotlib inline\n",
    "from matplotlib import rcParams\n",
    "\n",
    "import gc\n",
    "import os\n",
    "import sys\n",
    "import pystacknet\n",
    "from functools import partial\n",
    "from utils import reduce_mem_usage\n",
    "\n",
    "# from mem import reduce_mem_usage\n",
    "\n",
    "import pickle"
   ]
  },
  {
   "cell_type": "markdown",
   "metadata": {},
   "source": [
    "# Load Dataset and feature selection"
   ]
  },
  {
   "cell_type": "code",
   "execution_count": 2,
   "metadata": {},
   "outputs": [
    {
     "name": "stdout",
     "output_type": "stream",
     "text": [
      "removed cols: ['TransactionID', 'TransactionDT', 'DT', 'DT_W', 'DT_D', 'DT_day_week', 'DT_day_month', 'DT_M_total', 'DT_W_total', 'DT_D_total', 'uid', 'uid2', 'uid3', 'uid4', 'uid5', 'bank_type']\n"
     ]
    }
   ],
   "source": [
    "# Load Dataset and feature selection\n",
    "\n",
    "f = open('train_ori.bin', 'rb')\n",
    "train = pickle.load(f)\n",
    "f.close()\n",
    "\n",
    "f = open('test_ori.bin', 'rb')\n",
    "test = pickle.load(f)\n",
    "f.close()\n",
    "\n",
    "ctd = pd.read_pickle('remove_features.pkl')\n",
    "\n",
    "cols_to_drop = []\n",
    "for f in ctd.values:\n",
    "    cols_to_drop.append(list(f)[0])\n",
    "    \n",
    "# cols_to_drop.remove('DT_M')\n",
    "# cols_to_drop.remove('DT_hour')\n",
    "cols_to_drop.remove('isFraud')\n",
    "\n",
    "print('removed cols:', cols_to_drop)\n",
    "\n",
    "train = train.drop(cols_to_drop, axis=1)\n",
    "test = test.drop(cols_to_drop, axis=1)\n",
    "\n",
    "sample_submission = pd.read_csv('sample_submission.csv', index_col='TransactionID')\n"
   ]
  },
  {
   "cell_type": "code",
   "execution_count": 3,
   "metadata": {},
   "outputs": [],
   "source": [
    "f = open('imp_col.bin', 'rb')\n",
    "imp_cols = pickle.load(f)\n",
    "f.close()"
   ]
  },
  {
   "cell_type": "code",
   "execution_count": 5,
   "metadata": {},
   "outputs": [],
   "source": [
    "train = train[imp_cols]\n",
    "imp_cols.remove('isFraud')\n",
    "test = test[imp_cols]"
   ]
  },
  {
   "cell_type": "code",
   "execution_count": 9,
   "metadata": {},
   "outputs": [],
   "source": [
    "# # use only for initial feature selection\n",
    "# for f in train.columns:\n",
    "#     if sum(pd.isna(train[f]))/len(train) > 0.9:\n",
    "#         train = train.drop(f, axis=1)\n",
    "#         test = test.drop(f, axis=1)\n",
    "#         print(f)"
   ]
  },
  {
   "cell_type": "code",
   "execution_count": 7,
   "metadata": {},
   "outputs": [
    {
     "name": "stdout",
     "output_type": "stream",
     "text": [
      "(590540, 646)\n",
      "(506691, 645)\n"
     ]
    }
   ],
   "source": [
    "print(train.shape)\n",
    "print(test.shape)"
   ]
  },
  {
   "cell_type": "code",
   "execution_count": 6,
   "metadata": {},
   "outputs": [],
   "source": [
    "# divide variable type\n",
    "\n",
    "numerical = [\"TransactionAmt\", \"nulls1\", \"dist1\", \"dist2\"] + [\"C\" + str(i) for i in range(1, 15)] + \\\n",
    "            [\"D\" + str(i) for i in range(1, 16)] + \\\n",
    "            [\"V\" + str(i) for i in range(1, 340)] + [\"id_0\" + str(i) for i in range(1, 10)] + [\"id_\" + str(i) for i in range(10, 12)]\n",
    "\n",
    "categorical = [\"ProductCD\", \"card1\", \"card2\", \"card3\", \"card4\", \"card5\", \"card6\", \"addr1\", \"addr2\",\n",
    "               \"P_emaildomain_bin\", \"P_emaildomain_suffix\", \"R_emaildomain_bin\", \"R_emaildomain_suffix\",\n",
    "               \"P_emaildomain\", \"R_emaildomain\",\n",
    "              \"DeviceInfo\", \"DeviceType\"] + \\\n",
    "                [\"id_\" + str(i) for i in range(12, 39)] + \\\n",
    "                 [\"M\" + str(i) for i in range(1, 10)] +['Transaction_day_of_week', 'Transaction_hour_of_day', 'DT', 'DT_hour']"
   ]
  },
  {
   "cell_type": "code",
   "execution_count": null,
   "metadata": {},
   "outputs": [],
   "source": [
    "def Negativedownsampling(train, ratio) :\n",
    "    \n",
    "\n",
    "    # Number of data points in the minority class\n",
    "    number_records_fraud = len(train[train.isFraud == 1])\n",
    "    fraud_indices = np.array(train[train.isFraud == 1].index)\n",
    "\n",
    "    # Picking the indices of the normal classes\n",
    "    normal_indices = train[train.isFraud == 0].index\n",
    "\n",
    "    # Out of the indices we picked, randomly select \"x\" number (number_records_fraud)\n",
    "    random_normal_indices = np.random.choice(normal_indices, number_records_fraud*ratio, replace = False)\n",
    "    random_normal_indices = np.array(random_normal_indices)\n",
    "\n",
    "    # Appending the 2 indices\n",
    "    under_sample_indices = np.concatenate([fraud_indices,random_normal_indices])\n",
    "\n",
    "    # Under sample dataset\n",
    "    under_sample_data = train.iloc[under_sample_indices,:]\n",
    "    \n",
    "    # Showing ratio\n",
    "    print(\"Percentage of normal transactions: \", round(len(under_sample_data[under_sample_data.isFraud == 0])/len(under_sample_data),2)* 100,\"%\")\n",
    "    print(\"Percentage of fraud transactions: \", round(len(under_sample_data[under_sample_data.isFraud == 1])/len(under_sample_data),2)* 100,\"%\")\n",
    "    print(\"Total number of transactions in resampled data: \", len(under_sample_data))\n",
    "    \n",
    "    return under_sample_data"
   ]
  },
  {
   "cell_type": "code",
   "execution_count": null,
   "metadata": {},
   "outputs": [],
   "source": [
    "# if you want to downsampling or upsampling\n",
    "## see details in utils.py\n",
    "train = Negativedownsampling(train, 9)\n",
    "train = train.reset_index(drop=True)\n",
    "\n",
    "print(train.shape)"
   ]
  },
  {
   "cell_type": "markdown",
   "metadata": {},
   "source": [
    "# Bayes-opt"
   ]
  },
  {
   "cell_type": "code",
   "execution_count": 7,
   "metadata": {},
   "outputs": [],
   "source": [
    "bounds_LGB = {\n",
    "    'num_leaves': (300, 1000), \n",
    "    'min_data_in_leaf': (0, 150),\n",
    "    'bagging_fraction' : (0.3, 0.7),\n",
    "    'feature_fraction' : (0.6, 0.9),\n",
    "#     'learning_rate': (0.01, 0.3),\n",
    "    'min_child_weight': (0.001, 3),   \n",
    "    'reg_alpha': (0.25, 0.7), \n",
    "    'reg_lambda': (0.25, 0.7),\n",
    "    'max_depth':(10, 30),\n",
    "}\n"
   ]
  },
  {
   "cell_type": "code",
   "execution_count": 8,
   "metadata": {},
   "outputs": [],
   "source": [
    "def LGB_bayesian(\n",
    "    #learning_rate,\n",
    "    num_leaves, \n",
    "    bagging_fraction,\n",
    "    feature_fraction,\n",
    "    min_child_weight, \n",
    "    min_data_in_leaf,\n",
    "    max_depth,\n",
    "    reg_alpha,\n",
    "    reg_lambda\n",
    "     ):\n",
    "    # LightGBM expects next three parameters need to be integer. \n",
    "    num_leaves = int(num_leaves)\n",
    "    min_data_in_leaf = int(min_data_in_leaf)\n",
    "    max_depth = int(max_depth)\n",
    "\n",
    "    assert type(num_leaves) == int\n",
    "    assert type(min_data_in_leaf) == int\n",
    "    assert type(max_depth) == int\n",
    "    \n",
    "\n",
    "    param = {\n",
    "              'num_leaves': num_leaves, \n",
    "              'min_data_in_leaf': min_data_in_leaf,\n",
    "              'min_child_weight': min_child_weight,\n",
    "              'bagging_fraction' : bagging_fraction,\n",
    "              'feature_fraction' : feature_fraction,\n",
    "#               'learning_rate' : 0.03,\n",
    "              'max_depth': max_depth,\n",
    "              'reg_alpha': reg_alpha,\n",
    "              'reg_lambda': reg_lambda,\n",
    "              'objective': 'binary',\n",
    "              'save_binary': True,\n",
    "              'seed': 12,\n",
    "              'feature_fraction_seed': 12,\n",
    "              'bagging_seed': 12,\n",
    "              'drop_seed': 12,\n",
    "              'data_random_seed': 12,\n",
    "              'boosting_type': 'gdbt', ## some get better result using 'dart'\n",
    "              'verbose': 1,\n",
    "              'is_unbalance': False,\n",
    "              'boost_from_average': True,\n",
    "              'metric':'auc'}    \n",
    "    \n",
    "    oof = np.zeros(len(train))\n",
    "    trn_data= lgb.Dataset(train.iloc[bayesian_tr_idx][features].values, label=train.iloc[bayesian_tr_idx][target].values)\n",
    "    val_data= lgb.Dataset(train.iloc[bayesian_val_idx][features].values, label=train.iloc[bayesian_val_idx][target].values)\n",
    "    \n",
    "    ## set clf options\n",
    "    clf = lgb.train(param, trn_data,  num_boost_round=150, valid_sets = [trn_data, val_data], verbose_eval=0, early_stopping_rounds = 50)\n",
    "    \n",
    "    oof[bayesian_val_idx]  = clf.predict(train.iloc[bayesian_val_idx][features].values, num_iteration=clf.best_iteration) \n",
    "    \n",
    "    score = roc_auc_score(train.iloc[bayesian_val_idx][target].values, oof[bayesian_val_idx])\n",
    "\n",
    "    return score"
   ]
  },
  {
   "cell_type": "code",
   "execution_count": 9,
   "metadata": {
    "scrolled": true
   },
   "outputs": [],
   "source": [
    "LGB_BO = BayesianOptimization(LGB_bayesian, bounds_LGB, random_state=12)\n",
    "features = list(train.columns)\n",
    "features.remove('isFraud')\n",
    "target = 'isFraud'"
   ]
  },
  {
   "cell_type": "code",
   "execution_count": 10,
   "metadata": {},
   "outputs": [],
   "source": [
    "#cut tr and val\n",
    "bayesian_tr_idx, bayesian_val_idx = train_test_split(train, test_size = 0.3, random_state = 19, stratify = train[target])\n",
    "bayesian_tr_idx = bayesian_tr_idx.index\n",
    "bayesian_val_idx = bayesian_val_idx.index"
   ]
  },
  {
   "cell_type": "code",
   "execution_count": 11,
   "metadata": {},
   "outputs": [],
   "source": [
    "init_points = 10\n",
    "n_iter = 15"
   ]
  },
  {
   "cell_type": "code",
   "execution_count": 12,
   "metadata": {},
   "outputs": [
    {
     "data": {
      "text/plain": [
       "61"
      ]
     },
     "execution_count": 12,
     "metadata": {},
     "output_type": "execute_result"
    }
   ],
   "source": [
    "gc.collect()"
   ]
  },
  {
   "cell_type": "code",
   "execution_count": 13,
   "metadata": {
    "scrolled": true
   },
   "outputs": [
    {
     "name": "stdout",
     "output_type": "stream",
     "text": [
      "------------------------------------------------------------------------------------------------------------------------\n",
      "|   iter    |  target   | baggin... | featur... | max_depth | min_ch... | min_da... | num_le... | reg_alpha | reg_la... |\n",
      "-------------------------------------------------------------------------------------------------------------------------\n",
      "| \u001b[0m 1       \u001b[0m | \u001b[0m 0.9667  \u001b[0m | \u001b[0m 0.3617  \u001b[0m | \u001b[0m 0.822   \u001b[0m | \u001b[0m 15.27   \u001b[0m | \u001b[0m 1.602   \u001b[0m | \u001b[0m 2.186   \u001b[0m | \u001b[0m 759.4   \u001b[0m | \u001b[0m 0.6553  \u001b[0m | \u001b[0m 0.265   \u001b[0m |\n",
      "| \u001b[0m 2       \u001b[0m | \u001b[0m 0.9611  \u001b[0m | \u001b[0m 0.6828  \u001b[0m | \u001b[0m 0.6412  \u001b[0m | \u001b[0m 15.68   \u001b[0m | \u001b[0m 1.819   \u001b[0m | \u001b[0m 141.6   \u001b[0m | \u001b[0m 726.4   \u001b[0m | \u001b[0m 0.251   \u001b[0m | \u001b[0m 0.4846  \u001b[0m |\n",
      "| \u001b[0m 3       \u001b[0m | \u001b[0m 0.9574  \u001b[0m | \u001b[0m 0.5208  \u001b[0m | \u001b[0m 0.7456  \u001b[0m | \u001b[0m 25.36   \u001b[0m | \u001b[0m 0.483   \u001b[0m | \u001b[0m 114.7   \u001b[0m | \u001b[0m 310.4   \u001b[0m | \u001b[0m 0.3108  \u001b[0m | \u001b[0m 0.3023  \u001b[0m |\n",
      "| \u001b[0m 4       \u001b[0m | \u001b[0m 0.9645  \u001b[0m | \u001b[0m 0.424   \u001b[0m | \u001b[0m 0.8014  \u001b[0m | \u001b[0m 19.42   \u001b[0m | \u001b[0m 2.449   \u001b[0m | \u001b[0m 43.44   \u001b[0m | \u001b[0m 666.6   \u001b[0m | \u001b[0m 0.5662  \u001b[0m | \u001b[0m 0.3974  \u001b[0m |\n",
      "| \u001b[0m 5       \u001b[0m | \u001b[0m 0.9628  \u001b[0m | \u001b[0m 0.4339  \u001b[0m | \u001b[0m 0.8934  \u001b[0m | \u001b[0m 22.49   \u001b[0m | \u001b[0m 2.851   \u001b[0m | \u001b[0m 115.1   \u001b[0m | \u001b[0m 712.5   \u001b[0m | \u001b[0m 0.433   \u001b[0m | \u001b[0m 0.4531  \u001b[0m |\n",
      "| \u001b[0m 6       \u001b[0m | \u001b[0m 0.9616  \u001b[0m | \u001b[0m 0.4603  \u001b[0m | \u001b[0m 0.8985  \u001b[0m | \u001b[0m 13.55   \u001b[0m | \u001b[0m 2.888   \u001b[0m | \u001b[0m 62.89   \u001b[0m | \u001b[0m 512.0   \u001b[0m | \u001b[0m 0.4584  \u001b[0m | \u001b[0m 0.4182  \u001b[0m |\n",
      "| \u001b[0m 7       \u001b[0m | \u001b[0m 0.9529  \u001b[0m | \u001b[0m 0.4862  \u001b[0m | \u001b[0m 0.6106  \u001b[0m | \u001b[0m 11.69   \u001b[0m | \u001b[0m 2.198   \u001b[0m | \u001b[0m 95.43   \u001b[0m | \u001b[0m 314.0   \u001b[0m | \u001b[0m 0.3851  \u001b[0m | \u001b[0m 0.3494  \u001b[0m |\n",
      "| \u001b[0m 8       \u001b[0m | \u001b[0m 0.9653  \u001b[0m | \u001b[0m 0.322   \u001b[0m | \u001b[0m 0.757   \u001b[0m | \u001b[0m 18.33   \u001b[0m | \u001b[0m 0.1456  \u001b[0m | \u001b[0m 85.86   \u001b[0m | \u001b[0m 701.8   \u001b[0m | \u001b[0m 0.3011  \u001b[0m | \u001b[0m 0.3747  \u001b[0m |\n",
      "| \u001b[0m 9       \u001b[0m | \u001b[0m 0.961   \u001b[0m | \u001b[0m 0.5567  \u001b[0m | \u001b[0m 0.7478  \u001b[0m | \u001b[0m 20.13   \u001b[0m | \u001b[0m 1.385   \u001b[0m | \u001b[0m 134.2   \u001b[0m | \u001b[0m 602.9   \u001b[0m | \u001b[0m 0.5215  \u001b[0m | \u001b[0m 0.4497  \u001b[0m |\n",
      "| \u001b[0m 10      \u001b[0m | \u001b[0m 0.9642  \u001b[0m | \u001b[0m 0.492   \u001b[0m | \u001b[0m 0.8665  \u001b[0m | \u001b[0m 14.17   \u001b[0m | \u001b[0m 2.834   \u001b[0m | \u001b[0m 11.02   \u001b[0m | \u001b[0m 597.6   \u001b[0m | \u001b[0m 0.264   \u001b[0m | \u001b[0m 0.5494  \u001b[0m |\n",
      "| \u001b[0m 11      \u001b[0m | \u001b[0m 0.9659  \u001b[0m | \u001b[0m 0.6249  \u001b[0m | \u001b[0m 0.7971  \u001b[0m | \u001b[0m 29.55   \u001b[0m | \u001b[0m 2.056   \u001b[0m | \u001b[0m 1.796   \u001b[0m | \u001b[0m 797.8   \u001b[0m | \u001b[0m 0.5552  \u001b[0m | \u001b[0m 0.6029  \u001b[0m |\n",
      "| \u001b[95m 12      \u001b[0m | \u001b[95m 0.9676  \u001b[0m | \u001b[95m 0.6209  \u001b[0m | \u001b[95m 0.8161  \u001b[0m | \u001b[95m 26.31   \u001b[0m | \u001b[95m 1.149   \u001b[0m | \u001b[95m 1.553   \u001b[0m | \u001b[95m 799.9   \u001b[0m | \u001b[95m 0.2759  \u001b[0m | \u001b[95m 0.5599  \u001b[0m |\n",
      "| \u001b[0m 13      \u001b[0m | \u001b[0m 0.9659  \u001b[0m | \u001b[0m 0.3374  \u001b[0m | \u001b[0m 0.8069  \u001b[0m | \u001b[0m 27.73   \u001b[0m | \u001b[0m 1.336   \u001b[0m | \u001b[0m 1.206   \u001b[0m | \u001b[0m 799.3   \u001b[0m | \u001b[0m 0.629   \u001b[0m | \u001b[0m 0.4583  \u001b[0m |\n",
      "| \u001b[0m 14      \u001b[0m | \u001b[0m 0.9589  \u001b[0m | \u001b[0m 0.6722  \u001b[0m | \u001b[0m 0.7368  \u001b[0m | \u001b[0m 11.25   \u001b[0m | \u001b[0m 1.611   \u001b[0m | \u001b[0m 1.348   \u001b[0m | \u001b[0m 797.9   \u001b[0m | \u001b[0m 0.3923  \u001b[0m | \u001b[0m 0.5924  \u001b[0m |\n",
      "| \u001b[0m 15      \u001b[0m | \u001b[0m 0.9622  \u001b[0m | \u001b[0m 0.3267  \u001b[0m | \u001b[0m 0.6297  \u001b[0m | \u001b[0m 29.98   \u001b[0m | \u001b[0m 0.2705  \u001b[0m | \u001b[0m 0.7226  \u001b[0m | \u001b[0m 418.8   \u001b[0m | \u001b[0m 0.2785  \u001b[0m | \u001b[0m 0.3221  \u001b[0m |\n",
      "| \u001b[0m 16      \u001b[0m | \u001b[0m 0.9653  \u001b[0m | \u001b[0m 0.4941  \u001b[0m | \u001b[0m 0.8317  \u001b[0m | \u001b[0m 29.8    \u001b[0m | \u001b[0m 0.2394  \u001b[0m | \u001b[0m 7.118   \u001b[0m | \u001b[0m 644.4   \u001b[0m | \u001b[0m 0.6171  \u001b[0m | \u001b[0m 0.3347  \u001b[0m |\n",
      "| \u001b[0m 17      \u001b[0m | \u001b[0m 0.965   \u001b[0m | \u001b[0m 0.645   \u001b[0m | \u001b[0m 0.6527  \u001b[0m | \u001b[0m 29.95   \u001b[0m | \u001b[0m 0.1541  \u001b[0m | \u001b[0m 0.5935  \u001b[0m | \u001b[0m 666.2   \u001b[0m | \u001b[0m 0.472   \u001b[0m | \u001b[0m 0.4495  \u001b[0m |\n",
      "| \u001b[0m 18      \u001b[0m | \u001b[0m 0.9654  \u001b[0m | \u001b[0m 0.6077  \u001b[0m | \u001b[0m 0.6393  \u001b[0m | \u001b[0m 29.89   \u001b[0m | \u001b[0m 2.698   \u001b[0m | \u001b[0m 0.3531  \u001b[0m | \u001b[0m 666.2   \u001b[0m | \u001b[0m 0.4177  \u001b[0m | \u001b[0m 0.2735  \u001b[0m |\n",
      "| \u001b[0m 19      \u001b[0m | \u001b[0m 0.9651  \u001b[0m | \u001b[0m 0.595   \u001b[0m | \u001b[0m 0.7774  \u001b[0m | \u001b[0m 29.94   \u001b[0m | \u001b[0m 2.894   \u001b[0m | \u001b[0m 1.059   \u001b[0m | \u001b[0m 791.7   \u001b[0m | \u001b[0m 0.6577  \u001b[0m | \u001b[0m 0.6692  \u001b[0m |\n",
      "| \u001b[0m 20      \u001b[0m | \u001b[0m 0.9658  \u001b[0m | \u001b[0m 0.4539  \u001b[0m | \u001b[0m 0.6571  \u001b[0m | \u001b[0m 29.99   \u001b[0m | \u001b[0m 0.01953 \u001b[0m | \u001b[0m 3.313   \u001b[0m | \u001b[0m 702.3   \u001b[0m | \u001b[0m 0.4338  \u001b[0m | \u001b[0m 0.6259  \u001b[0m |\n",
      "| \u001b[0m 21      \u001b[0m | \u001b[0m 0.9659  \u001b[0m | \u001b[0m 0.67    \u001b[0m | \u001b[0m 0.7171  \u001b[0m | \u001b[0m 29.61   \u001b[0m | \u001b[0m 0.07862 \u001b[0m | \u001b[0m 0.5879  \u001b[0m | \u001b[0m 733.4   \u001b[0m | \u001b[0m 0.5365  \u001b[0m | \u001b[0m 0.5063  \u001b[0m |\n",
      "| \u001b[0m 22      \u001b[0m | \u001b[0m 0.9647  \u001b[0m | \u001b[0m 0.384   \u001b[0m | \u001b[0m 0.8576  \u001b[0m | \u001b[0m 30.0    \u001b[0m | \u001b[0m 2.959   \u001b[0m | \u001b[0m 0.0963  \u001b[0m | \u001b[0m 733.4   \u001b[0m | \u001b[0m 0.6303  \u001b[0m | \u001b[0m 0.3446  \u001b[0m |\n",
      "| \u001b[0m 23      \u001b[0m | \u001b[0m 0.9667  \u001b[0m | \u001b[0m 0.3619  \u001b[0m | \u001b[0m 0.7183  \u001b[0m | \u001b[0m 29.58   \u001b[0m | \u001b[0m 0.03507 \u001b[0m | \u001b[0m 0.1387  \u001b[0m | \u001b[0m 793.2   \u001b[0m | \u001b[0m 0.5475  \u001b[0m | \u001b[0m 0.6249  \u001b[0m |\n",
      "| \u001b[0m 24      \u001b[0m | \u001b[0m 0.9656  \u001b[0m | \u001b[0m 0.5363  \u001b[0m | \u001b[0m 0.8784  \u001b[0m | \u001b[0m 29.97   \u001b[0m | \u001b[0m 0.03447 \u001b[0m | \u001b[0m 4.005   \u001b[0m | \u001b[0m 676.2   \u001b[0m | \u001b[0m 0.4851  \u001b[0m | \u001b[0m 0.6782  \u001b[0m |\n",
      "| \u001b[0m 25      \u001b[0m | \u001b[0m 0.9658  \u001b[0m | \u001b[0m 0.3121  \u001b[0m | \u001b[0m 0.8374  \u001b[0m | \u001b[0m 29.55   \u001b[0m | \u001b[0m 0.2079  \u001b[0m | \u001b[0m 0.1378  \u001b[0m | \u001b[0m 689.5   \u001b[0m | \u001b[0m 0.4167  \u001b[0m | \u001b[0m 0.3155  \u001b[0m |\n",
      "=========================================================================================================================\n"
     ]
    }
   ],
   "source": [
    "print('-' * 120)\n",
    "\n",
    "with warnings.catch_warnings():\n",
    "    warnings.filterwarnings('ignore')\n",
    "    LGB_BO.maximize(init_points=init_points, n_iter=n_iter, acq='ucb', xi=0.0, alpha=1e-6)"
   ]
  },
  {
   "cell_type": "code",
   "execution_count": 14,
   "metadata": {},
   "outputs": [
    {
     "data": {
      "text/plain": [
       "0.9676037042273492"
      ]
     },
     "execution_count": 14,
     "metadata": {},
     "output_type": "execute_result"
    }
   ],
   "source": [
    "LGB_BO.max['target']"
   ]
  },
  {
   "cell_type": "code",
   "execution_count": 15,
   "metadata": {},
   "outputs": [],
   "source": [
    "param_lgb = {\n",
    "        'min_data_in_leaf': int(LGB_BO.max['params']['min_data_in_leaf']), \n",
    "        'num_leaves': int(LGB_BO.max['params']['num_leaves']), \n",
    "        #'learning_rate': LGB_BO.max['params']['learning_rate'],\n",
    "        'min_child_weight': LGB_BO.max['params']['min_child_weight'],\n",
    "        'bagging_fraction': LGB_BO.max['params']['bagging_fraction'], \n",
    "        'feature_fraction': LGB_BO.max['params']['feature_fraction'],\n",
    "        'reg_lambda': LGB_BO.max['params']['reg_lambda'],\n",
    "        'reg_alpha': LGB_BO.max['params']['reg_alpha'],\n",
    "        'max_depth': int(LGB_BO.max['params']['max_depth']), \n",
    "        'objective': 'binary',\n",
    "        'save_binary': True,\n",
    "        'seed': 12,\n",
    "        'feature_fraction_seed': 12,\n",
    "        'bagging_seed': 12,\n",
    "        'drop_seed': 12,\n",
    "        'data_random_seed': 12,\n",
    "        'boosting_type': 'gdbt',  # also consider 'dart'\n",
    "        'verbose': 1,\n",
    "        'is_unbalance': False,\n",
    "        'boost_from_average': True,\n",
    "        'metric':'auc'\n",
    "    }"
   ]
  },
  {
   "cell_type": "code",
   "execution_count": 16,
   "metadata": {
    "scrolled": true
   },
   "outputs": [
    {
     "name": "stdout",
     "output_type": "stream",
     "text": [
      "\n",
      "fold 1\n",
      "[100]\ttraining's auc: 0.993784\tvalid_1's auc: 0.957035\n",
      "[200]\ttraining's auc: 0.999987\tvalid_1's auc: 0.9706\n",
      "[300]\ttraining's auc: 1\tvalid_1's auc: 0.973165\n",
      "[400]\ttraining's auc: 1\tvalid_1's auc: 0.973642\n",
      "[500]\ttraining's auc: 1\tvalid_1's auc: 0.974178\n",
      "[600]\ttraining's auc: 1\tvalid_1's auc: 0.974052\n",
      "[700]\ttraining's auc: 1\tvalid_1's auc: 0.973806\n",
      "[800]\ttraining's auc: 1\tvalid_1's auc: 0.973646\n",
      "[900]\ttraining's auc: 1\tvalid_1's auc: 0.97386\n",
      "[1000]\ttraining's auc: 1\tvalid_1's auc: 0.973901\n",
      "[1100]\ttraining's auc: 1\tvalid_1's auc: 0.974071\n",
      "[1200]\ttraining's auc: 1\tvalid_1's auc: 0.974307\n",
      "[1300]\ttraining's auc: 1\tvalid_1's auc: 0.97418\n",
      "[1400]\ttraining's auc: 1\tvalid_1's auc: 0.974127\n",
      "[1500]\ttraining's auc: 1\tvalid_1's auc: 0.974116\n",
      "\n",
      "fold 2\n",
      "[100]\ttraining's auc: 0.993243\tvalid_1's auc: 0.961109\n",
      "[200]\ttraining's auc: 0.999984\tvalid_1's auc: 0.974157\n",
      "[300]\ttraining's auc: 1\tvalid_1's auc: 0.976579\n",
      "[400]\ttraining's auc: 1\tvalid_1's auc: 0.976618\n",
      "[500]\ttraining's auc: 1\tvalid_1's auc: 0.977061\n",
      "[600]\ttraining's auc: 1\tvalid_1's auc: 0.977399\n",
      "[700]\ttraining's auc: 1\tvalid_1's auc: 0.977499\n",
      "[800]\ttraining's auc: 1\tvalid_1's auc: 0.977263\n",
      "[900]\ttraining's auc: 1\tvalid_1's auc: 0.977184\n",
      "[1000]\ttraining's auc: 1\tvalid_1's auc: 0.977229\n",
      "[1100]\ttraining's auc: 1\tvalid_1's auc: 0.977234\n",
      "[1200]\ttraining's auc: 1\tvalid_1's auc: 0.977191\n",
      "[1300]\ttraining's auc: 1\tvalid_1's auc: 0.977281\n",
      "[1400]\ttraining's auc: 1\tvalid_1's auc: 0.977189\n",
      "[1500]\ttraining's auc: 1\tvalid_1's auc: 0.977097\n",
      "\n",
      "fold 3\n",
      "[100]\ttraining's auc: 0.993638\tvalid_1's auc: 0.958233\n",
      "[200]\ttraining's auc: 0.999981\tvalid_1's auc: 0.971041\n",
      "[300]\ttraining's auc: 1\tvalid_1's auc: 0.973456\n",
      "[400]\ttraining's auc: 1\tvalid_1's auc: 0.973776\n",
      "[500]\ttraining's auc: 1\tvalid_1's auc: 0.974463\n",
      "[600]\ttraining's auc: 1\tvalid_1's auc: 0.974689\n",
      "[700]\ttraining's auc: 1\tvalid_1's auc: 0.974946\n",
      "[800]\ttraining's auc: 1\tvalid_1's auc: 0.974526\n",
      "[900]\ttraining's auc: 1\tvalid_1's auc: 0.974635\n",
      "[1000]\ttraining's auc: 1\tvalid_1's auc: 0.974521\n",
      "[1100]\ttraining's auc: 1\tvalid_1's auc: 0.974566\n",
      "[1200]\ttraining's auc: 1\tvalid_1's auc: 0.974346\n",
      "[1300]\ttraining's auc: 1\tvalid_1's auc: 0.974345\n",
      "[1400]\ttraining's auc: 1\tvalid_1's auc: 0.974285\n",
      "[1500]\ttraining's auc: 1\tvalid_1's auc: 0.974361\n",
      "\n",
      "fold 4\n",
      "[100]\ttraining's auc: 0.993195\tvalid_1's auc: 0.957254\n",
      "[200]\ttraining's auc: 0.999984\tvalid_1's auc: 0.973415\n",
      "[300]\ttraining's auc: 1\tvalid_1's auc: 0.975709\n",
      "[400]\ttraining's auc: 1\tvalid_1's auc: 0.976338\n",
      "[500]\ttraining's auc: 1\tvalid_1's auc: 0.976563\n",
      "[600]\ttraining's auc: 1\tvalid_1's auc: 0.976423\n",
      "[700]\ttraining's auc: 1\tvalid_1's auc: 0.976811\n",
      "[800]\ttraining's auc: 1\tvalid_1's auc: 0.976782\n",
      "[900]\ttraining's auc: 1\tvalid_1's auc: 0.976951\n",
      "[1000]\ttraining's auc: 1\tvalid_1's auc: 0.976802\n",
      "[1100]\ttraining's auc: 1\tvalid_1's auc: 0.976909\n",
      "[1200]\ttraining's auc: 1\tvalid_1's auc: 0.976842\n",
      "[1300]\ttraining's auc: 1\tvalid_1's auc: 0.976882\n",
      "[1400]\ttraining's auc: 1\tvalid_1's auc: 0.97679\n",
      "[1500]\ttraining's auc: 1\tvalid_1's auc: 0.976642\n",
      "\n",
      "CV roc score        : 0.9756, std: 0.0013. \n",
      "CV accuracy score   : 0.9891, std: 0.0004. \n",
      "CV recall score     : 0.7074, std: 0.0084. \n",
      "CV precision score  : 0.9730, std: 0.0046. \n",
      "CV f1 score         : 0.8192, std: 0.0067.\n"
     ]
    },
    {
     "data": {
      "image/png": "[encoded data removed]",
      "text/plain": [
       "<Figure size 432x288 with 1 Axes>"
      ]
     },
     "metadata": {
      "needs_background": "light"
     },
     "output_type": "display_data"
    },
    {
     "data": {
      "image/png": "[encoded data removed]",
      "text/plain": [
       "<Figure size 432x288 with 1 Axes>"
      ]
     },
     "metadata": {
      "needs_background": "light"
     },
     "output_type": "display_data"
    }
   ],
   "source": [
    "plt.rcParams[\"axes.grid\"] = True\n",
    "\n",
    "nfold = 4\n",
    "skf = StratifiedKFold(n_splits=nfold, shuffle=True, random_state=42)\n",
    "\n",
    "oof = np.zeros(len(train))\n",
    "mean_fpr = np.linspace(0,1,100)\n",
    "cms= []\n",
    "tprs = []\n",
    "aucs = []\n",
    "y_real = []\n",
    "y_proba = []\n",
    "recalls = []\n",
    "roc_aucs = []\n",
    "f1_scores = []\n",
    "accuracies = []\n",
    "precisions = []\n",
    "predictions = np.zeros(len(test))\n",
    "feature_importance_df = pd.DataFrame()\n",
    "n_estimator = 0\n",
    "\n",
    "\n",
    "bayes = np.zeros(len(train))\n",
    "\n",
    "i = 1\n",
    "for train_idx, valid_idx in skf.split(train, train.isFraud.values):\n",
    "    print(\"\\nfold {}\".format(i))\n",
    "    trn_data = lgb.Dataset(train.iloc[train_idx][features].values,\n",
    "                                   label=train.iloc[train_idx][target].values\n",
    "                                   )\n",
    "    val_data = lgb.Dataset(train.iloc[valid_idx][features].values,\n",
    "                                   label=train.iloc[valid_idx][target].values\n",
    "                                   )   \n",
    "    ## clf setting\n",
    "    clf = lgb.train(param_lgb, trn_data, num_boost_round = 150, valid_sets = [trn_data, val_data], verbose_eval = 100, early_stopping_rounds = 100)\n",
    "    oof[valid_idx] = clf.predict(train.iloc[valid_idx][features].values) \n",
    "    \n",
    "    predictions += clf.predict(test[features]) / nfold\n",
    "    bayes += clf.predict(train[features]) / nfold\n",
    "    \n",
    "    # Scores \n",
    "    roc_aucs.append(roc_auc_score(train.iloc[valid_idx][target].values, oof[valid_idx]))\n",
    "    accuracies.append(accuracy_score(train.iloc[valid_idx][target].values, oof[valid_idx].round()))\n",
    "    recalls.append(recall_score(train.iloc[valid_idx][target].values, oof[valid_idx].round()))\n",
    "    precisions.append(precision_score(train.iloc[valid_idx][target].values ,oof[valid_idx].round()))\n",
    "    f1_scores.append(f1_score(train.iloc[valid_idx][target].values, oof[valid_idx].round()))\n",
    "    \n",
    "    # Roc curve by folds\n",
    "    f = plt.figure(1)\n",
    "    fpr, tpr, t = roc_curve(train.iloc[valid_idx][target].values, oof[valid_idx])\n",
    "    tprs.append(interp(mean_fpr, fpr, tpr))\n",
    "    roc_auc = auc(fpr, tpr)\n",
    "    aucs.append(roc_auc)\n",
    "    plt.plot(fpr, tpr, lw=2, alpha=0.3, label='ROC fold %d (AUC = %0.4f)' % (i,roc_auc))\n",
    "    \n",
    "    # Precion recall by folds\n",
    "    g = plt.figure(2)\n",
    "    precision, recall, _ = precision_recall_curve(train.iloc[valid_idx][target].values, oof[valid_idx])\n",
    "    y_real.append(train.iloc[valid_idx][target].values)\n",
    "    y_proba.append(oof[valid_idx])\n",
    "    plt.plot(recall, precision, lw=2, alpha=0.3, label='P|R fold %d' % (i))  \n",
    "    \n",
    "    i= i+1\n",
    "    \n",
    "    # Confusion matrix by folds\n",
    "    cms.append(confusion_matrix(train.iloc[valid_idx][target].values, oof[valid_idx].round()))\n",
    "    \n",
    "    # Features imp\n",
    "    fold_importance_df = pd.DataFrame()\n",
    "    fold_importance_df[\"Feature\"] = features\n",
    "    fold_importance_df[\"importance\"] = clf.feature_importance()\n",
    "    fold_importance_df[\"fold\"] = nfold + 1\n",
    "    feature_importance_df = pd.concat([feature_importance_df, fold_importance_df], axis=0)\n",
    "\n",
    "# Metrics\n",
    "print(\n",
    "        '\\nCV roc score        : {0:.4f}, std: {1:.4f}.'.format(np.mean(roc_aucs), np.std(roc_aucs)),\n",
    "        '\\nCV accuracy score   : {0:.4f}, std: {1:.4f}.'.format(np.mean(accuracies), np.std(accuracies)),\n",
    "        '\\nCV recall score     : {0:.4f}, std: {1:.4f}.'.format(np.mean(recalls), np.std(recalls)),\n",
    "        '\\nCV precision score  : {0:.4f}, std: {1:.4f}.'.format(np.mean(precisions), np.std(precisions)),\n",
    "        '\\nCV f1 score         : {0:.4f}, std: {1:.4f}.'.format(np.mean(f1_scores), np.std(f1_scores))\n",
    ")\n",
    "\n",
    "### below is for visualization\n",
    "# #ROC \n",
    "# f = plt.figure(1)\n",
    "# plt.plot([0,1],[0,1],linestyle = '--',lw = 2,color = 'grey')\n",
    "# mean_tpr = np.mean(tprs, axis=0)\n",
    "# mean_auc = auc(mean_fpr, mean_tpr)\n",
    "# plt.plot(mean_fpr, mean_tpr, color='blue',\n",
    "#          label=r'Mean ROC (AUC = %0.4f)' % (np.mean(roc_aucs)),lw=2, alpha=1)\n",
    "\n",
    "# plt.xlabel('False Positive Rate')\n",
    "# plt.ylabel('True Positive Rate')\n",
    "# plt.title('LGB ROC curve by folds')\n",
    "# plt.legend(loc=\"lower right\")\n",
    "\n",
    "# # PR plt\n",
    "# g = plt.figure(2)\n",
    "# plt.plot([0,1],[1,0],linestyle = '--',lw = 2,color = 'grey')\n",
    "# y_real = np.concatenate(y_real)\n",
    "# y_proba = np.concatenate(y_proba)\n",
    "# precision, recall, _ = precision_recall_curve(y_real, y_proba)\n",
    "# plt.plot(recall, precision, color='blue',\n",
    "#          label=r'Mean P|R')\n",
    "# plt.xlabel('Recall')\n",
    "# plt.ylabel('Precision')\n",
    "# plt.title('P|R curve by folds')\n",
    "# plt.legend(loc=\"lower left\")\n",
    "\n",
    "# # Confusion maxtrix & metrics\n",
    "# plt.rcParams[\"axes.grid\"] = False\n",
    "# cm = np.average(cms, axis=0)\n",
    "# class_names = [0,1]\n",
    "# plt.figure()\n",
    "# plot_confusion_matrix(cm, \n",
    "#                       classes=class_names, \n",
    "#                       title= 'LGB Confusion matrix [averaged/folds]')\n",
    "# plt.show()"
   ]
  },
  {
   "cell_type": "code",
   "execution_count": 17,
   "metadata": {},
   "outputs": [],
   "source": [
    "sample_submission['isFraud'] = predictions\n",
    "sample_submission.to_csv('preds/bayes_lgb.csv')"
   ]
  },
  {
   "cell_type": "code",
   "execution_count": 18,
   "metadata": {},
   "outputs": [],
   "source": [
    "params = param_lgb"
   ]
  },
  {
   "cell_type": "markdown",
   "metadata": {},
   "source": [
    "# Modeling"
   ]
  },
  {
   "cell_type": "code",
   "execution_count": 8,
   "metadata": {},
   "outputs": [],
   "source": [
    "y_train = train['isFraud'].copy()\n",
    "X_train = train.drop('isFraud', axis=1)\n",
    "X_test = test.copy()\n",
    "\n",
    "del train\n",
    "del test"
   ]
  },
  {
   "cell_type": "code",
   "execution_count": 24,
   "metadata": {},
   "outputs": [
    {
     "data": {
      "text/plain": [
       "(590540, 645)"
      ]
     },
     "execution_count": 24,
     "metadata": {},
     "output_type": "execute_result"
    }
   ],
   "source": [
    "X_train.shape"
   ]
  },
  {
   "cell_type": "code",
   "execution_count": 10,
   "metadata": {},
   "outputs": [
    {
     "data": {
      "text/plain": [
       "{'bagging_fraction': 0.6208557761807184,\n",
       " 'bagging_seed': 12,\n",
       " 'boost_from_average': True,\n",
       " 'boosting_type': 'dart',\n",
       " 'data_random_seed': 12,\n",
       " 'drop_seed': 12,\n",
       " 'feature_fraction': 0.8161334733057637,\n",
       " 'feature_fraction_seed': 12,\n",
       " 'is_unbalance': False,\n",
       " 'max_depth': 26,\n",
       " 'metric': 'auc',\n",
       " 'min_child_weight': 1.1487246317328306,\n",
       " 'min_data_in_leaf': 1,\n",
       " 'num_leaves': 799,\n",
       " 'objective': 'binary',\n",
       " 'reg_alpha': 0.2759381261875936,\n",
       " 'reg_lambda': 0.5598769107896939,\n",
       " 'save_binary': True,\n",
       " 'seed': 12,\n",
       " 'verbose': 1}"
      ]
     },
     "execution_count": 10,
     "metadata": {},
     "output_type": "execute_result"
    }
   ],
   "source": [
    "params"
   ]
  },
  {
   "cell_type": "code",
   "execution_count": 11,
   "metadata": {},
   "outputs": [
    {
     "name": "stdout",
     "output_type": "stream",
     "text": [
      "GroupKFold(n_splits=5)\n"
     ]
    }
   ],
   "source": [
    "## for fold options - KFold or GroupKFold\n",
    "from sklearn.model_selection import TimeSeriesSplit,KFold, GroupKFold\n",
    "n_fold = 5\n",
    "folds = KFold(n_splits=n_fold,shuffle=True)\n",
    "# folds = GroupKFold(n_splits=n_fold)\n",
    "# split_gruops = train['DT_M']\n",
    "\n",
    "print(folds)"
   ]
  },
  {
   "cell_type": "code",
   "execution_count": 20,
   "metadata": {
    "scrolled": true
   },
   "outputs": [
    {
     "name": "stdout",
     "output_type": "stream",
     "text": [
      "0\n",
      "finish train\n",
      "finish pred\n",
      "ROC accuracy: 0.9070130465760226\n",
      "1\n",
      "finish train\n",
      "finish pred\n",
      "ROC accuracy: 0.9447442576724936\n",
      "2\n",
      "finish train\n",
      "finish pred\n",
      "ROC accuracy: 0.9430777885480857\n",
      "3\n",
      "finish train\n",
      "finish pred\n",
      "ROC accuracy: 0.9389094823261478\n",
      "4\n",
      "finish train\n",
      "finish pred\n",
      "ROC accuracy: 0.9509038568646326\n"
     ]
    }
   ],
   "source": [
    "gc.collect()\n",
    "lgb_submission=sample_submission.copy()\n",
    "lgb_submission['isFraud'] = 0\n",
    "lgb_tr = np.zeros(len(train))\n",
    "import lightgbm as lgb\n",
    "from sklearn.metrics import roc_auc_score\n",
    "\n",
    "for fold_n, (train_index, valid_index) in enumerate(folds.split(X_train)):\n",
    "#    replace for groupkfold: folds.split(X_train, y_train, groups=split_gruops)\n",
    "    print(fold_n)\n",
    "    \n",
    "    X_train_, X_valid = train.iloc[train_index], train.iloc[valid_index]\n",
    "    y_train_, y_valid = train.iloc[train_index], train.iloc[valid_index]\n",
    "    dtrain = lgb.Dataset(X_train, label=y_train)\n",
    "    dvalid = lgb.Dataset(X_valid, label=y_valid)\n",
    "    \n",
    "    lgbclf = lgb.LGBMClassifier(\n",
    "                        **params,\n",
    "                        n_estimators=500\n",
    "    )\n",
    "    \n",
    "    X_train_, X_valid = X_train.iloc[train_index], X_train.iloc[valid_index]\n",
    "    y_train_, y_valid = y_train.iloc[train_index], y_train.iloc[valid_index]\n",
    "    lgbclf.fit(X_train_,y_train_)\n",
    "    \n",
    "    del X_train_,y_train_\n",
    "    print('finish train')\n",
    "    pred=lgbclf.predict_proba(X_test)[:,1]\n",
    "    lgb_tr += lgbclf.predict_proba(X_train)[:,1]/n_fold\n",
    "    val=lgbclf.predict_proba(X_valid)[:,1]\n",
    "    print('finish pred')  \n",
    "    if n_fold != 3:\n",
    "        del lgbclf\n",
    "    del X_valid\n",
    "    print('ROC accuracy: {}'.format(roc_auc_score(y_valid, val)))\n",
    "    del val,y_valid\n",
    "    lgb_submission['isFraud'] = lgb_submission['isFraud']+pred/n_fold\n",
    "    del pred\n",
    "    gc.collect()\n",
    "    \n",
    "lgb_submission.to_csv('preds/lgb_submission.csv')"
   ]
  },
  {
   "cell_type": "code",
   "execution_count": 8,
   "metadata": {},
   "outputs": [],
   "source": [
    "f = open('params.bin', 'rb')\n",
    "params = pickle.load(f)\n",
    "f.close()"
   ]
  },
  {
   "cell_type": "code",
   "execution_count": 28,
   "metadata": {},
   "outputs": [
    {
     "data": {
      "text/plain": [
       "{'bagging_fraction': 0.6208557761807184,\n",
       " 'bagging_seed': 12,\n",
       " 'boost_from_average': True,\n",
       " 'boosting_type': 'dart',\n",
       " 'data_random_seed': 12,\n",
       " 'drop_seed': 12,\n",
       " 'feature_fraction': 0.8161334733057637,\n",
       " 'feature_fraction_seed': 12,\n",
       " 'is_unbalance': False,\n",
       " 'max_depth': 26,\n",
       " 'metric': 'auc',\n",
       " 'min_child_weight': 1.1487246317328306,\n",
       " 'min_data_in_leaf': 1,\n",
       " 'num_leaves': 799,\n",
       " 'objective': 'binary',\n",
       " 'reg_alpha': 0.2759381261875936,\n",
       " 'reg_lambda': 0.5598769107896939,\n",
       " 'save_binary': True,\n",
       " 'seed': 12,\n",
       " 'verbose': 1}"
      ]
     },
     "execution_count": 28,
     "metadata": {},
     "output_type": "execute_result"
    }
   ],
   "source": [
    "params"
   ]
  },
  {
   "cell_type": "code",
   "execution_count": 12,
   "metadata": {},
   "outputs": [
    {
     "data": {
      "text/plain": [
       "11"
      ]
     },
     "execution_count": 12,
     "metadata": {},
     "output_type": "execute_result"
    }
   ],
   "source": [
    "params_fx = {'min_data_in_leaf': params['min_data_in_leaf'],\n",
    " 'num_leaves': params['num_leaves'],\n",
    " 'min_child_weight': params['min_child_weight'],\n",
    " 'bagging_fraction': params['bagging_fraction'],\n",
    " 'feature_fraction': params['feature_fraction'],\n",
    " 'reg_lambda': params['reg_lambda'],\n",
    " 'reg_alpha': params['reg_alpha'],\n",
    " 'max_depth': params['max_depth'],\n",
    "\n",
    "}\n",
    "\n",
    "col = []\n",
    "for f in train.columns:\n",
    "    if f in categorical:\n",
    "        \n",
    "            train[f] = train[f].replace(\"nan\", \"other\")\n",
    "            train[f] = train[f].replace(np.nan, \"other\")\n",
    "            test[f] = test[f].replace(\"nan\", \"other\")\n",
    "            test[f] = test[f].replace(np.nan, \"other\")\n",
    "            lbl = preprocessing.LabelEncoder()\n",
    "            lbl.fit(list(train[f].values) + list(test[f].values))\n",
    "            train[f] = lbl.transform(list(train[f].values))\n",
    "            test[f] = lbl.transform(list(test[f].values))\n",
    "            lbl = preprocessing.LabelEncoder()\n",
    "            lbl.fit(list(train[f].values) + list(test[f].values))\n",
    "            train[f] = lbl.transform(list(train[f].values))\n",
    "            test[f] = lbl.transform(list(test[f].values)) \n",
    "            col.append(f)\n",
    "            \n",
    "y_train = train['isFraud'].copy()\n",
    "X_train = train.drop('isFraud', axis=1)\n",
    "X_test = test.copy()\n",
    "\n",
    "gc.collect()"
   ]
  },
  {
   "cell_type": "code",
   "execution_count": 13,
   "metadata": {},
   "outputs": [
    {
     "data": {
      "text/plain": [
       "{'bagging_fraction': 0.6208557761807184,\n",
       " 'feature_fraction': 0.8161334733057637,\n",
       " 'max_depth': 26,\n",
       " 'min_child_weight': 1.1487246317328306,\n",
       " 'min_data_in_leaf': 1,\n",
       " 'num_leaves': 799,\n",
       " 'reg_alpha': 0.2759381261875936,\n",
       " 'reg_lambda': 0.5598769107896939}"
      ]
     },
     "execution_count": 13,
     "metadata": {},
     "output_type": "execute_result"
    }
   ],
   "source": [
    "params_fx"
   ]
  },
  {
   "cell_type": "code",
   "execution_count": 11,
   "metadata": {},
   "outputs": [],
   "source": [
    "params_fx['max_depth'] = 13"
   ]
  },
  {
   "cell_type": "code",
   "execution_count": 19,
   "metadata": {
    "scrolled": true
   },
   "outputs": [
    {
     "name": "stdout",
     "output_type": "stream",
     "text": [
      "0\n",
      "ROC accuracy: 0.9052945832066803\n",
      "1\n",
      "ROC accuracy: 0.941635351643685\n",
      "2\n",
      "ROC accuracy: 0.9381577110140165\n",
      "3\n",
      "ROC accuracy: 0.9364709408817641\n",
      "4\n",
      "ROC accuracy: 0.9470379147664763\n"
     ]
    }
   ],
   "source": [
    "gc.collect()\n",
    "xgb_submission=sample_submission.copy()\n",
    "\n",
    "xgb_submission['isFraud'] = 0\n",
    "xgb_tr = np.zeros(len(train))\n",
    "import os\n",
    "os.environ['KMP_DUPLICATE_LIB_OK']='True'\n",
    "import xgboost as xgb\n",
    "from sklearn.metrics import roc_auc_score\n",
    "\n",
    "# folds.split(X_train)\n",
    "for fold_n, (train_index, valid_index) in enumerate(folds.split(X_train, y_train, groups=split_gruops)):\n",
    "    print(fold_n)\n",
    "    xgbclf = xgb.XGBClassifier(\n",
    "            **params_fx,\n",
    "#             n_estimators=500,\n",
    "            tree_method = 'hist'\n",
    "    )\n",
    "    \n",
    "    X_train_, X_valid = X_train.iloc[train_index], X_train.iloc[valid_index]\n",
    "    y_train_, y_valid = y_train.iloc[train_index], y_train.iloc[valid_index]\n",
    "    xgbclf.fit(X_train_,y_train_)\n",
    "    del X_train_,y_train_\n",
    "    pred=xgbclf.predict_proba(X_test)[:,1]\n",
    "    xgb_tr+=xgbclf.predict_proba(X_train)[:,1]/n_fold\n",
    "    val=xgbclf.predict_proba(X_valid)[:,1]\n",
    "    if fold_n != 3:\n",
    "        del xgbclf\n",
    "    del X_valid\n",
    "    print('ROC accuracy: {}'.format(roc_auc_score(y_valid, val)))\n",
    "    del val,y_valid\n",
    "    xgb_submission['isFraud'] = xgb_submission['isFraud']+pred/n_fold\n",
    "    del pred\n",
    "    gc.collect()\n",
    "    \n",
    "xgb_submission.to_csv('preds/xgb_submission.csv')"
   ]
  },
  {
   "cell_type": "code",
   "execution_count": 18,
   "metadata": {},
   "outputs": [
    {
     "data": {
      "text/plain": [
       "(590540, 645)"
      ]
     },
     "execution_count": 18,
     "metadata": {},
     "output_type": "execute_result"
    }
   ],
   "source": [
    "X_train.shape"
   ]
  },
  {
   "cell_type": "code",
   "execution_count": 21,
   "metadata": {},
   "outputs": [],
   "source": [
    "train_df = train.copy()\n",
    "test_df = test.copy()"
   ]
  },
  {
   "cell_type": "code",
   "execution_count": null,
   "metadata": {},
   "outputs": [],
   "source": [
    "train_df.columns"
   ]
  },
  {
   "cell_type": "code",
   "execution_count": 22,
   "metadata": {},
   "outputs": [
    {
     "data": {
      "text/plain": [
       "0"
      ]
     },
     "execution_count": 22,
     "metadata": {},
     "output_type": "execute_result"
    }
   ],
   "source": [
    "gc.collect()"
   ]
  },
  {
   "cell_type": "code",
   "execution_count": 23,
   "metadata": {},
   "outputs": [],
   "source": []
  },
  {
   "cell_type": "code",
   "execution_count": 24,
   "metadata": {},
   "outputs": [
    {
     "data": {
      "text/plain": [
       "{'bagging_fraction': 0.6208557761807184,\n",
       " 'feature_fraction': 0.8161334733057637,\n",
       " 'max_depth': 26,\n",
       " 'min_child_weight': 1.1487246317328306,\n",
       " 'min_data_in_leaf': 1,\n",
       " 'num_leaves': 799,\n",
       " 'reg_alpha': 0.2759381261875936,\n",
       " 'reg_lambda': 0.5598769107896939}"
      ]
     },
     "execution_count": 24,
     "metadata": {},
     "output_type": "execute_result"
    }
   ],
   "source": [
    "params_fx"
   ]
  },
  {
   "cell_type": "code",
   "execution_count": 25,
   "metadata": {},
   "outputs": [],
   "source": [
    "import xgboost as xgb\n",
    "import lightgbm as lgb\n",
    "from sklearn.ensemble import RandomForestRegressor\n",
    "\n",
    "lgbclf = lgb.LGBMRegressor(**params,\n",
    "                          n_estimators=500)\n",
    "\n",
    "xgbclf = xgb.XGBRegressor(\n",
    "            **params_fx,\n",
    "            n_estimators=500,\n",
    "            tree_method = 'hist'\n",
    "    )\n",
    "\n",
    "rfclf = RandomForestRegressor(n_estimators=150,\n",
    "                              max_depth=9, \n",
    "                                max_features='sqrt', \n",
    "                                random_state=12)"
   ]
  },
  {
   "cell_type": "code",
   "execution_count": 26,
   "metadata": {},
   "outputs": [],
   "source": [
    "models = [[lgbclf, xgbclf], # Level 1\n",
    "          [rfclf]] # Level 2"
   ]
  },
  {
   "cell_type": "code",
   "execution_count": null,
   "metadata": {},
   "outputs": [],
   "source": [
    "X_train=X_train.replace(np.inf,-999)\n",
    "X_train=X_train.replace(-np.inf,-999)\n",
    "X_test=X_test.replace(np.inf,-999)\n",
    "X_test=X_test.replace(-np.inf,-999)"
   ]
  },
  {
   "cell_type": "code",
   "execution_count": null,
   "metadata": {},
   "outputs": [
    {
     "name": "stdout",
     "output_type": "stream",
     "text": [
      "====================== Start of Level 0 ======================\n",
      "Input Dimensionality 645 at Level 0 \n",
      "2 models included in Level 0 \n"
     ]
    }
   ],
   "source": [
    "from pystacknet.pystacknet import StackNetClassifier\n",
    "\n",
    "# Specify parameters for stacked model and begin training\n",
    "model = StackNetClassifier(models, \n",
    "                           metric=\"auc\", \n",
    "                           folds=4,\n",
    "                           restacking=False,\n",
    "                           use_retraining=True,\n",
    "                           use_proba=True, # To use predict_proba after training\n",
    "                           random_state=12,\n",
    "                           n_jobs=-1, \n",
    "                           verbose=1)\n",
    "\n",
    "model.fit(X_train.values, y_train.values)"
   ]
  },
  {
   "cell_type": "code",
   "execution_count": null,
   "metadata": {
    "scrolled": true
   },
   "outputs": [],
   "source": [
    "stack_submission = sample_submission.copy()\n",
    "preds = model.predict_proba(X_test.values)[:, 1]\n",
    "stack = model.predict_proba(X_train.values)[:,1]\n",
    "stack_submission['isFraud'] = preds"
   ]
  },
  {
   "cell_type": "code",
   "execution_count": null,
   "metadata": {},
   "outputs": [],
   "source": [
    "## for ensemble parameter use this with nn or something\n",
    "\n",
    "# meaning_set = pd.DataFrame()\n",
    "\n",
    "# meaning_set['m1'] = lgb_tr\n",
    "# meaning_set['m2'] = xgb_tr\n",
    "# meaning_set['m3'] = stack\n",
    "# # meaning_set['m4'] = lgb_tr\n",
    "\n",
    "# y_mean = y_train"
   ]
  },
  {
   "cell_type": "code",
   "execution_count": null,
   "metadata": {},
   "outputs": [],
   "source": [
    "ensemble=sample_submission.copy()\n",
    "ensemble.isFraud=lgb_submission*0.4+xgb_submission*0.2+stack_submission*0.4\n",
    "#ensemble.isFraud=lgb_submission*0.5+xgb_submission*0.5\n",
    "\n",
    "ensemble.to_csv('preds/xgb_lgb_stacking.csv')\n",
    "lgb_submission.to_csv('preds/lgb_submission.csv')\n",
    "xgb_submission.to_csv('preds/xgb_submission.csv')\n",
    "stack_submission.to_csv('preds/ens_submission.csv')"
   ]
  },
  {
   "cell_type": "code",
   "execution_count": null,
   "metadata": {},
   "outputs": [],
   "source": []
  },
  {
   "cell_type": "code",
   "execution_count": 44,
   "metadata": {
    "scrolled": true
   },
   "outputs": [],
   "source": [
    "import xgboost as xgb\n",
    "import lightgbm as lgb\n",
    "\n",
    "lgbclf = lgb.LGBMClassifier(\n",
    "    **params,\n",
    "    n_estimator = 200,\n",
    ")\n",
    "    \n",
    "lgbclf.fit(X_train, y_train)\n",
    "\n",
    "lgb_imp = lgbclf.feature_importances_\n",
    "\n",
    "lgb_imp_idx = []\n",
    "cols = X_train.columns\n",
    "for i, imp in enumerate(lgb_imp):\n",
    "    if imp > 0:\n",
    "        lgb_imp_idx.append(i)\n",
    "        \n",
    "new_cols_imp = cols[lgb_imp_idx]\n",
    "\n",
    "# print(len(cols_imp)  ,len(new_cols_imp))"
   ]
  },
  {
   "cell_type": "code",
   "execution_count": 45,
   "metadata": {},
   "outputs": [],
   "source": [
    "new_cols_imp = list(new_cols_imp)\n",
    "new_cols_imp.append('isFraud')"
   ]
  },
  {
   "cell_type": "code",
   "execution_count": 46,
   "metadata": {},
   "outputs": [
    {
     "name": "stdout",
     "output_type": "stream",
     "text": [
      "645 643\n"
     ]
    }
   ],
   "source": [
    "print(len(train.columns), len(new_cols_imp))"
   ]
  }
 ],
 "metadata": {
  "kernelspec": {
   "display_name": "Python 3",
   "language": "python",
   "name": "python3"
  },
  "language_info": {
   "codemirror_mode": {
    "name": "ipython",
    "version": 3
   },
   "file_extension": ".py",
   "mimetype": "text/x-python",
   "name": "python",
   "nbconvert_exporter": "python",
   "pygments_lexer": "ipython3",
   "version": "3.6.9"
  },
  "toc": {
   "base_numbering": 1,
   "nav_menu": {},
   "number_sections": true,
   "sideBar": true,
   "skip_h1_title": false,
   "title_cell": "Table of Contents",
   "title_sidebar": "Contents",
   "toc_cell": false,
   "toc_position": {},
   "toc_section_display": true,
   "toc_window_display": false
  }
 },
 "nbformat": 4,
 "nbformat_minor": 2
}
