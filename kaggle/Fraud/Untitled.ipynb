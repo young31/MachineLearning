{
 "cells": [
  {
   "cell_type": "code",
   "execution_count": 1,
   "metadata": {},
   "outputs": [],
   "source": [
    "import warnings\n",
    "warnings.filterwarnings(\"ignore\")\n",
    "\n",
    "import numpy as np # linear algebra\n",
    "import pandas as pd # data processing, CSV file I/O (e.g. pd.read_csv)\n",
    "import glob\n",
    "\n",
    "from scipy.stats import describe\n",
    "import seaborn as sns\n",
    "import matplotlib.pyplot as plt\n",
    "%matplotlib inline"
   ]
  },
  {
   "cell_type": "code",
   "execution_count": 3,
   "metadata": {},
   "outputs": [],
   "source": [
    "LABELS = [\"isFraud\"]\n",
    "all_files = glob.glob(\"blend/*.csv\")\n",
    "scores = np.zeros(len(all_files))\n",
    "for i in range(len(all_files)):\n",
    "    scores[i] = float('.'+all_files[i].split(\".\")[1])"
   ]
  },
  {
   "cell_type": "code",
   "execution_count": 4,
   "metadata": {},
   "outputs": [
    {
     "name": "stdout",
     "output_type": "stream",
     "text": [
      "0 0.9533 blend\\stargmean1_0.9533.csv\n",
      "1 0.9533 blend\\gmean_0.9533.csv\n",
      "2 0.9533 blend\\gmean2_0.9533.csv\n",
      "3 0.9533 blend\\gmean1_0.9533.csv\n",
      "4 0.9532 blend\\gmean_0.9532.csv\n",
      "5 0.9532 blend\\blend_0.9532.csv\n",
      "6 0.9531 blend\\gblend_0.9531.csv\n",
      "7 0.9531 blend\\blend_0.9531.csv\n",
      "8 0.953 blend\\blend_0.9530.csv\n"
     ]
    }
   ],
   "source": [
    "top = scores.argsort()[::-1]\n",
    "for i, f in enumerate(top):\n",
    "    print(i,scores[f],all_files[f])"
   ]
  },
  {
   "cell_type": "code",
   "execution_count": 5,
   "metadata": {},
   "outputs": [],
   "source": [
    "outs = [pd.read_csv(all_files[f], index_col=0) for f in top]\n",
    "concat_sub = pd.concat(outs, axis=1)\n",
    "cols = list(map(lambda x: \"m\" + str(x), range(len(concat_sub.columns))))\n",
    "concat_sub.columns = cols"
   ]
  },
  {
   "cell_type": "code",
   "execution_count": 6,
   "metadata": {},
   "outputs": [
    {
     "data": {
      "image/png": "[encoded data removed]",
      "text/plain": [
       "<Figure size 792x792 with 2 Axes>"
      ]
     },
     "metadata": {
      "needs_background": "light"
     },
     "output_type": "display_data"
    }
   ],
   "source": [
    "corr = concat_sub.corr()\n",
    "mask = np.zeros_like(corr, dtype=np.bool)\n",
    "mask[np.triu_indices_from(mask)] = True\n",
    "\n",
    "# Set up the matplotlib figure\n",
    "f, ax = plt.subplots(figsize=(len(cols)+2, len(cols)+2))\n",
    "\n",
    "# Draw the heatmap with the mask and correct aspect ratio\n",
    "_ = sns.heatmap(corr,mask=mask,cmap='prism',center=0, linewidths=1,\n",
    "                annot=True,fmt='.4f', cbar_kws={\"shrink\":.2})"
   ]
  },
  {
   "cell_type": "code",
   "execution_count": 7,
   "metadata": {},
   "outputs": [
    {
     "data": {
      "text/plain": [
       "m6    0.971936\n",
       "m7    0.990415\n",
       "m8    0.992890\n",
       "m5    0.993137\n",
       "m4    0.993408\n",
       "m3    0.994134\n",
       "m0    0.994428\n",
       "m1    0.994453\n",
       "m2    0.994605\n",
       "dtype: float64"
      ]
     },
     "execution_count": 7,
     "metadata": {},
     "output_type": "execute_result"
    }
   ],
   "source": [
    "mean_corr = corr.mean()\n",
    "mean_corr = mean_corr.sort_values(ascending=True)\n",
    "mean_corr = mean_corr[:10]\n",
    "mean_corr"
   ]
  },
  {
   "cell_type": "code",
   "execution_count": 8,
   "metadata": {},
   "outputs": [],
   "source": [
    "m_gmean1 = 0\n",
    "for n in mean_corr.index:\n",
    "    m_gmean1 += np.log(concat_sub[n])\n",
    "m_gmean1 = np.exp(m_gmean1/len(mean_corr))"
   ]
  },
  {
   "cell_type": "code",
   "execution_count": 9,
   "metadata": {},
   "outputs": [],
   "source": [
    "rank = np.tril(corr.values,-1)\n",
    "rank[rank<0.92] = 1\n",
    "m = (rank>0).sum() - (rank>0.97).sum()\n",
    "m_gmean2, s = 0, 0\n",
    "for n in range(m):\n",
    "    mx = np.unravel_index(rank.argmin(), rank.shape)\n",
    "    w = (m-n)/m\n",
    "    m_gmean2 += w*(np.log(concat_sub.iloc[:,mx[0]])+np.log(concat_sub.iloc[:,mx[1]]))/2\n",
    "    s += w\n",
    "    rank[mx] = 1\n",
    "m_gmean2 = np.exp(m_gmean2/s)"
   ]
  },
  {
   "cell_type": "code",
   "execution_count": 10,
   "metadata": {},
   "outputs": [],
   "source": [
    "top_mean = 0\n",
    "s = 0\n",
    "for n in [0, 2, 6, 7, 8]:\n",
    "    top_mean += concat_sub.iloc[:,n]*scores[top[n]]\n",
    "    s += scores[top[n]]\n",
    "top_mean /= s"
   ]
  },
  {
   "cell_type": "code",
   "execution_count": 11,
   "metadata": {},
   "outputs": [
    {
     "data": {
      "text/plain": [
       "DescribeResult(nobs=506691, minmax=(0.0, 1.050787757335592), mean=0.02563211848171236, variance=0.013131810070451402, skewness=7.360854320317396, kurtosis=56.43403757946722)"
      ]
     },
     "execution_count": 11,
     "metadata": {},
     "output_type": "execute_result"
    }
   ],
   "source": [
    "m_gmean = np.exp(0.3*np.log(m_gmean1) + 0.2*np.log(m_gmean2) + 0.5*np.log(top_mean))\n",
    "describe(m_gmean)"
   ]
  },
  {
   "cell_type": "code",
   "execution_count": 12,
   "metadata": {},
   "outputs": [],
   "source": [
    "sample = pd.read_csv('gmean1.csv')\n",
    "sample['isFraud'] = m_gmean.values\n",
    "sample.to_csv('temp/blend11.csv', index=False)"
   ]
  },
  {
   "cell_type": "code",
   "execution_count": null,
   "metadata": {},
   "outputs": [],
   "source": [
    "w = sum(scores)\n",
    "sample['isFraud'] = np.zeros(len(sample))\n",
    "for f in range(0, len(all_files)):\n",
    "    temp = pd.read_csv(all_files[f])\n",
    "    sample['isFraud'] += temp['isFraud']*scores[i]/w\n",
    "    \n"
   ]
  },
  {
   "cell_type": "code",
   "execution_count": null,
   "metadata": {},
   "outputs": [],
   "source": [
    "sample.to_csv('temp/blend10.csv', index=False)"
   ]
  },
  {
   "cell_type": "code",
   "execution_count": null,
   "metadata": {},
   "outputs": [],
   "source": []
  }
 ],
 "metadata": {
  "kernelspec": {
   "display_name": "Python 3",
   "language": "python",
   "name": "python3"
  },
  "language_info": {
   "codemirror_mode": {
    "name": "ipython",
    "version": 3
   },
   "file_extension": ".py",
   "mimetype": "text/x-python",
   "name": "python",
   "nbconvert_exporter": "python",
   "pygments_lexer": "ipython3",
   "version": "3.6.9"
  },
  "toc": {
   "base_numbering": 1,
   "nav_menu": {},
   "number_sections": true,
   "sideBar": true,
   "skip_h1_title": false,
   "title_cell": "Table of Contents",
   "title_sidebar": "Contents",
   "toc_cell": false,
   "toc_position": {},
   "toc_section_display": true,
   "toc_window_display": false
  }
 },
 "nbformat": 4,
 "nbformat_minor": 2
}
