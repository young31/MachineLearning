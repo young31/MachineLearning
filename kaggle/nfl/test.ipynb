{
 "cells": [
  {
   "cell_type": "code",
   "execution_count": 1,
   "metadata": {},
   "outputs": [],
   "source": [
    "import numpy as np\n",
    "import pandas as pd"
   ]
  },
  {
   "cell_type": "code",
   "execution_count": null,
   "metadata": {},
   "outputs": [],
   "source": []
  },
  {
   "cell_type": "code",
   "execution_count": null,
   "metadata": {},
   "outputs": [],
   "source": [
    "categorical = [\n",
    "    'NflId', 'JerseyNumber', 'Season', 'Quarter', 'PossessionTeam', 'FieldPosition',\n",
    "    'NflIdRusher', 'OffenseFormation',  'Position', 'Week',\n",
    "    'StadiumType', 'Turf', 'VsTeam', 'HomeTeam', 'IsOffense', 'HomeField', \n",
    "    'Field_eq_Possession', 'Conf'\n",
    "]\n",
    "\n",
    "numerical = []\n",
    "for i in aa.columns:\n",
    "    if i not in categorical:\n",
    "        numerical.append(i)"
   ]
  },
  {
   "cell_type": "code",
   "execution_count": null,
   "metadata": {},
   "outputs": [],
   "source": [
    "winratio19_20 = {\n",
    "    'KC': 0.714,\n",
    "    'NE':1,\n",
    "    'NYJ': 0.2,\n",
    "    'BUF': 0.833,\n",
    "    'ATL': 0.143,\n",
    "    'CHI': 0.5,\n",
    "    'BLT': 0.714,\n",
    "    'CIN': 0,\n",
    "    'PIT': 0.333,\n",
    "    'CLV': 0.333,\n",
    "    'ARZ': 0.5,\n",
    "    'DET': 0.417,\n",
    "    'JAX': 0.429,\n",
    "    'HST': 0.571,\n",
    "    'OAK': 0.5,\n",
    "    'TEN': 0.429,\n",
    "    'PHI': 0.429,\n",
    "    'WAS': 0.143,\n",
    "    'IND': 0.667,\n",
    "    'LA': 0.571,\n",
    "    'SEA': 0.714,\n",
    "    'GB': 0.857,\n",
    "    'CAR': 0.667,\n",
    "    'SF': 1,\n",
    "    'NYG': 0.286,\n",
    "    'DAL': 0.571,\n",
    "    'NO': 0.857,\n",
    "    'MIN': 0.714,\n",
    "    'LAC': 0.286,\n",
    "    'DEN': 0.286,\n",
    "    'TB': 0.333,\n",
    "    'MIA': 0\n",
    "}"
   ]
  },
  {
   "cell_type": "code",
   "execution_count": null,
   "metadata": {},
   "outputs": [],
   "source": []
  }
 ],
 "metadata": {
  "kernelspec": {
   "display_name": "Python 3",
   "language": "python",
   "name": "python3"
  },
  "language_info": {
   "codemirror_mode": {
    "name": "ipython",
    "version": 3
   },
   "file_extension": ".py",
   "mimetype": "text/x-python",
   "name": "python",
   "nbconvert_exporter": "python",
   "pygments_lexer": "ipython3",
   "version": "3.6.9"
  },
  "toc": {
   "base_numbering": 1,
   "nav_menu": {},
   "number_sections": true,
   "sideBar": true,
   "skip_h1_title": false,
   "title_cell": "Table of Contents",
   "title_sidebar": "Contents",
   "toc_cell": false,
   "toc_position": {},
   "toc_section_display": true,
   "toc_window_display": false
  }
 },
 "nbformat": 4,
 "nbformat_minor": 2
}
