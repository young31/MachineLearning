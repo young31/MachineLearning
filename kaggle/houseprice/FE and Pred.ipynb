{
 "cells": [
  {
   "cell_type": "code",
   "execution_count": null,
   "metadata": {},
   "outputs": [],
   "source": [
    "scaling 해보기\n",
    "elasticnet 및 voting 곁들이기\n",
    "stacking추가"
   ]
  },
  {
   "cell_type": "code",
   "execution_count": 32,
   "metadata": {},
   "outputs": [
    {
     "name": "stderr",
     "output_type": "stream",
     "text": [
      "Using TensorFlow backend.\n"
     ]
    }
   ],
   "source": [
    "import numpy as np\n",
    "import pandas as pd\n",
    "\n",
    "from scipy.stats import norm, skew\n",
    "from scipy.special import boxcox1p\n",
    "from scipy.stats import boxcox_normmax\n",
    "\n",
    "from sklearn import feature_selection\n",
    "from sklearn import model_selection\n",
    "from sklearn.model_selection import train_test_split\n",
    "from sklearn import metrics\n",
    "from sklearn.impute import SimpleImputer\n",
    "from sklearn.preprocessing import StandardScaler, OneHotEncoder\n",
    "from sklearn.preprocessing import MinMaxScaler, RobustScaler\n",
    "from sklearn.linear_model import ElasticNet\n",
    "from sklearn.ensemble import RandomForestRegressor, AdaBoostRegressor, VotingRegressor, GradientBoostingRegressor\n",
    "from sklearn.svm import SVR\n",
    "\n",
    "\n",
    "import tensorflow as tf\n",
    "from tensorflow import keras\n",
    "from keras import layers, models, optimizers\n",
    "from keras.regularizers import L1L2\n",
    "\n",
    "import os\n",
    "import time\n",
    "import gc\n"
   ]
  },
  {
   "cell_type": "code",
   "execution_count": 10,
   "metadata": {},
   "outputs": [
    {
     "name": "stdout",
     "output_type": "stream",
     "text": [
      "(1460, 81) (1459, 80)\n"
     ]
    }
   ],
   "source": [
    "training = pd.read_csv('./data/train.csv')\n",
    "test = pd.read_csv('./data/test.csv')\n",
    "\n",
    "sub = pd.read_csv('./data/sample_submission.csv')\n",
    "# making copies of original datasets for rest of this kernel\n",
    "df_train = training.copy()\n",
    "df_test = test.copy()\n",
    "print(df_train.shape, df_test.shape)"
   ]
  },
  {
   "cell_type": "code",
   "execution_count": 11,
   "metadata": {},
   "outputs": [
    {
     "name": "stdout",
     "output_type": "stream",
     "text": [
      "Training: (1460, 80), Target: (1460,), Test: (1459, 80)\n"
     ]
    }
   ],
   "source": [
    "target = df_train['SalePrice']  #target variable\n",
    "df_train = df_train.drop('SalePrice', axis=1) \n",
    "\n",
    "print(\"Training: {}, Target: {}, Test: {}\".format(df_train.shape, target.shape, df_test.shape))"
   ]
  },
  {
   "cell_type": "code",
   "execution_count": 12,
   "metadata": {},
   "outputs": [],
   "source": [
    "target_tr = np.log1p(target)"
   ]
  },
  {
   "cell_type": "code",
   "execution_count": 13,
   "metadata": {},
   "outputs": [],
   "source": [
    "def house_pipeline_v1(dataframe,\n",
    "                      impute_method = \"median\",\n",
    "                      feature_transform = \"yes\",\n",
    "                      feature_scaling = \"RobustScaler\", \n",
    "                      feature_selection = \"yes\"):\n",
    "    # 0. initialising dataframe\n",
    "    df_pipe = dataframe.copy()\n",
    "    print(\"Dataframe loaded.\")\n",
    "    \n",
    "    # Drop redundant columns\n",
    "    df_pipe.drop(['Id'], axis=1, inplace=True) # drop Id column\n",
    "    print(\"Dropped redundant column 'Id'.\")\n",
    "\n",
    "    # column types variables\n",
    "    numeric_features = list(df_pipe.select_dtypes(\n",
    "        include=[np.number]).columns.values)\n",
    "    categ_features = list(df_pipe.select_dtypes(\n",
    "        include=['object']).columns.values)\n",
    "    for col in numeric_features:\n",
    "        df_pipe[col] = df_pipe[col].astype(float)\n",
    "\n",
    "    # 1. Handling missing values\n",
    "    # replacing NaNs in categorical features with \"None\"\n",
    "    df_pipe[categ_features] = df_pipe[categ_features].apply(\n",
    "        lambda x: x.fillna(\"None\"), axis=0)\n",
    "\n",
    "    # imputing numerical features\n",
    "    for col in (\"LotFrontage\", 'GarageYrBlt', 'GarageArea', 'GarageCars'):\n",
    "        df_pipe[col].fillna(0.0, inplace=True)\n",
    "        \n",
    "    if impute_method == \"median\": # replacing NaNs in numerical features with the median\n",
    "        df_pipe[numeric_features] = df_pipe[numeric_features].apply(\n",
    "            lambda x: x.fillna(x.median()), axis=0)\n",
    "        print(\"Missing values imputed with median.\")\n",
    "    \n",
    "    elif impute_method == \"mean\": # replacing NaNs in numerical features with the mean\n",
    "        df_pipe[numeric_features] = df_pipe[numeric_features].apply(\n",
    "            lambda x: x.fillna(x.mean()), axis=0)\n",
    "        print(\"Missing values imputed with mean.\")\n",
    "\n",
    "    # 2. Feature Engineering\n",
    "    # Examples: Discretize Continous Feature;\n",
    "    #           Decompose Features;\n",
    "    #           Add Combination of Feature\n",
    "    df_pipe['YrBltAndRemod']=df_pipe['YearBuilt']+df_pipe['YearRemodAdd']\n",
    "    df_pipe['TotalSF']=df_pipe['TotalBsmtSF'] + df_pipe['1stFlrSF'] + df_pipe['2ndFlrSF']\n",
    "\n",
    "    df_pipe['Total_sqr_footage'] = (df_pipe['BsmtFinSF1'] + df_pipe['BsmtFinSF2'] +\n",
    "                                     df_pipe['1stFlrSF'] + df_pipe['2ndFlrSF'])\n",
    "\n",
    "    df_pipe['Total_Bathrooms'] = (df_pipe['FullBath'] + (0.5 * df_pipe['HalfBath']) +\n",
    "                                   df_pipe['BsmtFullBath'] + (0.5 * df_pipe['BsmtHalfBath']))\n",
    "\n",
    "    df_pipe['Total_porch_sf'] = (df_pipe['OpenPorchSF'] + df_pipe['3SsnPorch'] +\n",
    "                                  df_pipe['EnclosedPorch'] + df_pipe['ScreenPorch'] + \n",
    "                                 df_pipe['WoodDeckSF'])\n",
    "    print(\"Feature enginering: added combination of features.\")\n",
    "    \n",
    "    df_pipe['haspool'] = df_pipe['PoolArea'].apply(lambda x: 1 if x > 0 else 0)\n",
    "    df_pipe['has2ndfloor'] = df_pipe['2ndFlrSF'].apply(lambda x: 1 if x > 0 else 0)\n",
    "    df_pipe['hasgarage'] = df_pipe['GarageArea'].apply(lambda x: 1 if x > 0 else 0)\n",
    "    df_pipe['hasbsmt'] = df_pipe['TotalBsmtSF'].apply(lambda x: 1 if x > 0 else 0)\n",
    "    df_pipe['hasfireplace'] = df_pipe['Fireplaces'].apply(lambda x: 1 if x > 0 else 0)\n",
    "    print(\"Feature enginering: added boolean features.\")\n",
    "    \n",
    "    # 3. Feature Transformations (log(x), sqrt(x), x^2, etc.)\n",
    "    # Transform numerical features that should be considered as strings \n",
    "    df_pipe['MSSubClass'] = df_pipe['MSSubClass'].apply(str)\n",
    "    df_pipe['YrSold'] = df_pipe['YrSold'].astype(str)\n",
    "    df_pipe['MoSold'] = df_pipe['MoSold'].astype(str)\n",
    "    df_pipe['YrBltAndRemod'] = df_pipe['YrBltAndRemod'].astype(str)\n",
    "    print(\"Transformed numerical features that should be considered as strings.\")\n",
    "    \n",
    "    numeric_features = list(df_pipe.select_dtypes(\n",
    "        include=[np.number]).columns.values)\n",
    "    categ_features = list(df_pipe.select_dtypes(\n",
    "        include=['object']).columns.values)\n",
    "    \n",
    "    if feature_transform == \"yes\":\n",
    "        # Transform all numerical columns with skewness factor > 0.5\n",
    "        skew_features = df_pipe[numeric_features].apply(lambda x: skew(x)).sort_values(ascending=False)\n",
    "        high_skew = skew_features[skew_features > 0.5]\n",
    "        skew_index = high_skew.index\n",
    "        for i in skew_index:\n",
    "            df_pipe[i] = boxcox1p(df_pipe[i], boxcox_normmax(df_pipe[i]+1))\n",
    "        print(\"Transformed numerical columns with high skewness factor.\")\n",
    "    elif feature_transform == \"no\":\n",
    "        pass\n",
    "\n",
    "    # 4. Label Encoding\n",
    "    df_pipe = pd.get_dummies(df_pipe)\n",
    "    print(\"Label Encoding: from {} cols to {} cols.\".format(\n",
    "        dataframe.shape[1], df_pipe.shape[1]))\n",
    "\n",
    "    # 5. Feature Scaling\n",
    "    #cols = df_pipe.select_dtypes([np.number]).columns\n",
    "    if feature_scaling == 'MinMaxScaler':\n",
    "        scaler = MinMaxScaler(feature_range=(0, 1))\n",
    "        for col in numeric_features:\n",
    "            df_pipe[[col]] = scaler.fit_transform(df_pipe[[col]])\n",
    "        print(\"Performed feature Scaling with MinMaxScaler.\")\n",
    "\n",
    "    elif feature_scaling == 'StandardScaler':\n",
    "        scaler = StandardScaler()\n",
    "        for col in numeric_features:\n",
    "            df_pipe[[col]] = scaler.fit_transform(df_pipe[[col]])\n",
    "        print(\"Performed feature Scaling with StandardScaler.\")\n",
    "\n",
    "    elif feature_scaling == \"RobustScaler\":\n",
    "        scaler = RobustScaler()\n",
    "        for col in numeric_features:\n",
    "            df_pipe[[col]] = scaler.fit_transform(df_pipe[[col]])\n",
    "        print(\"Performed feature Scaling with RobustScaler.\")\n",
    "    \n",
    "    # 6. Feature Selection\n",
    "    ## let's remove columns with little variance (to reduce overfitting)\n",
    "    overfit = []\n",
    "    for i in df_pipe.columns:\n",
    "        counts = df_pipe[i].value_counts()\n",
    "        zeros = counts.iloc[0]\n",
    "        if zeros / len(df_pipe) * 100 > 99.9: # the threshold is set at 99.9%\n",
    "            overfit.append(i)\n",
    "    overfit = list(overfit)\n",
    "    # let's make sure to keep data processing columns needed later on\n",
    "    try:\n",
    "        overfit.remove('Dataset_Train')\n",
    "        overfit.remove('Dataset_Test')\n",
    "    except:\n",
    "        pass\n",
    "    df_pipe.drop(overfit, axis=1, inplace=True)\n",
    "    print(\"To prevent overfitting, {} columns were removed.\".format(len(overfit)))\n",
    "    \n",
    "    ## Summary\n",
    "    print(\"Shape of transformed dataset: {} (original: {})\".format(df_pipe.shape, dataframe.shape))\n",
    "    return df_pipe"
   ]
  },
  {
   "cell_type": "code",
   "execution_count": 14,
   "metadata": {},
   "outputs": [],
   "source": [
    "def target_transf(target, \n",
    "                  transform=\"log\"):\n",
    "    \n",
    "    if transform == \"log\":\n",
    "        target_tranf = np.log1p(target)\n",
    "        print(\"Target feature transformed with natural logarithm.\")\n",
    "    \n",
    "    elif transform == \"sqrt\":\n",
    "        target_tranf = np.sqrt(target)\n",
    "        print(\"Target feature transformed with sqrt.\")\n",
    "    \n",
    "    elif transform == \"square\":\n",
    "        target_tranf = np.square(target)\n",
    "        print(\"Target feature transformed with square.\")\n",
    "    \n",
    "    print(\"Shape of transformed target: {}\".format(target_tr.shape))\n",
    "    return target_tranf"
   ]
  },
  {
   "cell_type": "code",
   "execution_count": 21,
   "metadata": {},
   "outputs": [
    {
     "name": "stdout",
     "output_type": "stream",
     "text": [
      "Dataframe loaded.\n",
      "Dropped redundant column 'Id'.\n",
      "Missing values imputed with median.\n",
      "Feature enginering: added combination of features.\n",
      "Feature enginering: added boolean features.\n",
      "Transformed numerical features that should be considered as strings.\n"
     ]
    },
    {
     "name": "stderr",
     "output_type": "stream",
     "text": [
      "c:\\users\\young\\anaconda3\\envs\\study\\lib\\site-packages\\scipy\\stats\\stats.py:3399: PearsonRConstantInputWarning: An input array is constant; the correlation coefficent is not defined.\n",
      "  warnings.warn(PearsonRConstantInputWarning())\n",
      "c:\\users\\young\\anaconda3\\envs\\study\\lib\\site-packages\\scipy\\stats\\stats.py:3429: PearsonRNearConstantInputWarning: An input array is nearly constant; the computed correlation coefficent may be inaccurate.\n",
      "  warnings.warn(PearsonRNearConstantInputWarning())\n"
     ]
    },
    {
     "name": "stdout",
     "output_type": "stream",
     "text": [
      "Transformed numerical columns with high skewness factor.\n",
      "Label Encoding: from 80 cols to 505 cols.\n",
      "Performed feature Scaling with RobustScaler.\n",
      "To prevent overfitting, 35 columns were removed.\n",
      "Shape of transformed dataset: (1460, 470) (original: (1460, 80))\n",
      "\n",
      "\n",
      "Target feature transformed with natural logarithm.\n",
      "Shape of transformed target: (1460,)\n"
     ]
    }
   ],
   "source": [
    "# Test pipeline\n",
    "df_train_test = house_pipeline_v1(df_train)\n",
    "print(\"\\n\")\n",
    "target_tr = target_transf(target)"
   ]
  },
  {
   "cell_type": "code",
   "execution_count": 22,
   "metadata": {},
   "outputs": [
    {
     "data": {
      "text/html": [
       "<div>\n",
       "<style scoped>\n",
       "    .dataframe tbody tr th:only-of-type {\n",
       "        vertical-align: middle;\n",
       "    }\n",
       "\n",
       "    .dataframe tbody tr th {\n",
       "        vertical-align: top;\n",
       "    }\n",
       "\n",
       "    .dataframe thead th {\n",
       "        text-align: right;\n",
       "    }\n",
       "</style>\n",
       "<table border=\"1\" class=\"dataframe\">\n",
       "  <thead>\n",
       "    <tr style=\"text-align: right;\">\n",
       "      <th></th>\n",
       "      <th>missing_ratio</th>\n",
       "    </tr>\n",
       "  </thead>\n",
       "  <tbody>\n",
       "  </tbody>\n",
       "</table>\n",
       "</div>"
      ],
      "text/plain": [
       "Empty DataFrame\n",
       "Columns: [missing_ratio]\n",
       "Index: []"
      ]
     },
     "execution_count": 22,
     "metadata": {},
     "output_type": "execute_result"
    }
   ],
   "source": [
    "# let's check that we no longer have any missing values\n",
    "perc_na = (df_train_test.isnull().sum()/len(df_train_test))*100\n",
    "ratio_na = perc_na.sort_values(ascending=False)\n",
    "missing_data = pd.DataFrame({'missing_ratio' :ratio_na})\n",
    "missing_data = missing_data.drop(missing_data[missing_data.missing_ratio == 0].index)\n",
    "missing_data.head(5)"
   ]
  },
  {
   "cell_type": "code",
   "execution_count": 23,
   "metadata": {},
   "outputs": [
    {
     "name": "stdout",
     "output_type": "stream",
     "text": [
      "Joined Dataframe shape: (2919, 81)\n"
     ]
    }
   ],
   "source": [
    "df_train_pipeline = df_train.copy()\n",
    "df_test_pipeline = df_test.copy()\n",
    "# Concat dataframes\n",
    "df_train_pipeline[\"Dataset\"] = \"Train\"\n",
    "df_test_pipeline[\"Dataset\"] = \"Test\"\n",
    "# Concat dataframes\n",
    "df_joined = pd.concat([df_train_pipeline, df_test_pipeline], \n",
    "                      sort=False)\n",
    "df_joined = df_joined.reset_index(drop=True) # reset index\n",
    "print(\"Joined Dataframe shape: {}\".format(df_joined.shape))"
   ]
  },
  {
   "cell_type": "code",
   "execution_count": 24,
   "metadata": {},
   "outputs": [
    {
     "name": "stdout",
     "output_type": "stream",
     "text": [
      "Dataframe loaded.\n",
      "Dropped redundant column 'Id'.\n",
      "Missing values imputed with median.\n",
      "Feature enginering: added combination of features.\n",
      "Feature enginering: added boolean features.\n",
      "Transformed numerical features that should be considered as strings.\n"
     ]
    },
    {
     "name": "stderr",
     "output_type": "stream",
     "text": [
      "c:\\users\\young\\anaconda3\\envs\\study\\lib\\site-packages\\scipy\\stats\\stats.py:3399: PearsonRConstantInputWarning: An input array is constant; the correlation coefficent is not defined.\n",
      "  warnings.warn(PearsonRConstantInputWarning())\n",
      "c:\\users\\young\\anaconda3\\envs\\study\\lib\\site-packages\\scipy\\stats\\stats.py:3429: PearsonRNearConstantInputWarning: An input array is nearly constant; the computed correlation coefficent may be inaccurate.\n",
      "  warnings.warn(PearsonRNearConstantInputWarning())\n"
     ]
    },
    {
     "name": "stdout",
     "output_type": "stream",
     "text": [
      "Transformed numerical columns with high skewness factor.\n",
      "Label Encoding: from 81 cols to 521 cols.\n",
      "Performed feature Scaling with RobustScaler.\n",
      "To prevent overfitting, 44 columns were removed.\n",
      "Shape of transformed dataset: (2919, 477) (original: (2919, 81))\n",
      "----\n",
      "\n",
      "Target feature transformed with natural logarithm.\n",
      "Shape of transformed target: (1460,)\n",
      "----\n",
      "\n",
      "Transformed Joined Dataframe shape: (2919, 477), and target shape: (1460,)\n"
     ]
    }
   ],
   "source": [
    "df_joined_ml = house_pipeline_v1(df_joined,\n",
    "                                 impute_method = \"median\",\n",
    "                                 feature_transform = \"yes\",\n",
    "                                 feature_scaling = \"RobustScaler\", \n",
    "                                 feature_selection = \"yes\")\n",
    "print(\"----\\n\")\n",
    "target_ml = target_transf(target)\n",
    "print(\"----\\n\")\n",
    "print(\"Transformed Joined Dataframe shape: {}, and target shape: {}\".format(\n",
    "    df_joined_ml.shape, target_ml.shape))"
   ]
  },
  {
   "cell_type": "code",
   "execution_count": 25,
   "metadata": {},
   "outputs": [
    {
     "name": "stdout",
     "output_type": "stream",
     "text": [
      "(1460, 475)\n"
     ]
    }
   ],
   "source": [
    "df_train_ml = df_joined_ml[df_joined_ml['Dataset_Train']==1].copy()\n",
    "# Remove redundant features\n",
    "df_train_ml.drop(['Dataset_Train'], axis=1, inplace=True)\n",
    "df_train_ml.drop(['Dataset_Test'], axis=1, inplace=True)\n",
    "# Reset index\n",
    "df_train_ml = df_train_ml.reset_index(drop=True) \n",
    "print(df_train_ml.shape)"
   ]
  },
  {
   "cell_type": "code",
   "execution_count": 26,
   "metadata": {},
   "outputs": [
    {
     "name": "stdout",
     "output_type": "stream",
     "text": [
      "(1459, 475)\n"
     ]
    }
   ],
   "source": [
    "# Extract Testing data from joined transformed dataset\n",
    "df_test_ml = df_joined_ml[df_joined_ml['Dataset_Test']==1].copy()\n",
    "# Remove redundant features\n",
    "df_test_ml.drop(['Dataset_Train'], axis=1, inplace=True)\n",
    "df_test_ml.drop(['Dataset_Test'], axis=1, inplace=True)\n",
    "# Reset index\n",
    "df_test_ml = df_test_ml.reset_index(drop=True)\n",
    "print(df_test_ml.shape)"
   ]
  },
  {
   "cell_type": "code",
   "execution_count": 30,
   "metadata": {},
   "outputs": [],
   "source": [
    "train_X = df_train_ml.copy()\n",
    "target = target_ml.copy()\n",
    "test_X = df_test_ml.copy()"
   ]
  },
  {
   "cell_type": "code",
   "execution_count": 29,
   "metadata": {},
   "outputs": [],
   "source": [
    "X_train, X_test, y_train, y_test = train_test_split(df_train_ml,\n",
    "                                                    target_ml,\n",
    "                                                    test_size=0.2,\n",
    "                                                    stratify=df_train_ml['OverallQual'],\n",
    "                                                    random_state=42)"
   ]
  },
  {
   "cell_type": "code",
   "execution_count": 71,
   "metadata": {},
   "outputs": [],
   "source": [
    "n_layers = 256\n",
    "n_node = 3\n",
    "\n",
    "inputs = layers.Input(shape =(train_X.shape[1], ))\n",
    "\n",
    "x = layers.Dense(n_layers)(inputs)\n",
    "x = layers.BatchNormalization()(x)\n",
    "x = layers.Activation('relu')(x)\n",
    "\n",
    "for i in range(n_node):\n",
    "    x = layers.Dense(n_layers//(2**(i+1)), kernel_regularizer=L1L2(l2=0.001), kernel_initializer='he_normal')(x)\n",
    "    x = layers.BatchNormalization()(x)\n",
    "    x = layers.Activation('relu')(x)\n",
    "    x = layers.Dropout(0.1)(x)\n",
    "\n",
    "outputs = layers.Dense(1, activation='linear')(x)\n",
    "\n",
    "m = models.Model(inputs, outputs)\n",
    "\n",
    "m.compile(optimizer = 'adam',\n",
    "            loss = 'mse')"
   ]
  },
  {
   "cell_type": "code",
   "execution_count": 72,
   "metadata": {},
   "outputs": [],
   "source": [
    "es = keras.callbacks.EarlyStopping(patience=30, restore_best_weights=True)"
   ]
  },
  {
   "cell_type": "code",
   "execution_count": 73,
   "metadata": {
    "scrolled": true
   },
   "outputs": [
    {
     "name": "stdout",
     "output_type": "stream",
     "text": [
      "Train on 1168 samples, validate on 292 samples\n",
      "Epoch 1/1000\n",
      "1168/1168 [==============================] - 1s 969us/step - loss: 1.0870 - val_loss: 0.8380\n",
      "Epoch 2/1000\n",
      "1168/1168 [==============================] - 0s 269us/step - loss: 0.8010 - val_loss: 0.7849\n",
      "Epoch 3/1000\n",
      "1168/1168 [==============================] - 0s 278us/step - loss: 0.7240 - val_loss: 0.6972\n",
      "Epoch 4/1000\n",
      "1168/1168 [==============================] - 0s 263us/step - loss: 0.7409 - val_loss: 0.6263\n",
      "Epoch 5/1000\n",
      "1168/1168 [==============================] - 0s 269us/step - loss: 0.6700 - val_loss: 0.6032\n",
      "Epoch 6/1000\n",
      "1168/1168 [==============================] - 0s 271us/step - loss: 0.6681 - val_loss: 0.6424\n",
      "Epoch 7/1000\n",
      "1168/1168 [==============================] - 0s 262us/step - loss: 0.6364 - val_loss: 0.5729\n",
      "Epoch 8/1000\n",
      "1168/1168 [==============================] - 0s 262us/step - loss: 0.6105 - val_loss: 0.5779\n",
      "Epoch 9/1000\n",
      "1168/1168 [==============================] - 0s 263us/step - loss: 0.6020 - val_loss: 0.5943\n",
      "Epoch 10/1000\n",
      "1168/1168 [==============================] - 0s 265us/step - loss: 0.5651 - val_loss: 0.5483\n",
      "Epoch 11/1000\n",
      "1168/1168 [==============================] - 0s 262us/step - loss: 0.5791 - val_loss: 0.5361\n",
      "Epoch 12/1000\n",
      "1168/1168 [==============================] - 0s 273us/step - loss: 0.5446 - val_loss: 0.5325\n",
      "Epoch 13/1000\n",
      "1168/1168 [==============================] - 0s 264us/step - loss: 0.5286 - val_loss: 0.5273\n",
      "Epoch 14/1000\n",
      "1168/1168 [==============================] - 0s 267us/step - loss: 0.5163 - val_loss: 0.5102\n",
      "Epoch 15/1000\n",
      "1168/1168 [==============================] - 0s 272us/step - loss: 0.4986 - val_loss: 0.5076\n",
      "Epoch 16/1000\n",
      "1168/1168 [==============================] - 0s 263us/step - loss: 0.5178 - val_loss: 0.5161\n",
      "Epoch 17/1000\n",
      "1168/1168 [==============================] - 0s 266us/step - loss: 0.4904 - val_loss: 0.4974\n",
      "Epoch 18/1000\n",
      "1168/1168 [==============================] - 0s 263us/step - loss: 0.4800 - val_loss: 0.4893\n",
      "Epoch 19/1000\n",
      "1168/1168 [==============================] - 0s 265us/step - loss: 0.4452 - val_loss: 0.4738\n",
      "Epoch 20/1000\n",
      "1168/1168 [==============================] - 0s 271us/step - loss: 0.4526 - val_loss: 0.4630\n",
      "Epoch 21/1000\n",
      "1168/1168 [==============================] - 0s 267us/step - loss: 0.4291 - val_loss: 0.4712\n",
      "Epoch 22/1000\n",
      "1168/1168 [==============================] - 0s 265us/step - loss: 0.4553 - val_loss: 0.4566\n",
      "Epoch 23/1000\n",
      "1168/1168 [==============================] - 0s 277us/step - loss: 0.4300 - val_loss: 0.4578\n",
      "Epoch 24/1000\n",
      "1168/1168 [==============================] - 0s 260us/step - loss: 0.4037 - val_loss: 0.4404\n",
      "Epoch 25/1000\n",
      "1168/1168 [==============================] - 0s 264us/step - loss: 0.3995 - val_loss: 0.4449\n",
      "Epoch 26/1000\n",
      "1168/1168 [==============================] - 0s 264us/step - loss: 0.3978 - val_loss: 0.4445\n",
      "Epoch 27/1000\n",
      "1168/1168 [==============================] - 0s 262us/step - loss: 0.3849 - val_loss: 0.4326\n",
      "Epoch 28/1000\n",
      "1168/1168 [==============================] - 0s 276us/step - loss: 0.3905 - val_loss: 0.4426\n",
      "Epoch 29/1000\n",
      "1168/1168 [==============================] - 0s 272us/step - loss: 0.3705 - val_loss: 0.3960\n",
      "Epoch 30/1000\n",
      "1168/1168 [==============================] - 0s 266us/step - loss: 0.3655 - val_loss: 0.4168\n",
      "Epoch 31/1000\n",
      "1168/1168 [==============================] - 0s 281us/step - loss: 0.3514 - val_loss: 0.3916\n",
      "Epoch 32/1000\n",
      "1168/1168 [==============================] - 0s 269us/step - loss: 0.3414 - val_loss: 0.3828\n",
      "Epoch 33/1000\n",
      "1168/1168 [==============================] - 0s 264us/step - loss: 0.3454 - val_loss: 0.3731\n",
      "Epoch 34/1000\n",
      "1168/1168 [==============================] - 0s 263us/step - loss: 0.3161 - val_loss: 0.3690\n",
      "Epoch 35/1000\n",
      "1168/1168 [==============================] - 0s 257us/step - loss: 0.3267 - val_loss: 0.3678\n",
      "Epoch 36/1000\n",
      "1168/1168 [==============================] - 0s 268us/step - loss: 0.3042 - val_loss: 0.3580\n",
      "Epoch 37/1000\n",
      "1168/1168 [==============================] - 0s 273us/step - loss: 0.3130 - val_loss: 0.3609\n",
      "Epoch 38/1000\n",
      "1168/1168 [==============================] - 0s 262us/step - loss: 0.2903 - val_loss: 0.3643\n",
      "Epoch 39/1000\n",
      "1168/1168 [==============================] - 0s 266us/step - loss: 0.2875 - val_loss: 0.3409\n",
      "Epoch 40/1000\n",
      "1168/1168 [==============================] - 0s 276us/step - loss: 0.2780 - val_loss: 0.3551\n",
      "Epoch 41/1000\n",
      "1168/1168 [==============================] - 0s 263us/step - loss: 0.2726 - val_loss: 0.3541\n",
      "Epoch 42/1000\n",
      "1168/1168 [==============================] - 0s 270us/step - loss: 0.2805 - val_loss: 0.3330\n",
      "Epoch 43/1000\n",
      "1168/1168 [==============================] - 0s 272us/step - loss: 0.2631 - val_loss: 0.3290\n",
      "Epoch 44/1000\n",
      "1168/1168 [==============================] - 0s 265us/step - loss: 0.2509 - val_loss: 0.3392\n",
      "Epoch 45/1000\n",
      "1168/1168 [==============================] - 0s 266us/step - loss: 0.2434 - val_loss: 0.3313\n",
      "Epoch 46/1000\n",
      "1168/1168 [==============================] - 0s 268us/step - loss: 0.2476 - val_loss: 0.3081\n",
      "Epoch 47/1000\n",
      "1168/1168 [==============================] - 0s 263us/step - loss: 0.2647 - val_loss: 0.3160\n",
      "Epoch 48/1000\n",
      "1168/1168 [==============================] - 0s 285us/step - loss: 0.2235 - val_loss: 0.2838\n",
      "Epoch 49/1000\n",
      "1168/1168 [==============================] - 0s 260us/step - loss: 0.2502 - val_loss: 0.3282\n",
      "Epoch 50/1000\n",
      "1168/1168 [==============================] - 0s 273us/step - loss: 0.2302 - val_loss: 0.3121\n",
      "Epoch 51/1000\n",
      "1168/1168 [==============================] - 0s 274us/step - loss: 0.2183 - val_loss: 0.2829\n",
      "Epoch 52/1000\n",
      "1168/1168 [==============================] - 0s 270us/step - loss: 0.2451 - val_loss: 0.2797\n",
      "Epoch 53/1000\n",
      "1168/1168 [==============================] - 0s 260us/step - loss: 0.2153 - val_loss: 0.2722\n",
      "Epoch 54/1000\n",
      "1168/1168 [==============================] - 0s 267us/step - loss: 0.2023 - val_loss: 0.3041\n",
      "Epoch 55/1000\n",
      "1168/1168 [==============================] - 0s 263us/step - loss: 0.2016 - val_loss: 0.2704\n",
      "Epoch 56/1000\n",
      "1168/1168 [==============================] - 0s 271us/step - loss: 0.1931 - val_loss: 0.2913\n",
      "Epoch 57/1000\n",
      "1168/1168 [==============================] - 0s 268us/step - loss: 0.2100 - val_loss: 0.2731\n",
      "Epoch 58/1000\n",
      "1168/1168 [==============================] - 0s 261us/step - loss: 0.1988 - val_loss: 0.2554\n",
      "Epoch 59/1000\n",
      "1168/1168 [==============================] - 0s 272us/step - loss: 0.1896 - val_loss: 0.2811\n",
      "Epoch 60/1000\n",
      "1168/1168 [==============================] - 0s 272us/step - loss: 0.1786 - val_loss: 0.2486\n",
      "Epoch 61/1000\n",
      "1168/1168 [==============================] - 0s 263us/step - loss: 0.2039 - val_loss: 0.2422\n",
      "Epoch 62/1000\n",
      "1168/1168 [==============================] - 0s 266us/step - loss: 0.1772 - val_loss: 0.2618\n",
      "Epoch 63/1000\n",
      "1168/1168 [==============================] - 0s 267us/step - loss: 0.1769 - val_loss: 0.2271\n",
      "Epoch 64/1000\n",
      "1168/1168 [==============================] - 0s 262us/step - loss: 0.1769 - val_loss: 0.2350\n",
      "Epoch 65/1000\n",
      "1168/1168 [==============================] - 0s 277us/step - loss: 0.1731 - val_loss: 0.2259\n",
      "Epoch 66/1000\n",
      "1168/1168 [==============================] - 0s 264us/step - loss: 0.1679 - val_loss: 0.2223\n",
      "Epoch 67/1000\n",
      "1168/1168 [==============================] - 0s 263us/step - loss: 0.1563 - val_loss: 0.2231\n",
      "Epoch 68/1000\n",
      "1168/1168 [==============================] - 0s 281us/step - loss: 0.1536 - val_loss: 0.2389\n",
      "Epoch 69/1000\n",
      "1168/1168 [==============================] - 0s 263us/step - loss: 0.1586 - val_loss: 0.2292\n",
      "Epoch 70/1000\n",
      "1168/1168 [==============================] - 0s 263us/step - loss: 0.1670 - val_loss: 0.2271\n",
      "Epoch 71/1000\n",
      "1168/1168 [==============================] - 0s 267us/step - loss: 0.1643 - val_loss: 0.2278\n",
      "Epoch 72/1000\n",
      "1168/1168 [==============================] - 0s 268us/step - loss: 0.1507 - val_loss: 0.2155\n",
      "Epoch 73/1000\n",
      "1168/1168 [==============================] - 0s 273us/step - loss: 0.1527 - val_loss: 0.2087\n",
      "Epoch 74/1000\n",
      "1168/1168 [==============================] - 0s 266us/step - loss: 0.1550 - val_loss: 0.2195\n",
      "Epoch 75/1000\n",
      "1168/1168 [==============================] - 0s 276us/step - loss: 0.1428 - val_loss: 0.2082\n",
      "Epoch 76/1000\n",
      "1168/1168 [==============================] - 0s 279us/step - loss: 0.1404 - val_loss: 0.2217\n",
      "Epoch 77/1000\n"
     ]
    },
    {
     "name": "stdout",
     "output_type": "stream",
     "text": [
      "1168/1168 [==============================] - 0s 267us/step - loss: 0.1309 - val_loss: 0.2095\n",
      "Epoch 78/1000\n",
      "1168/1168 [==============================] - 0s 274us/step - loss: 0.1419 - val_loss: 0.2200\n",
      "Epoch 79/1000\n",
      "1168/1168 [==============================] - 0s 266us/step - loss: 0.1289 - val_loss: 0.2188\n",
      "Epoch 80/1000\n",
      "1168/1168 [==============================] - 0s 264us/step - loss: 0.1326 - val_loss: 0.2184\n",
      "Epoch 81/1000\n",
      "1168/1168 [==============================] - 0s 274us/step - loss: 0.1280 - val_loss: 0.2502\n",
      "Epoch 82/1000\n",
      "1168/1168 [==============================] - 0s 279us/step - loss: 0.1325 - val_loss: 0.2031\n",
      "Epoch 83/1000\n",
      "1168/1168 [==============================] - 0s 265us/step - loss: 0.1192 - val_loss: 0.2075\n",
      "Epoch 84/1000\n",
      "1168/1168 [==============================] - 0s 266us/step - loss: 0.1172 - val_loss: 0.2051\n",
      "Epoch 85/1000\n",
      "1168/1168 [==============================] - 0s 280us/step - loss: 0.1375 - val_loss: 0.2132\n",
      "Epoch 86/1000\n",
      "1168/1168 [==============================] - 0s 266us/step - loss: 0.1321 - val_loss: 0.2001\n",
      "Epoch 87/1000\n",
      "1168/1168 [==============================] - 0s 267us/step - loss: 0.1145 - val_loss: 0.1930\n",
      "Epoch 88/1000\n",
      "1168/1168 [==============================] - 0s 279us/step - loss: 0.1145 - val_loss: 0.2023\n",
      "Epoch 89/1000\n",
      "1168/1168 [==============================] - 0s 267us/step - loss: 0.1078 - val_loss: 0.2163\n",
      "Epoch 90/1000\n",
      "1168/1168 [==============================] - 0s 272us/step - loss: 0.1229 - val_loss: 0.2141\n",
      "Epoch 91/1000\n",
      "1168/1168 [==============================] - 0s 268us/step - loss: 0.1097 - val_loss: 0.2023\n",
      "Epoch 92/1000\n",
      "1168/1168 [==============================] - 0s 270us/step - loss: 0.1008 - val_loss: 0.2007\n",
      "Epoch 93/1000\n",
      "1168/1168 [==============================] - 0s 278us/step - loss: 0.1034 - val_loss: 0.1922\n",
      "Epoch 94/1000\n",
      "1168/1168 [==============================] - 0s 275us/step - loss: 0.1031 - val_loss: 0.2114\n",
      "Epoch 95/1000\n",
      "1168/1168 [==============================] - 0s 266us/step - loss: 0.1072 - val_loss: 0.1901\n",
      "Epoch 96/1000\n",
      "1168/1168 [==============================] - 0s 274us/step - loss: 0.1035 - val_loss: 0.1957\n",
      "Epoch 97/1000\n",
      "1168/1168 [==============================] - 0s 263us/step - loss: 0.1016 - val_loss: 0.1808\n",
      "Epoch 98/1000\n",
      "1168/1168 [==============================] - 0s 267us/step - loss: 0.1021 - val_loss: 0.2003\n",
      "Epoch 99/1000\n",
      "1168/1168 [==============================] - 0s 269us/step - loss: 0.0919 - val_loss: 0.1882\n",
      "Epoch 100/1000\n",
      "1168/1168 [==============================] - 0s 266us/step - loss: 0.1034 - val_loss: 0.2003\n",
      "Epoch 101/1000\n",
      "1168/1168 [==============================] - 0s 267us/step - loss: 0.0920 - val_loss: 0.1824\n",
      "Epoch 102/1000\n",
      "1168/1168 [==============================] - 0s 266us/step - loss: 0.0955 - val_loss: 0.2089\n",
      "Epoch 103/1000\n",
      "1168/1168 [==============================] - 0s 263us/step - loss: 0.0956 - val_loss: 0.1968\n",
      "Epoch 104/1000\n",
      "1168/1168 [==============================] - 0s 273us/step - loss: 0.0921 - val_loss: 0.1828\n",
      "Epoch 105/1000\n",
      "1168/1168 [==============================] - 0s 273us/step - loss: 0.1023 - val_loss: 0.1890\n",
      "Epoch 106/1000\n",
      "1168/1168 [==============================] - 0s 267us/step - loss: 0.1053 - val_loss: 0.1890\n",
      "Epoch 107/1000\n",
      "1168/1168 [==============================] - 0s 270us/step - loss: 0.0993 - val_loss: 0.1781\n",
      "Epoch 108/1000\n",
      "1168/1168 [==============================] - 0s 268us/step - loss: 0.1048 - val_loss: 0.1921\n",
      "Epoch 109/1000\n",
      "1168/1168 [==============================] - 0s 263us/step - loss: 0.1178 - val_loss: 0.1821\n",
      "Epoch 110/1000\n",
      "1168/1168 [==============================] - 0s 275us/step - loss: 0.1072 - val_loss: 0.1914\n",
      "Epoch 111/1000\n",
      "1168/1168 [==============================] - 0s 269us/step - loss: 0.0895 - val_loss: 0.1746\n",
      "Epoch 112/1000\n",
      "1168/1168 [==============================] - 0s 269us/step - loss: 0.0834 - val_loss: 0.1708\n",
      "Epoch 113/1000\n",
      "1168/1168 [==============================] - 0s 277us/step - loss: 0.0927 - val_loss: 0.2259\n",
      "Epoch 114/1000\n",
      "1168/1168 [==============================] - 0s 269us/step - loss: 0.0930 - val_loss: 0.2015\n",
      "Epoch 115/1000\n",
      "1168/1168 [==============================] - 0s 268us/step - loss: 0.0920 - val_loss: 0.1859\n",
      "Epoch 116/1000\n",
      "1168/1168 [==============================] - 0s 279us/step - loss: 0.0885 - val_loss: 0.1748\n",
      "Epoch 117/1000\n",
      "1168/1168 [==============================] - 0s 266us/step - loss: 0.0863 - val_loss: 0.1721\n",
      "Epoch 118/1000\n",
      "1168/1168 [==============================] - 0s 262us/step - loss: 0.0841 - val_loss: 0.1785\n",
      "Epoch 119/1000\n",
      "1168/1168 [==============================] - 0s 271us/step - loss: 0.0799 - val_loss: 0.1773\n",
      "Epoch 120/1000\n",
      "1168/1168 [==============================] - 0s 267us/step - loss: 0.0901 - val_loss: 0.1764\n",
      "Epoch 121/1000\n",
      "1168/1168 [==============================] - 0s 265us/step - loss: 0.1010 - val_loss: 0.1842\n",
      "Epoch 122/1000\n",
      "1168/1168 [==============================] - 0s 266us/step - loss: 0.0872 - val_loss: 0.1799\n",
      "Epoch 123/1000\n",
      "1168/1168 [==============================] - 0s 272us/step - loss: 0.0811 - val_loss: 0.1644\n",
      "Epoch 124/1000\n",
      "1168/1168 [==============================] - 0s 280us/step - loss: 0.0923 - val_loss: 0.1707\n",
      "Epoch 125/1000\n",
      "1168/1168 [==============================] - 0s 263us/step - loss: 0.0795 - val_loss: 0.1942\n",
      "Epoch 126/1000\n",
      "1168/1168 [==============================] - 0s 266us/step - loss: 0.0832 - val_loss: 0.1718\n",
      "Epoch 127/1000\n",
      "1168/1168 [==============================] - 0s 270us/step - loss: 0.0867 - val_loss: 0.1692\n",
      "Epoch 128/1000\n",
      "1168/1168 [==============================] - 0s 265us/step - loss: 0.0887 - val_loss: 0.1673\n",
      "Epoch 129/1000\n",
      "1168/1168 [==============================] - 0s 268us/step - loss: 0.0802 - val_loss: 0.1662\n",
      "Epoch 130/1000\n",
      "1168/1168 [==============================] - 0s 264us/step - loss: 0.0819 - val_loss: 0.1687\n",
      "Epoch 131/1000\n",
      "1168/1168 [==============================] - 0s 275us/step - loss: 0.0756 - val_loss: 0.1677\n",
      "Epoch 132/1000\n",
      "1168/1168 [==============================] - 0s 279us/step - loss: 0.0799 - val_loss: 0.1824\n",
      "Epoch 133/1000\n",
      "1168/1168 [==============================] - 0s 265us/step - loss: 0.0747 - val_loss: 0.1708\n",
      "Epoch 134/1000\n",
      "1168/1168 [==============================] - 0s 275us/step - loss: 0.0764 - val_loss: 0.1851\n",
      "Epoch 135/1000\n",
      "1168/1168 [==============================] - 0s 271us/step - loss: 0.0816 - val_loss: 0.1811\n",
      "Epoch 136/1000\n",
      "1168/1168 [==============================] - 0s 270us/step - loss: 0.0809 - val_loss: 0.1828\n",
      "Epoch 137/1000\n",
      "1168/1168 [==============================] - 0s 272us/step - loss: 0.0729 - val_loss: 0.1650\n",
      "Epoch 138/1000\n",
      "1168/1168 [==============================] - 0s 266us/step - loss: 0.0698 - val_loss: 0.1848\n",
      "Epoch 139/1000\n",
      "1168/1168 [==============================] - 0s 267us/step - loss: 0.0722 - val_loss: 0.1670\n",
      "Epoch 140/1000\n",
      "1168/1168 [==============================] - 0s 275us/step - loss: 0.0778 - val_loss: 0.1867\n",
      "Epoch 141/1000\n",
      "1168/1168 [==============================] - 0s 278us/step - loss: 0.0893 - val_loss: 0.1747\n",
      "Epoch 142/1000\n",
      "1168/1168 [==============================] - 0s 265us/step - loss: 0.0709 - val_loss: 0.1792\n",
      "Epoch 143/1000\n",
      "1168/1168 [==============================] - 0s 271us/step - loss: 0.0692 - val_loss: 0.1702\n",
      "Epoch 144/1000\n",
      "1168/1168 [==============================] - 0s 274us/step - loss: 0.0728 - val_loss: 0.1781\n",
      "Epoch 145/1000\n",
      "1168/1168 [==============================] - 0s 264us/step - loss: 0.0659 - val_loss: 0.1619\n",
      "Epoch 146/1000\n",
      "1168/1168 [==============================] - 0s 272us/step - loss: 0.0765 - val_loss: 0.1734\n",
      "Epoch 147/1000\n",
      "1168/1168 [==============================] - 0s 270us/step - loss: 0.0681 - val_loss: 0.1794\n",
      "Epoch 148/1000\n",
      "1168/1168 [==============================] - 0s 267us/step - loss: 0.0700 - val_loss: 0.1676\n",
      "Epoch 149/1000\n",
      "1168/1168 [==============================] - 0s 269us/step - loss: 0.0828 - val_loss: 0.1680\n",
      "Epoch 150/1000\n",
      "1168/1168 [==============================] - 0s 266us/step - loss: 0.0741 - val_loss: 0.1947\n",
      "Epoch 151/1000\n",
      "1168/1168 [==============================] - 0s 275us/step - loss: 0.0741 - val_loss: 0.2033\n",
      "Epoch 152/1000\n",
      "1168/1168 [==============================] - 0s 280us/step - loss: 0.0805 - val_loss: 0.1805\n",
      "Epoch 153/1000\n"
     ]
    },
    {
     "name": "stdout",
     "output_type": "stream",
     "text": [
      "1168/1168 [==============================] - 0s 264us/step - loss: 0.0797 - val_loss: 0.1685\n",
      "Epoch 154/1000\n",
      "1168/1168 [==============================] - 0s 272us/step - loss: 0.0678 - val_loss: 0.1568\n",
      "Epoch 155/1000\n",
      "1168/1168 [==============================] - 0s 275us/step - loss: 0.0707 - val_loss: 0.1623\n",
      "Epoch 156/1000\n",
      "1168/1168 [==============================] - 0s 261us/step - loss: 0.0700 - val_loss: 0.2039\n",
      "Epoch 157/1000\n",
      "1168/1168 [==============================] - 0s 263us/step - loss: 0.0789 - val_loss: 0.1664\n",
      "Epoch 158/1000\n",
      "1168/1168 [==============================] - 0s 269us/step - loss: 0.0746 - val_loss: 0.1676\n",
      "Epoch 159/1000\n",
      "1168/1168 [==============================] - 0s 265us/step - loss: 0.0697 - val_loss: 0.1749\n",
      "Epoch 160/1000\n",
      "1168/1168 [==============================] - 0s 280us/step - loss: 0.0679 - val_loss: 0.1546\n",
      "Epoch 161/1000\n",
      "1168/1168 [==============================] - 0s 266us/step - loss: 0.0625 - val_loss: 0.1786\n",
      "Epoch 162/1000\n",
      "1168/1168 [==============================] - 0s 262us/step - loss: 0.0648 - val_loss: 0.1620\n",
      "Epoch 163/1000\n",
      "1168/1168 [==============================] - 0s 278us/step - loss: 0.0660 - val_loss: 0.1692\n",
      "Epoch 164/1000\n",
      "1168/1168 [==============================] - 0s 271us/step - loss: 0.0691 - val_loss: 0.1826\n",
      "Epoch 165/1000\n",
      "1168/1168 [==============================] - 0s 266us/step - loss: 0.0785 - val_loss: 0.1502\n",
      "Epoch 166/1000\n",
      "1168/1168 [==============================] - 0s 272us/step - loss: 0.0768 - val_loss: 0.1774\n",
      "Epoch 167/1000\n",
      "1168/1168 [==============================] - 0s 277us/step - loss: 0.0754 - val_loss: 0.1606\n",
      "Epoch 168/1000\n",
      "1168/1168 [==============================] - 0s 266us/step - loss: 0.0826 - val_loss: 0.1744\n",
      "Epoch 169/1000\n",
      "1168/1168 [==============================] - 0s 270us/step - loss: 0.0718 - val_loss: 0.1891\n",
      "Epoch 170/1000\n",
      "1168/1168 [==============================] - 0s 269us/step - loss: 0.0694 - val_loss: 0.1802\n",
      "Epoch 171/1000\n",
      "1168/1168 [==============================] - 0s 278us/step - loss: 0.0832 - val_loss: 0.1677\n",
      "Epoch 172/1000\n",
      "1168/1168 [==============================] - 0s 264us/step - loss: 0.0813 - val_loss: 0.1593\n",
      "Epoch 173/1000\n",
      "1168/1168 [==============================] - 0s 267us/step - loss: 0.0738 - val_loss: 0.1805\n",
      "Epoch 174/1000\n",
      "1168/1168 [==============================] - 0s 271us/step - loss: 0.0650 - val_loss: 0.1610\n",
      "Epoch 175/1000\n",
      "1168/1168 [==============================] - 0s 273us/step - loss: 0.0660 - val_loss: 0.1678\n",
      "Epoch 176/1000\n",
      "1168/1168 [==============================] - 0s 264us/step - loss: 0.0642 - val_loss: 0.1780\n",
      "Epoch 177/1000\n",
      "1168/1168 [==============================] - 0s 269us/step - loss: 0.0562 - val_loss: 0.1670\n",
      "Epoch 178/1000\n",
      "1168/1168 [==============================] - 0s 267us/step - loss: 0.0619 - val_loss: 0.1885\n",
      "Epoch 179/1000\n",
      "1168/1168 [==============================] - 0s 266us/step - loss: 0.0636 - val_loss: 0.1652\n",
      "Epoch 180/1000\n",
      "1168/1168 [==============================] - 0s 268us/step - loss: 0.0596 - val_loss: 0.1635\n",
      "Epoch 181/1000\n",
      "1168/1168 [==============================] - 0s 268us/step - loss: 0.0603 - val_loss: 0.1720\n",
      "Epoch 182/1000\n",
      "1168/1168 [==============================] - 0s 276us/step - loss: 0.0657 - val_loss: 0.1652\n",
      "Epoch 183/1000\n",
      "1168/1168 [==============================] - 0s 272us/step - loss: 0.0628 - val_loss: 0.1765\n",
      "Epoch 184/1000\n",
      "1168/1168 [==============================] - 0s 273us/step - loss: 0.0824 - val_loss: 0.1668\n",
      "Epoch 185/1000\n",
      "1168/1168 [==============================] - 0s 271us/step - loss: 0.0727 - val_loss: 0.1598\n",
      "Epoch 186/1000\n",
      "1168/1168 [==============================] - 0s 273us/step - loss: 0.0732 - val_loss: 0.1742\n",
      "Epoch 187/1000\n",
      "1168/1168 [==============================] - 0s 269us/step - loss: 0.0657 - val_loss: 0.1692\n",
      "Epoch 188/1000\n",
      "1168/1168 [==============================] - 0s 266us/step - loss: 0.0693 - val_loss: 0.1563\n",
      "Epoch 189/1000\n",
      "1168/1168 [==============================] - 0s 272us/step - loss: 0.0625 - val_loss: 0.1663\n",
      "Epoch 190/1000\n",
      "1168/1168 [==============================] - 0s 267us/step - loss: 0.0616 - val_loss: 0.1610\n",
      "Epoch 191/1000\n",
      "1168/1168 [==============================] - 0s 275us/step - loss: 0.0694 - val_loss: 0.1714\n",
      "Epoch 192/1000\n",
      "1168/1168 [==============================] - 0s 266us/step - loss: 0.0632 - val_loss: 0.1892\n",
      "Epoch 193/1000\n",
      "1168/1168 [==============================] - 0s 267us/step - loss: 0.0652 - val_loss: 0.1630\n",
      "Epoch 194/1000\n",
      "1168/1168 [==============================] - 0s 275us/step - loss: 0.0651 - val_loss: 0.1634\n",
      "Epoch 195/1000\n",
      "1168/1168 [==============================] - 0s 266us/step - loss: 0.0628 - val_loss: 0.1784\n"
     ]
    },
    {
     "data": {
      "text/plain": [
       "<keras.callbacks.callbacks.History at 0x18255799f48>"
      ]
     },
     "execution_count": 73,
     "metadata": {},
     "output_type": "execute_result"
    }
   ],
   "source": [
    "m.fit(train_X, t, \n",
    "      epochs = 1000,\n",
    "     validation_split=0.2,\n",
    "     callbacks = [es])"
   ]
  },
  {
   "cell_type": "code",
   "execution_count": 74,
   "metadata": {},
   "outputs": [],
   "source": [
    "k = m.predict(test_X)"
   ]
  },
  {
   "cell_type": "code",
   "execution_count": 81,
   "metadata": {},
   "outputs": [],
   "source": [
    "ans = np.exp(k*s+n)"
   ]
  },
  {
   "cell_type": "code",
   "execution_count": 66,
   "metadata": {},
   "outputs": [],
   "source": [
    "# n, s = np.mean(target), np.std(target)\n",
    "# t = (target - n)/s"
   ]
  },
  {
   "cell_type": "code",
   "execution_count": 123,
   "metadata": {},
   "outputs": [
    {
     "data": {
      "text/plain": [
       "array([128813.15723934, 159976.89411789, 184963.44987354, ...,\n",
       "       167082.92506392, 109082.22602397, 221444.43875902])"
      ]
     },
     "execution_count": 123,
     "metadata": {},
     "output_type": "execute_result"
    }
   ],
   "source": [
    "ans"
   ]
  },
  {
   "cell_type": "code",
   "execution_count": 124,
   "metadata": {},
   "outputs": [],
   "source": [
    "sub['SalePrice'] = ans"
   ]
  },
  {
   "cell_type": "code",
   "execution_count": 125,
   "metadata": {},
   "outputs": [],
   "source": [
    "sub.to_csv('./sub/sub19.csv', index=False)"
   ]
  },
  {
   "cell_type": "code",
   "execution_count": 88,
   "metadata": {},
   "outputs": [],
   "source": [
    "rf = RandomForestRegressor(n_estimators=1200,\n",
    "                               max_depth=15,\n",
    "                               min_samples_split=5,\n",
    "                               min_samples_leaf=5,\n",
    "                               max_features=None,\n",
    "                               oob_score=True,\n",
    "                               random_state=42)\n",
    "gbr = GradientBoostingRegressor(n_estimators=6000,\n",
    "                                learning_rate=0.01,\n",
    "                                max_depth=4,\n",
    "                                max_features='sqrt',\n",
    "                                min_samples_leaf=15,\n",
    "                                min_samples_split=10,\n",
    "                                loss='huber',\n",
    "                                random_state=42)\n",
    "svr = SVR()\n",
    "\n",
    "adb = AdaBoostRegressor(n_estimators=2000,\n",
    "                       base_estimator=rf,\n",
    "                       learning_rate=0.01,\n",
    "                       random_state=42\n",
    "                       )\n",
    "\n",
    "elastic = ElasticNet()\n",
    "\n",
    "models = [rf, gbr, svr, adb, elastic]"
   ]
  },
  {
   "cell_type": "code",
   "execution_count": 121,
   "metadata": {},
   "outputs": [],
   "source": [
    "k = vreg.predict(test_X)"
   ]
  },
  {
   "cell_type": "code",
   "execution_count": 122,
   "metadata": {},
   "outputs": [],
   "source": [
    "ans = np.exp(k)"
   ]
  },
  {
   "cell_type": "code",
   "execution_count": null,
   "metadata": {},
   "outputs": [],
   "source": [
    "ans"
   ]
  },
  {
   "cell_type": "code",
   "execution_count": null,
   "metadata": {},
   "outputs": [],
   "source": [
    "sub['SalePrice'] = ans\n",
    "sub.to_csv('./sub/sub19.csv', index=False)"
   ]
  },
  {
   "cell_type": "code",
   "execution_count": 119,
   "metadata": {},
   "outputs": [],
   "source": [
    "vreg = VotingRegressor(estimators=[\n",
    "    ('rf', rf),\n",
    "    ('gbr', gbr),\n",
    "    ('svr', svr)\n",
    "])"
   ]
  },
  {
   "cell_type": "code",
   "execution_count": 120,
   "metadata": {},
   "outputs": [
    {
     "data": {
      "text/plain": [
       "VotingRegressor(estimators=[('rf',\n",
       "                             RandomForestRegressor(bootstrap=True,\n",
       "                                                   ccp_alpha=0.0,\n",
       "                                                   criterion='mse',\n",
       "                                                   max_depth=15,\n",
       "                                                   max_features=None,\n",
       "                                                   max_leaf_nodes=None,\n",
       "                                                   max_samples=None,\n",
       "                                                   min_impurity_decrease=0.0,\n",
       "                                                   min_impurity_split=None,\n",
       "                                                   min_samples_leaf=5,\n",
       "                                                   min_samples_split=5,\n",
       "                                                   min_weight_fraction_leaf=0.0,\n",
       "                                                   n_estimators=1200,\n",
       "                                                   n_jobs=None, oob_score=True,\n",
       "                                                   random_state=42, ve...\n",
       "                                                       min_weight_fraction_leaf=0.0,\n",
       "                                                       n_estimators=6000,\n",
       "                                                       n_iter_no_change=None,\n",
       "                                                       presort='deprecated',\n",
       "                                                       random_state=42,\n",
       "                                                       subsample=1.0,\n",
       "                                                       tol=0.0001,\n",
       "                                                       validation_fraction=0.1,\n",
       "                                                       verbose=0,\n",
       "                                                       warm_start=False)),\n",
       "                            ('svr',\n",
       "                             SVR(C=1.0, cache_size=200, coef0=0.0, degree=3,\n",
       "                                 epsilon=0.1, gamma='scale', kernel='rbf',\n",
       "                                 max_iter=-1, shrinking=True, tol=0.001,\n",
       "                                 verbose=False))],\n",
       "                n_jobs=None, weights=None)"
      ]
     },
     "execution_count": 120,
     "metadata": {},
     "output_type": "execute_result"
    }
   ],
   "source": [
    "vreg.fit(train_X, target)"
   ]
  },
  {
   "cell_type": "code",
   "execution_count": null,
   "metadata": {},
   "outputs": [],
   "source": []
  }
 ],
 "metadata": {
  "kernelspec": {
   "display_name": "Python 3",
   "language": "python",
   "name": "python3"
  },
  "language_info": {
   "codemirror_mode": {
    "name": "ipython",
    "version": 3
   },
   "file_extension": ".py",
   "mimetype": "text/x-python",
   "name": "python",
   "nbconvert_exporter": "python",
   "pygments_lexer": "ipython3",
   "version": "3.7.4"
  },
  "toc": {
   "base_numbering": 1,
   "nav_menu": {},
   "number_sections": true,
   "sideBar": true,
   "skip_h1_title": false,
   "title_cell": "Table of Contents",
   "title_sidebar": "Contents",
   "toc_cell": false,
   "toc_position": {},
   "toc_section_display": true,
   "toc_window_display": false
  }
 },
 "nbformat": 4,
 "nbformat_minor": 2
}
