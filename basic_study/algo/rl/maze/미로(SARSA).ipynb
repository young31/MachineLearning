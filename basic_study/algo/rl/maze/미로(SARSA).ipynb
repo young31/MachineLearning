{
 "cells": [
  {
   "cell_type": "code",
   "execution_count": 1,
   "metadata": {},
   "outputs": [],
   "source": [
    "import numpy as np\n",
    "from time import time"
   ]
  },
  {
   "cell_type": "code",
   "execution_count": 2,
   "metadata": {},
   "outputs": [],
   "source": [
    "obj = [\n",
    "    [0, 0, 0, 0, 1], \n",
    "    [0, 1, 1, 0, 0], \n",
    "    [0, 0, 1, 0, 0],\n",
    "    [0, 0, 1, 1, 0]\n",
    "]\n",
    "obj = np.array(obj)"
   ]
  },
  {
   "cell_type": "code",
   "execution_count": 3,
   "metadata": {},
   "outputs": [
    {
     "data": {
      "text/plain": [
       "array([[0, 0, 0, 0, 1],\n",
       "       [0, 1, 1, 0, 0],\n",
       "       [0, 0, 1, 0, 0],\n",
       "       [0, 0, 1, 1, 0]])"
      ]
     },
     "execution_count": 3,
     "metadata": {},
     "output_type": "execute_result"
    }
   ],
   "source": [
    "obj"
   ]
  },
  {
   "cell_type": "code",
   "execution_count": 4,
   "metadata": {},
   "outputs": [],
   "source": [
    "def pi(a):\n",
    "    for i in range(len(a)):\n",
    "        if a[i] == np.nan:\n",
    "            a[i] = 0\n",
    "            \n",
    "    s = np.nansum(a)\n",
    "    if s == 0:\n",
    "        s = 1e-5\n",
    "        print('here')\n",
    "    for i in range(len(a)):\n",
    "        a[i] /= s\n",
    "    return a\n",
    "\n",
    "def get_pi(a):\n",
    "    for i in range(len(a)):\n",
    "        for j in range(len(a[0])):\n",
    "            a[i][j] = pi(a[i][j])\n",
    "    return a"
   ]
  },
  {
   "cell_type": "code",
   "execution_count": 5,
   "metadata": {},
   "outputs": [],
   "source": [
    "def action(s):\n",
    "    # eps는 사전 설정\n",
    "    ## s_next 생성\n",
    "    if np.random.rand() > eps:\n",
    "        return np.argmax(v[s])\n",
    "    else:\n",
    "        return np.random.choice([0, 1, 2, 3]) # 상하좌우\n",
    "    \n",
    "def state_map(s, a):\n",
    "    s = list(s)\n",
    "    if a == 0:\n",
    "        s[0] -= 1\n",
    "    elif a == 1:\n",
    "        s[0] += 1\n",
    "    elif a == 2:\n",
    "        s[1] -= 1\n",
    "    else:\n",
    "        s[1] += 1\n",
    "    return tuple(s)\n"
   ]
  },
  {
   "cell_type": "code",
   "execution_count": 6,
   "metadata": {},
   "outputs": [],
   "source": [
    "def update(s, a, r, s_next, v):\n",
    "    # lr, gamma 는 위에서 설정하기\n",
    "    if s_next == goal:\n",
    "        v[s][a] = v[s][a] + lr * (r - v[s][a])\n",
    "    else:\n",
    "        a_next = action(s_next)\n",
    "        v[s][a] = v[s][a] + lr * (r + gamma*v[s_next][a_next] - v[s][a])\n",
    "        \n",
    "#     v[s] = pi(v[s])\n",
    "    return v\n"
   ]
  },
  {
   "cell_type": "code",
   "execution_count": 7,
   "metadata": {},
   "outputs": [],
   "source": [
    "def is_wall(s):\n",
    "    if s[0] < 0 or s[0] > 3:\n",
    "        return True\n",
    "    elif s[1] < 0 or s[1] > 4:\n",
    "        return True\n",
    "    elif obj[s] == 1:\n",
    "        return True\n",
    "    else:\n",
    "        return False"
   ]
  },
  {
   "cell_type": "code",
   "execution_count": 8,
   "metadata": {},
   "outputs": [],
   "source": [
    "def play(s):\n",
    "    global v, fail_hist, hist, eps\n",
    "    temp_hist = []\n",
    "    while 1:\n",
    "        eps -= 0.01\n",
    "        temp_hist.append(s)\n",
    "#         print(s)\n",
    "        a = action(s)\n",
    "        s_next = state_map(s, a)\n",
    "#         print(a, s, s_next)\n",
    "        \n",
    "#         if (0 > s[0] or s[0] > 3) or (0 > s[1] or s[1] > 4) or obj[s] == 1: ## 가면 안되는 곳\n",
    "        if is_wall(s_next):\n",
    "            fail_hist.append((s, s_next))\n",
    "#             r = -1\n",
    "            v[s][a] = 0\n",
    "            v[s] = pi(v[s])\n",
    "#             v = update(s, a, r, s_next, v)\n",
    "#             print(v[s], s_next)\n",
    "            s_next = (0, 0)\n",
    "            \n",
    "            \n",
    "        elif s_next[0] == goal[0] and s_next[1] == goal[1]: ## 도착\n",
    "            r = 1\n",
    "            v = update(s, a, r, s_next, v)\n",
    "            break\n",
    "        else: ## 갈곳이 남음\n",
    "            r = 0\n",
    "            v = update(s, a, r , s_next, v)\n",
    "            \n",
    "#         print(v[s])\n",
    "        fake_obj[s_next] = 2\n",
    "#         print(fake_obj)\n",
    "        fake_obj[s_next] = obj[s_next]\n",
    "#         print(eps)\n",
    "            \n",
    "        s = s_next\n",
    "        \n",
    "    hist.append(temp_hist)"
   ]
  },
  {
   "cell_type": "code",
   "execution_count": 9,
   "metadata": {},
   "outputs": [],
   "source": [
    "shape = obj.shape\n",
    "value = [\n",
    "    [0, 0, 0, 0, 1], \n",
    "    [0, 1, 1, 0, 0], \n",
    "    [0, 0, 1, 0, 0],\n",
    "    [0, 0, 1, 1, 0]\n",
    "]\n",
    "for i in range(shape[0]):\n",
    "    for j in range(shape[1]):\n",
    "        value[i][j] = [0.25, 0.25, 0.25, 0.25] # 위, 아래, 좌, 우\n",
    "v = np.array(value)"
   ]
  },
  {
   "cell_type": "code",
   "execution_count": 27,
   "metadata": {
    "scrolled": true
   },
   "outputs": [
    {
     "name": "stdout",
     "output_type": "stream",
     "text": [
      "0.5\n",
      "0.25\n",
      "0.125\n",
      "0.0625\n",
      "0.03125\n",
      "0.015625\n",
      "0.0078125\n",
      "0.00390625\n",
      "0.001953125\n",
      "0.0009765625\n",
      "0.00048828125\n",
      "0.000244140625\n",
      "0.0001220703125\n",
      "6.103515625e-05\n",
      "3.0517578125e-05\n",
      "1.52587890625e-05\n",
      "7.62939453125e-06\n",
      "3.814697265625e-06\n",
      "1.9073486328125e-06\n",
      "9.5367431640625e-07\n",
      "4.76837158203125e-07\n",
      "2.384185791015625e-07\n",
      "1.1920928955078125e-07\n",
      "5.960464477539063e-08\n",
      "2.9802322387695312e-08\n",
      "1.4901161193847656e-08\n",
      "7.450580596923828e-09\n",
      "3.725290298461914e-09\n",
      "1.862645149230957e-09\n",
      "9.313225746154785e-10\n",
      "4.656612873077393e-10\n",
      "2.3283064365386963e-10\n",
      "1.1641532182693481e-10\n",
      "5.820766091346741e-11\n",
      "2.9103830456733704e-11\n",
      "1.4551915228366852e-11\n",
      "7.275957614183426e-12\n",
      "3.637978807091713e-12\n",
      "1.8189894035458565e-12\n"
     ]
    }
   ],
   "source": [
    "lr = 0.1\n",
    "eps = 0.5\n",
    "gamma = 0.95\n",
    "v = np.array(value)\n",
    "fail_hist = []\n",
    "hist = []\n",
    "fake_obj = obj.copy()\n",
    "k = float('inf')\n",
    "c = 0\n",
    "\n",
    "s_0 = (0, 0)\n",
    "goal = (3, 4)\n",
    "\n",
    "start = time()\n",
    "for e in range(100):\n",
    "    play(s_0)\n",
    "    new_k = len(hist[-1])\n",
    "    if new_k <= k and new_k != float('inf'):\n",
    "        c += 1\n",
    "        k = new_k\n",
    "        if c == 10:\n",
    "            break\n",
    "    else:\n",
    "        k = float('inf')\n",
    "        c = 0\n",
    "        \n",
    "    eps = (0.5 ** (e+1))\n",
    "    print(eps)\n",
    "\n",
    "            \n",
    "#     print(e, '###################### \\n')\n",
    "#     print('succes', i)\n",
    "#     print(eps)\n",
    "#     eps = 0.5\n",
    "\n",
    "lt = time() - start"
   ]
  },
  {
   "cell_type": "code",
   "execution_count": 28,
   "metadata": {
    "scrolled": true
   },
   "outputs": [
    {
     "data": {
      "text/plain": [
       "array([[[0.        , 0.47511684, 0.        , 0.52488316],\n",
       "        [0.        , 0.        , 0.40683735, 0.59316265],\n",
       "        [0.        , 0.        , 0.33921068, 0.66078932],\n",
       "        [0.        , 0.70481464, 0.29518536, 0.        ],\n",
       "        [0.25      , 0.25      , 0.25      , 0.25      ]],\n",
       "\n",
       "       [[0.51733475, 0.48266525, 0.        , 0.        ],\n",
       "        [0.25      , 0.25      , 0.25      , 0.25      ],\n",
       "        [0.25      , 0.25      , 0.25      , 0.25      ],\n",
       "        [0.20078957, 0.59792014, 0.        , 0.20129029],\n",
       "        [0.        , 0.52172761, 0.47827239, 0.        ]],\n",
       "\n",
       "       [[0.33295739, 0.33407822, 0.        , 0.33296438],\n",
       "        [0.        , 0.50026561, 0.49973439, 0.        ],\n",
       "        [0.25      , 0.25      , 0.25      , 0.25      ],\n",
       "        [0.22366872, 0.        , 0.        , 0.77633128],\n",
       "        [0.14334786, 0.56897537, 0.14383839, 0.14383839]],\n",
       "\n",
       "       [[0.49924797, 0.        , 0.        , 0.50075203],\n",
       "        [0.5003931 , 0.        , 0.4996069 , 0.        ],\n",
       "        [0.25      , 0.25      , 0.25      , 0.25      ],\n",
       "        [0.25      , 0.25      , 0.25      , 0.25      ],\n",
       "        [0.25      , 0.25      , 0.25      , 0.25      ]]])"
      ]
     },
     "execution_count": 28,
     "metadata": {},
     "output_type": "execute_result"
    }
   ],
   "source": [
    "for i in range(shape[1]):\n",
    "    for j in range(shape[0]):\n",
    "        v[j][i] /= np.sum(v[j][i])\n",
    "v"
   ]
  },
  {
   "cell_type": "code",
   "execution_count": 29,
   "metadata": {
    "scrolled": true
   },
   "outputs": [],
   "source": [
    "value = [\n",
    "    [0, 0, 0, 0, 1], \n",
    "    [0, 1, 1, 0, 0], \n",
    "    [0, 0, 1, 0, 0],\n",
    "    [0, 0, 1, 1, 0]\n",
    "]"
   ]
  },
  {
   "cell_type": "code",
   "execution_count": null,
   "metadata": {},
   "outputs": [],
   "source": [
    "eps"
   ]
  },
  {
   "cell_type": "code",
   "execution_count": 12,
   "metadata": {},
   "outputs": [
    {
     "data": {
      "text/plain": [
       "1.6081063747406006"
      ]
     },
     "execution_count": 12,
     "metadata": {},
     "output_type": "execute_result"
    }
   ],
   "source": [
    "lt"
   ]
  },
  {
   "cell_type": "code",
   "execution_count": 17,
   "metadata": {},
   "outputs": [
    {
     "name": "stdout",
     "output_type": "stream",
     "text": [
      "0\n"
     ]
    }
   ],
   "source": [
    "c = 0\n",
    "for h in hist:\n",
    "    if len(h) == 7:\n",
    "        c += 1\n",
    "        \n",
    "print(c)"
   ]
  },
  {
   "cell_type": "code",
   "execution_count": 30,
   "metadata": {},
   "outputs": [],
   "source": [
    "lh = list(map(lambda x: len(x), hist))"
   ]
  },
  {
   "cell_type": "code",
   "execution_count": 31,
   "metadata": {},
   "outputs": [
    {
     "data": {
      "text/plain": [
       "[<matplotlib.lines.Line2D at 0x1b9ba5f2e88>]"
      ]
     },
     "execution_count": 31,
     "metadata": {},
     "output_type": "execute_result"
    },
    {
     "data": {
      "image/png": "[encoded data removed]",
      "text/plain": [
       "<Figure size 432x288 with 1 Axes>"
      ]
     },
     "metadata": {
      "needs_background": "light"
     },
     "output_type": "display_data"
    }
   ],
   "source": [
    "import matplotlib.pyplot as plt\n",
    "\n",
    "plt.plot(lh[10:])"
   ]
  },
  {
   "cell_type": "code",
   "execution_count": 32,
   "metadata": {
    "scrolled": true
   },
   "outputs": [
    {
     "data": {
      "text/plain": [
       "40"
      ]
     },
     "execution_count": 32,
     "metadata": {},
     "output_type": "execute_result"
    }
   ],
   "source": [
    "len(lh)"
   ]
  },
  {
   "cell_type": "code",
   "execution_count": null,
   "metadata": {},
   "outputs": [],
   "source": [
    "plt.plot()"
   ]
  },
  {
   "cell_type": "code",
   "execution_count": null,
   "metadata": {},
   "outputs": [],
   "source": []
  }
 ],
 "metadata": {
  "kernelspec": {
   "display_name": "Python 3",
   "language": "python",
   "name": "python3"
  },
  "language_info": {
   "codemirror_mode": {
    "name": "ipython",
    "version": 3
   },
   "file_extension": ".py",
   "mimetype": "text/x-python",
   "name": "python",
   "nbconvert_exporter": "python",
   "pygments_lexer": "ipython3",
   "version": "3.7.4"
  },
  "toc": {
   "base_numbering": 1,
   "nav_menu": {},
   "number_sections": true,
   "sideBar": true,
   "skip_h1_title": false,
   "title_cell": "Table of Contents",
   "title_sidebar": "Contents",
   "toc_cell": false,
   "toc_position": {},
   "toc_section_display": true,
   "toc_window_display": false
  }
 },
 "nbformat": 4,
 "nbformat_minor": 2
}
