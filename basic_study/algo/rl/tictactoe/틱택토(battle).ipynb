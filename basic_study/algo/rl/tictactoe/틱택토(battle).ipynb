{
 "cells": [
  {
   "cell_type": "code",
   "execution_count": null,
   "metadata": {},
   "outputs": [],
   "source": [
    "import numpy as np\n",
    "import tensorflow as tf\n",
    "from keras import layers, models\n",
    "import keras.backend as K\n",
    "\n",
    "import seaborn as sns\n",
    "from time import time\n",
    "import gc\n",
    "\n",
    "tf.config.experimental.set_visible_devices([], 'GPU')"
   ]
  },
  {
   "cell_type": "code",
   "execution_count": null,
   "metadata": {},
   "outputs": [],
   "source": [
    "init_state = np.array([\n",
    "    [0, 0, 0],\n",
    "    [0, 0, 0],\n",
    "    [0, 0, 0]\n",
    "])"
   ]
  },
  {
   "cell_type": "code",
   "execution_count": null,
   "metadata": {},
   "outputs": [],
   "source": [
    "class Game:\n",
    "    def __init__(self, state, FIRST=1):\n",
    "        self.state = state\n",
    "        self.empty = self.make_empty(state)\n",
    "        self.first_player = FIRST\n",
    "        \n",
    "    def make_empty(self, state):\n",
    "        emp = []\n",
    "        for i in range(3):\n",
    "            for j in range(3):\n",
    "                if state[i][j] == 0:\n",
    "                    emp.append(3*i + j)\n",
    "        \n",
    "        return emp\n",
    "    \n",
    "    def is_lose(self):\n",
    "        a = self.next_opp()\n",
    "        \n",
    "        for i in range(3):\n",
    "            if self.state[i][0] == self.state[i][1] == self.state[i][2] != 0:\n",
    "                return True\n",
    "            elif self.state[0][i] == self.state[1][i] == self.state[2][i] != 0:\n",
    "                return True\n",
    "        if self.state[0][0] == self.state[1][1] == self.state[2][2] != 0:\n",
    "            return True\n",
    "        if self.state[0][2] == self.state[1][1] == self.state[2][0] != 0:\n",
    "            return True\n",
    "        return 0\n",
    "    \n",
    "    def is_draw(self):\n",
    "        a = self.next_opp()\n",
    "        if self.is_lose():\n",
    "            return 0\n",
    "        if np.all(self.state):\n",
    "            return 1\n",
    "        else:\n",
    "            return 0\n",
    "        \n",
    "    def is_done(self):\n",
    "        if self.is_lose() or self.is_draw():\n",
    "            return 1\n",
    "        else:\n",
    "            return 0\n",
    "        \n",
    "        \n",
    "    def update(self, target):\n",
    "        state = self.state.copy()\n",
    "        x, y = target//3, target%3\n",
    "        a = self.next_opp()\n",
    "        state[x][y] = a\n",
    "        return Game(state)\n",
    "    \n",
    "    \n",
    "    def next_opp(self):\n",
    "        a = b = 0\n",
    "        for i in range(len(self.state)):\n",
    "            for j in range(len(self.state)):\n",
    "                if self.state[i][j] == self.first_player:\n",
    "                    a += 1\n",
    "                elif self.state[i][j] != 0:\n",
    "                    b += 1\n",
    "                    \n",
    "        if a == b:\n",
    "            return self.first_player\n",
    "        else:\n",
    "            return 2 + min(0, 1-self.first_player)"
   ]
  },
  {
   "cell_type": "code",
   "execution_count": null,
   "metadata": {},
   "outputs": [],
   "source": [
    "class Alpha:\n",
    "    def value(self, game, alpha, beta):\n",
    "        if game.is_lose():\n",
    "            return -1\n",
    "        \n",
    "        if game.is_draw():\n",
    "            return 0\n",
    "        \n",
    "        best_score = -float('inf')\n",
    "        score = 0\n",
    "        for a in game.empty:\n",
    "            score -= self.value(game.update(a), -beta, -alpha)\n",
    "            \n",
    "            if score > alpha:\n",
    "                alpha = score\n",
    "#                 print(score)\n",
    "\n",
    "            if alpha >= beta:\n",
    "                return alpha\n",
    "                \n",
    "        return alpha\n",
    "        \n",
    "    def action(self, game):\n",
    "        best_action = game.empty[0]\n",
    "        alpha = -float('inf')\n",
    "        \n",
    "        for a in game.empty:\n",
    "            score = -self.value(game.update(a), -float('inf'), -alpha)\n",
    "            if score > alpha:\n",
    "                best_action = a\n",
    "                alpha = score\n",
    "#                 print(best_action)\n",
    "        return best_action\n",
    "\n",
    "    "
   ]
  },
  {
   "cell_type": "code",
   "execution_count": null,
   "metadata": {},
   "outputs": [],
   "source": [
    "class MCS:\n",
    "    def __init__(self, n=100):\n",
    "        self.n = n\n",
    "    \n",
    "    def playout(self, game):\n",
    "        if game.is_lose():\n",
    "            return -1\n",
    "        \n",
    "        if game.is_draw():\n",
    "            return 0\n",
    "\n",
    "        return -self.playout(game.update(np.random.choice(game.empty)))\n",
    "    \n",
    "    \n",
    "    def action(self, game):\n",
    "        values = [0] * len(game.empty)\n",
    "\n",
    "        for i, a in enumerate(game.empty):\n",
    "            for _ in range(self.n):\n",
    "                g = game.update(a)\n",
    "                values[i] -= self.playout(g)\n",
    "\n",
    "        return game.empty[np.argmax(values)]"
   ]
  },
  {
   "cell_type": "code",
   "execution_count": null,
   "metadata": {},
   "outputs": [],
   "source": [
    "# class CNN:\n",
    "#     def __init__(self):\n",
    "#         self.model = models.load_model('./tanh2.h5')\n",
    "        \n",
    "#     def action(self, game):\n",
    "#         status = game.next_opp()\n",
    "#         target = np.reshape(game.state, (1, 1, 3, 3)).astype('float')\n",
    "#         target = np.where(target==status, 1., np.where(target==0, 0, -1.))\n",
    "#         res = self.model.predict(target)[0]\n",
    "#         a = np.argmax(res)\n",
    "#         while a not in game.empty:\n",
    "#             res[a] = -float('inf')\n",
    "#             a = np.argmax(res)\n",
    "#         return a\n",
    "                \n",
    "    \n",
    "#     def opp(self, status):\n",
    "#         return 2 + min(0, 1-status)"
   ]
  },
  {
   "cell_type": "code",
   "execution_count": null,
   "metadata": {},
   "outputs": [],
   "source": [
    "# m1 = CNN()"
   ]
  },
  {
   "cell_type": "code",
   "execution_count": null,
   "metadata": {},
   "outputs": [],
   "source": [
    "class CNN:\n",
    "    def __init__(self):\n",
    "        self.model = models.load_model('./CNN.h5')\n",
    "\n",
    "    def action(self, game):\n",
    "        res = self.predict(game)\n",
    "        a = np.argmax(res)\n",
    "        a = game.empty[a]\n",
    "\n",
    "        return a\n",
    "\n",
    "    \n",
    "    def make_state(self, game):\n",
    "        status = game.next_opp()\n",
    "        opp = 3 - status\n",
    "        a = game.state\n",
    "        a1 = np.where(a==status, 1, 0)\n",
    "        a2 = np.where(a==opp, 1, 0)\n",
    "        res = np.array([a1, a2])\n",
    "        res = res.reshape(2, 3, 3).transpose(1, 2, 0).reshape(1, 3, 3, 2)\n",
    "        \n",
    "        return res\n",
    "    \n",
    "    def predict(self, game):\n",
    "        state = self.make_state(game)\n",
    "        \n",
    "        res = self.model.predict(state)[0]\n",
    "        \n",
    "        res = res[game.empty]\n",
    "        \n",
    "        return res \n"
   ]
  },
  {
   "cell_type": "code",
   "execution_count": null,
   "metadata": {},
   "outputs": [],
   "source": [
    "m2 = CNN()"
   ]
  },
  {
   "cell_type": "code",
   "execution_count": null,
   "metadata": {
    "scrolled": false
   },
   "outputs": [],
   "source": [
    "def play(game, m1, m2):\n",
    "    global score\n",
    "    while 1:\n",
    "        a1 = m1.action(game)\n",
    "        game = game.update(a1)\n",
    "        if game.is_lose():\n",
    "            score[0] += 1\n",
    "            return \n",
    "        elif game.is_draw():\n",
    "            score[2] += 1\n",
    "            return \n",
    "\n",
    "        a2 = m2.action(game)\n",
    "        game = game.update(a2)\n",
    "        if game.is_lose():\n",
    "            score[1] += 1\n",
    "            return \n",
    "        elif game.is_draw():\n",
    "            score[2] += 1\n",
    "            return \n",
    "        "
   ]
  },
  {
   "cell_type": "code",
   "execution_count": null,
   "metadata": {},
   "outputs": [],
   "source": [
    "game = Game(init_state)\n",
    "# K.clear_session()\n",
    "# m1 = MCS()\n",
    "# m2 = MCS()"
   ]
  },
  {
   "cell_type": "code",
   "execution_count": null,
   "metadata": {
    "scrolled": true
   },
   "outputs": [],
   "source": [
    "%%time\n",
    "score = [0, 0, 0]\n",
    "for _ in range(200):\n",
    "#     print(_)\n",
    "    print(score)\n",
    "    play(game, m1, m2)\n",
    "print(score)\n",
    "\n",
    "score = [0, 0, 0]\n",
    "for _ in range(200):\n",
    "#     print(_)\n",
    "    play(game, m2, m1)\n",
    "#     print(score)\n",
    "print(score)"
   ]
  },
  {
   "cell_type": "code",
   "execution_count": null,
   "metadata": {},
   "outputs": [],
   "source": [
    "# cnn vs mcs"
   ]
  },
  {
   "cell_type": "code",
   "execution_count": null,
   "metadata": {},
   "outputs": [],
   "source": [
    "score"
   ]
  },
  {
   "cell_type": "code",
   "execution_count": null,
   "metadata": {},
   "outputs": [],
   "source": [
    "# alpha vs mcs: 11vs164 MCS wins\n",
    "# alpha vs minmax: 100vs0 alpha wins\n"
   ]
  },
  {
   "cell_type": "code",
   "execution_count": null,
   "metadata": {},
   "outputs": [],
   "source": [
    "raise 'done'"
   ]
  }
 ],
 "metadata": {
  "kernelspec": {
   "display_name": "Python 3",
   "language": "python",
   "name": "python3"
  },
  "language_info": {
   "codemirror_mode": {
    "name": "ipython",
    "version": 3
   },
   "file_extension": ".py",
   "mimetype": "text/x-python",
   "name": "python",
   "nbconvert_exporter": "python",
   "pygments_lexer": "ipython3",
   "version": "3.7.4"
  },
  "toc": {
   "base_numbering": 1,
   "nav_menu": {},
   "number_sections": true,
   "sideBar": true,
   "skip_h1_title": false,
   "title_cell": "Table of Contents",
   "title_sidebar": "Contents",
   "toc_cell": false,
   "toc_position": {},
   "toc_section_display": true,
   "toc_window_display": false
  }
 },
 "nbformat": 4,
 "nbformat_minor": 2
}
