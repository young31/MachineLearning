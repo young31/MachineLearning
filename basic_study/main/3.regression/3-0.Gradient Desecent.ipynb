{
 "cells": [
  {
   "cell_type": "markdown",
   "metadata": {},
   "source": [
    "# Gradeint Descent\n",
    "\n",
    "- 머신러닝의 가장 기본이 되는 경사하강법을 실습해보자\n",
    "- greedy하게 찾아가는 방법이므로 손실함수(비용함수)를 잘 설정해야 함(convex하게)\n",
    "- 절차:\n",
    "    1. 초기 parameter를 설정함\n",
    "    2. 답과 초기 param값으로 계산한 예측값을 비교\n",
    "    3. 적절히 설정한 손실함수에 기초해서 param update\n",
    "    4. 적정 수준까지 반복\n",
    "  \n",
    "    \n",
    "- 규제 모형들의 경우 비용함수에 적절히 규제항을 추가하여 대부분 구성함"
   ]
  },
  {
   "cell_type": "code",
   "execution_count": 1,
   "metadata": {},
   "outputs": [],
   "source": [
    "import numpy as np\n",
    "import pandas as pd\n",
    "from sklearn.datasets import load_boston\n",
    "\n",
    "d = load_boston()"
   ]
  },
  {
   "cell_type": "code",
   "execution_count": 2,
   "metadata": {},
   "outputs": [
    {
     "data": {
      "text/plain": [
       "dict_keys(['data', 'target', 'feature_names', 'DESCR', 'filename'])"
      ]
     },
     "execution_count": 2,
     "metadata": {},
     "output_type": "execute_result"
    }
   ],
   "source": [
    "d.keys()"
   ]
  },
  {
   "cell_type": "code",
   "execution_count": 3,
   "metadata": {},
   "outputs": [],
   "source": [
    "from sklearn.preprocessing import StandardScaler\n",
    "\n",
    "std = StandardScaler()\n",
    "data = pd.DataFrame(std.fit_transform(d.data), columns=d.feature_names)\n",
    "target = std.fit_transform(d.target.reshape(-1,1))"
   ]
  },
  {
   "cell_type": "code",
   "execution_count": 4,
   "metadata": {},
   "outputs": [
    {
     "data": {
      "text/plain": [
       "LinearRegression(copy_X=True, fit_intercept=True, n_jobs=None, normalize=False)"
      ]
     },
     "execution_count": 4,
     "metadata": {},
     "output_type": "execute_result"
    }
   ],
   "source": [
    "from sklearn.linear_model import LinearRegression\n",
    "\n",
    "lr = LinearRegression()\n",
    "lr.fit(data, target)"
   ]
  },
  {
   "cell_type": "code",
   "execution_count": 5,
   "metadata": {},
   "outputs": [
    {
     "data": {
      "text/plain": [
       "array([[-0.10101708,  0.1177152 ,  0.0153352 ,  0.07419883, -0.22384803,\n",
       "         0.29105647,  0.00211864, -0.33783635,  0.28974905, -0.22603168,\n",
       "        -0.22427123,  0.09243223, -0.40744693]])"
      ]
     },
     "execution_count": 5,
     "metadata": {},
     "output_type": "execute_result"
    }
   ],
   "source": [
    "lr.coef_"
   ]
  },
  {
   "cell_type": "code",
   "execution_count": 6,
   "metadata": {},
   "outputs": [
    {
     "data": {
      "text/plain": [
       "array([[-0.23252837,  0.14834915, -0.30999003]])"
      ]
     },
     "execution_count": 6,
     "metadata": {},
     "output_type": "execute_result"
    }
   ],
   "source": [
    "dd = data.iloc[:,0:3]\n",
    "lr = LinearRegression().fit(dd, target)\n",
    "lr.coef_"
   ]
  },
  {
   "cell_type": "code",
   "execution_count": 7,
   "metadata": {},
   "outputs": [],
   "source": [
    "def update(w, X, y, lr=0.001):\n",
    "    X['int'] = np.ones(len(X))\n",
    "    f = (X.T@X @ w).values\n",
    "    b = X.T@y\n",
    "    bb = list(list(zip(*b.values))[0])\n",
    "    bb = (np.multiply(-1, bb))\n",
    "    w_update = np.add(f, bb)\n",
    "    w = np.add(w, np.multiply(-1*lr, w_update))\n",
    "    y_pred = pd.DataFrame((X @ w).T)\n",
    "    diff = y - y_pred\n",
    "    print(np.sum(np.square(y-y_pred))[0])\n",
    "    return w, np.sum(np.square(y-y_pred))[0]"
   ]
  },
  {
   "cell_type": "code",
   "execution_count": 8,
   "metadata": {},
   "outputs": [
    {
     "name": "stdout",
     "output_type": "stream",
     "text": [
      "367.2336968415681\n"
     ]
    },
    {
     "name": "stderr",
     "output_type": "stream",
     "text": [
      "c:\\users\\young\\anaconda3\\envs\\study\\lib\\site-packages\\ipykernel_launcher.py:2: SettingWithCopyWarning: \n",
      "A value is trying to be set on a copy of a slice from a DataFrame.\n",
      "Try using .loc[row_indexer,col_indexer] = value instead\n",
      "\n",
      "See the caveats in the documentation: http://pandas.pydata.org/pandas-docs/stable/user_guide/indexing.html#returning-a-view-versus-a-copy\n",
      "  \n"
     ]
    },
    {
     "data": {
      "text/plain": [
       "(array([-1.94877784e-01,  2.93429895e-01, -1.92556692e-01, -3.36841666e-16]),\n",
       " 367.2336968415681)"
      ]
     },
     "execution_count": 8,
     "metadata": {},
     "output_type": "execute_result"
    }
   ],
   "source": [
    "w = [-0.1, 0.3, -0.1, 0]\n",
    "update(w, dd, target)"
   ]
  },
  {
   "cell_type": "code",
   "execution_count": 9,
   "metadata": {
    "scrolled": true
   },
   "outputs": [
    {
     "name": "stderr",
     "output_type": "stream",
     "text": [
      "c:\\users\\young\\anaconda3\\envs\\study\\lib\\site-packages\\ipykernel_launcher.py:2: SettingWithCopyWarning: \n",
      "A value is trying to be set on a copy of a slice from a DataFrame.\n",
      "Try using .loc[row_indexer,col_indexer] = value instead\n",
      "\n",
      "See the caveats in the documentation: http://pandas.pydata.org/pandas-docs/stable/user_guide/indexing.html#returning-a-view-versus-a-copy\n",
      "  \n"
     ]
    },
    {
     "name": "stdout",
     "output_type": "stream",
     "text": [
      "367.2336968415681\n",
      "362.245178274099\n",
      "359.99252012054023\n",
      "358.86250141461835\n",
      "358.2535211913927\n",
      "357.90717602281734\n",
      "357.70285924942976\n",
      "357.57951629717445\n",
      "357.50401748151785\n",
      "357.4574294687678\n",
      "357.4285480106026\n",
      "357.41059632600115\n",
      "357.3994216424351\n",
      "357.3924597477676\n",
      "357.38812041442617\n",
      "357.38541500727524\n",
      "357.38372804182313\n",
      "357.38267604223125\n",
      "357.38201998001375\n",
      "357.3816108270237\n",
      "357.3813556551921\n",
      "357.3811965137602\n",
      "357.38109726255965\n",
      "357.3810353627401\n",
      "357.3809967577346\n",
      "357.38097268096595\n",
      "357.38095766501027\n",
      "357.3809483000085\n",
      "357.38094245933667\n",
      "357.38093881668374\n",
      "357.38093654486966\n",
      "357.3809351280068\n",
      "357.38093424435164\n",
      "357.3809336932422\n",
      "357.3809333495317\n",
      "357.38093313516964\n",
      "357.3809330014784\n",
      "357.3809329180992\n",
      "357.38093286609796\n",
      "357.3809328336664\n",
      "357.3809328134398\n",
      "357.3809328008251\n",
      "357.38093279295765\n",
      "357.380932788051\n",
      "357.3809327849909\n",
      "357.38093278308236\n",
      "357.380932781892\n",
      "357.3809327811496\n",
      "357.3809327806867\n",
      "357.3809327803979\n",
      "357.38093278021785\n",
      "357.3809327801055\n",
      "357.38093278003555\n",
      "357.3809327799918\n",
      "357.38093277996455\n",
      "357.38093277994756\n",
      "357.3809327799369\n",
      "357.38093277993033\n",
      "357.38093277992624\n",
      "357.3809327799237\n",
      "357.3809327799221\n",
      "357.38093277992107\n",
      "357.3809327799204\n",
      "357.38093277992004\n",
      "357.3809327799198\n",
      "357.38093277991965\n",
      "357.38093277991953\n",
      "357.3809327799195\n",
      "357.3809327799195\n",
      "357.3809327799195\n",
      "357.3809327799194\n",
      "357.3809327799194\n",
      "357.38093277991936\n",
      "357.38093277991936\n",
      "357.3809327799194\n"
     ]
    }
   ],
   "source": [
    "e = 10000\n",
    "for _ in range(1000):\n",
    "    w, error = update(w, dd, target)\n",
    "    if error > e:\n",
    "        break\n",
    "    else:\n",
    "        e = error"
   ]
  },
  {
   "cell_type": "code",
   "execution_count": 10,
   "metadata": {},
   "outputs": [
    {
     "data": {
      "text/plain": [
       "array([-2.32528370e-01,  1.48349151e-01, -3.09990023e-01, -1.35546899e-15])"
      ]
     },
     "execution_count": 10,
     "metadata": {},
     "output_type": "execute_result"
    }
   ],
   "source": [
    "w"
   ]
  },
  {
   "cell_type": "code",
   "execution_count": 11,
   "metadata": {},
   "outputs": [
    {
     "data": {
      "text/plain": [
       "array([[-0.23252837,  0.14834915, -0.30999003]])"
      ]
     },
     "execution_count": 11,
     "metadata": {},
     "output_type": "execute_result"
    }
   ],
   "source": [
    "lr.coef_"
   ]
  },
  {
   "cell_type": "code",
   "execution_count": null,
   "metadata": {},
   "outputs": [],
   "source": []
  }
 ],
 "metadata": {
  "kernelspec": {
   "display_name": "Python 3",
   "language": "python",
   "name": "python3"
  },
  "language_info": {
   "codemirror_mode": {
    "name": "ipython",
    "version": 3
   },
   "file_extension": ".py",
   "mimetype": "text/x-python",
   "name": "python",
   "nbconvert_exporter": "python",
   "pygments_lexer": "ipython3",
   "version": "3.7.4"
  },
  "toc": {
   "base_numbering": 1,
   "nav_menu": {},
   "number_sections": true,
   "sideBar": true,
   "skip_h1_title": false,
   "title_cell": "Table of Contents",
   "title_sidebar": "Contents",
   "toc_cell": false,
   "toc_position": {},
   "toc_section_display": true,
   "toc_window_display": false
  }
 },
 "nbformat": 4,
 "nbformat_minor": 2
}
