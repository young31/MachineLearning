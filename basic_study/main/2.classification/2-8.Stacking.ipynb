{
 "cells": [
  {
   "cell_type": "markdown",
   "metadata": {},
   "source": [
    "# Stacking\n",
    "\n",
    "- 최적의 분류기를 찾기 위한 마지막 기법\n",
    "- boosting, bagging, voting에 더 나아가서 결과 값을 응용하는 과정\n",
    "- 다시 말하자면 여러 분류기를 이용하여 예측값을 만들고\n",
    "    - 이를 새로운 인풋변수로 활용하여 최종 결과 도출\n",
    "- self 버전과 sklearn의 라이브러리를 활용해보자"
   ]
  },
  {
   "cell_type": "code",
   "execution_count": 1,
   "metadata": {},
   "outputs": [],
   "source": [
    "import numpy as np\n",
    "import pandas as pd\n",
    "from sklearn.model_selection import train_test_split\n",
    "from sklearn.metrics import accuracy_score\n",
    "import warnings\n",
    "warnings.filterwarnings(action='ignore')\n",
    "\n",
    "data = pd.read_csv('../1.clustering/titanic.csv')\n",
    "\n",
    "target = data['Survived']\n",
    "data = data.drop(['PassengerId', 'Survived'], axis=1)\n",
    "\n",
    "def sex(a):\n",
    "    if a == 'male':\n",
    "        return 0\n",
    "    else:\n",
    "        return 1\n",
    "    \n",
    "def emb(a):\n",
    "    if a == 'S':\n",
    "        return 0\n",
    "    elif a == 'Q':\n",
    "        return 1\n",
    "    else:\n",
    "        return 2\n",
    "    \n",
    "data['Sex'] = data['Sex'].map(sex)\n",
    "data['Embarked'] = data['Embarked'].map(emb)\n",
    "\n",
    "train_X, test_X, train_y, test_y = train_test_split(data, target, test_size=0.3, random_state=2019, shuffle=True)"
   ]
  },
  {
   "cell_type": "code",
   "execution_count": 2,
   "metadata": {},
   "outputs": [],
   "source": [
    "## self 버전 시작합니다.\n",
    "from sklearn.neighbors import KNeighborsClassifier\n",
    "from sklearn.linear_model import LogisticRegression\n",
    "from sklearn.tree import DecisionTreeClassifier\n",
    "\n",
    "knn = KNeighborsClassifier(n_neighbors=3).fit(train_X, train_y)\n",
    "lr = LogisticRegression(random_state=0).fit(train_X, train_y)\n",
    "tree = DecisionTreeClassifier(random_state=0).fit(train_X, train_y)\n",
    "\n",
    "new_input = pd.DataFrame()\n",
    "new_test = pd.DataFrame()\n",
    "\n",
    "new_input['knn'] = knn.predict(train_X)\n",
    "new_test['knn'] = knn.predict(test_X)\n",
    "new_input['lr'] = lr.predict(train_X)\n",
    "new_test['lr'] = lr.predict(test_X)\n",
    "new_input['tree'] = tree.predict(train_X)\n",
    "new_test['tree'] = tree.predict(test_X)\n"
   ]
  },
  {
   "cell_type": "code",
   "execution_count": 3,
   "metadata": {
    "scrolled": false
   },
   "outputs": [
    {
     "data": {
      "text/html": [
       "<div>\n",
       "<style scoped>\n",
       "    .dataframe tbody tr th:only-of-type {\n",
       "        vertical-align: middle;\n",
       "    }\n",
       "\n",
       "    .dataframe tbody tr th {\n",
       "        vertical-align: top;\n",
       "    }\n",
       "\n",
       "    .dataframe thead th {\n",
       "        text-align: right;\n",
       "    }\n",
       "</style>\n",
       "<table border=\"1\" class=\"dataframe\">\n",
       "  <thead>\n",
       "    <tr style=\"text-align: right;\">\n",
       "      <th></th>\n",
       "      <th>knn</th>\n",
       "      <th>lr</th>\n",
       "      <th>tree</th>\n",
       "    </tr>\n",
       "  </thead>\n",
       "  <tbody>\n",
       "    <tr>\n",
       "      <th>0</th>\n",
       "      <td>0</td>\n",
       "      <td>0</td>\n",
       "      <td>0</td>\n",
       "    </tr>\n",
       "    <tr>\n",
       "      <th>1</th>\n",
       "      <td>1</td>\n",
       "      <td>0</td>\n",
       "      <td>0</td>\n",
       "    </tr>\n",
       "    <tr>\n",
       "      <th>2</th>\n",
       "      <td>0</td>\n",
       "      <td>0</td>\n",
       "      <td>0</td>\n",
       "    </tr>\n",
       "    <tr>\n",
       "      <th>3</th>\n",
       "      <td>0</td>\n",
       "      <td>0</td>\n",
       "      <td>0</td>\n",
       "    </tr>\n",
       "    <tr>\n",
       "      <th>4</th>\n",
       "      <td>0</td>\n",
       "      <td>1</td>\n",
       "      <td>1</td>\n",
       "    </tr>\n",
       "    <tr>\n",
       "      <th>...</th>\n",
       "      <td>...</td>\n",
       "      <td>...</td>\n",
       "      <td>...</td>\n",
       "    </tr>\n",
       "    <tr>\n",
       "      <th>493</th>\n",
       "      <td>0</td>\n",
       "      <td>1</td>\n",
       "      <td>0</td>\n",
       "    </tr>\n",
       "    <tr>\n",
       "      <th>494</th>\n",
       "      <td>1</td>\n",
       "      <td>1</td>\n",
       "      <td>1</td>\n",
       "    </tr>\n",
       "    <tr>\n",
       "      <th>495</th>\n",
       "      <td>0</td>\n",
       "      <td>0</td>\n",
       "      <td>0</td>\n",
       "    </tr>\n",
       "    <tr>\n",
       "      <th>496</th>\n",
       "      <td>0</td>\n",
       "      <td>0</td>\n",
       "      <td>0</td>\n",
       "    </tr>\n",
       "    <tr>\n",
       "      <th>497</th>\n",
       "      <td>0</td>\n",
       "      <td>0</td>\n",
       "      <td>0</td>\n",
       "    </tr>\n",
       "  </tbody>\n",
       "</table>\n",
       "<p>498 rows × 3 columns</p>\n",
       "</div>"
      ],
      "text/plain": [
       "     knn  lr  tree\n",
       "0      0   0     0\n",
       "1      1   0     0\n",
       "2      0   0     0\n",
       "3      0   0     0\n",
       "4      0   1     1\n",
       "..   ...  ..   ...\n",
       "493    0   1     0\n",
       "494    1   1     1\n",
       "495    0   0     0\n",
       "496    0   0     0\n",
       "497    0   0     0\n",
       "\n",
       "[498 rows x 3 columns]"
      ]
     },
     "execution_count": 3,
     "metadata": {},
     "output_type": "execute_result"
    }
   ],
   "source": [
    "new_input"
   ]
  },
  {
   "cell_type": "code",
   "execution_count": 4,
   "metadata": {},
   "outputs": [],
   "source": [
    "from sklearn.ensemble import RandomForestClassifier\n",
    "\n",
    "rf = RandomForestClassifier(random_state=0, max_depth=6).fit(new_input, train_y)"
   ]
  },
  {
   "cell_type": "code",
   "execution_count": 5,
   "metadata": {},
   "outputs": [
    {
     "name": "stdout",
     "output_type": "stream",
     "text": [
      "0.6869158878504673\n"
     ]
    }
   ],
   "source": [
    "print(accuracy_score(test_y, rf.predict(new_test)))"
   ]
  },
  {
   "cell_type": "code",
   "execution_count": 6,
   "metadata": {},
   "outputs": [
    {
     "name": "stdout",
     "output_type": "stream",
     "text": [
      "0.7990654205607477\n",
      "0.6915887850467289\n",
      "0.6869158878504673\n"
     ]
    }
   ],
   "source": [
    "print(accuracy_score(test_y, lr.predict(test_X)))\n",
    "print(accuracy_score(test_y, knn.predict(test_X)))\n",
    "print(accuracy_score(test_y, tree.predict(test_X)))"
   ]
  },
  {
   "cell_type": "code",
   "execution_count": 7,
   "metadata": {},
   "outputs": [
    {
     "data": {
      "text/plain": [
       "array([0.1578856 , 0.18822809, 0.6538863 ])"
      ]
     },
     "execution_count": 7,
     "metadata": {},
     "output_type": "execute_result"
    }
   ],
   "source": [
    "rf.feature_importances_"
   ]
  },
  {
   "cell_type": "code",
   "execution_count": 8,
   "metadata": {},
   "outputs": [
    {
     "name": "stdout",
     "output_type": "stream",
     "text": [
      "0.7990654205607477\n"
     ]
    }
   ],
   "source": [
    "## sklearn wrapper\n",
    "from sklearn.ensemble import StackingClassifier\n",
    "\n",
    "knn = KNeighborsClassifier(n_neighbors=3)\n",
    "lr = LogisticRegression(random_state=0)\n",
    "tree = DecisionTreeClassifier(random_state=0)\n",
    "rf = RandomForestClassifier(random_state=0, max_depth=6)\n",
    "\n",
    "estimators = [\n",
    "    ('lr', lr),\n",
    "    ('knn', knn),\n",
    "    ('tree', tree)\n",
    "]\n",
    "\n",
    "stacking = StackingClassifier(estimators, rf, stack_method='predict').fit(train_X, train_y)\n",
    "\n",
    "print(stacking.score(test_X, test_y))"
   ]
  },
  {
   "cell_type": "markdown",
   "metadata": {},
   "source": [
    "- 결과가 다르다. 왜일까\n",
    "- 이유를 찾다보니 다음과 같은 문구를 발견\n",
    "    -  To generalize and avoid over-fitting, the final_estimator is trained on out-samples using sklearn.model_selection.cross_val_predict internally.\n",
    "    \n",
    "- 그럼 이를 적용해보면 같을까?\n",
    "    - 아래 결과를 비교해보면 거의 같다고 볼 수 있을 것 같다."
   ]
  },
  {
   "cell_type": "code",
   "execution_count": 9,
   "metadata": {},
   "outputs": [
    {
     "data": {
      "text/plain": [
       "0.7803986710963455"
      ]
     },
     "execution_count": 9,
     "metadata": {},
     "output_type": "execute_result"
    }
   ],
   "source": [
    "from sklearn.model_selection import cross_val_score\n",
    "\n",
    "np.mean(cross_val_score(rf, new_test, test_y, cv=5))"
   ]
  },
  {
   "cell_type": "code",
   "execution_count": 10,
   "metadata": {
    "scrolled": true
   },
   "outputs": [
    {
     "data": {
      "text/plain": [
       "0.6728971962616822"
      ]
     },
     "execution_count": 10,
     "metadata": {},
     "output_type": "execute_result"
    }
   ],
   "source": [
    "## predict_proba 예시\n",
    "knn = KNeighborsClassifier(n_neighbors=3).fit(train_X, train_y)\n",
    "lr = LogisticRegression(random_state=0).fit(train_X, train_y)\n",
    "tree = DecisionTreeClassifier(random_state=0).fit(train_X, train_y)\n",
    "\n",
    "new_input = pd.DataFrame()\n",
    "new_test = pd.DataFrame()\n",
    "\n",
    "new_input['knn'] = list(zip(*knn.predict_proba(train_X)))[0]\n",
    "new_test['knn'] = list(zip(*knn.predict_proba(test_X)))[0]\n",
    "new_input['lr'] = list(zip(*lr.predict_proba(train_X)))[0]\n",
    "new_test['lr'] = list(zip(*lr.predict_proba(test_X)))[0]\n",
    "new_input['tree'] = list(zip(*tree.predict_proba(train_X)))[0]\n",
    "new_test['tree'] = list(zip(*tree.predict_proba(test_X)))[0]\n",
    "\n",
    "rf = RandomForestClassifier(random_state=0, max_depth=6).fit(new_input, train_y)\n",
    "rf.score(new_test, test_y)"
   ]
  },
  {
   "cell_type": "code",
   "execution_count": 11,
   "metadata": {},
   "outputs": [
    {
     "data": {
      "text/plain": [
       "0.7990033222591361"
      ]
     },
     "execution_count": 11,
     "metadata": {},
     "output_type": "execute_result"
    }
   ],
   "source": [
    "from sklearn.model_selection import cross_val_score\n",
    "\n",
    "np.mean(cross_val_score(rf, new_test, test_y, cv=5))"
   ]
  }
 ],
 "metadata": {
  "kernelspec": {
   "display_name": "Python 3",
   "language": "python",
   "name": "python3"
  },
  "language_info": {
   "codemirror_mode": {
    "name": "ipython",
    "version": 3
   },
   "file_extension": ".py",
   "mimetype": "text/x-python",
   "name": "python",
   "nbconvert_exporter": "python",
   "pygments_lexer": "ipython3",
   "version": "3.7.4"
  },
  "toc": {
   "base_numbering": 1,
   "nav_menu": {},
   "number_sections": true,
   "sideBar": true,
   "skip_h1_title": false,
   "title_cell": "Table of Contents",
   "title_sidebar": "Contents",
   "toc_cell": false,
   "toc_position": {},
   "toc_section_display": true,
   "toc_window_display": false
  }
 },
 "nbformat": 4,
 "nbformat_minor": 2
}
