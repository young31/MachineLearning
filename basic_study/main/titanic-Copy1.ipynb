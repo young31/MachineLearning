{
 "cells": [
  {
   "cell_type": "code",
   "execution_count": 1,
   "metadata": {},
   "outputs": [
    {
     "name": "stderr",
     "output_type": "stream",
     "text": [
      "Using TensorFlow backend.\n"
     ]
    }
   ],
   "source": [
    "## 기본 library\n",
    "import numpy as np\n",
    "import pandas as pd\n",
    "import matplotlib.pyplot as plt \n",
    "## model library\n",
    "from sklearn.linear_model import LogisticRegression\n",
    "from sklearn.neighbors import KNeighborsClassifier\n",
    "from sklearn.svm import SVC\n",
    "from sklearn.tree import DecisionTreeClassifier\n",
    "from sklearn.ensemble import RandomForestClassifier\n",
    "from xgboost import XGBClassifier\n",
    "from lightgbm import LGBMClassifier\n",
    "from keras import models, layers, optimizers\n",
    "## helper library\n",
    "from sklearn.model_selection import train_test_split, KFold, cross_val_score\n",
    "from sklearn.metrics import accuracy_score\n",
    "from keras.callbacks import EarlyStopping, ModelCheckpoint\n",
    "import keras.backend as K\n",
    "from sklearn.preprocessing import MinMaxScaler, StandardScaler, LabelEncoder\n",
    "from bayes_opt import BayesianOptimization\n",
    "\n",
    "import seaborn as sns\n",
    "\n",
    "data = pd.read_csv('./data/titanic/train.csv')\n",
    "d = data.copy()\n",
    "test = pd.read_csv('./data/titanic/test.csv')\n",
    "submission = pd.read_csv('./data/titanic/gender_submission.csv')\n",
    "\n",
    "target = data['Survived']\n",
    "data = data.drop(['PassengerId', 'Survived', 'Name', 'Ticket'], axis=1)\n",
    "test = test.drop(['PassengerId', 'Name', 'Ticket'], axis=1)"
   ]
  },
  {
   "cell_type": "code",
   "execution_count": 2,
   "metadata": {},
   "outputs": [
    {
     "data": {
      "text/html": [
       "<div>\n",
       "<style scoped>\n",
       "    .dataframe tbody tr th:only-of-type {\n",
       "        vertical-align: middle;\n",
       "    }\n",
       "\n",
       "    .dataframe tbody tr th {\n",
       "        vertical-align: top;\n",
       "    }\n",
       "\n",
       "    .dataframe thead th {\n",
       "        text-align: right;\n",
       "    }\n",
       "</style>\n",
       "<table border=\"1\" class=\"dataframe\">\n",
       "  <thead>\n",
       "    <tr style=\"text-align: right;\">\n",
       "      <th></th>\n",
       "      <th>Pclass</th>\n",
       "      <th>Sex</th>\n",
       "      <th>Age</th>\n",
       "      <th>SibSp</th>\n",
       "      <th>Parch</th>\n",
       "      <th>Fare</th>\n",
       "      <th>Cabin</th>\n",
       "      <th>Embarked</th>\n",
       "    </tr>\n",
       "  </thead>\n",
       "  <tbody>\n",
       "    <tr>\n",
       "      <th>0</th>\n",
       "      <td>3</td>\n",
       "      <td>male</td>\n",
       "      <td>22.0</td>\n",
       "      <td>1</td>\n",
       "      <td>0</td>\n",
       "      <td>7.2500</td>\n",
       "      <td>NaN</td>\n",
       "      <td>S</td>\n",
       "    </tr>\n",
       "    <tr>\n",
       "      <th>1</th>\n",
       "      <td>1</td>\n",
       "      <td>female</td>\n",
       "      <td>38.0</td>\n",
       "      <td>1</td>\n",
       "      <td>0</td>\n",
       "      <td>71.2833</td>\n",
       "      <td>C85</td>\n",
       "      <td>C</td>\n",
       "    </tr>\n",
       "    <tr>\n",
       "      <th>2</th>\n",
       "      <td>3</td>\n",
       "      <td>female</td>\n",
       "      <td>26.0</td>\n",
       "      <td>0</td>\n",
       "      <td>0</td>\n",
       "      <td>7.9250</td>\n",
       "      <td>NaN</td>\n",
       "      <td>S</td>\n",
       "    </tr>\n",
       "    <tr>\n",
       "      <th>3</th>\n",
       "      <td>1</td>\n",
       "      <td>female</td>\n",
       "      <td>35.0</td>\n",
       "      <td>1</td>\n",
       "      <td>0</td>\n",
       "      <td>53.1000</td>\n",
       "      <td>C123</td>\n",
       "      <td>S</td>\n",
       "    </tr>\n",
       "    <tr>\n",
       "      <th>4</th>\n",
       "      <td>3</td>\n",
       "      <td>male</td>\n",
       "      <td>35.0</td>\n",
       "      <td>0</td>\n",
       "      <td>0</td>\n",
       "      <td>8.0500</td>\n",
       "      <td>NaN</td>\n",
       "      <td>S</td>\n",
       "    </tr>\n",
       "  </tbody>\n",
       "</table>\n",
       "</div>"
      ],
      "text/plain": [
       "   Pclass     Sex   Age  SibSp  Parch     Fare Cabin Embarked\n",
       "0       3    male  22.0      1      0   7.2500   NaN        S\n",
       "1       1  female  38.0      1      0  71.2833   C85        C\n",
       "2       3  female  26.0      0      0   7.9250   NaN        S\n",
       "3       1  female  35.0      1      0  53.1000  C123        S\n",
       "4       3    male  35.0      0      0   8.0500   NaN        S"
      ]
     },
     "execution_count": 2,
     "metadata": {},
     "output_type": "execute_result"
    }
   ],
   "source": [
    "data.head()"
   ]
  },
  {
   "cell_type": "code",
   "execution_count": 3,
   "metadata": {},
   "outputs": [
    {
     "data": {
      "text/plain": [
       "array([nan, 'C85', 'C123', 'E46', 'G6', 'C103', 'D56', 'A6',\n",
       "       'C23 C25 C27', 'B78', 'D33', 'B30', 'C52', 'B28', 'C83', 'F33',\n",
       "       'F G73', 'E31', 'A5', 'D10 D12', 'D26', 'C110', 'B58 B60', 'E101',\n",
       "       'F E69', 'D47', 'B86', 'F2', 'C2', 'E33', 'B19', 'A7', 'C49', 'F4',\n",
       "       'A32', 'B4', 'B80', 'A31', 'D36', 'D15', 'C93', 'C78', 'D35',\n",
       "       'C87', 'B77', 'E67', 'B94', 'C125', 'C99', 'C118', 'D7', 'A19',\n",
       "       'B49', 'D', 'C22 C26', 'C106', 'C65', 'E36', 'C54',\n",
       "       'B57 B59 B63 B66', 'C7', 'E34', 'C32', 'B18', 'C124', 'C91', 'E40',\n",
       "       'T', 'C128', 'D37', 'B35', 'E50', 'C82', 'B96 B98', 'E10', 'E44',\n",
       "       'A34', 'C104', 'C111', 'C92', 'E38', 'D21', 'E12', 'E63', 'A14',\n",
       "       'B37', 'C30', 'D20', 'B79', 'E25', 'D46', 'B73', 'C95', 'B38',\n",
       "       'B39', 'B22', 'C86', 'C70', 'A16', 'C101', 'C68', 'A10', 'E68',\n",
       "       'B41', 'A20', 'D19', 'D50', 'D9', 'A23', 'B50', 'A26', 'D48',\n",
       "       'E58', 'C126', 'B71', 'B51 B53 B55', 'D49', 'B5', 'B20', 'F G63',\n",
       "       'C62 C64', 'E24', 'C90', 'C45', 'E8', 'B101', 'D45', 'C46', 'D30',\n",
       "       'E121', 'D11', 'E77', 'F38', 'B3', 'D6', 'B82 B84', 'D17', 'A36',\n",
       "       'B102', 'B69', 'E49', 'C47', 'D28', 'E17', 'A24', 'C50', 'B42',\n",
       "       'C148'], dtype=object)"
      ]
     },
     "execution_count": 3,
     "metadata": {},
     "output_type": "execute_result"
    }
   ],
   "source": [
    "pd.unique(data['Cabin'])"
   ]
  },
  {
   "cell_type": "code",
   "execution_count": 4,
   "metadata": {},
   "outputs": [],
   "source": [
    "def cabin_split(a):\n",
    "    if type(a) == np.float:\n",
    "        return np.nan\n",
    "    \n",
    "    if 'A' in a:\n",
    "        return 'A'\n",
    "    elif 'B' in a:\n",
    "        return 'B'\n",
    "    elif 'C' in a:\n",
    "        return 'C'\n",
    "    elif 'D' in a:\n",
    "        return 'D'\n",
    "    elif 'E' in a:\n",
    "        return 'E'\n",
    "    elif 'F' in a:\n",
    "        return 'F'\n",
    "    else:\n",
    "        return 'other'"
   ]
  },
  {
   "cell_type": "code",
   "execution_count": 5,
   "metadata": {
    "scrolled": true
   },
   "outputs": [],
   "source": [
    "data['Cabin'] = data['Cabin'].map(cabin_split)\n",
    "test['Cabin'] = test['Cabin'].map(cabin_split)"
   ]
  },
  {
   "cell_type": "code",
   "execution_count": 6,
   "metadata": {},
   "outputs": [],
   "source": [
    "data['Embarked'] = data['Embarked'].replace(np.nan, -999)\n",
    "test['Embarked'] = test['Embarked'].replace(np.nan, -999)"
   ]
  },
  {
   "cell_type": "code",
   "execution_count": 7,
   "metadata": {},
   "outputs": [
    {
     "data": {
      "text/html": [
       "<div>\n",
       "<style scoped>\n",
       "    .dataframe tbody tr th:only-of-type {\n",
       "        vertical-align: middle;\n",
       "    }\n",
       "\n",
       "    .dataframe tbody tr th {\n",
       "        vertical-align: top;\n",
       "    }\n",
       "\n",
       "    .dataframe thead th {\n",
       "        text-align: right;\n",
       "    }\n",
       "</style>\n",
       "<table border=\"1\" class=\"dataframe\">\n",
       "  <thead>\n",
       "    <tr style=\"text-align: right;\">\n",
       "      <th></th>\n",
       "      <th>PassengerId</th>\n",
       "      <th>Survived</th>\n",
       "      <th>Pclass</th>\n",
       "      <th>Age</th>\n",
       "      <th>SibSp</th>\n",
       "      <th>Parch</th>\n",
       "      <th>Fare</th>\n",
       "    </tr>\n",
       "    <tr>\n",
       "      <th>Embarked</th>\n",
       "      <th></th>\n",
       "      <th></th>\n",
       "      <th></th>\n",
       "      <th></th>\n",
       "      <th></th>\n",
       "      <th></th>\n",
       "      <th></th>\n",
       "    </tr>\n",
       "  </thead>\n",
       "  <tbody>\n",
       "    <tr>\n",
       "      <th>C</th>\n",
       "      <td>445.357143</td>\n",
       "      <td>0.553571</td>\n",
       "      <td>1.886905</td>\n",
       "      <td>30.814769</td>\n",
       "      <td>0.386905</td>\n",
       "      <td>0.363095</td>\n",
       "      <td>59.954144</td>\n",
       "    </tr>\n",
       "    <tr>\n",
       "      <th>Q</th>\n",
       "      <td>417.896104</td>\n",
       "      <td>0.389610</td>\n",
       "      <td>2.909091</td>\n",
       "      <td>28.089286</td>\n",
       "      <td>0.428571</td>\n",
       "      <td>0.168831</td>\n",
       "      <td>13.276030</td>\n",
       "    </tr>\n",
       "    <tr>\n",
       "      <th>S</th>\n",
       "      <td>449.527950</td>\n",
       "      <td>0.336957</td>\n",
       "      <td>2.350932</td>\n",
       "      <td>29.445397</td>\n",
       "      <td>0.571429</td>\n",
       "      <td>0.413043</td>\n",
       "      <td>27.079812</td>\n",
       "    </tr>\n",
       "  </tbody>\n",
       "</table>\n",
       "</div>"
      ],
      "text/plain": [
       "          PassengerId  Survived    Pclass        Age     SibSp     Parch  \\\n",
       "Embarked                                                                   \n",
       "C          445.357143  0.553571  1.886905  30.814769  0.386905  0.363095   \n",
       "Q          417.896104  0.389610  2.909091  28.089286  0.428571  0.168831   \n",
       "S          449.527950  0.336957  2.350932  29.445397  0.571429  0.413043   \n",
       "\n",
       "               Fare  \n",
       "Embarked             \n",
       "C         59.954144  \n",
       "Q         13.276030  \n",
       "S         27.079812  "
      ]
     },
     "execution_count": 7,
     "metadata": {},
     "output_type": "execute_result"
    }
   ],
   "source": [
    "d.groupby('Embarked').mean()"
   ]
  },
  {
   "cell_type": "code",
   "execution_count": 8,
   "metadata": {},
   "outputs": [],
   "source": [
    "def emb_map(a):\n",
    "    if a == 'C':\n",
    "        return 0.738462\n",
    "    elif a == 'Q':\n",
    "        return 0.389610\n",
    "    elif a == 'S':\n",
    "        return 0.336957\n",
    "    else:\n",
    "        return 0"
   ]
  },
  {
   "cell_type": "code",
   "execution_count": 9,
   "metadata": {},
   "outputs": [],
   "source": [
    "data['Embarked'] = data['Embarked'].map(emb_map)\n",
    "test['Embarked'] = test['Embarked'].map(emb_map)"
   ]
  },
  {
   "cell_type": "code",
   "execution_count": 10,
   "metadata": {},
   "outputs": [],
   "source": [
    "d['Cabin'] = d['Cabin'].map(cabin_split)"
   ]
  },
  {
   "cell_type": "code",
   "execution_count": 11,
   "metadata": {},
   "outputs": [
    {
     "data": {
      "text/html": [
       "<div>\n",
       "<style scoped>\n",
       "    .dataframe tbody tr th:only-of-type {\n",
       "        vertical-align: middle;\n",
       "    }\n",
       "\n",
       "    .dataframe tbody tr th {\n",
       "        vertical-align: top;\n",
       "    }\n",
       "\n",
       "    .dataframe thead th {\n",
       "        text-align: right;\n",
       "    }\n",
       "</style>\n",
       "<table border=\"1\" class=\"dataframe\">\n",
       "  <thead>\n",
       "    <tr style=\"text-align: right;\">\n",
       "      <th></th>\n",
       "      <th>PassengerId</th>\n",
       "      <th>Survived</th>\n",
       "      <th>Pclass</th>\n",
       "      <th>Age</th>\n",
       "      <th>SibSp</th>\n",
       "      <th>Parch</th>\n",
       "      <th>Fare</th>\n",
       "    </tr>\n",
       "    <tr>\n",
       "      <th>Cabin</th>\n",
       "      <th></th>\n",
       "      <th></th>\n",
       "      <th></th>\n",
       "      <th></th>\n",
       "      <th></th>\n",
       "      <th></th>\n",
       "      <th></th>\n",
       "    </tr>\n",
       "  </thead>\n",
       "  <tbody>\n",
       "    <tr>\n",
       "      <th>A</th>\n",
       "      <td>439.600000</td>\n",
       "      <td>0.466667</td>\n",
       "      <td>1.000000</td>\n",
       "      <td>44.833333</td>\n",
       "      <td>0.133333</td>\n",
       "      <td>0.133333</td>\n",
       "      <td>39.623887</td>\n",
       "    </tr>\n",
       "    <tr>\n",
       "      <th>B</th>\n",
       "      <td>521.808511</td>\n",
       "      <td>0.744681</td>\n",
       "      <td>1.000000</td>\n",
       "      <td>34.955556</td>\n",
       "      <td>0.361702</td>\n",
       "      <td>0.574468</td>\n",
       "      <td>113.505764</td>\n",
       "    </tr>\n",
       "    <tr>\n",
       "      <th>C</th>\n",
       "      <td>406.440678</td>\n",
       "      <td>0.593220</td>\n",
       "      <td>1.000000</td>\n",
       "      <td>36.086667</td>\n",
       "      <td>0.644068</td>\n",
       "      <td>0.474576</td>\n",
       "      <td>100.151341</td>\n",
       "    </tr>\n",
       "    <tr>\n",
       "      <th>D</th>\n",
       "      <td>475.939394</td>\n",
       "      <td>0.757576</td>\n",
       "      <td>1.121212</td>\n",
       "      <td>39.032258</td>\n",
       "      <td>0.424242</td>\n",
       "      <td>0.303030</td>\n",
       "      <td>57.244576</td>\n",
       "    </tr>\n",
       "    <tr>\n",
       "      <th>E</th>\n",
       "      <td>491.121212</td>\n",
       "      <td>0.757576</td>\n",
       "      <td>1.363636</td>\n",
       "      <td>38.116667</td>\n",
       "      <td>0.333333</td>\n",
       "      <td>0.333333</td>\n",
       "      <td>45.309470</td>\n",
       "    </tr>\n",
       "    <tr>\n",
       "      <th>F</th>\n",
       "      <td>390.500000</td>\n",
       "      <td>0.583333</td>\n",
       "      <td>2.333333</td>\n",
       "      <td>19.954545</td>\n",
       "      <td>0.500000</td>\n",
       "      <td>0.500000</td>\n",
       "      <td>18.391667</td>\n",
       "    </tr>\n",
       "    <tr>\n",
       "      <th>other</th>\n",
       "      <td>240.800000</td>\n",
       "      <td>0.400000</td>\n",
       "      <td>2.600000</td>\n",
       "      <td>20.800000</td>\n",
       "      <td>0.400000</td>\n",
       "      <td>1.000000</td>\n",
       "      <td>17.965000</td>\n",
       "    </tr>\n",
       "  </tbody>\n",
       "</table>\n",
       "</div>"
      ],
      "text/plain": [
       "       PassengerId  Survived    Pclass        Age     SibSp     Parch  \\\n",
       "Cabin                                                                   \n",
       "A       439.600000  0.466667  1.000000  44.833333  0.133333  0.133333   \n",
       "B       521.808511  0.744681  1.000000  34.955556  0.361702  0.574468   \n",
       "C       406.440678  0.593220  1.000000  36.086667  0.644068  0.474576   \n",
       "D       475.939394  0.757576  1.121212  39.032258  0.424242  0.303030   \n",
       "E       491.121212  0.757576  1.363636  38.116667  0.333333  0.333333   \n",
       "F       390.500000  0.583333  2.333333  19.954545  0.500000  0.500000   \n",
       "other   240.800000  0.400000  2.600000  20.800000  0.400000  1.000000   \n",
       "\n",
       "             Fare  \n",
       "Cabin              \n",
       "A       39.623887  \n",
       "B      113.505764  \n",
       "C      100.151341  \n",
       "D       57.244576  \n",
       "E       45.309470  \n",
       "F       18.391667  \n",
       "other   17.965000  "
      ]
     },
     "execution_count": 11,
     "metadata": {},
     "output_type": "execute_result"
    }
   ],
   "source": [
    "d.groupby('Cabin').mean()"
   ]
  },
  {
   "cell_type": "code",
   "execution_count": 12,
   "metadata": {},
   "outputs": [],
   "source": [
    "lbe = LabelEncoder()\n",
    "\n",
    "data['Sex'] = lbe.fit_transform(data['Sex'])\n",
    "test['Sex'] = lbe.fit_transform(test['Sex'])\n",
    "data['Cabin'] = lbe.fit_transform(data['Cabin'].replace(np.nan, 'nan'))\n",
    "test['Cabin'] = lbe.fit_transform(test['Cabin'].replace(np.nan, 'nan'))\n",
    "data['Cabin'] = data['Cabin'].replace(6, 999)\n",
    "test['Cabin'] = test['Cabin'].replace(6, 999)"
   ]
  },
  {
   "cell_type": "code",
   "execution_count": null,
   "metadata": {},
   "outputs": [],
   "source": [
    "pd.isna(data).sum()"
   ]
  },
  {
   "cell_type": "code",
   "execution_count": 14,
   "metadata": {
    "scrolled": true
   },
   "outputs": [],
   "source": [
    "from sklearn.experimental import enable_iterative_imputer\n",
    "from sklearn.impute import IterativeImputer\n",
    "\n",
    "imp = IterativeImputer(max_iter=10, random_state=0).fit(data)\n",
    "new_data = pd.DataFrame(imp.transform(data), columns=data.columns)\n",
    "\n",
    "imp = IterativeImputer(max_iter=10, random_state=0).fit(test)\n",
    "new_test = pd.DataFrame(imp.transform(test), columns=test.columns)"
   ]
  },
  {
   "cell_type": "code",
   "execution_count": null,
   "metadata": {},
   "outputs": [],
   "source": []
  },
  {
   "cell_type": "code",
   "execution_count": null,
   "metadata": {},
   "outputs": [],
   "source": [
    "sns.distplot(data['Age'].dropna())"
   ]
  },
  {
   "cell_type": "code",
   "execution_count": null,
   "metadata": {},
   "outputs": [],
   "source": [
    "d = data.copy()\n",
    "categorical = [\n",
    "    'Pclass', 'Sex', 'SibSp', 'Parch', 'Embarked'\n",
    "]"
   ]
  },
  {
   "cell_type": "code",
   "execution_count": null,
   "metadata": {},
   "outputs": [],
   "source": [
    "data['Age'] = pd.DataFrame(MinMaxScaler().fit_transform(data['Age'].values.reshape(-1,1)))\n",
    "data['Fare'] = pd.DataFrame(StandardScaler().fit_transform(data['Fare'].values.reshape(-1,1)))\n",
    "\n",
    "lbe = LabelEncoder()\n",
    "data['Sex'] = lbe.fit_transform(data['Sex'])\n",
    "sex = lbe.classes_\n",
    "data['Embarked'] = lbe.fit_transform(data['Embarked'])\n",
    "emb = lbe.classes_\n",
    "\n",
    "for c in categorical:\n",
    "    data = pd.concat([data, pd.get_dummies(data[c], prefix=c)], axis=1)\n",
    "    data = data.drop(c, axis=1)"
   ]
  },
  {
   "cell_type": "code",
   "execution_count": 15,
   "metadata": {},
   "outputs": [],
   "source": [
    "train_X, test_X, train_y, test_y = train_test_split(new_data, target, test_size=0.3, random_state=0, shuffle=True)"
   ]
  },
  {
   "cell_type": "code",
   "execution_count": 16,
   "metadata": {},
   "outputs": [],
   "source": [
    "kfold = KFold(n_splits=10, shuffle=True, random_state=0)"
   ]
  },
  {
   "cell_type": "code",
   "execution_count": 30,
   "metadata": {
    "scrolled": true
   },
   "outputs": [
    {
     "name": "stdout",
     "output_type": "stream",
     "text": [
      "0.3190984284532672\n"
     ]
    },
    {
     "name": "stderr",
     "output_type": "stream",
     "text": [
      "c:\\users\\young\\anaconda3\\envs\\study\\lib\\site-packages\\sklearn\\linear_model\\_logistic.py:939: ConvergenceWarning: lbfgs failed to converge (status=1):\n",
      "STOP: TOTAL NO. of ITERATIONS REACHED LIMIT.\n",
      "\n",
      "Increase the number of iterations (max_iter) or scale the data as shown in:\n",
      "    https://scikit-learn.org/stable/modules/preprocessing.html.\n",
      "Please also refer to the documentation for alternative solver options:\n",
      "    https://scikit-learn.org/stable/modules/linear_model.html#logistic-regression\n",
      "  extra_warning_msg=_LOGISTIC_SOLVER_CONVERGENCE_MSG)\n",
      "c:\\users\\young\\anaconda3\\envs\\study\\lib\\site-packages\\sklearn\\linear_model\\_logistic.py:939: ConvergenceWarning: lbfgs failed to converge (status=1):\n",
      "STOP: TOTAL NO. of ITERATIONS REACHED LIMIT.\n",
      "\n",
      "Increase the number of iterations (max_iter) or scale the data as shown in:\n",
      "    https://scikit-learn.org/stable/modules/preprocessing.html.\n",
      "Please also refer to the documentation for alternative solver options:\n",
      "    https://scikit-learn.org/stable/modules/linear_model.html#logistic-regression\n",
      "  extra_warning_msg=_LOGISTIC_SOLVER_CONVERGENCE_MSG)\n",
      "c:\\users\\young\\anaconda3\\envs\\study\\lib\\site-packages\\sklearn\\linear_model\\_logistic.py:939: ConvergenceWarning: lbfgs failed to converge (status=1):\n",
      "STOP: TOTAL NO. of ITERATIONS REACHED LIMIT.\n",
      "\n",
      "Increase the number of iterations (max_iter) or scale the data as shown in:\n",
      "    https://scikit-learn.org/stable/modules/preprocessing.html.\n",
      "Please also refer to the documentation for alternative solver options:\n",
      "    https://scikit-learn.org/stable/modules/linear_model.html#logistic-regression\n",
      "  extra_warning_msg=_LOGISTIC_SOLVER_CONVERGENCE_MSG)\n",
      "c:\\users\\young\\anaconda3\\envs\\study\\lib\\site-packages\\sklearn\\linear_model\\_logistic.py:939: ConvergenceWarning: lbfgs failed to converge (status=1):\n",
      "STOP: TOTAL NO. of ITERATIONS REACHED LIMIT.\n",
      "\n",
      "Increase the number of iterations (max_iter) or scale the data as shown in:\n",
      "    https://scikit-learn.org/stable/modules/preprocessing.html.\n",
      "Please also refer to the documentation for alternative solver options:\n",
      "    https://scikit-learn.org/stable/modules/linear_model.html#logistic-regression\n",
      "  extra_warning_msg=_LOGISTIC_SOLVER_CONVERGENCE_MSG)\n"
     ]
    }
   ],
   "source": [
    "## logistic\n",
    "acc = 0\n",
    "for tr_idx, val_idx in kfold.split(train_X):\n",
    "    tr_X, tr_y = train_X.iloc[tr_idx, :], train_y.iloc[tr_idx]\n",
    "    val_X, val_y = train_X.iloc[val_idx, :], train_y.iloc[val_idx]\n",
    "    lr = LogisticRegression(random_state=0).fit(tr_X, tr_y)\n",
    "    acc += accuracy_score(val_y, lr.predict(val_X))/10\n",
    "\n",
    "print(acc)"
   ]
  },
  {
   "cell_type": "code",
   "execution_count": 31,
   "metadata": {
    "scrolled": true
   },
   "outputs": [
    {
     "name": "stdout",
     "output_type": "stream",
     "text": [
      "0.7977460711331679\n"
     ]
    },
    {
     "name": "stderr",
     "output_type": "stream",
     "text": [
      "c:\\users\\young\\anaconda3\\envs\\study\\lib\\site-packages\\sklearn\\linear_model\\_logistic.py:939: ConvergenceWarning: lbfgs failed to converge (status=1):\n",
      "STOP: TOTAL NO. of ITERATIONS REACHED LIMIT.\n",
      "\n",
      "Increase the number of iterations (max_iter) or scale the data as shown in:\n",
      "    https://scikit-learn.org/stable/modules/preprocessing.html.\n",
      "Please also refer to the documentation for alternative solver options:\n",
      "    https://scikit-learn.org/stable/modules/linear_model.html#logistic-regression\n",
      "  extra_warning_msg=_LOGISTIC_SOLVER_CONVERGENCE_MSG)\n",
      "c:\\users\\young\\anaconda3\\envs\\study\\lib\\site-packages\\sklearn\\linear_model\\_logistic.py:939: ConvergenceWarning: lbfgs failed to converge (status=1):\n",
      "STOP: TOTAL NO. of ITERATIONS REACHED LIMIT.\n",
      "\n",
      "Increase the number of iterations (max_iter) or scale the data as shown in:\n",
      "    https://scikit-learn.org/stable/modules/preprocessing.html.\n",
      "Please also refer to the documentation for alternative solver options:\n",
      "    https://scikit-learn.org/stable/modules/linear_model.html#logistic-regression\n",
      "  extra_warning_msg=_LOGISTIC_SOLVER_CONVERGENCE_MSG)\n",
      "c:\\users\\young\\anaconda3\\envs\\study\\lib\\site-packages\\sklearn\\linear_model\\_logistic.py:939: ConvergenceWarning: lbfgs failed to converge (status=1):\n",
      "STOP: TOTAL NO. of ITERATIONS REACHED LIMIT.\n",
      "\n",
      "Increase the number of iterations (max_iter) or scale the data as shown in:\n",
      "    https://scikit-learn.org/stable/modules/preprocessing.html.\n",
      "Please also refer to the documentation for alternative solver options:\n",
      "    https://scikit-learn.org/stable/modules/linear_model.html#logistic-regression\n",
      "  extra_warning_msg=_LOGISTIC_SOLVER_CONVERGENCE_MSG)\n",
      "c:\\users\\young\\anaconda3\\envs\\study\\lib\\site-packages\\sklearn\\linear_model\\_logistic.py:939: ConvergenceWarning: lbfgs failed to converge (status=1):\n",
      "STOP: TOTAL NO. of ITERATIONS REACHED LIMIT.\n",
      "\n",
      "Increase the number of iterations (max_iter) or scale the data as shown in:\n",
      "    https://scikit-learn.org/stable/modules/preprocessing.html.\n",
      "Please also refer to the documentation for alternative solver options:\n",
      "    https://scikit-learn.org/stable/modules/linear_model.html#logistic-regression\n",
      "  extra_warning_msg=_LOGISTIC_SOLVER_CONVERGENCE_MSG)\n"
     ]
    }
   ],
   "source": [
    "## 조금 더 간단히 할 수 있음\n",
    "lr  = LogisticRegression(random_state=0)\n",
    "acc = cross_val_score(lr, train_X, train_y, cv=kfold, n_jobs=1, scoring='accuracy')\n",
    "print(np.mean(acc))"
   ]
  },
  {
   "cell_type": "code",
   "execution_count": 32,
   "metadata": {},
   "outputs": [
    {
     "name": "stderr",
     "output_type": "stream",
     "text": [
      "c:\\users\\young\\anaconda3\\envs\\study\\lib\\site-packages\\sklearn\\linear_model\\_logistic.py:939: ConvergenceWarning: lbfgs failed to converge (status=1):\n",
      "STOP: TOTAL NO. of ITERATIONS REACHED LIMIT.\n",
      "\n",
      "Increase the number of iterations (max_iter) or scale the data as shown in:\n",
      "    https://scikit-learn.org/stable/modules/preprocessing.html.\n",
      "Please also refer to the documentation for alternative solver options:\n",
      "    https://scikit-learn.org/stable/modules/linear_model.html#logistic-regression\n",
      "  extra_warning_msg=_LOGISTIC_SOLVER_CONVERGENCE_MSG)\n"
     ]
    }
   ],
   "source": [
    "lr = LogisticRegression(random_state=0).fit(train_X, train_y)"
   ]
  },
  {
   "cell_type": "code",
   "execution_count": 33,
   "metadata": {},
   "outputs": [],
   "source": [
    "## knn\n",
    "opt = []\n",
    "for n in range(2, 30):\n",
    "    knn = KNeighborsClassifier(n_neighbors=n)\n",
    "    acc = []\n",
    "    for tr_idx, val_idx in kfold.split(train_X):\n",
    "        tr_X, tr_y = train_X.iloc[tr_idx, :], train_y.iloc[tr_idx]\n",
    "        val_X, val_y = train_X.iloc[val_idx, :], train_y.iloc[val_idx]\n",
    "        knn.fit(tr_X, tr_y)\n",
    "        acc.append(accuracy_score(val_y, knn.predict(val_X)))\n",
    "    opt.append(np.mean(acc))"
   ]
  },
  {
   "cell_type": "code",
   "execution_count": 34,
   "metadata": {},
   "outputs": [
    {
     "name": "stdout",
     "output_type": "stream",
     "text": [
      "[0.6902088502894955, 0.688564929693962, 0.6837779156327544, 0.7046836228287842, 0.6790219189412738, 0.6886993382961125, 0.6790322580645162, 0.6951095947063689, 0.6966914805624482, 0.6870554177005791, 0.6918631100082714, 0.6982940446650123, 0.7015198511166253, 0.701509511993383, 0.6967121588089331, 0.6966914805624482, 0.6967018196856907, 0.7031327543424318, 0.7015508684863523, 0.7047559966914805, 0.6983250620347394, 0.6903225806451613, 0.6967328370554177, 0.6983147229114971, 0.70154052936311, 0.6935173697270471, 0.6951302729528536, 0.7015301902398676]\n"
     ]
    },
    {
     "data": {
      "image/png": "[encoded data removed]",
      "text/plain": [
       "<Figure size 432x288 with 1 Axes>"
      ]
     },
     "metadata": {
      "needs_background": "light"
     },
     "output_type": "display_data"
    }
   ],
   "source": [
    "plt.plot(opt)\n",
    "print(opt)\n"
   ]
  },
  {
   "cell_type": "code",
   "execution_count": 37,
   "metadata": {},
   "outputs": [],
   "source": [
    "## knn's n_neighbor = 3\n",
    "knn = KNeighborsClassifier(n_neighbors=4).fit(train_X, train_y)"
   ]
  },
  {
   "cell_type": "code",
   "execution_count": 38,
   "metadata": {},
   "outputs": [
    {
     "name": "stdout",
     "output_type": "stream",
     "text": [
      "0.797777088502895\n"
     ]
    }
   ],
   "source": [
    "## RF with no paramter tuning\n",
    "acc = 0\n",
    "for tr_idx, val_idx in kfold.split(train_X):\n",
    "    tr_X, tr_y = train_X.iloc[tr_idx, :], train_y.iloc[tr_idx]\n",
    "    val_X, val_y = train_X.iloc[val_idx, :], train_y.iloc[val_idx]\n",
    "    rf = RandomForestClassifier(random_state=0).fit(tr_X, tr_y)\n",
    "    acc += accuracy_score(val_y, rf.predict(val_X))/k\n",
    "\n",
    "print(acc)"
   ]
  },
  {
   "cell_type": "code",
   "execution_count": 39,
   "metadata": {},
   "outputs": [],
   "source": [
    "rf = RandomForestClassifier(random_state=0).fit(train_X, train_y)"
   ]
  },
  {
   "cell_type": "code",
   "execution_count": 20,
   "metadata": {},
   "outputs": [],
   "source": [
    "## xgboost\n",
    "xgb_bounds = {\n",
    "    'max_depth': (3, 12),\n",
    "    'subsample': (0.3, 1),\n",
    "    'colsample_bytree': (0.3, 1),\n",
    "    'reg_alpha': (0.1, 3),\n",
    "    'reg_lamda': (0.1, 3)\n",
    "}\n",
    "\n",
    "best_ns = []\n",
    "\n",
    "def bayes_xgb(max_depth, subsample, colsample_bytree, reg_alpha, reg_lamda):\n",
    "    global best_ns\n",
    "    params = {\n",
    "        'n_estimators': 1000,\n",
    "        'booster': 'gbtree',\n",
    "        'tree_method': 'hist',\n",
    "        'random_state': 0,\n",
    "        'n_jobs': -1,\n",
    "        'max_depth': int(max_depth),\n",
    "        'subsample': subsample,\n",
    "        'colsample_bytree': colsample_bytree,\n",
    "        'reg_alpha': reg_alpha,\n",
    "        'reg_lamda': reg_lamda\n",
    "    }\n",
    "    \n",
    "    acc = 0\n",
    "    best_n = 0\n",
    "    for tr_idx, val_idx in kfold.split(train_X):\n",
    "        tr_X, tr_y = train_X.iloc[tr_idx, :], train_y.iloc[tr_idx]\n",
    "        val_X, val_y = train_X.iloc[val_idx, :], train_y.iloc[val_idx]\n",
    "        clf = XGBClassifier(**params).fit(tr_X, tr_y, eval_metric = 'error', eval_set=[[val_X, val_y]], early_stopping_rounds=100, verbose=0)\n",
    "        acc += accuracy_score(val_y, clf.predict(val_X))/k\n",
    "        best_n += clf.best_iteration/k\n",
    "    best_ns.append(best_n)\n",
    "    return acc\n"
   ]
  },
  {
   "cell_type": "code",
   "execution_count": 21,
   "metadata": {},
   "outputs": [],
   "source": [
    "k = 4\n",
    "kfold = KFold(n_splits=k, shuffle=True, random_state=0)"
   ]
  },
  {
   "cell_type": "code",
   "execution_count": 22,
   "metadata": {
    "scrolled": true
   },
   "outputs": [
    {
     "name": "stdout",
     "output_type": "stream",
     "text": [
      "|   iter    |  target   | colsam... | max_depth | reg_alpha | reg_lamda | subsample |\n",
      "-------------------------------------------------------------------------------------\n",
      "| \u001b[0m 1       \u001b[0m | \u001b[0m 0.8283  \u001b[0m | \u001b[0m 0.6842  \u001b[0m | \u001b[0m 9.437   \u001b[0m | \u001b[0m 1.848   \u001b[0m | \u001b[0m 1.68    \u001b[0m | \u001b[0m 0.5966  \u001b[0m |\n",
      "| \u001b[95m 2       \u001b[0m | \u001b[95m 0.8315  \u001b[0m | \u001b[95m 0.7521  \u001b[0m | \u001b[95m 6.938   \u001b[0m | \u001b[95m 2.686   \u001b[0m | \u001b[95m 2.895   \u001b[0m | \u001b[95m 0.5684  \u001b[0m |\n",
      "| \u001b[0m 3       \u001b[0m | \u001b[0m 0.8267  \u001b[0m | \u001b[0m 0.8542  \u001b[0m | \u001b[0m 7.76    \u001b[0m | \u001b[0m 1.747   \u001b[0m | \u001b[0m 2.784   \u001b[0m | \u001b[0m 0.3497  \u001b[0m |\n",
      "| \u001b[0m 4       \u001b[0m | \u001b[0m 0.8091  \u001b[0m | \u001b[0m 0.361   \u001b[0m | \u001b[0m 3.182   \u001b[0m | \u001b[0m 2.515   \u001b[0m | \u001b[0m 2.357   \u001b[0m | \u001b[0m 0.909   \u001b[0m |\n",
      "| \u001b[95m 5       \u001b[0m | \u001b[95m 0.8347  \u001b[0m | \u001b[95m 0.985   \u001b[0m | \u001b[95m 10.19   \u001b[0m | \u001b[95m 1.438   \u001b[0m | \u001b[95m 2.364   \u001b[0m | \u001b[95m 0.3828  \u001b[0m |\n",
      "| \u001b[0m 6       \u001b[0m | \u001b[0m 0.8219  \u001b[0m | \u001b[0m 0.7479  \u001b[0m | \u001b[0m 4.29    \u001b[0m | \u001b[0m 2.84    \u001b[0m | \u001b[0m 1.613   \u001b[0m | \u001b[0m 0.5903  \u001b[0m |\n",
      "| \u001b[0m 7       \u001b[0m | \u001b[0m 0.8219  \u001b[0m | \u001b[0m 0.4852  \u001b[0m | \u001b[0m 9.968   \u001b[0m | \u001b[0m 1.423   \u001b[0m | \u001b[0m 1.748   \u001b[0m | \u001b[0m 0.3132  \u001b[0m |\n",
      "| \u001b[0m 8       \u001b[0m | \u001b[0m 0.8315  \u001b[0m | \u001b[0m 0.7323  \u001b[0m | \u001b[0m 8.509   \u001b[0m | \u001b[0m 1.889   \u001b[0m | \u001b[0m 2.837   \u001b[0m | \u001b[0m 0.7773  \u001b[0m |\n",
      "| \u001b[0m 9       \u001b[0m | \u001b[0m 0.8251  \u001b[0m | \u001b[0m 0.5517  \u001b[0m | \u001b[0m 6.933   \u001b[0m | \u001b[0m 2.123   \u001b[0m | \u001b[0m 0.2747  \u001b[0m | \u001b[0m 0.7667  \u001b[0m |\n",
      "| \u001b[95m 10      \u001b[0m | \u001b[95m 0.8347  \u001b[0m | \u001b[95m 0.7694  \u001b[0m | \u001b[95m 4.893   \u001b[0m | \u001b[95m 0.4739  \u001b[0m | \u001b[95m 1.015   \u001b[0m | \u001b[95m 0.5546  \u001b[0m |\n",
      "| \u001b[0m 11      \u001b[0m | \u001b[0m 0.8203  \u001b[0m | \u001b[0m 1.0     \u001b[0m | \u001b[0m 12.0    \u001b[0m | \u001b[0m 2.893   \u001b[0m | \u001b[0m 3.0     \u001b[0m | \u001b[0m 0.3131  \u001b[0m |\n",
      "| \u001b[0m 12      \u001b[0m | \u001b[0m 0.8267  \u001b[0m | \u001b[0m 0.9036  \u001b[0m | \u001b[0m 11.99   \u001b[0m | \u001b[0m 0.1026  \u001b[0m | \u001b[0m 0.1582  \u001b[0m | \u001b[0m 0.7815  \u001b[0m |\n",
      "| \u001b[0m 13      \u001b[0m | \u001b[0m 0.8331  \u001b[0m | \u001b[0m 0.906   \u001b[0m | \u001b[0m 3.0     \u001b[0m | \u001b[0m 0.1     \u001b[0m | \u001b[0m 0.1     \u001b[0m | \u001b[0m 0.3     \u001b[0m |\n",
      "| \u001b[0m 14      \u001b[0m | \u001b[0m 0.817   \u001b[0m | \u001b[0m 1.0     \u001b[0m | \u001b[0m 11.68   \u001b[0m | \u001b[0m 0.1     \u001b[0m | \u001b[0m 2.777   \u001b[0m | \u001b[0m 1.0     \u001b[0m |\n",
      "| \u001b[0m 15      \u001b[0m | \u001b[0m 0.8218  \u001b[0m | \u001b[0m 0.9282  \u001b[0m | \u001b[0m 8.129   \u001b[0m | \u001b[0m 0.1602  \u001b[0m | \u001b[0m 0.2216  \u001b[0m | \u001b[0m 0.9474  \u001b[0m |\n",
      "| \u001b[0m 16      \u001b[0m | \u001b[0m 0.8315  \u001b[0m | \u001b[0m 0.9763  \u001b[0m | \u001b[0m 3.1     \u001b[0m | \u001b[0m 0.1006  \u001b[0m | \u001b[0m 2.951   \u001b[0m | \u001b[0m 0.8944  \u001b[0m |\n",
      "| \u001b[0m 17      \u001b[0m | \u001b[0m 0.8267  \u001b[0m | \u001b[0m 1.0     \u001b[0m | \u001b[0m 11.62   \u001b[0m | \u001b[0m 3.0     \u001b[0m | \u001b[0m 0.1135  \u001b[0m | \u001b[0m 1.0     \u001b[0m |\n",
      "| \u001b[0m 18      \u001b[0m | \u001b[0m 0.8347  \u001b[0m | \u001b[0m 0.9964  \u001b[0m | \u001b[0m 3.62    \u001b[0m | \u001b[0m 0.5146  \u001b[0m | \u001b[0m 0.1522  \u001b[0m | \u001b[0m 0.9757  \u001b[0m |\n",
      "| \u001b[0m 19      \u001b[0m | \u001b[0m 0.8267  \u001b[0m | \u001b[0m 1.0     \u001b[0m | \u001b[0m 8.869   \u001b[0m | \u001b[0m 3.0     \u001b[0m | \u001b[0m 3.0     \u001b[0m | \u001b[0m 1.0     \u001b[0m |\n",
      "| \u001b[0m 20      \u001b[0m | \u001b[0m 0.8251  \u001b[0m | \u001b[0m 0.3     \u001b[0m | \u001b[0m 3.0     \u001b[0m | \u001b[0m 0.1     \u001b[0m | \u001b[0m 1.686   \u001b[0m | \u001b[0m 1.0     \u001b[0m |\n",
      "| \u001b[0m 21      \u001b[0m | \u001b[0m 0.8315  \u001b[0m | \u001b[0m 1.0     \u001b[0m | \u001b[0m 5.933   \u001b[0m | \u001b[0m 1.57    \u001b[0m | \u001b[0m 3.0     \u001b[0m | \u001b[0m 0.9813  \u001b[0m |\n",
      "| \u001b[0m 22      \u001b[0m | \u001b[0m 0.8219  \u001b[0m | \u001b[0m 0.9928  \u001b[0m | \u001b[0m 11.38   \u001b[0m | \u001b[0m 1.839   \u001b[0m | \u001b[0m 0.111   \u001b[0m | \u001b[0m 0.3297  \u001b[0m |\n",
      "| \u001b[0m 23      \u001b[0m | \u001b[0m 0.8267  \u001b[0m | \u001b[0m 1.0     \u001b[0m | \u001b[0m 11.93   \u001b[0m | \u001b[0m 1.579   \u001b[0m | \u001b[0m 1.138   \u001b[0m | \u001b[0m 1.0     \u001b[0m |\n",
      "| \u001b[0m 24      \u001b[0m | \u001b[0m 0.8251  \u001b[0m | \u001b[0m 0.4231  \u001b[0m | \u001b[0m 4.136   \u001b[0m | \u001b[0m 0.1     \u001b[0m | \u001b[0m 3.0     \u001b[0m | \u001b[0m 0.3     \u001b[0m |\n",
      "| \u001b[0m 25      \u001b[0m | \u001b[0m 0.8187  \u001b[0m | \u001b[0m 0.9902  \u001b[0m | \u001b[0m 6.641   \u001b[0m | \u001b[0m 2.951   \u001b[0m | \u001b[0m 1.469   \u001b[0m | \u001b[0m 0.9758  \u001b[0m |\n",
      "| \u001b[0m 26      \u001b[0m | \u001b[0m 0.8235  \u001b[0m | \u001b[0m 0.3     \u001b[0m | \u001b[0m 5.38    \u001b[0m | \u001b[0m 0.1     \u001b[0m | \u001b[0m 0.1     \u001b[0m | \u001b[0m 1.0     \u001b[0m |\n",
      "| \u001b[0m 27      \u001b[0m | \u001b[0m 0.8171  \u001b[0m | \u001b[0m 0.9806  \u001b[0m | \u001b[0m 3.849   \u001b[0m | \u001b[0m 1.232   \u001b[0m | \u001b[0m 2.173   \u001b[0m | \u001b[0m 0.3226  \u001b[0m |\n",
      "| \u001b[0m 28      \u001b[0m | \u001b[0m 0.8123  \u001b[0m | \u001b[0m 0.4384  \u001b[0m | \u001b[0m 3.064   \u001b[0m | \u001b[0m 2.911   \u001b[0m | \u001b[0m 0.1515  \u001b[0m | \u001b[0m 0.3618  \u001b[0m |\n",
      "| \u001b[0m 29      \u001b[0m | \u001b[0m 0.8123  \u001b[0m | \u001b[0m 0.3     \u001b[0m | \u001b[0m 9.437   \u001b[0m | \u001b[0m 3.0     \u001b[0m | \u001b[0m 3.0     \u001b[0m | \u001b[0m 0.3     \u001b[0m |\n",
      "| \u001b[0m 30      \u001b[0m | \u001b[0m 0.8251  \u001b[0m | \u001b[0m 0.9687  \u001b[0m | \u001b[0m 8.779   \u001b[0m | \u001b[0m 0.1952  \u001b[0m | \u001b[0m 2.721   \u001b[0m | \u001b[0m 0.9722  \u001b[0m |\n",
      "=====================================================================================\n",
      "Wall time: 5min 14s\n"
     ]
    }
   ],
   "source": [
    "%%time\n",
    "optimizer = BayesianOptimization(bayes_xgb, xgb_bounds, random_state=0)\n",
    "\n",
    "init_points = 10\n",
    "n_iter = 20\n",
    "\n",
    "optimizer.maximize(init_points=init_points, n_iter=n_iter)"
   ]
  },
  {
   "cell_type": "code",
   "execution_count": null,
   "metadata": {},
   "outputs": [],
   "source": [
    "import pickle\n",
    "with open('best_params.bin', 'rb') as f:\n",
    "    best_params = pickle.load(f)"
   ]
  },
  {
   "cell_type": "code",
   "execution_count": 23,
   "metadata": {},
   "outputs": [
    {
     "data": {
      "text/plain": [
       "{'colsample_bytree': 0.7694465087327116,\n",
       " 'max_depth': 4.893443049664568,\n",
       " 'reg_alpha': 0.47388626319907456,\n",
       " 'reg_lamda': 1.0147422176801333,\n",
       " 'subsample': 0.5545975396598358}"
      ]
     },
     "execution_count": 23,
     "metadata": {},
     "output_type": "execute_result"
    }
   ],
   "source": [
    "optimizer.max['params']"
   ]
  },
  {
   "cell_type": "code",
   "execution_count": 24,
   "metadata": {
    "scrolled": true
   },
   "outputs": [
    {
     "data": {
      "text/plain": [
       "[26.0,\n",
       " 69.75,\n",
       " 33.75,\n",
       " 66.0,\n",
       " 121.5,\n",
       " 29.5,\n",
       " 70.75,\n",
       " 9.0,\n",
       " 48.0,\n",
       " 42.75,\n",
       " 59.0,\n",
       " 26.5,\n",
       " 97.25,\n",
       " 16.0,\n",
       " 41.25,\n",
       " 11.0,\n",
       " 29.0,\n",
       " 13.0,\n",
       " 22.75,\n",
       " 54.75,\n",
       " 18.75,\n",
       " 38.25,\n",
       " 11.25,\n",
       " 69.25,\n",
       " 17.5,\n",
       " 47.25,\n",
       " 18.25,\n",
       " 50.0,\n",
       " 60.0,\n",
       " 25.25]"
      ]
     },
     "execution_count": 24,
     "metadata": {},
     "output_type": "execute_result"
    }
   ],
   "source": [
    "best_ns"
   ]
  },
  {
   "cell_type": "code",
   "execution_count": 25,
   "metadata": {
    "scrolled": true
   },
   "outputs": [],
   "source": [
    "best_params = {\n",
    "    'n_estimators': 40,\n",
    "    'booster': 'gbtree',\n",
    "    'tree_method': 'hist',\n",
    "    'random_state': 0,\n",
    "    'n_jobs': -1,\n",
    "    'max_depth': int(optimizer.max['params']['max_depth']),\n",
    "    'subsample': optimizer.max['params']['subsample'],\n",
    "    'colsample_bytree': optimizer.max['params']['colsample_bytree'],\n",
    "    'reg_alpha': optimizer.max['params']['reg_alpha'],\n",
    "    'reg_lamda': optimizer.max['params']['reg_lamda'],\n",
    "    'metric': 'error'\n",
    "}\n",
    "\n",
    "clf = XGBClassifier(**best_params).fit(train_X, train_y)\n"
   ]
  },
  {
   "cell_type": "code",
   "execution_count": 47,
   "metadata": {
    "scrolled": true
   },
   "outputs": [
    {
     "name": "stderr",
     "output_type": "stream",
     "text": [
      "c:\\users\\young\\anaconda3\\envs\\study\\lib\\site-packages\\sklearn\\linear_model\\_logistic.py:939: ConvergenceWarning: lbfgs failed to converge (status=1):\n",
      "STOP: TOTAL NO. of ITERATIONS REACHED LIMIT.\n",
      "\n",
      "Increase the number of iterations (max_iter) or scale the data as shown in:\n",
      "    https://scikit-learn.org/stable/modules/preprocessing.html.\n",
      "Please also refer to the documentation for alternative solver options:\n",
      "    https://scikit-learn.org/stable/modules/linear_model.html#logistic-regression\n",
      "  extra_warning_msg=_LOGISTIC_SOLVER_CONVERGENCE_MSG)\n",
      "c:\\users\\young\\anaconda3\\envs\\study\\lib\\site-packages\\sklearn\\linear_model\\_logistic.py:939: ConvergenceWarning: lbfgs failed to converge (status=1):\n",
      "STOP: TOTAL NO. of ITERATIONS REACHED LIMIT.\n",
      "\n",
      "Increase the number of iterations (max_iter) or scale the data as shown in:\n",
      "    https://scikit-learn.org/stable/modules/preprocessing.html.\n",
      "Please also refer to the documentation for alternative solver options:\n",
      "    https://scikit-learn.org/stable/modules/linear_model.html#logistic-regression\n",
      "  extra_warning_msg=_LOGISTIC_SOLVER_CONVERGENCE_MSG)\n",
      "c:\\users\\young\\anaconda3\\envs\\study\\lib\\site-packages\\sklearn\\linear_model\\_logistic.py:939: ConvergenceWarning: lbfgs failed to converge (status=1):\n",
      "STOP: TOTAL NO. of ITERATIONS REACHED LIMIT.\n",
      "\n",
      "Increase the number of iterations (max_iter) or scale the data as shown in:\n",
      "    https://scikit-learn.org/stable/modules/preprocessing.html.\n",
      "Please also refer to the documentation for alternative solver options:\n",
      "    https://scikit-learn.org/stable/modules/linear_model.html#logistic-regression\n",
      "  extra_warning_msg=_LOGISTIC_SOLVER_CONVERGENCE_MSG)\n",
      "c:\\users\\young\\anaconda3\\envs\\study\\lib\\site-packages\\sklearn\\linear_model\\_logistic.py:939: ConvergenceWarning: lbfgs failed to converge (status=1):\n",
      "STOP: TOTAL NO. of ITERATIONS REACHED LIMIT.\n",
      "\n",
      "Increase the number of iterations (max_iter) or scale the data as shown in:\n",
      "    https://scikit-learn.org/stable/modules/preprocessing.html.\n",
      "Please also refer to the documentation for alternative solver options:\n",
      "    https://scikit-learn.org/stable/modules/linear_model.html#logistic-regression\n",
      "  extra_warning_msg=_LOGISTIC_SOLVER_CONVERGENCE_MSG)\n"
     ]
    },
    {
     "name": "stdout",
     "output_type": "stream",
     "text": [
      "0.3152688172043011\n"
     ]
    }
   ],
   "source": [
    "## voting\n",
    "from sklearn.ensemble import VotingClassifier\n",
    "\n",
    "v_lr = LogisticRegression(random_state=0)\n",
    "v_knn = KNeighborsClassifier(n_neighbors=3)\n",
    "v_rf = RandomForestClassifier(max_depth=9, random_state=0)\n",
    "\n",
    "vclf = VotingClassifier(estimators=[\n",
    "    ('lr', v_lr),\n",
    "    ('knn', v_knn),\n",
    "    ('rf', v_rf)\n",
    "], voting='soft')\n",
    "\n",
    "acc = 0\n",
    "for tr_idx, val_idx in kfold.split(train_X):\n",
    "    tr_X, tr_y = train_X.iloc[tr_idx, :], train_y.iloc[tr_idx]\n",
    "    val_X, val_y = train_X.iloc[val_idx, :], train_y.iloc[val_idx]\n",
    "    vclf.fit(tr_X, tr_y)\n",
    "    acc += accuracy_score(val_y, vclf.predict(val_X))/10\n",
    "\n",
    "print(acc)"
   ]
  },
  {
   "cell_type": "markdown",
   "metadata": {},
   "source": [
    "개별 모델들과 앙상블모형을 통틀어 xgboost가 가장 높은 성능을 보여줄 것으로 기대된다.  \n",
    "실제 test셋의 결과는 어떨까?\n"
   ]
  },
  {
   "cell_type": "code",
   "execution_count": 48,
   "metadata": {},
   "outputs": [
    {
     "name": "stdout",
     "output_type": "stream",
     "text": [
      "lr: 0.8059701492537313\n",
      "knn: 0.6977611940298507\n",
      "rf: 0.8134328358208955\n",
      "xgboost: 0.8283582089552238\n",
      "voting: 0.8022388059701493\n"
     ]
    }
   ],
   "source": [
    "print('lr:', accuracy_score(test_y, lr.predict(test_X)))\n",
    "print('knn:', accuracy_score(test_y, knn.predict(test_X)))\n",
    "print('rf:', accuracy_score(test_y, rf.predict(test_X)))\n",
    "print('xgboost:', accuracy_score(test_y, clf.predict(test_X)))\n",
    "print('voting:', accuracy_score(test_y, vclf.predict(test_X)))"
   ]
  },
  {
   "cell_type": "code",
   "execution_count": null,
   "metadata": {},
   "outputs": [],
   "source": [
    "## nn 및 stacking"
   ]
  },
  {
   "cell_type": "code",
   "execution_count": null,
   "metadata": {},
   "outputs": [],
   "source": [
    "## nn\n",
    "input_layer = layers.Input(shape=((train_X.shape[1], )))\n",
    "\n",
    "layer1 = layers.Dense(64, activation='relu')(input_layer)\n",
    "# drop1 = layers.Dropout(0.1)(layer1)\n",
    "layer2 = layers.Dense(32, activation='relu')(layer1)\n",
    "\n",
    "out_layer = layers.Dense(1, activation='sigmoid')(layer2)\n",
    "\n",
    "model = models.Model(input_layer, out_layer)"
   ]
  },
  {
   "cell_type": "code",
   "execution_count": null,
   "metadata": {},
   "outputs": [],
   "source": [
    "model.compile(optimizer='adam',\n",
    "             loss='binary_crossentropy',\n",
    "             metrics=['acc'])"
   ]
  },
  {
   "cell_type": "code",
   "execution_count": null,
   "metadata": {},
   "outputs": [],
   "source": [
    "cp = ModelCheckpoint('best_model.h5', monitor='val_loss', mode='min', save_best_only=True)\n",
    "es = EarlyStopping(monitor='val_loss', patience=20, restore_best_weights=True, verbose=1)"
   ]
  },
  {
   "cell_type": "code",
   "execution_count": null,
   "metadata": {
    "scrolled": true
   },
   "outputs": [],
   "source": [
    "model.fit(train_X, train_y,\n",
    "          epochs=200,\n",
    "          validation_split=0.3,\n",
    "          callbacks=[es]\n",
    "         )"
   ]
  },
  {
   "cell_type": "code",
   "execution_count": null,
   "metadata": {},
   "outputs": [],
   "source": [
    "model.evaluate(test_X, test_y)"
   ]
  },
  {
   "cell_type": "code",
   "execution_count": null,
   "metadata": {},
   "outputs": [],
   "source": [
    "## self cv 예시\n",
    "from keras.wrappers.scikit_learn import KerasClassifier\n",
    "\n",
    "def make_model():\n",
    "    K.clear_session()\n",
    "    input_layer = layers.Input(shape=((train_X.shape[1], )))\n",
    "\n",
    "    layer1 = layers.Dense(32, activation='relu')(input_layer)\n",
    "    drop1 = layers.Dropout(0.1)(layer1)\n",
    "    layer2 = layers.Dense(16, activation='relu')(drop1)\n",
    "    \n",
    "    out_layer = layers.Dense(1, activation='sigmoid')(layer2)\n",
    "\n",
    "    model = models.Model(input_layer, out_layer)\n",
    "    \n",
    "    model.compile(optimizer='adam',\n",
    "             loss='binary_crossentropy',\n",
    "             metrics=['acc'])\n",
    "    \n",
    "    return model"
   ]
  },
  {
   "cell_type": "code",
   "execution_count": null,
   "metadata": {
    "scrolled": true
   },
   "outputs": [],
   "source": [
    "acc = 0\n",
    "for tr_idx, val_idx in kfold.split(train_X):\n",
    "    tr_X, tr_y = train_X.iloc[tr_idx, :], train_y.iloc[tr_idx]\n",
    "    val_X, val_y = train_X.iloc[val_idx, :], train_y.iloc[val_idx]\n",
    "    model = make_model()\n",
    "    model.fit(tr_X, tr_y, \n",
    "            epochs=40, \n",
    "#           callbacks = [es], \n",
    "            validation_data=[val_X, val_y],\n",
    "            verbose=0)\n",
    "    acc += model.evaluate(val_X, val_y)[1]/10\n",
    "\n",
    "print(acc)\n"
   ]
  },
  {
   "cell_type": "code",
   "execution_count": null,
   "metadata": {},
   "outputs": [],
   "source": [
    "acc"
   ]
  },
  {
   "cell_type": "code",
   "execution_count": null,
   "metadata": {},
   "outputs": [],
   "source": [
    "model.evaluate(test_X, test_y)"
   ]
  },
  {
   "cell_type": "code",
   "execution_count": null,
   "metadata": {},
   "outputs": [],
   "source": [
    "## stacking"
   ]
  },
  {
   "cell_type": "code",
   "execution_count": null,
   "metadata": {},
   "outputs": [],
   "source": [
    "## meta_training\n",
    "meta_train = pd.DataFrame()\n",
    "meta_train['lr'] = list(zip(*lr.predict_proba(train_X)))[0]\n",
    "meta_train['knn'] = list(zip(*knn.predict_proba(train_X)))[0]\n",
    "meta_train['rf'] = list(zip(*rf.predict_proba(train_X)))[0]\n",
    "meta_train['xgboost'] = list(zip(*clf.predict_proba(train_X)))[0]\n",
    "meta_train['voting'] = list(zip(*vclf.predict_proba(train_X)))[0]\n",
    "\n",
    "## meta_test\n",
    "meta_test = pd.DataFrame()\n",
    "meta_test['lr'] = list(zip(*lr.predict_proba(test_X)))[0]\n",
    "meta_test['knn'] = list(zip(*knn.predict_proba(test_X)))[0]\n",
    "meta_test['rf'] = list(zip(*rf.predict_proba(test_X)))[0]\n",
    "meta_test['xgboost'] = list(zip(*clf.predict_proba(test_X)))[0]\n",
    "meta_test['voting'] = list(zip(*vclf.predict_proba(test_X)))[0]\n",
    "# knn\n",
    "# rf\n",
    "# clf\n",
    "# vclf"
   ]
  },
  {
   "cell_type": "code",
   "execution_count": null,
   "metadata": {},
   "outputs": [],
   "source": [
    "meta_train"
   ]
  },
  {
   "cell_type": "code",
   "execution_count": null,
   "metadata": {},
   "outputs": [],
   "source": [
    "from keras import optimizers\n",
    "def stack_net():\n",
    "    K.clear_session()\n",
    "    \n",
    "    input_layer = layers.Input(shape=((meta_train.shape[1], )))\n",
    "\n",
    "    layer1 = layers.Dense(4, activation='relu')(input_layer)\n",
    "#     layer2 = layers.Dense(8, activation='relu')(layer1)\n",
    "    \n",
    "    out_layer = layers.Dense(1, activation='sigmoid')(layer1)\n",
    "\n",
    "    model = models.Model(input_layer, out_layer)\n",
    "    \n",
    "    model.compile(optimizer=optimizers.Adam(lr=0.001),\n",
    "             loss='binary_crossentropy',\n",
    "             metrics=['acc'])\n",
    "    \n",
    "    return model"
   ]
  },
  {
   "cell_type": "code",
   "execution_count": null,
   "metadata": {
    "scrolled": true
   },
   "outputs": [],
   "source": [
    "es = EarlyStopping(monitor='val_acc', patience=20, restore_best_weights=True, verbose=1)\n",
    "stack = stack_net()\n",
    "stack.fit(meta_train, train_y,\n",
    "          epochs=200,\n",
    "          validation_split = 0.3,\n",
    "          callbacks = [es]\n",
    "         )"
   ]
  },
  {
   "cell_type": "code",
   "execution_count": null,
   "metadata": {},
   "outputs": [],
   "source": [
    "stack.evaluate(meta_test, test_y)"
   ]
  },
  {
   "cell_type": "code",
   "execution_count": null,
   "metadata": {},
   "outputs": [],
   "source": [
    "print('lr:', accuracy_score(test_y, lr.predict(test_X)))\n",
    "print('knn:', accuracy_score(test_y, knn.predict(test_X)))\n",
    "print('rf:', accuracy_score(test_y, rf.predict(test_X)))\n",
    "print('xgboost:', accuracy_score(test_y, clf.predict(test_X)))\n",
    "print('voting:', accuracy_score(test_y, vclf.predict(test_X)))\n",
    "print('nn:', model.evaluate(test_X, test_y)[1])\n",
    "print('stacking:', stack.evaluate(meta_test, test_y)[1])"
   ]
  },
  {
   "cell_type": "code",
   "execution_count": 27,
   "metadata": {},
   "outputs": [
    {
     "data": {
      "text/plain": [
       "array([0, 0, 0, 0, 1, 0, 0, 0, 1, 0, 0, 0, 1, 0, 1, 1, 0, 0, 0, 0, 0, 0,\n",
       "       1, 0, 1, 0, 1, 0, 0, 1, 0, 0, 0, 0, 1, 0, 1, 1, 0, 1, 0, 1, 0, 1,\n",
       "       1, 0, 0, 1, 1, 0, 0, 0, 1, 1, 1, 0, 0, 0, 0, 1, 0, 0, 0, 1, 1, 1,\n",
       "       1, 0, 1, 1, 1, 0, 0, 1, 1, 0, 0, 1, 0, 1, 1, 0, 0, 0, 1, 1, 1, 1,\n",
       "       1, 1, 1, 0, 1, 0, 0, 0, 1, 0, 1, 0, 1, 0, 1, 0, 1, 0, 0, 1, 0, 0,\n",
       "       0, 1, 1, 1, 1, 0, 1, 1, 0, 1, 1, 0, 1, 0, 1, 1, 0, 1, 0, 0, 0, 0,\n",
       "       1, 1, 0, 0, 0, 0, 0, 0, 0, 1, 0, 0, 0, 0, 1, 0, 1, 0, 1, 1, 0, 0,\n",
       "       0, 0, 1, 1, 0, 0, 1, 1, 1, 0, 0, 0, 0, 0, 1, 1, 0, 0, 0, 1, 0, 1,\n",
       "       1, 0, 1, 1, 0, 1, 1, 1, 1, 0, 1, 0, 0, 0, 0, 1, 0, 0, 1, 0, 1, 1,\n",
       "       0, 1, 1, 1, 0, 1, 0, 1, 0, 0, 1, 0, 0, 0, 0, 1, 0, 0, 1, 0, 1, 0,\n",
       "       1, 0, 1, 0, 1, 1, 0, 1, 0, 0, 1, 1, 0, 1, 0, 0, 0, 0, 1, 1, 1, 1,\n",
       "       1, 0, 1, 0, 1, 0, 1, 1, 1, 0, 1, 0, 0, 0, 1, 0, 1, 0, 0, 0, 1, 1,\n",
       "       0, 0, 1, 0, 1, 0, 0, 1, 1, 1, 1, 1, 0, 0, 0, 0, 0, 1, 1, 1, 1, 0,\n",
       "       0, 0, 1, 0, 1, 0, 1, 0, 0, 0, 1, 1, 0, 0, 0, 1, 0, 0, 1, 1, 0, 1,\n",
       "       0, 0, 0, 0, 0, 0, 1, 1, 0, 0, 0, 0, 0, 0, 0, 0, 1, 0, 1, 0, 0, 0,\n",
       "       1, 0, 1, 1, 0, 0, 0, 0, 0, 1, 0, 0, 1, 1, 1, 1, 0, 0, 0, 1, 1, 0,\n",
       "       0, 0, 1, 0, 1, 0, 1, 0, 0, 1, 1, 0, 1, 0, 1, 1, 1, 0, 0, 1, 0, 0,\n",
       "       1, 1, 0, 0, 0, 0, 1, 0, 1, 1, 1, 1, 0, 0, 0, 0, 0, 1, 0, 0, 0, 1,\n",
       "       0, 1, 0, 0, 1, 0, 1, 0, 0, 0, 0, 0, 1, 1, 1, 1, 0, 0, 1, 0, 0, 1],\n",
       "      dtype=int64)"
      ]
     },
     "execution_count": 27,
     "metadata": {},
     "output_type": "execute_result"
    }
   ],
   "source": [
    "clf.predict(test)"
   ]
  },
  {
   "cell_type": "code",
   "execution_count": 53,
   "metadata": {
    "scrolled": true
   },
   "outputs": [],
   "source": [
    "submission['Survived'] = clf.predict(new_test)"
   ]
  },
  {
   "cell_type": "code",
   "execution_count": 54,
   "metadata": {},
   "outputs": [],
   "source": [
    "submission.to_csv('sub5.csv', index=False)"
   ]
  },
  {
   "cell_type": "code",
   "execution_count": 41,
   "metadata": {},
   "outputs": [
    {
     "data": {
      "text/html": [
       "<div>\n",
       "<style scoped>\n",
       "    .dataframe tbody tr th:only-of-type {\n",
       "        vertical-align: middle;\n",
       "    }\n",
       "\n",
       "    .dataframe tbody tr th {\n",
       "        vertical-align: top;\n",
       "    }\n",
       "\n",
       "    .dataframe thead th {\n",
       "        text-align: right;\n",
       "    }\n",
       "</style>\n",
       "<table border=\"1\" class=\"dataframe\">\n",
       "  <thead>\n",
       "    <tr style=\"text-align: right;\">\n",
       "      <th></th>\n",
       "      <th>Pclass</th>\n",
       "      <th>Sex</th>\n",
       "      <th>Age</th>\n",
       "      <th>SibSp</th>\n",
       "      <th>Parch</th>\n",
       "      <th>Fare</th>\n",
       "      <th>Cabin</th>\n",
       "      <th>Embarked</th>\n",
       "    </tr>\n",
       "  </thead>\n",
       "  <tbody>\n",
       "    <tr>\n",
       "      <th>0</th>\n",
       "      <td>3</td>\n",
       "      <td>1</td>\n",
       "      <td>34.5</td>\n",
       "      <td>0</td>\n",
       "      <td>0</td>\n",
       "      <td>7.8292</td>\n",
       "      <td>999</td>\n",
       "      <td>0.389610</td>\n",
       "    </tr>\n",
       "    <tr>\n",
       "      <th>1</th>\n",
       "      <td>3</td>\n",
       "      <td>0</td>\n",
       "      <td>47.0</td>\n",
       "      <td>1</td>\n",
       "      <td>0</td>\n",
       "      <td>7.0000</td>\n",
       "      <td>999</td>\n",
       "      <td>0.336957</td>\n",
       "    </tr>\n",
       "    <tr>\n",
       "      <th>2</th>\n",
       "      <td>2</td>\n",
       "      <td>1</td>\n",
       "      <td>62.0</td>\n",
       "      <td>0</td>\n",
       "      <td>0</td>\n",
       "      <td>9.6875</td>\n",
       "      <td>999</td>\n",
       "      <td>0.389610</td>\n",
       "    </tr>\n",
       "    <tr>\n",
       "      <th>3</th>\n",
       "      <td>3</td>\n",
       "      <td>1</td>\n",
       "      <td>27.0</td>\n",
       "      <td>0</td>\n",
       "      <td>0</td>\n",
       "      <td>8.6625</td>\n",
       "      <td>999</td>\n",
       "      <td>0.336957</td>\n",
       "    </tr>\n",
       "    <tr>\n",
       "      <th>4</th>\n",
       "      <td>3</td>\n",
       "      <td>0</td>\n",
       "      <td>22.0</td>\n",
       "      <td>1</td>\n",
       "      <td>1</td>\n",
       "      <td>12.2875</td>\n",
       "      <td>999</td>\n",
       "      <td>0.336957</td>\n",
       "    </tr>\n",
       "    <tr>\n",
       "      <th>...</th>\n",
       "      <td>...</td>\n",
       "      <td>...</td>\n",
       "      <td>...</td>\n",
       "      <td>...</td>\n",
       "      <td>...</td>\n",
       "      <td>...</td>\n",
       "      <td>...</td>\n",
       "      <td>...</td>\n",
       "    </tr>\n",
       "    <tr>\n",
       "      <th>413</th>\n",
       "      <td>3</td>\n",
       "      <td>1</td>\n",
       "      <td>NaN</td>\n",
       "      <td>0</td>\n",
       "      <td>0</td>\n",
       "      <td>8.0500</td>\n",
       "      <td>999</td>\n",
       "      <td>0.336957</td>\n",
       "    </tr>\n",
       "    <tr>\n",
       "      <th>414</th>\n",
       "      <td>1</td>\n",
       "      <td>0</td>\n",
       "      <td>39.0</td>\n",
       "      <td>0</td>\n",
       "      <td>0</td>\n",
       "      <td>108.9000</td>\n",
       "      <td>2</td>\n",
       "      <td>0.738462</td>\n",
       "    </tr>\n",
       "    <tr>\n",
       "      <th>415</th>\n",
       "      <td>3</td>\n",
       "      <td>1</td>\n",
       "      <td>38.5</td>\n",
       "      <td>0</td>\n",
       "      <td>0</td>\n",
       "      <td>7.2500</td>\n",
       "      <td>999</td>\n",
       "      <td>0.336957</td>\n",
       "    </tr>\n",
       "    <tr>\n",
       "      <th>416</th>\n",
       "      <td>3</td>\n",
       "      <td>1</td>\n",
       "      <td>NaN</td>\n",
       "      <td>0</td>\n",
       "      <td>0</td>\n",
       "      <td>8.0500</td>\n",
       "      <td>999</td>\n",
       "      <td>0.336957</td>\n",
       "    </tr>\n",
       "    <tr>\n",
       "      <th>417</th>\n",
       "      <td>3</td>\n",
       "      <td>1</td>\n",
       "      <td>NaN</td>\n",
       "      <td>1</td>\n",
       "      <td>1</td>\n",
       "      <td>22.3583</td>\n",
       "      <td>999</td>\n",
       "      <td>0.738462</td>\n",
       "    </tr>\n",
       "  </tbody>\n",
       "</table>\n",
       "<p>418 rows × 8 columns</p>\n",
       "</div>"
      ],
      "text/plain": [
       "     Pclass  Sex   Age  SibSp  Parch      Fare  Cabin  Embarked\n",
       "0         3    1  34.5      0      0    7.8292    999  0.389610\n",
       "1         3    0  47.0      1      0    7.0000    999  0.336957\n",
       "2         2    1  62.0      0      0    9.6875    999  0.389610\n",
       "3         3    1  27.0      0      0    8.6625    999  0.336957\n",
       "4         3    0  22.0      1      1   12.2875    999  0.336957\n",
       "..      ...  ...   ...    ...    ...       ...    ...       ...\n",
       "413       3    1   NaN      0      0    8.0500    999  0.336957\n",
       "414       1    0  39.0      0      0  108.9000      2  0.738462\n",
       "415       3    1  38.5      0      0    7.2500    999  0.336957\n",
       "416       3    1   NaN      0      0    8.0500    999  0.336957\n",
       "417       3    1   NaN      1      1   22.3583    999  0.738462\n",
       "\n",
       "[418 rows x 8 columns]"
      ]
     },
     "execution_count": 41,
     "metadata": {},
     "output_type": "execute_result"
    }
   ],
   "source": [
    "test"
   ]
  },
  {
   "cell_type": "code",
   "execution_count": null,
   "metadata": {},
   "outputs": [],
   "source": []
  }
 ],
 "metadata": {
  "kernelspec": {
   "display_name": "Python 3",
   "language": "python",
   "name": "python3"
  },
  "language_info": {
   "codemirror_mode": {
    "name": "ipython",
    "version": 3
   },
   "file_extension": ".py",
   "mimetype": "text/x-python",
   "name": "python",
   "nbconvert_exporter": "python",
   "pygments_lexer": "ipython3",
   "version": "3.7.4"
  },
  "toc": {
   "base_numbering": 1,
   "nav_menu": {},
   "number_sections": true,
   "sideBar": true,
   "skip_h1_title": false,
   "title_cell": "Table of Contents",
   "title_sidebar": "Contents",
   "toc_cell": false,
   "toc_position": {},
   "toc_section_display": true,
   "toc_window_display": false
  }
 },
 "nbformat": 4,
 "nbformat_minor": 2
}
